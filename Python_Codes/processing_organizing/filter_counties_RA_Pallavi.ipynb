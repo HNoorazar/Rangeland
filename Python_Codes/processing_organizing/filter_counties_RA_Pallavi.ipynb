{
 "cells": [
  {
   "cell_type": "markdown",
   "id": "ad36d80c",
   "metadata": {},
   "source": [
    "In this notebook we filter counties that have enough rangeland area and \n",
    "\n",
    "\n",
    "\n",
    "-------------------------------------------------------\n",
    "**Pallavi's Notes:**\n",
    "\n",
    "The final list of the counties was shortlisted after considering the criterion\n",
    "\n",
    "\n",
    "- (Area > 50,000 acres) or (Area <= 50,000 and coverage% >= 10%), where \n",
    "\n",
    "Area = Area of county covered by rangelands (in acres) \n",
    "\n",
    "and \n",
    "\n",
    "\n",
    "Coverage % = Area of county covered by Rangelands Total area of the county * 100\n",
    "\n",
    "• The total number of counties considered: 896+48 = 944.\n",
    "• This accounts for 40% of the total counties which have at least 1 pixel of their area\n",
    "being covered by rangeland.\n",
    "\n",
    "-------------------------------------------------------\n",
    "\n",
    "I do not know what she is saying in terms of rectangles. I will use the CSV file provided to me by Min.\n"
   ]
  },
  {
   "cell_type": "code",
   "execution_count": 1,
   "id": "7f291bb0",
   "metadata": {},
   "outputs": [],
   "source": [
    "import shutup\n",
    "\n",
    "shutup.please()\n",
    "\n",
    "import pandas as pd\n",
    "import numpy as np\n",
    "from datetime import datetime\n",
    "import os, os.path, pickle, sys\n",
    "import seaborn as sns\n",
    "\n",
    "import matplotlib\n",
    "import matplotlib.pyplot as plt\n",
    "\n",
    "from sklearn import preprocessing\n",
    "import statistics\n",
    "import statsmodels.api as sm\n",
    "\n",
    "sys.path.append(\"/Users/hn/Documents/00_GitHub/Rangeland/Python_Codes/\")\n",
    "import rangeland_core as rc"
   ]
  },
  {
   "cell_type": "code",
   "execution_count": 2,
   "id": "00e14813",
   "metadata": {},
   "outputs": [],
   "source": [
    "data_dir_base = \"/Users/hn/Documents/01_research_data/RangeLand/Data/\"\n",
    "census_population_dir = data_dir_base + \"census/\"\n",
    "# Shannon_data_dir = data_dir_base + \"Shannon_Data/\"\n",
    "# USDA_data_dir = data_dir_base + \"/NASS_downloads/\"\n",
    "param_dir = data_dir_base + \"parameters/\"\n",
    "Min_data_base = data_dir_base + \"Min_Data/\"\n",
    "reOrganized_dir = data_dir_base + \"reOrganized/\""
   ]
  },
  {
   "cell_type": "code",
   "execution_count": 3,
   "id": "de3ce808",
   "metadata": {},
   "outputs": [
    {
     "name": "stdout",
     "output_type": "stream",
     "text": [
      "This is \u001b[1ma_bold_text\u001b[0;0m!\n"
     ]
    }
   ],
   "source": [
    "# for bold print\n",
    "start_b = \"\\033[1m\"\n",
    "end_b = \"\\033[0;0m\"\n",
    "print (\"This is \" + start_b + \"a_bold_text\" + end_b + \"!\")"
   ]
  },
  {
   "cell_type": "code",
   "execution_count": 4,
   "id": "a4b82e62",
   "metadata": {},
   "outputs": [],
   "source": [
    "SoI = [\n",
    "    \"Alabama\",\n",
    "    \"Arizona\",\n",
    "    \"Arkansas\",\n",
    "    \"California\",\n",
    "    \"Colorado\",\n",
    "    \"Florida\",\n",
    "    \"Georgia\",\n",
    "    \"Idaho\",\n",
    "    \"Illinois\",\n",
    "    \"Iowa\",\n",
    "    \"Kansas\",\n",
    "    \"Kentucky\",\n",
    "    \"Louisiana\",\n",
    "    \"Mississippi\",\n",
    "    \"Missouri\",\n",
    "    \"Montana\",\n",
    "    \"Nebraska\",\n",
    "    \"Nevada\",\n",
    "    \"New Mexico\",\n",
    "    \"North Dakota\",\n",
    "    \"Oklahoma\",\n",
    "    \"Oregon\",\n",
    "    \"South Dakota\",\n",
    "    \"Tennessee\",\n",
    "    \"Texas\",\n",
    "    \"Utah\",\n",
    "    \"Virginia\",\n",
    "    \"Washington\",\n",
    "    \"Wyoming\",\n",
    "]\n",
    "\n",
    "abb_dict = pd.read_pickle(param_dir + \"state_abbreviations.sav\")\n",
    "SoI_abb = []\n",
    "for x in SoI:\n",
    "    SoI_abb = SoI_abb + [abb_dict[\"full_2_abb\"][x]]"
   ]
  },
  {
   "cell_type": "code",
   "execution_count": 5,
   "id": "cd4e7ef2",
   "metadata": {},
   "outputs": [
    {
     "name": "stdout",
     "output_type": "stream",
     "text": [
      "len(RA.county_fips.unique()) = 2379\n"
     ]
    },
    {
     "data": {
      "text/html": [
       "<div>\n",
       "<style scoped>\n",
       "    .dataframe tbody tr th:only-of-type {\n",
       "        vertical-align: middle;\n",
       "    }\n",
       "\n",
       "    .dataframe tbody tr th {\n",
       "        vertical-align: top;\n",
       "    }\n",
       "\n",
       "    .dataframe thead th {\n",
       "        text-align: right;\n",
       "    }\n",
       "</style>\n",
       "<table border=\"1\" class=\"dataframe\">\n",
       "  <thead>\n",
       "    <tr style=\"text-align: right;\">\n",
       "      <th></th>\n",
       "      <th>county_fips</th>\n",
       "      <th>rangeland_acre</th>\n",
       "      <th>county_area_acre</th>\n",
       "      <th>rangeland_fraction</th>\n",
       "    </tr>\n",
       "  </thead>\n",
       "  <tbody>\n",
       "    <tr>\n",
       "      <th>0</th>\n",
       "      <td>01003</td>\n",
       "      <td>13037.43</td>\n",
       "      <td>1060302.72</td>\n",
       "      <td>0.010000</td>\n",
       "    </tr>\n",
       "    <tr>\n",
       "      <th>1</th>\n",
       "      <td>01005</td>\n",
       "      <td>18.23</td>\n",
       "      <td>575781.12</td>\n",
       "      <td>0.000032</td>\n",
       "    </tr>\n",
       "  </tbody>\n",
       "</table>\n",
       "</div>"
      ],
      "text/plain": [
       "  county_fips  rangeland_acre  county_area_acre  rangeland_fraction\n",
       "0       01003        13037.43        1060302.72            0.010000\n",
       "1       01005           18.23         575781.12            0.000032"
      ]
     },
     "execution_count": 5,
     "metadata": {},
     "output_type": "execute_result"
    }
   ],
   "source": [
    "RA = pd.read_csv(reOrganized_dir + \"county_rangeland_and_totalarea_fraction.csv\")\n",
    "RA.rename(columns={\"fips_id\": \"county_fips\"}, inplace=True)\n",
    "RA = rc.correct_Mins_county_FIPS(df=RA, col_ = \"county_fips\")\n",
    "print (f\"{len(RA.county_fips.unique()) = }\")\n",
    "RA.reset_index(drop=True, inplace=True)\n",
    "RA.head(2)"
   ]
  },
  {
   "cell_type": "code",
   "execution_count": 6,
   "id": "abb76f9e",
   "metadata": {},
   "outputs": [
    {
     "name": "stdout",
     "output_type": "stream",
     "text": [
      "len(county_fips.state.unique()) = 53\n",
      "len(county_fips.state.unique()) = 29\n"
     ]
    },
    {
     "data": {
      "text/html": [
       "<div>\n",
       "<style scoped>\n",
       "    .dataframe tbody tr th:only-of-type {\n",
       "        vertical-align: middle;\n",
       "    }\n",
       "\n",
       "    .dataframe tbody tr th {\n",
       "        vertical-align: top;\n",
       "    }\n",
       "\n",
       "    .dataframe thead th {\n",
       "        text-align: right;\n",
       "    }\n",
       "</style>\n",
       "<table border=\"1\" class=\"dataframe\">\n",
       "  <thead>\n",
       "    <tr style=\"text-align: right;\">\n",
       "      <th></th>\n",
       "      <th>county_fips</th>\n",
       "      <th>county_name</th>\n",
       "      <th>fips</th>\n",
       "      <th>state</th>\n",
       "      <th>state_fip</th>\n",
       "      <th>EW</th>\n",
       "    </tr>\n",
       "  </thead>\n",
       "  <tbody>\n",
       "    <tr>\n",
       "      <th>0</th>\n",
       "      <td>01001</td>\n",
       "      <td>Autauga County</td>\n",
       "      <td>1001</td>\n",
       "      <td>AL</td>\n",
       "      <td>01</td>\n",
       "      <td>E</td>\n",
       "    </tr>\n",
       "    <tr>\n",
       "      <th>1</th>\n",
       "      <td>01003</td>\n",
       "      <td>Baldwin County</td>\n",
       "      <td>1003</td>\n",
       "      <td>AL</td>\n",
       "      <td>01</td>\n",
       "      <td>E</td>\n",
       "    </tr>\n",
       "  </tbody>\n",
       "</table>\n",
       "</div>"
      ],
      "text/plain": [
       "  county_fips     county_name  fips state state_fip EW\n",
       "0       01001  Autauga County  1001    AL        01  E\n",
       "1       01003  Baldwin County  1003    AL        01  E"
      ]
     },
     "execution_count": 6,
     "metadata": {},
     "output_type": "execute_result"
    }
   ],
   "source": [
    "county_fips = pd.read_pickle(reOrganized_dir + \"county_fips.sav\")\n",
    "\n",
    "county_fips = county_fips[\"county_fips\"]\n",
    "\n",
    "print (f\"{len(county_fips.state.unique()) = }\")\n",
    "county_fips = county_fips[county_fips.state.isin(SoI_abb)].copy()\n",
    "county_fips.drop_duplicates(inplace=True)\n",
    "county_fips.reset_index(drop=True, inplace=True)\n",
    "print (f\"{len(county_fips.state.unique()) = }\")\n",
    "\n",
    "county_fips.head(2)"
   ]
  },
  {
   "cell_type": "code",
   "execution_count": 7,
   "id": "2354d059",
   "metadata": {},
   "outputs": [],
   "source": [
    "large_counties = RA[RA.rangeland_acre >= 50000].copy()\n",
    "small_counties = RA[RA.rangeland_acre < 50000].copy()"
   ]
  },
  {
   "cell_type": "code",
   "execution_count": 8,
   "id": "89b2c132",
   "metadata": {},
   "outputs": [],
   "source": [
    "small_counties_largeRA = small_counties[small_counties.rangeland_fraction >= 0.1].copy()"
   ]
  },
  {
   "cell_type": "code",
   "execution_count": 9,
   "id": "03bbd2fb",
   "metadata": {},
   "outputs": [
    {
     "data": {
      "text/html": [
       "<div>\n",
       "<style scoped>\n",
       "    .dataframe tbody tr th:only-of-type {\n",
       "        vertical-align: middle;\n",
       "    }\n",
       "\n",
       "    .dataframe tbody tr th {\n",
       "        vertical-align: top;\n",
       "    }\n",
       "\n",
       "    .dataframe thead th {\n",
       "        text-align: right;\n",
       "    }\n",
       "</style>\n",
       "<table border=\"1\" class=\"dataframe\">\n",
       "  <thead>\n",
       "    <tr style=\"text-align: right;\">\n",
       "      <th></th>\n",
       "      <th>county_fips</th>\n",
       "      <th>rangeland_acre</th>\n",
       "      <th>county_area_acre</th>\n",
       "      <th>rangeland_fraction</th>\n",
       "    </tr>\n",
       "  </thead>\n",
       "  <tbody>\n",
       "    <tr>\n",
       "      <th>0</th>\n",
       "      <td>04001</td>\n",
       "      <td>3789697.46</td>\n",
       "      <td>7164030.72</td>\n",
       "      <td>0.52</td>\n",
       "    </tr>\n",
       "    <tr>\n",
       "      <th>1</th>\n",
       "      <td>04003</td>\n",
       "      <td>3267164.90</td>\n",
       "      <td>3969767.04</td>\n",
       "      <td>0.82</td>\n",
       "    </tr>\n",
       "  </tbody>\n",
       "</table>\n",
       "</div>"
      ],
      "text/plain": [
       "  county_fips  rangeland_acre  county_area_acre  rangeland_fraction\n",
       "0       04001      3789697.46        7164030.72                0.52\n",
       "1       04003      3267164.90        3969767.04                0.82"
      ]
     },
     "execution_count": 9,
     "metadata": {},
     "output_type": "execute_result"
    }
   ],
   "source": [
    "filtered_counties = pd.concat([large_counties, small_counties_largeRA], ignore_index = True)\n",
    "filtered_counties.reset_index(drop=True, inplace=True)\n",
    "filtered_counties.head(2)"
   ]
  },
  {
   "cell_type": "code",
   "execution_count": 10,
   "id": "fb14bb92",
   "metadata": {},
   "outputs": [
    {
     "name": "stdout",
     "output_type": "stream",
     "text": [
      "935\n",
      "935\n"
     ]
    }
   ],
   "source": [
    "print (len(filtered_counties.county_fips))\n",
    "print (len(filtered_counties.county_fips.unique()))"
   ]
  },
  {
   "cell_type": "code",
   "execution_count": 11,
   "id": "c6b97712",
   "metadata": {},
   "outputs": [
    {
     "name": "stdout",
     "output_type": "stream",
     "text": [
      "2379\n",
      "2379\n"
     ]
    }
   ],
   "source": [
    "print (len(RA.county_fips))\n",
    "print (len(RA.county_fips.unique()))"
   ]
  },
  {
   "cell_type": "code",
   "execution_count": 12,
   "id": "d2974185",
   "metadata": {},
   "outputs": [
    {
     "data": {
      "text/plain": [
       "29"
      ]
     },
     "execution_count": 12,
     "metadata": {},
     "output_type": "execute_result"
    }
   ],
   "source": [
    "len(county_fips.state.unique())"
   ]
  },
  {
   "cell_type": "code",
   "execution_count": 13,
   "id": "eaceb756",
   "metadata": {},
   "outputs": [
    {
     "data": {
      "text/html": [
       "<div>\n",
       "<style scoped>\n",
       "    .dataframe tbody tr th:only-of-type {\n",
       "        vertical-align: middle;\n",
       "    }\n",
       "\n",
       "    .dataframe tbody tr th {\n",
       "        vertical-align: top;\n",
       "    }\n",
       "\n",
       "    .dataframe thead th {\n",
       "        text-align: right;\n",
       "    }\n",
       "</style>\n",
       "<table border=\"1\" class=\"dataframe\">\n",
       "  <thead>\n",
       "    <tr style=\"text-align: right;\">\n",
       "      <th></th>\n",
       "      <th>county_fips</th>\n",
       "      <th>county_name</th>\n",
       "      <th>fips</th>\n",
       "      <th>state</th>\n",
       "      <th>state_fip</th>\n",
       "      <th>EW</th>\n",
       "    </tr>\n",
       "  </thead>\n",
       "  <tbody>\n",
       "    <tr>\n",
       "      <th>0</th>\n",
       "      <td>01001</td>\n",
       "      <td>Autauga County</td>\n",
       "      <td>1001</td>\n",
       "      <td>AL</td>\n",
       "      <td>01</td>\n",
       "      <td>E</td>\n",
       "    </tr>\n",
       "    <tr>\n",
       "      <th>1</th>\n",
       "      <td>01003</td>\n",
       "      <td>Baldwin County</td>\n",
       "      <td>1003</td>\n",
       "      <td>AL</td>\n",
       "      <td>01</td>\n",
       "      <td>E</td>\n",
       "    </tr>\n",
       "  </tbody>\n",
       "</table>\n",
       "</div>"
      ],
      "text/plain": [
       "  county_fips     county_name  fips state state_fip EW\n",
       "0       01001  Autauga County  1001    AL        01  E\n",
       "1       01003  Baldwin County  1003    AL        01  E"
      ]
     },
     "execution_count": 13,
     "metadata": {},
     "output_type": "execute_result"
    }
   ],
   "source": [
    "county_fips.head(2)"
   ]
  },
  {
   "cell_type": "code",
   "execution_count": 14,
   "id": "d8478d74",
   "metadata": {},
   "outputs": [
    {
     "data": {
      "text/html": [
       "<div>\n",
       "<style scoped>\n",
       "    .dataframe tbody tr th:only-of-type {\n",
       "        vertical-align: middle;\n",
       "    }\n",
       "\n",
       "    .dataframe tbody tr th {\n",
       "        vertical-align: top;\n",
       "    }\n",
       "\n",
       "    .dataframe thead th {\n",
       "        text-align: right;\n",
       "    }\n",
       "</style>\n",
       "<table border=\"1\" class=\"dataframe\">\n",
       "  <thead>\n",
       "    <tr style=\"text-align: right;\">\n",
       "      <th></th>\n",
       "      <th>county_fips</th>\n",
       "      <th>rangeland_acre</th>\n",
       "      <th>county_area_acre</th>\n",
       "      <th>rangeland_fraction</th>\n",
       "    </tr>\n",
       "  </thead>\n",
       "  <tbody>\n",
       "    <tr>\n",
       "      <th>0</th>\n",
       "      <td>04001</td>\n",
       "      <td>3789697.46</td>\n",
       "      <td>7164030.72</td>\n",
       "      <td>0.52</td>\n",
       "    </tr>\n",
       "    <tr>\n",
       "      <th>1</th>\n",
       "      <td>04003</td>\n",
       "      <td>3267164.90</td>\n",
       "      <td>3969767.04</td>\n",
       "      <td>0.82</td>\n",
       "    </tr>\n",
       "  </tbody>\n",
       "</table>\n",
       "</div>"
      ],
      "text/plain": [
       "  county_fips  rangeland_acre  county_area_acre  rangeland_fraction\n",
       "0       04001      3789697.46        7164030.72                0.52\n",
       "1       04003      3267164.90        3969767.04                0.82"
      ]
     },
     "execution_count": 14,
     "metadata": {},
     "output_type": "execute_result"
    }
   ],
   "source": [
    "filtered_counties.head(2)"
   ]
  },
  {
   "cell_type": "code",
   "execution_count": 15,
   "id": "77dead90",
   "metadata": {},
   "outputs": [],
   "source": [
    "filtered_counties_29States = filtered_counties[filtered_counties.county_fips.isin(\n",
    "                                list(county_fips.county_fips.unique()))].copy()"
   ]
  },
  {
   "cell_type": "code",
   "execution_count": 16,
   "id": "cea4ad94",
   "metadata": {},
   "outputs": [
    {
     "name": "stdout",
     "output_type": "stream",
     "text": [
      "925\n",
      "925\n"
     ]
    }
   ],
   "source": [
    "print (len(filtered_counties_29States.county_fips))\n",
    "print (len(filtered_counties_29States.county_fips.unique()))"
   ]
  },
  {
   "cell_type": "code",
   "execution_count": 18,
   "id": "e2761fdd",
   "metadata": {},
   "outputs": [],
   "source": [
    "import pickle\n",
    "from datetime import datetime\n",
    "\n",
    "filename = param_dir + \"filtered_counties.sav\"\n",
    "\n",
    "export_ = {\"filtered_counties\": filtered_counties,\n",
    "           \"filtered_counties_29States\" : filtered_counties_29States,\n",
    "           \"SoI\" : SoI,\n",
    "           \"source_code\" : \"filter_counties_RA_Pallavi\",\n",
    "           \"Author\": \"HN\",\n",
    "           \"Date\" : datetime.now().strftime('%Y-%m-%d %H:%M:%S'),\n",
    "           \"Desciption\" : \"Some counties have small portion of RA etc.\"}\n",
    "\n",
    "pickle.dump(export_, open(filename, 'wb'))"
   ]
  },
  {
   "cell_type": "code",
   "execution_count": null,
   "id": "a652cf88",
   "metadata": {},
   "outputs": [],
   "source": []
  }
 ],
 "metadata": {
  "kernelspec": {
   "display_name": "Python 3 (ipykernel)",
   "language": "python",
   "name": "python3"
  },
  "language_info": {
   "codemirror_mode": {
    "name": "ipython",
    "version": 3
   },
   "file_extension": ".py",
   "mimetype": "text/x-python",
   "name": "python",
   "nbconvert_exporter": "python",
   "pygments_lexer": "ipython3",
   "version": "3.11.2"
  }
 },
 "nbformat": 4,
 "nbformat_minor": 5
}
