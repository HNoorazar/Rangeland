{
 "cells": [
  {
   "cell_type": "code",
   "execution_count": null,
   "id": "a0f1dbd9",
   "metadata": {},
   "outputs": [],
   "source": [
    "import pandas as pd\n",
    "import numpy as np\n",
    "import os"
   ]
  },
  {
   "cell_type": "code",
   "execution_count": null,
   "id": "f9de06a3",
   "metadata": {},
   "outputs": [],
   "source": [
    "data_dir_base = \"/Users/hn/Documents/01_research_data/RangeLand/Data/\"\n",
    "Shannon_data_dir = data_dir_base + \"Shannon_Data/\"\n",
    "Min_data_dir_base = data_dir_base + \"Min_Data/\"\n",
    "NASS_dir = data_dir_base + \"NASS_downloads/\"\n",
    "census_dir = data_dir_base + \"census/\"\n",
    "reOrganized_dir = data_dir_base + \"reOrganized/\"\n",
    "param_dir = data_dir_base + \"parameters/\"\n",
    "os.makedirs(reOrganized_dir, exist_ok=True)"
   ]
  },
  {
   "cell_type": "code",
   "execution_count": null,
   "id": "b0bd5cd5",
   "metadata": {},
   "outputs": [],
   "source": [
    "pop_1990_1999_file = \"CO-99-10.txt\"\n",
    "pop_2000_2010_file = \"z_2000_2010_co-est00int-tot.csv\"\n",
    "pop_2010_2020_file = \"z_2010-2020-co-est2020.csv\"\n",
    "pop_2000_file = \"z_2000_2009_co-est2009-alldata.csv\""
   ]
  },
  {
   "cell_type": "code",
   "execution_count": null,
   "id": "2b9e828a",
   "metadata": {},
   "outputs": [],
   "source": []
  },
  {
   "cell_type": "code",
   "execution_count": null,
   "id": "5ccac626",
   "metadata": {},
   "outputs": [],
   "source": []
  },
  {
   "cell_type": "code",
   "execution_count": null,
   "id": "fc4737e1",
   "metadata": {},
   "outputs": [],
   "source": [
    "# encoding can be unicode_escape too.\n",
    "\n",
    "\n",
    "pop_2000 = pd.read_csv(census_dir + pop_2000_file, encoding='latin-1')\n",
    "pop_2000_2010 = pd.read_csv(census_dir + pop_2000_2010_file, encoding='latin-1')\n",
    "pop_2010_2020 = pd.read_csv(census_dir + pop_2010_2020_file, encoding='latin-1')\n",
    "\n",
    "pop_2000.drop([\"SUMLEV\", \"REGION\", \"DIVISION\" ], axis=1, inplace=True)\n",
    "pop_2000_2010.drop([\"SUMLEV\", \"REGION\", \"DIVISION\" ], axis=1, inplace=True)\n",
    "pop_2010_2020.drop([\"SUMLEV\", \"REGION\", \"DIVISION\"], axis=1, inplace=True)\n",
    "\n",
    "\n",
    "pop_2000.rename(\n",
    "         columns={ \"STATE\": \"state_fip\", \"COUNTY\": \"cnty_fip\", \"STNAME\": \"state\", \"CTYNAME\": \"county\"},\n",
    "        inplace=True)\n",
    "\n",
    "pop_2000_2010.rename(\n",
    "         columns={ \"STATE\": \"state_fip\", \"COUNTY\": \"cnty_fip\", \"STNAME\": \"state\", \"CTYNAME\": \"county\"},\n",
    "        inplace=True)\n",
    "\n",
    "pop_2010_2020.rename(\n",
    "         columns={ \"STATE\": \"state_fip\", \"COUNTY\": \"cnty_fip\", \"STNAME\": \"state\", \"CTYNAME\": \"county\"},\n",
    "        inplace=True)\n",
    "\n",
    "\n",
    "pop_2000.head(2)"
   ]
  },
  {
   "cell_type": "code",
   "execution_count": null,
   "id": "ab2755cc",
   "metadata": {},
   "outputs": [],
   "source": [
    "pop_2000.rename(columns=lambda x: x.lower().replace(' ', '_'), inplace=True)\n",
    "pop_2000_2010.rename(columns=lambda x: x.lower().replace(' ', '_'), inplace=True)\n",
    "pop_2010_2020.rename(columns=lambda x: x.lower().replace(' ', '_'), inplace=True)\n",
    "pop_2000.head(2)"
   ]
  },
  {
   "cell_type": "code",
   "execution_count": null,
   "id": "c067850d",
   "metadata": {},
   "outputs": [],
   "source": [
    "pop_2000.rename({'stname': 'state', 'ctyname':'county'}, axis=1, inplace=True)\n",
    "pop_2000_2010.rename({'stname': 'state', 'ctyname':'county'}, axis=1, inplace=True)\n",
    "pop_2010_2020.rename({'stname': 'state', 'ctyname':'county'}, axis=1, inplace=True)\n",
    "pop_2000_2010.head(2)"
   ]
  },
  {
   "cell_type": "code",
   "execution_count": null,
   "id": "f7397cf3",
   "metadata": {},
   "outputs": [],
   "source": [
    "pop_2000_2010.state_fip = pop_2000_2010.state_fip.astype(str)\n",
    "pop_2000_2010.cnty_fip = pop_2000_2010.cnty_fip.astype(str)\n",
    "\n",
    "for idx in pop_2000_2010.index:\n",
    "    if len(pop_2000_2010.loc[idx, \"state_fip\"]) == 1:\n",
    "        pop_2000_2010.loc[idx, \"state_fip\"] = \"0\" + pop_2000_2010.loc[idx, \"state_fip\"]\n",
    "\n",
    "    col = \"cnty_fip\"\n",
    "    if len(pop_2000_2010.loc[idx, col]) == 1:\n",
    "        pop_2000_2010.loc[idx, col] = \"00\" + pop_2000_2010.loc[idx, col]\n",
    "    elif len(pop_2000_2010.loc[idx, col]) == 2:\n",
    "        pop_2000_2010.loc[idx, col] = \"0\" + pop_2000_2010.loc[idx, col]\n",
    "\n",
    "pop_2000_2010.head(2)"
   ]
  },
  {
   "cell_type": "code",
   "execution_count": null,
   "id": "3fb2fd23",
   "metadata": {},
   "outputs": [],
   "source": [
    "pop_2010_2020.state_fip = pop_2010_2020.state_fip.astype(str)\n",
    "pop_2010_2020.cnty_fip = pop_2010_2020.cnty_fip.astype(str)\n",
    "\n",
    "for idx in pop_2010_2020.index:\n",
    "    if len(pop_2010_2020.loc[idx, \"state_fip\"]) == 1:\n",
    "        pop_2010_2020.loc[idx, \"state_fip\"] = \"0\" + pop_2010_2020.loc[idx, \"state_fip\"]\n",
    "\n",
    "    col = \"cnty_fip\"\n",
    "    if len(pop_2010_2020.loc[idx, col]) == 1:\n",
    "        pop_2010_2020.loc[idx, col] = \"00\" + pop_2010_2020.loc[idx, col]\n",
    "    elif len(pop_2010_2020.loc[idx, col]) == 2:\n",
    "        pop_2010_2020.loc[idx, col] = \"0\" + pop_2010_2020.loc[idx, col]\n",
    "\n",
    "pop_2010_2020.head(2)"
   ]
  },
  {
   "cell_type": "markdown",
   "id": "69d5f09c",
   "metadata": {},
   "source": [
    "### ```cnty_fip == 000```\n",
    "\n",
    "presentes all state. i.e. sum of all counties. Drop them."
   ]
  },
  {
   "cell_type": "code",
   "execution_count": null,
   "id": "5bb00558",
   "metadata": {},
   "outputs": [],
   "source": [
    "pop_2000_2010.drop(pop_2000_2010[pop_2000_2010.cnty_fip == \"000\"].index, inplace=True)\n",
    "pop_2010_2020.drop(pop_2010_2020[pop_2010_2020.cnty_fip == \"000\"].index, inplace=True)"
   ]
  },
  {
   "cell_type": "code",
   "execution_count": null,
   "id": "4a806d91",
   "metadata": {},
   "outputs": [],
   "source": [
    "pop_2000_2010[\"county_fips\"] = pop_2000_2010[\"state_fip\"] + pop_2000_2010[\"cnty_fip\"]\n",
    "pop_2010_2020[\"county_fips\"] = pop_2010_2020[\"state_fip\"] + pop_2010_2020[\"cnty_fip\"]\n",
    "\n",
    "pop_2000_2010.drop([\"state_fip\", \"cnty_fip\"], axis=1, inplace=True)\n",
    "pop_2010_2020.drop([\"state_fip\", \"cnty_fip\"], axis=1, inplace=True)\n",
    "\n",
    "pop_2000_2010.head(2)"
   ]
  },
  {
   "cell_type": "code",
   "execution_count": null,
   "id": "250b4e5b",
   "metadata": {},
   "outputs": [],
   "source": [
    "SoI = [\n",
    "    \"Alabama\",\n",
    "    \"Arkansas\",\n",
    "    \"California\",\n",
    "    \"Colorado\",\n",
    "    \"Florida\",\n",
    "    \"Georgia\",\n",
    "    \"Idaho\",\n",
    "    \"Illinois\",\n",
    "    \"Iowa\",\n",
    "    \"Kansas\",\n",
    "    \"Kentucky\",\n",
    "    \"Louisiana\",\n",
    "    \"Mississippi\",\n",
    "    \"Missouri\",\n",
    "    \"Montana\",\n",
    "    \"Nebraska\",\n",
    "    \"New Mexico\",\n",
    "    \"North Dakota\",\n",
    "    \"Oklahoma\",\n",
    "    \"Oregon\",\n",
    "    \"South Dakota\",\n",
    "    \"Tennessee\",\n",
    "    \"Texas\",\n",
    "    \"Virginia\",\n",
    "    \"Wyoming\",\n",
    "]"
   ]
  },
  {
   "cell_type": "code",
   "execution_count": null,
   "id": "913b00ce",
   "metadata": {},
   "outputs": [],
   "source": [
    "pop_2000_2010 = pop_2000_2010[pop_2000_2010.state.isin(SoI)]\n",
    "pop_2010_2020 = pop_2010_2020[pop_2010_2020.state.isin(SoI)]\n",
    "\n",
    "pop_2000_2010.reset_index(drop=True, inplace=True)\n",
    "pop_2010_2020.reset_index(drop=True, inplace=True)"
   ]
  },
  {
   "cell_type": "code",
   "execution_count": null,
   "id": "85da4efd",
   "metadata": {},
   "outputs": [],
   "source": [
    "need_cols_2000_2010 = [\"county_fips\", \"popestimate2002\", \"popestimate2007\"]\n",
    "need_cols_2010_2020 = [\"county_fips\", \"popestimate2012\", \"popestimate2017\"]\n",
    "\n",
    "pop_2000_2010 = pop_2000_2010[need_cols_2000_2010]\n",
    "pop_2010_2020 = pop_2010_2020[need_cols_2010_2020]"
   ]
  },
  {
   "cell_type": "code",
   "execution_count": null,
   "id": "957b1eff",
   "metadata": {},
   "outputs": [],
   "source": [
    "pop_2000_2010.head(2)"
   ]
  },
  {
   "cell_type": "code",
   "execution_count": null,
   "id": "b7ae2402",
   "metadata": {},
   "outputs": [],
   "source": [
    "print(f\"{len(pop_2000_2010) = }\")\n",
    "print(f\"{len(pop_2010_2020) = }\")"
   ]
  },
  {
   "cell_type": "code",
   "execution_count": null,
   "id": "cada2098",
   "metadata": {},
   "outputs": [],
   "source": [
    "A = [x for x in pop_2010_2020.county_fips if not (x in list(pop_2000_2010.county_fips))]\n",
    "A"
   ]
  },
  {
   "cell_type": "code",
   "execution_count": null,
   "id": "4b2bdbfc",
   "metadata": {},
   "outputs": [],
   "source": [
    "A = [x for x in pop_2000_2010.county_fips if not (x in list(pop_2010_2020.county_fips))]\n",
    "A"
   ]
  },
  {
   "cell_type": "code",
   "execution_count": null,
   "id": "df72f759",
   "metadata": {},
   "outputs": [],
   "source": [
    "L = len(pop_2000_2010) + len(pop_2010_2020)\n",
    "pop_wide = pd.DataFrame(columns=[\"county_fips\", \"year\", \"population\"], index=range(L * 2))\n",
    "\n",
    "pop_wide.county_fips = \"666\"\n",
    "pop_wide.year = 666\n",
    "pop_wide.population = 666\n",
    "\n",
    "years_2000_2010 = [2002, 2007] * len(pop_2000_2010)\n",
    "years_2010_2020 = [2012, 2017] * len(pop_2010_2020)\n",
    "pop_wide.year = years_2000_2010 + years_2010_2020\n",
    "\n",
    "pop_wide.head(5)\n",
    "\n",
    "wide_pointer = 0\n",
    "\n",
    "for idx in pop_2000_2010.index:\n",
    "    pop_wide.loc[wide_pointer, \"county_fips\"] = pop_2000_2010.loc[idx, \"county_fips\"]\n",
    "    pop_wide.loc[wide_pointer, \"population\"] = pop_2000_2010.loc[idx, \"popestimate2002\"]\n",
    "\n",
    "    pop_wide.loc[wide_pointer + 1, \"county_fips\"] = pop_2000_2010.loc[idx, \"county_fips\"]\n",
    "    pop_wide.loc[wide_pointer + 1, \"population\"] = pop_2000_2010.loc[idx, \"popestimate2007\"]\n",
    "    wide_pointer += 2\n",
    "\n",
    "for idx in pop_2010_2020.index:\n",
    "    pop_wide.loc[wide_pointer, \"county_fips\"] = pop_2010_2020.loc[idx, \"county_fips\"]\n",
    "    pop_wide.loc[wide_pointer, \"population\"] = pop_2010_2020.loc[idx, \"popestimate2012\"]\n",
    "\n",
    "    pop_wide.loc[wide_pointer + 1, \"county_fips\"] = pop_2010_2020.loc[idx, \"county_fips\"]\n",
    "    pop_wide.loc[wide_pointer + 1, \"population\"] = pop_2010_2020.loc[idx, \"popestimate2017\"]\n",
    "    wide_pointer += 2\n",
    "    \n",
    "pop_wide.head(2)"
   ]
  },
  {
   "cell_type": "code",
   "execution_count": null,
   "id": "4bb56d91",
   "metadata": {},
   "outputs": [],
   "source": [
    "pop_wide.sort_values([\"county_fips\", \"year\"], inplace=True)\n",
    "pop_wide.reset_index(drop=True, inplace=True)\n",
    "pop_wide.head(10)"
   ]
  },
  {
   "cell_type": "code",
   "execution_count": null,
   "id": "aca51762",
   "metadata": {},
   "outputs": [],
   "source": []
  },
  {
   "cell_type": "code",
   "execution_count": null,
   "id": "228f808f",
   "metadata": {},
   "outputs": [],
   "source": [
    "# population_1990_1999 = pd.read_csv(f'/Users/hn/Documents/01_research_data/RangeLand/Data/' + \\\n",
    "#                                                        'census/CO-99-10.txt')\n",
    "\n",
    "pop_1990_1999 = pd.read_csv(census_dir + pop_1990_1999_file, \n",
    "                                   header = 12, sep = \"\\t\", on_bad_lines = 'skip',\n",
    "                                   encoding = 'unicode_escape')\n",
    "\n",
    "print ()\n",
    "print (f\"{pop_1990_1999.shape=}\")\n",
    "print ()\n",
    "pop_1990_1999.head(5)"
   ]
  },
  {
   "cell_type": "code",
   "execution_count": null,
   "id": "49a8054b",
   "metadata": {},
   "outputs": [],
   "source": [
    "cols = list(pop_1990_1999.loc[0])[0].split(\" \")\n",
    "cols = [x.lower() for x in cols if x!=\"\"]\n",
    "cols\n",
    "# [x for x in list(population_1990_1999.loc[1])[0].split(\" \") if x!=\"\"]"
   ]
  },
  {
   "cell_type": "code",
   "execution_count": null,
   "id": "cf83bbc6",
   "metadata": {},
   "outputs": [],
   "source": [
    "pop_1990_1999_clean = pd.DataFrame(columns = cols, index=range(len(pop_1990_1999)))\n",
    "\n",
    "for a_idx in pop_1990_1999.index:\n",
    "    if a_idx==0:\n",
    "        pass\n",
    "    else:\n",
    "        curr_row = [x for x in list(pop_1990_1999.loc[a_idx])[0].split(\" \") if x!=\"\"]\n",
    "        pop_1990_1999_clean.loc[a_idx] = curr_row\n",
    "\n",
    "pop_1990_1999_clean.dropna(inplace=True)\n",
    "pop_1990_1999_clean.reset_index(drop=True, inplace=True)\n",
    "\n",
    "for a_col in pop_1990_1999_clean.columns:\n",
    "    pop_1990_1999_clean[a_col] = pop_1990_1999_clean[a_col].astype(int)"
   ]
  },
  {
   "cell_type": "code",
   "execution_count": null,
   "id": "f0d2a2dd",
   "metadata": {},
   "outputs": [],
   "source": [
    "pop_1990_1999 = pop_1990_1999_clean.copy()\n",
    "pop_1990_1999.head(2)"
   ]
  },
  {
   "cell_type": "code",
   "execution_count": null,
   "id": "4609f0ff",
   "metadata": {},
   "outputs": [],
   "source": [
    "Supriya_Min_FIPS = pd.read_csv(param_dir + \"Supriya_Min_FIPS.csv\")\n",
    "Supriya_Min_FIPS.sort_values(\"fips\", inplace=True)\n",
    "Supriya_Min_FIPS.rename({'county_name': 'county_state'}, axis=1, inplace=True)\n",
    "Supriya_Min_FIPS.shape"
   ]
  },
  {
   "cell_type": "code",
   "execution_count": null,
   "id": "424fd858",
   "metadata": {},
   "outputs": [],
   "source": [
    "print (f\"{len(Supriya_Min_FIPS.fips.unique())=}\")\n",
    "print (f\"{len(pop_1990_1999.fips.unique())=}\")"
   ]
  },
  {
   "cell_type": "code",
   "execution_count": null,
   "id": "3bee7e17",
   "metadata": {},
   "outputs": [],
   "source": [
    "# pop_1990_1999 = pd.merge(pop_1990_1999, Supriya_Min_FIPS, on=['fips'], how='left')\n",
    "pop_1990_1999[\"population\"] = pop_1990_1999.iloc[:, 2:9].sum(axis=1)\n",
    "pop_1990_1999 = pop_1990_1999[[\"year\", \"fips\", \"population\"]].copy()\n",
    "\n",
    "pop_1990_1999.rename({'fips': 'county_fips'}, axis=1, inplace=True)\n",
    "\n",
    "pop_wide.sort_values([\"county_fips\", \"year\"], inplace=True)\n",
    "\n",
    "pop_1990_1999.county_fips = pop_1990_1999.county_fips.astype(str)\n",
    "pop_1990_1999.head(2)"
   ]
  },
  {
   "cell_type": "code",
   "execution_count": null,
   "id": "a403684d",
   "metadata": {},
   "outputs": [],
   "source": [
    "for idx in pop_1990_1999.index:\n",
    "    if len(pop_1990_1999.loc[idx, \"county_fips\"]) == 4:\n",
    "        pop_1990_1999.loc[idx, \"county_fips\"] = \"0\" + pop_1990_1999.loc[idx, \"county_fips\"]\n",
    "\n",
    "pop_1990_1999.head(2)"
   ]
  },
  {
   "cell_type": "code",
   "execution_count": null,
   "id": "cdf1812f",
   "metadata": {},
   "outputs": [],
   "source": [
    "pop_1997 = pop_1990_1999[pop_1990_1999.year==1997].copy()\n",
    "pop_1997.reset_index(drop=True, inplace=True)\n",
    "\n",
    "pop_1997.head(5)"
   ]
  },
  {
   "cell_type": "code",
   "execution_count": null,
   "id": "18f91447",
   "metadata": {},
   "outputs": [],
   "source": [
    "pop_wide.head(3)"
   ]
  },
  {
   "cell_type": "code",
   "execution_count": null,
   "id": "cf47c439",
   "metadata": {},
   "outputs": [],
   "source": [
    "print(len(pop_wide.county_fips.unique()))"
   ]
  },
  {
   "cell_type": "code",
   "execution_count": null,
   "id": "078c5499",
   "metadata": {},
   "outputs": [],
   "source": [
    "pop_wide = pd.concat([pop_wide, pop_1997])\n",
    "pop_wide.sort_values([\"county_fips\", \"year\"], inplace=True)\n",
    "pop_wide.reset_index(drop=True, inplace=True)\n",
    "\n",
    "pop_wide.head(10)"
   ]
  },
  {
   "cell_type": "code",
   "execution_count": null,
   "id": "9a1564b3",
   "metadata": {},
   "outputs": [],
   "source": [
    "print(len(pop_wide.county_fips.unique()))"
   ]
  },
  {
   "cell_type": "code",
   "execution_count": null,
   "id": "4f031690",
   "metadata": {},
   "outputs": [],
   "source": [
    "import pickle\n",
    "from datetime import datetime\n",
    "\n",
    "filename = reOrganized_dir + \"human_population.sav\"\n",
    "\n",
    "export_ = {\"human_population\": pop_wide, \n",
    "           \"source_code\" : \"clean_organize_population\",\n",
    "           \"Author\": \"HN\",\n",
    "           \"Date\" : datetime.now().strftime('%Y-%m-%d %H:%M:%S')}\n",
    "\n",
    "pickle.dump(export_, open(filename, 'wb'))"
   ]
  },
  {
   "cell_type": "markdown",
   "id": "85588309",
   "metadata": {},
   "source": [
    "# Reshape other population DFs"
   ]
  },
  {
   "cell_type": "code",
   "execution_count": null,
   "id": "aa00519f",
   "metadata": {},
   "outputs": [],
   "source": []
  },
  {
   "cell_type": "code",
   "execution_count": null,
   "id": "47f45457",
   "metadata": {},
   "outputs": [],
   "source": [
    "# pop_2000.rename({'census2000pop': 'population'}, axis=1, inplace=True)\n",
    "# pop_2000[\"year\"] = 2000\n",
    "# pop_2000 = pop_2000[[\"state\", \"county\", \"year\", \"population\"]]\n",
    "# pop_2000.head(2)\n",
    "\n",
    "# st_year = 2001\n",
    "# end_year = 2010\n",
    "# cols = [i + str(j) for i, j in zip([\"popestimate\"]* len(range(st_year, end_year)), range(st_year, end_year))]\n",
    "# cols = [\"state\", \"county\"] + cols + [\"census2010pop\"]\n",
    "# pop_2000_2010 = pop_2000_2010[cols]"
   ]
  },
  {
   "cell_type": "code",
   "execution_count": null,
   "id": "40b1a6e5",
   "metadata": {},
   "outputs": [],
   "source": []
  },
  {
   "cell_type": "code",
   "execution_count": null,
   "id": "46705b6c",
   "metadata": {},
   "outputs": [],
   "source": []
  },
  {
   "cell_type": "code",
   "execution_count": null,
   "id": "aebec62f",
   "metadata": {},
   "outputs": [],
   "source": []
  },
  {
   "cell_type": "code",
   "execution_count": null,
   "id": "4a5db3b5",
   "metadata": {},
   "outputs": [],
   "source": []
  }
 ],
 "metadata": {
  "kernelspec": {
   "display_name": "Python 3 (ipykernel)",
   "language": "python",
   "name": "python3"
  }
 },
 "nbformat": 4,
 "nbformat_minor": 5
}
