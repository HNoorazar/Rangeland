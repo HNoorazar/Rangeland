{
 "cells": [
  {
   "cell_type": "code",
   "execution_count": 1,
   "id": "a157aa20",
   "metadata": {},
   "outputs": [],
   "source": [
    "import shutup\n",
    "shutup.please()\n",
    "\n",
    "import pandas as pd\n",
    "import numpy as np\n",
    "from datetime import datetime\n",
    "import os, os.path, pickle, sys\n",
    "import seaborn as sns\n",
    "\n",
    "import matplotlib\n",
    "import matplotlib.pyplot as plt\n",
    "\n",
    "sys.path.append(\"/Users/hn/Documents/00_GitHub/Rangeland/Python_Codes/\")\n",
    "import rangeland_core as rc"
   ]
  },
  {
   "cell_type": "code",
   "execution_count": 2,
   "id": "ba892c04",
   "metadata": {},
   "outputs": [],
   "source": [
    "data_dir_base = \"/Users/hn/Documents/01_research_data/RangeLand/Data/\"\n",
    "census_population_dir = data_dir_base + \"census/\"\n",
    "# Shannon_data_dir = data_dir_base + \"Shannon_Data/\"\n",
    "# USDA_data_dir = data_dir_base + \"/NASS_downloads/\"\n",
    "param_dir = data_dir_base + \"parameters/\"\n",
    "Min_data_base = data_dir_base + \"Min_Data/\"\n",
    "reOrganized_dir = data_dir_base + \"reOrganized/\""
   ]
  },
  {
   "cell_type": "code",
   "execution_count": 8,
   "id": "2bbf4e36",
   "metadata": {},
   "outputs": [
    {
     "name": "stdout",
     "output_type": "stream",
     "text": [
      "53\n"
     ]
    },
    {
     "data": {
      "text/html": [
       "<div>\n",
       "<style scoped>\n",
       "    .dataframe tbody tr th:only-of-type {\n",
       "        vertical-align: middle;\n",
       "    }\n",
       "\n",
       "    .dataframe tbody tr th {\n",
       "        vertical-align: top;\n",
       "    }\n",
       "\n",
       "    .dataframe thead th {\n",
       "        text-align: right;\n",
       "    }\n",
       "</style>\n",
       "<table border=\"1\" class=\"dataframe\">\n",
       "  <thead>\n",
       "    <tr style=\"text-align: right;\">\n",
       "      <th></th>\n",
       "      <th>county_fips</th>\n",
       "      <th>county_name</th>\n",
       "      <th>fips</th>\n",
       "      <th>state</th>\n",
       "      <th>state_fip</th>\n",
       "    </tr>\n",
       "  </thead>\n",
       "  <tbody>\n",
       "    <tr>\n",
       "      <th>0</th>\n",
       "      <td>02013</td>\n",
       "      <td>Aleutians East Borough</td>\n",
       "      <td>2013</td>\n",
       "      <td>AK</td>\n",
       "      <td>02</td>\n",
       "    </tr>\n",
       "    <tr>\n",
       "      <th>1</th>\n",
       "      <td>02016</td>\n",
       "      <td>Aleutians West Census Area</td>\n",
       "      <td>2016</td>\n",
       "      <td>AK</td>\n",
       "      <td>02</td>\n",
       "    </tr>\n",
       "  </tbody>\n",
       "</table>\n",
       "</div>"
      ],
      "text/plain": [
       "  county_fips                 county_name  fips state state_fip\n",
       "0       02013      Aleutians East Borough  2013    AK        02\n",
       "1       02016  Aleutians West Census Area  2016    AK        02"
      ]
     },
     "execution_count": 8,
     "metadata": {},
     "output_type": "execute_result"
    }
   ],
   "source": [
    "county_id_name_fips = pd.read_csv(Min_data_base + \"county_id_name_fips.csv\")\n",
    "county_id_name_fips.rename(columns=lambda x: x.lower().replace(' ', '_'), inplace=True)\n",
    "\n",
    "county_id_name_fips.sort_values(by=[\"state\", \"county\"], inplace=True)\n",
    "\n",
    "county_id_name_fips = rc.correct_Mins_FIPS(df=county_id_name_fips, col_=\"county\")\n",
    "county_id_name_fips.rename(columns={\"county\": \"county_fips\"}, inplace=True)\n",
    "\n",
    "county_id_name_fips[\"state_fip\"] = county_id_name_fips.county_fips.str.slice(0, 2)\n",
    "\n",
    "county_id_name_fips.reset_index(drop=True, inplace=True)\n",
    "print (len(county_id_name_fips.state.unique()))\n",
    "county_id_name_fips.head(2)"
   ]
  },
  {
   "cell_type": "code",
   "execution_count": 3,
   "id": "a82578d8",
   "metadata": {},
   "outputs": [
    {
     "name": "stdout",
     "output_type": "stream",
     "text": [
      "number of counties are 2379.\n",
      "(2379, 4)\n"
     ]
    },
    {
     "data": {
      "text/html": [
       "<div>\n",
       "<style scoped>\n",
       "    .dataframe tbody tr th:only-of-type {\n",
       "        vertical-align: middle;\n",
       "    }\n",
       "\n",
       "    .dataframe tbody tr th {\n",
       "        vertical-align: top;\n",
       "    }\n",
       "\n",
       "    .dataframe thead th {\n",
       "        text-align: right;\n",
       "    }\n",
       "</style>\n",
       "<table border=\"1\" class=\"dataframe\">\n",
       "  <thead>\n",
       "    <tr style=\"text-align: right;\">\n",
       "      <th></th>\n",
       "      <th>county_fips</th>\n",
       "      <th>rangeland_acre</th>\n",
       "      <th>county_area_acre</th>\n",
       "      <th>rangeland_fraction</th>\n",
       "    </tr>\n",
       "  </thead>\n",
       "  <tbody>\n",
       "    <tr>\n",
       "      <th>0</th>\n",
       "      <td>01003</td>\n",
       "      <td>13037.43</td>\n",
       "      <td>1060302.72</td>\n",
       "      <td>0.010000</td>\n",
       "    </tr>\n",
       "    <tr>\n",
       "      <th>1</th>\n",
       "      <td>01005</td>\n",
       "      <td>18.23</td>\n",
       "      <td>575781.12</td>\n",
       "      <td>0.000032</td>\n",
       "    </tr>\n",
       "  </tbody>\n",
       "</table>\n",
       "</div>"
      ],
      "text/plain": [
       "  county_fips  rangeland_acre  county_area_acre  rangeland_fraction\n",
       "0       01003        13037.43        1060302.72            0.010000\n",
       "1       01005           18.23         575781.12            0.000032"
      ]
     },
     "execution_count": 3,
     "metadata": {},
     "output_type": "execute_result"
    }
   ],
   "source": [
    "# Rangeland area and Total area:\n",
    "county_RA_and_TA_fraction = pd.read_csv(reOrganized_dir + \"county_rangeland_and_totalarea_fraction.csv\")\n",
    "county_RA_and_TA_fraction.rename(columns={\"fips_id\": \"county_fips\"}, inplace=True)\n",
    "\n",
    "county_RA_and_TA_fraction = rc.correct_Mins_FIPS(df=county_RA_and_TA_fraction, col_=\"county_fips\")\n",
    "L = len(county_RA_and_TA_fraction.county_fips.unique())\n",
    "print (\"number of counties are {}.\".format(L))\n",
    "print (county_RA_and_TA_fraction.shape)\n",
    "county_RA_and_TA_fraction.head(2)"
   ]
  },
  {
   "cell_type": "code",
   "execution_count": 4,
   "id": "d20de720",
   "metadata": {},
   "outputs": [
    {
     "data": {
      "text/html": [
       "<div>\n",
       "<style scoped>\n",
       "    .dataframe tbody tr th:only-of-type {\n",
       "        vertical-align: middle;\n",
       "    }\n",
       "\n",
       "    .dataframe tbody tr th {\n",
       "        vertical-align: top;\n",
       "    }\n",
       "\n",
       "    .dataframe thead th {\n",
       "        text-align: right;\n",
       "    }\n",
       "</style>\n",
       "<table border=\"1\" class=\"dataframe\">\n",
       "  <thead>\n",
       "    <tr style=\"text-align: right;\">\n",
       "      <th></th>\n",
       "      <th>county_fips</th>\n",
       "      <th>rangeland_acre</th>\n",
       "      <th>county_area_acre</th>\n",
       "      <th>rangeland_fraction</th>\n",
       "      <th>state_fip</th>\n",
       "    </tr>\n",
       "  </thead>\n",
       "  <tbody>\n",
       "    <tr>\n",
       "      <th>0</th>\n",
       "      <td>01003</td>\n",
       "      <td>13037.43</td>\n",
       "      <td>1060302.72</td>\n",
       "      <td>0.010000</td>\n",
       "      <td>01</td>\n",
       "    </tr>\n",
       "    <tr>\n",
       "      <th>1</th>\n",
       "      <td>01005</td>\n",
       "      <td>18.23</td>\n",
       "      <td>575781.12</td>\n",
       "      <td>0.000032</td>\n",
       "      <td>01</td>\n",
       "    </tr>\n",
       "  </tbody>\n",
       "</table>\n",
       "</div>"
      ],
      "text/plain": [
       "  county_fips  rangeland_acre  county_area_acre  rangeland_fraction state_fip\n",
       "0       01003        13037.43        1060302.72            0.010000        01\n",
       "1       01005           18.23         575781.12            0.000032        01"
      ]
     },
     "execution_count": 4,
     "metadata": {},
     "output_type": "execute_result"
    }
   ],
   "source": [
    "county_RA_and_TA_fraction[\"state_fip\"] = county_RA_and_TA_fraction.county_fips.str.slice(0, 2)\n",
    "county_RA_and_TA_fraction.head(2)"
   ]
  },
  {
   "cell_type": "code",
   "execution_count": 9,
   "id": "c47d3351",
   "metadata": {},
   "outputs": [
    {
     "data": {
      "text/html": [
       "<div>\n",
       "<style scoped>\n",
       "    .dataframe tbody tr th:only-of-type {\n",
       "        vertical-align: middle;\n",
       "    }\n",
       "\n",
       "    .dataframe tbody tr th {\n",
       "        vertical-align: top;\n",
       "    }\n",
       "\n",
       "    .dataframe thead th {\n",
       "        text-align: right;\n",
       "    }\n",
       "</style>\n",
       "<table border=\"1\" class=\"dataframe\">\n",
       "  <thead>\n",
       "    <tr style=\"text-align: right;\">\n",
       "      <th></th>\n",
       "      <th>state_fip</th>\n",
       "      <th>rangeland_acre</th>\n",
       "    </tr>\n",
       "  </thead>\n",
       "  <tbody>\n",
       "    <tr>\n",
       "      <th>0</th>\n",
       "      <td>01</td>\n",
       "      <td>31570.99</td>\n",
       "    </tr>\n",
       "    <tr>\n",
       "      <th>1</th>\n",
       "      <td>04</td>\n",
       "      <td>54476918.89</td>\n",
       "    </tr>\n",
       "  </tbody>\n",
       "</table>\n",
       "</div>"
      ],
      "text/plain": [
       "  state_fip  rangeland_acre\n",
       "0        01        31570.99\n",
       "1        04     54476918.89"
      ]
     },
     "execution_count": 9,
     "metadata": {},
     "output_type": "execute_result"
    }
   ],
   "source": [
    "state_RA = county_RA_and_TA_fraction[[\"state_fip\", \"rangeland_acre\"]].groupby(\"state_fip\").sum()\n",
    "state_RA.reset_index(drop=False, inplace=True)\n",
    "state_RA = state_RA[state_RA.state_fip.isin(county_id_name_fips.state_fip)]\n",
    "state_RA.reset_index(drop=True, inplace=True)\n",
    "state_RA.head(2)"
   ]
  },
  {
   "cell_type": "code",
   "execution_count": 11,
   "id": "b365c5be",
   "metadata": {},
   "outputs": [
    {
     "data": {
      "text/html": [
       "<div>\n",
       "<style scoped>\n",
       "    .dataframe tbody tr th:only-of-type {\n",
       "        vertical-align: middle;\n",
       "    }\n",
       "\n",
       "    .dataframe tbody tr th {\n",
       "        vertical-align: top;\n",
       "    }\n",
       "\n",
       "    .dataframe thead th {\n",
       "        text-align: right;\n",
       "    }\n",
       "</style>\n",
       "<table border=\"1\" class=\"dataframe\">\n",
       "  <thead>\n",
       "    <tr style=\"text-align: right;\">\n",
       "      <th></th>\n",
       "      <th>state_fip</th>\n",
       "      <th>state_area_acre</th>\n",
       "    </tr>\n",
       "  </thead>\n",
       "  <tbody>\n",
       "    <tr>\n",
       "      <th>0</th>\n",
       "      <td>01</td>\n",
       "      <td>14825637.76</td>\n",
       "    </tr>\n",
       "    <tr>\n",
       "      <th>1</th>\n",
       "      <td>04</td>\n",
       "      <td>72998287.36</td>\n",
       "    </tr>\n",
       "  </tbody>\n",
       "</table>\n",
       "</div>"
      ],
      "text/plain": [
       "  state_fip  state_area_acre\n",
       "0        01      14825637.76\n",
       "1        04      72998287.36"
      ]
     },
     "execution_count": 11,
     "metadata": {},
     "output_type": "execute_result"
    }
   ],
   "source": [
    "state_area = county_RA_and_TA_fraction[[\"state_fip\", \"county_area_acre\"]].groupby(\"state_fip\").sum()\n",
    "state_area.rename(columns={\"county_area_acre\": \"state_area_acre\"}, inplace=True)\n",
    "\n",
    "state_area.reset_index(drop=False, inplace=True)\n",
    "state_area = state_area[state_area.state_fip.isin(county_id_name_fips.state_fip)]\n",
    "state_area.reset_index(drop=True, inplace=True)\n",
    "state_area.head(2)"
   ]
  },
  {
   "cell_type": "code",
   "execution_count": 12,
   "id": "7f50b96a",
   "metadata": {},
   "outputs": [
    {
     "data": {
      "text/html": [
       "<div>\n",
       "<style scoped>\n",
       "    .dataframe tbody tr th:only-of-type {\n",
       "        vertical-align: middle;\n",
       "    }\n",
       "\n",
       "    .dataframe tbody tr th {\n",
       "        vertical-align: top;\n",
       "    }\n",
       "\n",
       "    .dataframe thead th {\n",
       "        text-align: right;\n",
       "    }\n",
       "</style>\n",
       "<table border=\"1\" class=\"dataframe\">\n",
       "  <thead>\n",
       "    <tr style=\"text-align: right;\">\n",
       "      <th></th>\n",
       "      <th>state_fip</th>\n",
       "      <th>rangeland_acre</th>\n",
       "      <th>state_area_acre</th>\n",
       "    </tr>\n",
       "  </thead>\n",
       "  <tbody>\n",
       "    <tr>\n",
       "      <th>0</th>\n",
       "      <td>01</td>\n",
       "      <td>31570.99</td>\n",
       "      <td>14825637.76</td>\n",
       "    </tr>\n",
       "    <tr>\n",
       "      <th>1</th>\n",
       "      <td>04</td>\n",
       "      <td>54476918.89</td>\n",
       "      <td>72998287.36</td>\n",
       "    </tr>\n",
       "  </tbody>\n",
       "</table>\n",
       "</div>"
      ],
      "text/plain": [
       "  state_fip  rangeland_acre  state_area_acre\n",
       "0        01        31570.99      14825637.76\n",
       "1        04     54476918.89      72998287.36"
      ]
     },
     "execution_count": 12,
     "metadata": {},
     "output_type": "execute_result"
    }
   ],
   "source": [
    "state_RA_area = pd.merge(state_RA, state_area, on = [\"state_fip\"], how = \"left\")\n",
    "state_RA_area.head(2)"
   ]
  },
  {
   "cell_type": "code",
   "execution_count": 13,
   "id": "d51f1e76",
   "metadata": {},
   "outputs": [],
   "source": [
    "filename = reOrganized_dir + \"state_RA_area.sav\"\n",
    "\n",
    "export_ = {\"state_RA_area\": state_RA_area, \n",
    "           \"source_code\" : \"form_state_level_RA\",\n",
    "           \"Author\": \"HN\",\n",
    "           \"Date\" : datetime.now().strftime('%Y-%m-%d %H:%M:%S')}\n",
    "\n",
    "pickle.dump(export_, open(filename, 'wb'))"
   ]
  },
  {
   "cell_type": "code",
   "execution_count": null,
   "id": "81ea2460",
   "metadata": {},
   "outputs": [],
   "source": []
  },
  {
   "cell_type": "code",
   "execution_count": null,
   "id": "c3944026",
   "metadata": {},
   "outputs": [],
   "source": []
  }
 ],
 "metadata": {
  "kernelspec": {
   "display_name": "Python 3 (ipykernel)",
   "language": "python",
   "name": "python3"
  },
  "language_info": {
   "codemirror_mode": {
    "name": "ipython",
    "version": 3
   },
   "file_extension": ".py",
   "mimetype": "text/x-python",
   "name": "python",
   "nbconvert_exporter": "python",
   "pygments_lexer": "ipython3",
   "version": "3.11.2"
  }
 },
 "nbformat": 4,
 "nbformat_minor": 5
}
