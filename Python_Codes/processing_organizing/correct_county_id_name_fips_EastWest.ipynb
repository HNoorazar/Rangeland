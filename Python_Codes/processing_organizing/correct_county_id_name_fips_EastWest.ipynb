{
 "cells": [
  {
   "cell_type": "code",
   "execution_count": 1,
   "id": "cc0bcb5b",
   "metadata": {},
   "outputs": [],
   "source": [
    "import shutup\n",
    "\n",
    "shutup.please()\n",
    "\n",
    "import pandas as pd\n",
    "import numpy as np\n",
    "from datetime import datetime\n",
    "import os, os.path, pickle, sys\n",
    "import seaborn as sns\n",
    "\n",
    "import matplotlib\n",
    "import matplotlib.pyplot as plt\n",
    "\n",
    "sys.path.append(\"/Users/hn/Documents/00_GitHub/Rangeland/Python_Codes/\")\n",
    "import rangeland_core as rc"
   ]
  },
  {
   "cell_type": "code",
   "execution_count": 2,
   "id": "d8c07718",
   "metadata": {},
   "outputs": [],
   "source": [
    "data_dir_base = \"/Users/hn/Documents/01_research_data/RangeLand/Data/\"\n",
    "census_population_dir = data_dir_base + \"census/\"\n",
    "# Shannon_data_dir = data_dir_base + \"Shannon_Data/\"\n",
    "# USDA_data_dir = data_dir_base + \"/NASS_downloads/\"\n",
    "param_dir = data_dir_base + \"parameters/\"\n",
    "Min_data_base = data_dir_base + \"Min_Data/\"\n",
    "reOrganized_dir = data_dir_base + \"reOrganized/\""
   ]
  },
  {
   "cell_type": "code",
   "execution_count": 3,
   "id": "3917e311",
   "metadata": {},
   "outputs": [
    {
     "name": "stdout",
     "output_type": "stream",
     "text": [
      "53\n"
     ]
    },
    {
     "data": {
      "text/html": [
       "<div>\n",
       "<style scoped>\n",
       "    .dataframe tbody tr th:only-of-type {\n",
       "        vertical-align: middle;\n",
       "    }\n",
       "\n",
       "    .dataframe tbody tr th {\n",
       "        vertical-align: top;\n",
       "    }\n",
       "\n",
       "    .dataframe thead th {\n",
       "        text-align: right;\n",
       "    }\n",
       "</style>\n",
       "<table border=\"1\" class=\"dataframe\">\n",
       "  <thead>\n",
       "    <tr style=\"text-align: right;\">\n",
       "      <th></th>\n",
       "      <th>county_fips</th>\n",
       "      <th>county_name</th>\n",
       "      <th>fips</th>\n",
       "      <th>state</th>\n",
       "      <th>state_fip</th>\n",
       "    </tr>\n",
       "  </thead>\n",
       "  <tbody>\n",
       "    <tr>\n",
       "      <th>0</th>\n",
       "      <td>02013</td>\n",
       "      <td>Aleutians East Borough</td>\n",
       "      <td>2013</td>\n",
       "      <td>AK</td>\n",
       "      <td>02</td>\n",
       "    </tr>\n",
       "    <tr>\n",
       "      <th>1</th>\n",
       "      <td>02016</td>\n",
       "      <td>Aleutians West Census Area</td>\n",
       "      <td>2016</td>\n",
       "      <td>AK</td>\n",
       "      <td>02</td>\n",
       "    </tr>\n",
       "  </tbody>\n",
       "</table>\n",
       "</div>"
      ],
      "text/plain": [
       "  county_fips                 county_name  fips state state_fip\n",
       "0       02013      Aleutians East Borough  2013    AK        02\n",
       "1       02016  Aleutians West Census Area  2016    AK        02"
      ]
     },
     "execution_count": 3,
     "metadata": {},
     "output_type": "execute_result"
    }
   ],
   "source": [
    "county_id_name_fips = pd.read_csv(Min_data_base + \"county_id_name_fips.csv\")\n",
    "county_id_name_fips.rename(columns=lambda x: x.lower().replace(\" \", \"_\"), inplace=True)\n",
    "\n",
    "county_id_name_fips.sort_values(by=[\"state\", \"county\"], inplace=True)\n",
    "\n",
    "county_id_name_fips = rc.correct_Mins_FIPS(df=county_id_name_fips, col_=\"county\")\n",
    "county_id_name_fips.rename(columns={\"county\": \"county_fips\"}, inplace=True)\n",
    "\n",
    "county_id_name_fips[\"state_fip\"] = county_id_name_fips.county_fips.str.slice(0, 2)\n",
    "\n",
    "county_id_name_fips.reset_index(drop=True, inplace=True)\n",
    "print(len(county_id_name_fips.state.unique()))\n",
    "county_id_name_fips.head(2)"
   ]
  },
  {
   "cell_type": "code",
   "execution_count": 4,
   "id": "ddd0b339",
   "metadata": {},
   "outputs": [
    {
     "data": {
      "text/html": [
       "<div>\n",
       "<style scoped>\n",
       "    .dataframe tbody tr th:only-of-type {\n",
       "        vertical-align: middle;\n",
       "    }\n",
       "\n",
       "    .dataframe tbody tr th {\n",
       "        vertical-align: top;\n",
       "    }\n",
       "\n",
       "    .dataframe thead th {\n",
       "        text-align: right;\n",
       "    }\n",
       "</style>\n",
       "<table border=\"1\" class=\"dataframe\">\n",
       "  <thead>\n",
       "    <tr style=\"text-align: right;\">\n",
       "      <th></th>\n",
       "      <th>county_fips</th>\n",
       "      <th>county_name</th>\n",
       "      <th>fips</th>\n",
       "      <th>state</th>\n",
       "      <th>state_fip</th>\n",
       "      <th>EW</th>\n",
       "    </tr>\n",
       "  </thead>\n",
       "  <tbody>\n",
       "    <tr>\n",
       "      <th>0</th>\n",
       "      <td>02013</td>\n",
       "      <td>Aleutians East Borough</td>\n",
       "      <td>2013</td>\n",
       "      <td>AK</td>\n",
       "      <td>02</td>\n",
       "      <td>E</td>\n",
       "    </tr>\n",
       "    <tr>\n",
       "      <th>1</th>\n",
       "      <td>02016</td>\n",
       "      <td>Aleutians West Census Area</td>\n",
       "      <td>2016</td>\n",
       "      <td>AK</td>\n",
       "      <td>02</td>\n",
       "      <td>E</td>\n",
       "    </tr>\n",
       "  </tbody>\n",
       "</table>\n",
       "</div>"
      ],
      "text/plain": [
       "  county_fips                 county_name  fips state state_fip EW\n",
       "0       02013      Aleutians East Borough  2013    AK        02  E\n",
       "1       02016  Aleutians West Census Area  2016    AK        02  E"
      ]
     },
     "execution_count": 4,
     "metadata": {},
     "output_type": "execute_result"
    }
   ],
   "source": [
    "county_id_name_fips[\"EW\"] = \"E\"\n",
    "county_id_name_fips.head(2)"
   ]
  },
  {
   "cell_type": "code",
   "execution_count": 5,
   "id": "1a285d97",
   "metadata": {},
   "outputs": [],
   "source": [
    "SoI = [\n",
    "    \"Alabama\",\n",
    "    \"Arizona\",\n",
    "    \"Arkansas\",\n",
    "    \"California\",\n",
    "    \"Colorado\",\n",
    "    \"Florida\",\n",
    "    \"Georgia\",\n",
    "    \"Idaho\",\n",
    "    \"Illinois\",\n",
    "    \"Iowa\",\n",
    "    \"Kansas\",\n",
    "    \"Kentucky\",\n",
    "    \"Louisiana\",\n",
    "    \"Mississippi\",\n",
    "    \"Missouri\",\n",
    "    \"Montana\",\n",
    "    \"Nebraska\",\n",
    "    \"Nevada\",\n",
    "    \"New Mexico\",\n",
    "    \"North Dakota\",\n",
    "    \"Oklahoma\",\n",
    "    \"Oregon\",\n",
    "    \"South Dakota\",\n",
    "    \"Tennessee\",\n",
    "    \"Texas\",\n",
    "    \"Utah\",\n",
    "    \"Virginia\",\n",
    "    \"Washington\",\n",
    "    \"Wyoming\",\n",
    "]\n",
    "\n",
    "abb_dict = pd.read_pickle(param_dir + \"state_abbreviations.sav\")\n",
    "# SoI_abb = []\n",
    "# for x in SoI:\n",
    "#     SoI_abb = SoI_abb + [abb_dict[\"full_2_abb\"][x]]"
   ]
  },
  {
   "cell_type": "code",
   "execution_count": 6,
   "id": "7f74ce80",
   "metadata": {},
   "outputs": [
    {
     "data": {
      "text/plain": [
       "dict_keys(['abb_2_full', 'full_2_abb', 'Author', 'Date'])"
      ]
     },
     "execution_count": 6,
     "metadata": {},
     "output_type": "execute_result"
    }
   ],
   "source": [
    "abb_dict.keys()"
   ]
  },
  {
   "cell_type": "code",
   "execution_count": 7,
   "id": "0173af67",
   "metadata": {},
   "outputs": [
    {
     "data": {
      "text/plain": [
       "{'Alabama': 'AL', 'Alaska': 'AK', 'Arizona': 'AZ', 'Arkansas': 'AR'}"
      ]
     },
     "execution_count": 7,
     "metadata": {},
     "output_type": "execute_result"
    }
   ],
   "source": [
    "# list(abb_dict[\"full_2_abb\"].keys())[0:4]\n",
    "\n",
    "n = 4\n",
    "{key:value for key,value in list(abb_dict[\"full_2_abb\"].items())[0:n]}"
   ]
  },
  {
   "cell_type": "code",
   "execution_count": 8,
   "id": "84d68fdb",
   "metadata": {},
   "outputs": [
    {
     "data": {
      "text/plain": [
       "19"
      ]
     },
     "execution_count": 8,
     "metadata": {},
     "output_type": "execute_result"
    }
   ],
   "source": [
    "West_of_Mississippi = [\"Alaska\", \"Washington\", \"Oregon\", \"California\", \"Idaho\",\n",
    "                       \"Nevada\", \"Utah\", \"Arizona\", \"Montana\", \"Wyoming\", \n",
    "                       \"Colorado\", \"New Mexico\", \"Texas\", \"North Dakota\", \"South Dakota\", \n",
    "                       \"Nebraska\", \"Kansas\", \"Oklahoma\", \"Hawaii\"]\n",
    "len(West_of_Mississippi)"
   ]
  },
  {
   "cell_type": "code",
   "execution_count": 9,
   "id": "6b2503ae",
   "metadata": {},
   "outputs": [
    {
     "data": {
      "text/plain": [
       "19"
      ]
     },
     "execution_count": 9,
     "metadata": {},
     "output_type": "execute_result"
    }
   ],
   "source": [
    "len([x for x in West_of_Mississippi if x in abb_dict[\"full_2_abb\"].keys()])"
   ]
  },
  {
   "cell_type": "code",
   "execution_count": 10,
   "id": "8253bf00",
   "metadata": {},
   "outputs": [
    {
     "data": {
      "text/plain": [
       "['AK', 'AZ', 'CA']"
      ]
     },
     "execution_count": 10,
     "metadata": {},
     "output_type": "execute_result"
    }
   ],
   "source": [
    "West_of_Mississippi_abb = [value for key,value in list(abb_dict[\"full_2_abb\"].items()) if key in\n",
    "                           West_of_Mississippi]\n",
    "West_of_Mississippi_abb[:3]"
   ]
  },
  {
   "cell_type": "code",
   "execution_count": 11,
   "id": "eacb17db",
   "metadata": {},
   "outputs": [
    {
     "data": {
      "text/html": [
       "<div>\n",
       "<style scoped>\n",
       "    .dataframe tbody tr th:only-of-type {\n",
       "        vertical-align: middle;\n",
       "    }\n",
       "\n",
       "    .dataframe tbody tr th {\n",
       "        vertical-align: top;\n",
       "    }\n",
       "\n",
       "    .dataframe thead th {\n",
       "        text-align: right;\n",
       "    }\n",
       "</style>\n",
       "<table border=\"1\" class=\"dataframe\">\n",
       "  <thead>\n",
       "    <tr style=\"text-align: right;\">\n",
       "      <th></th>\n",
       "      <th>county_fips</th>\n",
       "      <th>county_name</th>\n",
       "      <th>fips</th>\n",
       "      <th>state</th>\n",
       "      <th>state_fip</th>\n",
       "      <th>EW</th>\n",
       "    </tr>\n",
       "  </thead>\n",
       "  <tbody>\n",
       "    <tr>\n",
       "      <th>0</th>\n",
       "      <td>02013</td>\n",
       "      <td>Aleutians East Borough</td>\n",
       "      <td>2013</td>\n",
       "      <td>AK</td>\n",
       "      <td>02</td>\n",
       "      <td>E</td>\n",
       "    </tr>\n",
       "    <tr>\n",
       "      <th>1</th>\n",
       "      <td>02016</td>\n",
       "      <td>Aleutians West Census Area</td>\n",
       "      <td>2016</td>\n",
       "      <td>AK</td>\n",
       "      <td>02</td>\n",
       "      <td>E</td>\n",
       "    </tr>\n",
       "  </tbody>\n",
       "</table>\n",
       "</div>"
      ],
      "text/plain": [
       "  county_fips                 county_name  fips state state_fip EW\n",
       "0       02013      Aleutians East Borough  2013    AK        02  E\n",
       "1       02016  Aleutians West Census Area  2016    AK        02  E"
      ]
     },
     "execution_count": 11,
     "metadata": {},
     "output_type": "execute_result"
    }
   ],
   "source": [
    "county_id_name_fips.head(2)"
   ]
  },
  {
   "cell_type": "code",
   "execution_count": 12,
   "id": "f02175cd",
   "metadata": {},
   "outputs": [],
   "source": [
    "county_id_name_fips.loc[county_id_name_fips.state.isin(West_of_Mississippi_abb), \"EW\"] = \"W\""
   ]
  },
  {
   "cell_type": "code",
   "execution_count": 13,
   "id": "97a828ba",
   "metadata": {},
   "outputs": [
    {
     "data": {
      "text/plain": [
       "array(['W'], dtype=object)"
      ]
     },
     "execution_count": 13,
     "metadata": {},
     "output_type": "execute_result"
    }
   ],
   "source": [
    "county_id_name_fips[county_id_name_fips.state.isin(West_of_Mississippi_abb)].EW.unique()"
   ]
  },
  {
   "cell_type": "code",
   "execution_count": 14,
   "id": "8fa1c113",
   "metadata": {},
   "outputs": [
    {
     "data": {
      "text/plain": [
       "array(['E'], dtype=object)"
      ]
     },
     "execution_count": 14,
     "metadata": {},
     "output_type": "execute_result"
    }
   ],
   "source": [
    "county_id_name_fips.loc[~(county_id_name_fips.state.isin(West_of_Mississippi_abb)), \"EW\"].unique()"
   ]
  },
  {
   "cell_type": "code",
   "execution_count": 15,
   "id": "ef397188",
   "metadata": {},
   "outputs": [],
   "source": [
    "import pickle\n",
    "from datetime import datetime\n",
    "\n",
    "filename = reOrganized_dir + \"county_fips.sav\"\n",
    "\n",
    "export_ = {\"county_fips\": county_id_name_fips, \n",
    "           \"source_code\" : \"correct_county_id_name_fips_EastWest.ipynb\",\n",
    "           \"Author\": \"HN\",\n",
    "           \"Date\" : datetime.now().strftime('%Y-%m-%d %H:%M:%S')}\n",
    "\n",
    "pickle.dump(export_, open(filename, 'wb'))"
   ]
  }
 ],
 "metadata": {
  "kernelspec": {
   "display_name": "Python 3 (ipykernel)",
   "language": "python",
   "name": "python3"
  },
  "language_info": {
   "codemirror_mode": {
    "name": "ipython",
    "version": 3
   },
   "file_extension": ".py",
   "mimetype": "text/x-python",
   "name": "python",
   "nbconvert_exporter": "python",
   "pygments_lexer": "ipython3",
   "version": "3.11.2"
  }
 },
 "nbformat": 4,
 "nbformat_minor": 5
}
