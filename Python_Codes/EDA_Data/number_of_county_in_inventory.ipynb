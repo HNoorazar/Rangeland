{
 "cells": [
  {
   "cell_type": "code",
   "execution_count": 5,
   "id": "2c6fada1",
   "metadata": {},
   "outputs": [],
   "source": [
    "import pandas as pd\n",
    "import numpy as np\n",
    "import os"
   ]
  },
  {
   "cell_type": "code",
   "execution_count": 16,
   "id": "cade8bf8",
   "metadata": {},
   "outputs": [],
   "source": [
    "data_dir_base = \"/Users/hn/Documents/01_research_data/RangeLand/Data/\"\n",
    "Shannon_data_dir = data_dir_base + \"Shannon_Data/\"\n",
    "Min_data_dir_base = data_dir_base + \"Min_Data/\"\n",
    "USDA_data_dir = data_dir_base + \"/NASS_downloads/\"\n",
    "reOrganized_dir = data_dir_base + \"reOrganized/\"\n",
    "os.makedirs(reOrganized_dir, exist_ok=True)\n",
    "\n",
    "import sys\n",
    "sys.path.append(\"/Users/hn/Documents/00_GitHub/Rangeland/Python_Codes/\")\n",
    "import rangeland_core as rc"
   ]
  },
  {
   "cell_type": "code",
   "execution_count": 8,
   "id": "6cdf7e02",
   "metadata": {},
   "outputs": [
    {
     "data": {
      "text/html": [
       "<div>\n",
       "<style scoped>\n",
       "    .dataframe tbody tr th:only-of-type {\n",
       "        vertical-align: middle;\n",
       "    }\n",
       "\n",
       "    .dataframe tbody tr th {\n",
       "        vertical-align: top;\n",
       "    }\n",
       "\n",
       "    .dataframe thead th {\n",
       "        text-align: right;\n",
       "    }\n",
       "</style>\n",
       "<table border=\"1\" class=\"dataframe\">\n",
       "  <thead>\n",
       "    <tr style=\"text-align: right;\">\n",
       "      <th></th>\n",
       "      <th>program</th>\n",
       "      <th>year</th>\n",
       "      <th>period</th>\n",
       "      <th>week_ending</th>\n",
       "      <th>geo_level</th>\n",
       "      <th>state</th>\n",
       "      <th>state_ansi</th>\n",
       "      <th>ag_district</th>\n",
       "      <th>ag_district_code</th>\n",
       "      <th>county</th>\n",
       "      <th>...</th>\n",
       "      <th>zip_code</th>\n",
       "      <th>region</th>\n",
       "      <th>watershed_code</th>\n",
       "      <th>watershed</th>\n",
       "      <th>commodity</th>\n",
       "      <th>data_item</th>\n",
       "      <th>domain</th>\n",
       "      <th>domain_category</th>\n",
       "      <th>value</th>\n",
       "      <th>cv_(%)</th>\n",
       "    </tr>\n",
       "  </thead>\n",
       "  <tbody>\n",
       "    <tr>\n",
       "      <th>0</th>\n",
       "      <td>CENSUS</td>\n",
       "      <td>2017</td>\n",
       "      <td>END OF DEC</td>\n",
       "      <td>NaN</td>\n",
       "      <td>COUNTY</td>\n",
       "      <td>ALABAMA</td>\n",
       "      <td>1</td>\n",
       "      <td>BLACK BELT</td>\n",
       "      <td>40</td>\n",
       "      <td>AUTAUGA</td>\n",
       "      <td>...</td>\n",
       "      <td>NaN</td>\n",
       "      <td>NaN</td>\n",
       "      <td>0</td>\n",
       "      <td>NaN</td>\n",
       "      <td>CATTLE</td>\n",
       "      <td>CATTLE, COWS, BEEF - INVENTORY</td>\n",
       "      <td>TOTAL</td>\n",
       "      <td>NOT SPECIFIED</td>\n",
       "      <td>8,678</td>\n",
       "      <td>20.9</td>\n",
       "    </tr>\n",
       "    <tr>\n",
       "      <th>1</th>\n",
       "      <td>CENSUS</td>\n",
       "      <td>2017</td>\n",
       "      <td>END OF DEC</td>\n",
       "      <td>NaN</td>\n",
       "      <td>COUNTY</td>\n",
       "      <td>ALABAMA</td>\n",
       "      <td>1</td>\n",
       "      <td>BLACK BELT</td>\n",
       "      <td>40</td>\n",
       "      <td>BULLOCK</td>\n",
       "      <td>...</td>\n",
       "      <td>NaN</td>\n",
       "      <td>NaN</td>\n",
       "      <td>0</td>\n",
       "      <td>NaN</td>\n",
       "      <td>CATTLE</td>\n",
       "      <td>CATTLE, COWS, BEEF - INVENTORY</td>\n",
       "      <td>TOTAL</td>\n",
       "      <td>NOT SPECIFIED</td>\n",
       "      <td>(D)</td>\n",
       "      <td>(D)</td>\n",
       "    </tr>\n",
       "  </tbody>\n",
       "</table>\n",
       "<p>2 rows × 21 columns</p>\n",
       "</div>"
      ],
      "text/plain": [
       "  program  year      period  week_ending geo_level    state  state_ansi   \n",
       "0  CENSUS  2017  END OF DEC          NaN    COUNTY  ALABAMA           1  \\\n",
       "1  CENSUS  2017  END OF DEC          NaN    COUNTY  ALABAMA           1   \n",
       "\n",
       "  ag_district  ag_district_code   county  ...  zip_code  region   \n",
       "0  BLACK BELT                40  AUTAUGA  ...       NaN     NaN  \\\n",
       "1  BLACK BELT                40  BULLOCK  ...       NaN     NaN   \n",
       "\n",
       "   watershed_code  watershed  commodity                       data_item   \n",
       "0               0        NaN     CATTLE  CATTLE, COWS, BEEF - INVENTORY  \\\n",
       "1               0        NaN     CATTLE  CATTLE, COWS, BEEF - INVENTORY   \n",
       "\n",
       "  domain domain_category  value cv_(%)  \n",
       "0  TOTAL   NOT SPECIFIED  8,678   20.9  \n",
       "1  TOTAL   NOT SPECIFIED    (D)    (D)  \n",
       "\n",
       "[2 rows x 21 columns]"
      ]
     },
     "execution_count": 8,
     "metadata": {},
     "output_type": "execute_result"
    }
   ],
   "source": [
    "cattle_inventory = pd.read_csv(USDA_data_dir + \"/cow_inventory_Qs/\"+ \"Q4.csv\")\n",
    "cattle_inventory.rename(columns=lambda x: x.lower().replace(' ', '_'), inplace=True) \n",
    "cattle_inventory.head(2)"
   ]
  },
  {
   "cell_type": "code",
   "execution_count": 9,
   "id": "2918eb83",
   "metadata": {},
   "outputs": [],
   "source": [
    "bad_cols  = [\"watershed\", \"watershed_code\", \n",
    "             \"domain\", \"domain_category\", \n",
    "             \"region\", \"period\",\n",
    "             \"week_ending\", \"zip_code\", \"program\", \"geo_level\"]\n",
    "\n",
    "\n",
    "meta_cols = [\"state\", \"county\", \"county_ansi\", \"state_ansi\", \"ag_district_code\"]"
   ]
  },
  {
   "cell_type": "code",
   "execution_count": 10,
   "id": "906eed55",
   "metadata": {},
   "outputs": [],
   "source": [
    "cattle_inventory.drop(bad_cols, axis=\"columns\", inplace=True)"
   ]
  },
  {
   "cell_type": "code",
   "execution_count": 11,
   "id": "c9005f4d",
   "metadata": {},
   "outputs": [
    {
     "data": {
      "text/html": [
       "<div>\n",
       "<style scoped>\n",
       "    .dataframe tbody tr th:only-of-type {\n",
       "        vertical-align: middle;\n",
       "    }\n",
       "\n",
       "    .dataframe tbody tr th {\n",
       "        vertical-align: top;\n",
       "    }\n",
       "\n",
       "    .dataframe thead th {\n",
       "        text-align: right;\n",
       "    }\n",
       "</style>\n",
       "<table border=\"1\" class=\"dataframe\">\n",
       "  <thead>\n",
       "    <tr style=\"text-align: right;\">\n",
       "      <th></th>\n",
       "      <th>state</th>\n",
       "      <th>county</th>\n",
       "      <th>state_ansi</th>\n",
       "      <th>county_ansi</th>\n",
       "      <th>county_fips</th>\n",
       "    </tr>\n",
       "  </thead>\n",
       "  <tbody>\n",
       "    <tr>\n",
       "      <th>0</th>\n",
       "      <td>Alabama</td>\n",
       "      <td>Autauga</td>\n",
       "      <td>01</td>\n",
       "      <td>001</td>\n",
       "      <td>01001</td>\n",
       "    </tr>\n",
       "    <tr>\n",
       "      <th>1</th>\n",
       "      <td>Alabama</td>\n",
       "      <td>Bullock</td>\n",
       "      <td>01</td>\n",
       "      <td>011</td>\n",
       "      <td>01011</td>\n",
       "    </tr>\n",
       "    <tr>\n",
       "      <th>2</th>\n",
       "      <td>Alabama</td>\n",
       "      <td>Dallas</td>\n",
       "      <td>01</td>\n",
       "      <td>047</td>\n",
       "      <td>01047</td>\n",
       "    </tr>\n",
       "    <tr>\n",
       "      <th>3</th>\n",
       "      <td>Alabama</td>\n",
       "      <td>Elmore</td>\n",
       "      <td>01</td>\n",
       "      <td>051</td>\n",
       "      <td>01051</td>\n",
       "    </tr>\n",
       "    <tr>\n",
       "      <th>4</th>\n",
       "      <td>Alabama</td>\n",
       "      <td>Greene</td>\n",
       "      <td>01</td>\n",
       "      <td>063</td>\n",
       "      <td>01063</td>\n",
       "    </tr>\n",
       "  </tbody>\n",
       "</table>\n",
       "</div>"
      ],
      "text/plain": [
       "     state   county state_ansi county_ansi county_fips\n",
       "0  Alabama  Autauga         01         001       01001\n",
       "1  Alabama  Bullock         01         011       01011\n",
       "2  Alabama   Dallas         01         047       01047\n",
       "3  Alabama   Elmore         01         051       01051\n",
       "4  Alabama   Greene         01         063       01063"
      ]
     },
     "execution_count": 11,
     "metadata": {},
     "output_type": "execute_result"
    }
   ],
   "source": [
    "cattle_inventory['county_ansi'].fillna(666, inplace=True)\n",
    "\n",
    "cattle_inventory[\"state_ansi\"] = cattle_inventory[\"state_ansi\"].astype('int32')\n",
    "cattle_inventory[\"county_ansi\"] = cattle_inventory[\"county_ansi\"].astype('int32')\n",
    "\n",
    "cattle_inventory[\"state_ansi\"] = cattle_inventory[\"state_ansi\"].astype('str')\n",
    "cattle_inventory[\"county_ansi\"] = cattle_inventory[\"county_ansi\"].astype('str')\n",
    "\n",
    "cattle_inventory.state = cattle_inventory.state.str.title()\n",
    "cattle_inventory.county = cattle_inventory.county.str.title()\n",
    "\n",
    "for idx in cattle_inventory.index:\n",
    "    if len(cattle_inventory.loc[idx, \"state_ansi\"]) == 1:\n",
    "        cattle_inventory.loc[idx, \"state_ansi\"] = \"0\" + cattle_inventory.loc[idx, \"state_ansi\"]\n",
    "        \n",
    "    if len(cattle_inventory.loc[idx, \"county_ansi\"]) == 1:\n",
    "        cattle_inventory.loc[idx, \"county_ansi\"] = \"00\" + cattle_inventory.loc[idx, \"county_ansi\"]\n",
    "    elif len(cattle_inventory.loc[idx, \"county_ansi\"]) == 2:\n",
    "        cattle_inventory.loc[idx, \"county_ansi\"] = \"0\" + cattle_inventory.loc[idx, \"county_ansi\"]\n",
    "        \n",
    "        \n",
    "cattle_inventory[\"county_fips\"] = cattle_inventory[\"state_ansi\"] + cattle_inventory[\"county_ansi\"]\n",
    "cattle_inventory[[\"state\", \"county\", \"state_ansi\", \"county_ansi\", \"county_fips\"]].head(5)"
   ]
  },
  {
   "cell_type": "code",
   "execution_count": 14,
   "id": "6d0a8a5a",
   "metadata": {},
   "outputs": [
    {
     "data": {
      "text/html": [
       "<div>\n",
       "<style scoped>\n",
       "    .dataframe tbody tr th:only-of-type {\n",
       "        vertical-align: middle;\n",
       "    }\n",
       "\n",
       "    .dataframe tbody tr th {\n",
       "        vertical-align: top;\n",
       "    }\n",
       "\n",
       "    .dataframe thead th {\n",
       "        text-align: right;\n",
       "    }\n",
       "</style>\n",
       "<table border=\"1\" class=\"dataframe\">\n",
       "  <thead>\n",
       "    <tr style=\"text-align: right;\">\n",
       "      <th></th>\n",
       "      <th>year</th>\n",
       "      <th>state</th>\n",
       "      <th>state_ansi</th>\n",
       "      <th>ag_district</th>\n",
       "      <th>ag_district_code</th>\n",
       "      <th>county</th>\n",
       "      <th>county_ansi</th>\n",
       "      <th>commodity</th>\n",
       "      <th>data_item</th>\n",
       "      <th>value</th>\n",
       "      <th>cv_(%)</th>\n",
       "      <th>county_fips</th>\n",
       "    </tr>\n",
       "  </thead>\n",
       "  <tbody>\n",
       "    <tr>\n",
       "      <th>0</th>\n",
       "      <td>2017</td>\n",
       "      <td>Alabama</td>\n",
       "      <td>01</td>\n",
       "      <td>BLACK BELT</td>\n",
       "      <td>40</td>\n",
       "      <td>Autauga</td>\n",
       "      <td>001</td>\n",
       "      <td>CATTLE</td>\n",
       "      <td>CATTLE, COWS, BEEF - INVENTORY</td>\n",
       "      <td>8,678</td>\n",
       "      <td>20.9</td>\n",
       "      <td>01001</td>\n",
       "    </tr>\n",
       "    <tr>\n",
       "      <th>1</th>\n",
       "      <td>2017</td>\n",
       "      <td>Alabama</td>\n",
       "      <td>01</td>\n",
       "      <td>BLACK BELT</td>\n",
       "      <td>40</td>\n",
       "      <td>Bullock</td>\n",
       "      <td>011</td>\n",
       "      <td>CATTLE</td>\n",
       "      <td>CATTLE, COWS, BEEF - INVENTORY</td>\n",
       "      <td>(D)</td>\n",
       "      <td>(D)</td>\n",
       "      <td>01011</td>\n",
       "    </tr>\n",
       "  </tbody>\n",
       "</table>\n",
       "</div>"
      ],
      "text/plain": [
       "   year    state state_ansi ag_district  ag_district_code   county   \n",
       "0  2017  Alabama         01  BLACK BELT                40  Autauga  \\\n",
       "1  2017  Alabama         01  BLACK BELT                40  Bullock   \n",
       "\n",
       "  county_ansi commodity                       data_item  value cv_(%)   \n",
       "0         001    CATTLE  CATTLE, COWS, BEEF - INVENTORY  8,678   20.9  \\\n",
       "1         011    CATTLE  CATTLE, COWS, BEEF - INVENTORY    (D)    (D)   \n",
       "\n",
       "  county_fips  \n",
       "0       01001  \n",
       "1       01011  "
      ]
     },
     "execution_count": 14,
     "metadata": {},
     "output_type": "execute_result"
    }
   ],
   "source": [
    "cattle_inventory.head(2)"
   ]
  },
  {
   "cell_type": "code",
   "execution_count": 12,
   "id": "4776943c",
   "metadata": {},
   "outputs": [
    {
     "data": {
      "text/plain": [
       "25"
      ]
     },
     "execution_count": 12,
     "metadata": {},
     "output_type": "execute_result"
    }
   ],
   "source": [
    "len(cattle_inventory.state.unique())"
   ]
  },
  {
   "cell_type": "code",
   "execution_count": 13,
   "id": "f527743e",
   "metadata": {},
   "outputs": [
    {
     "data": {
      "text/plain": [
       "2101"
      ]
     },
     "execution_count": 13,
     "metadata": {},
     "output_type": "execute_result"
    }
   ],
   "source": [
    "len(cattle_inventory.county_fips.unique())"
   ]
  },
  {
   "cell_type": "code",
   "execution_count": 18,
   "id": "3203559c",
   "metadata": {},
   "outputs": [
    {
     "name": "stdout",
     "output_type": "stream",
     "text": [
      "(10484, 12)\n",
      "(7900, 12)\n"
     ]
    }
   ],
   "source": [
    "cattle_inventory.rename(\n",
    "    columns={\"value\": \"cattle_cow_beef_inventory\", \"cv_(%)\": \"cattle_cow_beef_inventory_cv_(%)\"},\n",
    "    inplace=True,\n",
    ")\n",
    "\n",
    "print (cattle_inventory.shape)\n",
    "cattle_inventory = rc.clean_census(df=cattle_inventory, col_=\"cattle_cow_beef_inventory\")\n",
    "print (cattle_inventory.shape)"
   ]
  },
  {
   "cell_type": "code",
   "execution_count": 19,
   "id": "708f4c97",
   "metadata": {},
   "outputs": [
    {
     "data": {
      "text/plain": [
       "2052"
      ]
     },
     "execution_count": 19,
     "metadata": {},
     "output_type": "execute_result"
    }
   ],
   "source": [
    "len(cattle_inventory.county_fips.unique())"
   ]
  },
  {
   "cell_type": "code",
   "execution_count": 21,
   "id": "fb82842c",
   "metadata": {},
   "outputs": [
    {
     "data": {
      "text/html": [
       "<div>\n",
       "<style scoped>\n",
       "    .dataframe tbody tr th:only-of-type {\n",
       "        vertical-align: middle;\n",
       "    }\n",
       "\n",
       "    .dataframe tbody tr th {\n",
       "        vertical-align: top;\n",
       "    }\n",
       "\n",
       "    .dataframe thead th {\n",
       "        text-align: right;\n",
       "    }\n",
       "</style>\n",
       "<table border=\"1\" class=\"dataframe\">\n",
       "  <thead>\n",
       "    <tr style=\"text-align: right;\">\n",
       "      <th></th>\n",
       "      <th>year</th>\n",
       "      <th>county_fips</th>\n",
       "      <th>modis_npp</th>\n",
       "    </tr>\n",
       "  </thead>\n",
       "  <tbody>\n",
       "    <tr>\n",
       "      <th>0</th>\n",
       "      <td>2001</td>\n",
       "      <td>01003</td>\n",
       "      <td>0.926441</td>\n",
       "    </tr>\n",
       "    <tr>\n",
       "      <th>1</th>\n",
       "      <td>2001</td>\n",
       "      <td>01005</td>\n",
       "      <td>0.629133</td>\n",
       "    </tr>\n",
       "  </tbody>\n",
       "</table>\n",
       "</div>"
      ],
      "text/plain": [
       "   year county_fips  modis_npp\n",
       "0  2001       01003   0.926441\n",
       "1  2001       01005   0.629133"
      ]
     },
     "execution_count": 21,
     "metadata": {},
     "output_type": "execute_result"
    }
   ],
   "source": [
    "NPP = pd.read_csv(Min_data_dir_base + \"county_annual_MODIS_NPP.csv\")\n",
    "NPP.rename(columns={\"NPP\": \"modis_npp\"}, inplace=True)\n",
    "\n",
    "NPP = rc.correct_Mins_FIPS(df=NPP, col_=\"county\")\n",
    "NPP.rename(columns={\"county\": \"county_fips\"}, inplace=True)\n",
    "\n",
    "NPP.head(2)"
   ]
  },
  {
   "cell_type": "code",
   "execution_count": 23,
   "id": "c80713f1",
   "metadata": {},
   "outputs": [
    {
     "data": {
      "text/plain": [
       "2256"
      ]
     },
     "execution_count": 23,
     "metadata": {},
     "output_type": "execute_result"
    }
   ],
   "source": [
    "len(NPP.county_fips.unique())"
   ]
  },
  {
   "cell_type": "code",
   "execution_count": 24,
   "id": "35c47afe",
   "metadata": {},
   "outputs": [
    {
     "data": {
      "text/plain": [
       "2001"
      ]
     },
     "execution_count": 24,
     "metadata": {},
     "output_type": "execute_result"
    }
   ],
   "source": [
    "NPP.year.min()"
   ]
  },
  {
   "cell_type": "code",
   "execution_count": 26,
   "id": "7e1b6842",
   "metadata": {},
   "outputs": [
    {
     "data": {
      "text/plain": [
       "[1997, 2002, 2007, 2012, 2017]"
      ]
     },
     "execution_count": 26,
     "metadata": {},
     "output_type": "execute_result"
    }
   ],
   "source": [
    "sorted(cattle_inventory.year.unique())"
   ]
  },
  {
   "cell_type": "code",
   "execution_count": 27,
   "id": "efae8847",
   "metadata": {},
   "outputs": [],
   "source": [
    "NPP = NPP[NPP.year >= 2002]\n",
    "cattle_inventory = cattle_inventory[cattle_inventory.year >= 2002]"
   ]
  },
  {
   "cell_type": "code",
   "execution_count": 29,
   "id": "d1af32dd",
   "metadata": {},
   "outputs": [
    {
     "data": {
      "text/plain": [
       "2000"
      ]
     },
     "execution_count": 29,
     "metadata": {},
     "output_type": "execute_result"
    }
   ],
   "source": [
    "len(cattle_inventory.county_fips.unique())"
   ]
  },
  {
   "cell_type": "code",
   "execution_count": 30,
   "id": "d15e853f",
   "metadata": {},
   "outputs": [],
   "source": [
    "NPP_counties = set(NPP.county_fips)\n",
    "cattle_inventory_counties = set(cattle_inventory.county_fips)"
   ]
  },
  {
   "cell_type": "markdown",
   "id": "7f665bf0",
   "metadata": {},
   "source": [
    "# intersetion of counties in common between NPP and cow_inventory"
   ]
  },
  {
   "cell_type": "code",
   "execution_count": 33,
   "id": "64d7388f",
   "metadata": {},
   "outputs": [
    {
     "data": {
      "text/plain": [
       "1489"
      ]
     },
     "execution_count": 33,
     "metadata": {},
     "output_type": "execute_result"
    }
   ],
   "source": [
    "intersected_counties = NPP_counties.intersection(cattle_inventory_counties)\n",
    "len(intersected_counties)"
   ]
  },
  {
   "cell_type": "markdown",
   "id": "85dc075a",
   "metadata": {},
   "source": [
    "# Counties for which we have data for all years"
   ]
  },
  {
   "cell_type": "code",
   "execution_count": 34,
   "id": "6067a486",
   "metadata": {},
   "outputs": [],
   "source": [
    "NPP = NPP[NPP.county_fips.isin(intersected_counties)]\n",
    "cattle_inventory = cattle_inventory[cattle_inventory.county_fips.isin(intersected_counties)]\n",
    "cattle_inventory = cattle_inventory[[\"year\", \"county_fips\", \"cattle_cow_beef_inventory\"]]"
   ]
  },
  {
   "cell_type": "code",
   "execution_count": 45,
   "id": "768a95bc",
   "metadata": {},
   "outputs": [
    {
     "data": {
      "text/html": [
       "<div>\n",
       "<style scoped>\n",
       "    .dataframe tbody tr th:only-of-type {\n",
       "        vertical-align: middle;\n",
       "    }\n",
       "\n",
       "    .dataframe tbody tr th {\n",
       "        vertical-align: top;\n",
       "    }\n",
       "\n",
       "    .dataframe thead th {\n",
       "        text-align: right;\n",
       "    }\n",
       "</style>\n",
       "<table border=\"1\" class=\"dataframe\">\n",
       "  <thead>\n",
       "    <tr style=\"text-align: right;\">\n",
       "      <th></th>\n",
       "      <th>year</th>\n",
       "      <th>county_fips</th>\n",
       "      <th>cattle_cow_beef_inventory</th>\n",
       "    </tr>\n",
       "  </thead>\n",
       "  <tbody>\n",
       "    <tr>\n",
       "      <th>0</th>\n",
       "      <td>2017</td>\n",
       "      <td>01003</td>\n",
       "      <td>11212.0</td>\n",
       "    </tr>\n",
       "    <tr>\n",
       "      <th>1</th>\n",
       "      <td>2017</td>\n",
       "      <td>01035</td>\n",
       "      <td>6851.0</td>\n",
       "    </tr>\n",
       "  </tbody>\n",
       "</table>\n",
       "</div>"
      ],
      "text/plain": [
       "   year county_fips  cattle_cow_beef_inventory\n",
       "0  2017       01003                    11212.0\n",
       "1  2017       01035                     6851.0"
      ]
     },
     "execution_count": 45,
     "metadata": {},
     "output_type": "execute_result"
    }
   ],
   "source": [
    "NPP.reset_index(drop=True, inplace=True)\n",
    "cattle_inventory.reset_index(drop=True, inplace=True)\n",
    "cattle_inventory.head(2)"
   ]
  },
  {
   "cell_type": "code",
   "execution_count": 46,
   "id": "00013c68",
   "metadata": {},
   "outputs": [
    {
     "data": {
      "text/html": [
       "<div>\n",
       "<style scoped>\n",
       "    .dataframe tbody tr th:only-of-type {\n",
       "        vertical-align: middle;\n",
       "    }\n",
       "\n",
       "    .dataframe tbody tr th {\n",
       "        vertical-align: top;\n",
       "    }\n",
       "\n",
       "    .dataframe thead th {\n",
       "        text-align: right;\n",
       "    }\n",
       "</style>\n",
       "<table border=\"1\" class=\"dataframe\">\n",
       "  <thead>\n",
       "    <tr style=\"text-align: right;\">\n",
       "      <th></th>\n",
       "      <th>year</th>\n",
       "      <th>county_fips</th>\n",
       "      <th>modis_npp</th>\n",
       "    </tr>\n",
       "  </thead>\n",
       "  <tbody>\n",
       "    <tr>\n",
       "      <th>0</th>\n",
       "      <td>2002</td>\n",
       "      <td>01003</td>\n",
       "      <td>0.826076</td>\n",
       "    </tr>\n",
       "    <tr>\n",
       "      <th>1</th>\n",
       "      <td>2002</td>\n",
       "      <td>01005</td>\n",
       "      <td>0.484333</td>\n",
       "    </tr>\n",
       "  </tbody>\n",
       "</table>\n",
       "</div>"
      ],
      "text/plain": [
       "   year county_fips  modis_npp\n",
       "0  2002       01003   0.826076\n",
       "1  2002       01005   0.484333"
      ]
     },
     "execution_count": 46,
     "metadata": {},
     "output_type": "execute_result"
    }
   ],
   "source": [
    "NPP.head(2)"
   ]
  },
  {
   "cell_type": "code",
   "execution_count": 49,
   "id": "71a9f70a",
   "metadata": {},
   "outputs": [],
   "source": [
    "NPP_inventory = pd.merge(NPP, cattle_inventory, on = [\"county_fips\", \"year\"], how = \"left\")\n",
    "\n",
    "print (len(NPP_inventory.county_fips.unique()))\n",
    "NPP_inventory.dropna(how=\"any\", inplace=True)\n",
    "\n",
    "print (len(NPP_inventory.county_fips.unique()))"
   ]
  },
  {
   "cell_type": "code",
   "execution_count": 59,
   "id": "fb1757b3",
   "metadata": {},
   "outputs": [],
   "source": [
    "full_counties = []\n",
    "for a_county in NPP_inventory.county_fips.unique():\n",
    "    df = NPP_inventory[NPP_inventory.county_fips == a_county]\n",
    "    if len(df.year.unique()) == 4:\n",
    "        full_counties = full_counties + [a_county]\n",
    "        "
   ]
  },
  {
   "cell_type": "code",
   "execution_count": 60,
   "id": "77ac9daa",
   "metadata": {},
   "outputs": [
    {
     "data": {
      "text/plain": [
       "695"
      ]
     },
     "execution_count": 60,
     "metadata": {},
     "output_type": "execute_result"
    }
   ],
   "source": [
    "len(full_counties)"
   ]
  },
  {
   "cell_type": "code",
   "execution_count": null,
   "id": "8e293299",
   "metadata": {},
   "outputs": [],
   "source": []
  }
 ],
 "metadata": {
  "kernelspec": {
   "display_name": "Python 3 (ipykernel)",
   "language": "python",
   "name": "python3"
  },
  "language_info": {
   "codemirror_mode": {
    "name": "ipython",
    "version": 3
   },
   "file_extension": ".py",
   "mimetype": "text/x-python",
   "name": "python",
   "nbconvert_exporter": "python",
   "pygments_lexer": "ipython3",
   "version": "3.11.2"
  }
 },
 "nbformat": 4,
 "nbformat_minor": 5
}
