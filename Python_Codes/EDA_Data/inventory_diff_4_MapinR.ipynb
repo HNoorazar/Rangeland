{
 "cells": [
  {
   "cell_type": "code",
   "execution_count": 1,
   "id": "b3f91181",
   "metadata": {},
   "outputs": [],
   "source": [
    "import shutup\n",
    "shutup.please()\n",
    "\n",
    "import pandas as pd\n",
    "import numpy as np\n",
    "from datetime import datetime\n",
    "import os, os.path, pickle, sys\n",
    "import seaborn as sns\n",
    "\n",
    "import matplotlib\n",
    "import matplotlib.pyplot as plt\n",
    "\n",
    "sys.path.append(\"/Users/hn/Documents/00_GitHub/Rangeland/Python_Codes/\")\n",
    "import rangeland_core as rc"
   ]
  },
  {
   "cell_type": "code",
   "execution_count": 2,
   "id": "ba16ae83",
   "metadata": {},
   "outputs": [],
   "source": [
    "data_dir_base = \"/Users/hn/Documents/01_research_data/RangeLand/Data/\"\n",
    "census_population_dir = data_dir_base + \"census/\"\n",
    "# Shannon_data_dir = data_dir_base + \"Shannon_Data/\"\n",
    "# USDA_data_dir = data_dir_base + \"/NASS_downloads/\"\n",
    "param_dir = data_dir_base + \"parameters/\"\n",
    "Min_data_base = data_dir_base + \"Min_Data/\"\n",
    "reOrganized_dir = data_dir_base + \"reOrganized/\"\n",
    "\n",
    "plots_dir = data_dir_base + \"plots/\""
   ]
  },
  {
   "cell_type": "code",
   "execution_count": 3,
   "id": "70a39921",
   "metadata": {},
   "outputs": [],
   "source": [
    "SoI = [\"Alabama\", \"Arkansas\", \"California\", \n",
    "       \"Colorado\", \"Florida\", \"Georgia\", \n",
    "       \"Idaho\", \"Illinois\", \"Iowa\", \n",
    "       \"Kansas\", \"Kentucky\", \"Louisiana\", \n",
    "       \"Mississippi\", \"Missouri\", \"Montana\", \n",
    "       \"Nebraska\", \"New Mexico\", \"North Dakota\", \n",
    "       \"Oklahoma\", \"Oregon\", \"South Dakota\", \n",
    "       \"Tennessee\", \"Texas\", \"Virginia\", \n",
    "       \"Wyoming\"]\n",
    "\n",
    "abb_dict = pd.read_pickle(param_dir + \"state_abbreviations.sav\")\n",
    "SoI_abb = []\n",
    "for x in SoI:\n",
    "    SoI_abb = SoI_abb + [abb_dict[\"full_2_abb\"][x]]"
   ]
  },
  {
   "cell_type": "code",
   "execution_count": 4,
   "id": "baa582f2",
   "metadata": {},
   "outputs": [
    {
     "name": "stdout",
     "output_type": "stream",
     "text": [
      "-----------  reading USDA data  -----------\n"
     ]
    },
    {
     "data": {
      "text/html": [
       "<div>\n",
       "<style scoped>\n",
       "    .dataframe tbody tr th:only-of-type {\n",
       "        vertical-align: middle;\n",
       "    }\n",
       "\n",
       "    .dataframe tbody tr th {\n",
       "        vertical-align: top;\n",
       "    }\n",
       "\n",
       "    .dataframe thead th {\n",
       "        text-align: right;\n",
       "    }\n",
       "</style>\n",
       "<table border=\"1\" class=\"dataframe\">\n",
       "  <thead>\n",
       "    <tr style=\"text-align: right;\">\n",
       "      <th></th>\n",
       "      <th>year</th>\n",
       "      <th>cattle_cow_beef_inventory</th>\n",
       "      <th>county_fips</th>\n",
       "    </tr>\n",
       "  </thead>\n",
       "  <tbody>\n",
       "    <tr>\n",
       "      <th>0</th>\n",
       "      <td>2017</td>\n",
       "      <td>8678.0</td>\n",
       "      <td>01001</td>\n",
       "    </tr>\n",
       "    <tr>\n",
       "      <th>1</th>\n",
       "      <td>2017</td>\n",
       "      <td>14589.0</td>\n",
       "      <td>01047</td>\n",
       "    </tr>\n",
       "  </tbody>\n",
       "</table>\n",
       "</div>"
      ],
      "text/plain": [
       "   year  cattle_cow_beef_inventory county_fips\n",
       "0  2017                     8678.0       01001\n",
       "1  2017                    14589.0       01047"
      ]
     },
     "execution_count": 4,
     "metadata": {},
     "output_type": "execute_result"
    }
   ],
   "source": [
    "USDA_data = pd.read_pickle(reOrganized_dir + \"USDA_data.sav\")\n",
    "print (\"-----------  reading USDA data  -----------\")\n",
    "cattle_inventory = USDA_data[\"cattle_inventory\"]\n",
    "cattle_inventory = cattle_inventory[[\"year\", \"cattle_cow_beef_inventory\", \"county_fips\"]]\n",
    "cattle_inventory.head(2)"
   ]
  },
  {
   "cell_type": "code",
   "execution_count": 5,
   "id": "083722a6",
   "metadata": {},
   "outputs": [
    {
     "data": {
      "text/html": [
       "<div>\n",
       "<style scoped>\n",
       "    .dataframe tbody tr th:only-of-type {\n",
       "        vertical-align: middle;\n",
       "    }\n",
       "\n",
       "    .dataframe tbody tr th {\n",
       "        vertical-align: top;\n",
       "    }\n",
       "\n",
       "    .dataframe thead th {\n",
       "        text-align: right;\n",
       "    }\n",
       "</style>\n",
       "<table border=\"1\" class=\"dataframe\">\n",
       "  <thead>\n",
       "    <tr style=\"text-align: right;\">\n",
       "      <th></th>\n",
       "      <th>county_fips</th>\n",
       "      <th>county_name</th>\n",
       "      <th>fips</th>\n",
       "      <th>state</th>\n",
       "    </tr>\n",
       "  </thead>\n",
       "  <tbody>\n",
       "    <tr>\n",
       "      <th>0</th>\n",
       "      <td>02013</td>\n",
       "      <td>Aleutians East Borough</td>\n",
       "      <td>2013</td>\n",
       "      <td>AK</td>\n",
       "    </tr>\n",
       "    <tr>\n",
       "      <th>1</th>\n",
       "      <td>02016</td>\n",
       "      <td>Aleutians West Census Area</td>\n",
       "      <td>2016</td>\n",
       "      <td>AK</td>\n",
       "    </tr>\n",
       "  </tbody>\n",
       "</table>\n",
       "</div>"
      ],
      "text/plain": [
       "  county_fips                 county_name  fips state\n",
       "0       02013      Aleutians East Borough  2013    AK\n",
       "1       02016  Aleutians West Census Area  2016    AK"
      ]
     },
     "execution_count": 5,
     "metadata": {},
     "output_type": "execute_result"
    }
   ],
   "source": [
    "county_id_name_fips = pd.read_csv(Min_data_base + \"county_id_name_fips.csv\")\n",
    "county_id_name_fips.rename(columns=lambda x: x.lower().replace(\" \", \"_\"), inplace=True)\n",
    "\n",
    "county_id_name_fips.sort_values(by=[\"state\", \"county\"], inplace=True)\n",
    "county_id_name_fips.rename(columns={\"county\": \"county_fips\"}, inplace=True)\n",
    "\n",
    "county_id_name_fips = rc.correct_Mins_FIPS(df=county_id_name_fips, col_=\"county_fips\")\n",
    "county_id_name_fips.reset_index(drop=True, inplace=True)\n",
    "county_id_name_fips.head(2)"
   ]
  },
  {
   "cell_type": "code",
   "execution_count": 6,
   "id": "5cf466c9",
   "metadata": {},
   "outputs": [
    {
     "data": {
      "text/html": [
       "<div>\n",
       "<style scoped>\n",
       "    .dataframe tbody tr th:only-of-type {\n",
       "        vertical-align: middle;\n",
       "    }\n",
       "\n",
       "    .dataframe tbody tr th {\n",
       "        vertical-align: top;\n",
       "    }\n",
       "\n",
       "    .dataframe thead th {\n",
       "        text-align: right;\n",
       "    }\n",
       "</style>\n",
       "<table border=\"1\" class=\"dataframe\">\n",
       "  <thead>\n",
       "    <tr style=\"text-align: right;\">\n",
       "      <th></th>\n",
       "      <th>year</th>\n",
       "      <th>cattle_cow_beef_inventory_2002</th>\n",
       "      <th>county_fips</th>\n",
       "    </tr>\n",
       "  </thead>\n",
       "  <tbody>\n",
       "    <tr>\n",
       "      <th>4553</th>\n",
       "      <td>2002</td>\n",
       "      <td>6547.0</td>\n",
       "      <td>01011</td>\n",
       "    </tr>\n",
       "    <tr>\n",
       "      <th>4554</th>\n",
       "      <td>2002</td>\n",
       "      <td>8030.0</td>\n",
       "      <td>01051</td>\n",
       "    </tr>\n",
       "  </tbody>\n",
       "</table>\n",
       "</div>"
      ],
      "text/plain": [
       "      year  cattle_cow_beef_inventory_2002 county_fips\n",
       "4553  2002                          6547.0       01011\n",
       "4554  2002                          8030.0       01051"
      ]
     },
     "execution_count": 6,
     "metadata": {},
     "output_type": "execute_result"
    }
   ],
   "source": [
    "cattle_inventory_2002 = cattle_inventory[cattle_inventory.year == 2002].copy()\n",
    "cattle_inventory_2017 = cattle_inventory[cattle_inventory.year == 2017].copy()\n",
    "\n",
    "cattle_inventory_2002.reset_index(drop=True, inplace=True)\n",
    "cattle_inventory_2017.reset_index(drop=True, inplace=True)\n",
    "\n",
    "inv_col = \"cattle_cow_beef_inventory\"\n",
    "cattle_inventory_2002.rename(columns={inv_col: \"cattle_cow_beef_inventory_2002\"}, inplace=True)\n",
    "cattle_inventory_2017.rename(columns={inv_col: \"cattle_cow_beef_inventory_2017\"}, inplace=True)\n",
    "cattle_inventory_2002.head(2)"
   ]
  },
  {
   "cell_type": "code",
   "execution_count": 7,
   "id": "d0207856",
   "metadata": {},
   "outputs": [
    {
     "data": {
      "text/html": [
       "<div>\n",
       "<style scoped>\n",
       "    .dataframe tbody tr th:only-of-type {\n",
       "        vertical-align: middle;\n",
       "    }\n",
       "\n",
       "    .dataframe tbody tr th {\n",
       "        vertical-align: top;\n",
       "    }\n",
       "\n",
       "    .dataframe thead th {\n",
       "        text-align: right;\n",
       "    }\n",
       "</style>\n",
       "<table border=\"1\" class=\"dataframe\">\n",
       "  <thead>\n",
       "    <tr style=\"text-align: right;\">\n",
       "      <th></th>\n",
       "      <th>cattle_cow_beef_inventory_2002</th>\n",
       "      <th>county_fips</th>\n",
       "      <th>cattle_cow_beef_inventory_2017</th>\n",
       "    </tr>\n",
       "  </thead>\n",
       "  <tbody>\n",
       "    <tr>\n",
       "      <th>0</th>\n",
       "      <td>6547.0</td>\n",
       "      <td>01011</td>\n",
       "      <td>NaN</td>\n",
       "    </tr>\n",
       "    <tr>\n",
       "      <th>1</th>\n",
       "      <td>8030.0</td>\n",
       "      <td>01051</td>\n",
       "      <td>6893.0</td>\n",
       "    </tr>\n",
       "  </tbody>\n",
       "</table>\n",
       "</div>"
      ],
      "text/plain": [
       "   cattle_cow_beef_inventory_2002 county_fips  cattle_cow_beef_inventory_2017\n",
       "0                          6547.0       01011                             NaN\n",
       "1                          8030.0       01051                          6893.0"
      ]
     },
     "execution_count": 7,
     "metadata": {},
     "output_type": "execute_result"
    }
   ],
   "source": [
    "invent_2002_2017 = pd.merge(cattle_inventory_2002[[\"cattle_cow_beef_inventory_2002\", \"county_fips\"]], \n",
    "                            cattle_inventory_2017[[\"cattle_cow_beef_inventory_2017\", \"county_fips\"]], \n",
    "                            on = [\"county_fips\"], how = \"left\")\n",
    "\n",
    "invent_2002_2017.head(2)"
   ]
  },
  {
   "cell_type": "code",
   "execution_count": 8,
   "id": "5edc349a",
   "metadata": {},
   "outputs": [
    {
     "name": "stdout",
     "output_type": "stream",
     "text": [
      "(1627, 3)\n",
      "(1245, 3)\n"
     ]
    }
   ],
   "source": [
    "print (invent_2002_2017.shape)\n",
    "invent_2002_2017.dropna(how='any', inplace=True)\n",
    "print (invent_2002_2017.shape)"
   ]
  },
  {
   "cell_type": "code",
   "execution_count": 9,
   "id": "16f54771",
   "metadata": {},
   "outputs": [
    {
     "data": {
      "text/html": [
       "<div>\n",
       "<style scoped>\n",
       "    .dataframe tbody tr th:only-of-type {\n",
       "        vertical-align: middle;\n",
       "    }\n",
       "\n",
       "    .dataframe tbody tr th {\n",
       "        vertical-align: top;\n",
       "    }\n",
       "\n",
       "    .dataframe thead th {\n",
       "        text-align: right;\n",
       "    }\n",
       "</style>\n",
       "<table border=\"1\" class=\"dataframe\">\n",
       "  <thead>\n",
       "    <tr style=\"text-align: right;\">\n",
       "      <th></th>\n",
       "      <th>cattle_cow_beef_inventory_2002</th>\n",
       "      <th>county_fips</th>\n",
       "      <th>cattle_cow_beef_inventory_2017</th>\n",
       "    </tr>\n",
       "  </thead>\n",
       "  <tbody>\n",
       "    <tr>\n",
       "      <th>1</th>\n",
       "      <td>8030.0</td>\n",
       "      <td>01051</td>\n",
       "      <td>6893.0</td>\n",
       "    </tr>\n",
       "    <tr>\n",
       "      <th>3</th>\n",
       "      <td>21826.0</td>\n",
       "      <td>01085</td>\n",
       "      <td>17865.0</td>\n",
       "    </tr>\n",
       "  </tbody>\n",
       "</table>\n",
       "</div>"
      ],
      "text/plain": [
       "   cattle_cow_beef_inventory_2002 county_fips  cattle_cow_beef_inventory_2017\n",
       "1                          8030.0       01051                          6893.0\n",
       "3                         21826.0       01085                         17865.0"
      ]
     },
     "execution_count": 9,
     "metadata": {},
     "output_type": "execute_result"
    }
   ],
   "source": [
    "invent_2002_2017.head(2)"
   ]
  },
  {
   "cell_type": "code",
   "execution_count": 10,
   "id": "4a392d4b",
   "metadata": {},
   "outputs": [
    {
     "data": {
      "text/html": [
       "<div>\n",
       "<style scoped>\n",
       "    .dataframe tbody tr th:only-of-type {\n",
       "        vertical-align: middle;\n",
       "    }\n",
       "\n",
       "    .dataframe tbody tr th {\n",
       "        vertical-align: top;\n",
       "    }\n",
       "\n",
       "    .dataframe thead th {\n",
       "        text-align: right;\n",
       "    }\n",
       "</style>\n",
       "<table border=\"1\" class=\"dataframe\">\n",
       "  <thead>\n",
       "    <tr style=\"text-align: right;\">\n",
       "      <th></th>\n",
       "      <th>cattle_cow_beef_inventory_2002</th>\n",
       "      <th>county_fips</th>\n",
       "      <th>cattle_cow_beef_inventory_2017</th>\n",
       "      <th>cattle_cow_beef_inv_change2002to2017</th>\n",
       "    </tr>\n",
       "  </thead>\n",
       "  <tbody>\n",
       "    <tr>\n",
       "      <th>1</th>\n",
       "      <td>8030.0</td>\n",
       "      <td>01051</td>\n",
       "      <td>6893.0</td>\n",
       "      <td>-1137.0</td>\n",
       "    </tr>\n",
       "    <tr>\n",
       "      <th>3</th>\n",
       "      <td>21826.0</td>\n",
       "      <td>01085</td>\n",
       "      <td>17865.0</td>\n",
       "      <td>-3961.0</td>\n",
       "    </tr>\n",
       "  </tbody>\n",
       "</table>\n",
       "</div>"
      ],
      "text/plain": [
       "   cattle_cow_beef_inventory_2002 county_fips  cattle_cow_beef_inventory_2017  \\\n",
       "1                          8030.0       01051                          6893.0   \n",
       "3                         21826.0       01085                         17865.0   \n",
       "\n",
       "   cattle_cow_beef_inv_change2002to2017  \n",
       "1                               -1137.0  \n",
       "3                               -3961.0  "
      ]
     },
     "execution_count": 10,
     "metadata": {},
     "output_type": "execute_result"
    }
   ],
   "source": [
    "invent_2002_2017[\"cattle_cow_beef_inv_change2002to2017\"] = invent_2002_2017[\"cattle_cow_beef_inventory_2017\"] - \\\n",
    "                                                           invent_2002_2017[\"cattle_cow_beef_inventory_2002\"]\n",
    "    \n",
    "invent_2002_2017.head(2)"
   ]
  },
  {
   "cell_type": "code",
   "execution_count": 11,
   "id": "7d9fb62b",
   "metadata": {},
   "outputs": [
    {
     "data": {
      "text/html": [
       "<div>\n",
       "<style scoped>\n",
       "    .dataframe tbody tr th:only-of-type {\n",
       "        vertical-align: middle;\n",
       "    }\n",
       "\n",
       "    .dataframe tbody tr th {\n",
       "        vertical-align: top;\n",
       "    }\n",
       "\n",
       "    .dataframe thead th {\n",
       "        text-align: right;\n",
       "    }\n",
       "</style>\n",
       "<table border=\"1\" class=\"dataframe\">\n",
       "  <thead>\n",
       "    <tr style=\"text-align: right;\">\n",
       "      <th></th>\n",
       "      <th>county_fips</th>\n",
       "      <th>cattle_cow_beef_inv_change2002to2017</th>\n",
       "    </tr>\n",
       "  </thead>\n",
       "  <tbody>\n",
       "    <tr>\n",
       "      <th>0</th>\n",
       "      <td>01051</td>\n",
       "      <td>-1137.0</td>\n",
       "    </tr>\n",
       "    <tr>\n",
       "      <th>1</th>\n",
       "      <td>01085</td>\n",
       "      <td>-3961.0</td>\n",
       "    </tr>\n",
       "  </tbody>\n",
       "</table>\n",
       "</div>"
      ],
      "text/plain": [
       "  county_fips  cattle_cow_beef_inv_change2002to2017\n",
       "0       01051                               -1137.0\n",
       "1       01085                               -3961.0"
      ]
     },
     "execution_count": 11,
     "metadata": {},
     "output_type": "execute_result"
    }
   ],
   "source": [
    "invent_2002_2017 = invent_2002_2017[[\"county_fips\", \"cattle_cow_beef_inv_change2002to2017\"]]\n",
    "invent_2002_2017.reset_index(drop=True, inplace=True)\n",
    "invent_2002_2017.head(2)"
   ]
  },
  {
   "cell_type": "code",
   "execution_count": 12,
   "id": "ef803fe5",
   "metadata": {},
   "outputs": [],
   "source": [
    "out_name = data_dir_base + \"data_4_plot/\" + \"inventory_AbsChange_2002to2017.csv\"\n",
    "invent_2002_2017.to_csv(out_name, index=False)"
   ]
  },
  {
   "cell_type": "code",
   "execution_count": 13,
   "id": "ca7cae15",
   "metadata": {},
   "outputs": [
    {
     "data": {
      "text/html": [
       "<div>\n",
       "<style scoped>\n",
       "    .dataframe tbody tr th:only-of-type {\n",
       "        vertical-align: middle;\n",
       "    }\n",
       "\n",
       "    .dataframe tbody tr th {\n",
       "        vertical-align: top;\n",
       "    }\n",
       "\n",
       "    .dataframe thead th {\n",
       "        text-align: right;\n",
       "    }\n",
       "</style>\n",
       "<table border=\"1\" class=\"dataframe\">\n",
       "  <thead>\n",
       "    <tr style=\"text-align: right;\">\n",
       "      <th></th>\n",
       "      <th>year</th>\n",
       "      <th>cattle_cow_beef_inventory</th>\n",
       "      <th>county_fips</th>\n",
       "    </tr>\n",
       "  </thead>\n",
       "  <tbody>\n",
       "    <tr>\n",
       "      <th>0</th>\n",
       "      <td>2017</td>\n",
       "      <td>8678.0</td>\n",
       "      <td>01001</td>\n",
       "    </tr>\n",
       "    <tr>\n",
       "      <th>1</th>\n",
       "      <td>2017</td>\n",
       "      <td>14589.0</td>\n",
       "      <td>01047</td>\n",
       "    </tr>\n",
       "  </tbody>\n",
       "</table>\n",
       "</div>"
      ],
      "text/plain": [
       "   year  cattle_cow_beef_inventory county_fips\n",
       "0  2017                     8678.0       01001\n",
       "1  2017                    14589.0       01047"
      ]
     },
     "execution_count": 13,
     "metadata": {},
     "output_type": "execute_result"
    }
   ],
   "source": [
    "cattle_inventory.head(2)"
   ]
  },
  {
   "cell_type": "code",
   "execution_count": 14,
   "id": "7d6b3ff3",
   "metadata": {},
   "outputs": [
    {
     "data": {
      "text/html": [
       "<div>\n",
       "<style scoped>\n",
       "    .dataframe tbody tr th:only-of-type {\n",
       "        vertical-align: middle;\n",
       "    }\n",
       "\n",
       "    .dataframe tbody tr th {\n",
       "        vertical-align: top;\n",
       "    }\n",
       "\n",
       "    .dataframe thead th {\n",
       "        text-align: right;\n",
       "    }\n",
       "</style>\n",
       "<table border=\"1\" class=\"dataframe\">\n",
       "  <thead>\n",
       "    <tr style=\"text-align: right;\">\n",
       "      <th></th>\n",
       "      <th>county_fips</th>\n",
       "      <th>county_name</th>\n",
       "      <th>fips</th>\n",
       "      <th>state</th>\n",
       "    </tr>\n",
       "  </thead>\n",
       "  <tbody>\n",
       "    <tr>\n",
       "      <th>0</th>\n",
       "      <td>02013</td>\n",
       "      <td>Aleutians East Borough</td>\n",
       "      <td>2013</td>\n",
       "      <td>AK</td>\n",
       "    </tr>\n",
       "    <tr>\n",
       "      <th>1</th>\n",
       "      <td>02016</td>\n",
       "      <td>Aleutians West Census Area</td>\n",
       "      <td>2016</td>\n",
       "      <td>AK</td>\n",
       "    </tr>\n",
       "  </tbody>\n",
       "</table>\n",
       "</div>"
      ],
      "text/plain": [
       "  county_fips                 county_name  fips state\n",
       "0       02013      Aleutians East Borough  2013    AK\n",
       "1       02016  Aleutians West Census Area  2016    AK"
      ]
     },
     "execution_count": 14,
     "metadata": {},
     "output_type": "execute_result"
    }
   ],
   "source": [
    "county_id_name_fips.head(2)"
   ]
  },
  {
   "cell_type": "code",
   "execution_count": 15,
   "id": "dab927fd",
   "metadata": {},
   "outputs": [
    {
     "data": {
      "text/html": [
       "<div>\n",
       "<style scoped>\n",
       "    .dataframe tbody tr th:only-of-type {\n",
       "        vertical-align: middle;\n",
       "    }\n",
       "\n",
       "    .dataframe tbody tr th {\n",
       "        vertical-align: top;\n",
       "    }\n",
       "\n",
       "    .dataframe thead th {\n",
       "        text-align: right;\n",
       "    }\n",
       "</style>\n",
       "<table border=\"1\" class=\"dataframe\">\n",
       "  <thead>\n",
       "    <tr style=\"text-align: right;\">\n",
       "      <th></th>\n",
       "      <th>year</th>\n",
       "      <th>cattle_cow_beef_inventory</th>\n",
       "      <th>county_fips</th>\n",
       "      <th>county_name</th>\n",
       "      <th>fips</th>\n",
       "      <th>state</th>\n",
       "    </tr>\n",
       "  </thead>\n",
       "  <tbody>\n",
       "    <tr>\n",
       "      <th>0</th>\n",
       "      <td>2017</td>\n",
       "      <td>8678.0</td>\n",
       "      <td>01001</td>\n",
       "      <td>Autauga County</td>\n",
       "      <td>1001.0</td>\n",
       "      <td>AL</td>\n",
       "    </tr>\n",
       "    <tr>\n",
       "      <th>1</th>\n",
       "      <td>2017</td>\n",
       "      <td>14589.0</td>\n",
       "      <td>01047</td>\n",
       "      <td>Dallas County</td>\n",
       "      <td>1047.0</td>\n",
       "      <td>AL</td>\n",
       "    </tr>\n",
       "  </tbody>\n",
       "</table>\n",
       "</div>"
      ],
      "text/plain": [
       "   year  cattle_cow_beef_inventory county_fips     county_name    fips state\n",
       "0  2017                     8678.0       01001  Autauga County  1001.0    AL\n",
       "1  2017                    14589.0       01047   Dallas County  1047.0    AL"
      ]
     },
     "execution_count": 15,
     "metadata": {},
     "output_type": "execute_result"
    }
   ],
   "source": [
    "cattle_inventory = pd.merge(cattle_inventory, county_id_name_fips, on = [\"county_fips\"], how = \"left\")\n",
    "cattle_inventory.head(2)"
   ]
  },
  {
   "cell_type": "code",
   "execution_count": 16,
   "id": "29dedc63",
   "metadata": {},
   "outputs": [
    {
     "data": {
      "text/plain": [
       "26"
      ]
     },
     "execution_count": 16,
     "metadata": {},
     "output_type": "execute_result"
    }
   ],
   "source": [
    "len(cattle_inventory.state.unique())"
   ]
  },
  {
   "cell_type": "code",
   "execution_count": 17,
   "id": "5a95e58c",
   "metadata": {},
   "outputs": [
    {
     "data": {
      "text/html": [
       "<div>\n",
       "<style scoped>\n",
       "    .dataframe tbody tr th:only-of-type {\n",
       "        vertical-align: middle;\n",
       "    }\n",
       "\n",
       "    .dataframe tbody tr th {\n",
       "        vertical-align: top;\n",
       "    }\n",
       "\n",
       "    .dataframe thead th {\n",
       "        text-align: right;\n",
       "    }\n",
       "</style>\n",
       "<table border=\"1\" class=\"dataframe\">\n",
       "  <thead>\n",
       "    <tr style=\"text-align: right;\">\n",
       "      <th></th>\n",
       "      <th>year</th>\n",
       "      <th>cattle_cow_beef_inventory</th>\n",
       "      <th>county_fips</th>\n",
       "      <th>county_name</th>\n",
       "      <th>fips</th>\n",
       "      <th>state</th>\n",
       "    </tr>\n",
       "  </thead>\n",
       "  <tbody>\n",
       "    <tr>\n",
       "      <th>2686</th>\n",
       "      <td>2012</td>\n",
       "      <td>20938.0</td>\n",
       "      <td>46102</td>\n",
       "      <td>NaN</td>\n",
       "      <td>NaN</td>\n",
       "      <td>NaN</td>\n",
       "    </tr>\n",
       "  </tbody>\n",
       "</table>\n",
       "</div>"
      ],
      "text/plain": [
       "      year  cattle_cow_beef_inventory county_fips county_name  fips state\n",
       "2686  2012                    20938.0       46102         NaN   NaN   NaN"
      ]
     },
     "execution_count": 17,
     "metadata": {},
     "output_type": "execute_result"
    }
   ],
   "source": [
    "cattle_inventory[~(cattle_inventory.state.isin(SoI_abb))]"
   ]
  },
  {
   "cell_type": "code",
   "execution_count": 18,
   "id": "c4b31178",
   "metadata": {},
   "outputs": [
    {
     "data": {
      "text/html": [
       "<div>\n",
       "<style scoped>\n",
       "    .dataframe tbody tr th:only-of-type {\n",
       "        vertical-align: middle;\n",
       "    }\n",
       "\n",
       "    .dataframe tbody tr th {\n",
       "        vertical-align: top;\n",
       "    }\n",
       "\n",
       "    .dataframe thead th {\n",
       "        text-align: right;\n",
       "    }\n",
       "</style>\n",
       "<table border=\"1\" class=\"dataframe\">\n",
       "  <thead>\n",
       "    <tr style=\"text-align: right;\">\n",
       "      <th></th>\n",
       "      <th>county_fips</th>\n",
       "      <th>county_name</th>\n",
       "      <th>fips</th>\n",
       "      <th>state</th>\n",
       "    </tr>\n",
       "  </thead>\n",
       "  <tbody>\n",
       "  </tbody>\n",
       "</table>\n",
       "</div>"
      ],
      "text/plain": [
       "Empty DataFrame\n",
       "Columns: [county_fips, county_name, fips, state]\n",
       "Index: []"
      ]
     },
     "execution_count": 18,
     "metadata": {},
     "output_type": "execute_result"
    }
   ],
   "source": [
    "county_id_name_fips[county_id_name_fips.county_fips == \"46102\"]"
   ]
  },
  {
   "cell_type": "code",
   "execution_count": 19,
   "id": "0c9c5d46",
   "metadata": {},
   "outputs": [
    {
     "data": {
      "text/plain": [
       "25"
      ]
     },
     "execution_count": 19,
     "metadata": {},
     "output_type": "execute_result"
    }
   ],
   "source": [
    "cattle_inventory.dropna(how='any', inplace=True)\n",
    "len(cattle_inventory.state.unique())"
   ]
  },
  {
   "cell_type": "markdown",
   "id": "d481bd61",
   "metadata": {},
   "source": [
    "# Compute as percentage"
   ]
  },
  {
   "cell_type": "code",
   "execution_count": 21,
   "id": "2bc77603",
   "metadata": {},
   "outputs": [
    {
     "data": {
      "text/html": [
       "<div>\n",
       "<style scoped>\n",
       "    .dataframe tbody tr th:only-of-type {\n",
       "        vertical-align: middle;\n",
       "    }\n",
       "\n",
       "    .dataframe tbody tr th {\n",
       "        vertical-align: top;\n",
       "    }\n",
       "\n",
       "    .dataframe thead th {\n",
       "        text-align: right;\n",
       "    }\n",
       "</style>\n",
       "<table border=\"1\" class=\"dataframe\">\n",
       "  <thead>\n",
       "    <tr style=\"text-align: right;\">\n",
       "      <th></th>\n",
       "      <th>year</th>\n",
       "      <th>cattle_cow_beef_inventory_2002</th>\n",
       "      <th>county_fips</th>\n",
       "      <th>county_name</th>\n",
       "      <th>fips</th>\n",
       "      <th>state</th>\n",
       "    </tr>\n",
       "  </thead>\n",
       "  <tbody>\n",
       "    <tr>\n",
       "      <th>0</th>\n",
       "      <td>2002</td>\n",
       "      <td>6547.0</td>\n",
       "      <td>01011</td>\n",
       "      <td>Bullock County</td>\n",
       "      <td>1011.0</td>\n",
       "      <td>AL</td>\n",
       "    </tr>\n",
       "    <tr>\n",
       "      <th>1</th>\n",
       "      <td>2002</td>\n",
       "      <td>8030.0</td>\n",
       "      <td>01051</td>\n",
       "      <td>Elmore County</td>\n",
       "      <td>1051.0</td>\n",
       "      <td>AL</td>\n",
       "    </tr>\n",
       "  </tbody>\n",
       "</table>\n",
       "</div>"
      ],
      "text/plain": [
       "   year  cattle_cow_beef_inventory_2002 county_fips     county_name    fips  \\\n",
       "0  2002                          6547.0       01011  Bullock County  1011.0   \n",
       "1  2002                          8030.0       01051   Elmore County  1051.0   \n",
       "\n",
       "  state  \n",
       "0    AL  \n",
       "1    AL  "
      ]
     },
     "execution_count": 21,
     "metadata": {},
     "output_type": "execute_result"
    }
   ],
   "source": [
    "cattle_inventory_2002 = cattle_inventory[cattle_inventory.year == 2002].copy()\n",
    "cattle_inventory_2017 = cattle_inventory[cattle_inventory.year == 2017].copy()\n",
    "\n",
    "cattle_inventory_2002.reset_index(drop=True, inplace=True)\n",
    "cattle_inventory_2017.reset_index(drop=True, inplace=True)\n",
    "\n",
    "\n",
    "inv_col = \"cattle_cow_beef_inventory\"\n",
    "cattle_inventory_2002.rename(columns={inv_col: \"cattle_cow_beef_inventory_2002\"}, inplace=True)\n",
    "cattle_inventory_2017.rename(columns={inv_col: \"cattle_cow_beef_inventory_2017\"}, inplace=True)\n",
    "cattle_inventory_2002.head(2)"
   ]
  },
  {
   "cell_type": "code",
   "execution_count": 22,
   "id": "45d1c8dc",
   "metadata": {},
   "outputs": [],
   "source": [
    "cattle_inventory_2002_total = cattle_inventory_2002.cattle_cow_beef_inventory_2002.sum()\n",
    "cattle_inventory_2017_total = cattle_inventory_2017.cattle_cow_beef_inventory_2017.sum()"
   ]
  },
  {
   "cell_type": "code",
   "execution_count": 39,
   "id": "b5263539",
   "metadata": {},
   "outputs": [
    {
     "data": {
      "text/html": [
       "<div>\n",
       "<style scoped>\n",
       "    .dataframe tbody tr th:only-of-type {\n",
       "        vertical-align: middle;\n",
       "    }\n",
       "\n",
       "    .dataframe tbody tr th {\n",
       "        vertical-align: top;\n",
       "    }\n",
       "\n",
       "    .dataframe thead th {\n",
       "        text-align: right;\n",
       "    }\n",
       "</style>\n",
       "<table border=\"1\" class=\"dataframe\">\n",
       "  <thead>\n",
       "    <tr style=\"text-align: right;\">\n",
       "      <th></th>\n",
       "      <th>year</th>\n",
       "      <th>cattle_cow_beef_inventory_2002</th>\n",
       "      <th>county_fips</th>\n",
       "      <th>county_name</th>\n",
       "      <th>state</th>\n",
       "      <th>cattle_cow_beef_inv_2002_asPerc</th>\n",
       "    </tr>\n",
       "  </thead>\n",
       "  <tbody>\n",
       "    <tr>\n",
       "      <th>0</th>\n",
       "      <td>2002</td>\n",
       "      <td>6547.0</td>\n",
       "      <td>01011</td>\n",
       "      <td>Bullock County</td>\n",
       "      <td>AL</td>\n",
       "      <td>0.026107</td>\n",
       "    </tr>\n",
       "    <tr>\n",
       "      <th>1</th>\n",
       "      <td>2002</td>\n",
       "      <td>8030.0</td>\n",
       "      <td>01051</td>\n",
       "      <td>Elmore County</td>\n",
       "      <td>AL</td>\n",
       "      <td>0.032021</td>\n",
       "    </tr>\n",
       "  </tbody>\n",
       "</table>\n",
       "</div>"
      ],
      "text/plain": [
       "   year  cattle_cow_beef_inventory_2002 county_fips     county_name state  \\\n",
       "0  2002                          6547.0       01011  Bullock County    AL   \n",
       "1  2002                          8030.0       01051   Elmore County    AL   \n",
       "\n",
       "   cattle_cow_beef_inv_2002_asPerc  \n",
       "0                         0.026107  \n",
       "1                         0.032021  "
      ]
     },
     "execution_count": 39,
     "metadata": {},
     "output_type": "execute_result"
    }
   ],
   "source": [
    "cattle_inventory_2002[\"cattle_cow_beef_inv_2002_asPerc\"] = 100*\\\n",
    "                          (cattle_inventory_2002[\"cattle_cow_beef_inventory_2002\"]/cattle_inventory_2002_total)\n",
    "\n",
    "cattle_inventory_2017[\"cattle_cow_beef_inv_2017_asPerc\"] = 100*\\\n",
    "                          (cattle_inventory_2017[\"cattle_cow_beef_inventory_2017\"]/cattle_inventory_2017_total)\n",
    "\n",
    "cattle_inventory_2017.drop(columns=['fips'], inplace=True)\n",
    "cattle_inventory_2002.drop(columns=['fips'], inplace=True)\n",
    "\n",
    "cattle_inventory_2002.head(2)"
   ]
  },
  {
   "cell_type": "code",
   "execution_count": 40,
   "id": "1dfd06b3",
   "metadata": {},
   "outputs": [
    {
     "data": {
      "text/html": [
       "<div>\n",
       "<style scoped>\n",
       "    .dataframe tbody tr th:only-of-type {\n",
       "        vertical-align: middle;\n",
       "    }\n",
       "\n",
       "    .dataframe tbody tr th {\n",
       "        vertical-align: top;\n",
       "    }\n",
       "\n",
       "    .dataframe thead th {\n",
       "        text-align: right;\n",
       "    }\n",
       "</style>\n",
       "<table border=\"1\" class=\"dataframe\">\n",
       "  <thead>\n",
       "    <tr style=\"text-align: right;\">\n",
       "      <th></th>\n",
       "      <th>year</th>\n",
       "      <th>cattle_cow_beef_inventory_2017</th>\n",
       "      <th>county_fips</th>\n",
       "      <th>county_name</th>\n",
       "      <th>state</th>\n",
       "      <th>cattle_cow_beef_inv_2017_asPerc</th>\n",
       "    </tr>\n",
       "  </thead>\n",
       "  <tbody>\n",
       "    <tr>\n",
       "      <th>0</th>\n",
       "      <td>2017</td>\n",
       "      <td>8678.0</td>\n",
       "      <td>01001</td>\n",
       "      <td>Autauga County</td>\n",
       "      <td>AL</td>\n",
       "      <td>0.040422</td>\n",
       "    </tr>\n",
       "    <tr>\n",
       "      <th>1</th>\n",
       "      <td>2017</td>\n",
       "      <td>14589.0</td>\n",
       "      <td>01047</td>\n",
       "      <td>Dallas County</td>\n",
       "      <td>AL</td>\n",
       "      <td>0.067955</td>\n",
       "    </tr>\n",
       "  </tbody>\n",
       "</table>\n",
       "</div>"
      ],
      "text/plain": [
       "   year  cattle_cow_beef_inventory_2017 county_fips     county_name state  \\\n",
       "0  2017                          8678.0       01001  Autauga County    AL   \n",
       "1  2017                         14589.0       01047   Dallas County    AL   \n",
       "\n",
       "   cattle_cow_beef_inv_2017_asPerc  \n",
       "0                         0.040422  \n",
       "1                         0.067955  "
      ]
     },
     "execution_count": 40,
     "metadata": {},
     "output_type": "execute_result"
    }
   ],
   "source": [
    "cattle_inventory_2017.head(2)"
   ]
  },
  {
   "cell_type": "code",
   "execution_count": 42,
   "id": "ba853750",
   "metadata": {},
   "outputs": [
    {
     "data": {
      "text/html": [
       "<div>\n",
       "<style scoped>\n",
       "    .dataframe tbody tr th:only-of-type {\n",
       "        vertical-align: middle;\n",
       "    }\n",
       "\n",
       "    .dataframe tbody tr th {\n",
       "        vertical-align: top;\n",
       "    }\n",
       "\n",
       "    .dataframe thead th {\n",
       "        text-align: right;\n",
       "    }\n",
       "</style>\n",
       "<table border=\"1\" class=\"dataframe\">\n",
       "  <thead>\n",
       "    <tr style=\"text-align: right;\">\n",
       "      <th></th>\n",
       "      <th>cattle_cow_beef_inv_2002_asPerc</th>\n",
       "      <th>county_fips</th>\n",
       "      <th>cattle_cow_beef_inv_2017_asPerc</th>\n",
       "    </tr>\n",
       "  </thead>\n",
       "  <tbody>\n",
       "    <tr>\n",
       "      <th>0</th>\n",
       "      <td>0.026107</td>\n",
       "      <td>01011</td>\n",
       "      <td>NaN</td>\n",
       "    </tr>\n",
       "    <tr>\n",
       "      <th>1</th>\n",
       "      <td>0.032021</td>\n",
       "      <td>01051</td>\n",
       "      <td>0.032107</td>\n",
       "    </tr>\n",
       "  </tbody>\n",
       "</table>\n",
       "</div>"
      ],
      "text/plain": [
       "   cattle_cow_beef_inv_2002_asPerc county_fips  \\\n",
       "0                         0.026107       01011   \n",
       "1                         0.032021       01051   \n",
       "\n",
       "   cattle_cow_beef_inv_2017_asPerc  \n",
       "0                              NaN  \n",
       "1                         0.032107  "
      ]
     },
     "execution_count": 42,
     "metadata": {},
     "output_type": "execute_result"
    }
   ],
   "source": [
    "invent_2002_2017_asPerc = pd.merge(cattle_inventory_2002[[\"cattle_cow_beef_inv_2002_asPerc\", \"county_fips\"]], \n",
    "                                   cattle_inventory_2017[[\"cattle_cow_beef_inv_2017_asPerc\", \"county_fips\"]], \n",
    "                                   on = [\"county_fips\"], how = \"left\")\n",
    "\n",
    "invent_2002_2017_asPerc.head(2)"
   ]
  },
  {
   "cell_type": "code",
   "execution_count": 44,
   "id": "e677d83d",
   "metadata": {},
   "outputs": [
    {
     "name": "stdout",
     "output_type": "stream",
     "text": [
      "(1627, 3)\n",
      "(1245, 3)\n"
     ]
    }
   ],
   "source": [
    "print (invent_2002_2017_asPerc.shape)\n",
    "invent_2002_2017_asPerc.dropna(how='any', inplace=True)\n",
    "print (invent_2002_2017_asPerc.shape)"
   ]
  },
  {
   "cell_type": "code",
   "execution_count": 45,
   "id": "cb00c04f",
   "metadata": {},
   "outputs": [
    {
     "data": {
      "text/html": [
       "<div>\n",
       "<style scoped>\n",
       "    .dataframe tbody tr th:only-of-type {\n",
       "        vertical-align: middle;\n",
       "    }\n",
       "\n",
       "    .dataframe tbody tr th {\n",
       "        vertical-align: top;\n",
       "    }\n",
       "\n",
       "    .dataframe thead th {\n",
       "        text-align: right;\n",
       "    }\n",
       "</style>\n",
       "<table border=\"1\" class=\"dataframe\">\n",
       "  <thead>\n",
       "    <tr style=\"text-align: right;\">\n",
       "      <th></th>\n",
       "      <th>cattle_cow_beef_inv_2002_asPerc</th>\n",
       "      <th>county_fips</th>\n",
       "      <th>cattle_cow_beef_inv_2017_asPerc</th>\n",
       "    </tr>\n",
       "  </thead>\n",
       "  <tbody>\n",
       "    <tr>\n",
       "      <th>1</th>\n",
       "      <td>0.032021</td>\n",
       "      <td>01051</td>\n",
       "      <td>0.032107</td>\n",
       "    </tr>\n",
       "    <tr>\n",
       "      <th>3</th>\n",
       "      <td>0.087036</td>\n",
       "      <td>01085</td>\n",
       "      <td>0.083215</td>\n",
       "    </tr>\n",
       "  </tbody>\n",
       "</table>\n",
       "</div>"
      ],
      "text/plain": [
       "   cattle_cow_beef_inv_2002_asPerc county_fips  \\\n",
       "1                         0.032021       01051   \n",
       "3                         0.087036       01085   \n",
       "\n",
       "   cattle_cow_beef_inv_2017_asPerc  \n",
       "1                         0.032107  \n",
       "3                         0.083215  "
      ]
     },
     "execution_count": 45,
     "metadata": {},
     "output_type": "execute_result"
    }
   ],
   "source": [
    "invent_2002_2017_asPerc.head(2)"
   ]
  },
  {
   "cell_type": "code",
   "execution_count": 48,
   "id": "01648566",
   "metadata": {},
   "outputs": [
    {
     "data": {
      "text/html": [
       "<div>\n",
       "<style scoped>\n",
       "    .dataframe tbody tr th:only-of-type {\n",
       "        vertical-align: middle;\n",
       "    }\n",
       "\n",
       "    .dataframe tbody tr th {\n",
       "        vertical-align: top;\n",
       "    }\n",
       "\n",
       "    .dataframe thead th {\n",
       "        text-align: right;\n",
       "    }\n",
       "</style>\n",
       "<table border=\"1\" class=\"dataframe\">\n",
       "  <thead>\n",
       "    <tr style=\"text-align: right;\">\n",
       "      <th></th>\n",
       "      <th>cattle_cow_beef_inv_2002_asPerc</th>\n",
       "      <th>county_fips</th>\n",
       "      <th>cattle_cow_beef_inv_2017_asPerc</th>\n",
       "      <th>change_2002_2017_asPerc</th>\n",
       "    </tr>\n",
       "  </thead>\n",
       "  <tbody>\n",
       "    <tr>\n",
       "      <th>1</th>\n",
       "      <td>0.032021</td>\n",
       "      <td>01051</td>\n",
       "      <td>0.032107</td>\n",
       "      <td>0.000086</td>\n",
       "    </tr>\n",
       "    <tr>\n",
       "      <th>3</th>\n",
       "      <td>0.087036</td>\n",
       "      <td>01085</td>\n",
       "      <td>0.083215</td>\n",
       "      <td>-0.003821</td>\n",
       "    </tr>\n",
       "  </tbody>\n",
       "</table>\n",
       "</div>"
      ],
      "text/plain": [
       "   cattle_cow_beef_inv_2002_asPerc county_fips  \\\n",
       "1                         0.032021       01051   \n",
       "3                         0.087036       01085   \n",
       "\n",
       "   cattle_cow_beef_inv_2017_asPerc  change_2002_2017_asPerc  \n",
       "1                         0.032107                 0.000086  \n",
       "3                         0.083215                -0.003821  "
      ]
     },
     "execution_count": 48,
     "metadata": {},
     "output_type": "execute_result"
    }
   ],
   "source": [
    "invent_2002_2017_asPerc[\"change_2002_2017_asPerc\"] = invent_2002_2017_asPerc[\"cattle_cow_beef_inv_2017_asPerc\"] - \\\n",
    "                                                     invent_2002_2017_asPerc[\"cattle_cow_beef_inv_2002_asPerc\"]\n",
    "invent_2002_2017_asPerc.head(2)"
   ]
  },
  {
   "cell_type": "code",
   "execution_count": null,
   "id": "15a813d3",
   "metadata": {},
   "outputs": [],
   "source": []
  },
  {
   "cell_type": "code",
   "execution_count": 49,
   "id": "0a415924",
   "metadata": {},
   "outputs": [],
   "source": [
    "out_name = data_dir_base + \"data_4_plot/\" + \"inventory_PercChange_2002_2017.csv\"\n",
    "invent_2002_2017_asPerc[[\"county_fips\", \"change_2002_2017_asPerc\"]].to_csv(out_name, index=False)"
   ]
  },
  {
   "cell_type": "code",
   "execution_count": 50,
   "id": "610c323c",
   "metadata": {},
   "outputs": [
    {
     "data": {
      "text/plain": [
       "'/Users/hn/Documents/01_research_data/RangeLand/Data/'"
      ]
     },
     "execution_count": 50,
     "metadata": {},
     "output_type": "execute_result"
    }
   ],
   "source": [
    "data_dir_base"
   ]
  },
  {
   "cell_type": "code",
   "execution_count": 67,
   "id": "f418d46c",
   "metadata": {},
   "outputs": [
    {
     "name": "stdout",
     "output_type": "stream",
     "text": [
      "['AL', 'AZ', 'AR', 'CA', 'CO', 'CT', 'DE', 'FL', 'GA', 'HI', 'ID', 'IL', 'IN', 'IA', 'KS', 'KY', 'LA', 'ME', 'MD', 'MA', 'MI', 'MN', 'MS', 'MO', 'MT', 'NE', 'NV', 'NH', 'NJ', 'NM', 'NY', 'NC', 'ND', 'OH', 'OK', 'OR', 'PA', 'RI', 'SC', 'SD', 'TN', 'TX', 'UT', 'VT', 'VA', 'WA', 'WV', 'WI', 'WY', 'DC']\n"
     ]
    }
   ],
   "source": [
    "bads = ['Alaska',\n",
    "        'American Samoa',\n",
    "        'Guam',\n",
    "        'Northern Mariana Islands',\n",
    "        'Puerto Rico',\n",
    "        'United States Minor Outlying Islands',\n",
    "        'U.S. Virgin Islands']\n",
    "\n",
    "all_abbr_ = []\n",
    "for x in abb_dict[\"full_2_abb\"].keys():\n",
    "    if not(x in bads):\n",
    "        all_abbr_ = all_abbr_ + [abb_dict[\"full_2_abb\"][x]]\n",
    "    \n",
    "print (all_abbr_)"
   ]
  },
  {
   "cell_type": "code",
   "execution_count": 76,
   "id": "f373efff",
   "metadata": {},
   "outputs": [
    {
     "data": {
      "text/html": [
       "<div>\n",
       "<style scoped>\n",
       "    .dataframe tbody tr th:only-of-type {\n",
       "        vertical-align: middle;\n",
       "    }\n",
       "\n",
       "    .dataframe tbody tr th {\n",
       "        vertical-align: top;\n",
       "    }\n",
       "\n",
       "    .dataframe thead th {\n",
       "        text-align: right;\n",
       "    }\n",
       "</style>\n",
       "<table border=\"1\" class=\"dataframe\">\n",
       "  <thead>\n",
       "    <tr style=\"text-align: right;\">\n",
       "      <th></th>\n",
       "      <th>cattle_cow_beef_inv_2002_asPerc</th>\n",
       "      <th>county_fips</th>\n",
       "      <th>cattle_cow_beef_inv_2017_asPerc</th>\n",
       "      <th>change_2002_2017_asPerc</th>\n",
       "    </tr>\n",
       "  </thead>\n",
       "  <tbody>\n",
       "    <tr>\n",
       "      <th>123</th>\n",
       "      <td>0.124301</td>\n",
       "      <td>06107</td>\n",
       "      <td>0.338998</td>\n",
       "      <td>0.214697</td>\n",
       "    </tr>\n",
       "  </tbody>\n",
       "</table>\n",
       "</div>"
      ],
      "text/plain": [
       "     cattle_cow_beef_inv_2002_asPerc county_fips  \\\n",
       "123                         0.124301       06107   \n",
       "\n",
       "     cattle_cow_beef_inv_2017_asPerc  change_2002_2017_asPerc  \n",
       "123                         0.338998                 0.214697  "
      ]
     },
     "execution_count": 76,
     "metadata": {},
     "output_type": "execute_result"
    }
   ],
   "source": [
    "invent_2002_2017_asPerc[invent_2002_2017_asPerc.change_2002_2017_asPerc>0.2]"
   ]
  },
  {
   "cell_type": "code",
   "execution_count": null,
   "id": "b24d499e",
   "metadata": {},
   "outputs": [],
   "source": []
  }
 ],
 "metadata": {
  "kernelspec": {
   "display_name": "Python 3 (ipykernel)",
   "language": "python",
   "name": "python3"
  },
  "language_info": {
   "codemirror_mode": {
    "name": "ipython",
    "version": 3
   },
   "file_extension": ".py",
   "mimetype": "text/x-python",
   "name": "python",
   "nbconvert_exporter": "python",
   "pygments_lexer": "ipython3",
   "version": "3.11.5"
  }
 },
 "nbformat": 4,
 "nbformat_minor": 5
}
