{
 "cells": [
  {
   "cell_type": "code",
   "execution_count": 1,
   "id": "08728621",
   "metadata": {},
   "outputs": [],
   "source": [
    "# from libtiff import TIFF;\n",
    "# import gdal\n",
    "# !pip3 install osgeo\n",
    "# from osgeo import gdal\n",
    "\n",
    "import rasterio\n",
    "from rasterio.mask import mask\n",
    "from rasterio.plot import show\n"
   ]
  },
  {
   "cell_type": "code",
   "execution_count": null,
   "id": "31cdb4f2",
   "metadata": {},
   "outputs": [],
   "source": []
  },
  {
   "cell_type": "markdown",
   "id": "e57cffdc",
   "metadata": {},
   "source": [
    "### Directories"
   ]
  },
  {
   "cell_type": "code",
   "execution_count": 2,
   "id": "9cdd6594",
   "metadata": {},
   "outputs": [],
   "source": [
    "range_data_dir = \"/Users/hn/Documents/01_research_data/RangeLand/\"\n",
    "tiff_dir = range_data_dir + \"Data/Matt_Reeves/\""
   ]
  },
  {
   "cell_type": "markdown",
   "id": "029ad27c",
   "metadata": {},
   "source": [
    "#### files"
   ]
  },
  {
   "cell_type": "code",
   "execution_count": 3,
   "id": "fae50d65",
   "metadata": {},
   "outputs": [],
   "source": [
    "HrbPctUnmaskedfile = \"HrbPctUnmasked.tif\"\n",
    "HrbPctmasked = \"HrbPctmasked.tif\""
   ]
  },
  {
   "cell_type": "code",
   "execution_count": null,
   "id": "dae2114a",
   "metadata": {},
   "outputs": [],
   "source": []
  },
  {
   "cell_type": "code",
   "execution_count": 4,
   "id": "4cea3967",
   "metadata": {},
   "outputs": [],
   "source": [
    "# tif = TIFF.open(tiff_dir + 'HrbPctmasked.tif') # open tiff file in read mode\n",
    "# # read an image in the current TIFF directory as a numpy array\n",
    "# image = tif.read_image()\n",
    "\n",
    "# counter = 0\n",
    "# for image in tif.iter_images():\n",
    "#     counter += 1\n",
    "#     print (counter)\n",
    "#     pass"
   ]
  },
  {
   "cell_type": "code",
   "execution_count": null,
   "id": "4df6e18b",
   "metadata": {},
   "outputs": [],
   "source": []
  },
  {
   "cell_type": "code",
   "execution_count": 5,
   "id": "b258b7bf",
   "metadata": {},
   "outputs": [],
   "source": [
    "# dataset = gdal.Open(tiff_dir + 'HrbPctmasked.tif', gdal.GA_ReadOnly)\n",
    "# for x in range(1, dataset.RasterCount + 1):\n",
    "#     band = dataset.GetRasterBand(x)\n",
    "#     array = band.ReadAsArray()\n",
    "\n",
    "# (array == image).sum()\n",
    "\n",
    "\n",
    "# (image==-128).sum()\n",
    "# (image==-1).sum()"
   ]
  },
  {
   "cell_type": "code",
   "execution_count": 6,
   "id": "84c7202f",
   "metadata": {},
   "outputs": [
    {
     "data": {
      "text/plain": [
       "(11718, 18518)"
      ]
     },
     "execution_count": 6,
     "metadata": {},
     "output_type": "execute_result"
    }
   ],
   "source": [
    "curr_rasterio_im = rasterio.open(tiff_dir + 'HrbPctmasked.tif');\n",
    "arr = curr_rasterio_im.read(1)\n",
    "arr.shape"
   ]
  },
  {
   "cell_type": "code",
   "execution_count": 7,
   "id": "5997163e",
   "metadata": {},
   "outputs": [
    {
     "name": "stdout",
     "output_type": "stream",
     "text": [
      "(arr==-1).sum()   = 173951679\n",
      "(arr==-128).sum() = 223387\n"
     ]
    }
   ],
   "source": [
    "print (f\"{(arr==-1).sum()   = }\")\n",
    "print (f\"{(arr==-128).sum() = }\")"
   ]
  },
  {
   "cell_type": "code",
   "execution_count": null,
   "id": "1cce4ee4",
   "metadata": {},
   "outputs": [],
   "source": []
  }
 ],
 "metadata": {
  "kernelspec": {
   "display_name": "Python 3 (ipykernel)",
   "language": "python",
   "name": "python3"
  },
  "language_info": {
   "codemirror_mode": {
    "name": "ipython",
    "version": 3
   },
   "file_extension": ".py",
   "mimetype": "text/x-python",
   "name": "python",
   "nbconvert_exporter": "python",
   "pygments_lexer": "ipython3",
   "version": "3.11.5"
  }
 },
 "nbformat": 4,
 "nbformat_minor": 5
}
