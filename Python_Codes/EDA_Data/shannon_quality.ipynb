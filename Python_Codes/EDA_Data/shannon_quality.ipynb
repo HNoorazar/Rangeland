{
 "cells": [
  {
   "cell_type": "code",
   "execution_count": 1,
   "id": "f76a30f7",
   "metadata": {},
   "outputs": [],
   "source": [
    "import pandas as pd\n",
    "from datetime import datetime\n",
    "import os, os.path, pickle, sys\n",
    "import matplotlib\n",
    "import matplotlib.pyplot as plt\n",
    "\n",
    "sys.path.append(\"/Users/hn/Documents/00_GitHub/Rangeland/Python_Codes/\")\n",
    "import rangeland_core as rc"
   ]
  },
  {
   "cell_type": "code",
   "execution_count": 2,
   "id": "bdf67cb2",
   "metadata": {},
   "outputs": [],
   "source": [
    "data_dir_base = \"/Users/hn/Documents/01_research_data/RangeLand/Data/\"\n",
    "census_population_dir = data_dir_base + \"census/\"\n",
    "# Shannon_data_dir = data_dir_base + \"Shannon_Data/\"\n",
    "# USDA_data_dir = data_dir_base + \"/NASS_downloads/\"\n",
    "param_dir = data_dir_base + \"parameters/\"\n",
    "Min_data_base = data_dir_base + \"Min_Data/\"\n",
    "reOrganized_dir = data_dir_base + \"reOrganized/\""
   ]
  },
  {
   "cell_type": "code",
   "execution_count": 3,
   "id": "8ef6ed5c",
   "metadata": {},
   "outputs": [
    {
     "data": {
      "text/html": [
       "<div>\n",
       "<style scoped>\n",
       "    .dataframe tbody tr th:only-of-type {\n",
       "        vertical-align: middle;\n",
       "    }\n",
       "\n",
       "    .dataframe tbody tr th {\n",
       "        vertical-align: top;\n",
       "    }\n",
       "\n",
       "    .dataframe thead th {\n",
       "        text-align: right;\n",
       "    }\n",
       "</style>\n",
       "<table border=\"1\" class=\"dataframe\">\n",
       "  <thead>\n",
       "    <tr style=\"text-align: right;\">\n",
       "      <th></th>\n",
       "      <th>state</th>\n",
       "      <th>1920</th>\n",
       "      <th>1921</th>\n",
       "      <th>1922</th>\n",
       "      <th>1923</th>\n",
       "      <th>1924</th>\n",
       "      <th>1925</th>\n",
       "      <th>1926</th>\n",
       "      <th>1927</th>\n",
       "      <th>1928</th>\n",
       "      <th>...</th>\n",
       "      <th>2012</th>\n",
       "      <th>2013</th>\n",
       "      <th>2014</th>\n",
       "      <th>2015</th>\n",
       "      <th>2016</th>\n",
       "      <th>2017</th>\n",
       "      <th>2018</th>\n",
       "      <th>2019</th>\n",
       "      <th>2020</th>\n",
       "      <th>2021</th>\n",
       "    </tr>\n",
       "  </thead>\n",
       "  <tbody>\n",
       "    <tr>\n",
       "      <th>0</th>\n",
       "      <td>AL</td>\n",
       "      <td>103000.0</td>\n",
       "      <td>106000.0</td>\n",
       "      <td>108000.0</td>\n",
       "      <td>111000.0</td>\n",
       "      <td>114000.0</td>\n",
       "      <td>104000.0</td>\n",
       "      <td>100000.0</td>\n",
       "      <td>96000.0</td>\n",
       "      <td>94000.0</td>\n",
       "      <td>...</td>\n",
       "      <td>680000.0</td>\n",
       "      <td>701000.0</td>\n",
       "      <td>681000.0</td>\n",
       "      <td>652000.0</td>\n",
       "      <td>673000.0</td>\n",
       "      <td>693000.0</td>\n",
       "      <td>714000.0</td>\n",
       "      <td>705000.0</td>\n",
       "      <td>696000.0</td>\n",
       "      <td>697000.0</td>\n",
       "    </tr>\n",
       "    <tr>\n",
       "      <th>1</th>\n",
       "      <td>AK</td>\n",
       "      <td>NaN</td>\n",
       "      <td>NaN</td>\n",
       "      <td>NaN</td>\n",
       "      <td>NaN</td>\n",
       "      <td>NaN</td>\n",
       "      <td>NaN</td>\n",
       "      <td>NaN</td>\n",
       "      <td>NaN</td>\n",
       "      <td>NaN</td>\n",
       "      <td>...</td>\n",
       "      <td>5300.0</td>\n",
       "      <td>5000.0</td>\n",
       "      <td>4300.0</td>\n",
       "      <td>4300.0</td>\n",
       "      <td>4000.0</td>\n",
       "      <td>4700.0</td>\n",
       "      <td>6100.0</td>\n",
       "      <td>6800.0</td>\n",
       "      <td>7700.0</td>\n",
       "      <td>7300.0</td>\n",
       "    </tr>\n",
       "  </tbody>\n",
       "</table>\n",
       "<p>2 rows × 103 columns</p>\n",
       "</div>"
      ],
      "text/plain": [
       "  state      1920      1921      1922      1923      1924      1925      1926   \n",
       "0    AL  103000.0  106000.0  108000.0  111000.0  114000.0  104000.0  100000.0  \\\n",
       "1    AK       NaN       NaN       NaN       NaN       NaN       NaN       NaN   \n",
       "\n",
       "      1927     1928  ...      2012      2013      2014      2015      2016   \n",
       "0  96000.0  94000.0  ...  680000.0  701000.0  681000.0  652000.0  673000.0  \\\n",
       "1      NaN      NaN  ...    5300.0    5000.0    4300.0    4300.0    4000.0   \n",
       "\n",
       "       2017      2018      2019      2020      2021  \n",
       "0  693000.0  714000.0  705000.0  696000.0  697000.0  \n",
       "1    4700.0    6100.0    6800.0    7700.0    7300.0  \n",
       "\n",
       "[2 rows x 103 columns]"
      ]
     },
     "execution_count": 3,
     "metadata": {},
     "output_type": "execute_result"
    }
   ],
   "source": [
    "shannon_annual = pd.read_csv(reOrganized_dir + \"Shannon_Beef_Cows_fromCATINV.csv\")\n",
    "shannon_annual.reset_index(drop=True, inplace=True)\n",
    "shannon_annual.head(2)"
   ]
  },
  {
   "cell_type": "code",
   "execution_count": 18,
   "id": "d57ca594",
   "metadata": {},
   "outputs": [],
   "source": [
    "import itertools"
   ]
  },
  {
   "cell_type": "code",
   "execution_count": 123,
   "id": "f574074e",
   "metadata": {},
   "outputs": [
    {
     "data": {
      "image/png": "[encoded data removed]",
      "text/plain": [
       "<Figure size 1000x300 with 2 Axes>"
      ]
     },
     "metadata": {},
     "output_type": "display_data"
    }
   ],
   "source": [
    "fig, axs = plt.subplots(2, 1, figsize=(10, 3), sharex=True,\n",
    "                        gridspec_kw={\"hspace\": 0.15, \"wspace\": 0.05})\n",
    "axs[0].grid(axis=\"y\", which=\"both\")\n",
    "axs[1].grid(axis=\"y\", which=\"both\")\n",
    "\n",
    "state_ = \"AZ\"\n",
    "B = shannon_annual[shannon_annual.state==state_].copy()\n",
    "\n",
    "axs[0].plot(list(B.columns[90:].values), \n",
    "         B[B.columns[90:]].values[0], \n",
    "         c=\"dodgerblue\", linewidth=2, label=state_, markevery=25);\n",
    "\n",
    "axs[0].scatter([\"2015\", \"2016\", \"2017\"], \n",
    "            list(B[[\"2015\", \"2016\", \"2017\"]].values[0]), \n",
    "            s = 20, c=\"r\", marker=\"x\");\n",
    "\n",
    "# axs.plot([\"2015\", \"2016\", \"2017\"], B[[\"2015\", \"2016\", \"2017\"]].values[0], c=\"r\", linewidth=2, label=state_);\n",
    "\n",
    "state_ = \"WY\"\n",
    "yrs = [str(x) for x in range(2009, 2022)]\n",
    "B = shannon_annual[shannon_annual.state==state_].copy()\n",
    "\n",
    "axs[1].plot(yrs, \n",
    "            B[yrs].values[0], \n",
    "            c=\"dodgerblue\", linewidth=2, label=state_, markevery=25);\n",
    "\n",
    "axs[1].scatter(yrs, list(B[yrs].values[0]), s = 20, c=\"r\", marker=\"x\");\n",
    "\n",
    "\n",
    "\n",
    "# axs.plot([\"2015\", \"2016\", \"2017\"], \n",
    "#          B[[\"2015\", \"2016\", \"2017\"]].values[0], \n",
    "#          color = 'b', marker='o', markerfacecolor='r', markersize=5);\n",
    "\n",
    "# odd_i = itertools.islice(B.columns[90:], 0, None, 3);\n",
    "# odd_i = list(itertools.chain(odd_i));\n",
    "# plt.xticks(odd_i, odd_i, rotation=\"vertical\");\n",
    "axs[0].legend(loc=\"best\");\n",
    "axs[1].legend(loc=\"best\");\n",
    "\n",
    "plots_dir = data_dir_base + \"plots/\"\n",
    "fig_name = plots_dir + \"shannon_quality\" + \".pdf\"\n",
    "plt.savefig(fname=fig_name, dpi=100, bbox_inches=\"tight\")\n"
   ]
  },
  {
   "cell_type": "code",
   "execution_count": null,
   "id": "752fca02",
   "metadata": {},
   "outputs": [],
   "source": []
  },
  {
   "cell_type": "code",
   "execution_count": null,
   "id": "d59a536a",
   "metadata": {},
   "outputs": [],
   "source": []
  },
  {
   "cell_type": "code",
   "execution_count": null,
   "id": "86eba4fb",
   "metadata": {},
   "outputs": [],
   "source": []
  }
 ],
 "metadata": {
  "kernelspec": {
   "display_name": "Python 3 (ipykernel)",
   "language": "python",
   "name": "python3"
  },
  "language_info": {
   "codemirror_mode": {
    "name": "ipython",
    "version": 3
   },
   "file_extension": ".py",
   "mimetype": "text/x-python",
   "name": "python",
   "nbconvert_exporter": "python",
   "pygments_lexer": "ipython3",
   "version": "3.11.2"
  }
 },
 "nbformat": 4,
 "nbformat_minor": 5
}
