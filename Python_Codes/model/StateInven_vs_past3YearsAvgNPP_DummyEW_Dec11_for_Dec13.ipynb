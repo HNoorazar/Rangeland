{
 "cells": [
  {
   "cell_type": "markdown",
   "id": "df1f2c97",
   "metadata": {},
   "source": [
    "StateInven_vs_past3YrsNPP_DummyEW_Dec11-for-Dec13\n",
    "\n",
    "cow_inventory as function of moving average of past 3 years of NPP.\n",
    "\n",
    "DummyEW: Dummy variable for east vs. western states.\n",
    "\n",
    "On Dec. 11 Mike and I had a meeting and this decision was made."
   ]
  },
  {
   "cell_type": "code",
   "execution_count": 1,
   "id": "f0f69cf3",
   "metadata": {},
   "outputs": [],
   "source": [
    "import shutup\n",
    "\n",
    "shutup.please()\n",
    "\n",
    "import pandas as pd\n",
    "import numpy as np\n",
    "from datetime import datetime\n",
    "import os, os.path, pickle, sys\n",
    "import seaborn as sns\n",
    "\n",
    "import matplotlib\n",
    "import matplotlib.pyplot as plt\n",
    "\n",
    "from sklearn import preprocessing\n",
    "import statistics\n",
    "import statsmodels.api as sm\n",
    "\n",
    "sys.path.append(\"/Users/hn/Documents/00_GitHub/Rangeland/Python_Codes/\")\n",
    "import rangeland_core as rc"
   ]
  },
  {
   "cell_type": "code",
   "execution_count": 2,
   "id": "b22ff83c",
   "metadata": {},
   "outputs": [],
   "source": [
    "data_dir_base = \"/Users/hn/Documents/01_research_data/RangeLand/Data/\"\n",
    "census_population_dir = data_dir_base + \"census/\"\n",
    "# Shannon_data_dir = data_dir_base + \"Shannon_Data/\"\n",
    "# USDA_data_dir = data_dir_base + \"/NASS_downloads/\"\n",
    "param_dir = data_dir_base + \"parameters/\"\n",
    "Min_data_base = data_dir_base + \"Min_Data/\"\n",
    "reOrganized_dir = data_dir_base + \"reOrganized/\""
   ]
  },
  {
   "cell_type": "code",
   "execution_count": 3,
   "id": "8da7edb4",
   "metadata": {},
   "outputs": [
    {
     "name": "stdout",
     "output_type": "stream",
     "text": [
      "This is \u001b[1ma_bold_text\u001b[0;0m!\n"
     ]
    }
   ],
   "source": [
    "# for bold print\n",
    "start_b = \"\\033[1m\"\n",
    "end_b = \"\\033[0;0m\"\n",
    "print (\"This is \" + start_b + \"a_bold_text\" + end_b + \"!\")"
   ]
  },
  {
   "cell_type": "markdown",
   "id": "748f0e22",
   "metadata": {},
   "source": [
    "# Read"
   ]
  },
  {
   "cell_type": "code",
   "execution_count": 4,
   "id": "729d77cc",
   "metadata": {},
   "outputs": [],
   "source": [
    "SoI = [\n",
    "    \"Alabama\",\n",
    "    \"Arizona\",\n",
    "    \"Arkansas\",\n",
    "    \"California\",\n",
    "    \"Colorado\",\n",
    "    \"Florida\",\n",
    "    \"Georgia\",\n",
    "    \"Idaho\",\n",
    "    \"Illinois\",\n",
    "    \"Iowa\",\n",
    "    \"Kansas\",\n",
    "    \"Kentucky\",\n",
    "    \"Louisiana\",\n",
    "    \"Mississippi\",\n",
    "    \"Missouri\",\n",
    "    \"Montana\",\n",
    "    \"Nebraska\",\n",
    "    \"Nevada\",\n",
    "    \"New Mexico\",\n",
    "    \"North Dakota\",\n",
    "    \"Oklahoma\",\n",
    "    \"Oregon\",\n",
    "    \"South Dakota\",\n",
    "    \"Tennessee\",\n",
    "    \"Texas\",\n",
    "    \"Utah\",\n",
    "    \"Virginia\",\n",
    "    \"Washington\",\n",
    "    \"Wyoming\",\n",
    "]\n",
    "\n",
    "abb_dict = pd.read_pickle(param_dir + \"state_abbreviations.sav\")\n",
    "SoI_abb = []\n",
    "for x in SoI:\n",
    "    SoI_abb = SoI_abb + [abb_dict[\"full_2_abb\"][x]]"
   ]
  },
  {
   "cell_type": "code",
   "execution_count": 5,
   "id": "8dea31fa",
   "metadata": {},
   "outputs": [
    {
     "data": {
      "text/html": [
       "<div>\n",
       "<style scoped>\n",
       "    .dataframe tbody tr th:only-of-type {\n",
       "        vertical-align: middle;\n",
       "    }\n",
       "\n",
       "    .dataframe tbody tr th {\n",
       "        vertical-align: top;\n",
       "    }\n",
       "\n",
       "    .dataframe thead th {\n",
       "        text-align: right;\n",
       "    }\n",
       "</style>\n",
       "<table border=\"1\" class=\"dataframe\">\n",
       "  <thead>\n",
       "    <tr style=\"text-align: right;\">\n",
       "      <th></th>\n",
       "      <th>state</th>\n",
       "      <th>state_fip</th>\n",
       "      <th>EW</th>\n",
       "    </tr>\n",
       "  </thead>\n",
       "  <tbody>\n",
       "    <tr>\n",
       "      <th>0</th>\n",
       "      <td>AL</td>\n",
       "      <td>01</td>\n",
       "      <td>E</td>\n",
       "    </tr>\n",
       "    <tr>\n",
       "      <th>1</th>\n",
       "      <td>AR</td>\n",
       "      <td>05</td>\n",
       "      <td>E</td>\n",
       "    </tr>\n",
       "  </tbody>\n",
       "</table>\n",
       "</div>"
      ],
      "text/plain": [
       "  state state_fip EW\n",
       "0    AL        01  E\n",
       "1    AR        05  E"
      ]
     },
     "execution_count": 5,
     "metadata": {},
     "output_type": "execute_result"
    }
   ],
   "source": [
    "county_fips = pd.read_pickle(reOrganized_dir + \"county_fips.sav\")\n",
    "county_fips = county_fips[\"county_fips\"]\n",
    "county_fips = county_fips[[\"state\", \"state_fip\", \"EW\"]]\n",
    "county_fips = county_fips[county_fips.state.isin(SoI_abb)].copy()\n",
    "county_fips.drop_duplicates(inplace=True)\n",
    "county_fips.reset_index(drop=True, inplace=True)\n",
    "\n",
    "county_fips.head(2)"
   ]
  },
  {
   "cell_type": "code",
   "execution_count": 6,
   "id": "1591d27b",
   "metadata": {},
   "outputs": [
    {
     "data": {
      "text/plain": [
       "29"
      ]
     },
     "execution_count": 6,
     "metadata": {},
     "output_type": "execute_result"
    }
   ],
   "source": [
    "state_SoI_fip = county_fips.state_fip.unique()\n",
    "len(state_SoI_fip)"
   ]
  },
  {
   "cell_type": "code",
   "execution_count": null,
   "id": "fd17779f",
   "metadata": {},
   "outputs": [],
   "source": []
  },
  {
   "cell_type": "code",
   "execution_count": 7,
   "id": "d96c72a0",
   "metadata": {},
   "outputs": [
    {
     "name": "stdout",
     "output_type": "stream",
     "text": [
      "dict_keys(['state_herb_ratio', 'source_code', 'Author', 'Date'])\n"
     ]
    },
    {
     "data": {
      "text/html": [
       "<div>\n",
       "<style scoped>\n",
       "    .dataframe tbody tr th:only-of-type {\n",
       "        vertical-align: middle;\n",
       "    }\n",
       "\n",
       "    .dataframe tbody tr th {\n",
       "        vertical-align: top;\n",
       "    }\n",
       "\n",
       "    .dataframe thead th {\n",
       "        text-align: right;\n",
       "    }\n",
       "</style>\n",
       "<table border=\"1\" class=\"dataframe\">\n",
       "  <thead>\n",
       "    <tr style=\"text-align: right;\">\n",
       "      <th></th>\n",
       "      <th>state_fip</th>\n",
       "      <th>ag_land</th>\n",
       "      <th>pixel_count</th>\n",
       "      <th>herb_avg</th>\n",
       "      <th>herb_std</th>\n",
       "    </tr>\n",
       "  </thead>\n",
       "  <tbody>\n",
       "    <tr>\n",
       "      <th>0</th>\n",
       "      <td>01</td>\n",
       "      <td>131174048583</td>\n",
       "      <td>10874.0</td>\n",
       "      <td>21.019864</td>\n",
       "      <td>25.356867</td>\n",
       "    </tr>\n",
       "    <tr>\n",
       "      <th>2</th>\n",
       "      <td>04</td>\n",
       "      <td>294198551143</td>\n",
       "      <td>3704408.0</td>\n",
       "      <td>45.168734</td>\n",
       "      <td>17.311673</td>\n",
       "    </tr>\n",
       "    <tr>\n",
       "      <th>3</th>\n",
       "      <td>05</td>\n",
       "      <td>134768872727</td>\n",
       "      <td>24951.0</td>\n",
       "      <td>27.282554</td>\n",
       "      <td>29.379988</td>\n",
       "    </tr>\n",
       "  </tbody>\n",
       "</table>\n",
       "</div>"
      ],
      "text/plain": [
       "  state_fip       ag_land  pixel_count   herb_avg   herb_std\n",
       "0        01  131174048583      10874.0  21.019864  25.356867\n",
       "2        04  294198551143    3704408.0  45.168734  17.311673\n",
       "3        05  134768872727      24951.0  27.282554  29.379988"
      ]
     },
     "execution_count": 7,
     "metadata": {},
     "output_type": "execute_result"
    }
   ],
   "source": [
    "# herb = pd.read_csv(data_dir_base + \"Supriya/Nov30_herb/state_herb_ratio.csv\")\n",
    "# herb = rc.correct_state_int_fips_to_str(df=herb, col_=\"state_fip\")\n",
    "# herb.sort_values(by=[\"state_fip\"], inplace=True)\n",
    "herb = pd.read_pickle(data_dir_base + \"Supriya/Nov30_HerbRatio/state_herb_ratio.sav\")\n",
    "print (herb.keys())\n",
    "herb = herb[\"state_herb_ratio\"]\n",
    "herb = herb[herb.state_fip.isin(state_SoI_fip)]\n",
    "# herb.dropna(how=\"any\", inplace=True)\n",
    "herb.head(3)"
   ]
  },
  {
   "cell_type": "code",
   "execution_count": 8,
   "id": "a1076a81",
   "metadata": {},
   "outputs": [
    {
     "data": {
      "text/html": [
       "<div>\n",
       "<style scoped>\n",
       "    .dataframe tbody tr th:only-of-type {\n",
       "        vertical-align: middle;\n",
       "    }\n",
       "\n",
       "    .dataframe tbody tr th {\n",
       "        vertical-align: top;\n",
       "    }\n",
       "\n",
       "    .dataframe thead th {\n",
       "        text-align: right;\n",
       "    }\n",
       "</style>\n",
       "<table border=\"1\" class=\"dataframe\">\n",
       "  <thead>\n",
       "    <tr style=\"text-align: right;\">\n",
       "      <th></th>\n",
       "      <th>state_fip</th>\n",
       "      <th>ag_land</th>\n",
       "      <th>pixel_count</th>\n",
       "      <th>herb_avg</th>\n",
       "      <th>herb_std</th>\n",
       "    </tr>\n",
       "  </thead>\n",
       "  <tbody>\n",
       "    <tr>\n",
       "      <th>0</th>\n",
       "      <td>01</td>\n",
       "      <td>131174048583</td>\n",
       "      <td>10874.0</td>\n",
       "      <td>21.019864</td>\n",
       "      <td>25.356867</td>\n",
       "    </tr>\n",
       "    <tr>\n",
       "      <th>1</th>\n",
       "      <td>04</td>\n",
       "      <td>294198551143</td>\n",
       "      <td>3704408.0</td>\n",
       "      <td>45.168734</td>\n",
       "      <td>17.311673</td>\n",
       "    </tr>\n",
       "    <tr>\n",
       "      <th>2</th>\n",
       "      <td>05</td>\n",
       "      <td>134768872727</td>\n",
       "      <td>24951.0</td>\n",
       "      <td>27.282554</td>\n",
       "      <td>29.379988</td>\n",
       "    </tr>\n",
       "  </tbody>\n",
       "</table>\n",
       "</div>"
      ],
      "text/plain": [
       "  state_fip       ag_land  pixel_count   herb_avg   herb_std\n",
       "0        01  131174048583      10874.0  21.019864  25.356867\n",
       "1        04  294198551143    3704408.0  45.168734  17.311673\n",
       "2        05  134768872727      24951.0  27.282554  29.379988"
      ]
     },
     "execution_count": 8,
     "metadata": {},
     "output_type": "execute_result"
    }
   ],
   "source": [
    "herb.dropna(how=\"any\", inplace=True)\n",
    "herb.reset_index(drop=True, inplace=True)\n",
    "herb.head(3)"
   ]
  },
  {
   "cell_type": "markdown",
   "id": "af6c0997",
   "metadata": {},
   "source": [
    "### Read Rangeland area and Total area:"
   ]
  },
  {
   "cell_type": "code",
   "execution_count": 9,
   "id": "39685bb1",
   "metadata": {},
   "outputs": [
    {
     "data": {
      "text/html": [
       "<div>\n",
       "<style scoped>\n",
       "    .dataframe tbody tr th:only-of-type {\n",
       "        vertical-align: middle;\n",
       "    }\n",
       "\n",
       "    .dataframe tbody tr th {\n",
       "        vertical-align: top;\n",
       "    }\n",
       "\n",
       "    .dataframe thead th {\n",
       "        text-align: right;\n",
       "    }\n",
       "</style>\n",
       "<table border=\"1\" class=\"dataframe\">\n",
       "  <thead>\n",
       "    <tr style=\"text-align: right;\">\n",
       "      <th></th>\n",
       "      <th>state_fip</th>\n",
       "      <th>rangeland_acre</th>\n",
       "      <th>state_area_acre</th>\n",
       "    </tr>\n",
       "  </thead>\n",
       "  <tbody>\n",
       "    <tr>\n",
       "      <th>0</th>\n",
       "      <td>01</td>\n",
       "      <td>31570.99</td>\n",
       "      <td>14825637.76</td>\n",
       "    </tr>\n",
       "    <tr>\n",
       "      <th>1</th>\n",
       "      <td>04</td>\n",
       "      <td>54476918.89</td>\n",
       "      <td>72998287.36</td>\n",
       "    </tr>\n",
       "  </tbody>\n",
       "</table>\n",
       "</div>"
      ],
      "text/plain": [
       "  state_fip  rangeland_acre  state_area_acre\n",
       "0        01        31570.99      14825637.76\n",
       "1        04     54476918.89      72998287.36"
      ]
     },
     "execution_count": 9,
     "metadata": {},
     "output_type": "execute_result"
    }
   ],
   "source": [
    "# Rangeland area and Total area:\n",
    "state_RA = pd.read_pickle(reOrganized_dir + \"state_RA_area.sav\")\n",
    "state_RA = state_RA[\"state_RA_area\"]\n",
    "state_RA = state_RA[state_RA.state_fip.isin(state_SoI_fip)]\n",
    "state_RA.head(2)"
   ]
  },
  {
   "cell_type": "markdown",
   "id": "b1deaeb7",
   "metadata": {},
   "source": [
    "### Read NPP"
   ]
  },
  {
   "cell_type": "code",
   "execution_count": 10,
   "id": "67cca485",
   "metadata": {},
   "outputs": [
    {
     "data": {
      "text/html": [
       "<div>\n",
       "<style scoped>\n",
       "    .dataframe tbody tr th:only-of-type {\n",
       "        vertical-align: middle;\n",
       "    }\n",
       "\n",
       "    .dataframe tbody tr th {\n",
       "        vertical-align: top;\n",
       "    }\n",
       "\n",
       "    .dataframe thead th {\n",
       "        text-align: right;\n",
       "    }\n",
       "</style>\n",
       "<table border=\"1\" class=\"dataframe\">\n",
       "  <thead>\n",
       "    <tr style=\"text-align: right;\">\n",
       "      <th></th>\n",
       "      <th>year</th>\n",
       "      <th>state_fip</th>\n",
       "      <th>modis_npp</th>\n",
       "    </tr>\n",
       "  </thead>\n",
       "  <tbody>\n",
       "    <tr>\n",
       "      <th>0</th>\n",
       "      <td>2001</td>\n",
       "      <td>01</td>\n",
       "      <td>0.816597</td>\n",
       "    </tr>\n",
       "    <tr>\n",
       "      <th>1</th>\n",
       "      <td>2001</td>\n",
       "      <td>04</td>\n",
       "      <td>0.115683</td>\n",
       "    </tr>\n",
       "  </tbody>\n",
       "</table>\n",
       "</div>"
      ],
      "text/plain": [
       "   year state_fip  modis_npp\n",
       "0  2001        01   0.816597\n",
       "1  2001        04   0.115683"
      ]
     },
     "execution_count": 10,
     "metadata": {},
     "output_type": "execute_result"
    }
   ],
   "source": [
    "NPP = pd.read_csv(Min_data_base + \"statefips_annual_MODIS_NPP.csv\")\n",
    "NPP.rename(columns={\"NPP\": \"modis_npp\", \"statefips90m\": \"state_fip\"}, inplace=True)\n",
    "NPP = rc.correct_3digitStateFips_Min(NPP, \"state_fip\")\n",
    "\n",
    "NPP = NPP[NPP.state_fip.isin(state_SoI_fip)]\n",
    "NPP.reset_index(drop=True, inplace=True)\n",
    "\n",
    "NPP.head(2)"
   ]
  },
  {
   "cell_type": "markdown",
   "id": "dc3bd390",
   "metadata": {},
   "source": [
    "### Convert Unit NPP to State Level"
   ]
  },
  {
   "cell_type": "code",
   "execution_count": 11,
   "id": "e8f6ca4c",
   "metadata": {},
   "outputs": [
    {
     "data": {
      "text/html": [
       "<div>\n",
       "<style scoped>\n",
       "    .dataframe tbody tr th:only-of-type {\n",
       "        vertical-align: middle;\n",
       "    }\n",
       "\n",
       "    .dataframe tbody tr th {\n",
       "        vertical-align: top;\n",
       "    }\n",
       "\n",
       "    .dataframe thead th {\n",
       "        text-align: right;\n",
       "    }\n",
       "</style>\n",
       "<table border=\"1\" class=\"dataframe\">\n",
       "  <thead>\n",
       "    <tr style=\"text-align: right;\">\n",
       "      <th></th>\n",
       "      <th>year</th>\n",
       "      <th>state_fip</th>\n",
       "      <th>modis_npp</th>\n",
       "      <th>rangeland_acre</th>\n",
       "      <th>state_area_acre</th>\n",
       "    </tr>\n",
       "  </thead>\n",
       "  <tbody>\n",
       "    <tr>\n",
       "      <th>0</th>\n",
       "      <td>2001</td>\n",
       "      <td>01</td>\n",
       "      <td>0.816597</td>\n",
       "      <td>31570.99</td>\n",
       "      <td>14825637.76</td>\n",
       "    </tr>\n",
       "    <tr>\n",
       "      <th>1</th>\n",
       "      <td>2001</td>\n",
       "      <td>04</td>\n",
       "      <td>0.115683</td>\n",
       "      <td>54476918.89</td>\n",
       "      <td>72998287.36</td>\n",
       "    </tr>\n",
       "  </tbody>\n",
       "</table>\n",
       "</div>"
      ],
      "text/plain": [
       "   year state_fip  modis_npp  rangeland_acre  state_area_acre\n",
       "0  2001        01   0.816597        31570.99      14825637.76\n",
       "1  2001        04   0.115683     54476918.89      72998287.36"
      ]
     },
     "execution_count": 11,
     "metadata": {},
     "output_type": "execute_result"
    }
   ],
   "source": [
    "state_NPP_Ra = pd.merge(NPP, state_RA, on=[\"state_fip\"], how=\"left\")\n",
    "state_NPP_Ra.head(2)"
   ]
  },
  {
   "cell_type": "code",
   "execution_count": 13,
   "id": "f7f65561",
   "metadata": {},
   "outputs": [
    {
     "data": {
      "text/html": [
       "<div>\n",
       "<style scoped>\n",
       "    .dataframe tbody tr th:only-of-type {\n",
       "        vertical-align: middle;\n",
       "    }\n",
       "\n",
       "    .dataframe tbody tr th {\n",
       "        vertical-align: top;\n",
       "    }\n",
       "\n",
       "    .dataframe thead th {\n",
       "        text-align: right;\n",
       "    }\n",
       "</style>\n",
       "<table border=\"1\" class=\"dataframe\">\n",
       "  <thead>\n",
       "    <tr style=\"text-align: right;\">\n",
       "      <th></th>\n",
       "      <th>year</th>\n",
       "      <th>state_fip</th>\n",
       "      <th>rangeland_acre</th>\n",
       "      <th>state_area_acre</th>\n",
       "      <th>area_m2</th>\n",
       "      <th>state_rangeland_npp</th>\n",
       "    </tr>\n",
       "  </thead>\n",
       "  <tbody>\n",
       "    <tr>\n",
       "      <th>0</th>\n",
       "      <td>2001</td>\n",
       "      <td>01</td>\n",
       "      <td>31570.99</td>\n",
       "      <td>14825637.76</td>\n",
       "      <td>1.277635e+08</td>\n",
       "      <td>1.043312e+08</td>\n",
       "    </tr>\n",
       "    <tr>\n",
       "      <th>1</th>\n",
       "      <td>2001</td>\n",
       "      <td>04</td>\n",
       "      <td>54476918.89</td>\n",
       "      <td>72998287.36</td>\n",
       "      <td>2.204606e+11</td>\n",
       "      <td>2.550357e+10</td>\n",
       "    </tr>\n",
       "  </tbody>\n",
       "</table>\n",
       "</div>"
      ],
      "text/plain": [
       "   year state_fip  rangeland_acre  state_area_acre       area_m2   \n",
       "0  2001        01        31570.99      14825637.76  1.277635e+08  \\\n",
       "1  2001        04     54476918.89      72998287.36  2.204606e+11   \n",
       "\n",
       "   state_rangeland_npp  \n",
       "0         1.043312e+08  \n",
       "1         2.550357e+10  "
      ]
     },
     "execution_count": 13,
     "metadata": {},
     "output_type": "execute_result"
    }
   ],
   "source": [
    "state_NPP_Ra = rc.covert_unitNPP_2_total(NPP_df=state_NPP_Ra, npp_unit_col_=\"modis_npp\",\n",
    "                                         acr_area_col_=\"rangeland_acre\", npp_area_col_=\"state_rangeland_npp\")\n",
    "\n",
    "### Security check to not make mistake later:\n",
    "state_NPP_Ra.drop(columns=[\"modis_npp\"], inplace=True)\n",
    "state_NPP_Ra.head(2)"
   ]
  },
  {
   "cell_type": "markdown",
   "id": "97093b71",
   "metadata": {},
   "source": [
    "### Read Inventory"
   ]
  },
  {
   "cell_type": "code",
   "execution_count": 14,
   "id": "a6bfbfaa",
   "metadata": {},
   "outputs": [
    {
     "data": {
      "text/html": [
       "<div>\n",
       "<style scoped>\n",
       "    .dataframe tbody tr th:only-of-type {\n",
       "        vertical-align: middle;\n",
       "    }\n",
       "\n",
       "    .dataframe tbody tr th {\n",
       "        vertical-align: top;\n",
       "    }\n",
       "\n",
       "    .dataframe thead th {\n",
       "        text-align: right;\n",
       "    }\n",
       "</style>\n",
       "<table border=\"1\" class=\"dataframe\">\n",
       "  <thead>\n",
       "    <tr style=\"text-align: right;\">\n",
       "      <th></th>\n",
       "      <th>state</th>\n",
       "      <th>year</th>\n",
       "      <th>inventory</th>\n",
       "      <th>state_fip</th>\n",
       "    </tr>\n",
       "  </thead>\n",
       "  <tbody>\n",
       "    <tr>\n",
       "      <th>0</th>\n",
       "      <td>AL</td>\n",
       "      <td>2001</td>\n",
       "      <td>737000.0</td>\n",
       "      <td>01</td>\n",
       "    </tr>\n",
       "    <tr>\n",
       "      <th>1</th>\n",
       "      <td>AL</td>\n",
       "      <td>2002</td>\n",
       "      <td>750000.0</td>\n",
       "      <td>01</td>\n",
       "    </tr>\n",
       "  </tbody>\n",
       "</table>\n",
       "</div>"
      ],
      "text/plain": [
       "  state  year inventory state_fip\n",
       "0    AL  2001  737000.0        01\n",
       "1    AL  2002  750000.0        01"
      ]
     },
     "execution_count": 14,
     "metadata": {},
     "output_type": "execute_result"
    }
   ],
   "source": [
    "invent_tall = pd.read_pickle(reOrganized_dir + \"Shannon_Beef_Cows_fromCATINV_tall.sav\")\n",
    "invent_tall = invent_tall[\"CATINV_annual_tall\"]\n",
    "\n",
    "invent_tall = invent_tall[invent_tall.state.isin(SoI_abb)]\n",
    "\n",
    "invent_tall = invent_tall[invent_tall.year.isin(state_NPP_Ra.year.unique())]\n",
    "invent_tall.reset_index(drop=True, inplace=True)\n",
    "invent_tall.head(2)"
   ]
  },
  {
   "cell_type": "code",
   "execution_count": 15,
   "id": "910869d0",
   "metadata": {},
   "outputs": [
    {
     "data": {
      "text/html": [
       "<div>\n",
       "<style scoped>\n",
       "    .dataframe tbody tr th:only-of-type {\n",
       "        vertical-align: middle;\n",
       "    }\n",
       "\n",
       "    .dataframe tbody tr th {\n",
       "        vertical-align: top;\n",
       "    }\n",
       "\n",
       "    .dataframe thead th {\n",
       "        text-align: right;\n",
       "    }\n",
       "</style>\n",
       "<table border=\"1\" class=\"dataframe\">\n",
       "  <thead>\n",
       "    <tr style=\"text-align: right;\">\n",
       "      <th></th>\n",
       "      <th>state</th>\n",
       "      <th>year</th>\n",
       "      <th>inventory</th>\n",
       "      <th>state_fip</th>\n",
       "    </tr>\n",
       "  </thead>\n",
       "  <tbody>\n",
       "    <tr>\n",
       "      <th>0</th>\n",
       "      <td>AL</td>\n",
       "      <td>2001</td>\n",
       "      <td>737000.0</td>\n",
       "      <td>01</td>\n",
       "    </tr>\n",
       "    <tr>\n",
       "      <th>1</th>\n",
       "      <td>AL</td>\n",
       "      <td>2002</td>\n",
       "      <td>750000.0</td>\n",
       "      <td>01</td>\n",
       "    </tr>\n",
       "    <tr>\n",
       "      <th>2</th>\n",
       "      <td>AL</td>\n",
       "      <td>2003</td>\n",
       "      <td>761000.0</td>\n",
       "      <td>01</td>\n",
       "    </tr>\n",
       "    <tr>\n",
       "      <th>3</th>\n",
       "      <td>AL</td>\n",
       "      <td>2004</td>\n",
       "      <td>732000.0</td>\n",
       "      <td>01</td>\n",
       "    </tr>\n",
       "  </tbody>\n",
       "</table>\n",
       "</div>"
      ],
      "text/plain": [
       "  state  year inventory state_fip\n",
       "0    AL  2001  737000.0        01\n",
       "1    AL  2002  750000.0        01\n",
       "2    AL  2003  761000.0        01\n",
       "3    AL  2004  732000.0        01"
      ]
     },
     "execution_count": 15,
     "metadata": {},
     "output_type": "execute_result"
    }
   ],
   "source": [
    "invent_tall_copy = invent_tall.copy()\n",
    "invent_tall_copy.head(4)"
   ]
  },
  {
   "cell_type": "code",
   "execution_count": 16,
   "id": "4cff980b",
   "metadata": {},
   "outputs": [
    {
     "data": {
      "text/html": [
       "<div>\n",
       "<style scoped>\n",
       "    .dataframe tbody tr th:only-of-type {\n",
       "        vertical-align: middle;\n",
       "    }\n",
       "\n",
       "    .dataframe tbody tr th {\n",
       "        vertical-align: top;\n",
       "    }\n",
       "\n",
       "    .dataframe thead th {\n",
       "        text-align: right;\n",
       "    }\n",
       "</style>\n",
       "<table border=\"1\" class=\"dataframe\">\n",
       "  <thead>\n",
       "    <tr style=\"text-align: right;\">\n",
       "      <th></th>\n",
       "      <th>state</th>\n",
       "      <th>year</th>\n",
       "      <th>inventory</th>\n",
       "      <th>state_fip</th>\n",
       "      <th>NPP_avg_past_3yrs</th>\n",
       "    </tr>\n",
       "  </thead>\n",
       "  <tbody>\n",
       "    <tr>\n",
       "      <th>0</th>\n",
       "      <td>AL</td>\n",
       "      <td>2001</td>\n",
       "      <td>737000.0</td>\n",
       "      <td>01</td>\n",
       "      <td>0.000000e+00</td>\n",
       "    </tr>\n",
       "    <tr>\n",
       "      <th>1</th>\n",
       "      <td>AL</td>\n",
       "      <td>2002</td>\n",
       "      <td>750000.0</td>\n",
       "      <td>01</td>\n",
       "      <td>NaN</td>\n",
       "    </tr>\n",
       "    <tr>\n",
       "      <th>2</th>\n",
       "      <td>AL</td>\n",
       "      <td>2003</td>\n",
       "      <td>761000.0</td>\n",
       "      <td>01</td>\n",
       "      <td>NaN</td>\n",
       "    </tr>\n",
       "    <tr>\n",
       "      <th>3</th>\n",
       "      <td>AL</td>\n",
       "      <td>2004</td>\n",
       "      <td>732000.0</td>\n",
       "      <td>01</td>\n",
       "      <td>8.565837e+09</td>\n",
       "    </tr>\n",
       "    <tr>\n",
       "      <th>4</th>\n",
       "      <td>AL</td>\n",
       "      <td>2005</td>\n",
       "      <td>724000.0</td>\n",
       "      <td>01</td>\n",
       "      <td>2.636689e+10</td>\n",
       "    </tr>\n",
       "  </tbody>\n",
       "</table>\n",
       "</div>"
      ],
      "text/plain": [
       "  state  year inventory state_fip  NPP_avg_past_3yrs\n",
       "0    AL  2001  737000.0        01       0.000000e+00\n",
       "1    AL  2002  750000.0        01                NaN\n",
       "2    AL  2003  761000.0        01                NaN\n",
       "3    AL  2004  732000.0        01       8.565837e+09\n",
       "4    AL  2005  724000.0        01       2.636689e+10"
      ]
     },
     "execution_count": 16,
     "metadata": {},
     "output_type": "execute_result"
    }
   ],
   "source": [
    "col_3NPP = [\"NPP_avg_past_3yrs\"]\n",
    "\n",
    "# Add zero in there so that we are using avg of NPP of 2001, 2002, and 2003 for inventory of 2004:\n",
    "NPP_3yr_avg = list(state_NPP_Ra.state_rangeland_npp.rolling(3).mean())\n",
    "NPP_3yr_avg.pop()\n",
    "invent_tall[\"NPP_avg_past_3yrs\"] = [0] + NPP_3yr_avg\n",
    "invent_tall.head(5)"
   ]
  },
  {
   "cell_type": "code",
   "execution_count": 17,
   "id": "5dd9c663",
   "metadata": {},
   "outputs": [
    {
     "name": "stdout",
     "output_type": "stream",
     "text": [
      "[1.04331212e+08 2.55035697e+10 8.96112551e+07]\n",
      "8565837391.773265\n"
     ]
    }
   ],
   "source": [
    "print (state_NPP_Ra.state_rangeland_npp[:3].values)\n",
    "print (state_NPP_Ra.state_rangeland_npp[:3].mean())"
   ]
  },
  {
   "cell_type": "code",
   "execution_count": 18,
   "id": "4599cf31",
   "metadata": {},
   "outputs": [
    {
     "data": {
      "text/html": [
       "<div>\n",
       "<style scoped>\n",
       "    .dataframe tbody tr th:only-of-type {\n",
       "        vertical-align: middle;\n",
       "    }\n",
       "\n",
       "    .dataframe tbody tr th {\n",
       "        vertical-align: top;\n",
       "    }\n",
       "\n",
       "    .dataframe thead th {\n",
       "        text-align: right;\n",
       "    }\n",
       "</style>\n",
       "<table border=\"1\" class=\"dataframe\">\n",
       "  <thead>\n",
       "    <tr style=\"text-align: right;\">\n",
       "      <th></th>\n",
       "      <th>state</th>\n",
       "      <th>year</th>\n",
       "      <th>inventory</th>\n",
       "      <th>state_fip</th>\n",
       "      <th>NPP_avg_past_3yrs</th>\n",
       "    </tr>\n",
       "  </thead>\n",
       "  <tbody>\n",
       "    <tr>\n",
       "      <th>0</th>\n",
       "      <td>AL</td>\n",
       "      <td>2004</td>\n",
       "      <td>732000.0</td>\n",
       "      <td>01</td>\n",
       "      <td>8.565837e+09</td>\n",
       "    </tr>\n",
       "    <tr>\n",
       "      <th>1</th>\n",
       "      <td>AL</td>\n",
       "      <td>2005</td>\n",
       "      <td>724000.0</td>\n",
       "      <td>01</td>\n",
       "      <td>2.636689e+10</td>\n",
       "    </tr>\n",
       "    <tr>\n",
       "      <th>2</th>\n",
       "      <td>AL</td>\n",
       "      <td>2006</td>\n",
       "      <td>686000.0</td>\n",
       "      <td>01</td>\n",
       "      <td>2.764962e+10</td>\n",
       "    </tr>\n",
       "  </tbody>\n",
       "</table>\n",
       "</div>"
      ],
      "text/plain": [
       "  state  year inventory state_fip  NPP_avg_past_3yrs\n",
       "0    AL  2004  732000.0        01       8.565837e+09\n",
       "1    AL  2005  724000.0        01       2.636689e+10\n",
       "2    AL  2006  686000.0        01       2.764962e+10"
      ]
     },
     "execution_count": 18,
     "metadata": {},
     "output_type": "execute_result"
    }
   ],
   "source": [
    "invent_tall = invent_tall[invent_tall.year>=2004]\n",
    "invent_tall.reset_index(drop=True, inplace=True)\n",
    "invent_tall.head(3)"
   ]
  },
  {
   "cell_type": "markdown",
   "id": "86d7c4af",
   "metadata": {},
   "source": [
    "## First three years\n",
    "can be either dropped or drop the first year, and for second year use only 1 year of NPP, and for third year use only 2 years of NPP.\n",
    "\n",
    "Let's just drop them."
   ]
  },
  {
   "cell_type": "code",
   "execution_count": 19,
   "id": "8494b155",
   "metadata": {},
   "outputs": [
    {
     "data": {
      "text/html": [
       "<div>\n",
       "<style scoped>\n",
       "    .dataframe tbody tr th:only-of-type {\n",
       "        vertical-align: middle;\n",
       "    }\n",
       "\n",
       "    .dataframe tbody tr th {\n",
       "        vertical-align: top;\n",
       "    }\n",
       "\n",
       "    .dataframe thead th {\n",
       "        text-align: right;\n",
       "    }\n",
       "</style>\n",
       "<table border=\"1\" class=\"dataframe\">\n",
       "  <thead>\n",
       "    <tr style=\"text-align: right;\">\n",
       "      <th></th>\n",
       "      <th>state_fip</th>\n",
       "      <th>rangeland_acre</th>\n",
       "      <th>state_area_acre</th>\n",
       "    </tr>\n",
       "  </thead>\n",
       "  <tbody>\n",
       "    <tr>\n",
       "      <th>0</th>\n",
       "      <td>01</td>\n",
       "      <td>31570.99</td>\n",
       "      <td>14825637.76</td>\n",
       "    </tr>\n",
       "    <tr>\n",
       "      <th>1</th>\n",
       "      <td>04</td>\n",
       "      <td>54476918.89</td>\n",
       "      <td>72998287.36</td>\n",
       "    </tr>\n",
       "  </tbody>\n",
       "</table>\n",
       "</div>"
      ],
      "text/plain": [
       "  state_fip  rangeland_acre  state_area_acre\n",
       "0        01        31570.99      14825637.76\n",
       "1        04     54476918.89      72998287.36"
      ]
     },
     "execution_count": 19,
     "metadata": {},
     "output_type": "execute_result"
    }
   ],
   "source": [
    "state_RA.head(2)"
   ]
  },
  {
   "cell_type": "code",
   "execution_count": 20,
   "id": "dd540569",
   "metadata": {},
   "outputs": [
    {
     "data": {
      "text/html": [
       "<div>\n",
       "<style scoped>\n",
       "    .dataframe tbody tr th:only-of-type {\n",
       "        vertical-align: middle;\n",
       "    }\n",
       "\n",
       "    .dataframe tbody tr th {\n",
       "        vertical-align: top;\n",
       "    }\n",
       "\n",
       "    .dataframe thead th {\n",
       "        text-align: right;\n",
       "    }\n",
       "</style>\n",
       "<table border=\"1\" class=\"dataframe\">\n",
       "  <thead>\n",
       "    <tr style=\"text-align: right;\">\n",
       "      <th></th>\n",
       "      <th>state</th>\n",
       "      <th>year</th>\n",
       "      <th>inventory</th>\n",
       "      <th>state_fip</th>\n",
       "      <th>NPP_avg_past_3yrs</th>\n",
       "      <th>rangeland_acre</th>\n",
       "      <th>herb_avg</th>\n",
       "      <th>EW</th>\n",
       "    </tr>\n",
       "  </thead>\n",
       "  <tbody>\n",
       "    <tr>\n",
       "      <th>0</th>\n",
       "      <td>AL</td>\n",
       "      <td>2004</td>\n",
       "      <td>732000.0</td>\n",
       "      <td>01</td>\n",
       "      <td>8.565837e+09</td>\n",
       "      <td>31570.99</td>\n",
       "      <td>21.019864</td>\n",
       "      <td>E</td>\n",
       "    </tr>\n",
       "    <tr>\n",
       "      <th>1</th>\n",
       "      <td>AL</td>\n",
       "      <td>2005</td>\n",
       "      <td>724000.0</td>\n",
       "      <td>01</td>\n",
       "      <td>2.636689e+10</td>\n",
       "      <td>31570.99</td>\n",
       "      <td>21.019864</td>\n",
       "      <td>E</td>\n",
       "    </tr>\n",
       "  </tbody>\n",
       "</table>\n",
       "</div>"
      ],
      "text/plain": [
       "  state  year inventory state_fip  NPP_avg_past_3yrs  rangeland_acre   \n",
       "0    AL  2004  732000.0        01       8.565837e+09        31570.99  \\\n",
       "1    AL  2005  724000.0        01       2.636689e+10        31570.99   \n",
       "\n",
       "    herb_avg EW  \n",
       "0  21.019864  E  \n",
       "1  21.019864  E  "
      ]
     },
     "execution_count": 20,
     "metadata": {},
     "output_type": "execute_result"
    }
   ],
   "source": [
    "invent_tall = pd.merge(invent_tall, state_RA[[\"state_fip\", \"rangeland_acre\"]], \n",
    "                       on=[\"state_fip\"], how=\"left\")\n",
    "\n",
    "invent_tall = pd.merge(invent_tall, herb[[\"state_fip\", \"herb_avg\"]], \n",
    "                       on=[\"state_fip\"], how=\"left\")\n",
    "\n",
    "invent_tall = pd.merge(invent_tall, county_fips[[\"state_fip\", \"EW\"]], \n",
    "                       on=[\"state_fip\"], how=\"left\")\n",
    "invent_tall.head(2)"
   ]
  },
  {
   "cell_type": "code",
   "execution_count": 21,
   "id": "e27bb613",
   "metadata": {},
   "outputs": [
    {
     "data": {
      "text/html": [
       "<div>\n",
       "<style scoped>\n",
       "    .dataframe tbody tr th:only-of-type {\n",
       "        vertical-align: middle;\n",
       "    }\n",
       "\n",
       "    .dataframe tbody tr th {\n",
       "        vertical-align: top;\n",
       "    }\n",
       "\n",
       "    .dataframe thead th {\n",
       "        text-align: right;\n",
       "    }\n",
       "</style>\n",
       "<table border=\"1\" class=\"dataframe\">\n",
       "  <thead>\n",
       "    <tr style=\"text-align: right;\">\n",
       "      <th></th>\n",
       "      <th>state</th>\n",
       "      <th>year</th>\n",
       "      <th>inventory</th>\n",
       "      <th>state_fip</th>\n",
       "      <th>NPP_avg_past_3yrs</th>\n",
       "      <th>rangeland_acre</th>\n",
       "      <th>herb_avg</th>\n",
       "      <th>EW</th>\n",
       "      <th>EW_binary</th>\n",
       "    </tr>\n",
       "  </thead>\n",
       "  <tbody>\n",
       "    <tr>\n",
       "      <th>0</th>\n",
       "      <td>AL</td>\n",
       "      <td>2004</td>\n",
       "      <td>732000.0</td>\n",
       "      <td>01</td>\n",
       "      <td>8.565837e+09</td>\n",
       "      <td>31570.99</td>\n",
       "      <td>21.019864</td>\n",
       "      <td>E</td>\n",
       "      <td>0</td>\n",
       "    </tr>\n",
       "    <tr>\n",
       "      <th>1</th>\n",
       "      <td>AL</td>\n",
       "      <td>2005</td>\n",
       "      <td>724000.0</td>\n",
       "      <td>01</td>\n",
       "      <td>2.636689e+10</td>\n",
       "      <td>31570.99</td>\n",
       "      <td>21.019864</td>\n",
       "      <td>E</td>\n",
       "      <td>0</td>\n",
       "    </tr>\n",
       "  </tbody>\n",
       "</table>\n",
       "</div>"
      ],
      "text/plain": [
       "  state  year inventory state_fip  NPP_avg_past_3yrs  rangeland_acre   \n",
       "0    AL  2004  732000.0        01       8.565837e+09        31570.99  \\\n",
       "1    AL  2005  724000.0        01       2.636689e+10        31570.99   \n",
       "\n",
       "    herb_avg EW  EW_binary  \n",
       "0  21.019864  E          0  \n",
       "1  21.019864  E          0  "
      ]
     },
     "execution_count": 21,
     "metadata": {},
     "output_type": "execute_result"
    }
   ],
   "source": [
    "invent_tall[\"EW_binary\"] = invent_tall[\"EW\"].map({\"E\":0, \"W\" : 1})\n",
    "invent_tall.head(2)"
   ]
  },
  {
   "cell_type": "code",
   "execution_count": 22,
   "id": "992c5b0e",
   "metadata": {},
   "outputs": [
    {
     "data": {
      "text/html": [
       "<div>\n",
       "<style scoped>\n",
       "    .dataframe tbody tr th:only-of-type {\n",
       "        vertical-align: middle;\n",
       "    }\n",
       "\n",
       "    .dataframe tbody tr th {\n",
       "        vertical-align: top;\n",
       "    }\n",
       "\n",
       "    .dataframe thead th {\n",
       "        text-align: right;\n",
       "    }\n",
       "</style>\n",
       "<table border=\"1\" class=\"dataframe\">\n",
       "  <thead>\n",
       "    <tr style=\"text-align: right;\">\n",
       "      <th></th>\n",
       "      <th>state_fip</th>\n",
       "      <th>year</th>\n",
       "      <th>NPP_avg_past_3yrs</th>\n",
       "      <th>rangeland_acre</th>\n",
       "      <th>herb_avg</th>\n",
       "      <th>EW</th>\n",
       "      <th>EW_binary</th>\n",
       "      <th>inventory</th>\n",
       "    </tr>\n",
       "  </thead>\n",
       "  <tbody>\n",
       "    <tr>\n",
       "      <th>0</th>\n",
       "      <td>01</td>\n",
       "      <td>2004</td>\n",
       "      <td>8.565837e+09</td>\n",
       "      <td>31570.99</td>\n",
       "      <td>21.019864</td>\n",
       "      <td>E</td>\n",
       "      <td>0</td>\n",
       "      <td>732000.0</td>\n",
       "    </tr>\n",
       "    <tr>\n",
       "      <th>1</th>\n",
       "      <td>01</td>\n",
       "      <td>2005</td>\n",
       "      <td>2.636689e+10</td>\n",
       "      <td>31570.99</td>\n",
       "      <td>21.019864</td>\n",
       "      <td>E</td>\n",
       "      <td>0</td>\n",
       "      <td>724000.0</td>\n",
       "    </tr>\n",
       "  </tbody>\n",
       "</table>\n",
       "</div>"
      ],
      "text/plain": [
       "  state_fip  year  NPP_avg_past_3yrs  rangeland_acre   herb_avg EW  EW_binary   \n",
       "0        01  2004       8.565837e+09        31570.99  21.019864  E          0  \\\n",
       "1        01  2005       2.636689e+10        31570.99  21.019864  E          0   \n",
       "\n",
       "  inventory  \n",
       "0  732000.0  \n",
       "1  724000.0  "
      ]
     },
     "execution_count": 22,
     "metadata": {},
     "output_type": "execute_result"
    }
   ],
   "source": [
    "# Re-order the columns.\n",
    "new_order = [\"state_fip\", \"year\", \"NPP_avg_past_3yrs\", \n",
    "             \"rangeland_acre\", \"herb_avg\", \"EW\", \"EW_binary\", \"inventory\"]\n",
    "invent_tall = invent_tall[new_order]\n",
    "invent_tall.head(2)"
   ]
  },
  {
   "cell_type": "code",
   "execution_count": 23,
   "id": "976f5698",
   "metadata": {},
   "outputs": [
    {
     "data": {
      "text/html": [
       "<div>\n",
       "<style scoped>\n",
       "    .dataframe tbody tr th:only-of-type {\n",
       "        vertical-align: middle;\n",
       "    }\n",
       "\n",
       "    .dataframe tbody tr th {\n",
       "        vertical-align: top;\n",
       "    }\n",
       "\n",
       "    .dataframe thead th {\n",
       "        text-align: right;\n",
       "    }\n",
       "</style>\n",
       "<table border=\"1\" class=\"dataframe\">\n",
       "  <thead>\n",
       "    <tr style=\"text-align: right;\">\n",
       "      <th></th>\n",
       "      <th>state_fip</th>\n",
       "      <th>year</th>\n",
       "      <th>NPP_avg_past_3yrs</th>\n",
       "      <th>rangeland_acre</th>\n",
       "      <th>herb_avg</th>\n",
       "      <th>EW</th>\n",
       "      <th>EW_binary</th>\n",
       "      <th>inventory</th>\n",
       "    </tr>\n",
       "  </thead>\n",
       "  <tbody>\n",
       "    <tr>\n",
       "      <th>491</th>\n",
       "      <td>56</td>\n",
       "      <td>2019</td>\n",
       "      <td>4.002423e+10</td>\n",
       "      <td>46079514.69</td>\n",
       "      <td>68.307845</td>\n",
       "      <td>W</td>\n",
       "      <td>1</td>\n",
       "      <td>714000.0</td>\n",
       "    </tr>\n",
       "    <tr>\n",
       "      <th>492</th>\n",
       "      <td>56</td>\n",
       "      <td>2020</td>\n",
       "      <td>9.648278e+09</td>\n",
       "      <td>46079514.69</td>\n",
       "      <td>68.307845</td>\n",
       "      <td>W</td>\n",
       "      <td>1</td>\n",
       "      <td>724000.0</td>\n",
       "    </tr>\n",
       "  </tbody>\n",
       "</table>\n",
       "</div>"
      ],
      "text/plain": [
       "    state_fip  year  NPP_avg_past_3yrs  rangeland_acre   herb_avg EW   \n",
       "491        56  2019       4.002423e+10     46079514.69  68.307845  W  \\\n",
       "492        56  2020       9.648278e+09     46079514.69  68.307845  W   \n",
       "\n",
       "     EW_binary inventory  \n",
       "491          1  714000.0  \n",
       "492          1  724000.0  "
      ]
     },
     "execution_count": 23,
     "metadata": {},
     "output_type": "execute_result"
    }
   ],
   "source": [
    "invent_tall.tail(2)"
   ]
  },
  {
   "cell_type": "markdown",
   "id": "10e9573d",
   "metadata": {},
   "source": [
    "## Model inventory vs. 3 yrs Avg. NPP."
   ]
  },
  {
   "cell_type": "code",
   "execution_count": 24,
   "id": "8592dfaa",
   "metadata": {},
   "outputs": [],
   "source": [
    "indp_vars = col_3NPP\n",
    "y_var = \"inventory\""
   ]
  },
  {
   "cell_type": "code",
   "execution_count": 25,
   "id": "97e483a4",
   "metadata": {},
   "outputs": [
    {
     "name": "stdout",
     "output_type": "stream",
     "text": [
      "2004\n",
      "2020\n"
     ]
    }
   ],
   "source": [
    "print(invent_tall.year.unique().min())\n",
    "yr_max = invent_tall.year.unique().max()\n",
    "print(yr_max)"
   ]
  },
  {
   "cell_type": "code",
   "execution_count": 26,
   "id": "07035f18",
   "metadata": {},
   "outputs": [],
   "source": [
    "train_df = invent_tall[invent_tall.year < yr_max].copy()\n",
    "test_df  = invent_tall[invent_tall.year == yr_max].copy()"
   ]
  },
  {
   "cell_type": "code",
   "execution_count": 27,
   "id": "d86b3939",
   "metadata": {},
   "outputs": [
    {
     "name": "stdout",
     "output_type": "stream",
     "text": [
      "(464, 2)\n",
      "NPP_sol = array([4.86074978e-06, 8.91691417e+05])\n",
      "NPP_RSS = array([3.62022807e+14])\n",
      "========================================================================\n",
      "\u001b[1mTest residuals for 3-years-Avg-NPP:\n",
      "\u001b[0;0m\n",
      "    RSS_test = 21808720491453.\n",
      "    MSE_test = 752024844533.\n",
      "    RSE =  867194.\n"
     ]
    }
   ],
   "source": [
    "train_A = train_df[indp_vars].values\n",
    "train_A = np.hstack([train_A, np.ones(len(train_A)).reshape(-1, 1)])\n",
    "print(train_A.shape)\n",
    "train_y = train_df[y_var].values.reshape(-1).astype(\"float\")\n",
    "\n",
    "NPP_sol, NPP_RSS, _, _ = np.linalg.lstsq(train_A, train_y)\n",
    "print (f\"{NPP_sol = }\")\n",
    "print (f\"{NPP_RSS = }\")\n",
    "\n",
    "######\n",
    "######   Test\n",
    "######\n",
    "test_A = test_df[indp_vars].values\n",
    "test_A = np.hstack([test_A, np.ones(len(test_A)).reshape(-1, 1)])\n",
    "y_test = test_df[[y_var]].values.reshape(-1)\n",
    "\n",
    "yhat_test = test_A @ NPP_sol\n",
    "\n",
    "NPP_test_res = y_test - yhat_test\n",
    "NPP_RSS_test = np.dot(NPP_test_res, NPP_test_res)\n",
    "NPP_MSE_test = NPP_RSS_test / len(y_test)\n",
    "NPP_RSE_test = np.sqrt(NPP_MSE_test)\n",
    "print (\"========================================================================\")\n",
    "print (start_b + \"Test residuals for 3-years-Avg-NPP:\\n\" + end_b)\n",
    "print(\"    RSS_test = {0:.0f}.\".format(NPP_RSS_test))\n",
    "print(\"    MSE_test = {0:.0f}.\".format(NPP_MSE_test))\n",
    "print(\"    RSE =  {0:.0f}.\".format(NPP_RSE_test))"
   ]
  },
  {
   "cell_type": "code",
   "execution_count": 28,
   "id": "0b1123a5",
   "metadata": {},
   "outputs": [
    {
     "data": {
      "text/html": [
       "<table class=\"simpletable\">\n",
       "<caption>OLS Regression Results</caption>\n",
       "<tr>\n",
       "  <th>Dep. Variable:</th>        <td>inventory</td>    <th>  R-squared:         </th> <td>   0.005</td> \n",
       "</tr>\n",
       "<tr>\n",
       "  <th>Model:</th>                   <td>OLS</td>       <th>  Adj. R-squared:    </th> <td>   0.003</td> \n",
       "</tr>\n",
       "<tr>\n",
       "  <th>Method:</th>             <td>Least Squares</td>  <th>  F-statistic:       </th> <td>   2.189</td> \n",
       "</tr>\n",
       "<tr>\n",
       "  <th>Date:</th>             <td>Sat, 23 Dec 2023</td> <th>  Prob (F-statistic):</th>  <td> 0.140</td>  \n",
       "</tr>\n",
       "<tr>\n",
       "  <th>Time:</th>                 <td>18:44:58</td>     <th>  Log-Likelihood:    </th> <td> -7011.2</td> \n",
       "</tr>\n",
       "<tr>\n",
       "  <th>No. Observations:</th>      <td>   464</td>      <th>  AIC:               </th> <td>1.403e+04</td>\n",
       "</tr>\n",
       "<tr>\n",
       "  <th>Df Residuals:</th>          <td>   462</td>      <th>  BIC:               </th> <td>1.403e+04</td>\n",
       "</tr>\n",
       "<tr>\n",
       "  <th>Df Model:</th>              <td>     1</td>      <th>                     </th>     <td> </td>    \n",
       "</tr>\n",
       "<tr>\n",
       "  <th>Covariance Type:</th>      <td>nonrobust</td>    <th>                     </th>     <td> </td>    \n",
       "</tr>\n",
       "</table>\n",
       "<table class=\"simpletable\">\n",
       "<tr>\n",
       "          <td></td>             <th>coef</th>     <th>std err</th>      <th>t</th>      <th>P>|t|</th>  <th>[0.025</th>    <th>0.975]</th>  \n",
       "</tr>\n",
       "<tr>\n",
       "  <th>const</th>             <td> 8.917e+05</td> <td> 7.97e+04</td> <td>   11.186</td> <td> 0.000</td> <td> 7.35e+05</td> <td> 1.05e+06</td>\n",
       "</tr>\n",
       "<tr>\n",
       "  <th>NPP_avg_past_3yrs</th> <td> 4.861e-06</td> <td> 3.28e-06</td> <td>    1.480</td> <td> 0.140</td> <td>-1.59e-06</td> <td> 1.13e-05</td>\n",
       "</tr>\n",
       "</table>\n",
       "<table class=\"simpletable\">\n",
       "<tr>\n",
       "  <th>Omnibus:</th>       <td>293.935</td> <th>  Durbin-Watson:     </th> <td>   0.146</td>\n",
       "</tr>\n",
       "<tr>\n",
       "  <th>Prob(Omnibus):</th> <td> 0.000</td>  <th>  Jarque-Bera (JB):  </th> <td>2307.919</td>\n",
       "</tr>\n",
       "<tr>\n",
       "  <th>Skew:</th>          <td> 2.766</td>  <th>  Prob(JB):          </th> <td>    0.00</td>\n",
       "</tr>\n",
       "<tr>\n",
       "  <th>Kurtosis:</th>      <td>12.422</td>  <th>  Cond. No.          </th> <td>4.71e+10</td>\n",
       "</tr>\n",
       "</table><br/><br/>Notes:<br/>[1] Standard Errors assume that the covariance matrix of the errors is correctly specified.<br/>[2] The condition number is large, 4.71e+10. This might indicate that there are<br/>strong multicollinearity or other numerical problems."
      ],
      "text/plain": [
       "<class 'statsmodels.iolib.summary.Summary'>\n",
       "\"\"\"\n",
       "                            OLS Regression Results                            \n",
       "==============================================================================\n",
       "Dep. Variable:              inventory   R-squared:                       0.005\n",
       "Model:                            OLS   Adj. R-squared:                  0.003\n",
       "Method:                 Least Squares   F-statistic:                     2.189\n",
       "Date:                Sat, 23 Dec 2023   Prob (F-statistic):              0.140\n",
       "Time:                        18:44:58   Log-Likelihood:                -7011.2\n",
       "No. Observations:                 464   AIC:                         1.403e+04\n",
       "Df Residuals:                     462   BIC:                         1.403e+04\n",
       "Df Model:                           1                                         \n",
       "Covariance Type:            nonrobust                                         \n",
       "=====================================================================================\n",
       "                        coef    std err          t      P>|t|      [0.025      0.975]\n",
       "-------------------------------------------------------------------------------------\n",
       "const              8.917e+05   7.97e+04     11.186      0.000    7.35e+05    1.05e+06\n",
       "NPP_avg_past_3yrs  4.861e-06   3.28e-06      1.480      0.140   -1.59e-06    1.13e-05\n",
       "==============================================================================\n",
       "Omnibus:                      293.935   Durbin-Watson:                   0.146\n",
       "Prob(Omnibus):                  0.000   Jarque-Bera (JB):             2307.919\n",
       "Skew:                           2.766   Prob(JB):                         0.00\n",
       "Kurtosis:                      12.422   Cond. No.                     4.71e+10\n",
       "==============================================================================\n",
       "\n",
       "Notes:\n",
       "[1] Standard Errors assume that the covariance matrix of the errors is correctly specified.\n",
       "[2] The condition number is large, 4.71e+10. This might indicate that there are\n",
       "strong multicollinearity or other numerical problems.\n",
       "\"\"\""
      ]
     },
     "execution_count": 28,
     "metadata": {},
     "output_type": "execute_result"
    }
   ],
   "source": [
    "X = train_df[indp_vars]\n",
    "X = sm.add_constant(X)\n",
    "Y = train_df[y_var].astype(float)\n",
    "ks = sm.OLS(Y, X)\n",
    "ks_result =ks.fit()\n",
    "ks_result.summary()"
   ]
  },
  {
   "cell_type": "code",
   "execution_count": 29,
   "id": "3fb3fd7d",
   "metadata": {},
   "outputs": [
    {
     "name": "stdout",
     "output_type": "stream",
     "text": [
      "\u001b[1mtrain residuals for 3-years-Avg-NPP:\n",
      "\u001b[0;0m\n",
      "    RSS_train = 362022807012055.\n",
      "    MSE_train = 780221566836.\n",
      "    RSE =  883302.\n"
     ]
    }
   ],
   "source": [
    "yhat_train = X @ ks_result.params\n",
    "NPP_train_res = train_df[y_var] - yhat_train\n",
    "NPP_RSS_train = np.dot(NPP_train_res, NPP_train_res)\n",
    "NPP_MSE_train = NPP_RSS_train / len(train_df[y_var])\n",
    "NPP_RSE_train = np.sqrt(NPP_MSE_train)\n",
    "\n",
    "print (start_b + \"train residuals for 3-years-Avg-NPP:\\n\" + end_b)\n",
    "print(\"    RSS_train = {0:.0f}.\".format(NPP_RSS_train))\n",
    "print(\"    MSE_train = {0:.0f}.\".format(NPP_MSE_train))\n",
    "print(\"    RSE =  {0:.0f}.\".format(NPP_RSE_train))"
   ]
  },
  {
   "cell_type": "code",
   "execution_count": 30,
   "id": "48bb6aa9",
   "metadata": {},
   "outputs": [
    {
     "name": "stdout",
     "output_type": "stream",
     "text": [
      "\u001b[1mTest residuals for 3-years-Avg-NPP:\n",
      "\u001b[0;0m\n",
      "    RSS_test = 21808720491453.\n",
      "    MSE_test = 752024844533.\n",
      "    RSE =  867194.\n"
     ]
    }
   ],
   "source": [
    "test_A = test_df[indp_vars]\n",
    "test_A = sm.add_constant(test_A)\n",
    "y_test = test_df[y_var].astype(float)\n",
    "\n",
    "yhat_test = test_A @ ks_result.params\n",
    "\n",
    "NPP_test_res = y_test - yhat_test\n",
    "NPP_RSS_test = np.dot(NPP_test_res, NPP_test_res)\n",
    "NPP_MSE_test = NPP_RSS_test / len(y_test)\n",
    "NPP_RSE_test = np.sqrt(NPP_MSE_test)\n",
    "\n",
    "print (start_b + \"Test residuals for 3-years-Avg-NPP:\\n\" + end_b)\n",
    "print(\"    RSS_test = {0:.0f}.\".format(NPP_RSS_test))\n",
    "print(\"    MSE_test = {0:.0f}.\".format(NPP_MSE_test))\n",
    "print(\"    RSE =  {0:.0f}.\".format(NPP_RSE_test))"
   ]
  },
  {
   "cell_type": "markdown",
   "id": "53f4c683",
   "metadata": {},
   "source": [
    "## Model inventory vs. 3 yrs Avg. NPP, RA, HerbRatio."
   ]
  },
  {
   "cell_type": "code",
   "execution_count": 31,
   "id": "5915f2d4",
   "metadata": {},
   "outputs": [],
   "source": [
    "indp_vars = col_3NPP + [\"rangeland_acre\", \"herb_avg\"]\n",
    "y_var = \"inventory\""
   ]
  },
  {
   "cell_type": "code",
   "execution_count": 32,
   "id": "ca35a82d",
   "metadata": {},
   "outputs": [
    {
     "data": {
      "text/plain": [
       "['NPP_avg_past_3yrs', 'rangeland_acre', 'herb_avg']"
      ]
     },
     "execution_count": 32,
     "metadata": {},
     "output_type": "execute_result"
    }
   ],
   "source": [
    "indp_vars"
   ]
  },
  {
   "cell_type": "code",
   "execution_count": 33,
   "id": "1a962565",
   "metadata": {},
   "outputs": [
    {
     "data": {
      "text/html": [
       "<div>\n",
       "<style scoped>\n",
       "    .dataframe tbody tr th:only-of-type {\n",
       "        vertical-align: middle;\n",
       "    }\n",
       "\n",
       "    .dataframe tbody tr th {\n",
       "        vertical-align: top;\n",
       "    }\n",
       "\n",
       "    .dataframe thead th {\n",
       "        text-align: right;\n",
       "    }\n",
       "</style>\n",
       "<table border=\"1\" class=\"dataframe\">\n",
       "  <thead>\n",
       "    <tr style=\"text-align: right;\">\n",
       "      <th></th>\n",
       "      <th>state_fip</th>\n",
       "      <th>year</th>\n",
       "      <th>NPP_avg_past_3yrs</th>\n",
       "      <th>rangeland_acre</th>\n",
       "      <th>herb_avg</th>\n",
       "      <th>EW</th>\n",
       "      <th>EW_binary</th>\n",
       "      <th>inventory</th>\n",
       "    </tr>\n",
       "  </thead>\n",
       "  <tbody>\n",
       "    <tr>\n",
       "      <th>0</th>\n",
       "      <td>01</td>\n",
       "      <td>2004</td>\n",
       "      <td>8.565837e+09</td>\n",
       "      <td>31570.99</td>\n",
       "      <td>21.019864</td>\n",
       "      <td>E</td>\n",
       "      <td>0</td>\n",
       "      <td>732000.0</td>\n",
       "    </tr>\n",
       "    <tr>\n",
       "      <th>1</th>\n",
       "      <td>01</td>\n",
       "      <td>2005</td>\n",
       "      <td>2.636689e+10</td>\n",
       "      <td>31570.99</td>\n",
       "      <td>21.019864</td>\n",
       "      <td>E</td>\n",
       "      <td>0</td>\n",
       "      <td>724000.0</td>\n",
       "    </tr>\n",
       "  </tbody>\n",
       "</table>\n",
       "</div>"
      ],
      "text/plain": [
       "  state_fip  year  NPP_avg_past_3yrs  rangeland_acre   herb_avg EW  EW_binary   \n",
       "0        01  2004       8.565837e+09        31570.99  21.019864  E          0  \\\n",
       "1        01  2005       2.636689e+10        31570.99  21.019864  E          0   \n",
       "\n",
       "  inventory  \n",
       "0  732000.0  \n",
       "1  724000.0  "
      ]
     },
     "execution_count": 33,
     "metadata": {},
     "output_type": "execute_result"
    }
   ],
   "source": [
    "train_df.head(2)"
   ]
  },
  {
   "cell_type": "code",
   "execution_count": 34,
   "id": "131e4eb1",
   "metadata": {},
   "outputs": [
    {
     "data": {
      "text/html": [
       "<table class=\"simpletable\">\n",
       "<caption>OLS Regression Results</caption>\n",
       "<tr>\n",
       "  <th>Dep. Variable:</th>        <td>inventory</td>    <th>  R-squared:         </th> <td>   0.157</td> \n",
       "</tr>\n",
       "<tr>\n",
       "  <th>Model:</th>                   <td>OLS</td>       <th>  Adj. R-squared:    </th> <td>   0.152</td> \n",
       "</tr>\n",
       "<tr>\n",
       "  <th>Method:</th>             <td>Least Squares</td>  <th>  F-statistic:       </th> <td>   28.60</td> \n",
       "</tr>\n",
       "<tr>\n",
       "  <th>Date:</th>             <td>Sat, 23 Dec 2023</td> <th>  Prob (F-statistic):</th> <td>5.65e-17</td> \n",
       "</tr>\n",
       "<tr>\n",
       "  <th>Time:</th>                 <td>18:45:01</td>     <th>  Log-Likelihood:    </th> <td> -6972.6</td> \n",
       "</tr>\n",
       "<tr>\n",
       "  <th>No. Observations:</th>      <td>   464</td>      <th>  AIC:               </th> <td>1.395e+04</td>\n",
       "</tr>\n",
       "<tr>\n",
       "  <th>Df Residuals:</th>          <td>   460</td>      <th>  BIC:               </th> <td>1.397e+04</td>\n",
       "</tr>\n",
       "<tr>\n",
       "  <th>Df Model:</th>              <td>     3</td>      <th>                     </th>     <td> </td>    \n",
       "</tr>\n",
       "<tr>\n",
       "  <th>Covariance Type:</th>      <td>nonrobust</td>    <th>                     </th>     <td> </td>    \n",
       "</tr>\n",
       "</table>\n",
       "<table class=\"simpletable\">\n",
       "<tr>\n",
       "          <td></td>             <th>coef</th>     <th>std err</th>      <th>t</th>      <th>P>|t|</th>  <th>[0.025</th>    <th>0.975]</th>  \n",
       "</tr>\n",
       "<tr>\n",
       "  <th>const</th>             <td> 3.664e+05</td> <td> 1.15e+05</td> <td>    3.182</td> <td> 0.002</td> <td>  1.4e+05</td> <td> 5.93e+05</td>\n",
       "</tr>\n",
       "<tr>\n",
       "  <th>NPP_avg_past_3yrs</th> <td>  3.14e-06</td> <td> 3.04e-06</td> <td>    1.033</td> <td> 0.302</td> <td>-2.83e-06</td> <td> 9.11e-06</td>\n",
       "</tr>\n",
       "<tr>\n",
       "  <th>rangeland_acre</th>    <td>    0.0121</td> <td>    0.002</td> <td>    6.844</td> <td> 0.000</td> <td>    0.009</td> <td>    0.016</td>\n",
       "</tr>\n",
       "<tr>\n",
       "  <th>herb_avg</th>          <td> 5651.7715</td> <td> 1751.425</td> <td>    3.227</td> <td> 0.001</td> <td> 2209.986</td> <td> 9093.557</td>\n",
       "</tr>\n",
       "</table>\n",
       "<table class=\"simpletable\">\n",
       "<tr>\n",
       "  <th>Omnibus:</th>       <td>165.882</td> <th>  Durbin-Watson:     </th> <td>   0.144</td> \n",
       "</tr>\n",
       "<tr>\n",
       "  <th>Prob(Omnibus):</th> <td> 0.000</td>  <th>  Jarque-Bera (JB):  </th> <td> 595.345</td> \n",
       "</tr>\n",
       "<tr>\n",
       "  <th>Skew:</th>          <td> 1.621</td>  <th>  Prob(JB):          </th> <td>5.28e-130</td>\n",
       "</tr>\n",
       "<tr>\n",
       "  <th>Kurtosis:</th>      <td> 7.504</td>  <th>  Cond. No.          </th> <td>7.37e+10</td> \n",
       "</tr>\n",
       "</table><br/><br/>Notes:<br/>[1] Standard Errors assume that the covariance matrix of the errors is correctly specified.<br/>[2] The condition number is large, 7.37e+10. This might indicate that there are<br/>strong multicollinearity or other numerical problems."
      ],
      "text/plain": [
       "<class 'statsmodels.iolib.summary.Summary'>\n",
       "\"\"\"\n",
       "                            OLS Regression Results                            \n",
       "==============================================================================\n",
       "Dep. Variable:              inventory   R-squared:                       0.157\n",
       "Model:                            OLS   Adj. R-squared:                  0.152\n",
       "Method:                 Least Squares   F-statistic:                     28.60\n",
       "Date:                Sat, 23 Dec 2023   Prob (F-statistic):           5.65e-17\n",
       "Time:                        18:45:01   Log-Likelihood:                -6972.6\n",
       "No. Observations:                 464   AIC:                         1.395e+04\n",
       "Df Residuals:                     460   BIC:                         1.397e+04\n",
       "Df Model:                           3                                         \n",
       "Covariance Type:            nonrobust                                         \n",
       "=====================================================================================\n",
       "                        coef    std err          t      P>|t|      [0.025      0.975]\n",
       "-------------------------------------------------------------------------------------\n",
       "const              3.664e+05   1.15e+05      3.182      0.002     1.4e+05    5.93e+05\n",
       "NPP_avg_past_3yrs   3.14e-06   3.04e-06      1.033      0.302   -2.83e-06    9.11e-06\n",
       "rangeland_acre        0.0121      0.002      6.844      0.000       0.009       0.016\n",
       "herb_avg           5651.7715   1751.425      3.227      0.001    2209.986    9093.557\n",
       "==============================================================================\n",
       "Omnibus:                      165.882   Durbin-Watson:                   0.144\n",
       "Prob(Omnibus):                  0.000   Jarque-Bera (JB):              595.345\n",
       "Skew:                           1.621   Prob(JB):                    5.28e-130\n",
       "Kurtosis:                       7.504   Cond. No.                     7.37e+10\n",
       "==============================================================================\n",
       "\n",
       "Notes:\n",
       "[1] Standard Errors assume that the covariance matrix of the errors is correctly specified.\n",
       "[2] The condition number is large, 7.37e+10. This might indicate that there are\n",
       "strong multicollinearity or other numerical problems.\n",
       "\"\"\""
      ]
     },
     "execution_count": 34,
     "metadata": {},
     "output_type": "execute_result"
    }
   ],
   "source": [
    "X = train_df[indp_vars]\n",
    "X = sm.add_constant(X)\n",
    "Y = train_df[y_var].astype(float)\n",
    "ks = sm.OLS(Y, X)\n",
    "ks_result =ks.fit()\n",
    "ks_result.summary()"
   ]
  },
  {
   "cell_type": "code",
   "execution_count": 35,
   "id": "e1b95f67",
   "metadata": {},
   "outputs": [
    {
     "name": "stdout",
     "output_type": "stream",
     "text": [
      "\u001b[1mTest residuals for 3-years-Avg-NPP, RA, and herb:\n",
      "\u001b[0;0m\n",
      "    RSS_test = 18121712555594.\n",
      "    MSE_test = 624886639848.\n",
      "    RSE =  790498.\n"
     ]
    }
   ],
   "source": [
    "test_A = test_df[indp_vars]\n",
    "test_A = sm.add_constant(test_A)\n",
    "y_test = test_df[y_var].astype(float)\n",
    "\n",
    "yhat_test = test_A @ ks_result.params\n",
    "\n",
    "NPP_test_res = y_test - yhat_test\n",
    "NPP_RSS_test = np.dot(NPP_test_res, NPP_test_res)\n",
    "NPP_MSE_test = NPP_RSS_test / len(y_test)\n",
    "NPP_RSE_test = np.sqrt(NPP_MSE_test)\n",
    "\n",
    "print (start_b + \"Test residuals for 3-years-Avg-NPP, RA, and herb:\\n\" + end_b)\n",
    "print(\"    RSS_test = {0:.0f}.\".format(NPP_RSS_test))\n",
    "print(\"    MSE_test = {0:.0f}.\".format(NPP_MSE_test))\n",
    "print(\"    RSE =  {0:.0f}.\".format(NPP_RSE_test))"
   ]
  },
  {
   "cell_type": "markdown",
   "id": "a4e71901",
   "metadata": {},
   "source": [
    "# Standardize so scales are the same."
   ]
  },
  {
   "cell_type": "code",
   "execution_count": 36,
   "id": "20e0c60c",
   "metadata": {},
   "outputs": [
    {
     "name": "stdout",
     "output_type": "stream",
     "text": [
      "indp_vars = ['NPP_avg_past_3yrs', 'rangeland_acre', 'herb_avg']\n",
      "\n"
     ]
    },
    {
     "data": {
      "text/html": [
       "<div>\n",
       "<style scoped>\n",
       "    .dataframe tbody tr th:only-of-type {\n",
       "        vertical-align: middle;\n",
       "    }\n",
       "\n",
       "    .dataframe tbody tr th {\n",
       "        vertical-align: top;\n",
       "    }\n",
       "\n",
       "    .dataframe thead th {\n",
       "        text-align: right;\n",
       "    }\n",
       "</style>\n",
       "<table border=\"1\" class=\"dataframe\">\n",
       "  <thead>\n",
       "    <tr style=\"text-align: right;\">\n",
       "      <th></th>\n",
       "      <th>state_fip</th>\n",
       "      <th>year</th>\n",
       "      <th>NPP_avg_past_3yrs</th>\n",
       "      <th>rangeland_acre</th>\n",
       "      <th>herb_avg</th>\n",
       "      <th>EW</th>\n",
       "      <th>EW_binary</th>\n",
       "      <th>inventory</th>\n",
       "    </tr>\n",
       "  </thead>\n",
       "  <tbody>\n",
       "    <tr>\n",
       "      <th>0</th>\n",
       "      <td>01</td>\n",
       "      <td>2004</td>\n",
       "      <td>8.565837e+09</td>\n",
       "      <td>31570.99</td>\n",
       "      <td>21.019864</td>\n",
       "      <td>E</td>\n",
       "      <td>0</td>\n",
       "      <td>732000.0</td>\n",
       "    </tr>\n",
       "    <tr>\n",
       "      <th>1</th>\n",
       "      <td>01</td>\n",
       "      <td>2005</td>\n",
       "      <td>2.636689e+10</td>\n",
       "      <td>31570.99</td>\n",
       "      <td>21.019864</td>\n",
       "      <td>E</td>\n",
       "      <td>0</td>\n",
       "      <td>724000.0</td>\n",
       "    </tr>\n",
       "  </tbody>\n",
       "</table>\n",
       "</div>"
      ],
      "text/plain": [
       "  state_fip  year  NPP_avg_past_3yrs  rangeland_acre   herb_avg EW  EW_binary   \n",
       "0        01  2004       8.565837e+09        31570.99  21.019864  E          0  \\\n",
       "1        01  2005       2.636689e+10        31570.99  21.019864  E          0   \n",
       "\n",
       "  inventory  \n",
       "0  732000.0  \n",
       "1  724000.0  "
      ]
     },
     "execution_count": 36,
     "metadata": {},
     "output_type": "execute_result"
    }
   ],
   "source": [
    "print (f\"{indp_vars = }\")\n",
    "print ()\n",
    "train_df.head(2)"
   ]
  },
  {
   "cell_type": "code",
   "execution_count": 37,
   "id": "fe191bef",
   "metadata": {},
   "outputs": [],
   "source": [
    "standard_indp = preprocessing.scale(train_df[indp_vars])"
   ]
  },
  {
   "cell_type": "code",
   "execution_count": 38,
   "id": "f09f6462",
   "metadata": {},
   "outputs": [
    {
     "data": {
      "text/plain": [
       "['NPP_avg_past_3yrs_standardized',\n",
       " 'rangeland_acre_standardized',\n",
       " 'herb_avg_standardized']"
      ]
     },
     "execution_count": 38,
     "metadata": {},
     "output_type": "execute_result"
    }
   ],
   "source": [
    "std_cols = [i + j for i, j in zip(indp_vars, [\"_standardized\"] * len(indp_vars))]\n",
    "std_cols"
   ]
  },
  {
   "cell_type": "code",
   "execution_count": 39,
   "id": "1a7cd6e5",
   "metadata": {},
   "outputs": [
    {
     "data": {
      "text/html": [
       "<div>\n",
       "<style scoped>\n",
       "    .dataframe tbody tr th:only-of-type {\n",
       "        vertical-align: middle;\n",
       "    }\n",
       "\n",
       "    .dataframe tbody tr th {\n",
       "        vertical-align: top;\n",
       "    }\n",
       "\n",
       "    .dataframe thead th {\n",
       "        text-align: right;\n",
       "    }\n",
       "</style>\n",
       "<table border=\"1\" class=\"dataframe\">\n",
       "  <thead>\n",
       "    <tr style=\"text-align: right;\">\n",
       "      <th></th>\n",
       "      <th>state_fip</th>\n",
       "      <th>year</th>\n",
       "      <th>NPP_avg_past_3yrs</th>\n",
       "      <th>rangeland_acre</th>\n",
       "      <th>herb_avg</th>\n",
       "      <th>EW</th>\n",
       "      <th>EW_binary</th>\n",
       "      <th>inventory</th>\n",
       "      <th>NPP_avg_past_3yrs_standardized</th>\n",
       "      <th>rangeland_acre_standardized</th>\n",
       "      <th>herb_avg_standardized</th>\n",
       "    </tr>\n",
       "  </thead>\n",
       "  <tbody>\n",
       "    <tr>\n",
       "      <th>0</th>\n",
       "      <td>01</td>\n",
       "      <td>2004</td>\n",
       "      <td>8.565837e+09</td>\n",
       "      <td>31570.99</td>\n",
       "      <td>21.019864</td>\n",
       "      <td>E</td>\n",
       "      <td>0</td>\n",
       "      <td>732000.0</td>\n",
       "      <td>-0.977327</td>\n",
       "      <td>-0.91161</td>\n",
       "      <td>-1.441531</td>\n",
       "    </tr>\n",
       "    <tr>\n",
       "      <th>1</th>\n",
       "      <td>01</td>\n",
       "      <td>2005</td>\n",
       "      <td>2.636689e+10</td>\n",
       "      <td>31570.99</td>\n",
       "      <td>21.019864</td>\n",
       "      <td>E</td>\n",
       "      <td>0</td>\n",
       "      <td>724000.0</td>\n",
       "      <td>0.445633</td>\n",
       "      <td>-0.91161</td>\n",
       "      <td>-1.441531</td>\n",
       "    </tr>\n",
       "  </tbody>\n",
       "</table>\n",
       "</div>"
      ],
      "text/plain": [
       "  state_fip  year  NPP_avg_past_3yrs  rangeland_acre   herb_avg EW  EW_binary   \n",
       "0        01  2004       8.565837e+09        31570.99  21.019864  E          0  \\\n",
       "1        01  2005       2.636689e+10        31570.99  21.019864  E          0   \n",
       "\n",
       "  inventory  NPP_avg_past_3yrs_standardized  rangeland_acre_standardized   \n",
       "0  732000.0                       -0.977327                     -0.91161  \\\n",
       "1  724000.0                        0.445633                     -0.91161   \n",
       "\n",
       "   herb_avg_standardized  \n",
       "0              -1.441531  \n",
       "1              -1.441531  "
      ]
     },
     "execution_count": 39,
     "metadata": {},
     "output_type": "execute_result"
    }
   ],
   "source": [
    "train_df[std_cols] = standard_indp\n",
    "train_df.head(2)"
   ]
  },
  {
   "cell_type": "code",
   "execution_count": 40,
   "id": "c87ce880",
   "metadata": {},
   "outputs": [
    {
     "data": {
      "text/html": [
       "<table class=\"simpletable\">\n",
       "<caption>OLS Regression Results</caption>\n",
       "<tr>\n",
       "  <th>Dep. Variable:</th>        <td>inventory</td>    <th>  R-squared:         </th> <td>   0.157</td> \n",
       "</tr>\n",
       "<tr>\n",
       "  <th>Model:</th>                   <td>OLS</td>       <th>  Adj. R-squared:    </th> <td>   0.152</td> \n",
       "</tr>\n",
       "<tr>\n",
       "  <th>Method:</th>             <td>Least Squares</td>  <th>  F-statistic:       </th> <td>   28.60</td> \n",
       "</tr>\n",
       "<tr>\n",
       "  <th>Date:</th>             <td>Sat, 23 Dec 2023</td> <th>  Prob (F-statistic):</th> <td>5.65e-17</td> \n",
       "</tr>\n",
       "<tr>\n",
       "  <th>Time:</th>                 <td>18:45:06</td>     <th>  Log-Likelihood:    </th> <td> -6972.6</td> \n",
       "</tr>\n",
       "<tr>\n",
       "  <th>No. Observations:</th>      <td>   464</td>      <th>  AIC:               </th> <td>1.395e+04</td>\n",
       "</tr>\n",
       "<tr>\n",
       "  <th>Df Residuals:</th>          <td>   460</td>      <th>  BIC:               </th> <td>1.397e+04</td>\n",
       "</tr>\n",
       "<tr>\n",
       "  <th>Df Model:</th>              <td>     3</td>      <th>                     </th>     <td> </td>    \n",
       "</tr>\n",
       "<tr>\n",
       "  <th>Covariance Type:</th>      <td>nonrobust</td>    <th>                     </th>     <td> </td>    \n",
       "</tr>\n",
       "</table>\n",
       "<table class=\"simpletable\">\n",
       "<tr>\n",
       "                 <td></td>                   <th>coef</th>     <th>std err</th>      <th>t</th>      <th>P>|t|</th>  <th>[0.025</th>    <th>0.975]</th>  \n",
       "</tr>\n",
       "<tr>\n",
       "  <th>const</th>                          <td> 9.928e+05</td> <td> 3.79e+04</td> <td>   26.196</td> <td> 0.000</td> <td> 9.18e+05</td> <td> 1.07e+06</td>\n",
       "</tr>\n",
       "<tr>\n",
       "  <th>NPP_avg_past_3yrs_standardized</th> <td> 3.928e+04</td> <td>  3.8e+04</td> <td>    1.033</td> <td> 0.302</td> <td>-3.54e+04</td> <td> 1.14e+05</td>\n",
       "</tr>\n",
       "<tr>\n",
       "  <th>rangeland_acre_standardized</th>    <td>  2.78e+05</td> <td> 4.06e+04</td> <td>    6.844</td> <td> 0.000</td> <td> 1.98e+05</td> <td> 3.58e+05</td>\n",
       "</tr>\n",
       "<tr>\n",
       "  <th>herb_avg_standardized</th>          <td> 1.307e+05</td> <td> 4.05e+04</td> <td>    3.227</td> <td> 0.001</td> <td> 5.11e+04</td> <td>  2.1e+05</td>\n",
       "</tr>\n",
       "</table>\n",
       "<table class=\"simpletable\">\n",
       "<tr>\n",
       "  <th>Omnibus:</th>       <td>165.882</td> <th>  Durbin-Watson:     </th> <td>   0.144</td> \n",
       "</tr>\n",
       "<tr>\n",
       "  <th>Prob(Omnibus):</th> <td> 0.000</td>  <th>  Jarque-Bera (JB):  </th> <td> 595.345</td> \n",
       "</tr>\n",
       "<tr>\n",
       "  <th>Skew:</th>          <td> 1.621</td>  <th>  Prob(JB):          </th> <td>5.28e-130</td>\n",
       "</tr>\n",
       "<tr>\n",
       "  <th>Kurtosis:</th>      <td> 7.504</td>  <th>  Cond. No.          </th> <td>    1.46</td> \n",
       "</tr>\n",
       "</table><br/><br/>Notes:<br/>[1] Standard Errors assume that the covariance matrix of the errors is correctly specified."
      ],
      "text/plain": [
       "<class 'statsmodels.iolib.summary.Summary'>\n",
       "\"\"\"\n",
       "                            OLS Regression Results                            \n",
       "==============================================================================\n",
       "Dep. Variable:              inventory   R-squared:                       0.157\n",
       "Model:                            OLS   Adj. R-squared:                  0.152\n",
       "Method:                 Least Squares   F-statistic:                     28.60\n",
       "Date:                Sat, 23 Dec 2023   Prob (F-statistic):           5.65e-17\n",
       "Time:                        18:45:06   Log-Likelihood:                -6972.6\n",
       "No. Observations:                 464   AIC:                         1.395e+04\n",
       "Df Residuals:                     460   BIC:                         1.397e+04\n",
       "Df Model:                           3                                         \n",
       "Covariance Type:            nonrobust                                         \n",
       "==================================================================================================\n",
       "                                     coef    std err          t      P>|t|      [0.025      0.975]\n",
       "--------------------------------------------------------------------------------------------------\n",
       "const                           9.928e+05   3.79e+04     26.196      0.000    9.18e+05    1.07e+06\n",
       "NPP_avg_past_3yrs_standardized  3.928e+04    3.8e+04      1.033      0.302   -3.54e+04    1.14e+05\n",
       "rangeland_acre_standardized      2.78e+05   4.06e+04      6.844      0.000    1.98e+05    3.58e+05\n",
       "herb_avg_standardized           1.307e+05   4.05e+04      3.227      0.001    5.11e+04     2.1e+05\n",
       "==============================================================================\n",
       "Omnibus:                      165.882   Durbin-Watson:                   0.144\n",
       "Prob(Omnibus):                  0.000   Jarque-Bera (JB):              595.345\n",
       "Skew:                           1.621   Prob(JB):                    5.28e-130\n",
       "Kurtosis:                       7.504   Cond. No.                         1.46\n",
       "==============================================================================\n",
       "\n",
       "Notes:\n",
       "[1] Standard Errors assume that the covariance matrix of the errors is correctly specified.\n",
       "\"\"\""
      ]
     },
     "execution_count": 40,
     "metadata": {},
     "output_type": "execute_result"
    }
   ],
   "source": [
    "X = train_df[std_cols]\n",
    "X = sm.add_constant(X)\n",
    "Y = train_df[y_var].astype(float)\n",
    "ks = sm.OLS(Y, X)\n",
    "ks_result =ks.fit()\n",
    "ks_result.summary()"
   ]
  },
  {
   "cell_type": "code",
   "execution_count": 41,
   "id": "55d8a099",
   "metadata": {},
   "outputs": [
    {
     "name": "stdout",
     "output_type": "stream",
     "text": [
      "\u001b[1mStandardized: train residuals for 3-years-Avg-NPP, RA, herb:\n",
      "\u001b[0;0m\n",
      "    RSS_train = 306554165822011.\n",
      "    MSE_train = 660677081513.\n",
      "    RSE =  812820.\n"
     ]
    }
   ],
   "source": [
    "yhat_train = X @ ks_result.params\n",
    "NPP_train_res = train_df[y_var] - yhat_train\n",
    "NPP_RSS_train = np.dot(NPP_train_res, NPP_train_res)\n",
    "NPP_MSE_train = NPP_RSS_train / len(train_df[y_var])\n",
    "NPP_RSE_train = np.sqrt(NPP_MSE_train)\n",
    "\n",
    "print (start_b + \"Standardized: train residuals for 3-years-Avg-NPP, RA, herb:\\n\" + end_b)\n",
    "print(\"    RSS_train = {0:.0f}.\".format(NPP_RSS_train))\n",
    "print(\"    MSE_train = {0:.0f}.\".format(NPP_MSE_train))\n",
    "print(\"    RSE =  {0:.0f}.\".format(NPP_RSE_train))"
   ]
  },
  {
   "cell_type": "markdown",
   "id": "f5b073b7",
   "metadata": {},
   "source": [
    "# Standardize y and see what happens:"
   ]
  },
  {
   "cell_type": "code",
   "execution_count": 42,
   "id": "68567502",
   "metadata": {},
   "outputs": [
    {
     "name": "stdout",
     "output_type": "stream",
     "text": [
      "[ 5.48994055e-12 -1.14147227e-01]\n",
      "[461.81143684]\n",
      "==============================================\n",
      "\u001b[1mstandardized X and Y: train residuals for 3-years-Avg-NPP, RA, Herb, and dummy east-west:\n",
      "\u001b[0;0m\n",
      "    RSS_test = 362022807012054.\n",
      "    MSE_test = 780221566836.\n",
      "    RSE =  883302.\n"
     ]
    }
   ],
   "source": [
    "train_y_std = preprocessing.scale(train_y)\n",
    "NPP_sol, NPP_RSS, _, _ = np.linalg.lstsq(train_A, train_y_std)\n",
    "print (NPP_sol)\n",
    "print (NPP_RSS)\n",
    "print (\"==============================================\")\n",
    "\n",
    "yhat_train_std = train_A @ NPP_sol\n",
    "\n",
    "# kind of un-standardize\n",
    "yhat_train = (yhat_train_std * np.std(train_y)) + train_y.mean()\n",
    "\n",
    "\n",
    "NPP_train_res = train_y - yhat_train\n",
    "NPP_RSS_train = np.dot(NPP_train_res, NPP_train_res)\n",
    "NPP_MSE_train = NPP_RSS_train / len(train_y)\n",
    "NPP_RSE_train = np.sqrt(NPP_MSE_train)\n",
    "\n",
    "print (start_b + \"standardized X and Y: train residuals for 3-years-Avg-NPP, RA, Herb, and dummy east-west:\\n\" + \\\n",
    "       end_b)\n",
    "print(\"    RSS_test = {0:.0f}.\".format(NPP_RSS_train))\n",
    "print(\"    MSE_test = {0:.0f}.\".format(NPP_MSE_train))\n",
    "print(\"    RSE =  {0:.0f}.\".format(NPP_RSE_train))"
   ]
  },
  {
   "cell_type": "markdown",
   "id": "52193ca5",
   "metadata": {},
   "source": [
    "# Standard deviation\n",
    "\n",
    "pandas std(.) and statistics.stdev() both produce the same results using ```N-1``` in denominator while np.std() and preprocessing.scale() use ```N``` in denominator."
   ]
  },
  {
   "cell_type": "code",
   "execution_count": 43,
   "id": "ce30983f",
   "metadata": {},
   "outputs": [
    {
     "name": "stdout",
     "output_type": "stream",
     "text": [
      "v.std()                          = 12523375579.398447\n",
      "statistics.stdev(v)              = 12523375579.398445\n",
      "vcentered_norm/np.sqrt(len(v)-1) = 12523375579.398449\n",
      "\n",
      "v.std(ddof=0)                    = 12509873283.742603\n",
      "np.std(v)                        = 12509873283.742603\n",
      "vcentered_norm/np.sqrt(len(v))   = 12509873283.742605\n"
     ]
    }
   ],
   "source": [
    "# mu = train_df[\"NPP_avg_past_3yrs\"].mean()\n",
    "# np_std = np.std(train_df[\"NPP_avg_past_3yrs\"])\n",
    "#### the preprocessing.scale uses np.std. \n",
    "#### I do not know why statistics.stdev(.) is different!!!!\n",
    "# (train_df[\"NPP_avg_past_3yrs\"] - mu) / np_std\n",
    "# statistics.stdev(train_df[\"NPP_avg_past_3yrs\"])\n",
    "\n",
    "\n",
    "import statistics\n",
    "\n",
    "v = train_df[\"NPP_avg_past_3yrs\"]\n",
    "vcentered = v - v.mean()\n",
    "vcentered_norm = np.linalg.norm(vcentered)\n",
    "\n",
    "print (f\"{v.std()                          = }\")\n",
    "print (f\"{statistics.stdev(v)              = }\")\n",
    "print (f\"{vcentered_norm/np.sqrt(len(v)-1) = }\")\n",
    "\n",
    "print()\n",
    "print (f\"{v.std(ddof=0)                    = }\")\n",
    "print (f\"{np.std(v)                        = }\")\n",
    "print (f\"{vcentered_norm/np.sqrt(len(v))   = }\")"
   ]
  },
  {
   "cell_type": "markdown",
   "id": "fea5241d",
   "metadata": {},
   "source": [
    "## Model inventory vs. 3 yrs NPP and EW Dummy."
   ]
  },
  {
   "cell_type": "code",
   "execution_count": 42,
   "id": "423fdcfb",
   "metadata": {},
   "outputs": [
    {
     "data": {
      "text/html": [
       "<div>\n",
       "<style scoped>\n",
       "    .dataframe tbody tr th:only-of-type {\n",
       "        vertical-align: middle;\n",
       "    }\n",
       "\n",
       "    .dataframe tbody tr th {\n",
       "        vertical-align: top;\n",
       "    }\n",
       "\n",
       "    .dataframe thead th {\n",
       "        text-align: right;\n",
       "    }\n",
       "</style>\n",
       "<table border=\"1\" class=\"dataframe\">\n",
       "  <thead>\n",
       "    <tr style=\"text-align: right;\">\n",
       "      <th></th>\n",
       "      <th>state_fip</th>\n",
       "      <th>year</th>\n",
       "      <th>NPP_avg_past_3yrs</th>\n",
       "      <th>rangeland_acre</th>\n",
       "      <th>herb_avg</th>\n",
       "      <th>EW</th>\n",
       "      <th>EW_binary</th>\n",
       "      <th>inventory</th>\n",
       "    </tr>\n",
       "  </thead>\n",
       "  <tbody>\n",
       "    <tr>\n",
       "      <th>0</th>\n",
       "      <td>01</td>\n",
       "      <td>2004</td>\n",
       "      <td>8.565837e+09</td>\n",
       "      <td>31570.99</td>\n",
       "      <td>21.019864</td>\n",
       "      <td>E</td>\n",
       "      <td>0</td>\n",
       "      <td>732000.0</td>\n",
       "    </tr>\n",
       "    <tr>\n",
       "      <th>1</th>\n",
       "      <td>01</td>\n",
       "      <td>2005</td>\n",
       "      <td>2.636689e+10</td>\n",
       "      <td>31570.99</td>\n",
       "      <td>21.019864</td>\n",
       "      <td>E</td>\n",
       "      <td>0</td>\n",
       "      <td>724000.0</td>\n",
       "    </tr>\n",
       "  </tbody>\n",
       "</table>\n",
       "</div>"
      ],
      "text/plain": [
       "  state_fip  year  NPP_avg_past_3yrs  rangeland_acre   herb_avg EW  EW_binary   \n",
       "0        01  2004       8.565837e+09        31570.99  21.019864  E          0  \\\n",
       "1        01  2005       2.636689e+10        31570.99  21.019864  E          0   \n",
       "\n",
       "  inventory  \n",
       "0  732000.0  \n",
       "1  724000.0  "
      ]
     },
     "execution_count": 42,
     "metadata": {},
     "output_type": "execute_result"
    }
   ],
   "source": [
    "invent_tall.head(2)"
   ]
  },
  {
   "cell_type": "code",
   "execution_count": 43,
   "id": "f390859d",
   "metadata": {},
   "outputs": [
    {
     "data": {
      "text/plain": [
       "['NPP_avg_past_3yrs', 'EW_binary']"
      ]
     },
     "execution_count": 43,
     "metadata": {},
     "output_type": "execute_result"
    }
   ],
   "source": [
    "indp_vars = col_3NPP + [\"EW_binary\"]\n",
    "indp_vars"
   ]
  },
  {
   "cell_type": "code",
   "execution_count": 44,
   "id": "2f0893c0",
   "metadata": {},
   "outputs": [
    {
     "data": {
      "text/html": [
       "<div>\n",
       "<style scoped>\n",
       "    .dataframe tbody tr th:only-of-type {\n",
       "        vertical-align: middle;\n",
       "    }\n",
       "\n",
       "    .dataframe tbody tr th {\n",
       "        vertical-align: top;\n",
       "    }\n",
       "\n",
       "    .dataframe thead th {\n",
       "        text-align: right;\n",
       "    }\n",
       "</style>\n",
       "<table border=\"1\" class=\"dataframe\">\n",
       "  <thead>\n",
       "    <tr style=\"text-align: right;\">\n",
       "      <th></th>\n",
       "      <th>state_fip</th>\n",
       "      <th>year</th>\n",
       "      <th>NPP_avg_past_3yrs</th>\n",
       "      <th>rangeland_acre</th>\n",
       "      <th>herb_avg</th>\n",
       "      <th>EW</th>\n",
       "      <th>EW_binary</th>\n",
       "      <th>inventory</th>\n",
       "      <th>NPP_avg_past_3yrs_standardized</th>\n",
       "      <th>rangeland_acre_standardized</th>\n",
       "      <th>herb_avg_standardized</th>\n",
       "    </tr>\n",
       "  </thead>\n",
       "  <tbody>\n",
       "    <tr>\n",
       "      <th>0</th>\n",
       "      <td>01</td>\n",
       "      <td>2004</td>\n",
       "      <td>8.565837e+09</td>\n",
       "      <td>31570.99</td>\n",
       "      <td>21.019864</td>\n",
       "      <td>E</td>\n",
       "      <td>0</td>\n",
       "      <td>732000.0</td>\n",
       "      <td>-0.977327</td>\n",
       "      <td>-0.91161</td>\n",
       "      <td>-1.441531</td>\n",
       "    </tr>\n",
       "    <tr>\n",
       "      <th>1</th>\n",
       "      <td>01</td>\n",
       "      <td>2005</td>\n",
       "      <td>2.636689e+10</td>\n",
       "      <td>31570.99</td>\n",
       "      <td>21.019864</td>\n",
       "      <td>E</td>\n",
       "      <td>0</td>\n",
       "      <td>724000.0</td>\n",
       "      <td>0.445633</td>\n",
       "      <td>-0.91161</td>\n",
       "      <td>-1.441531</td>\n",
       "    </tr>\n",
       "  </tbody>\n",
       "</table>\n",
       "</div>"
      ],
      "text/plain": [
       "  state_fip  year  NPP_avg_past_3yrs  rangeland_acre   herb_avg EW  EW_binary   \n",
       "0        01  2004       8.565837e+09        31570.99  21.019864  E          0  \\\n",
       "1        01  2005       2.636689e+10        31570.99  21.019864  E          0   \n",
       "\n",
       "  inventory  NPP_avg_past_3yrs_standardized  rangeland_acre_standardized   \n",
       "0  732000.0                       -0.977327                     -0.91161  \\\n",
       "1  724000.0                        0.445633                     -0.91161   \n",
       "\n",
       "   herb_avg_standardized  \n",
       "0              -1.441531  \n",
       "1              -1.441531  "
      ]
     },
     "execution_count": 44,
     "metadata": {},
     "output_type": "execute_result"
    }
   ],
   "source": [
    "train_df.head(2)"
   ]
  },
  {
   "cell_type": "code",
   "execution_count": 45,
   "id": "b9b421bf",
   "metadata": {},
   "outputs": [
    {
     "data": {
      "text/html": [
       "<table class=\"simpletable\">\n",
       "<caption>OLS Regression Results</caption>\n",
       "<tr>\n",
       "  <th>Dep. Variable:</th>        <td>inventory</td>    <th>  R-squared:         </th> <td>   0.026</td> \n",
       "</tr>\n",
       "<tr>\n",
       "  <th>Model:</th>                   <td>OLS</td>       <th>  Adj. R-squared:    </th> <td>   0.022</td> \n",
       "</tr>\n",
       "<tr>\n",
       "  <th>Method:</th>             <td>Least Squares</td>  <th>  F-statistic:       </th> <td>   6.157</td> \n",
       "</tr>\n",
       "<tr>\n",
       "  <th>Date:</th>             <td>Wed, 13 Dec 2023</td> <th>  Prob (F-statistic):</th>  <td>0.00230</td> \n",
       "</tr>\n",
       "<tr>\n",
       "  <th>Time:</th>                 <td>15:33:22</td>     <th>  Log-Likelihood:    </th> <td> -7006.2</td> \n",
       "</tr>\n",
       "<tr>\n",
       "  <th>No. Observations:</th>      <td>   464</td>      <th>  AIC:               </th> <td>1.402e+04</td>\n",
       "</tr>\n",
       "<tr>\n",
       "  <th>Df Residuals:</th>          <td>   461</td>      <th>  BIC:               </th> <td>1.403e+04</td>\n",
       "</tr>\n",
       "<tr>\n",
       "  <th>Df Model:</th>              <td>     2</td>      <th>                     </th>     <td> </td>    \n",
       "</tr>\n",
       "<tr>\n",
       "  <th>Covariance Type:</th>      <td>nonrobust</td>    <th>                     </th>     <td> </td>    \n",
       "</tr>\n",
       "</table>\n",
       "<table class=\"simpletable\">\n",
       "<tr>\n",
       "          <td></td>             <th>coef</th>     <th>std err</th>      <th>t</th>      <th>P>|t|</th>  <th>[0.025</th>    <th>0.975]</th>  \n",
       "</tr>\n",
       "<tr>\n",
       "  <th>const</th>             <td> 7.429e+05</td> <td> 9.18e+04</td> <td>    8.093</td> <td> 0.000</td> <td> 5.63e+05</td> <td> 9.23e+05</td>\n",
       "</tr>\n",
       "<tr>\n",
       "  <th>NPP_avg_past_3yrs</th> <td> 4.618e-06</td> <td> 3.25e-06</td> <td>    1.419</td> <td> 0.157</td> <td>-1.78e-06</td> <td>  1.1e-05</td>\n",
       "</tr>\n",
       "<tr>\n",
       "  <th>EW_binary</th>         <td> 2.624e+05</td> <td> 8.27e+04</td> <td>    3.175</td> <td> 0.002</td> <td>    1e+05</td> <td> 4.25e+05</td>\n",
       "</tr>\n",
       "</table>\n",
       "<table class=\"simpletable\">\n",
       "<tr>\n",
       "  <th>Omnibus:</th>       <td>275.105</td> <th>  Durbin-Watson:     </th> <td>   0.148</td>\n",
       "</tr>\n",
       "<tr>\n",
       "  <th>Prob(Omnibus):</th> <td> 0.000</td>  <th>  Jarque-Bera (JB):  </th> <td>1972.645</td>\n",
       "</tr>\n",
       "<tr>\n",
       "  <th>Skew:</th>          <td> 2.571</td>  <th>  Prob(JB):          </th> <td>    0.00</td>\n",
       "</tr>\n",
       "<tr>\n",
       "  <th>Kurtosis:</th>      <td>11.695</td>  <th>  Cond. No.          </th> <td>6.42e+10</td>\n",
       "</tr>\n",
       "</table><br/><br/>Notes:<br/>[1] Standard Errors assume that the covariance matrix of the errors is correctly specified.<br/>[2] The condition number is large, 6.42e+10. This might indicate that there are<br/>strong multicollinearity or other numerical problems."
      ],
      "text/plain": [
       "<class 'statsmodels.iolib.summary.Summary'>\n",
       "\"\"\"\n",
       "                            OLS Regression Results                            \n",
       "==============================================================================\n",
       "Dep. Variable:              inventory   R-squared:                       0.026\n",
       "Model:                            OLS   Adj. R-squared:                  0.022\n",
       "Method:                 Least Squares   F-statistic:                     6.157\n",
       "Date:                Wed, 13 Dec 2023   Prob (F-statistic):            0.00230\n",
       "Time:                        15:33:22   Log-Likelihood:                -7006.2\n",
       "No. Observations:                 464   AIC:                         1.402e+04\n",
       "Df Residuals:                     461   BIC:                         1.403e+04\n",
       "Df Model:                           2                                         \n",
       "Covariance Type:            nonrobust                                         \n",
       "=====================================================================================\n",
       "                        coef    std err          t      P>|t|      [0.025      0.975]\n",
       "-------------------------------------------------------------------------------------\n",
       "const              7.429e+05   9.18e+04      8.093      0.000    5.63e+05    9.23e+05\n",
       "NPP_avg_past_3yrs  4.618e-06   3.25e-06      1.419      0.157   -1.78e-06     1.1e-05\n",
       "EW_binary          2.624e+05   8.27e+04      3.175      0.002       1e+05    4.25e+05\n",
       "==============================================================================\n",
       "Omnibus:                      275.105   Durbin-Watson:                   0.148\n",
       "Prob(Omnibus):                  0.000   Jarque-Bera (JB):             1972.645\n",
       "Skew:                           2.571   Prob(JB):                         0.00\n",
       "Kurtosis:                      11.695   Cond. No.                     6.42e+10\n",
       "==============================================================================\n",
       "\n",
       "Notes:\n",
       "[1] Standard Errors assume that the covariance matrix of the errors is correctly specified.\n",
       "[2] The condition number is large, 6.42e+10. This might indicate that there are\n",
       "strong multicollinearity or other numerical problems.\n",
       "\"\"\""
      ]
     },
     "execution_count": 45,
     "metadata": {},
     "output_type": "execute_result"
    }
   ],
   "source": [
    "X = train_df[indp_vars]\n",
    "X = sm.add_constant(X)\n",
    "Y = train_df[y_var].astype(float)\n",
    "ks = sm.OLS(Y, X)\n",
    "ks_result =ks.fit()\n",
    "ks_result.summary()"
   ]
  },
  {
   "cell_type": "code",
   "execution_count": 46,
   "id": "0de69a63",
   "metadata": {},
   "outputs": [
    {
     "name": "stdout",
     "output_type": "stream",
     "text": [
      "\u001b[1mTest residuals for 3-years-NPP-Avg and EW_binary:\n",
      "\u001b[0;0m\n",
      "    RSS_test = 21077442687677.\n",
      "    MSE_test = 726808368541.\n",
      "    RSE =  852531.\n"
     ]
    }
   ],
   "source": [
    "test_A = test_df[indp_vars]\n",
    "test_A = sm.add_constant(test_A)\n",
    "y_test = test_df[y_var].astype(float)\n",
    "\n",
    "yhat_test = test_A @ ks_result.params\n",
    "\n",
    "NPP_test_res = y_test - yhat_test\n",
    "NPP_RSS_test = np.dot(NPP_test_res, NPP_test_res)\n",
    "NPP_MSE_test = NPP_RSS_test / len(y_test)\n",
    "NPP_RSE_test = np.sqrt(NPP_MSE_test)\n",
    "\n",
    "print (start_b + \"Test residuals for 3-years-NPP-Avg and EW_binary:\\n\" + end_b)\n",
    "print(\"    RSS_test = {0:.0f}.\".format(NPP_RSS_test))\n",
    "print(\"    MSE_test = {0:.0f}.\".format(NPP_MSE_test))\n",
    "print(\"    RSE =  {0:.0f}.\".format(NPP_RSE_test))"
   ]
  },
  {
   "cell_type": "markdown",
   "id": "5b357769",
   "metadata": {},
   "source": [
    "## Model inventory vs. 3 yrs NPP, RA, HerbRatio, and EW Dummy."
   ]
  },
  {
   "cell_type": "code",
   "execution_count": 47,
   "id": "e9b3ee03",
   "metadata": {},
   "outputs": [
    {
     "data": {
      "text/html": [
       "<div>\n",
       "<style scoped>\n",
       "    .dataframe tbody tr th:only-of-type {\n",
       "        vertical-align: middle;\n",
       "    }\n",
       "\n",
       "    .dataframe tbody tr th {\n",
       "        vertical-align: top;\n",
       "    }\n",
       "\n",
       "    .dataframe thead th {\n",
       "        text-align: right;\n",
       "    }\n",
       "</style>\n",
       "<table border=\"1\" class=\"dataframe\">\n",
       "  <thead>\n",
       "    <tr style=\"text-align: right;\">\n",
       "      <th></th>\n",
       "      <th>state_fip</th>\n",
       "      <th>year</th>\n",
       "      <th>NPP_avg_past_3yrs</th>\n",
       "      <th>rangeland_acre</th>\n",
       "      <th>herb_avg</th>\n",
       "      <th>EW</th>\n",
       "      <th>EW_binary</th>\n",
       "      <th>inventory</th>\n",
       "    </tr>\n",
       "  </thead>\n",
       "  <tbody>\n",
       "    <tr>\n",
       "      <th>0</th>\n",
       "      <td>01</td>\n",
       "      <td>2004</td>\n",
       "      <td>8.565837e+09</td>\n",
       "      <td>31570.99</td>\n",
       "      <td>21.019864</td>\n",
       "      <td>E</td>\n",
       "      <td>0</td>\n",
       "      <td>732000.0</td>\n",
       "    </tr>\n",
       "    <tr>\n",
       "      <th>1</th>\n",
       "      <td>01</td>\n",
       "      <td>2005</td>\n",
       "      <td>2.636689e+10</td>\n",
       "      <td>31570.99</td>\n",
       "      <td>21.019864</td>\n",
       "      <td>E</td>\n",
       "      <td>0</td>\n",
       "      <td>724000.0</td>\n",
       "    </tr>\n",
       "  </tbody>\n",
       "</table>\n",
       "</div>"
      ],
      "text/plain": [
       "  state_fip  year  NPP_avg_past_3yrs  rangeland_acre   herb_avg EW  EW_binary   \n",
       "0        01  2004       8.565837e+09        31570.99  21.019864  E          0  \\\n",
       "1        01  2005       2.636689e+10        31570.99  21.019864  E          0   \n",
       "\n",
       "  inventory  \n",
       "0  732000.0  \n",
       "1  724000.0  "
      ]
     },
     "execution_count": 47,
     "metadata": {},
     "output_type": "execute_result"
    }
   ],
   "source": [
    "invent_tall.head(2)"
   ]
  },
  {
   "cell_type": "code",
   "execution_count": 48,
   "id": "e570af24",
   "metadata": {},
   "outputs": [
    {
     "name": "stdout",
     "output_type": "stream",
     "text": [
      "2127659909.580448\n",
      "59185573546.99665\n"
     ]
    }
   ],
   "source": [
    "print (invent_tall.NPP_avg_past_3yrs.min())\n",
    "print (invent_tall.NPP_avg_past_3yrs.max())"
   ]
  },
  {
   "cell_type": "code",
   "execution_count": 49,
   "id": "9a421682",
   "metadata": {},
   "outputs": [
    {
     "data": {
      "text/plain": [
       "['NPP_avg_past_3yrs', 'rangeland_acre', 'herb_avg', 'EW_binary']"
      ]
     },
     "execution_count": 49,
     "metadata": {},
     "output_type": "execute_result"
    }
   ],
   "source": [
    "indp_vars = col_3NPP + [\"rangeland_acre\", \"herb_avg\", \"EW_binary\"]\n",
    "indp_vars"
   ]
  },
  {
   "cell_type": "code",
   "execution_count": 50,
   "id": "9df83663",
   "metadata": {},
   "outputs": [
    {
     "data": {
      "text/html": [
       "<table class=\"simpletable\">\n",
       "<caption>OLS Regression Results</caption>\n",
       "<tr>\n",
       "  <th>Dep. Variable:</th>        <td>inventory</td>    <th>  R-squared:         </th> <td>   0.354</td> \n",
       "</tr>\n",
       "<tr>\n",
       "  <th>Model:</th>                   <td>OLS</td>       <th>  Adj. R-squared:    </th> <td>   0.349</td> \n",
       "</tr>\n",
       "<tr>\n",
       "  <th>Method:</th>             <td>Least Squares</td>  <th>  F-statistic:       </th> <td>   62.93</td> \n",
       "</tr>\n",
       "<tr>\n",
       "  <th>Date:</th>             <td>Wed, 13 Dec 2023</td> <th>  Prob (F-statistic):</th> <td>2.16e-42</td> \n",
       "</tr>\n",
       "<tr>\n",
       "  <th>Time:</th>                 <td>15:33:23</td>     <th>  Log-Likelihood:    </th> <td> -6910.9</td> \n",
       "</tr>\n",
       "<tr>\n",
       "  <th>No. Observations:</th>      <td>   464</td>      <th>  AIC:               </th> <td>1.383e+04</td>\n",
       "</tr>\n",
       "<tr>\n",
       "  <th>Df Residuals:</th>          <td>   459</td>      <th>  BIC:               </th> <td>1.385e+04</td>\n",
       "</tr>\n",
       "<tr>\n",
       "  <th>Df Model:</th>              <td>     4</td>      <th>                     </th>     <td> </td>    \n",
       "</tr>\n",
       "<tr>\n",
       "  <th>Covariance Type:</th>      <td>nonrobust</td>    <th>                     </th>     <td> </td>    \n",
       "</tr>\n",
       "</table>\n",
       "<table class=\"simpletable\">\n",
       "<tr>\n",
       "          <td></td>             <th>coef</th>     <th>std err</th>      <th>t</th>      <th>P>|t|</th>  <th>[0.025</th>    <th>0.975]</th>  \n",
       "</tr>\n",
       "<tr>\n",
       "  <th>const</th>             <td>-1.048e+05</td> <td> 1.08e+05</td> <td>   -0.966</td> <td> 0.335</td> <td>-3.18e+05</td> <td> 1.08e+05</td>\n",
       "</tr>\n",
       "<tr>\n",
       "  <th>NPP_avg_past_3yrs</th> <td> 1.572e-06</td> <td> 2.67e-06</td> <td>    0.590</td> <td> 0.556</td> <td>-3.67e-06</td> <td> 6.81e-06</td>\n",
       "</tr>\n",
       "<tr>\n",
       "  <th>rangeland_acre</th>    <td>    0.0339</td> <td>    0.002</td> <td>   14.084</td> <td> 0.000</td> <td>    0.029</td> <td>    0.039</td>\n",
       "</tr>\n",
       "<tr>\n",
       "  <th>herb_avg</th>          <td> 2.599e+04</td> <td> 2304.119</td> <td>   11.278</td> <td> 0.000</td> <td> 2.15e+04</td> <td> 3.05e+04</td>\n",
       "</tr>\n",
       "<tr>\n",
       "  <th>EW_binary</th>         <td>-1.808e+06</td> <td> 1.53e+05</td> <td>  -11.832</td> <td> 0.000</td> <td>-2.11e+06</td> <td>-1.51e+06</td>\n",
       "</tr>\n",
       "</table>\n",
       "<table class=\"simpletable\">\n",
       "<tr>\n",
       "  <th>Omnibus:</th>       <td>80.382</td> <th>  Durbin-Watson:     </th> <td>   0.130</td>\n",
       "</tr>\n",
       "<tr>\n",
       "  <th>Prob(Omnibus):</th> <td> 0.000</td> <th>  Jarque-Bera (JB):  </th> <td> 183.606</td>\n",
       "</tr>\n",
       "<tr>\n",
       "  <th>Skew:</th>          <td> 0.901</td> <th>  Prob(JB):          </th> <td>1.35e-40</td>\n",
       "</tr>\n",
       "<tr>\n",
       "  <th>Kurtosis:</th>      <td> 5.500</td> <th>  Cond. No.          </th> <td>1.18e+11</td>\n",
       "</tr>\n",
       "</table><br/><br/>Notes:<br/>[1] Standard Errors assume that the covariance matrix of the errors is correctly specified.<br/>[2] The condition number is large, 1.18e+11. This might indicate that there are<br/>strong multicollinearity or other numerical problems."
      ],
      "text/plain": [
       "<class 'statsmodels.iolib.summary.Summary'>\n",
       "\"\"\"\n",
       "                            OLS Regression Results                            \n",
       "==============================================================================\n",
       "Dep. Variable:              inventory   R-squared:                       0.354\n",
       "Model:                            OLS   Adj. R-squared:                  0.349\n",
       "Method:                 Least Squares   F-statistic:                     62.93\n",
       "Date:                Wed, 13 Dec 2023   Prob (F-statistic):           2.16e-42\n",
       "Time:                        15:33:23   Log-Likelihood:                -6910.9\n",
       "No. Observations:                 464   AIC:                         1.383e+04\n",
       "Df Residuals:                     459   BIC:                         1.385e+04\n",
       "Df Model:                           4                                         \n",
       "Covariance Type:            nonrobust                                         \n",
       "=====================================================================================\n",
       "                        coef    std err          t      P>|t|      [0.025      0.975]\n",
       "-------------------------------------------------------------------------------------\n",
       "const             -1.048e+05   1.08e+05     -0.966      0.335   -3.18e+05    1.08e+05\n",
       "NPP_avg_past_3yrs  1.572e-06   2.67e-06      0.590      0.556   -3.67e-06    6.81e-06\n",
       "rangeland_acre        0.0339      0.002     14.084      0.000       0.029       0.039\n",
       "herb_avg           2.599e+04   2304.119     11.278      0.000    2.15e+04    3.05e+04\n",
       "EW_binary         -1.808e+06   1.53e+05    -11.832      0.000   -2.11e+06   -1.51e+06\n",
       "==============================================================================\n",
       "Omnibus:                       80.382   Durbin-Watson:                   0.130\n",
       "Prob(Omnibus):                  0.000   Jarque-Bera (JB):              183.606\n",
       "Skew:                           0.901   Prob(JB):                     1.35e-40\n",
       "Kurtosis:                       5.500   Cond. No.                     1.18e+11\n",
       "==============================================================================\n",
       "\n",
       "Notes:\n",
       "[1] Standard Errors assume that the covariance matrix of the errors is correctly specified.\n",
       "[2] The condition number is large, 1.18e+11. This might indicate that there are\n",
       "strong multicollinearity or other numerical problems.\n",
       "\"\"\""
      ]
     },
     "execution_count": 50,
     "metadata": {},
     "output_type": "execute_result"
    }
   ],
   "source": [
    "X = train_df[indp_vars]\n",
    "X = sm.add_constant(X)\n",
    "Y = train_df[y_var].astype(float)\n",
    "ks = sm.OLS(Y, X)\n",
    "ks_result =ks.fit()\n",
    "ks_result.summary()"
   ]
  },
  {
   "cell_type": "code",
   "execution_count": 51,
   "id": "83cd7c98",
   "metadata": {},
   "outputs": [
    {
     "name": "stdout",
     "output_type": "stream",
     "text": [
      "\u001b[1mTest residuals for 3-years-NPP-Avg., RA, herb ratio, and dummy east-west:\n",
      "\u001b[0;0m\n",
      "    RSS_test = 14259906890094.\n",
      "    MSE_test = 491720927245.\n",
      "    RSE =  701228.\n"
     ]
    }
   ],
   "source": [
    "test_A = test_df[indp_vars]\n",
    "test_A = sm.add_constant(test_A)\n",
    "y_test = test_df[y_var].astype(float)\n",
    "\n",
    "yhat_test = test_A @ ks_result.params\n",
    "\n",
    "NPP_test_res = y_test - yhat_test\n",
    "NPP_RSS_test = np.dot(NPP_test_res, NPP_test_res)\n",
    "NPP_MSE_test = NPP_RSS_test / len(y_test)\n",
    "NPP_RSE_test = np.sqrt(NPP_MSE_test)\n",
    "\n",
    "print (start_b + \"Test residuals for 3-years-NPP-Avg., RA, herb ratio, and dummy east-west:\\n\" + end_b)\n",
    "print(\"    RSS_test = {0:.0f}.\".format(NPP_RSS_test))\n",
    "print(\"    MSE_test = {0:.0f}.\".format(NPP_MSE_test))\n",
    "print(\"    RSE =  {0:.0f}.\".format(NPP_RSE_test))"
   ]
  },
  {
   "cell_type": "markdown",
   "id": "862be92d",
   "metadata": {},
   "source": [
    "# Transform Variables:"
   ]
  },
  {
   "cell_type": "code",
   "execution_count": 52,
   "id": "78483695",
   "metadata": {},
   "outputs": [
    {
     "data": {
      "text/html": [
       "<div>\n",
       "<style scoped>\n",
       "    .dataframe tbody tr th:only-of-type {\n",
       "        vertical-align: middle;\n",
       "    }\n",
       "\n",
       "    .dataframe tbody tr th {\n",
       "        vertical-align: top;\n",
       "    }\n",
       "\n",
       "    .dataframe thead th {\n",
       "        text-align: right;\n",
       "    }\n",
       "</style>\n",
       "<table border=\"1\" class=\"dataframe\">\n",
       "  <thead>\n",
       "    <tr style=\"text-align: right;\">\n",
       "      <th></th>\n",
       "      <th>state_fip</th>\n",
       "      <th>year</th>\n",
       "      <th>NPP_avg_past_3yrs</th>\n",
       "      <th>rangeland_acre</th>\n",
       "      <th>herb_avg</th>\n",
       "      <th>EW</th>\n",
       "      <th>EW_binary</th>\n",
       "      <th>inventory</th>\n",
       "    </tr>\n",
       "  </thead>\n",
       "  <tbody>\n",
       "    <tr>\n",
       "      <th>0</th>\n",
       "      <td>01</td>\n",
       "      <td>2004</td>\n",
       "      <td>8.565837e+09</td>\n",
       "      <td>31570.99</td>\n",
       "      <td>21.019864</td>\n",
       "      <td>E</td>\n",
       "      <td>0</td>\n",
       "      <td>732000.0</td>\n",
       "    </tr>\n",
       "    <tr>\n",
       "      <th>1</th>\n",
       "      <td>01</td>\n",
       "      <td>2005</td>\n",
       "      <td>2.636689e+10</td>\n",
       "      <td>31570.99</td>\n",
       "      <td>21.019864</td>\n",
       "      <td>E</td>\n",
       "      <td>0</td>\n",
       "      <td>724000.0</td>\n",
       "    </tr>\n",
       "  </tbody>\n",
       "</table>\n",
       "</div>"
      ],
      "text/plain": [
       "  state_fip  year  NPP_avg_past_3yrs  rangeland_acre   herb_avg EW  EW_binary   \n",
       "0        01  2004       8.565837e+09        31570.99  21.019864  E          0  \\\n",
       "1        01  2005       2.636689e+10        31570.99  21.019864  E          0   \n",
       "\n",
       "  inventory  \n",
       "0  732000.0  \n",
       "1  724000.0  "
      ]
     },
     "execution_count": 52,
     "metadata": {},
     "output_type": "execute_result"
    }
   ],
   "source": [
    "invent_tall.head(2)"
   ]
  },
  {
   "cell_type": "code",
   "execution_count": 53,
   "id": "a5c35248",
   "metadata": {},
   "outputs": [
    {
     "data": {
      "image/png": "[encoded data removed]",
      "text/plain": [
       "<Figure size 1000x600 with 3 Axes>"
      ]
     },
     "metadata": {},
     "output_type": "display_data"
    }
   ],
   "source": [
    "fig, axes = plt.subplots(3, 1, figsize=(10, 6), sharey=False, sharex=False)\n",
    "axes[0].grid(axis=\"y\", which=\"both\")\n",
    "axes[1].grid(axis=\"y\", which=\"both\")\n",
    "axes[2].grid(axis=\"y\", which=\"both\")\n",
    "\n",
    "text_size, text_color = \"large\", \"r\"\n",
    "\n",
    "data_ = invent_tall.rangeland_acre\n",
    "sns.histplot(data=np.sqrt(data_), kde=True, bins=200, color=\"darkblue\", ax=axes[0])\n",
    "axes[0].text(x=np.sqrt(data_).min() + 2, y=20, s=\"2nd root\", fontsize=text_size, color=text_color)\n",
    "\n",
    "###########################################\n",
    "sns.histplot(data=np.log10(data_), kde=True, bins=200, color=\"darkblue\", ax=axes[1])\n",
    "axes[1].text(x=np.log10(data_).min(), y=2, s=\"log10\", fontsize=text_size, color=text_color)\n",
    "\n",
    "###########################################\n",
    "# sns.histplot(data = 1/data_, kde = True, bins=200, color = 'darkblue', ax=axes[2]);\n",
    "# axes[2].text(x = (1/data_).min(), y=200, s='inverse', fontsize=text_size, color=text_color)\n",
    "\n",
    "sns.histplot(data=data_, kde=True, bins=200, color=\"darkblue\", ax=axes[2])\n",
    "axes[2].text(x=data_.min() + 3000000, y=80, s=\"original\", fontsize=text_size, color=text_color)\n",
    "\n",
    "\n",
    "axes[0].set_xlabel(\"\");\n",
    "axes[1].set_xlabel(\"\");\n",
    "axes[2].set_xlabel(\"transformed rangeland acr\");"
   ]
  },
  {
   "cell_type": "code",
   "execution_count": 54,
   "id": "05cfabd5",
   "metadata": {},
   "outputs": [
    {
     "data": {
      "image/png": "[encoded data removed]",
      "text/plain": [
       "<Figure size 1000x600 with 3 Axes>"
      ]
     },
     "metadata": {},
     "output_type": "display_data"
    }
   ],
   "source": [
    "fig, axes = plt.subplots(3, 1, figsize=(10, 6), sharey=False, sharex=False)\n",
    "axes[0].grid(axis=\"y\", which=\"both\")\n",
    "axes[1].grid(axis=\"y\", which=\"both\")\n",
    "axes[2].grid(axis=\"y\", which=\"both\")\n",
    "\n",
    "text_size, text_color = \"large\", \"r\"\n",
    "\n",
    "data_ = invent_tall.NPP_avg_past_3yrs\n",
    "sns.histplot(data=np.sqrt(data_), kde=True, bins=200, color=\"darkblue\", ax=axes[0])\n",
    "axes[0].text(x=np.sqrt(data_).min() + 2, y=8, s=\"2nd root\", fontsize=text_size, color=text_color)\n",
    "\n",
    "###########################################\n",
    "sns.histplot(data=np.log10(data_), kde=True, bins=200, color=\"darkblue\", ax=axes[1])\n",
    "axes[1].text(x=np.log10(data_).min(), y=8, s=\"log10\", fontsize=text_size, color=text_color)\n",
    "\n",
    "###########################################\n",
    "# sns.histplot(data = 1/data_, kde = True, bins=200, color = 'darkblue', ax=axes[2]);\n",
    "# axes[2].text(x = (1/data_).min(), y=200, s='inverse', fontsize=text_size, color=text_color)\n",
    "\n",
    "sns.histplot(data=data_, kde=True, bins=200, color=\"darkblue\", ax=axes[2])\n",
    "axes[2].text(x=data_.min() + 3000000, y=8, s=\"original\", fontsize=text_size, color=text_color)\n",
    "\n",
    "\n",
    "axes[0].set_xlabel(\"\");\n",
    "axes[1].set_xlabel(\"\");\n",
    "axes[2].set_xlabel(\"transformed NPP_avg_past_3yrs\");"
   ]
  },
  {
   "cell_type": "markdown",
   "id": "b7d7269b",
   "metadata": {},
   "source": [
    "### Avg. of current year and past 3 years (4 years total):\n",
    "\n",
    "\n",
    "#### Model inventory vs. 4 yrs NPP avg, RA, HerbRatio, and EW Dummy.\n",
    "\n"
   ]
  },
  {
   "cell_type": "code",
   "execution_count": 55,
   "id": "066ef84f",
   "metadata": {},
   "outputs": [
    {
     "data": {
      "text/html": [
       "<div>\n",
       "<style scoped>\n",
       "    .dataframe tbody tr th:only-of-type {\n",
       "        vertical-align: middle;\n",
       "    }\n",
       "\n",
       "    .dataframe tbody tr th {\n",
       "        vertical-align: top;\n",
       "    }\n",
       "\n",
       "    .dataframe thead th {\n",
       "        text-align: right;\n",
       "    }\n",
       "</style>\n",
       "<table border=\"1\" class=\"dataframe\">\n",
       "  <thead>\n",
       "    <tr style=\"text-align: right;\">\n",
       "      <th></th>\n",
       "      <th>state</th>\n",
       "      <th>year</th>\n",
       "      <th>inventory</th>\n",
       "      <th>state_fip</th>\n",
       "    </tr>\n",
       "  </thead>\n",
       "  <tbody>\n",
       "    <tr>\n",
       "      <th>0</th>\n",
       "      <td>AL</td>\n",
       "      <td>2001</td>\n",
       "      <td>737000.0</td>\n",
       "      <td>01</td>\n",
       "    </tr>\n",
       "    <tr>\n",
       "      <th>1</th>\n",
       "      <td>AL</td>\n",
       "      <td>2002</td>\n",
       "      <td>750000.0</td>\n",
       "      <td>01</td>\n",
       "    </tr>\n",
       "    <tr>\n",
       "      <th>2</th>\n",
       "      <td>AL</td>\n",
       "      <td>2003</td>\n",
       "      <td>761000.0</td>\n",
       "      <td>01</td>\n",
       "    </tr>\n",
       "    <tr>\n",
       "      <th>3</th>\n",
       "      <td>AL</td>\n",
       "      <td>2004</td>\n",
       "      <td>732000.0</td>\n",
       "      <td>01</td>\n",
       "    </tr>\n",
       "  </tbody>\n",
       "</table>\n",
       "</div>"
      ],
      "text/plain": [
       "  state  year inventory state_fip\n",
       "0    AL  2001  737000.0        01\n",
       "1    AL  2002  750000.0        01\n",
       "2    AL  2003  761000.0        01\n",
       "3    AL  2004  732000.0        01"
      ]
     },
     "execution_count": 55,
     "metadata": {},
     "output_type": "execute_result"
    }
   ],
   "source": [
    "invent_tall_copy.head(4)"
   ]
  },
  {
   "cell_type": "code",
   "execution_count": 56,
   "id": "9ffd0cc4",
   "metadata": {},
   "outputs": [
    {
     "data": {
      "text/html": [
       "<div>\n",
       "<style scoped>\n",
       "    .dataframe tbody tr th:only-of-type {\n",
       "        vertical-align: middle;\n",
       "    }\n",
       "\n",
       "    .dataframe tbody tr th {\n",
       "        vertical-align: top;\n",
       "    }\n",
       "\n",
       "    .dataframe thead th {\n",
       "        text-align: right;\n",
       "    }\n",
       "</style>\n",
       "<table border=\"1\" class=\"dataframe\">\n",
       "  <thead>\n",
       "    <tr style=\"text-align: right;\">\n",
       "      <th></th>\n",
       "      <th>state</th>\n",
       "      <th>year</th>\n",
       "      <th>inventory</th>\n",
       "      <th>state_fip</th>\n",
       "      <th>NPP_avg_past_4yrs</th>\n",
       "    </tr>\n",
       "  </thead>\n",
       "  <tbody>\n",
       "    <tr>\n",
       "      <th>0</th>\n",
       "      <td>AL</td>\n",
       "      <td>2001</td>\n",
       "      <td>737000.0</td>\n",
       "      <td>01</td>\n",
       "      <td>NaN</td>\n",
       "    </tr>\n",
       "    <tr>\n",
       "      <th>1</th>\n",
       "      <td>AL</td>\n",
       "      <td>2002</td>\n",
       "      <td>750000.0</td>\n",
       "      <td>01</td>\n",
       "      <td>NaN</td>\n",
       "    </tr>\n",
       "    <tr>\n",
       "      <th>2</th>\n",
       "      <td>AL</td>\n",
       "      <td>2003</td>\n",
       "      <td>761000.0</td>\n",
       "      <td>01</td>\n",
       "      <td>NaN</td>\n",
       "    </tr>\n",
       "    <tr>\n",
       "      <th>3</th>\n",
       "      <td>AL</td>\n",
       "      <td>2004</td>\n",
       "      <td>732000.0</td>\n",
       "      <td>01</td>\n",
       "      <td>1.980125e+10</td>\n",
       "    </tr>\n",
       "    <tr>\n",
       "      <th>4</th>\n",
       "      <td>AL</td>\n",
       "      <td>2005</td>\n",
       "      <td>724000.0</td>\n",
       "      <td>01</td>\n",
       "      <td>2.711311e+10</td>\n",
       "    </tr>\n",
       "  </tbody>\n",
       "</table>\n",
       "</div>"
      ],
      "text/plain": [
       "  state  year inventory state_fip  NPP_avg_past_4yrs\n",
       "0    AL  2001  737000.0        01                NaN\n",
       "1    AL  2002  750000.0        01                NaN\n",
       "2    AL  2003  761000.0        01                NaN\n",
       "3    AL  2004  732000.0        01       1.980125e+10\n",
       "4    AL  2005  724000.0        01       2.711311e+10"
      ]
     },
     "execution_count": 56,
     "metadata": {},
     "output_type": "execute_result"
    }
   ],
   "source": [
    "col_3NPP = [\"NPP_avg_past_4yrs\"]\n",
    "\n",
    "# Add zero in there so that we are using avg of NPP of 2001, 2002, and 2003 for inventory of 2004:\n",
    "NPP_4yr_avg = list(state_NPP_Ra.state_rangeland_npp.rolling(4).mean())\n",
    "invent_tall_copy[\"NPP_avg_past_4yrs\"] = NPP_4yr_avg\n",
    "invent_tall_copy.head(5)"
   ]
  },
  {
   "cell_type": "code",
   "execution_count": 57,
   "id": "ff9e49f9",
   "metadata": {},
   "outputs": [
    {
     "name": "stdout",
     "output_type": "stream",
     "text": [
      "[1.04331212e+08 2.55035697e+10 8.96112551e+07 5.35074758e+10]\n",
      "19801246992.66378\n"
     ]
    }
   ],
   "source": [
    "print (state_NPP_Ra.state_rangeland_npp[:4].values)\n",
    "print (state_NPP_Ra.state_rangeland_npp[:4].mean())"
   ]
  },
  {
   "cell_type": "code",
   "execution_count": 58,
   "id": "f82c0040",
   "metadata": {},
   "outputs": [
    {
     "data": {
      "text/html": [
       "<div>\n",
       "<style scoped>\n",
       "    .dataframe tbody tr th:only-of-type {\n",
       "        vertical-align: middle;\n",
       "    }\n",
       "\n",
       "    .dataframe tbody tr th {\n",
       "        vertical-align: top;\n",
       "    }\n",
       "\n",
       "    .dataframe thead th {\n",
       "        text-align: right;\n",
       "    }\n",
       "</style>\n",
       "<table border=\"1\" class=\"dataframe\">\n",
       "  <thead>\n",
       "    <tr style=\"text-align: right;\">\n",
       "      <th></th>\n",
       "      <th>state</th>\n",
       "      <th>year</th>\n",
       "      <th>inventory</th>\n",
       "      <th>state_fip</th>\n",
       "      <th>NPP_avg_past_4yrs</th>\n",
       "    </tr>\n",
       "  </thead>\n",
       "  <tbody>\n",
       "    <tr>\n",
       "      <th>0</th>\n",
       "      <td>AL</td>\n",
       "      <td>2004</td>\n",
       "      <td>732000.0</td>\n",
       "      <td>01</td>\n",
       "      <td>1.980125e+10</td>\n",
       "    </tr>\n",
       "    <tr>\n",
       "      <th>1</th>\n",
       "      <td>AL</td>\n",
       "      <td>2005</td>\n",
       "      <td>724000.0</td>\n",
       "      <td>01</td>\n",
       "      <td>2.711311e+10</td>\n",
       "    </tr>\n",
       "    <tr>\n",
       "      <th>2</th>\n",
       "      <td>AL</td>\n",
       "      <td>2006</td>\n",
       "      <td>686000.0</td>\n",
       "      <td>01</td>\n",
       "      <td>2.199293e+10</td>\n",
       "    </tr>\n",
       "  </tbody>\n",
       "</table>\n",
       "</div>"
      ],
      "text/plain": [
       "  state  year inventory state_fip  NPP_avg_past_4yrs\n",
       "0    AL  2004  732000.0        01       1.980125e+10\n",
       "1    AL  2005  724000.0        01       2.711311e+10\n",
       "2    AL  2006  686000.0        01       2.199293e+10"
      ]
     },
     "execution_count": 58,
     "metadata": {},
     "output_type": "execute_result"
    }
   ],
   "source": [
    "invent_tall_copy = invent_tall_copy[invent_tall_copy.year>=2004]\n",
    "invent_tall_copy.reset_index(drop=True, inplace=True)\n",
    "invent_tall_copy.head(3)"
   ]
  },
  {
   "cell_type": "code",
   "execution_count": 59,
   "id": "b369289d",
   "metadata": {},
   "outputs": [
    {
     "data": {
      "text/html": [
       "<div>\n",
       "<style scoped>\n",
       "    .dataframe tbody tr th:only-of-type {\n",
       "        vertical-align: middle;\n",
       "    }\n",
       "\n",
       "    .dataframe tbody tr th {\n",
       "        vertical-align: top;\n",
       "    }\n",
       "\n",
       "    .dataframe thead th {\n",
       "        text-align: right;\n",
       "    }\n",
       "</style>\n",
       "<table border=\"1\" class=\"dataframe\">\n",
       "  <thead>\n",
       "    <tr style=\"text-align: right;\">\n",
       "      <th></th>\n",
       "      <th>state</th>\n",
       "      <th>year</th>\n",
       "      <th>inventory</th>\n",
       "      <th>state_fip</th>\n",
       "      <th>NPP_avg_past_4yrs</th>\n",
       "      <th>rangeland_acre</th>\n",
       "      <th>herb_avg</th>\n",
       "      <th>EW</th>\n",
       "    </tr>\n",
       "  </thead>\n",
       "  <tbody>\n",
       "    <tr>\n",
       "      <th>0</th>\n",
       "      <td>AL</td>\n",
       "      <td>2004</td>\n",
       "      <td>732000.0</td>\n",
       "      <td>01</td>\n",
       "      <td>1.980125e+10</td>\n",
       "      <td>31570.99</td>\n",
       "      <td>21.019864</td>\n",
       "      <td>E</td>\n",
       "    </tr>\n",
       "    <tr>\n",
       "      <th>1</th>\n",
       "      <td>AL</td>\n",
       "      <td>2005</td>\n",
       "      <td>724000.0</td>\n",
       "      <td>01</td>\n",
       "      <td>2.711311e+10</td>\n",
       "      <td>31570.99</td>\n",
       "      <td>21.019864</td>\n",
       "      <td>E</td>\n",
       "    </tr>\n",
       "  </tbody>\n",
       "</table>\n",
       "</div>"
      ],
      "text/plain": [
       "  state  year inventory state_fip  NPP_avg_past_4yrs  rangeland_acre   \n",
       "0    AL  2004  732000.0        01       1.980125e+10        31570.99  \\\n",
       "1    AL  2005  724000.0        01       2.711311e+10        31570.99   \n",
       "\n",
       "    herb_avg EW  \n",
       "0  21.019864  E  \n",
       "1  21.019864  E  "
      ]
     },
     "execution_count": 59,
     "metadata": {},
     "output_type": "execute_result"
    }
   ],
   "source": [
    "invent_tall_copy = pd.merge(invent_tall_copy, state_RA[[\"state_fip\", \"rangeland_acre\"]], \n",
    "                            on=[\"state_fip\"], how=\"left\")\n",
    "\n",
    "invent_tall_copy = pd.merge(invent_tall_copy, herb[[\"state_fip\", \"herb_avg\"]], \n",
    "                            on=[\"state_fip\"], how=\"left\")\n",
    "\n",
    "invent_tall_copy = pd.merge(invent_tall_copy, county_fips[[\"state_fip\", \"EW\"]], \n",
    "                             on=[\"state_fip\"], how=\"left\")\n",
    "\n",
    "invent_tall_copy.head(2)"
   ]
  },
  {
   "cell_type": "code",
   "execution_count": 60,
   "id": "14c87d9a",
   "metadata": {},
   "outputs": [
    {
     "data": {
      "text/html": [
       "<div>\n",
       "<style scoped>\n",
       "    .dataframe tbody tr th:only-of-type {\n",
       "        vertical-align: middle;\n",
       "    }\n",
       "\n",
       "    .dataframe tbody tr th {\n",
       "        vertical-align: top;\n",
       "    }\n",
       "\n",
       "    .dataframe thead th {\n",
       "        text-align: right;\n",
       "    }\n",
       "</style>\n",
       "<table border=\"1\" class=\"dataframe\">\n",
       "  <thead>\n",
       "    <tr style=\"text-align: right;\">\n",
       "      <th></th>\n",
       "      <th>state</th>\n",
       "      <th>year</th>\n",
       "      <th>inventory</th>\n",
       "      <th>state_fip</th>\n",
       "      <th>NPP_avg_past_4yrs</th>\n",
       "      <th>rangeland_acre</th>\n",
       "      <th>herb_avg</th>\n",
       "      <th>EW</th>\n",
       "      <th>EW_binary</th>\n",
       "    </tr>\n",
       "  </thead>\n",
       "  <tbody>\n",
       "    <tr>\n",
       "      <th>0</th>\n",
       "      <td>AL</td>\n",
       "      <td>2004</td>\n",
       "      <td>732000.0</td>\n",
       "      <td>01</td>\n",
       "      <td>1.980125e+10</td>\n",
       "      <td>31570.99</td>\n",
       "      <td>21.019864</td>\n",
       "      <td>E</td>\n",
       "      <td>0</td>\n",
       "    </tr>\n",
       "    <tr>\n",
       "      <th>1</th>\n",
       "      <td>AL</td>\n",
       "      <td>2005</td>\n",
       "      <td>724000.0</td>\n",
       "      <td>01</td>\n",
       "      <td>2.711311e+10</td>\n",
       "      <td>31570.99</td>\n",
       "      <td>21.019864</td>\n",
       "      <td>E</td>\n",
       "      <td>0</td>\n",
       "    </tr>\n",
       "  </tbody>\n",
       "</table>\n",
       "</div>"
      ],
      "text/plain": [
       "  state  year inventory state_fip  NPP_avg_past_4yrs  rangeland_acre   \n",
       "0    AL  2004  732000.0        01       1.980125e+10        31570.99  \\\n",
       "1    AL  2005  724000.0        01       2.711311e+10        31570.99   \n",
       "\n",
       "    herb_avg EW  EW_binary  \n",
       "0  21.019864  E          0  \n",
       "1  21.019864  E          0  "
      ]
     },
     "execution_count": 60,
     "metadata": {},
     "output_type": "execute_result"
    }
   ],
   "source": [
    "invent_tall_copy[\"EW_binary\"] = invent_tall_copy[\"EW\"].map({\"E\":0, \"W\" : 1})\n",
    "invent_tall_copy.head(2)"
   ]
  },
  {
   "cell_type": "code",
   "execution_count": 61,
   "id": "60fa5418",
   "metadata": {},
   "outputs": [
    {
     "data": {
      "text/html": [
       "<div>\n",
       "<style scoped>\n",
       "    .dataframe tbody tr th:only-of-type {\n",
       "        vertical-align: middle;\n",
       "    }\n",
       "\n",
       "    .dataframe tbody tr th {\n",
       "        vertical-align: top;\n",
       "    }\n",
       "\n",
       "    .dataframe thead th {\n",
       "        text-align: right;\n",
       "    }\n",
       "</style>\n",
       "<table border=\"1\" class=\"dataframe\">\n",
       "  <thead>\n",
       "    <tr style=\"text-align: right;\">\n",
       "      <th></th>\n",
       "      <th>state_fip</th>\n",
       "      <th>year</th>\n",
       "      <th>NPP_avg_past_4yrs</th>\n",
       "      <th>rangeland_acre</th>\n",
       "      <th>herb_avg</th>\n",
       "      <th>EW</th>\n",
       "      <th>EW_binary</th>\n",
       "      <th>inventory</th>\n",
       "    </tr>\n",
       "  </thead>\n",
       "  <tbody>\n",
       "    <tr>\n",
       "      <th>0</th>\n",
       "      <td>01</td>\n",
       "      <td>2004</td>\n",
       "      <td>1.980125e+10</td>\n",
       "      <td>31570.99</td>\n",
       "      <td>21.019864</td>\n",
       "      <td>E</td>\n",
       "      <td>0</td>\n",
       "      <td>732000.0</td>\n",
       "    </tr>\n",
       "    <tr>\n",
       "      <th>1</th>\n",
       "      <td>01</td>\n",
       "      <td>2005</td>\n",
       "      <td>2.711311e+10</td>\n",
       "      <td>31570.99</td>\n",
       "      <td>21.019864</td>\n",
       "      <td>E</td>\n",
       "      <td>0</td>\n",
       "      <td>724000.0</td>\n",
       "    </tr>\n",
       "  </tbody>\n",
       "</table>\n",
       "</div>"
      ],
      "text/plain": [
       "  state_fip  year  NPP_avg_past_4yrs  rangeland_acre   herb_avg EW  EW_binary   \n",
       "0        01  2004       1.980125e+10        31570.99  21.019864  E          0  \\\n",
       "1        01  2005       2.711311e+10        31570.99  21.019864  E          0   \n",
       "\n",
       "  inventory  \n",
       "0  732000.0  \n",
       "1  724000.0  "
      ]
     },
     "execution_count": 61,
     "metadata": {},
     "output_type": "execute_result"
    }
   ],
   "source": [
    "# Re-order the columns.\n",
    "new_order = [\"state_fip\", \"year\", \"NPP_avg_past_4yrs\", \n",
    "             \"rangeland_acre\", \"herb_avg\", \"EW\", \"EW_binary\", \"inventory\"]\n",
    "invent_tall_copy = invent_tall_copy[new_order]\n",
    "invent_tall_copy.head(2)"
   ]
  },
  {
   "cell_type": "code",
   "execution_count": 62,
   "id": "0cda87c7",
   "metadata": {},
   "outputs": [
    {
     "data": {
      "text/plain": [
       "['NPP_avg_past_4yrs', 'rangeland_acre', 'herb_avg', 'EW_binary']"
      ]
     },
     "execution_count": 62,
     "metadata": {},
     "output_type": "execute_result"
    }
   ],
   "source": [
    "indp_vars = col_3NPP + [\"rangeland_acre\", \"herb_avg\", \"EW_binary\"]\n",
    "print (f\"{yr_max = }\")\n",
    "indp_vars"
   ]
  },
  {
   "cell_type": "code",
   "execution_count": 64,
   "id": "e022c730",
   "metadata": {},
   "outputs": [],
   "source": [
    "train_df = invent_tall_copy[invent_tall_copy.year < yr_max].copy()\n",
    "test_df  = invent_tall_copy[invent_tall_copy.year == yr_max].copy()"
   ]
  },
  {
   "cell_type": "code",
   "execution_count": 65,
   "id": "2c098755",
   "metadata": {},
   "outputs": [
    {
     "name": "stdout",
     "output_type": "stream",
     "text": [
      "(464, 5)\n"
     ]
    }
   ],
   "source": [
    "train_A = train_df[indp_vars].values\n",
    "train_A = np.hstack([train_A, np.ones(len(train_A)).reshape(-1, 1)])\n",
    "print(train_A.shape)\n",
    "\n",
    "train_y = train_df[y_var].values.reshape(-1).astype(\"float\")\n",
    "train_df.head(3)"
   ]
  },
  {
   "cell_type": "code",
   "execution_count": 67,
   "id": "5e5015e6",
   "metadata": {},
   "outputs": [
    {
     "name": "stdout",
     "output_type": "stream",
     "text": [
      "['NPP_avg_past_4yrs', 'rangeland_acre', 'herb_avg', 'EW_binary']\n"
     ]
    },
    {
     "data": {
      "text/plain": [
       "array([ 1.08180723e-06,  3.39766095e-02,  2.59928116e+04, -1.80881006e+06,\n",
       "       -9.53617919e+04])"
      ]
     },
     "execution_count": 67,
     "metadata": {},
     "output_type": "execute_result"
    }
   ],
   "source": [
    "NPP_sol, NPP_RSS, _, _ = np.linalg.lstsq(train_A, train_y)\n",
    "print (indp_vars)\n",
    "NPP_sol"
   ]
  },
  {
   "cell_type": "code",
   "execution_count": 68,
   "id": "fe917ae5",
   "metadata": {},
   "outputs": [
    {
     "name": "stdout",
     "output_type": "stream",
     "text": [
      "\u001b[1mTest residuals for 4-years-NPP-Avg., RA, herb ratio, and dummy EW:\n",
      "\u001b[0;0m\n",
      "    RSS_test = 14198413999618.\n",
      "    MSE_test = 489600482745.\n",
      "    RSE =  699715.\n"
     ]
    }
   ],
   "source": [
    "test_A = test_df[indp_vars].values\n",
    "test_A = np.hstack([test_A, np.ones(len(test_A)).reshape(-1, 1)])\n",
    "y_test = test_df[[y_var]].values.reshape(-1)\n",
    "\n",
    "yhat_test = test_A @ NPP_sol\n",
    "\n",
    "NPP_test_res = y_test - yhat_test\n",
    "NPP_RSS_test = np.dot(NPP_test_res, NPP_test_res)\n",
    "NPP_MSE_test = NPP_RSS_test / len(y_test)\n",
    "NPP_RSE_test = np.sqrt(NPP_MSE_test)\n",
    "\n",
    "\n",
    "print (start_b + \"Test residuals for 4-years-NPP-Avg., RA, herb ratio, and dummy EW:\\n\" + end_b)\n",
    "print(\"    RSS_test = {0:.0f}.\".format(NPP_RSS_test))\n",
    "print(\"    MSE_test = {0:.0f}.\".format(NPP_MSE_test))\n",
    "print(\"    RSE =  {0:.0f}.\".format(NPP_RSE_test))"
   ]
  },
  {
   "cell_type": "code",
   "execution_count": null,
   "id": "59f0fa10",
   "metadata": {},
   "outputs": [],
   "source": []
  },
  {
   "cell_type": "code",
   "execution_count": null,
   "id": "4f5d7a1c",
   "metadata": {},
   "outputs": [],
   "source": []
  },
  {
   "cell_type": "code",
   "execution_count": null,
   "id": "4328234c",
   "metadata": {},
   "outputs": [],
   "source": []
  }
 ],
 "metadata": {
  "kernelspec": {
   "display_name": "Python 3 (ipykernel)",
   "language": "python",
   "name": "python3"
  },
  "language_info": {
   "codemirror_mode": {
    "name": "ipython",
    "version": 3
   },
   "file_extension": ".py",
   "mimetype": "text/x-python",
   "name": "python",
   "nbconvert_exporter": "python",
   "pygments_lexer": "ipython3",
   "version": "3.11.5"
  }
 },
 "nbformat": 4,
 "nbformat_minor": 5
}
