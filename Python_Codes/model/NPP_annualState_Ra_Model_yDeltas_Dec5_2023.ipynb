{
 "cells": [
  {
   "cell_type": "markdown",
   "id": "e9903d98",
   "metadata": {},
   "source": [
    "# Wed. 29th or Tues 28 of Nov\n",
    "\n",
    "Mike and I met in my office. Looked at annual plots of inventories.\n",
    "Then saw a big dip in annual data that will be missed on cencus data.\n",
    "So, here we model annual data.\n",
    "\n",
    "\n",
    "On Dec 5. Mike and I had a follow up and talked about the next step.\n",
    "\n",
    "- **Hypothesis** Decline in inventory from time $t$ to $t+1$ if ```NPP``` at $t$ was below average.\n",
    "\n",
    "What about lag tho? He had mentioned earlier maybe people make changes 3 years after a drought.\n",
    "\n",
    "- Annual State Level\n",
    "- Add Washington, Utah, Arizona, Nevada\n",
    "- Find some examples that inventory goes down sharply at time $t+1$ and look at NPP at time $t$.\n",
    "\n",
    "- $y-$variable should be deltas: $y_{t+1} = I_{t+1} - I_t$ where $I$ is for inventory.\n",
    "Under this scenario independent variables can be also deltas or $x_t$ corresponds to $y_{t+1}$. In this notebook\n",
    "we will go with the latter scenario.\n"
   ]
  },
  {
   "cell_type": "code",
   "execution_count": 1,
   "id": "45a57382",
   "metadata": {},
   "outputs": [],
   "source": [
    "import shutup\n",
    "\n",
    "shutup.please()\n",
    "\n",
    "import pandas as pd\n",
    "import numpy as np\n",
    "from datetime import datetime\n",
    "import os, os.path, pickle, sys\n",
    "import seaborn as sns\n",
    "\n",
    "import matplotlib\n",
    "import matplotlib.pyplot as plt\n",
    "\n",
    "sys.path.append(\"/Users/hn/Documents/00_GitHub/Rangeland/Python_Codes/\")\n",
    "import rangeland_core as rc"
   ]
  },
  {
   "cell_type": "code",
   "execution_count": 2,
   "id": "cc6c2e60",
   "metadata": {},
   "outputs": [],
   "source": [
    "data_dir_base = \"/Users/hn/Documents/01_research_data/RangeLand/Data/\"\n",
    "census_population_dir = data_dir_base + \"census/\"\n",
    "# Shannon_data_dir = data_dir_base + \"Shannon_Data/\"\n",
    "# USDA_data_dir = data_dir_base + \"/NASS_downloads/\"\n",
    "param_dir = data_dir_base + \"parameters/\"\n",
    "Min_data_base = data_dir_base + \"Min_Data/\"\n",
    "reOrganized_dir = data_dir_base + \"reOrganized/\""
   ]
  },
  {
   "cell_type": "markdown",
   "id": "c1d3f33a",
   "metadata": {},
   "source": [
    "# Read"
   ]
  },
  {
   "cell_type": "code",
   "execution_count": 3,
   "id": "7bd075ec",
   "metadata": {},
   "outputs": [],
   "source": [
    "SoI = [\n",
    "    \"Alabama\",\n",
    "    \"Arizona\",\n",
    "    \"Arkansas\",\n",
    "    \"California\",\n",
    "    \"Colorado\",\n",
    "    \"Florida\",\n",
    "    \"Georgia\",\n",
    "    \"Idaho\",\n",
    "    \"Illinois\",\n",
    "    \"Iowa\",\n",
    "    \"Kansas\",\n",
    "    \"Kentucky\",\n",
    "    \"Louisiana\",\n",
    "    \"Mississippi\",\n",
    "    \"Missouri\",\n",
    "    \"Montana\",\n",
    "    \"Nebraska\",\n",
    "    \"Nevada\",\n",
    "    \"New Mexico\",\n",
    "    \"North Dakota\",\n",
    "    \"Oklahoma\",\n",
    "    \"Oregon\",\n",
    "    \"South Dakota\",\n",
    "    \"Tennessee\",\n",
    "    \"Texas\",\n",
    "    \"Utah\",\n",
    "    \"Virginia\",\n",
    "    \"Washington\",\n",
    "    \"Wyoming\",\n",
    "]\n",
    "\n",
    "abb_dict = pd.read_pickle(param_dir + \"state_abbreviations.sav\")\n",
    "SoI_abb = []\n",
    "for x in SoI:\n",
    "    SoI_abb = SoI_abb + [abb_dict[\"full_2_abb\"][x]]"
   ]
  },
  {
   "cell_type": "code",
   "execution_count": 4,
   "id": "ebbf3023",
   "metadata": {},
   "outputs": [
    {
     "name": "stdout",
     "output_type": "stream",
     "text": [
      "29\n"
     ]
    },
    {
     "data": {
      "text/html": [
       "<div>\n",
       "<style scoped>\n",
       "    .dataframe tbody tr th:only-of-type {\n",
       "        vertical-align: middle;\n",
       "    }\n",
       "\n",
       "    .dataframe tbody tr th {\n",
       "        vertical-align: top;\n",
       "    }\n",
       "\n",
       "    .dataframe thead th {\n",
       "        text-align: right;\n",
       "    }\n",
       "</style>\n",
       "<table border=\"1\" class=\"dataframe\">\n",
       "  <thead>\n",
       "    <tr style=\"text-align: right;\">\n",
       "      <th></th>\n",
       "      <th>county_fips</th>\n",
       "      <th>county_name</th>\n",
       "      <th>fips</th>\n",
       "      <th>state</th>\n",
       "    </tr>\n",
       "  </thead>\n",
       "  <tbody>\n",
       "    <tr>\n",
       "      <th>0</th>\n",
       "      <td>01001</td>\n",
       "      <td>Autauga County</td>\n",
       "      <td>1001</td>\n",
       "      <td>AL</td>\n",
       "    </tr>\n",
       "    <tr>\n",
       "      <th>1</th>\n",
       "      <td>01003</td>\n",
       "      <td>Baldwin County</td>\n",
       "      <td>1003</td>\n",
       "      <td>AL</td>\n",
       "    </tr>\n",
       "  </tbody>\n",
       "</table>\n",
       "</div>"
      ],
      "text/plain": [
       "  county_fips     county_name  fips state\n",
       "0       01001  Autauga County  1001    AL\n",
       "1       01003  Baldwin County  1003    AL"
      ]
     },
     "execution_count": 4,
     "metadata": {},
     "output_type": "execute_result"
    }
   ],
   "source": [
    "county_id_name_fips = pd.read_csv(Min_data_base + \"county_id_name_fips.csv\")\n",
    "county_id_name_fips.rename(columns=lambda x: x.lower().replace(\" \", \"_\"), inplace=True)\n",
    "\n",
    "county_id_name_fips = county_id_name_fips[county_id_name_fips.state.isin(SoI_abb)].copy()\n",
    "\n",
    "county_id_name_fips.sort_values(by=[\"state\", \"county\"], inplace=True)\n",
    "\n",
    "county_id_name_fips = rc.correct_Mins_FIPS(df=county_id_name_fips, col_=\"county\")\n",
    "county_id_name_fips.rename(columns={\"county\": \"county_fips\"}, inplace=True)\n",
    "\n",
    "\n",
    "county_id_name_fips.reset_index(drop=True, inplace=True)\n",
    "print(len(county_id_name_fips.state.unique()))\n",
    "county_id_name_fips.head(2)"
   ]
  },
  {
   "cell_type": "code",
   "execution_count": 5,
   "id": "f3115f58",
   "metadata": {},
   "outputs": [
    {
     "data": {
      "text/html": [
       "<div>\n",
       "<style scoped>\n",
       "    .dataframe tbody tr th:only-of-type {\n",
       "        vertical-align: middle;\n",
       "    }\n",
       "\n",
       "    .dataframe tbody tr th {\n",
       "        vertical-align: top;\n",
       "    }\n",
       "\n",
       "    .dataframe thead th {\n",
       "        text-align: right;\n",
       "    }\n",
       "</style>\n",
       "<table border=\"1\" class=\"dataframe\">\n",
       "  <thead>\n",
       "    <tr style=\"text-align: right;\">\n",
       "      <th></th>\n",
       "      <th>state</th>\n",
       "      <th>state_fip</th>\n",
       "    </tr>\n",
       "  </thead>\n",
       "  <tbody>\n",
       "    <tr>\n",
       "      <th>0</th>\n",
       "      <td>AL</td>\n",
       "      <td>01</td>\n",
       "    </tr>\n",
       "    <tr>\n",
       "      <th>1</th>\n",
       "      <td>AR</td>\n",
       "      <td>05</td>\n",
       "    </tr>\n",
       "  </tbody>\n",
       "</table>\n",
       "</div>"
      ],
      "text/plain": [
       "  state state_fip\n",
       "0    AL        01\n",
       "1    AR        05"
      ]
     },
     "execution_count": 5,
     "metadata": {},
     "output_type": "execute_result"
    }
   ],
   "source": [
    "county_id_name_fips[\"state_fip\"] = county_id_name_fips.county_fips.str.slice(0, 2)\n",
    "\n",
    "county_id_name_fips = county_id_name_fips.drop(\n",
    "    columns=[\"county_name\", \"county_fips\", \"fips\"]\n",
    ")\n",
    "county_id_name_fips.drop_duplicates(inplace=True)\n",
    "county_id_name_fips.reset_index(drop=True, inplace=True)\n",
    "\n",
    "county_id_name_fips.head(2)"
   ]
  },
  {
   "cell_type": "code",
   "execution_count": 6,
   "id": "00aebda7",
   "metadata": {},
   "outputs": [
    {
     "data": {
      "text/plain": [
       "29"
      ]
     },
     "execution_count": 6,
     "metadata": {},
     "output_type": "execute_result"
    }
   ],
   "source": [
    "state_SoI_fip = county_id_name_fips.state_fip.unique()\n",
    "len(state_SoI_fip)"
   ]
  },
  {
   "cell_type": "code",
   "execution_count": 7,
   "id": "528db773",
   "metadata": {},
   "outputs": [
    {
     "name": "stdout",
     "output_type": "stream",
     "text": [
      "dict_keys(['state_herb_ratio', 'source_code', 'Author', 'Date'])\n"
     ]
    },
    {
     "data": {
      "text/html": [
       "<div>\n",
       "<style scoped>\n",
       "    .dataframe tbody tr th:only-of-type {\n",
       "        vertical-align: middle;\n",
       "    }\n",
       "\n",
       "    .dataframe tbody tr th {\n",
       "        vertical-align: top;\n",
       "    }\n",
       "\n",
       "    .dataframe thead th {\n",
       "        text-align: right;\n",
       "    }\n",
       "</style>\n",
       "<table border=\"1\" class=\"dataframe\">\n",
       "  <thead>\n",
       "    <tr style=\"text-align: right;\">\n",
       "      <th></th>\n",
       "      <th>state_fip</th>\n",
       "      <th>ag_land</th>\n",
       "      <th>pixel_count</th>\n",
       "      <th>herb_avg</th>\n",
       "      <th>herb_std</th>\n",
       "    </tr>\n",
       "  </thead>\n",
       "  <tbody>\n",
       "    <tr>\n",
       "      <th>0</th>\n",
       "      <td>01</td>\n",
       "      <td>131174048583</td>\n",
       "      <td>10874.0</td>\n",
       "      <td>21.019864</td>\n",
       "      <td>25.356867</td>\n",
       "    </tr>\n",
       "    <tr>\n",
       "      <th>2</th>\n",
       "      <td>04</td>\n",
       "      <td>294198551143</td>\n",
       "      <td>3704408.0</td>\n",
       "      <td>45.168734</td>\n",
       "      <td>17.311673</td>\n",
       "    </tr>\n",
       "    <tr>\n",
       "      <th>3</th>\n",
       "      <td>05</td>\n",
       "      <td>134768872727</td>\n",
       "      <td>24951.0</td>\n",
       "      <td>27.282554</td>\n",
       "      <td>29.379988</td>\n",
       "    </tr>\n",
       "  </tbody>\n",
       "</table>\n",
       "</div>"
      ],
      "text/plain": [
       "  state_fip       ag_land  pixel_count   herb_avg   herb_std\n",
       "0        01  131174048583      10874.0  21.019864  25.356867\n",
       "2        04  294198551143    3704408.0  45.168734  17.311673\n",
       "3        05  134768872727      24951.0  27.282554  29.379988"
      ]
     },
     "execution_count": 7,
     "metadata": {},
     "output_type": "execute_result"
    }
   ],
   "source": [
    "# herb = pd.read_csv(data_dir_base + \"Supriya/Nov30_herb/state_herb_ratio.csv\")\n",
    "# herb = rc.correct_state_int_fips_to_str(df=herb, col_=\"state_fip\")\n",
    "# herb.sort_values(by=[\"state_fip\"], inplace=True)\n",
    "herb = pd.read_pickle(data_dir_base + \"Supriya/Nov30_HerbRatio/state_herb_ratio.sav\")\n",
    "print (herb.keys())\n",
    "herb = herb[\"state_herb_ratio\"]\n",
    "herb = herb[herb.state_fip.isin(state_SoI_fip)]\n",
    "# herb.dropna(how=\"any\", inplace=True)\n",
    "herb.head(3)"
   ]
  },
  {
   "cell_type": "code",
   "execution_count": 8,
   "id": "a29399ad",
   "metadata": {},
   "outputs": [
    {
     "data": {
      "text/html": [
       "<div>\n",
       "<style scoped>\n",
       "    .dataframe tbody tr th:only-of-type {\n",
       "        vertical-align: middle;\n",
       "    }\n",
       "\n",
       "    .dataframe tbody tr th {\n",
       "        vertical-align: top;\n",
       "    }\n",
       "\n",
       "    .dataframe thead th {\n",
       "        text-align: right;\n",
       "    }\n",
       "</style>\n",
       "<table border=\"1\" class=\"dataframe\">\n",
       "  <thead>\n",
       "    <tr style=\"text-align: right;\">\n",
       "      <th></th>\n",
       "      <th>state_fip</th>\n",
       "      <th>ag_land</th>\n",
       "      <th>pixel_count</th>\n",
       "      <th>herb_avg</th>\n",
       "      <th>herb_std</th>\n",
       "    </tr>\n",
       "  </thead>\n",
       "  <tbody>\n",
       "    <tr>\n",
       "      <th>0</th>\n",
       "      <td>01</td>\n",
       "      <td>131174048583</td>\n",
       "      <td>10874.0</td>\n",
       "      <td>21.019864</td>\n",
       "      <td>25.356867</td>\n",
       "    </tr>\n",
       "    <tr>\n",
       "      <th>1</th>\n",
       "      <td>04</td>\n",
       "      <td>294198551143</td>\n",
       "      <td>3704408.0</td>\n",
       "      <td>45.168734</td>\n",
       "      <td>17.311673</td>\n",
       "    </tr>\n",
       "    <tr>\n",
       "      <th>2</th>\n",
       "      <td>05</td>\n",
       "      <td>134768872727</td>\n",
       "      <td>24951.0</td>\n",
       "      <td>27.282554</td>\n",
       "      <td>29.379988</td>\n",
       "    </tr>\n",
       "  </tbody>\n",
       "</table>\n",
       "</div>"
      ],
      "text/plain": [
       "  state_fip       ag_land  pixel_count   herb_avg   herb_std\n",
       "0        01  131174048583      10874.0  21.019864  25.356867\n",
       "1        04  294198551143    3704408.0  45.168734  17.311673\n",
       "2        05  134768872727      24951.0  27.282554  29.379988"
      ]
     },
     "execution_count": 8,
     "metadata": {},
     "output_type": "execute_result"
    }
   ],
   "source": [
    "herb.dropna(how=\"any\", inplace=True)\n",
    "herb.reset_index(drop=True, inplace=True)\n",
    "herb.head(3)"
   ]
  },
  {
   "cell_type": "code",
   "execution_count": 9,
   "id": "e8cfe770",
   "metadata": {},
   "outputs": [
    {
     "data": {
      "text/html": [
       "<div>\n",
       "<style scoped>\n",
       "    .dataframe tbody tr th:only-of-type {\n",
       "        vertical-align: middle;\n",
       "    }\n",
       "\n",
       "    .dataframe tbody tr th {\n",
       "        vertical-align: top;\n",
       "    }\n",
       "\n",
       "    .dataframe thead th {\n",
       "        text-align: right;\n",
       "    }\n",
       "</style>\n",
       "<table border=\"1\" class=\"dataframe\">\n",
       "  <thead>\n",
       "    <tr style=\"text-align: right;\">\n",
       "      <th></th>\n",
       "      <th>year</th>\n",
       "      <th>state_fip</th>\n",
       "      <th>modis_npp</th>\n",
       "    </tr>\n",
       "  </thead>\n",
       "  <tbody>\n",
       "    <tr>\n",
       "      <th>0</th>\n",
       "      <td>2001</td>\n",
       "      <td>01</td>\n",
       "      <td>0.816597</td>\n",
       "    </tr>\n",
       "    <tr>\n",
       "      <th>1</th>\n",
       "      <td>2001</td>\n",
       "      <td>04</td>\n",
       "      <td>0.115683</td>\n",
       "    </tr>\n",
       "  </tbody>\n",
       "</table>\n",
       "</div>"
      ],
      "text/plain": [
       "   year state_fip  modis_npp\n",
       "0  2001        01   0.816597\n",
       "1  2001        04   0.115683"
      ]
     },
     "execution_count": 9,
     "metadata": {},
     "output_type": "execute_result"
    }
   ],
   "source": [
    "NPP = pd.read_csv(Min_data_base + \"statefips_annual_MODIS_NPP.csv\")\n",
    "NPP.rename(columns={\"NPP\": \"modis_npp\", \"statefips90m\": \"state_fip\"}, inplace=True)\n",
    "NPP = rc.correct_3digitStateFips_Min(NPP, \"state_fip\")\n",
    "\n",
    "NPP = NPP[NPP.state_fip.isin(state_SoI_fip)]\n",
    "NPP.reset_index(drop=True, inplace=True)\n",
    "\n",
    "NPP.head(2)"
   ]
  },
  {
   "cell_type": "code",
   "execution_count": 10,
   "id": "2749cfa6",
   "metadata": {},
   "outputs": [
    {
     "data": {
      "text/html": [
       "<div>\n",
       "<style scoped>\n",
       "    .dataframe tbody tr th:only-of-type {\n",
       "        vertical-align: middle;\n",
       "    }\n",
       "\n",
       "    .dataframe tbody tr th {\n",
       "        vertical-align: top;\n",
       "    }\n",
       "\n",
       "    .dataframe thead th {\n",
       "        text-align: right;\n",
       "    }\n",
       "</style>\n",
       "<table border=\"1\" class=\"dataframe\">\n",
       "  <thead>\n",
       "    <tr style=\"text-align: right;\">\n",
       "      <th></th>\n",
       "      <th>year</th>\n",
       "      <th>state_fip</th>\n",
       "      <th>productivity</th>\n",
       "    </tr>\n",
       "  </thead>\n",
       "  <tbody>\n",
       "    <tr>\n",
       "      <th>0</th>\n",
       "      <td>1984</td>\n",
       "      <td>01</td>\n",
       "      <td>4546.68750</td>\n",
       "    </tr>\n",
       "    <tr>\n",
       "      <th>1</th>\n",
       "      <td>1984</td>\n",
       "      <td>04</td>\n",
       "      <td>476.13836</td>\n",
       "    </tr>\n",
       "  </tbody>\n",
       "</table>\n",
       "</div>"
      ],
      "text/plain": [
       "   year state_fip  productivity\n",
       "0  1984        01    4546.68750\n",
       "1  1984        04     476.13836"
      ]
     },
     "execution_count": 10,
     "metadata": {},
     "output_type": "execute_result"
    }
   ],
   "source": [
    "prod = pd.read_csv(Min_data_base + \"statefips_annual_productivity.csv\")\n",
    "prod.rename(columns={\"statefips90m\": \"state_fip\"}, inplace=True)\n",
    "prod = rc.correct_3digitStateFips_Min(prod, \"state_fip\")\n",
    "\n",
    "prod = prod[prod.state_fip.isin(state_SoI_fip)]\n",
    "prod.reset_index(drop=True, inplace=True)\n",
    "\n",
    "prod.head(2)"
   ]
  },
  {
   "cell_type": "code",
   "execution_count": 11,
   "id": "0f546d06",
   "metadata": {},
   "outputs": [
    {
     "data": {
      "text/html": [
       "<div>\n",
       "<style scoped>\n",
       "    .dataframe tbody tr th:only-of-type {\n",
       "        vertical-align: middle;\n",
       "    }\n",
       "\n",
       "    .dataframe tbody tr th {\n",
       "        vertical-align: top;\n",
       "    }\n",
       "\n",
       "    .dataframe thead th {\n",
       "        text-align: right;\n",
       "    }\n",
       "</style>\n",
       "<table border=\"1\" class=\"dataframe\">\n",
       "  <thead>\n",
       "    <tr style=\"text-align: right;\">\n",
       "      <th></th>\n",
       "      <th>state_fip</th>\n",
       "      <th>rangeland_acre</th>\n",
       "      <th>state_area_acre</th>\n",
       "    </tr>\n",
       "  </thead>\n",
       "  <tbody>\n",
       "    <tr>\n",
       "      <th>0</th>\n",
       "      <td>01</td>\n",
       "      <td>31570.99</td>\n",
       "      <td>14825637.76</td>\n",
       "    </tr>\n",
       "    <tr>\n",
       "      <th>1</th>\n",
       "      <td>04</td>\n",
       "      <td>54476918.89</td>\n",
       "      <td>72998287.36</td>\n",
       "    </tr>\n",
       "  </tbody>\n",
       "</table>\n",
       "</div>"
      ],
      "text/plain": [
       "  state_fip  rangeland_acre  state_area_acre\n",
       "0        01        31570.99      14825637.76\n",
       "1        04     54476918.89      72998287.36"
      ]
     },
     "execution_count": 11,
     "metadata": {},
     "output_type": "execute_result"
    }
   ],
   "source": [
    "# Rangeland area and Total area:\n",
    "state_RA = pd.read_pickle(reOrganized_dir + \"state_RA_area.sav\")\n",
    "state_RA = state_RA[\"state_RA_area\"]\n",
    "state_RA = state_RA[state_RA.state_fip.isin(state_SoI_fip)]\n",
    "state_RA.head(2)"
   ]
  },
  {
   "cell_type": "code",
   "execution_count": 12,
   "id": "8e5949d4",
   "metadata": {},
   "outputs": [
    {
     "name": "stdout",
     "output_type": "stream",
     "text": [
      "29\n",
      "29\n",
      "28\n",
      "29\n"
     ]
    }
   ],
   "source": [
    "print(len(NPP.state_fip.unique()))\n",
    "print(len(state_RA.state_fip.unique()))\n",
    "print(len(prod.state_fip.unique()))\n",
    "print(len(herb.state_fip.unique()))"
   ]
  },
  {
   "cell_type": "code",
   "execution_count": 13,
   "id": "2586c97e",
   "metadata": {},
   "outputs": [
    {
     "name": "stdout",
     "output_type": "stream",
     "text": [
      "['21']\n",
      "['21']\n",
      "['21']\n"
     ]
    }
   ],
   "source": [
    "print([x for x in NPP.state_fip.unique() if not (x in prod.state_fip.unique())])\n",
    "print([x for x in state_RA.state_fip.unique() if not (x in prod.state_fip.unique())])\n",
    "print([x for x in herb.state_fip.unique() if not (x in prod.state_fip.unique())])"
   ]
  },
  {
   "cell_type": "code",
   "execution_count": 14,
   "id": "96a989d7",
   "metadata": {},
   "outputs": [
    {
     "name": "stdout",
     "output_type": "stream",
     "text": [
      "[]\n",
      "[]\n",
      "[]\n"
     ]
    }
   ],
   "source": [
    "print([x for x in prod.state_fip.unique() if not (x in NPP.state_fip.unique())])\n",
    "print([x for x in prod.state_fip.unique() if not (x in state_RA.state_fip.unique())])\n",
    "print([x for x in prod.state_fip.unique() if not (x in herb.state_fip.unique())])"
   ]
  },
  {
   "cell_type": "code",
   "execution_count": 15,
   "id": "d1cf173e",
   "metadata": {},
   "outputs": [
    {
     "data": {
      "text/plain": [
       "array(['KY'], dtype=object)"
      ]
     },
     "execution_count": 15,
     "metadata": {},
     "output_type": "execute_result"
    }
   ],
   "source": [
    "county_id_name_fips[county_id_name_fips.state_fip == \"21\"].state.unique()"
   ]
  },
  {
   "cell_type": "code",
   "execution_count": 16,
   "id": "2b0abfa5",
   "metadata": {},
   "outputs": [
    {
     "name": "stdout",
     "output_type": "stream",
     "text": [
      "['10', '11', '12', '13', '14', '15']\n"
     ]
    }
   ],
   "source": [
    "prod_test = pd.read_csv(Min_data_base + \"statefips_annual_productivity.csv\")\n",
    "prod_test.statefips90m = prod_test.statefips90m.astype(str)\n",
    "prod_test[\"state_fip\"] = prod_test.statefips90m.str.slice(0, 2)\n",
    "print(sorted(prod_test.state_fip.unique()))"
   ]
  },
  {
   "cell_type": "code",
   "execution_count": 17,
   "id": "492acc8d",
   "metadata": {},
   "outputs": [
    {
     "data": {
      "text/html": [
       "<div>\n",
       "<style scoped>\n",
       "    .dataframe tbody tr th:only-of-type {\n",
       "        vertical-align: middle;\n",
       "    }\n",
       "\n",
       "    .dataframe tbody tr th {\n",
       "        vertical-align: top;\n",
       "    }\n",
       "\n",
       "    .dataframe thead th {\n",
       "        text-align: right;\n",
       "    }\n",
       "</style>\n",
       "<table border=\"1\" class=\"dataframe\">\n",
       "  <thead>\n",
       "    <tr style=\"text-align: right;\">\n",
       "      <th></th>\n",
       "      <th>state</th>\n",
       "      <th>state_fip</th>\n",
       "    </tr>\n",
       "  </thead>\n",
       "  <tbody>\n",
       "    <tr>\n",
       "      <th>23</th>\n",
       "      <td>TN</td>\n",
       "      <td>47</td>\n",
       "    </tr>\n",
       "  </tbody>\n",
       "</table>\n",
       "</div>"
      ],
      "text/plain": [
       "   state state_fip\n",
       "23    TN        47"
      ]
     },
     "execution_count": 17,
     "metadata": {},
     "output_type": "execute_result"
    }
   ],
   "source": [
    "county_id_name_fips[county_id_name_fips.state == \"TN\"] "
   ]
  },
  {
   "cell_type": "code",
   "execution_count": null,
   "id": "df58267b",
   "metadata": {},
   "outputs": [],
   "source": []
  },
  {
   "cell_type": "code",
   "execution_count": 18,
   "id": "4a4e0afe",
   "metadata": {},
   "outputs": [
    {
     "data": {
      "text/html": [
       "<div>\n",
       "<style scoped>\n",
       "    .dataframe tbody tr th:only-of-type {\n",
       "        vertical-align: middle;\n",
       "    }\n",
       "\n",
       "    .dataframe tbody tr th {\n",
       "        vertical-align: top;\n",
       "    }\n",
       "\n",
       "    .dataframe thead th {\n",
       "        text-align: right;\n",
       "    }\n",
       "</style>\n",
       "<table border=\"1\" class=\"dataframe\">\n",
       "  <thead>\n",
       "    <tr style=\"text-align: right;\">\n",
       "      <th></th>\n",
       "      <th>state_fip</th>\n",
       "      <th>rangeland_acre</th>\n",
       "      <th>state_area_acre</th>\n",
       "    </tr>\n",
       "  </thead>\n",
       "  <tbody>\n",
       "    <tr>\n",
       "      <th>0</th>\n",
       "      <td>01</td>\n",
       "      <td>31570.99</td>\n",
       "      <td>14825637.76</td>\n",
       "    </tr>\n",
       "    <tr>\n",
       "      <th>1</th>\n",
       "      <td>04</td>\n",
       "      <td>54476918.89</td>\n",
       "      <td>72998287.36</td>\n",
       "    </tr>\n",
       "  </tbody>\n",
       "</table>\n",
       "</div>"
      ],
      "text/plain": [
       "  state_fip  rangeland_acre  state_area_acre\n",
       "0        01        31570.99      14825637.76\n",
       "1        04     54476918.89      72998287.36"
      ]
     },
     "execution_count": 18,
     "metadata": {},
     "output_type": "execute_result"
    }
   ],
   "source": [
    "state_RA.head(2)"
   ]
  },
  {
   "cell_type": "code",
   "execution_count": 19,
   "id": "b2b8f427",
   "metadata": {},
   "outputs": [
    {
     "data": {
      "text/html": [
       "<div>\n",
       "<style scoped>\n",
       "    .dataframe tbody tr th:only-of-type {\n",
       "        vertical-align: middle;\n",
       "    }\n",
       "\n",
       "    .dataframe tbody tr th {\n",
       "        vertical-align: top;\n",
       "    }\n",
       "\n",
       "    .dataframe thead th {\n",
       "        text-align: right;\n",
       "    }\n",
       "</style>\n",
       "<table border=\"1\" class=\"dataframe\">\n",
       "  <thead>\n",
       "    <tr style=\"text-align: right;\">\n",
       "      <th></th>\n",
       "      <th>year</th>\n",
       "      <th>state_fip</th>\n",
       "      <th>modis_npp</th>\n",
       "      <th>rangeland_acre</th>\n",
       "      <th>state_area_acre</th>\n",
       "    </tr>\n",
       "  </thead>\n",
       "  <tbody>\n",
       "    <tr>\n",
       "      <th>0</th>\n",
       "      <td>2001</td>\n",
       "      <td>01</td>\n",
       "      <td>0.816597</td>\n",
       "      <td>31570.99</td>\n",
       "      <td>14825637.76</td>\n",
       "    </tr>\n",
       "    <tr>\n",
       "      <th>1</th>\n",
       "      <td>2001</td>\n",
       "      <td>04</td>\n",
       "      <td>0.115683</td>\n",
       "      <td>54476918.89</td>\n",
       "      <td>72998287.36</td>\n",
       "    </tr>\n",
       "  </tbody>\n",
       "</table>\n",
       "</div>"
      ],
      "text/plain": [
       "   year state_fip  modis_npp  rangeland_acre  state_area_acre\n",
       "0  2001        01   0.816597        31570.99      14825637.76\n",
       "1  2001        04   0.115683     54476918.89      72998287.36"
      ]
     },
     "execution_count": 19,
     "metadata": {},
     "output_type": "execute_result"
    }
   ],
   "source": [
    "state_NPP_Ra = pd.merge(NPP, state_RA, on=[\"state_fip\"], how=\"left\")\n",
    "state_NPP_Ra.head(2)"
   ]
  },
  {
   "cell_type": "code",
   "execution_count": 20,
   "id": "e17a5422",
   "metadata": {},
   "outputs": [
    {
     "data": {
      "text/html": [
       "<div>\n",
       "<style scoped>\n",
       "    .dataframe tbody tr th:only-of-type {\n",
       "        vertical-align: middle;\n",
       "    }\n",
       "\n",
       "    .dataframe tbody tr th {\n",
       "        vertical-align: top;\n",
       "    }\n",
       "\n",
       "    .dataframe thead th {\n",
       "        text-align: right;\n",
       "    }\n",
       "</style>\n",
       "<table border=\"1\" class=\"dataframe\">\n",
       "  <thead>\n",
       "    <tr style=\"text-align: right;\">\n",
       "      <th></th>\n",
       "      <th>year</th>\n",
       "      <th>state_fip</th>\n",
       "      <th>rangeland_acre</th>\n",
       "      <th>state_area_acre</th>\n",
       "      <th>state_rangeland_npp</th>\n",
       "    </tr>\n",
       "  </thead>\n",
       "  <tbody>\n",
       "    <tr>\n",
       "      <th>0</th>\n",
       "      <td>2001</td>\n",
       "      <td>01</td>\n",
       "      <td>31570.99</td>\n",
       "      <td>14825637.76</td>\n",
       "      <td>1.043312e+08</td>\n",
       "    </tr>\n",
       "    <tr>\n",
       "      <th>1</th>\n",
       "      <td>2001</td>\n",
       "      <td>04</td>\n",
       "      <td>54476918.89</td>\n",
       "      <td>72998287.36</td>\n",
       "      <td>2.550357e+10</td>\n",
       "    </tr>\n",
       "  </tbody>\n",
       "</table>\n",
       "</div>"
      ],
      "text/plain": [
       "   year state_fip  rangeland_acre  state_area_acre  state_rangeland_npp\n",
       "0  2001        01        31570.99      14825637.76         1.043312e+08\n",
       "1  2001        04     54476918.89      72998287.36         2.550357e+10"
      ]
     },
     "execution_count": 20,
     "metadata": {},
     "output_type": "execute_result"
    }
   ],
   "source": [
    "state_NPP_Ra = rc.covert_unitNPP_2_total(NPP_df=state_NPP_Ra, npp_col_=\"modis_npp\",\n",
    "                                         area_col_=\"rangeland_acre\", new_col_=\"state_rangeland_npp\")\n",
    "\n",
    "### Security check to not make mistake later:\n",
    "state_NPP_Ra.drop(columns=[\"modis_npp\"], inplace=True)\n",
    "state_NPP_Ra.head(2)"
   ]
  },
  {
   "cell_type": "code",
   "execution_count": 21,
   "id": "2c4d17d2",
   "metadata": {},
   "outputs": [
    {
     "data": {
      "text/html": [
       "<div>\n",
       "<style scoped>\n",
       "    .dataframe tbody tr th:only-of-type {\n",
       "        vertical-align: middle;\n",
       "    }\n",
       "\n",
       "    .dataframe tbody tr th {\n",
       "        vertical-align: top;\n",
       "    }\n",
       "\n",
       "    .dataframe thead th {\n",
       "        text-align: right;\n",
       "    }\n",
       "</style>\n",
       "<table border=\"1\" class=\"dataframe\">\n",
       "  <thead>\n",
       "    <tr style=\"text-align: right;\">\n",
       "      <th></th>\n",
       "      <th>state_fip</th>\n",
       "      <th>ag_land</th>\n",
       "      <th>pixel_count</th>\n",
       "      <th>herb_avg</th>\n",
       "      <th>herb_std</th>\n",
       "    </tr>\n",
       "  </thead>\n",
       "  <tbody>\n",
       "    <tr>\n",
       "      <th>0</th>\n",
       "      <td>01</td>\n",
       "      <td>131174048583</td>\n",
       "      <td>10874.0</td>\n",
       "      <td>21.019864</td>\n",
       "      <td>25.356867</td>\n",
       "    </tr>\n",
       "    <tr>\n",
       "      <th>1</th>\n",
       "      <td>04</td>\n",
       "      <td>294198551143</td>\n",
       "      <td>3704408.0</td>\n",
       "      <td>45.168734</td>\n",
       "      <td>17.311673</td>\n",
       "    </tr>\n",
       "  </tbody>\n",
       "</table>\n",
       "</div>"
      ],
      "text/plain": [
       "  state_fip       ag_land  pixel_count   herb_avg   herb_std\n",
       "0        01  131174048583      10874.0  21.019864  25.356867\n",
       "1        04  294198551143    3704408.0  45.168734  17.311673"
      ]
     },
     "execution_count": 21,
     "metadata": {},
     "output_type": "execute_result"
    }
   ],
   "source": [
    "herb.head(2)"
   ]
  },
  {
   "cell_type": "code",
   "execution_count": 22,
   "id": "b2afdd02",
   "metadata": {},
   "outputs": [
    {
     "data": {
      "text/html": [
       "<div>\n",
       "<style scoped>\n",
       "    .dataframe tbody tr th:only-of-type {\n",
       "        vertical-align: middle;\n",
       "    }\n",
       "\n",
       "    .dataframe tbody tr th {\n",
       "        vertical-align: top;\n",
       "    }\n",
       "\n",
       "    .dataframe thead th {\n",
       "        text-align: right;\n",
       "    }\n",
       "</style>\n",
       "<table border=\"1\" class=\"dataframe\">\n",
       "  <thead>\n",
       "    <tr style=\"text-align: right;\">\n",
       "      <th></th>\n",
       "      <th>year</th>\n",
       "      <th>state_fip</th>\n",
       "      <th>rangeland_acre</th>\n",
       "      <th>state_area_acre</th>\n",
       "      <th>state_rangeland_npp</th>\n",
       "      <th>herb_avg</th>\n",
       "    </tr>\n",
       "  </thead>\n",
       "  <tbody>\n",
       "    <tr>\n",
       "      <th>0</th>\n",
       "      <td>2001</td>\n",
       "      <td>01</td>\n",
       "      <td>31570.99</td>\n",
       "      <td>14825637.76</td>\n",
       "      <td>1.043312e+08</td>\n",
       "      <td>21.019864</td>\n",
       "    </tr>\n",
       "    <tr>\n",
       "      <th>1</th>\n",
       "      <td>2001</td>\n",
       "      <td>04</td>\n",
       "      <td>54476918.89</td>\n",
       "      <td>72998287.36</td>\n",
       "      <td>2.550357e+10</td>\n",
       "      <td>45.168734</td>\n",
       "    </tr>\n",
       "  </tbody>\n",
       "</table>\n",
       "</div>"
      ],
      "text/plain": [
       "   year state_fip  rangeland_acre  state_area_acre  state_rangeland_npp   \n",
       "0  2001        01        31570.99      14825637.76         1.043312e+08  \\\n",
       "1  2001        04     54476918.89      72998287.36         2.550357e+10   \n",
       "\n",
       "    herb_avg  \n",
       "0  21.019864  \n",
       "1  45.168734  "
      ]
     },
     "execution_count": 22,
     "metadata": {},
     "output_type": "execute_result"
    }
   ],
   "source": [
    "state_NPP_Ra_herb = pd.merge(\n",
    "    state_NPP_Ra, herb[[\"state_fip\", \"herb_avg\"]], on=[\"state_fip\"], how=\"left\"\n",
    ")\n",
    "\n",
    "state_NPP_Ra_herb.head(2)"
   ]
  },
  {
   "cell_type": "code",
   "execution_count": 23,
   "id": "7ad3ec1f",
   "metadata": {},
   "outputs": [
    {
     "name": "stdout",
     "output_type": "stream",
     "text": [
      "[2001, 2002, 2003, 2004, 2005, 2006, 2007, 2008, 2009, 2010, 2011, 2012, 2013, 2014, 2015, 2016, 2017, 2018, 2019, 2020]\n"
     ]
    }
   ],
   "source": [
    "print(sorted(state_NPP_Ra_herb.year.unique()))"
   ]
  },
  {
   "cell_type": "markdown",
   "id": "45e9e54a",
   "metadata": {},
   "source": [
    "# Read inventory deltas"
   ]
  },
  {
   "cell_type": "code",
   "execution_count": 24,
   "id": "de32d403",
   "metadata": {},
   "outputs": [
    {
     "data": {
      "text/html": [
       "<div>\n",
       "<style scoped>\n",
       "    .dataframe tbody tr th:only-of-type {\n",
       "        vertical-align: middle;\n",
       "    }\n",
       "\n",
       "    .dataframe tbody tr th {\n",
       "        vertical-align: top;\n",
       "    }\n",
       "\n",
       "    .dataframe thead th {\n",
       "        text-align: right;\n",
       "    }\n",
       "</style>\n",
       "<table border=\"1\" class=\"dataframe\">\n",
       "  <thead>\n",
       "    <tr style=\"text-align: right;\">\n",
       "      <th></th>\n",
       "      <th>state</th>\n",
       "      <th>year</th>\n",
       "      <th>inventory_delta</th>\n",
       "      <th>state_fip</th>\n",
       "    </tr>\n",
       "  </thead>\n",
       "  <tbody>\n",
       "    <tr>\n",
       "      <th>0</th>\n",
       "      <td>AL</td>\n",
       "      <td>1921-1920</td>\n",
       "      <td>3000.0</td>\n",
       "      <td>01</td>\n",
       "    </tr>\n",
       "    <tr>\n",
       "      <th>1</th>\n",
       "      <td>AL</td>\n",
       "      <td>1922-1921</td>\n",
       "      <td>2000.0</td>\n",
       "      <td>01</td>\n",
       "    </tr>\n",
       "  </tbody>\n",
       "</table>\n",
       "</div>"
      ],
      "text/plain": [
       "  state       year  inventory_delta state_fip\n",
       "0    AL  1921-1920           3000.0        01\n",
       "1    AL  1922-1921           2000.0        01"
      ]
     },
     "execution_count": 24,
     "metadata": {},
     "output_type": "execute_result"
    }
   ],
   "source": [
    "Shannon_Beef_Cows_fromCATINV_deltas = pd.read_pickle(reOrganized_dir + \"Shannon_Beef_Cows_fromCATINV_deltas.sav\")\n",
    "Shannon_CATINV_deltas = Shannon_Beef_Cows_fromCATINV_deltas[\"shannon_annual_inventory_deltas_tall\"]\n",
    "Shannon_CATINV_deltas = Shannon_CATINV_deltas[Shannon_CATINV_deltas.state_fip.isin(state_SoI_fip)]\n",
    "Shannon_CATINV_deltas.inventory_delta = Shannon_CATINV_deltas.inventory_delta.astype(np.float32)\n",
    "Shannon_CATINV_deltas.head(2)"
   ]
  },
  {
   "cell_type": "code",
   "execution_count": null,
   "id": "863de4c8",
   "metadata": {},
   "outputs": [],
   "source": []
  },
  {
   "cell_type": "code",
   "execution_count": 25,
   "id": "864be86e",
   "metadata": {},
   "outputs": [
    {
     "name": "stdout",
     "output_type": "stream",
     "text": [
      "Shannon_CATINV_deltas.shape = (2929, 4)\n",
      "Shannon_CATINV_deltas.shape = (580, 4)\n"
     ]
    },
    {
     "data": {
      "text/html": [
       "<div>\n",
       "<style scoped>\n",
       "    .dataframe tbody tr th:only-of-type {\n",
       "        vertical-align: middle;\n",
       "    }\n",
       "\n",
       "    .dataframe tbody tr th {\n",
       "        vertical-align: top;\n",
       "    }\n",
       "\n",
       "    .dataframe thead th {\n",
       "        text-align: right;\n",
       "    }\n",
       "</style>\n",
       "<table border=\"1\" class=\"dataframe\">\n",
       "  <thead>\n",
       "    <tr style=\"text-align: right;\">\n",
       "      <th></th>\n",
       "      <th>year</th>\n",
       "      <th>inventory_delta</th>\n",
       "      <th>state_fip</th>\n",
       "    </tr>\n",
       "  </thead>\n",
       "  <tbody>\n",
       "    <tr>\n",
       "      <th>0</th>\n",
       "      <td>2002-2001</td>\n",
       "      <td>13000.0</td>\n",
       "      <td>01</td>\n",
       "    </tr>\n",
       "    <tr>\n",
       "      <th>1</th>\n",
       "      <td>2003-2002</td>\n",
       "      <td>11000.0</td>\n",
       "      <td>01</td>\n",
       "    </tr>\n",
       "  </tbody>\n",
       "</table>\n",
       "</div>"
      ],
      "text/plain": [
       "        year  inventory_delta state_fip\n",
       "0  2002-2001          13000.0        01\n",
       "1  2003-2002          11000.0        01"
      ]
     },
     "execution_count": 25,
     "metadata": {},
     "output_type": "execute_result"
    }
   ],
   "source": [
    "print(f\"{Shannon_CATINV_deltas.shape = }\")\n",
    "desired_delta_years = [(str(x) + \"-\" + str(x - 1)) for x in np.arange(2002, 2022)]\n",
    "\n",
    "Shannon_CATINV_deltas = Shannon_CATINV_deltas[\n",
    "    Shannon_CATINV_deltas.year.isin(desired_delta_years)\n",
    "]\n",
    "\n",
    "Shannon_CATINV_deltas.sort_values(by=[\"state\", \"year\"], inplace=True)\n",
    "Shannon_CATINV_deltas.reset_index(drop=True, inplace=True)\n",
    "\n",
    "print(f\"{Shannon_CATINV_deltas.shape = }\")\n",
    "\n",
    "Shannon_CATINV_deltas.drop(columns=[\"state\"], inplace=True)\n",
    "Shannon_CATINV_deltas.head(2)"
   ]
  },
  {
   "cell_type": "code",
   "execution_count": 26,
   "id": "1f653c3f",
   "metadata": {},
   "outputs": [
    {
     "data": {
      "text/html": [
       "<div>\n",
       "<style scoped>\n",
       "    .dataframe tbody tr th:only-of-type {\n",
       "        vertical-align: middle;\n",
       "    }\n",
       "\n",
       "    .dataframe tbody tr th {\n",
       "        vertical-align: top;\n",
       "    }\n",
       "\n",
       "    .dataframe thead th {\n",
       "        text-align: right;\n",
       "    }\n",
       "</style>\n",
       "<table border=\"1\" class=\"dataframe\">\n",
       "  <thead>\n",
       "    <tr style=\"text-align: right;\">\n",
       "      <th></th>\n",
       "      <th>year</th>\n",
       "      <th>state_fip</th>\n",
       "      <th>rangeland_acre</th>\n",
       "      <th>state_area_acre</th>\n",
       "      <th>state_rangeland_npp</th>\n",
       "      <th>herb_avg</th>\n",
       "    </tr>\n",
       "  </thead>\n",
       "  <tbody>\n",
       "    <tr>\n",
       "      <th>0</th>\n",
       "      <td>2001</td>\n",
       "      <td>01</td>\n",
       "      <td>31570.99</td>\n",
       "      <td>14825637.76</td>\n",
       "      <td>1.043312e+08</td>\n",
       "      <td>21.019864</td>\n",
       "    </tr>\n",
       "    <tr>\n",
       "      <th>1</th>\n",
       "      <td>2001</td>\n",
       "      <td>04</td>\n",
       "      <td>54476918.89</td>\n",
       "      <td>72998287.36</td>\n",
       "      <td>2.550357e+10</td>\n",
       "      <td>45.168734</td>\n",
       "    </tr>\n",
       "  </tbody>\n",
       "</table>\n",
       "</div>"
      ],
      "text/plain": [
       "   year state_fip  rangeland_acre  state_area_acre  state_rangeland_npp   \n",
       "0  2001        01        31570.99      14825637.76         1.043312e+08  \\\n",
       "1  2001        04     54476918.89      72998287.36         2.550357e+10   \n",
       "\n",
       "    herb_avg  \n",
       "0  21.019864  \n",
       "1  45.168734  "
      ]
     },
     "execution_count": 26,
     "metadata": {},
     "output_type": "execute_result"
    }
   ],
   "source": [
    "state_NPP_Ra_herb.head(2)"
   ]
  },
  {
   "cell_type": "markdown",
   "id": "af303462",
   "metadata": {},
   "source": [
    "### Change years' labels in state_NPP_Ra_herb\n",
    "\n",
    "So that we can merge dataframes. But do not forget what you are doing."
   ]
  },
  {
   "cell_type": "code",
   "execution_count": 27,
   "id": "2b106034",
   "metadata": {},
   "outputs": [],
   "source": [
    "state_NPP_Ra_herb.year = state_NPP_Ra_herb.year.astype(str)"
   ]
  },
  {
   "cell_type": "code",
   "execution_count": 28,
   "id": "14434b0a",
   "metadata": {},
   "outputs": [],
   "source": [
    "for idx_ in state_NPP_Ra_herb.index:\n",
    "    yr = state_NPP_Ra_herb.loc[idx_, \"year\"]\n",
    "    state_NPP_Ra_herb.loc[idx_, \"year\"] = str(int(yr) + 1) + \"-\" + str(int(yr))\n",
    "\n",
    "state_NPP_Ra_herb.sort_values(by=[\"state_fip\", \"year\"], inplace=True)\n",
    "state_NPP_Ra_herb.reset_index(drop=True, inplace=True)"
   ]
  },
  {
   "cell_type": "code",
   "execution_count": 29,
   "id": "a07b6898",
   "metadata": {},
   "outputs": [
    {
     "data": {
      "text/html": [
       "<div>\n",
       "<style scoped>\n",
       "    .dataframe tbody tr th:only-of-type {\n",
       "        vertical-align: middle;\n",
       "    }\n",
       "\n",
       "    .dataframe tbody tr th {\n",
       "        vertical-align: top;\n",
       "    }\n",
       "\n",
       "    .dataframe thead th {\n",
       "        text-align: right;\n",
       "    }\n",
       "</style>\n",
       "<table border=\"1\" class=\"dataframe\">\n",
       "  <thead>\n",
       "    <tr style=\"text-align: right;\">\n",
       "      <th></th>\n",
       "      <th>year</th>\n",
       "      <th>state_fip</th>\n",
       "      <th>rangeland_acre</th>\n",
       "      <th>state_area_acre</th>\n",
       "      <th>state_rangeland_npp</th>\n",
       "      <th>herb_avg</th>\n",
       "    </tr>\n",
       "  </thead>\n",
       "  <tbody>\n",
       "    <tr>\n",
       "      <th>577</th>\n",
       "      <td>2019-2018</td>\n",
       "      <td>56</td>\n",
       "      <td>46079514.69</td>\n",
       "      <td>62480990.08</td>\n",
       "      <td>3.896260e+10</td>\n",
       "      <td>68.307845</td>\n",
       "    </tr>\n",
       "    <tr>\n",
       "      <th>578</th>\n",
       "      <td>2020-2019</td>\n",
       "      <td>56</td>\n",
       "      <td>46079514.69</td>\n",
       "      <td>62480990.08</td>\n",
       "      <td>4.418175e+10</td>\n",
       "      <td>68.307845</td>\n",
       "    </tr>\n",
       "    <tr>\n",
       "      <th>579</th>\n",
       "      <td>2021-2020</td>\n",
       "      <td>56</td>\n",
       "      <td>46079514.69</td>\n",
       "      <td>62480990.08</td>\n",
       "      <td>3.409502e+10</td>\n",
       "      <td>68.307845</td>\n",
       "    </tr>\n",
       "  </tbody>\n",
       "</table>\n",
       "</div>"
      ],
      "text/plain": [
       "          year state_fip  rangeland_acre  state_area_acre   \n",
       "577  2019-2018        56     46079514.69      62480990.08  \\\n",
       "578  2020-2019        56     46079514.69      62480990.08   \n",
       "579  2021-2020        56     46079514.69      62480990.08   \n",
       "\n",
       "     state_rangeland_npp   herb_avg  \n",
       "577         3.896260e+10  68.307845  \n",
       "578         4.418175e+10  68.307845  \n",
       "579         3.409502e+10  68.307845  "
      ]
     },
     "execution_count": 29,
     "metadata": {},
     "output_type": "execute_result"
    }
   ],
   "source": [
    "state_NPP_Ra_herb.tail(3)"
   ]
  },
  {
   "cell_type": "code",
   "execution_count": 30,
   "id": "11503ef9",
   "metadata": {},
   "outputs": [
    {
     "data": {
      "text/html": [
       "<div>\n",
       "<style scoped>\n",
       "    .dataframe tbody tr th:only-of-type {\n",
       "        vertical-align: middle;\n",
       "    }\n",
       "\n",
       "    .dataframe tbody tr th {\n",
       "        vertical-align: top;\n",
       "    }\n",
       "\n",
       "    .dataframe thead th {\n",
       "        text-align: right;\n",
       "    }\n",
       "</style>\n",
       "<table border=\"1\" class=\"dataframe\">\n",
       "  <thead>\n",
       "    <tr style=\"text-align: right;\">\n",
       "      <th></th>\n",
       "      <th>year</th>\n",
       "      <th>inventory_delta</th>\n",
       "      <th>state_fip</th>\n",
       "    </tr>\n",
       "  </thead>\n",
       "  <tbody>\n",
       "    <tr>\n",
       "      <th>577</th>\n",
       "      <td>2019-2018</td>\n",
       "      <td>0.0</td>\n",
       "      <td>56</td>\n",
       "    </tr>\n",
       "    <tr>\n",
       "      <th>578</th>\n",
       "      <td>2020-2019</td>\n",
       "      <td>10000.0</td>\n",
       "      <td>56</td>\n",
       "    </tr>\n",
       "    <tr>\n",
       "      <th>579</th>\n",
       "      <td>2021-2020</td>\n",
       "      <td>-22000.0</td>\n",
       "      <td>56</td>\n",
       "    </tr>\n",
       "  </tbody>\n",
       "</table>\n",
       "</div>"
      ],
      "text/plain": [
       "          year  inventory_delta state_fip\n",
       "577  2019-2018              0.0        56\n",
       "578  2020-2019          10000.0        56\n",
       "579  2021-2020         -22000.0        56"
      ]
     },
     "execution_count": 30,
     "metadata": {},
     "output_type": "execute_result"
    }
   ],
   "source": [
    "Shannon_CATINV_deltas.tail(3)"
   ]
  },
  {
   "cell_type": "code",
   "execution_count": 31,
   "id": "7d5ecef7",
   "metadata": {},
   "outputs": [
    {
     "data": {
      "text/html": [
       "<div>\n",
       "<style scoped>\n",
       "    .dataframe tbody tr th:only-of-type {\n",
       "        vertical-align: middle;\n",
       "    }\n",
       "\n",
       "    .dataframe tbody tr th {\n",
       "        vertical-align: top;\n",
       "    }\n",
       "\n",
       "    .dataframe thead th {\n",
       "        text-align: right;\n",
       "    }\n",
       "</style>\n",
       "<table border=\"1\" class=\"dataframe\">\n",
       "  <thead>\n",
       "    <tr style=\"text-align: right;\">\n",
       "      <th></th>\n",
       "      <th>state_fip</th>\n",
       "      <th>year</th>\n",
       "      <th>rangeland_acre</th>\n",
       "      <th>state_rangeland_npp</th>\n",
       "      <th>herb_avg</th>\n",
       "      <th>inventory_delta</th>\n",
       "    </tr>\n",
       "  </thead>\n",
       "  <tbody>\n",
       "    <tr>\n",
       "      <th>0</th>\n",
       "      <td>01</td>\n",
       "      <td>2002-2001</td>\n",
       "      <td>31570.99</td>\n",
       "      <td>1.043312e+08</td>\n",
       "      <td>21.019864</td>\n",
       "      <td>13000.0</td>\n",
       "    </tr>\n",
       "    <tr>\n",
       "      <th>1</th>\n",
       "      <td>01</td>\n",
       "      <td>2003-2002</td>\n",
       "      <td>31570.99</td>\n",
       "      <td>8.962134e+07</td>\n",
       "      <td>21.019864</td>\n",
       "      <td>11000.0</td>\n",
       "    </tr>\n",
       "  </tbody>\n",
       "</table>\n",
       "</div>"
      ],
      "text/plain": [
       "  state_fip       year  rangeland_acre  state_rangeland_npp   herb_avg   \n",
       "0        01  2002-2001        31570.99         1.043312e+08  21.019864  \\\n",
       "1        01  2003-2002        31570.99         8.962134e+07  21.019864   \n",
       "\n",
       "   inventory_delta  \n",
       "0          13000.0  \n",
       "1          11000.0  "
      ]
     },
     "execution_count": 31,
     "metadata": {},
     "output_type": "execute_result"
    }
   ],
   "source": [
    "ccc_ = [\"state_fip\", \"year\", \"rangeland_acre\", \"state_rangeland_npp\", \"herb_avg\"]\n",
    "\n",
    "state_NPP_Ra_herb_InvenDelta = pd.merge(\n",
    "    state_NPP_Ra_herb[ccc_],\n",
    "    Shannon_CATINV_deltas,\n",
    "    on=[\"state_fip\", \"year\"],\n",
    "    how=\"left\",\n",
    ")\n",
    "state_NPP_Ra_herb_InvenDelta.head(2)"
   ]
  },
  {
   "cell_type": "markdown",
   "id": "48c58587",
   "metadata": {},
   "source": [
    "### \"normalize\" NPP\n",
    "\n",
    "Let $\\mu = \\text{NPP}_{avg}$ then compute $(\\text{NPP} - \\mu) / \\mu$"
   ]
  },
  {
   "cell_type": "code",
   "execution_count": 32,
   "id": "44b08729",
   "metadata": {},
   "outputs": [
    {
     "data": {
      "text/html": [
       "<div>\n",
       "<style scoped>\n",
       "    .dataframe tbody tr th:only-of-type {\n",
       "        vertical-align: middle;\n",
       "    }\n",
       "\n",
       "    .dataframe tbody tr th {\n",
       "        vertical-align: top;\n",
       "    }\n",
       "\n",
       "    .dataframe thead th {\n",
       "        text-align: right;\n",
       "    }\n",
       "</style>\n",
       "<table border=\"1\" class=\"dataframe\">\n",
       "  <thead>\n",
       "    <tr style=\"text-align: right;\">\n",
       "      <th></th>\n",
       "      <th>state_fip</th>\n",
       "      <th>year</th>\n",
       "      <th>rangeland_acre</th>\n",
       "      <th>state_rangeland_npp</th>\n",
       "      <th>herb_avg</th>\n",
       "      <th>inventory_delta</th>\n",
       "      <th>state_normal_npp</th>\n",
       "    </tr>\n",
       "  </thead>\n",
       "  <tbody>\n",
       "    <tr>\n",
       "      <th>0</th>\n",
       "      <td>01</td>\n",
       "      <td>2002-2001</td>\n",
       "      <td>31570.99</td>\n",
       "      <td>1.043312e+08</td>\n",
       "      <td>21.019864</td>\n",
       "      <td>13000.0</td>\n",
       "      <td>-0.994999</td>\n",
       "    </tr>\n",
       "    <tr>\n",
       "      <th>1</th>\n",
       "      <td>01</td>\n",
       "      <td>2003-2002</td>\n",
       "      <td>31570.99</td>\n",
       "      <td>8.962134e+07</td>\n",
       "      <td>21.019864</td>\n",
       "      <td>11000.0</td>\n",
       "      <td>-0.995704</td>\n",
       "    </tr>\n",
       "  </tbody>\n",
       "</table>\n",
       "</div>"
      ],
      "text/plain": [
       "  state_fip       year  rangeland_acre  state_rangeland_npp   herb_avg   \n",
       "0        01  2002-2001        31570.99         1.043312e+08  21.019864  \\\n",
       "1        01  2003-2002        31570.99         8.962134e+07  21.019864   \n",
       "\n",
       "   inventory_delta  state_normal_npp  \n",
       "0          13000.0         -0.994999  \n",
       "1          11000.0         -0.995704  "
      ]
     },
     "execution_count": 32,
     "metadata": {},
     "output_type": "execute_result"
    }
   ],
   "source": [
    "npp_mean = state_NPP_Ra_herb_InvenDelta.state_rangeland_npp.mean()\n",
    "state_NPP_Ra_herb_InvenDelta[\"state_normal_npp\"] = (\n",
    "    state_NPP_Ra_herb_InvenDelta[\"state_rangeland_npp\"] - npp_mean\n",
    ") / npp_mean\n",
    "\n",
    "state_NPP_Ra_herb_InvenDelta.head(2)"
   ]
  },
  {
   "cell_type": "code",
   "execution_count": 33,
   "id": "f9ac96b7",
   "metadata": {},
   "outputs": [
    {
     "data": {
      "text/html": [
       "<div>\n",
       "<style scoped>\n",
       "    .dataframe tbody tr th:only-of-type {\n",
       "        vertical-align: middle;\n",
       "    }\n",
       "\n",
       "    .dataframe tbody tr th {\n",
       "        vertical-align: top;\n",
       "    }\n",
       "\n",
       "    .dataframe thead th {\n",
       "        text-align: right;\n",
       "    }\n",
       "</style>\n",
       "<table border=\"1\" class=\"dataframe\">\n",
       "  <thead>\n",
       "    <tr style=\"text-align: right;\">\n",
       "      <th></th>\n",
       "      <th>state_fip</th>\n",
       "      <th>year</th>\n",
       "      <th>rangeland_acre</th>\n",
       "      <th>state_rangeland_npp</th>\n",
       "      <th>herb_avg</th>\n",
       "      <th>inventory_delta</th>\n",
       "      <th>state_normal_npp</th>\n",
       "      <th>state</th>\n",
       "    </tr>\n",
       "  </thead>\n",
       "  <tbody>\n",
       "    <tr>\n",
       "      <th>0</th>\n",
       "      <td>01</td>\n",
       "      <td>2002-2001</td>\n",
       "      <td>31570.99</td>\n",
       "      <td>1.043312e+08</td>\n",
       "      <td>21.019864</td>\n",
       "      <td>13000.0</td>\n",
       "      <td>-0.994999</td>\n",
       "      <td>AL</td>\n",
       "    </tr>\n",
       "    <tr>\n",
       "      <th>1</th>\n",
       "      <td>01</td>\n",
       "      <td>2003-2002</td>\n",
       "      <td>31570.99</td>\n",
       "      <td>8.962134e+07</td>\n",
       "      <td>21.019864</td>\n",
       "      <td>11000.0</td>\n",
       "      <td>-0.995704</td>\n",
       "      <td>AL</td>\n",
       "    </tr>\n",
       "  </tbody>\n",
       "</table>\n",
       "</div>"
      ],
      "text/plain": [
       "  state_fip       year  rangeland_acre  state_rangeland_npp   herb_avg   \n",
       "0        01  2002-2001        31570.99         1.043312e+08  21.019864  \\\n",
       "1        01  2003-2002        31570.99         8.962134e+07  21.019864   \n",
       "\n",
       "   inventory_delta  state_normal_npp state  \n",
       "0          13000.0         -0.994999    AL  \n",
       "1          11000.0         -0.995704    AL  "
      ]
     },
     "execution_count": 33,
     "metadata": {},
     "output_type": "execute_result"
    }
   ],
   "source": [
    "state_NPP_Ra_herb_InvenDelta = pd.merge(state_NPP_Ra_herb_InvenDelta, county_id_name_fips,\n",
    "                                        on=[\"state_fip\"], how=\"left\")\n",
    "state_NPP_Ra_herb_InvenDelta.head(2)"
   ]
  },
  {
   "cell_type": "code",
   "execution_count": 34,
   "id": "494172c4",
   "metadata": {},
   "outputs": [
    {
     "data": {
      "text/html": [
       "<div>\n",
       "<style scoped>\n",
       "    .dataframe tbody tr th:only-of-type {\n",
       "        vertical-align: middle;\n",
       "    }\n",
       "\n",
       "    .dataframe tbody tr th {\n",
       "        vertical-align: top;\n",
       "    }\n",
       "\n",
       "    .dataframe thead th {\n",
       "        text-align: right;\n",
       "    }\n",
       "</style>\n",
       "<table border=\"1\" class=\"dataframe\">\n",
       "  <thead>\n",
       "    <tr style=\"text-align: right;\">\n",
       "      <th></th>\n",
       "      <th>state</th>\n",
       "      <th>state_fip</th>\n",
       "      <th>year</th>\n",
       "      <th>state_normal_npp</th>\n",
       "      <th>rangeland_acre</th>\n",
       "      <th>herb_avg</th>\n",
       "      <th>inventory_delta</th>\n",
       "      <th>state_rangeland_npp</th>\n",
       "    </tr>\n",
       "  </thead>\n",
       "  <tbody>\n",
       "    <tr>\n",
       "      <th>0</th>\n",
       "      <td>AL</td>\n",
       "      <td>01</td>\n",
       "      <td>2002-2001</td>\n",
       "      <td>-0.994999</td>\n",
       "      <td>31570.99</td>\n",
       "      <td>21.019864</td>\n",
       "      <td>13000.0</td>\n",
       "      <td>1.043312e+08</td>\n",
       "    </tr>\n",
       "    <tr>\n",
       "      <th>1</th>\n",
       "      <td>AL</td>\n",
       "      <td>01</td>\n",
       "      <td>2003-2002</td>\n",
       "      <td>-0.995704</td>\n",
       "      <td>31570.99</td>\n",
       "      <td>21.019864</td>\n",
       "      <td>11000.0</td>\n",
       "      <td>8.962134e+07</td>\n",
       "    </tr>\n",
       "  </tbody>\n",
       "</table>\n",
       "</div>"
      ],
      "text/plain": [
       "  state state_fip       year  state_normal_npp  rangeland_acre   herb_avg   \n",
       "0    AL        01  2002-2001         -0.994999        31570.99  21.019864  \\\n",
       "1    AL        01  2003-2002         -0.995704        31570.99  21.019864   \n",
       "\n",
       "   inventory_delta  state_rangeland_npp  \n",
       "0          13000.0         1.043312e+08  \n",
       "1          11000.0         8.962134e+07  "
      ]
     },
     "execution_count": 34,
     "metadata": {},
     "output_type": "execute_result"
    }
   ],
   "source": [
    "new_order = [\n",
    "    \"state\",\n",
    "    \"state_fip\",\n",
    "    \"year\",\n",
    "    \"state_normal_npp\",\n",
    "    \"rangeland_acre\",\n",
    "    \"herb_avg\",\n",
    "    \"inventory_delta\",\n",
    "    \"state_rangeland_npp\",\n",
    "]\n",
    "\n",
    "state_NPP_Ra_herb_InvenDelta = state_NPP_Ra_herb_InvenDelta[new_order]\n",
    "state_NPP_Ra_herb_InvenDelta.head(2)"
   ]
  },
  {
   "cell_type": "code",
   "execution_count": 35,
   "id": "8dcfe5b4",
   "metadata": {},
   "outputs": [
    {
     "data": {
      "text/plain": [
       "29"
      ]
     },
     "execution_count": 35,
     "metadata": {},
     "output_type": "execute_result"
    }
   ],
   "source": [
    "len(state_NPP_Ra_herb_InvenDelta.state.unique())"
   ]
  },
  {
   "cell_type": "code",
   "execution_count": 36,
   "id": "4b5f8463",
   "metadata": {},
   "outputs": [],
   "source": [
    "tick_legend_FontSize = 8\n",
    "\n",
    "params = {\n",
    "    \"legend.fontsize\": tick_legend_FontSize,  # medium, large\n",
    "    # 'figure.figsize': (6, 4),\n",
    "    \"axes.labelsize\": tick_legend_FontSize * 1.5,\n",
    "    \"axes.titlesize\": tick_legend_FontSize * 1.3,\n",
    "    \"xtick.labelsize\": tick_legend_FontSize * 1.1,  #  * 0.75\n",
    "    \"ytick.labelsize\": tick_legend_FontSize * 1.1,  #  * 0.75\n",
    "    \"axes.titlepad\": 10,\n",
    "}\n",
    "\n",
    "plt.rc(\"font\", family=\"Palatino\")\n",
    "plt.rcParams[\"xtick.bottom\"] = True\n",
    "plt.rcParams[\"ytick.left\"] = True\n",
    "plt.rcParams[\"xtick.labelbottom\"] = True\n",
    "plt.rcParams[\"ytick.labelleft\"] = True\n",
    "plt.rcParams.update(params)"
   ]
  },
  {
   "cell_type": "code",
   "execution_count": 37,
   "id": "b42bba7c",
   "metadata": {},
   "outputs": [
    {
     "data": {
      "image/png": "[encoded data removed]",
      "text/plain": [
       "<Figure size 800x450 with 2 Axes>"
      ]
     },
     "metadata": {},
     "output_type": "display_data"
    }
   ],
   "source": [
    "fig, axes = plt.subplots(2, 1, figsize=(8, 4.5), sharey=False, sharex=False)\n",
    "(ax1, ax2) = axes\n",
    "ax1.grid(axis=\"y\", which=\"both\")\n",
    "ax2.grid(axis=\"y\", which=\"both\")\n",
    "\n",
    "var = \"state_normal_npp\"\n",
    "sns.histplot(data=state_NPP_Ra_herb_InvenDelta[var],\n",
    "             kde=True, bins=200, color=\"darkblue\", ax=ax1)\n",
    "\n",
    "# ax1.title(\"Linear graph\")\n",
    "ax1.title.set_text(var.replace(\"_\", \" \") + \" density\")\n",
    "\n",
    "A = state_NPP_Ra_herb_InvenDelta[state_NPP_Ra_herb_InvenDelta[var] > 0]\n",
    "sns.histplot(data=A[var], kde=True, bins=200, color=\"darkblue\", ax=ax2)\n",
    "ax2.title.set_text(\"positive \" + var.replace(\"_\", \" \") + \" density\")\n",
    "\n",
    "ax1.set_xlabel(\"\")\n",
    "ax2.set_xlabel(var.replace(\"_\", \" \"))\n",
    "fig.tight_layout()"
   ]
  },
  {
   "cell_type": "code",
   "execution_count": 38,
   "id": "73903687",
   "metadata": {},
   "outputs": [
    {
     "data": {
      "text/plain": [
       "array(['AL', 'AZ', 'AR', 'FL', 'GA', 'ID', 'IL', 'IA', 'KS', 'KY', 'LA',\n",
       "       'MS', 'MO', 'ND', 'OK', 'OR', 'TN', 'UT', 'VA', 'WA'], dtype=object)"
      ]
     },
     "execution_count": 38,
     "metadata": {},
     "output_type": "execute_result"
    }
   ],
   "source": [
    "state_NPP_Ra_herb_InvenDelta[\n",
    "    state_NPP_Ra_herb_InvenDelta.state_normal_npp < 0\n",
    "].state.unique()"
   ]
  },
  {
   "cell_type": "code",
   "execution_count": 39,
   "id": "5b04cd6f",
   "metadata": {},
   "outputs": [
    {
     "data": {
      "text/plain": [
       "array(['CA', 'MT', 'NE', 'NM', 'OR', 'SD', 'TX', 'WY'], dtype=object)"
      ]
     },
     "execution_count": 39,
     "metadata": {},
     "output_type": "execute_result"
    }
   ],
   "source": [
    "state_NPP_Ra_herb_InvenDelta[\n",
    "    state_NPP_Ra_herb_InvenDelta.state_normal_npp > 1\n",
    "].state.unique()"
   ]
  },
  {
   "cell_type": "code",
   "execution_count": 40,
   "id": "4c79dee1",
   "metadata": {},
   "outputs": [
    {
     "data": {
      "image/png": "[encoded data removed]",
      "text/plain": [
       "<Figure size 800x450 with 2 Axes>"
      ]
     },
     "metadata": {},
     "output_type": "display_data"
    }
   ],
   "source": [
    "fig, axes = plt.subplots(2, 1, figsize=(8, 4.5), sharey=False, sharex=False)\n",
    "(ax1, ax2) = axes\n",
    "ax1.grid(axis=\"y\", which=\"both\")\n",
    "ax2.grid(axis=\"y\", which=\"both\")\n",
    "\n",
    "var = \"state_normal_npp\"\n",
    "sns.histplot(data=state_NPP_Ra_herb_InvenDelta[var],\n",
    "             kde=True, bins=200, color=\"darkblue\", ax=ax1)\n",
    "\n",
    "# ax1.title(\"Linear graph\")\n",
    "ax1.title.set_text(var.replace(\"_\", \" \") + \" density\")\n",
    "\n",
    "sns.histplot(data=1 / (state_NPP_Ra_herb_InvenDelta[var]),\n",
    "             kde=True, bins=200, color=\"darkblue\", ax=ax2)\n",
    "ax2.title.set_text(\"1/(\" + var.replace(\"_\", \" \") + \")\" + \" density\")\n",
    "\n",
    "ax1.set_xlabel(\"\")\n",
    "ax2.set_xlabel(var.replace(\"_\", \" \"))\n",
    "fig.tight_layout()"
   ]
  },
  {
   "cell_type": "code",
   "execution_count": 41,
   "id": "2142a5f5",
   "metadata": {},
   "outputs": [
    {
     "data": {
      "text/plain": [
       "Text(0.5, 0, 'inventory delta')"
      ]
     },
     "execution_count": 41,
     "metadata": {},
     "output_type": "execute_result"
    },
    {
     "data": {
      "image/png": "[encoded data removed]",
      "text/plain": [
       "<Figure size 1000x200 with 1 Axes>"
      ]
     },
     "metadata": {},
     "output_type": "display_data"
    }
   ],
   "source": [
    "fig, axes = plt.subplots(1, 1, figsize=(10, 2), sharey=False, sharex=False)\n",
    "axes.grid(axis=\"y\", which=\"both\")\n",
    "\n",
    "var = \"inventory_delta\"\n",
    "sns.histplot(\n",
    "    data=state_NPP_Ra_herb_InvenDelta[var],\n",
    "    kde=True,\n",
    "    bins=200,\n",
    "    color=\"darkblue\",\n",
    "    ax=axes,\n",
    ")\n",
    "axes.title.set_text(var.replace(\"_\", \" \") + \" density\")\n",
    "\n",
    "axes.set_xlabel(var.replace(\"_\", \" \"))"
   ]
  },
  {
   "cell_type": "markdown",
   "id": "4c1942fa",
   "metadata": {},
   "source": [
    "## Model"
   ]
  },
  {
   "cell_type": "code",
   "execution_count": 42,
   "id": "17090883",
   "metadata": {},
   "outputs": [
    {
     "data": {
      "text/html": [
       "<div>\n",
       "<style scoped>\n",
       "    .dataframe tbody tr th:only-of-type {\n",
       "        vertical-align: middle;\n",
       "    }\n",
       "\n",
       "    .dataframe tbody tr th {\n",
       "        vertical-align: top;\n",
       "    }\n",
       "\n",
       "    .dataframe thead th {\n",
       "        text-align: right;\n",
       "    }\n",
       "</style>\n",
       "<table border=\"1\" class=\"dataframe\">\n",
       "  <thead>\n",
       "    <tr style=\"text-align: right;\">\n",
       "      <th></th>\n",
       "      <th>state</th>\n",
       "      <th>state_fip</th>\n",
       "      <th>year</th>\n",
       "      <th>state_normal_npp</th>\n",
       "      <th>rangeland_acre</th>\n",
       "      <th>herb_avg</th>\n",
       "      <th>inventory_delta</th>\n",
       "      <th>state_rangeland_npp</th>\n",
       "    </tr>\n",
       "  </thead>\n",
       "  <tbody>\n",
       "    <tr>\n",
       "      <th>0</th>\n",
       "      <td>AL</td>\n",
       "      <td>01</td>\n",
       "      <td>2002-2001</td>\n",
       "      <td>-0.994999</td>\n",
       "      <td>31570.99</td>\n",
       "      <td>21.019864</td>\n",
       "      <td>13000.0</td>\n",
       "      <td>1.043312e+08</td>\n",
       "    </tr>\n",
       "    <tr>\n",
       "      <th>1</th>\n",
       "      <td>AL</td>\n",
       "      <td>01</td>\n",
       "      <td>2003-2002</td>\n",
       "      <td>-0.995704</td>\n",
       "      <td>31570.99</td>\n",
       "      <td>21.019864</td>\n",
       "      <td>11000.0</td>\n",
       "      <td>8.962134e+07</td>\n",
       "    </tr>\n",
       "  </tbody>\n",
       "</table>\n",
       "</div>"
      ],
      "text/plain": [
       "  state state_fip       year  state_normal_npp  rangeland_acre   herb_avg   \n",
       "0    AL        01  2002-2001         -0.994999        31570.99  21.019864  \\\n",
       "1    AL        01  2003-2002         -0.995704        31570.99  21.019864   \n",
       "\n",
       "   inventory_delta  state_rangeland_npp  \n",
       "0          13000.0         1.043312e+08  \n",
       "1          11000.0         8.962134e+07  "
      ]
     },
     "execution_count": 42,
     "metadata": {},
     "output_type": "execute_result"
    }
   ],
   "source": [
    "state_NPP_Ra_herb_InvenDelta.head(2)"
   ]
  },
  {
   "cell_type": "code",
   "execution_count": 43,
   "id": "eab89f4e",
   "metadata": {},
   "outputs": [
    {
     "name": "stdout",
     "output_type": "stream",
     "text": [
      "2002-2001\n",
      "2021-2020\n"
     ]
    }
   ],
   "source": [
    "print(state_NPP_Ra_herb_InvenDelta.year.unique().min())\n",
    "yr_max = state_NPP_Ra_herb_InvenDelta.year.unique().max()\n",
    "print(yr_max)"
   ]
  },
  {
   "cell_type": "code",
   "execution_count": 44,
   "id": "2b96a78a",
   "metadata": {},
   "outputs": [],
   "source": [
    "train_df = state_NPP_Ra_herb_InvenDelta[state_NPP_Ra_herb_InvenDelta.year < yr_max].copy()\n",
    "test_df  = state_NPP_Ra_herb_InvenDelta[state_NPP_Ra_herb_InvenDelta.year == yr_max].copy()"
   ]
  },
  {
   "cell_type": "code",
   "execution_count": 45,
   "id": "e0b19b00",
   "metadata": {},
   "outputs": [
    {
     "data": {
      "text/plain": [
       "array(['2021-2020'], dtype=object)"
      ]
     },
     "execution_count": 45,
     "metadata": {},
     "output_type": "execute_result"
    }
   ],
   "source": [
    "test_df.year.unique()"
   ]
  },
  {
   "cell_type": "code",
   "execution_count": 46,
   "id": "9c98d315",
   "metadata": {},
   "outputs": [
    {
     "data": {
      "text/plain": [
       "'2020-2019'"
      ]
     },
     "execution_count": 46,
     "metadata": {},
     "output_type": "execute_result"
    }
   ],
   "source": [
    "train_df.year.unique().max()"
   ]
  },
  {
   "cell_type": "code",
   "execution_count": 47,
   "id": "635723ca",
   "metadata": {},
   "outputs": [
    {
     "data": {
      "text/html": [
       "<div>\n",
       "<style scoped>\n",
       "    .dataframe tbody tr th:only-of-type {\n",
       "        vertical-align: middle;\n",
       "    }\n",
       "\n",
       "    .dataframe tbody tr th {\n",
       "        vertical-align: top;\n",
       "    }\n",
       "\n",
       "    .dataframe thead th {\n",
       "        text-align: right;\n",
       "    }\n",
       "</style>\n",
       "<table border=\"1\" class=\"dataframe\">\n",
       "  <thead>\n",
       "    <tr style=\"text-align: right;\">\n",
       "      <th></th>\n",
       "      <th>state</th>\n",
       "      <th>state_fip</th>\n",
       "      <th>year</th>\n",
       "      <th>state_normal_npp</th>\n",
       "      <th>rangeland_acre</th>\n",
       "      <th>herb_avg</th>\n",
       "      <th>inventory_delta</th>\n",
       "      <th>state_rangeland_npp</th>\n",
       "    </tr>\n",
       "  </thead>\n",
       "  <tbody>\n",
       "    <tr>\n",
       "      <th>0</th>\n",
       "      <td>AL</td>\n",
       "      <td>01</td>\n",
       "      <td>2002-2001</td>\n",
       "      <td>-0.994999</td>\n",
       "      <td>31570.99</td>\n",
       "      <td>21.019864</td>\n",
       "      <td>13000.0</td>\n",
       "      <td>1.043312e+08</td>\n",
       "    </tr>\n",
       "    <tr>\n",
       "      <th>1</th>\n",
       "      <td>AL</td>\n",
       "      <td>01</td>\n",
       "      <td>2003-2002</td>\n",
       "      <td>-0.995704</td>\n",
       "      <td>31570.99</td>\n",
       "      <td>21.019864</td>\n",
       "      <td>11000.0</td>\n",
       "      <td>8.962134e+07</td>\n",
       "    </tr>\n",
       "  </tbody>\n",
       "</table>\n",
       "</div>"
      ],
      "text/plain": [
       "  state state_fip       year  state_normal_npp  rangeland_acre   herb_avg   \n",
       "0    AL        01  2002-2001         -0.994999        31570.99  21.019864  \\\n",
       "1    AL        01  2003-2002         -0.995704        31570.99  21.019864   \n",
       "\n",
       "   inventory_delta  state_rangeland_npp  \n",
       "0          13000.0         1.043312e+08  \n",
       "1          11000.0         8.962134e+07  "
      ]
     },
     "execution_count": 47,
     "metadata": {},
     "output_type": "execute_result"
    }
   ],
   "source": [
    "train_df.head(2)"
   ]
  },
  {
   "cell_type": "code",
   "execution_count": 48,
   "id": "327bb941",
   "metadata": {},
   "outputs": [
    {
     "name": "stdout",
     "output_type": "stream",
     "text": [
      "(551, 4)\n"
     ]
    }
   ],
   "source": [
    "indp_vars_ = [\"state_normal_npp\", \"rangeland_acre\", \"herb_avg\"]\n",
    "train_A = train_df[indp_vars_].values\n",
    "train_A = np.hstack([train_A, np.ones(len(train_A)).reshape(-1, 1)])\n",
    "print(train_A.shape)\n",
    "\n",
    "y_var = \"inventory_delta\"\n",
    "\n",
    "train_y = train_df[y_var].values.reshape(-1).astype(\"float\")"
   ]
  },
  {
   "cell_type": "code",
   "execution_count": 49,
   "id": "323e59d0",
   "metadata": {},
   "outputs": [],
   "source": [
    "NPP_sol, NPP_RSS, NPP_rank, NPP_singular_vals = np.linalg.lstsq(train_A, train_y)"
   ]
  },
  {
   "cell_type": "code",
   "execution_count": 50,
   "id": "18b45546",
   "metadata": {},
   "outputs": [
    {
     "data": {
      "text/plain": [
       "array([ 4.60324267e+03, -4.23726139e-04,  6.87791266e+01,  1.34548650e+03])"
      ]
     },
     "execution_count": 50,
     "metadata": {},
     "output_type": "execute_result"
    }
   ],
   "source": [
    "NPP_sol"
   ]
  },
  {
   "cell_type": "code",
   "execution_count": 51,
   "id": "f4ddd3ce",
   "metadata": {},
   "outputs": [],
   "source": [
    "NPP_coef, Ra_coef, herb_coef, intercept = NPP_sol[0], NPP_sol[1], NPP_sol[2], NPP_sol[3]"
   ]
  },
  {
   "cell_type": "code",
   "execution_count": 52,
   "id": "c71cfbad",
   "metadata": {},
   "outputs": [
    {
     "data": {
      "text/plain": [
       "array([1.26953682e+12])"
      ]
     },
     "execution_count": 52,
     "metadata": {},
     "output_type": "execute_result"
    }
   ],
   "source": [
    "NPP_RSS"
   ]
  },
  {
   "cell_type": "markdown",
   "id": "4d229401",
   "metadata": {},
   "source": [
    "### Apply to test set"
   ]
  },
  {
   "cell_type": "code",
   "execution_count": 53,
   "id": "5ae09546",
   "metadata": {},
   "outputs": [],
   "source": [
    "test_A = test_df[indp_vars_].values\n",
    "test_A = np.hstack([test_A, np.ones(len(test_A)).reshape(-1, 1)])\n",
    "y_test = test_df[[y_var]].values.reshape(-1)"
   ]
  },
  {
   "cell_type": "code",
   "execution_count": 54,
   "id": "62db77a8",
   "metadata": {},
   "outputs": [],
   "source": [
    "yhat_test = test_A @ NPP_sol\n",
    "\n",
    "NPP_test_res = y_test - yhat_test\n",
    "NPP_RSS_test = np.dot(NPP_test_res, NPP_test_res)\n",
    "NPP_MSE_test = NPP_RSS_test / len(y_test)\n",
    "NPP_RSE_test = np.sqrt(NPP_MSE_test)"
   ]
  },
  {
   "cell_type": "code",
   "execution_count": 55,
   "id": "cfe6f993",
   "metadata": {},
   "outputs": [
    {
     "name": "stdout",
     "output_type": "stream",
     "text": [
      "    RSS_test = 44225582230.\n",
      "    MSE_test = 1525020077.\n",
      "    RSE =  39052.\n"
     ]
    }
   ],
   "source": [
    "print(\"    RSS_test = {0:.0f}.\".format(NPP_RSS_test))\n",
    "print(\"    MSE_test = {0:.0f}.\".format(NPP_MSE_test))\n",
    "print(\"    RSE =  {0:.0f}.\".format(NPP_RSE_test))"
   ]
  },
  {
   "cell_type": "markdown",
   "id": "fbd4ad65",
   "metadata": {},
   "source": [
    "### Transform for nomal distribution"
   ]
  },
  {
   "cell_type": "code",
   "execution_count": 56,
   "id": "6ae002d1",
   "metadata": {},
   "outputs": [
    {
     "data": {
      "text/html": [
       "<div>\n",
       "<style scoped>\n",
       "    .dataframe tbody tr th:only-of-type {\n",
       "        vertical-align: middle;\n",
       "    }\n",
       "\n",
       "    .dataframe tbody tr th {\n",
       "        vertical-align: top;\n",
       "    }\n",
       "\n",
       "    .dataframe thead th {\n",
       "        text-align: right;\n",
       "    }\n",
       "</style>\n",
       "<table border=\"1\" class=\"dataframe\">\n",
       "  <thead>\n",
       "    <tr style=\"text-align: right;\">\n",
       "      <th></th>\n",
       "      <th>state</th>\n",
       "      <th>state_fip</th>\n",
       "      <th>year</th>\n",
       "      <th>state_normal_npp</th>\n",
       "      <th>rangeland_acre</th>\n",
       "      <th>herb_avg</th>\n",
       "      <th>inventory_delta</th>\n",
       "      <th>state_rangeland_npp</th>\n",
       "    </tr>\n",
       "  </thead>\n",
       "  <tbody>\n",
       "    <tr>\n",
       "      <th>0</th>\n",
       "      <td>AL</td>\n",
       "      <td>01</td>\n",
       "      <td>2002-2001</td>\n",
       "      <td>-0.994999</td>\n",
       "      <td>31570.99</td>\n",
       "      <td>21.019864</td>\n",
       "      <td>13000.0</td>\n",
       "      <td>1.043312e+08</td>\n",
       "    </tr>\n",
       "    <tr>\n",
       "      <th>1</th>\n",
       "      <td>AL</td>\n",
       "      <td>01</td>\n",
       "      <td>2003-2002</td>\n",
       "      <td>-0.995704</td>\n",
       "      <td>31570.99</td>\n",
       "      <td>21.019864</td>\n",
       "      <td>11000.0</td>\n",
       "      <td>8.962134e+07</td>\n",
       "    </tr>\n",
       "  </tbody>\n",
       "</table>\n",
       "</div>"
      ],
      "text/plain": [
       "  state state_fip       year  state_normal_npp  rangeland_acre   herb_avg   \n",
       "0    AL        01  2002-2001         -0.994999        31570.99  21.019864  \\\n",
       "1    AL        01  2003-2002         -0.995704        31570.99  21.019864   \n",
       "\n",
       "   inventory_delta  state_rangeland_npp  \n",
       "0          13000.0         1.043312e+08  \n",
       "1          11000.0         8.962134e+07  "
      ]
     },
     "execution_count": 56,
     "metadata": {},
     "output_type": "execute_result"
    }
   ],
   "source": [
    "state_NPP_Ra_herb_InvenDelta.head(2)"
   ]
  },
  {
   "cell_type": "code",
   "execution_count": 57,
   "id": "5e3496ed",
   "metadata": {},
   "outputs": [
    {
     "data": {
      "text/html": [
       "<div>\n",
       "<style scoped>\n",
       "    .dataframe tbody tr th:only-of-type {\n",
       "        vertical-align: middle;\n",
       "    }\n",
       "\n",
       "    .dataframe tbody tr th {\n",
       "        vertical-align: top;\n",
       "    }\n",
       "\n",
       "    .dataframe thead th {\n",
       "        text-align: right;\n",
       "    }\n",
       "</style>\n",
       "<table border=\"1\" class=\"dataframe\">\n",
       "  <thead>\n",
       "    <tr style=\"text-align: right;\">\n",
       "      <th></th>\n",
       "      <th>state</th>\n",
       "      <th>state_fip</th>\n",
       "      <th>year</th>\n",
       "      <th>state_normal_npp</th>\n",
       "      <th>rangeland_acre</th>\n",
       "      <th>herb_avg</th>\n",
       "      <th>inventory_delta</th>\n",
       "      <th>state_rangeland_npp</th>\n",
       "      <th>inverse_state_normal_npp</th>\n",
       "    </tr>\n",
       "  </thead>\n",
       "  <tbody>\n",
       "    <tr>\n",
       "      <th>0</th>\n",
       "      <td>AL</td>\n",
       "      <td>01</td>\n",
       "      <td>2002-2001</td>\n",
       "      <td>-0.994999</td>\n",
       "      <td>31570.99</td>\n",
       "      <td>21.019864</td>\n",
       "      <td>13000.0</td>\n",
       "      <td>1.043312e+08</td>\n",
       "      <td>-1.005026</td>\n",
       "    </tr>\n",
       "    <tr>\n",
       "      <th>1</th>\n",
       "      <td>AL</td>\n",
       "      <td>01</td>\n",
       "      <td>2003-2002</td>\n",
       "      <td>-0.995704</td>\n",
       "      <td>31570.99</td>\n",
       "      <td>21.019864</td>\n",
       "      <td>11000.0</td>\n",
       "      <td>8.962134e+07</td>\n",
       "      <td>-1.004314</td>\n",
       "    </tr>\n",
       "  </tbody>\n",
       "</table>\n",
       "</div>"
      ],
      "text/plain": [
       "  state state_fip       year  state_normal_npp  rangeland_acre   herb_avg   \n",
       "0    AL        01  2002-2001         -0.994999        31570.99  21.019864  \\\n",
       "1    AL        01  2003-2002         -0.995704        31570.99  21.019864   \n",
       "\n",
       "   inventory_delta  state_rangeland_npp  inverse_state_normal_npp  \n",
       "0          13000.0         1.043312e+08                 -1.005026  \n",
       "1          11000.0         8.962134e+07                 -1.004314  "
      ]
     },
     "execution_count": 57,
     "metadata": {},
     "output_type": "execute_result"
    }
   ],
   "source": [
    "state_NPP_Ra_herb_InvenDelta[\"inverse_state_normal_npp\"] = (1 / state_NPP_Ra_herb_InvenDelta[\"state_normal_npp\"])\n",
    "state_NPP_Ra_herb_InvenDelta.head(2)"
   ]
  },
  {
   "cell_type": "code",
   "execution_count": 58,
   "id": "031ab4f1",
   "metadata": {},
   "outputs": [
    {
     "name": "stdout",
     "output_type": "stream",
     "text": [
      "-498.76\n",
      "441.41\n"
     ]
    }
   ],
   "source": [
    "print(state_NPP_Ra_herb_InvenDelta.inverse_state_normal_npp.min().round(2))\n",
    "print(state_NPP_Ra_herb_InvenDelta.inverse_state_normal_npp.max().round(2))"
   ]
  },
  {
   "cell_type": "code",
   "execution_count": 59,
   "id": "ab72676f",
   "metadata": {},
   "outputs": [
    {
     "name": "stdout",
     "output_type": "stream",
     "text": [
      "1533.41\n",
      "87907165.91\n"
     ]
    }
   ],
   "source": [
    "print(state_NPP_Ra_herb_InvenDelta.rangeland_acre.min())\n",
    "print(state_NPP_Ra_herb_InvenDelta.rangeland_acre.max())"
   ]
  },
  {
   "cell_type": "code",
   "execution_count": 60,
   "id": "b71f6c99",
   "metadata": {},
   "outputs": [
    {
     "data": {
      "image/png": "[encoded data removed]",
      "text/plain": [
       "<Figure size 800x450 with 2 Axes>"
      ]
     },
     "metadata": {},
     "output_type": "display_data"
    }
   ],
   "source": [
    "fig, axes = plt.subplots(2, 1, figsize=(8, 4.5), sharey=False, sharex=False)\n",
    "(ax1, ax2) = axes\n",
    "ax1.grid(axis=\"y\", which=\"both\")\n",
    "ax2.grid(axis=\"y\", which=\"both\")\n",
    "\n",
    "var = \"rangeland_acre\"\n",
    "sns.histplot(\n",
    "    data=state_NPP_Ra_herb_InvenDelta[var],\n",
    "    kde=True,\n",
    "    bins=200,\n",
    "    color=\"darkblue\",\n",
    "    ax=ax1,\n",
    ")\n",
    "\n",
    "# ax1.title(\"Linear graph\")\n",
    "ax1.title.set_text(var.replace(\"_\", \" \") + \" density\")\n",
    "\n",
    "sns.histplot(\n",
    "    data=np.log10(state_NPP_Ra_herb_InvenDelta[var]),\n",
    "    kde=True,\n",
    "    bins=200,\n",
    "    color=\"darkblue\",\n",
    "    ax=ax2,\n",
    ")\n",
    "ax2.title.set_text(\"log10(\" + var.replace(\"_\", \" \") + \")\" + \" density\")\n",
    "\n",
    "ax1.set_xlabel(\"\")\n",
    "ax2.set_xlabel(var.replace(\"_\", \" \"))\n",
    "fig.tight_layout()"
   ]
  },
  {
   "cell_type": "code",
   "execution_count": 61,
   "id": "8dfcee4b",
   "metadata": {},
   "outputs": [
    {
     "data": {
      "text/html": [
       "<div>\n",
       "<style scoped>\n",
       "    .dataframe tbody tr th:only-of-type {\n",
       "        vertical-align: middle;\n",
       "    }\n",
       "\n",
       "    .dataframe tbody tr th {\n",
       "        vertical-align: top;\n",
       "    }\n",
       "\n",
       "    .dataframe thead th {\n",
       "        text-align: right;\n",
       "    }\n",
       "</style>\n",
       "<table border=\"1\" class=\"dataframe\">\n",
       "  <thead>\n",
       "    <tr style=\"text-align: right;\">\n",
       "      <th></th>\n",
       "      <th>state</th>\n",
       "      <th>state_fip</th>\n",
       "      <th>year</th>\n",
       "      <th>state_normal_npp</th>\n",
       "      <th>rangeland_acre</th>\n",
       "      <th>herb_avg</th>\n",
       "      <th>inventory_delta</th>\n",
       "      <th>state_rangeland_npp</th>\n",
       "      <th>inverse_state_normal_npp</th>\n",
       "      <th>log_rangeland_acre</th>\n",
       "    </tr>\n",
       "  </thead>\n",
       "  <tbody>\n",
       "    <tr>\n",
       "      <th>0</th>\n",
       "      <td>AL</td>\n",
       "      <td>01</td>\n",
       "      <td>2002-2001</td>\n",
       "      <td>-0.994999</td>\n",
       "      <td>31570.99</td>\n",
       "      <td>21.019864</td>\n",
       "      <td>13000.0</td>\n",
       "      <td>1.043312e+08</td>\n",
       "      <td>-1.005026</td>\n",
       "      <td>4.499288</td>\n",
       "    </tr>\n",
       "    <tr>\n",
       "      <th>1</th>\n",
       "      <td>AL</td>\n",
       "      <td>01</td>\n",
       "      <td>2003-2002</td>\n",
       "      <td>-0.995704</td>\n",
       "      <td>31570.99</td>\n",
       "      <td>21.019864</td>\n",
       "      <td>11000.0</td>\n",
       "      <td>8.962134e+07</td>\n",
       "      <td>-1.004314</td>\n",
       "      <td>4.499288</td>\n",
       "    </tr>\n",
       "  </tbody>\n",
       "</table>\n",
       "</div>"
      ],
      "text/plain": [
       "  state state_fip       year  state_normal_npp  rangeland_acre   herb_avg   \n",
       "0    AL        01  2002-2001         -0.994999        31570.99  21.019864  \\\n",
       "1    AL        01  2003-2002         -0.995704        31570.99  21.019864   \n",
       "\n",
       "   inventory_delta  state_rangeland_npp  inverse_state_normal_npp   \n",
       "0          13000.0         1.043312e+08                 -1.005026  \\\n",
       "1          11000.0         8.962134e+07                 -1.004314   \n",
       "\n",
       "   log_rangeland_acre  \n",
       "0            4.499288  \n",
       "1            4.499288  "
      ]
     },
     "execution_count": 61,
     "metadata": {},
     "output_type": "execute_result"
    }
   ],
   "source": [
    "state_NPP_Ra_herb_InvenDelta[\"log_rangeland_acre\"] = np.log10(state_NPP_Ra_herb_InvenDelta[\"rangeland_acre\"])\n",
    "state_NPP_Ra_herb_InvenDelta.head(2)"
   ]
  },
  {
   "cell_type": "code",
   "execution_count": 62,
   "id": "c7676955",
   "metadata": {},
   "outputs": [
    {
     "name": "stdout",
     "output_type": "stream",
     "text": [
      "3.19\n",
      "7.94\n",
      "\n",
      "-498.76\n",
      "441.41\n",
      "\n",
      "20.24\n",
      "93.94\n",
      "\n",
      "-410000.0\n",
      "220000.0\n"
     ]
    }
   ],
   "source": [
    "print(state_NPP_Ra_herb_InvenDelta.log_rangeland_acre.min().round(2))\n",
    "print(state_NPP_Ra_herb_InvenDelta.log_rangeland_acre.max().round(2))\n",
    "print ()\n",
    "print(state_NPP_Ra_herb_InvenDelta.inverse_state_normal_npp.min().round(2))\n",
    "print(state_NPP_Ra_herb_InvenDelta.inverse_state_normal_npp.max().round(2))\n",
    "\n",
    "print ()\n",
    "print(state_NPP_Ra_herb_InvenDelta.herb_avg.min().round(2))\n",
    "print(state_NPP_Ra_herb_InvenDelta.herb_avg.max().round(2))\n",
    "print ()\n",
    "print(state_NPP_Ra_herb_InvenDelta.inventory_delta.min().round(2))\n",
    "print(state_NPP_Ra_herb_InvenDelta.inventory_delta.max().round(2))"
   ]
  },
  {
   "cell_type": "markdown",
   "id": "9115876c",
   "metadata": {},
   "source": [
    "# Normalize other columns as well?\n",
    "\n",
    " - inventory delta loos like long tail normal. No transformation. Just normalize for scale purposes."
   ]
  },
  {
   "cell_type": "code",
   "execution_count": 63,
   "id": "82485446",
   "metadata": {},
   "outputs": [
    {
     "data": {
      "text/html": [
       "<div>\n",
       "<style scoped>\n",
       "    .dataframe tbody tr th:only-of-type {\n",
       "        vertical-align: middle;\n",
       "    }\n",
       "\n",
       "    .dataframe tbody tr th {\n",
       "        vertical-align: top;\n",
       "    }\n",
       "\n",
       "    .dataframe thead th {\n",
       "        text-align: right;\n",
       "    }\n",
       "</style>\n",
       "<table border=\"1\" class=\"dataframe\">\n",
       "  <thead>\n",
       "    <tr style=\"text-align: right;\">\n",
       "      <th></th>\n",
       "      <th>state</th>\n",
       "      <th>state_fip</th>\n",
       "      <th>year</th>\n",
       "      <th>state_normal_npp</th>\n",
       "      <th>rangeland_acre</th>\n",
       "      <th>herb_avg</th>\n",
       "      <th>inventory_delta</th>\n",
       "      <th>state_rangeland_npp</th>\n",
       "      <th>inverse_state_normal_npp</th>\n",
       "      <th>log_rangeland_acre</th>\n",
       "    </tr>\n",
       "  </thead>\n",
       "  <tbody>\n",
       "    <tr>\n",
       "      <th>0</th>\n",
       "      <td>AL</td>\n",
       "      <td>01</td>\n",
       "      <td>2002-2001</td>\n",
       "      <td>-0.994999</td>\n",
       "      <td>31570.99</td>\n",
       "      <td>21.019864</td>\n",
       "      <td>13000.0</td>\n",
       "      <td>1.043312e+08</td>\n",
       "      <td>-1.005026</td>\n",
       "      <td>4.499288</td>\n",
       "    </tr>\n",
       "    <tr>\n",
       "      <th>1</th>\n",
       "      <td>AL</td>\n",
       "      <td>01</td>\n",
       "      <td>2003-2002</td>\n",
       "      <td>-0.995704</td>\n",
       "      <td>31570.99</td>\n",
       "      <td>21.019864</td>\n",
       "      <td>11000.0</td>\n",
       "      <td>8.962134e+07</td>\n",
       "      <td>-1.004314</td>\n",
       "      <td>4.499288</td>\n",
       "    </tr>\n",
       "  </tbody>\n",
       "</table>\n",
       "</div>"
      ],
      "text/plain": [
       "  state state_fip       year  state_normal_npp  rangeland_acre   herb_avg   \n",
       "0    AL        01  2002-2001         -0.994999        31570.99  21.019864  \\\n",
       "1    AL        01  2003-2002         -0.995704        31570.99  21.019864   \n",
       "\n",
       "   inventory_delta  state_rangeland_npp  inverse_state_normal_npp   \n",
       "0          13000.0         1.043312e+08                 -1.005026  \\\n",
       "1          11000.0         8.962134e+07                 -1.004314   \n",
       "\n",
       "   log_rangeland_acre  \n",
       "0            4.499288  \n",
       "1            4.499288  "
      ]
     },
     "execution_count": 63,
     "metadata": {},
     "output_type": "execute_result"
    }
   ],
   "source": [
    "state_NPP_Ra_herb_InvenDelta.head(2)"
   ]
  },
  {
   "cell_type": "code",
   "execution_count": 64,
   "id": "bb7dc3d4",
   "metadata": {},
   "outputs": [
    {
     "data": {
      "text/html": [
       "<div>\n",
       "<style scoped>\n",
       "    .dataframe tbody tr th:only-of-type {\n",
       "        vertical-align: middle;\n",
       "    }\n",
       "\n",
       "    .dataframe tbody tr th {\n",
       "        vertical-align: top;\n",
       "    }\n",
       "\n",
       "    .dataframe thead th {\n",
       "        text-align: right;\n",
       "    }\n",
       "</style>\n",
       "<table border=\"1\" class=\"dataframe\">\n",
       "  <thead>\n",
       "    <tr style=\"text-align: right;\">\n",
       "      <th></th>\n",
       "      <th>state</th>\n",
       "      <th>state_fip</th>\n",
       "      <th>year</th>\n",
       "      <th>state_normal_npp</th>\n",
       "      <th>rangeland_acre</th>\n",
       "      <th>herb_avg</th>\n",
       "      <th>inventory_delta</th>\n",
       "      <th>state_rangeland_npp</th>\n",
       "      <th>inverse_state_normal_npp</th>\n",
       "      <th>log_rangeland_acre</th>\n",
       "      <th>normal_inventory_delta</th>\n",
       "    </tr>\n",
       "  </thead>\n",
       "  <tbody>\n",
       "    <tr>\n",
       "      <th>0</th>\n",
       "      <td>AL</td>\n",
       "      <td>01</td>\n",
       "      <td>2002-2001</td>\n",
       "      <td>-0.994999</td>\n",
       "      <td>31570.99</td>\n",
       "      <td>21.019864</td>\n",
       "      <td>13000.0</td>\n",
       "      <td>1.043312e+08</td>\n",
       "      <td>-1.005026</td>\n",
       "      <td>4.499288</td>\n",
       "      <td>-4.375112</td>\n",
       "    </tr>\n",
       "    <tr>\n",
       "      <th>1</th>\n",
       "      <td>AL</td>\n",
       "      <td>01</td>\n",
       "      <td>2003-2002</td>\n",
       "      <td>-0.995704</td>\n",
       "      <td>31570.99</td>\n",
       "      <td>21.019864</td>\n",
       "      <td>11000.0</td>\n",
       "      <td>8.962134e+07</td>\n",
       "      <td>-1.004314</td>\n",
       "      <td>4.499288</td>\n",
       "      <td>-3.855864</td>\n",
       "    </tr>\n",
       "  </tbody>\n",
       "</table>\n",
       "</div>"
      ],
      "text/plain": [
       "  state state_fip       year  state_normal_npp  rangeland_acre   herb_avg   \n",
       "0    AL        01  2002-2001         -0.994999        31570.99  21.019864  \\\n",
       "1    AL        01  2003-2002         -0.995704        31570.99  21.019864   \n",
       "\n",
       "   inventory_delta  state_rangeland_npp  inverse_state_normal_npp   \n",
       "0          13000.0         1.043312e+08                 -1.005026  \\\n",
       "1          11000.0         8.962134e+07                 -1.004314   \n",
       "\n",
       "   log_rangeland_acre  normal_inventory_delta  \n",
       "0            4.499288               -4.375112  \n",
       "1            4.499288               -3.855864  "
      ]
     },
     "execution_count": 64,
     "metadata": {},
     "output_type": "execute_result"
    }
   ],
   "source": [
    "inv_delta_mean = state_NPP_Ra_herb_InvenDelta[\"inventory_delta\"].mean()\n",
    "state_NPP_Ra_herb_InvenDelta[\"normal_inventory_delta\"] = (\n",
    "    state_NPP_Ra_herb_InvenDelta[\"inventory_delta\"] - inv_delta_mean\n",
    ") / inv_delta_mean\n",
    "\n",
    "state_NPP_Ra_herb_InvenDelta.head(2)"
   ]
  },
  {
   "cell_type": "code",
   "execution_count": 65,
   "id": "e54c791c",
   "metadata": {},
   "outputs": [
    {
     "name": "stdout",
     "output_type": "stream",
     "text": [
      "-410000.0\n",
      "220000.0\n",
      "-58.11728\n",
      "105.44584\n"
     ]
    }
   ],
   "source": [
    "print(state_NPP_Ra_herb_InvenDelta.inventory_delta.min())\n",
    "print(state_NPP_Ra_herb_InvenDelta.inventory_delta.max())\n",
    "\n",
    "print(state_NPP_Ra_herb_InvenDelta.normal_inventory_delta.min())\n",
    "print(state_NPP_Ra_herb_InvenDelta.normal_inventory_delta.max())"
   ]
  },
  {
   "cell_type": "code",
   "execution_count": 66,
   "id": "16c94f53",
   "metadata": {},
   "outputs": [
    {
     "data": {
      "text/html": [
       "<div>\n",
       "<style scoped>\n",
       "    .dataframe tbody tr th:only-of-type {\n",
       "        vertical-align: middle;\n",
       "    }\n",
       "\n",
       "    .dataframe tbody tr th {\n",
       "        vertical-align: top;\n",
       "    }\n",
       "\n",
       "    .dataframe thead th {\n",
       "        text-align: right;\n",
       "    }\n",
       "</style>\n",
       "<table border=\"1\" class=\"dataframe\">\n",
       "  <thead>\n",
       "    <tr style=\"text-align: right;\">\n",
       "      <th></th>\n",
       "      <th>state</th>\n",
       "      <th>state_fip</th>\n",
       "      <th>year</th>\n",
       "      <th>state_normal_npp</th>\n",
       "      <th>rangeland_acre</th>\n",
       "      <th>herb_avg</th>\n",
       "      <th>inventory_delta</th>\n",
       "      <th>state_rangeland_npp</th>\n",
       "      <th>inverse_state_normal_npp</th>\n",
       "      <th>log_rangeland_acre</th>\n",
       "      <th>normal_inventory_delta</th>\n",
       "      <th>normal_RA</th>\n",
       "    </tr>\n",
       "  </thead>\n",
       "  <tbody>\n",
       "    <tr>\n",
       "      <th>0</th>\n",
       "      <td>AL</td>\n",
       "      <td>01</td>\n",
       "      <td>2002-2001</td>\n",
       "      <td>-0.994999</td>\n",
       "      <td>31570.99</td>\n",
       "      <td>21.019864</td>\n",
       "      <td>13000.0</td>\n",
       "      <td>1.043312e+08</td>\n",
       "      <td>-1.005026</td>\n",
       "      <td>4.499288</td>\n",
       "      <td>-4.375112</td>\n",
       "      <td>-0.998495</td>\n",
       "    </tr>\n",
       "    <tr>\n",
       "      <th>1</th>\n",
       "      <td>AL</td>\n",
       "      <td>01</td>\n",
       "      <td>2003-2002</td>\n",
       "      <td>-0.995704</td>\n",
       "      <td>31570.99</td>\n",
       "      <td>21.019864</td>\n",
       "      <td>11000.0</td>\n",
       "      <td>8.962134e+07</td>\n",
       "      <td>-1.004314</td>\n",
       "      <td>4.499288</td>\n",
       "      <td>-3.855864</td>\n",
       "      <td>-0.998495</td>\n",
       "    </tr>\n",
       "  </tbody>\n",
       "</table>\n",
       "</div>"
      ],
      "text/plain": [
       "  state state_fip       year  state_normal_npp  rangeland_acre   herb_avg   \n",
       "0    AL        01  2002-2001         -0.994999        31570.99  21.019864  \\\n",
       "1    AL        01  2003-2002         -0.995704        31570.99  21.019864   \n",
       "\n",
       "   inventory_delta  state_rangeland_npp  inverse_state_normal_npp   \n",
       "0          13000.0         1.043312e+08                 -1.005026  \\\n",
       "1          11000.0         8.962134e+07                 -1.004314   \n",
       "\n",
       "   log_rangeland_acre  normal_inventory_delta  normal_RA  \n",
       "0            4.499288               -4.375112  -0.998495  \n",
       "1            4.499288               -3.855864  -0.998495  "
      ]
     },
     "execution_count": 66,
     "metadata": {},
     "output_type": "execute_result"
    }
   ],
   "source": [
    "RA_mean = state_NPP_Ra_herb_InvenDelta[\"rangeland_acre\"].mean()\n",
    "state_NPP_Ra_herb_InvenDelta[\"normal_RA\"] = (state_NPP_Ra_herb_InvenDelta[\"rangeland_acre\"] - RA_mean) / RA_mean\n",
    "state_NPP_Ra_herb_InvenDelta.head(2)"
   ]
  },
  {
   "cell_type": "code",
   "execution_count": 67,
   "id": "8e109cb3",
   "metadata": {},
   "outputs": [],
   "source": [
    "state_NPP_Ra_herb_InvenDelta.drop(columns=[\"normal_RA\"], inplace=True)"
   ]
  },
  {
   "cell_type": "code",
   "execution_count": 68,
   "id": "bfd23eed",
   "metadata": {},
   "outputs": [
    {
     "data": {
      "text/html": [
       "<div>\n",
       "<style scoped>\n",
       "    .dataframe tbody tr th:only-of-type {\n",
       "        vertical-align: middle;\n",
       "    }\n",
       "\n",
       "    .dataframe tbody tr th {\n",
       "        vertical-align: top;\n",
       "    }\n",
       "\n",
       "    .dataframe thead th {\n",
       "        text-align: right;\n",
       "    }\n",
       "</style>\n",
       "<table border=\"1\" class=\"dataframe\">\n",
       "  <thead>\n",
       "    <tr style=\"text-align: right;\">\n",
       "      <th></th>\n",
       "      <th>state</th>\n",
       "      <th>state_fip</th>\n",
       "      <th>year</th>\n",
       "      <th>state_normal_npp</th>\n",
       "      <th>rangeland_acre</th>\n",
       "      <th>herb_avg</th>\n",
       "      <th>inventory_delta</th>\n",
       "      <th>state_rangeland_npp</th>\n",
       "      <th>inverse_state_normal_npp</th>\n",
       "      <th>log_rangeland_acre</th>\n",
       "      <th>normal_inventory_delta</th>\n",
       "    </tr>\n",
       "  </thead>\n",
       "  <tbody>\n",
       "    <tr>\n",
       "      <th>0</th>\n",
       "      <td>AL</td>\n",
       "      <td>01</td>\n",
       "      <td>2002-2001</td>\n",
       "      <td>-0.994999</td>\n",
       "      <td>31570.99</td>\n",
       "      <td>21.019864</td>\n",
       "      <td>13000.0</td>\n",
       "      <td>1.043312e+08</td>\n",
       "      <td>-1.005026</td>\n",
       "      <td>4.499288</td>\n",
       "      <td>-4.375112</td>\n",
       "    </tr>\n",
       "    <tr>\n",
       "      <th>1</th>\n",
       "      <td>AL</td>\n",
       "      <td>01</td>\n",
       "      <td>2003-2002</td>\n",
       "      <td>-0.995704</td>\n",
       "      <td>31570.99</td>\n",
       "      <td>21.019864</td>\n",
       "      <td>11000.0</td>\n",
       "      <td>8.962134e+07</td>\n",
       "      <td>-1.004314</td>\n",
       "      <td>4.499288</td>\n",
       "      <td>-3.855864</td>\n",
       "    </tr>\n",
       "  </tbody>\n",
       "</table>\n",
       "</div>"
      ],
      "text/plain": [
       "  state state_fip       year  state_normal_npp  rangeland_acre   herb_avg   \n",
       "0    AL        01  2002-2001         -0.994999        31570.99  21.019864  \\\n",
       "1    AL        01  2003-2002         -0.995704        31570.99  21.019864   \n",
       "\n",
       "   inventory_delta  state_rangeland_npp  inverse_state_normal_npp   \n",
       "0          13000.0         1.043312e+08                 -1.005026  \\\n",
       "1          11000.0         8.962134e+07                 -1.004314   \n",
       "\n",
       "   log_rangeland_acre  normal_inventory_delta  \n",
       "0            4.499288               -4.375112  \n",
       "1            4.499288               -3.855864  "
      ]
     },
     "execution_count": 68,
     "metadata": {},
     "output_type": "execute_result"
    }
   ],
   "source": [
    "state_NPP_Ra_herb_InvenDelta.head(2)"
   ]
  },
  {
   "cell_type": "code",
   "execution_count": 69,
   "id": "5cee6dd3",
   "metadata": {},
   "outputs": [
    {
     "name": "stdout",
     "output_type": "stream",
     "text": [
      "state_normal_npp\n",
      "-1.0\n",
      "5.82\n",
      "\n",
      "inverse_state_normal_npp\n",
      "-498.76\n",
      "441.41\n",
      "\n",
      "log_rangeland_acre\n",
      "3.19\n",
      "7.94\n",
      "\n",
      "herb_avg\n",
      "20.24\n",
      "93.94\n",
      "\n",
      "inventory_delta\n",
      "-410000.0\n",
      "220000.0\n",
      "\n",
      "normal_inventory_delta\n",
      "-58.12\n",
      "105.45\n"
     ]
    }
   ],
   "source": [
    "print(\"state_normal_npp\")\n",
    "print(state_NPP_Ra_herb_InvenDelta.state_normal_npp.min().round(2))\n",
    "print(state_NPP_Ra_herb_InvenDelta.state_normal_npp.max().round(2))\n",
    "print()\n",
    "print(\"inverse_state_normal_npp\")\n",
    "print(state_NPP_Ra_herb_InvenDelta.inverse_state_normal_npp.min().round(2))\n",
    "print(state_NPP_Ra_herb_InvenDelta.inverse_state_normal_npp.max().round(2))\n",
    "print()\n",
    "print(\"log_rangeland_acre\")\n",
    "print(state_NPP_Ra_herb_InvenDelta.log_rangeland_acre.min().round(2))\n",
    "print(state_NPP_Ra_herb_InvenDelta.log_rangeland_acre.max().round(2))\n",
    "print()\n",
    "print(\"herb_avg\")\n",
    "print(state_NPP_Ra_herb_InvenDelta.herb_avg.min().round(2))\n",
    "print(state_NPP_Ra_herb_InvenDelta.herb_avg.max().round(2))\n",
    "print()\n",
    "print(\"inventory_delta\")\n",
    "print(state_NPP_Ra_herb_InvenDelta.inventory_delta.min().round(2))\n",
    "print(state_NPP_Ra_herb_InvenDelta.inventory_delta.max().round(2))\n",
    "print()\n",
    "print(\"normal_inventory_delta\")\n",
    "print(state_NPP_Ra_herb_InvenDelta.normal_inventory_delta.min().round(2))\n",
    "print(state_NPP_Ra_herb_InvenDelta.normal_inventory_delta.max().round(2))"
   ]
  },
  {
   "cell_type": "code",
   "execution_count": 70,
   "id": "bab8f473",
   "metadata": {},
   "outputs": [
    {
     "name": "stdout",
     "output_type": "stream",
     "text": [
      "0.09\n",
      "0.89\n"
     ]
    }
   ],
   "source": [
    "print(NPP.modis_npp.min().round(2))\n",
    "print(NPP.modis_npp.max().round(2))"
   ]
  },
  {
   "cell_type": "markdown",
   "id": "7f6aae7b",
   "metadata": {},
   "source": [
    "## New Model\n",
    "\n",
    "Before we did\n",
    "\n",
    "```indp_vars_ = [\"normal_npp\", \"rangeland_acre\", \"herb_avg\"]```\n",
    "\n",
    "**Now**\n",
    "\n",
    "```indp_vars_ = [\"normal_npp\", \"log_rangeland_acre\", \"herb_avg\"]```"
   ]
  },
  {
   "cell_type": "code",
   "execution_count": 71,
   "id": "f86ff65b",
   "metadata": {},
   "outputs": [],
   "source": [
    "train_df = state_NPP_Ra_herb_InvenDelta[\n",
    "    state_NPP_Ra_herb_InvenDelta.year < yr_max\n",
    "].copy()\n",
    "test_df = state_NPP_Ra_herb_InvenDelta[\n",
    "    state_NPP_Ra_herb_InvenDelta.year == yr_max\n",
    "].copy()"
   ]
  },
  {
   "cell_type": "code",
   "execution_count": 72,
   "id": "29d0c577",
   "metadata": {},
   "outputs": [
    {
     "name": "stdout",
     "output_type": "stream",
     "text": [
      "(551, 4)\n"
     ]
    }
   ],
   "source": [
    "indp_vars_ = [\"state_normal_npp\", \"log_rangeland_acre\", \"herb_avg\"]\n",
    "\n",
    "train_A = train_df[indp_vars_].values\n",
    "train_A = np.hstack([train_A, np.ones(len(train_A)).reshape(-1, 1)])\n",
    "print(train_A.shape)\n",
    "\n",
    "y_var = \"inventory_delta\"\n",
    "\n",
    "train_y = train_df[y_var].values.reshape(-1).astype(\"float\")"
   ]
  },
  {
   "cell_type": "code",
   "execution_count": 73,
   "id": "e9b46f76",
   "metadata": {},
   "outputs": [],
   "source": [
    "NPP_sol, NPP_RSS, NPP_rank, NPP_singular_vals = np.linalg.lstsq(train_A, train_y)"
   ]
  },
  {
   "cell_type": "markdown",
   "id": "be595e28",
   "metadata": {},
   "source": [
    "### Apply to test set"
   ]
  },
  {
   "cell_type": "code",
   "execution_count": 74,
   "id": "1db55c41",
   "metadata": {},
   "outputs": [],
   "source": [
    "test_A = test_df[indp_vars_].values\n",
    "test_A = np.hstack([test_A, np.ones(len(test_A)).reshape(-1, 1)])\n",
    "y_test = test_df[[y_var]].values.reshape(-1)"
   ]
  },
  {
   "cell_type": "code",
   "execution_count": 75,
   "id": "c5fa8fbb",
   "metadata": {
    "lines_to_next_cell": 2
   },
   "outputs": [],
   "source": [
    "yhat_test = test_A @ NPP_sol"
   ]
  },
  {
   "cell_type": "code",
   "execution_count": 76,
   "id": "437507e4",
   "metadata": {},
   "outputs": [
    {
     "name": "stdout",
     "output_type": "stream",
     "text": [
      "    RSS_test = 45584832704.\n",
      "    MSE_test = 1571890783.\n",
      "    RSE =  39647.\n"
     ]
    }
   ],
   "source": [
    "NPP_test_res = y_test - yhat_test\n",
    "NPP_RSS_test = np.dot(NPP_test_res, NPP_test_res)\n",
    "NPP_MSE_test = NPP_RSS_test / len(y_test)\n",
    "NPP_RSE_test = np.sqrt(NPP_MSE_test)\n",
    "\n",
    "print(\"    RSS_test = {0:.0f}.\".format(NPP_RSS_test))\n",
    "print(\"    MSE_test = {0:.0f}.\".format(NPP_MSE_test))\n",
    "print(\"    RSE =  {0:.0f}.\".format(NPP_RSE_test))"
   ]
  },
  {
   "cell_type": "code",
   "execution_count": 77,
   "id": "a2e98eae",
   "metadata": {},
   "outputs": [
    {
     "name": "stdout",
     "output_type": "stream",
     "text": [
      "-1.0\n",
      "5.82\n"
     ]
    }
   ],
   "source": [
    "print(state_NPP_Ra_herb_InvenDelta.state_normal_npp.min().round(2))\n",
    "print(state_NPP_Ra_herb_InvenDelta.state_normal_npp.max().round(2))"
   ]
  },
  {
   "cell_type": "code",
   "execution_count": 78,
   "id": "6b5f0ab7",
   "metadata": {},
   "outputs": [
    {
     "data": {
      "text/html": [
       "<div>\n",
       "<style scoped>\n",
       "    .dataframe tbody tr th:only-of-type {\n",
       "        vertical-align: middle;\n",
       "    }\n",
       "\n",
       "    .dataframe tbody tr th {\n",
       "        vertical-align: top;\n",
       "    }\n",
       "\n",
       "    .dataframe thead th {\n",
       "        text-align: right;\n",
       "    }\n",
       "</style>\n",
       "<table border=\"1\" class=\"dataframe\">\n",
       "  <thead>\n",
       "    <tr style=\"text-align: right;\">\n",
       "      <th></th>\n",
       "      <th>state</th>\n",
       "      <th>state_fip</th>\n",
       "      <th>year</th>\n",
       "      <th>state_normal_npp</th>\n",
       "      <th>rangeland_acre</th>\n",
       "      <th>herb_avg</th>\n",
       "      <th>inventory_delta</th>\n",
       "      <th>state_rangeland_npp</th>\n",
       "      <th>inverse_state_normal_npp</th>\n",
       "      <th>log_rangeland_acre</th>\n",
       "      <th>normal_inventory_delta</th>\n",
       "    </tr>\n",
       "  </thead>\n",
       "  <tbody>\n",
       "    <tr>\n",
       "      <th>0</th>\n",
       "      <td>AL</td>\n",
       "      <td>01</td>\n",
       "      <td>2002-2001</td>\n",
       "      <td>-0.994999</td>\n",
       "      <td>31570.99</td>\n",
       "      <td>21.019864</td>\n",
       "      <td>13000.0</td>\n",
       "      <td>1.043312e+08</td>\n",
       "      <td>-1.005026</td>\n",
       "      <td>4.499288</td>\n",
       "      <td>-4.375112</td>\n",
       "    </tr>\n",
       "    <tr>\n",
       "      <th>1</th>\n",
       "      <td>AL</td>\n",
       "      <td>01</td>\n",
       "      <td>2003-2002</td>\n",
       "      <td>-0.995704</td>\n",
       "      <td>31570.99</td>\n",
       "      <td>21.019864</td>\n",
       "      <td>11000.0</td>\n",
       "      <td>8.962134e+07</td>\n",
       "      <td>-1.004314</td>\n",
       "      <td>4.499288</td>\n",
       "      <td>-3.855864</td>\n",
       "    </tr>\n",
       "  </tbody>\n",
       "</table>\n",
       "</div>"
      ],
      "text/plain": [
       "  state state_fip       year  state_normal_npp  rangeland_acre   herb_avg   \n",
       "0    AL        01  2002-2001         -0.994999        31570.99  21.019864  \\\n",
       "1    AL        01  2003-2002         -0.995704        31570.99  21.019864   \n",
       "\n",
       "   inventory_delta  state_rangeland_npp  inverse_state_normal_npp   \n",
       "0          13000.0         1.043312e+08                 -1.005026  \\\n",
       "1          11000.0         8.962134e+07                 -1.004314   \n",
       "\n",
       "   log_rangeland_acre  normal_inventory_delta  \n",
       "0            4.499288               -4.375112  \n",
       "1            4.499288               -3.855864  "
      ]
     },
     "execution_count": 78,
     "metadata": {},
     "output_type": "execute_result"
    }
   ],
   "source": [
    "state_NPP_Ra_herb_InvenDelta.head(2)"
   ]
  },
  {
   "cell_type": "code",
   "execution_count": null,
   "id": "30b932cf",
   "metadata": {},
   "outputs": [],
   "source": []
  },
  {
   "cell_type": "code",
   "execution_count": null,
   "id": "2fc13205",
   "metadata": {},
   "outputs": [],
   "source": []
  }
 ],
 "metadata": {
  "kernelspec": {
   "display_name": "Python 3 (ipykernel)",
   "language": "python",
   "name": "python3"
  },
  "language_info": {
   "codemirror_mode": {
    "name": "ipython",
    "version": 3
   },
   "file_extension": ".py",
   "mimetype": "text/x-python",
   "name": "python",
   "nbconvert_exporter": "python",
   "pygments_lexer": "ipython3",
   "version": "3.11.5"
  }
 },
 "nbformat": 4,
 "nbformat_minor": 5
}
