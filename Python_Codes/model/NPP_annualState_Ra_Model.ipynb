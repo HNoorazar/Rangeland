{
 "cells": [
  {
   "cell_type": "markdown",
   "id": "e9903d98",
   "metadata": {},
   "source": [
    "# Wed. 29th or Tues 28 of Nov\n",
    "\n",
    "Mike and I met in my office. Looked at annual plots of inventories.\n",
    "Then saw a big dip in annual data that will be missed on cencus data.\n",
    "So, here we model annual data"
   ]
  },
  {
   "cell_type": "code",
   "execution_count": 1,
   "id": "45a57382",
   "metadata": {},
   "outputs": [],
   "source": [
    "import shutup\n",
    "shutup.please()\n",
    "\n",
    "import pandas as pd\n",
    "import numpy as np\n",
    "from datetime import datetime\n",
    "import os, os.path, pickle, sys\n",
    "import seaborn as sns\n",
    "\n",
    "import matplotlib\n",
    "import matplotlib.pyplot as plt\n",
    "\n",
    "sys.path.append(\"/Users/hn/Documents/00_GitHub/Rangeland/Python_Codes/\")\n",
    "import rangeland_core as rc"
   ]
  },
  {
   "cell_type": "code",
   "execution_count": 2,
   "id": "cc6c2e60",
   "metadata": {},
   "outputs": [],
   "source": [
    "data_dir_base = \"/Users/hn/Documents/01_research_data/RangeLand/Data/\"\n",
    "census_population_dir = data_dir_base + \"census/\"\n",
    "# Shannon_data_dir = data_dir_base + \"Shannon_Data/\"\n",
    "# USDA_data_dir = data_dir_base + \"/NASS_downloads/\"\n",
    "param_dir = data_dir_base + \"parameters/\"\n",
    "Min_data_base = data_dir_base + \"Min_Data/\"\n",
    "reOrganized_dir = data_dir_base + \"reOrganized/\""
   ]
  },
  {
   "cell_type": "markdown",
   "id": "c1d3f33a",
   "metadata": {},
   "source": [
    "# Read"
   ]
  },
  {
   "cell_type": "code",
   "execution_count": 3,
   "id": "7bd075ec",
   "metadata": {},
   "outputs": [],
   "source": [
    "SoI = [\"Alabama\", \"Arkansas\", \"California\", \n",
    "       \"Colorado\", \"Florida\", \"Georgia\", \n",
    "       \"Idaho\", \"Illinois\", \"Iowa\", \n",
    "       \"Kansas\", \"Kentucky\", \"Louisiana\", \n",
    "       \"Mississippi\", \"Missouri\", \"Montana\", \n",
    "       \"Nebraska\", \"New Mexico\", \"North Dakota\", \n",
    "       \"Oklahoma\", \"Oregon\", \"South Dakota\", \n",
    "       \"Tennessee\", \"Texas\", \"Virginia\", \n",
    "       \"Wyoming\"]\n",
    "\n",
    "abb_dict = pd.read_pickle(param_dir + \"state_abbreviations.sav\")\n",
    "SoI_abb = []\n",
    "for x in SoI:\n",
    "    SoI_abb = SoI_abb + [abb_dict[\"full_2_abb\"][x]]"
   ]
  },
  {
   "cell_type": "code",
   "execution_count": 4,
   "id": "ebbf3023",
   "metadata": {},
   "outputs": [
    {
     "name": "stdout",
     "output_type": "stream",
     "text": [
      "25\n"
     ]
    },
    {
     "data": {
      "text/html": [
       "<div>\n",
       "<style scoped>\n",
       "    .dataframe tbody tr th:only-of-type {\n",
       "        vertical-align: middle;\n",
       "    }\n",
       "\n",
       "    .dataframe tbody tr th {\n",
       "        vertical-align: top;\n",
       "    }\n",
       "\n",
       "    .dataframe thead th {\n",
       "        text-align: right;\n",
       "    }\n",
       "</style>\n",
       "<table border=\"1\" class=\"dataframe\">\n",
       "  <thead>\n",
       "    <tr style=\"text-align: right;\">\n",
       "      <th></th>\n",
       "      <th>county_fips</th>\n",
       "      <th>county_name</th>\n",
       "      <th>fips</th>\n",
       "      <th>state</th>\n",
       "    </tr>\n",
       "  </thead>\n",
       "  <tbody>\n",
       "    <tr>\n",
       "      <th>0</th>\n",
       "      <td>01001</td>\n",
       "      <td>Autauga County</td>\n",
       "      <td>1001</td>\n",
       "      <td>AL</td>\n",
       "    </tr>\n",
       "    <tr>\n",
       "      <th>1</th>\n",
       "      <td>01003</td>\n",
       "      <td>Baldwin County</td>\n",
       "      <td>1003</td>\n",
       "      <td>AL</td>\n",
       "    </tr>\n",
       "  </tbody>\n",
       "</table>\n",
       "</div>"
      ],
      "text/plain": [
       "  county_fips     county_name  fips state\n",
       "0       01001  Autauga County  1001    AL\n",
       "1       01003  Baldwin County  1003    AL"
      ]
     },
     "execution_count": 4,
     "metadata": {},
     "output_type": "execute_result"
    }
   ],
   "source": [
    "county_id_name_fips = pd.read_csv(Min_data_base + \"county_id_name_fips.csv\")\n",
    "county_id_name_fips.rename(columns=lambda x: x.lower().replace(' ', '_'), inplace=True)\n",
    "\n",
    "county_id_name_fips = county_id_name_fips[county_id_name_fips.state.isin(SoI_abb)].copy()\n",
    "\n",
    "county_id_name_fips.sort_values(by=[\"state\", \"county\"], inplace=True)\n",
    "\n",
    "county_id_name_fips = rc.correct_Mins_FIPS(df=county_id_name_fips, col_=\"county\")\n",
    "county_id_name_fips.rename(columns={\"county\": \"county_fips\"}, inplace=True)\n",
    "\n",
    "county_id_name_fips.reset_index(drop=True, inplace=True)\n",
    "print (len(county_id_name_fips.state.unique()))\n",
    "county_id_name_fips.head(2)"
   ]
  },
  {
   "cell_type": "code",
   "execution_count": 5,
   "id": "f3115f58",
   "metadata": {},
   "outputs": [
    {
     "data": {
      "text/html": [
       "<div>\n",
       "<style scoped>\n",
       "    .dataframe tbody tr th:only-of-type {\n",
       "        vertical-align: middle;\n",
       "    }\n",
       "\n",
       "    .dataframe tbody tr th {\n",
       "        vertical-align: top;\n",
       "    }\n",
       "\n",
       "    .dataframe thead th {\n",
       "        text-align: right;\n",
       "    }\n",
       "</style>\n",
       "<table border=\"1\" class=\"dataframe\">\n",
       "  <thead>\n",
       "    <tr style=\"text-align: right;\">\n",
       "      <th></th>\n",
       "      <th>county_fips</th>\n",
       "      <th>county_name</th>\n",
       "      <th>fips</th>\n",
       "      <th>state</th>\n",
       "      <th>state_fip</th>\n",
       "    </tr>\n",
       "  </thead>\n",
       "  <tbody>\n",
       "    <tr>\n",
       "      <th>0</th>\n",
       "      <td>01001</td>\n",
       "      <td>Autauga County</td>\n",
       "      <td>1001</td>\n",
       "      <td>AL</td>\n",
       "      <td>01</td>\n",
       "    </tr>\n",
       "    <tr>\n",
       "      <th>1</th>\n",
       "      <td>01003</td>\n",
       "      <td>Baldwin County</td>\n",
       "      <td>1003</td>\n",
       "      <td>AL</td>\n",
       "      <td>01</td>\n",
       "    </tr>\n",
       "  </tbody>\n",
       "</table>\n",
       "</div>"
      ],
      "text/plain": [
       "  county_fips     county_name  fips state state_fip\n",
       "0       01001  Autauga County  1001    AL        01\n",
       "1       01003  Baldwin County  1003    AL        01"
      ]
     },
     "execution_count": 5,
     "metadata": {},
     "output_type": "execute_result"
    }
   ],
   "source": [
    "county_id_name_fips[\"state_fip\"] = county_id_name_fips.county_fips.str.slice(0, 2)\n",
    "county_id_name_fips.head(2)"
   ]
  },
  {
   "cell_type": "code",
   "execution_count": null,
   "id": "653087ae",
   "metadata": {},
   "outputs": [],
   "source": []
  },
  {
   "cell_type": "code",
   "execution_count": 6,
   "id": "528db773",
   "metadata": {},
   "outputs": [
    {
     "data": {
      "text/html": [
       "<div>\n",
       "<style scoped>\n",
       "    .dataframe tbody tr th:only-of-type {\n",
       "        vertical-align: middle;\n",
       "    }\n",
       "\n",
       "    .dataframe tbody tr th {\n",
       "        vertical-align: top;\n",
       "    }\n",
       "\n",
       "    .dataframe thead th {\n",
       "        text-align: right;\n",
       "    }\n",
       "</style>\n",
       "<table border=\"1\" class=\"dataframe\">\n",
       "  <thead>\n",
       "    <tr style=\"text-align: right;\">\n",
       "      <th></th>\n",
       "      <th>county_fips</th>\n",
       "      <th>herb_avg</th>\n",
       "      <th>herb_std</th>\n",
       "      <th>pixel_count</th>\n",
       "    </tr>\n",
       "  </thead>\n",
       "  <tbody>\n",
       "    <tr>\n",
       "      <th>0</th>\n",
       "      <td>21007</td>\n",
       "      <td>28.000000</td>\n",
       "      <td>15.000000</td>\n",
       "      <td>2.0</td>\n",
       "    </tr>\n",
       "    <tr>\n",
       "      <th>2</th>\n",
       "      <td>21031</td>\n",
       "      <td>19.666667</td>\n",
       "      <td>11.440668</td>\n",
       "      <td>3.0</td>\n",
       "    </tr>\n",
       "  </tbody>\n",
       "</table>\n",
       "</div>"
      ],
      "text/plain": [
       "  county_fips   herb_avg   herb_std  pixel_count\n",
       "0       21007  28.000000  15.000000          2.0\n",
       "2       21031  19.666667  11.440668          3.0"
      ]
     },
     "execution_count": 6,
     "metadata": {},
     "output_type": "execute_result"
    }
   ],
   "source": [
    "herbRatio = pd.read_csv(data_dir_base + \"Supriya/Nov30_HerbRatio/herbRatio.csv\")\n",
    "herbRatio.dropna(how=\"any\", inplace=True)\n",
    "herbRatio = rc.correct_4digitFips(df=herbRatio, col_=\"county_fips\")\n",
    "herbRatio.head(2)"
   ]
  },
  {
   "cell_type": "code",
   "execution_count": 15,
   "id": "e8cfe770",
   "metadata": {},
   "outputs": [
    {
     "data": {
      "text/html": [
       "<div>\n",
       "<style scoped>\n",
       "    .dataframe tbody tr th:only-of-type {\n",
       "        vertical-align: middle;\n",
       "    }\n",
       "\n",
       "    .dataframe tbody tr th {\n",
       "        vertical-align: top;\n",
       "    }\n",
       "\n",
       "    .dataframe thead th {\n",
       "        text-align: right;\n",
       "    }\n",
       "</style>\n",
       "<table border=\"1\" class=\"dataframe\">\n",
       "  <thead>\n",
       "    <tr style=\"text-align: right;\">\n",
       "      <th></th>\n",
       "      <th>year</th>\n",
       "      <th>state_fip</th>\n",
       "      <th>modis_npp</th>\n",
       "    </tr>\n",
       "  </thead>\n",
       "  <tbody>\n",
       "    <tr>\n",
       "      <th>0</th>\n",
       "      <td>2001</td>\n",
       "      <td>01</td>\n",
       "      <td>0.816597</td>\n",
       "    </tr>\n",
       "    <tr>\n",
       "      <th>1</th>\n",
       "      <td>2001</td>\n",
       "      <td>05</td>\n",
       "      <td>0.659446</td>\n",
       "    </tr>\n",
       "  </tbody>\n",
       "</table>\n",
       "</div>"
      ],
      "text/plain": [
       "   year state_fip  modis_npp\n",
       "0  2001        01   0.816597\n",
       "1  2001        05   0.659446"
      ]
     },
     "execution_count": 15,
     "metadata": {},
     "output_type": "execute_result"
    }
   ],
   "source": [
    "NPP = pd.read_csv(Min_data_base + \"statefips_annual_MODIS_NPP.csv\")\n",
    "NPP.rename(columns={\"NPP\": \"modis_npp\",\n",
    "                    \"statefips90m\": \"state_fip\"}, \n",
    "           inplace=True)\n",
    "NPP = rc.correct_3digitStateFips_Min(NPP, \"state_fip\")\n",
    "\n",
    "NPP = NPP[NPP.state_fip.isin(county_id_name_fips.state_fip)]\n",
    "NPP.reset_index(drop=True, inplace=True)\n",
    "\n",
    "NPP.head(2)"
   ]
  },
  {
   "cell_type": "code",
   "execution_count": 8,
   "id": "0f546d06",
   "metadata": {},
   "outputs": [
    {
     "name": "stdout",
     "output_type": "stream",
     "text": [
      "number of counties are 2379.\n",
      "(2379, 4)\n"
     ]
    },
    {
     "data": {
      "text/html": [
       "<div>\n",
       "<style scoped>\n",
       "    .dataframe tbody tr th:only-of-type {\n",
       "        vertical-align: middle;\n",
       "    }\n",
       "\n",
       "    .dataframe tbody tr th {\n",
       "        vertical-align: top;\n",
       "    }\n",
       "\n",
       "    .dataframe thead th {\n",
       "        text-align: right;\n",
       "    }\n",
       "</style>\n",
       "<table border=\"1\" class=\"dataframe\">\n",
       "  <thead>\n",
       "    <tr style=\"text-align: right;\">\n",
       "      <th></th>\n",
       "      <th>county_fips</th>\n",
       "      <th>rangeland_acre</th>\n",
       "      <th>county_area_acre</th>\n",
       "      <th>rangeland_fraction</th>\n",
       "    </tr>\n",
       "  </thead>\n",
       "  <tbody>\n",
       "    <tr>\n",
       "      <th>0</th>\n",
       "      <td>01003</td>\n",
       "      <td>13037.43</td>\n",
       "      <td>1060302.72</td>\n",
       "      <td>0.010000</td>\n",
       "    </tr>\n",
       "    <tr>\n",
       "      <th>1</th>\n",
       "      <td>01005</td>\n",
       "      <td>18.23</td>\n",
       "      <td>575781.12</td>\n",
       "      <td>0.000032</td>\n",
       "    </tr>\n",
       "  </tbody>\n",
       "</table>\n",
       "</div>"
      ],
      "text/plain": [
       "  county_fips  rangeland_acre  county_area_acre  rangeland_fraction\n",
       "0       01003        13037.43        1060302.72            0.010000\n",
       "1       01005           18.23         575781.12            0.000032"
      ]
     },
     "execution_count": 8,
     "metadata": {},
     "output_type": "execute_result"
    }
   ],
   "source": [
    "# Rangeland area and Total area:\n",
    "county_RA_and_TA_fraction = pd.read_csv(reOrganized_dir + \"county_rangeland_and_totalarea_fraction.csv\")\n",
    "county_RA_and_TA_fraction.rename(columns={\"fips_id\": \"county_fips\"}, inplace=True)\n",
    "\n",
    "county_RA_and_TA_fraction = rc.correct_Mins_FIPS(df=county_RA_and_TA_fraction, col_=\"county_fips\")\n",
    "L = len(county_RA_and_TA_fraction.county_fips.unique())\n",
    "print (\"number of counties are {}.\".format(L))\n",
    "print (county_RA_and_TA_fraction.shape)\n",
    "county_RA_and_TA_fraction.head(2)"
   ]
  },
  {
   "cell_type": "code",
   "execution_count": 9,
   "id": "79228061",
   "metadata": {},
   "outputs": [
    {
     "data": {
      "text/html": [
       "<div>\n",
       "<style scoped>\n",
       "    .dataframe tbody tr th:only-of-type {\n",
       "        vertical-align: middle;\n",
       "    }\n",
       "\n",
       "    .dataframe tbody tr th {\n",
       "        vertical-align: top;\n",
       "    }\n",
       "\n",
       "    .dataframe thead th {\n",
       "        text-align: right;\n",
       "    }\n",
       "</style>\n",
       "<table border=\"1\" class=\"dataframe\">\n",
       "  <thead>\n",
       "    <tr style=\"text-align: right;\">\n",
       "      <th></th>\n",
       "      <th>county_fips</th>\n",
       "      <th>rangeland_acre</th>\n",
       "      <th>county_area_acre</th>\n",
       "      <th>rangeland_fraction</th>\n",
       "      <th>state_fip</th>\n",
       "    </tr>\n",
       "  </thead>\n",
       "  <tbody>\n",
       "    <tr>\n",
       "      <th>0</th>\n",
       "      <td>01003</td>\n",
       "      <td>13037.43</td>\n",
       "      <td>1060302.72</td>\n",
       "      <td>0.010000</td>\n",
       "      <td>01</td>\n",
       "    </tr>\n",
       "    <tr>\n",
       "      <th>1</th>\n",
       "      <td>01005</td>\n",
       "      <td>18.23</td>\n",
       "      <td>575781.12</td>\n",
       "      <td>0.000032</td>\n",
       "      <td>01</td>\n",
       "    </tr>\n",
       "  </tbody>\n",
       "</table>\n",
       "</div>"
      ],
      "text/plain": [
       "  county_fips  rangeland_acre  county_area_acre  rangeland_fraction state_fip\n",
       "0       01003        13037.43        1060302.72            0.010000        01\n",
       "1       01005           18.23         575781.12            0.000032        01"
      ]
     },
     "execution_count": 9,
     "metadata": {},
     "output_type": "execute_result"
    }
   ],
   "source": [
    "county_RA_and_TA_fraction[\"state_fip\"] = county_RA_and_TA_fraction.county_fips.str.slice(0, 2)\n",
    "county_RA_and_TA_fraction.head(2)"
   ]
  },
  {
   "cell_type": "code",
   "execution_count": 13,
   "id": "9acc85d5",
   "metadata": {},
   "outputs": [
    {
     "data": {
      "text/html": [
       "<div>\n",
       "<style scoped>\n",
       "    .dataframe tbody tr th:only-of-type {\n",
       "        vertical-align: middle;\n",
       "    }\n",
       "\n",
       "    .dataframe tbody tr th {\n",
       "        vertical-align: top;\n",
       "    }\n",
       "\n",
       "    .dataframe thead th {\n",
       "        text-align: right;\n",
       "    }\n",
       "</style>\n",
       "<table border=\"1\" class=\"dataframe\">\n",
       "  <thead>\n",
       "    <tr style=\"text-align: right;\">\n",
       "      <th></th>\n",
       "      <th>state_fip</th>\n",
       "      <th>rangeland_acre</th>\n",
       "    </tr>\n",
       "  </thead>\n",
       "  <tbody>\n",
       "    <tr>\n",
       "      <th>0</th>\n",
       "      <td>01</td>\n",
       "      <td>31570.99</td>\n",
       "    </tr>\n",
       "    <tr>\n",
       "      <th>1</th>\n",
       "      <td>05</td>\n",
       "      <td>33578.77</td>\n",
       "    </tr>\n",
       "  </tbody>\n",
       "</table>\n",
       "</div>"
      ],
      "text/plain": [
       "  state_fip  rangeland_acre\n",
       "0        01        31570.99\n",
       "1        05        33578.77"
      ]
     },
     "execution_count": 13,
     "metadata": {},
     "output_type": "execute_result"
    }
   ],
   "source": [
    "state_RA = county_RA_and_TA_fraction[[\"state_fip\", \"rangeland_acre\"]].groupby(\"state_fip\").sum()\n",
    "state_RA.reset_index(drop=False, inplace=True)\n",
    "state_RA = state_RA[state_RA.state_fip.isin(county_id_name_fips.state_fip)]\n",
    "state_RA.reset_index(drop=True, inplace=True)\n",
    "state_RA.head(2)"
   ]
  },
  {
   "cell_type": "code",
   "execution_count": 17,
   "id": "8e5949d4",
   "metadata": {},
   "outputs": [
    {
     "name": "stdout",
     "output_type": "stream",
     "text": [
      "25\n",
      "25\n"
     ]
    }
   ],
   "source": [
    "print (len(NPP.state_fip.unique()))\n",
    "print (len(state_RA.state_fip.unique()))"
   ]
  },
  {
   "cell_type": "code",
   "execution_count": 18,
   "id": "2586c97e",
   "metadata": {},
   "outputs": [
    {
     "data": {
      "text/html": [
       "<div>\n",
       "<style scoped>\n",
       "    .dataframe tbody tr th:only-of-type {\n",
       "        vertical-align: middle;\n",
       "    }\n",
       "\n",
       "    .dataframe tbody tr th {\n",
       "        vertical-align: top;\n",
       "    }\n",
       "\n",
       "    .dataframe thead th {\n",
       "        text-align: right;\n",
       "    }\n",
       "</style>\n",
       "<table border=\"1\" class=\"dataframe\">\n",
       "  <thead>\n",
       "    <tr style=\"text-align: right;\">\n",
       "      <th></th>\n",
       "      <th>year</th>\n",
       "      <th>state_fip</th>\n",
       "      <th>modis_npp</th>\n",
       "    </tr>\n",
       "  </thead>\n",
       "  <tbody>\n",
       "    <tr>\n",
       "      <th>0</th>\n",
       "      <td>2001</td>\n",
       "      <td>01</td>\n",
       "      <td>0.816597</td>\n",
       "    </tr>\n",
       "    <tr>\n",
       "      <th>1</th>\n",
       "      <td>2001</td>\n",
       "      <td>05</td>\n",
       "      <td>0.659446</td>\n",
       "    </tr>\n",
       "  </tbody>\n",
       "</table>\n",
       "</div>"
      ],
      "text/plain": [
       "   year state_fip  modis_npp\n",
       "0  2001        01   0.816597\n",
       "1  2001        05   0.659446"
      ]
     },
     "execution_count": 18,
     "metadata": {},
     "output_type": "execute_result"
    }
   ],
   "source": [
    "NPP.head(2)"
   ]
  },
  {
   "cell_type": "code",
   "execution_count": 19,
   "id": "d1cf173e",
   "metadata": {},
   "outputs": [
    {
     "data": {
      "text/html": [
       "<div>\n",
       "<style scoped>\n",
       "    .dataframe tbody tr th:only-of-type {\n",
       "        vertical-align: middle;\n",
       "    }\n",
       "\n",
       "    .dataframe tbody tr th {\n",
       "        vertical-align: top;\n",
       "    }\n",
       "\n",
       "    .dataframe thead th {\n",
       "        text-align: right;\n",
       "    }\n",
       "</style>\n",
       "<table border=\"1\" class=\"dataframe\">\n",
       "  <thead>\n",
       "    <tr style=\"text-align: right;\">\n",
       "      <th></th>\n",
       "      <th>state_fip</th>\n",
       "      <th>rangeland_acre</th>\n",
       "    </tr>\n",
       "  </thead>\n",
       "  <tbody>\n",
       "    <tr>\n",
       "      <th>0</th>\n",
       "      <td>01</td>\n",
       "      <td>31570.99</td>\n",
       "    </tr>\n",
       "    <tr>\n",
       "      <th>1</th>\n",
       "      <td>05</td>\n",
       "      <td>33578.77</td>\n",
       "    </tr>\n",
       "  </tbody>\n",
       "</table>\n",
       "</div>"
      ],
      "text/plain": [
       "  state_fip  rangeland_acre\n",
       "0        01        31570.99\n",
       "1        05        33578.77"
      ]
     },
     "execution_count": 19,
     "metadata": {},
     "output_type": "execute_result"
    }
   ],
   "source": [
    "state_RA.head(2)"
   ]
  },
  {
   "cell_type": "code",
   "execution_count": 20,
   "id": "b2b8f427",
   "metadata": {},
   "outputs": [
    {
     "data": {
      "text/html": [
       "<div>\n",
       "<style scoped>\n",
       "    .dataframe tbody tr th:only-of-type {\n",
       "        vertical-align: middle;\n",
       "    }\n",
       "\n",
       "    .dataframe tbody tr th {\n",
       "        vertical-align: top;\n",
       "    }\n",
       "\n",
       "    .dataframe thead th {\n",
       "        text-align: right;\n",
       "    }\n",
       "</style>\n",
       "<table border=\"1\" class=\"dataframe\">\n",
       "  <thead>\n",
       "    <tr style=\"text-align: right;\">\n",
       "      <th></th>\n",
       "      <th>year</th>\n",
       "      <th>state_fip</th>\n",
       "      <th>modis_npp</th>\n",
       "      <th>rangeland_acre</th>\n",
       "    </tr>\n",
       "  </thead>\n",
       "  <tbody>\n",
       "    <tr>\n",
       "      <th>0</th>\n",
       "      <td>2001</td>\n",
       "      <td>01</td>\n",
       "      <td>0.816597</td>\n",
       "      <td>31570.99</td>\n",
       "    </tr>\n",
       "    <tr>\n",
       "      <th>1</th>\n",
       "      <td>2001</td>\n",
       "      <td>05</td>\n",
       "      <td>0.659446</td>\n",
       "      <td>33578.77</td>\n",
       "    </tr>\n",
       "  </tbody>\n",
       "</table>\n",
       "</div>"
      ],
      "text/plain": [
       "   year state_fip  modis_npp  rangeland_acre\n",
       "0  2001        01   0.816597        31570.99\n",
       "1  2001        05   0.659446        33578.77"
      ]
     },
     "execution_count": 20,
     "metadata": {},
     "output_type": "execute_result"
    }
   ],
   "source": [
    "state_annual_NPP_Ra = pd.merge(NPP, state_RA, on = [\"state_fip\"], how = \"left\")\n",
    "state_annual_NPP_Ra.head(2)"
   ]
  },
  {
   "cell_type": "code",
   "execution_count": 21,
   "id": "a1c0fa7f",
   "metadata": {},
   "outputs": [
    {
     "data": {
      "text/html": [
       "<div>\n",
       "<style scoped>\n",
       "    .dataframe tbody tr th:only-of-type {\n",
       "        vertical-align: middle;\n",
       "    }\n",
       "\n",
       "    .dataframe tbody tr th {\n",
       "        vertical-align: top;\n",
       "    }\n",
       "\n",
       "    .dataframe thead th {\n",
       "        text-align: right;\n",
       "    }\n",
       "</style>\n",
       "<table border=\"1\" class=\"dataframe\">\n",
       "  <thead>\n",
       "    <tr style=\"text-align: right;\">\n",
       "      <th></th>\n",
       "      <th>state</th>\n",
       "      <th>1920</th>\n",
       "      <th>1921</th>\n",
       "      <th>1922</th>\n",
       "      <th>1923</th>\n",
       "      <th>1924</th>\n",
       "      <th>1925</th>\n",
       "      <th>1926</th>\n",
       "      <th>1927</th>\n",
       "      <th>1928</th>\n",
       "      <th>...</th>\n",
       "      <th>2012</th>\n",
       "      <th>2013</th>\n",
       "      <th>2014</th>\n",
       "      <th>2015</th>\n",
       "      <th>2016</th>\n",
       "      <th>2017</th>\n",
       "      <th>2018</th>\n",
       "      <th>2019</th>\n",
       "      <th>2020</th>\n",
       "      <th>2021</th>\n",
       "    </tr>\n",
       "  </thead>\n",
       "  <tbody>\n",
       "    <tr>\n",
       "      <th>0</th>\n",
       "      <td>AL</td>\n",
       "      <td>103000.0</td>\n",
       "      <td>106000.0</td>\n",
       "      <td>108000.0</td>\n",
       "      <td>111000.0</td>\n",
       "      <td>114000.0</td>\n",
       "      <td>104000.0</td>\n",
       "      <td>100000.0</td>\n",
       "      <td>96000.0</td>\n",
       "      <td>94000.0</td>\n",
       "      <td>...</td>\n",
       "      <td>680000.0</td>\n",
       "      <td>701000.0</td>\n",
       "      <td>681000.0</td>\n",
       "      <td>652000.0</td>\n",
       "      <td>673000.0</td>\n",
       "      <td>693000.0</td>\n",
       "      <td>714000.0</td>\n",
       "      <td>705000.0</td>\n",
       "      <td>696000.0</td>\n",
       "      <td>697000.0</td>\n",
       "    </tr>\n",
       "    <tr>\n",
       "      <th>3</th>\n",
       "      <td>AR</td>\n",
       "      <td>86000.0</td>\n",
       "      <td>85000.0</td>\n",
       "      <td>84000.0</td>\n",
       "      <td>83000.0</td>\n",
       "      <td>83000.0</td>\n",
       "      <td>61000.0</td>\n",
       "      <td>36000.0</td>\n",
       "      <td>38000.0</td>\n",
       "      <td>30000.0</td>\n",
       "      <td>...</td>\n",
       "      <td>919000.0</td>\n",
       "      <td>851000.0</td>\n",
       "      <td>862000.0</td>\n",
       "      <td>863000.0</td>\n",
       "      <td>893000.0</td>\n",
       "      <td>914000.0</td>\n",
       "      <td>924000.0</td>\n",
       "      <td>935000.0</td>\n",
       "      <td>915000.0</td>\n",
       "      <td>925000.0</td>\n",
       "    </tr>\n",
       "  </tbody>\n",
       "</table>\n",
       "<p>2 rows × 103 columns</p>\n",
       "</div>"
      ],
      "text/plain": [
       "  state      1920      1921      1922      1923      1924      1925      1926  \\\n",
       "0    AL  103000.0  106000.0  108000.0  111000.0  114000.0  104000.0  100000.0   \n",
       "3    AR   86000.0   85000.0   84000.0   83000.0   83000.0   61000.0   36000.0   \n",
       "\n",
       "      1927     1928  ...      2012      2013      2014      2015      2016  \\\n",
       "0  96000.0  94000.0  ...  680000.0  701000.0  681000.0  652000.0  673000.0   \n",
       "3  38000.0  30000.0  ...  919000.0  851000.0  862000.0  863000.0  893000.0   \n",
       "\n",
       "       2017      2018      2019      2020      2021  \n",
       "0  693000.0  714000.0  705000.0  696000.0  697000.0  \n",
       "3  914000.0  924000.0  935000.0  915000.0  925000.0  \n",
       "\n",
       "[2 rows x 103 columns]"
      ]
     },
     "execution_count": 21,
     "metadata": {},
     "output_type": "execute_result"
    }
   ],
   "source": [
    "shannon_annual = pd.read_csv(reOrganized_dir + \"Beef_Cows_fromCATINV.csv\")\n",
    "shannon_annual = shannon_annual[shannon_annual.state.isin(SoI_abb)]\n",
    "shannon_annual.head(2)"
   ]
  },
  {
   "cell_type": "code",
   "execution_count": 33,
   "id": "c4df9b64",
   "metadata": {},
   "outputs": [
    {
     "name": "stdout",
     "output_type": "stream",
     "text": [
      "[2001 2002 2003]\n",
      "[2017 2018 2019]\n"
     ]
    },
    {
     "data": {
      "text/html": [
       "<div>\n",
       "<style scoped>\n",
       "    .dataframe tbody tr th:only-of-type {\n",
       "        vertical-align: middle;\n",
       "    }\n",
       "\n",
       "    .dataframe tbody tr th {\n",
       "        vertical-align: top;\n",
       "    }\n",
       "\n",
       "    .dataframe thead th {\n",
       "        text-align: right;\n",
       "    }\n",
       "</style>\n",
       "<table border=\"1\" class=\"dataframe\">\n",
       "  <thead>\n",
       "    <tr style=\"text-align: right;\">\n",
       "      <th></th>\n",
       "      <th>state</th>\n",
       "      <th>2001</th>\n",
       "      <th>2002</th>\n",
       "      <th>2003</th>\n",
       "      <th>2004</th>\n",
       "      <th>2005</th>\n",
       "      <th>2006</th>\n",
       "      <th>2007</th>\n",
       "      <th>2008</th>\n",
       "      <th>2009</th>\n",
       "      <th>2010</th>\n",
       "      <th>2011</th>\n",
       "      <th>2012</th>\n",
       "      <th>2013</th>\n",
       "      <th>2014</th>\n",
       "      <th>2015</th>\n",
       "      <th>2016</th>\n",
       "      <th>2017</th>\n",
       "      <th>2018</th>\n",
       "      <th>2019</th>\n",
       "    </tr>\n",
       "  </thead>\n",
       "  <tbody>\n",
       "    <tr>\n",
       "      <th>0</th>\n",
       "      <td>AL</td>\n",
       "      <td>737000.0</td>\n",
       "      <td>750000.0</td>\n",
       "      <td>761000.0</td>\n",
       "      <td>732000.0</td>\n",
       "      <td>724000.0</td>\n",
       "      <td>686000.0</td>\n",
       "      <td>687000.0</td>\n",
       "      <td>667000.0</td>\n",
       "      <td>668000.0</td>\n",
       "      <td>669000.0</td>\n",
       "      <td>659000.0</td>\n",
       "      <td>680000.0</td>\n",
       "      <td>701000.0</td>\n",
       "      <td>681000.0</td>\n",
       "      <td>652000.0</td>\n",
       "      <td>673000.0</td>\n",
       "      <td>693000.0</td>\n",
       "      <td>714000.0</td>\n",
       "      <td>705000.0</td>\n",
       "    </tr>\n",
       "    <tr>\n",
       "      <th>1</th>\n",
       "      <td>AR</td>\n",
       "      <td>923000.0</td>\n",
       "      <td>927000.0</td>\n",
       "      <td>949000.0</td>\n",
       "      <td>982000.0</td>\n",
       "      <td>967000.0</td>\n",
       "      <td>899000.0</td>\n",
       "      <td>921000.0</td>\n",
       "      <td>943000.0</td>\n",
       "      <td>906000.0</td>\n",
       "      <td>937000.0</td>\n",
       "      <td>928000.0</td>\n",
       "      <td>919000.0</td>\n",
       "      <td>851000.0</td>\n",
       "      <td>862000.0</td>\n",
       "      <td>863000.0</td>\n",
       "      <td>893000.0</td>\n",
       "      <td>914000.0</td>\n",
       "      <td>924000.0</td>\n",
       "      <td>935000.0</td>\n",
       "    </tr>\n",
       "  </tbody>\n",
       "</table>\n",
       "</div>"
      ],
      "text/plain": [
       "  state      2001      2002      2003      2004      2005      2006      2007  \\\n",
       "0    AL  737000.0  750000.0  761000.0  732000.0  724000.0  686000.0  687000.0   \n",
       "1    AR  923000.0  927000.0  949000.0  982000.0  967000.0  899000.0  921000.0   \n",
       "\n",
       "       2008      2009      2010      2011      2012      2013      2014  \\\n",
       "0  667000.0  668000.0  669000.0  659000.0  680000.0  701000.0  681000.0   \n",
       "1  943000.0  906000.0  937000.0  928000.0  919000.0  851000.0  862000.0   \n",
       "\n",
       "       2015      2016      2017      2018      2019  \n",
       "0  652000.0  673000.0  693000.0  714000.0  705000.0  \n",
       "1  863000.0  893000.0  914000.0  924000.0  935000.0  "
      ]
     },
     "execution_count": 33,
     "metadata": {},
     "output_type": "execute_result"
    }
   ],
   "source": [
    "wanted_years = np.arange(state_annual_NPP_Ra.year.min(), state_annual_NPP_Ra.year.max())\n",
    "print (wanted_years[:3])\n",
    "print (wanted_years[-3:])\n",
    "cols_ = [\"state\"] + list(wanted_years.astype(str))\n",
    "shannon_annual = shannon_annual[cols_]\n",
    "\n",
    "\n",
    "shannon_annual = shannon_annual[shannon_annual.state.isin(list(county_id_name_fips.state.unique()))]\n",
    "shannon_annual.sort_values(by=[\"state\"], inplace=True)\n",
    "shannon_annual.reset_index(drop=True, inplace=True)\n",
    "shannon_annual.head(2)"
   ]
  },
  {
   "cell_type": "code",
   "execution_count": 42,
   "id": "5fb54733",
   "metadata": {},
   "outputs": [
    {
     "ename": "AttributeError",
     "evalue": "'function' object has no attribute 'size'",
     "output_type": "error",
     "traceback": [
      "\u001b[0;31m---------------------------------------------------------------------------\u001b[0m",
      "\u001b[0;31mAttributeError\u001b[0m                            Traceback (most recent call last)",
      "Cell \u001b[0;32mIn[42], line 1\u001b[0m\n\u001b[0;32m----> 1\u001b[0m shannon_annual\u001b[38;5;241m.\u001b[39mtranspose\u001b[38;5;241m.\u001b[39msize()\n",
      "\u001b[0;31mAttributeError\u001b[0m: 'function' object has no attribute 'size'"
     ]
    }
   ],
   "source": [
    "shannon_annual.transpose.size()"
   ]
  },
  {
   "cell_type": "code",
   "execution_count": null,
   "id": "0f35d0a3",
   "metadata": {},
   "outputs": [],
   "source": []
  }
 ],
 "metadata": {
  "kernelspec": {
   "display_name": "Python 3 (ipykernel)",
   "language": "python",
   "name": "python3"
  },
  "language_info": {
   "codemirror_mode": {
    "name": "ipython",
    "version": 3
   },
   "file_extension": ".py",
   "mimetype": "text/x-python",
   "name": "python",
   "nbconvert_exporter": "python",
   "pygments_lexer": "ipython3",
   "version": "3.11.5"
  }
 },
 "nbformat": 4,
 "nbformat_minor": 5
}
