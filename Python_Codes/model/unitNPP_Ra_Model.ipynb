{
 "cells": [
  {
   "cell_type": "markdown",
   "id": "eb4cb2c4",
   "metadata": {},
   "source": [
    "## Nov 7.\n",
    "\n",
    "- ```SW```: Seasonal Weather: temp. and precip.\n",
    "\n",
    "On Nov. 6 Mike wanted to model cattle inventory using only ```NPP```/```SW``` and rangeland area for one year.\n",
    "\n",
    "**Min's data are inconsistent:** Let us subset the counties that are in common between ```NPP``` and ```SW```, and cattle inventory.\n",
    "\n",
    "#### Seasons in Tonsor are\n",
    "- S1: Jan - Mar\n",
    "- S2: Apr - Jul\n",
    "- S3: Aug - Sep\n",
    "- S4: Oct - Dec"
   ]
  },
  {
   "cell_type": "code",
   "execution_count": null,
   "id": "ceba02e4",
   "metadata": {},
   "outputs": [],
   "source": [
    "import pandas as pd\n",
    "import numpy as np\n",
    "from datetime import datetime\n",
    "import os, os.path, pickle, sys\n",
    "\n",
    "import matplotlib\n",
    "import matplotlib.pyplot as plt\n",
    "\n",
    "sys.path.append(\"/Users/hn/Documents/00_GitHub/Rangeland/Python_Codes/\")\n",
    "import rangeland_core as rc"
   ]
  },
  {
   "cell_type": "code",
   "execution_count": null,
   "id": "6b81e895",
   "metadata": {},
   "outputs": [],
   "source": [
    "data_dir_base = \"/Users/hn/Documents/01_research_data/RangeLand/Data/\"\n",
    "census_population_dir = data_dir_base + \"census/\"\n",
    "# Shannon_data_dir = data_dir_base + \"Shannon_Data/\"\n",
    "# USDA_data_dir = data_dir_base + \"/NASS_downloads/\"\n",
    "param_dir = data_dir_base + \"parameters/\"\n",
    "Min_data_base = data_dir_base + \"Min_Data/\"\n",
    "reOrganized_dir = data_dir_base + \"reOrganized/\"\n",
    "seasonal_dir = reOrganized_dir + \"seasonal_variables/02_merged_mean_over_county/\""
   ]
  },
  {
   "cell_type": "code",
   "execution_count": null,
   "id": "75ced1c4",
   "metadata": {},
   "outputs": [],
   "source": []
  },
  {
   "cell_type": "code",
   "execution_count": null,
   "id": "8ec12614",
   "metadata": {},
   "outputs": [],
   "source": [
    "Bhupi = pd.read_csv(param_dir + \"Bhupi_25states_clean.csv\")\n",
    "Bhupi[\"SC\"] = Bhupi.state + \"-\" + Bhupi.county\n",
    "\n",
    "print (f\"{len(Bhupi.state.unique()) = }\")\n",
    "print (f\"{len(Bhupi.county_fips.unique()) = }\")\n",
    "Bhupi.head(2)"
   ]
  },
  {
   "cell_type": "code",
   "execution_count": null,
   "id": "cc058d11",
   "metadata": {},
   "outputs": [],
   "source": []
  },
  {
   "cell_type": "code",
   "execution_count": null,
   "id": "bff1d362",
   "metadata": {},
   "outputs": [],
   "source": [
    "SoI = [\"Alabama\", \"Arkansas\", \"California\", \n",
    "       \"Colorado\", \"Florida\", \"Georgia\", \"Idaho\",\n",
    "       \"Illinois\", \"Iowa\", \"Kansas\", \"Kentucky\",\n",
    "       \"Louisiana\", \"Mississippi\", \"Missouri\", \"Montana\", \n",
    "       \"Nebraska\", \"New Mexico\", \"North Dakota\", \n",
    "       \"Oklahoma\", \"Oregon\", \"South Dakota\", \"Tennessee\",\n",
    "       \"Texas\", \"Virginia\", \"Wyoming\"]\n",
    "\n",
    "abb_dict = pd.read_pickle(param_dir + \"state_abbreviations.sav\")\n",
    "\n",
    "SoI_abb = []\n",
    "for x in SoI:\n",
    "    SoI_abb = SoI_abb + [abb_dict[\"full_2_abb\"][x]]"
   ]
  },
  {
   "cell_type": "code",
   "execution_count": null,
   "id": "463a4117",
   "metadata": {},
   "outputs": [],
   "source": [
    "USDA_data = pd.read_pickle(reOrganized_dir + \"USDA_data.sav\")\n",
    "\n",
    "cattle_inventory = USDA_data[\"cattle_inventory\"]\n",
    "\n",
    "# pick only 25 states we want\n",
    "cattle_inventory = cattle_inventory[cattle_inventory.state.isin(SoI)].copy()\n",
    "\n",
    "print (f\"{cattle_inventory.data_item.unique() = }\")\n",
    "print (f\"{cattle_inventory.commodity.unique() = }\")\n",
    "print (f\"{cattle_inventory.year.unique() = }\")\n",
    "\n",
    "census_years = list(cattle_inventory.year.unique())\n",
    "\n",
    "# pick only useful columns\n",
    "# cattle_inventory = cattle_inventory[[\"year\", \"county_fips\", \"cattle_cow_inventory\"]]\n",
    "cattle_inventory = cattle_inventory[[\"year\", \"county_fips\", \"cattle_cow_beef_inventory\"]]\n",
    "\n",
    "print (f\"{len(cattle_inventory.county_fips.unique()) = }\")\n",
    "cattle_inventory.head(2)"
   ]
  },
  {
   "cell_type": "code",
   "execution_count": null,
   "id": "77c2ce58",
   "metadata": {},
   "outputs": [],
   "source": [
    "print (cattle_inventory.shape)\n",
    "cattle_inventory = rc.clean_census(df=cattle_inventory, col_=\"cattle_cow_beef_inventory\")\n",
    "print (cattle_inventory.shape)"
   ]
  },
  {
   "cell_type": "markdown",
   "id": "b9aa67b9",
   "metadata": {},
   "source": [
    "### Min has an extra \"1\" as leading digit in FIPS!!"
   ]
  },
  {
   "cell_type": "code",
   "execution_count": null,
   "id": "386836b8",
   "metadata": {},
   "outputs": [],
   "source": [
    "# county_annual_GPP_NPP_prod = pd.read_csv(reOrganized_dir + \"county_annual_GPP_NPP_productivity.csv\")\n",
    "# county_annual_GPP_NPP_prod.rename(columns=lambda x: x.lower().replace(' ', '_'), inplace=True)\n",
    "\n",
    "# county_annual_GPP_NPP_prod = county_annual_GPP_NPP_prod[[\"year\", \"county\", \"modis_npp\"]].copy()\n",
    "# county_annual_GPP_NPP_prod.dropna(how='any', inplace=True)\n",
    "# county_annual_GPP_NPP_prod.sort_values(by=[\"year\", \"county\"], inplace=True)\n",
    "# county_annual_GPP_NPP_prod.reset_index(drop=True, inplace=True)\n",
    "# county_annual_GPP_NPP_prod.head(2)\n",
    "\n",
    "# NPP = pd.read_csv(reOrganized_dir + \"county_annual_GPP_NPP_productivity.csv\")\n",
    "NPP = pd.read_csv(Min_data_base + \"county_annual_MODIS_NPP.csv\")\n",
    "NPP.rename(columns={\"NPP\": \"modis_npp\"}, inplace=True)\n",
    "NPP.head(2)"
   ]
  },
  {
   "cell_type": "code",
   "execution_count": null,
   "id": "23c5bc9b",
   "metadata": {},
   "outputs": [],
   "source": [
    "# pick only census years\n",
    "NPP = NPP[NPP.year.isin(census_years)]\n",
    "NPP.reset_index(drop=True, inplace=True)\n",
    "NPP.head(2)"
   ]
  },
  {
   "cell_type": "code",
   "execution_count": null,
   "id": "9eb1b498",
   "metadata": {},
   "outputs": [],
   "source": [
    "county_id_name_fips = pd.read_csv(Min_data_base + \"county_id_name_fips.csv\")\n",
    "county_id_name_fips = county_id_name_fips[county_id_name_fips.STATE.isin(SoI_abb)].copy()\n",
    "\n",
    "county_id_name_fips.sort_values(by=[\"STATE\", \"county\"], inplace=True)\n",
    "county_id_name_fips.reset_index(drop=True, inplace=True)\n",
    "county_id_name_fips.head(2)"
   ]
  },
  {
   "cell_type": "code",
   "execution_count": null,
   "id": "cc8de824",
   "metadata": {},
   "outputs": [],
   "source": [
    "print (f\"{len(NPP.county.unique()) = }\")"
   ]
  },
  {
   "cell_type": "code",
   "execution_count": null,
   "id": "62e894f2",
   "metadata": {},
   "outputs": [],
   "source": [
    "print (NPP.shape)\n",
    "NPP = NPP[NPP.county.isin(list(county_id_name_fips.county.unique()))].copy()\n",
    "print (NPP.shape)\n",
    "NPP.head(2)"
   ]
  },
  {
   "cell_type": "code",
   "execution_count": null,
   "id": "9fea07cf",
   "metadata": {},
   "outputs": [],
   "source": [
    "print (f\"{(NPP.year.unique()) = }\")\n",
    "print (f\"{len(NPP.county.unique()) = }\")\n",
    "print (f\"{len(cattle_inventory.county_fips.unique()) = }\")"
   ]
  },
  {
   "cell_type": "code",
   "execution_count": null,
   "id": "43c8a322",
   "metadata": {},
   "outputs": [],
   "source": [
    "for a_year in NPP.year.unique():\n",
    "    df = NPP[NPP.year == a_year]\n",
    "    print (f\"{len(df.county.unique()) = }\")"
   ]
  },
  {
   "cell_type": "code",
   "execution_count": null,
   "id": "59940dbc",
   "metadata": {},
   "outputs": [],
   "source": [
    "NPP.head(2)"
   ]
  },
  {
   "cell_type": "code",
   "execution_count": null,
   "id": "a6dd1cc1",
   "metadata": {},
   "outputs": [],
   "source": [
    "NPP = rc.correct_Mins_FIPS(df=NPP, col_=\"county\")\n",
    "NPP.rename(columns={\"county\": \"county_fips\"}, inplace=True)\n",
    "NPP.head(2)"
   ]
  },
  {
   "cell_type": "code",
   "execution_count": null,
   "id": "16a33722",
   "metadata": {},
   "outputs": [],
   "source": [
    "# Rangeland area and Total area:\n",
    "county_RA_and_TA_fraction = pd.read_csv(reOrganized_dir + \"county_rangeland_and_totalarea_fraction.csv\")\n",
    "print (county_RA_and_TA_fraction.shape)\n",
    "county_RA_and_TA_fraction.head(5)"
   ]
  },
  {
   "cell_type": "code",
   "execution_count": null,
   "id": "a2822fbe",
   "metadata": {},
   "outputs": [],
   "source": [
    "county_RA_and_TA_fraction.rename(columns={\"fips_id\": \"county_fips\"}, inplace=True)\n",
    "county_RA_and_TA_fraction = rc.correct_Mins_FIPS(df=county_RA_and_TA_fraction, col_=\"county_fips\")\n",
    "county_RA_and_TA_fraction.head(2)"
   ]
  },
  {
   "cell_type": "code",
   "execution_count": null,
   "id": "30a2bd6a",
   "metadata": {},
   "outputs": [],
   "source": [
    "county_annual_NPP_Ra = pd.merge(NPP, county_RA_and_TA_fraction,\n",
    "                                on=[\"county_fips\"],\n",
    "                                how=\"left\")\n",
    "county_annual_NPP_Ra.head(2)"
   ]
  },
  {
   "cell_type": "code",
   "execution_count": null,
   "id": "6e0de3e1",
   "metadata": {},
   "outputs": [],
   "source": [
    "print (f\"{sorted(cattle_inventory.year.unique())     = }\")\n",
    "print (f\"{sorted(county_annual_NPP_Ra.year.unique()) = }\")"
   ]
  },
  {
   "cell_type": "code",
   "execution_count": null,
   "id": "70755563",
   "metadata": {},
   "outputs": [],
   "source": [
    "cattle_inventory = cattle_inventory[cattle_inventory.year.isin(list(county_annual_NPP_Ra.year.unique()))]\n",
    "sorted(cattle_inventory.year.unique())"
   ]
  },
  {
   "cell_type": "code",
   "execution_count": null,
   "id": "d1872d20",
   "metadata": {},
   "outputs": [],
   "source": [
    "print (len(cattle_inventory.county_fips.unique()))\n",
    "print (len(county_annual_NPP_Ra.county_fips.unique()))"
   ]
  },
  {
   "cell_type": "code",
   "execution_count": null,
   "id": "337e8a66",
   "metadata": {},
   "outputs": [],
   "source": [
    "cattle_inventory_cnty_missing_from_NPP = [x for x in cattle_inventory.county_fips.unique()\\\n",
    "                                          if not(x in county_annual_NPP_Ra.county_fips.unique())]\n",
    "len(cattle_inventory_cnty_missing_from_NPP)"
   ]
  },
  {
   "cell_type": "code",
   "execution_count": null,
   "id": "ba411577",
   "metadata": {},
   "outputs": [],
   "source": [
    "NPP_cnty_missing_from_cattle = [x for x in county_annual_NPP_Ra.county_fips.unique()\\\n",
    "                                if not(x in cattle_inventory.county_fips.unique())]\n",
    "len(NPP_cnty_missing_from_cattle)"
   ]
  },
  {
   "cell_type": "code",
   "execution_count": null,
   "id": "4f6d9afb",
   "metadata": {},
   "outputs": [],
   "source": [
    "print (\"01001\" in list(county_annual_NPP_Ra.county_fips.unique()))\n",
    "print (\"01001\" in list(cattle_inventory.county_fips.unique()))"
   ]
  },
  {
   "cell_type": "markdown",
   "id": "cb3e7d94",
   "metadata": {},
   "source": [
    "## NPP has a lot of missing counties\n",
    "\n",
    " - Min says he had a threshld about rangeland/pasture.\n",
    " - subset the NPP and Cattle to the intersection of counties present.\n",
    " - It seems there are different number of counties in each year in cattle inventory. Find intersection of those as well."
   ]
  },
  {
   "cell_type": "code",
   "execution_count": null,
   "id": "b6ba3532",
   "metadata": {
    "lines_to_next_cell": 2
   },
   "outputs": [],
   "source": [
    "all_cattle_counties = set(cattle_inventory.county_fips.unique())\n",
    "print (f\"{len(all_cattle_counties) = }\")\n",
    "\n",
    "for a_year in sorted(cattle_inventory.year.unique()):\n",
    "    curr_cow = cattle_inventory[cattle_inventory.year == a_year].copy()\n",
    "    curr_cow_counties = set(curr_cow.county_fips.unique())\n",
    "    all_cattle_counties = all_cattle_counties.intersection(curr_cow_counties)\n",
    "    print (a_year)\n",
    "    print (f\"{len(all_cattle_counties) = }\")\n",
    "    print(\"====================================================================\")"
   ]
  },
  {
   "cell_type": "code",
   "execution_count": null,
   "id": "d791198f",
   "metadata": {
    "lines_to_next_cell": 2
   },
   "outputs": [],
   "source": [
    "all_county_annual_NPP_Ra = set(county_annual_NPP_Ra.county_fips.unique())\n",
    "print (f\"{len(all_county_annual_NPP_Ra) = }\")\n",
    "\n",
    "for a_year in sorted(county_annual_NPP_Ra.year.unique()):\n",
    "    curr = county_annual_NPP_Ra[county_annual_NPP_Ra.year == a_year].copy()\n",
    "    curr_counties = set(curr.county_fips.unique())\n",
    "    all_county_annual_NPP_Ra = all_county_annual_NPP_Ra.intersection(curr_counties)\n",
    "    print (a_year)\n",
    "    print (f\"{len(all_county_annual_NPP_Ra) = }\")\n",
    "    print(\"====================================================================\")"
   ]
  },
  {
   "cell_type": "code",
   "execution_count": null,
   "id": "e8180fe4",
   "metadata": {},
   "outputs": [],
   "source": [
    "# choose only the counties that are present in all years:\n",
    "\n",
    "cattle_inventory = cattle_inventory[cattle_inventory.county_fips.isin(list(all_cattle_counties))]"
   ]
  },
  {
   "cell_type": "code",
   "execution_count": null,
   "id": "076f7f67",
   "metadata": {},
   "outputs": [],
   "source": [
    "NPP_counties = set(county_annual_NPP_Ra.county_fips.unique())\n",
    "cow_counties = set(cattle_inventory.county_fips.unique())\n",
    "county_intersection = NPP_counties.intersection(cow_counties)"
   ]
  },
  {
   "cell_type": "code",
   "execution_count": null,
   "id": "2dae6cbd",
   "metadata": {},
   "outputs": [],
   "source": [
    "county_annual_NPP_Ra = county_annual_NPP_Ra[county_annual_NPP_Ra.county_fips.isin(list(county_intersection))]\n",
    "cattle_inventory = cattle_inventory[cattle_inventory.county_fips.isin(list(county_intersection))]\n",
    "\n",
    "print (f\"{county_annual_NPP_Ra.shape = }\")\n",
    "print (f\"{cattle_inventory.shape     = }\")\n",
    "print ()\n",
    "print (f\"{len(county_annual_NPP_Ra.county_fips.unique()) = }\")\n",
    "print (f\"{len(cattle_inventory.county_fips.unique())     = }\")\n",
    "print ()\n",
    "print (f\"{sorted(county_annual_NPP_Ra.year.unique()) = }\")\n",
    "print (f\"{sorted(cattle_inventory.year.unique())     = }\")"
   ]
  },
  {
   "cell_type": "code",
   "execution_count": null,
   "id": "eafac004",
   "metadata": {},
   "outputs": [],
   "source": [
    "county_annual_NPP_Ra_cattleInv = pd.merge(county_annual_NPP_Ra, cattle_inventory,\n",
    "                                          on=[\"county_fips\", \"year\"],\n",
    "                                          how=\"left\")\n",
    "\n",
    "print (f\"{cattle_inventory.shape = }\")\n",
    "print (f\"{county_annual_NPP_Ra.shape = }\")\n",
    "print (f\"{county_annual_NPP_Ra_cattleInv.shape = }\")\n",
    "county_annual_NPP_Ra_cattleInv.head(2)"
   ]
  },
  {
   "cell_type": "code",
   "execution_count": null,
   "id": "d59efe8e",
   "metadata": {},
   "outputs": [],
   "source": [
    "county_annual_NPP_Ra_cattleInv.sort_values(by=[\"year\", \"county_fips\"], inplace=True)\n",
    "county_annual_NPP_Ra_cattleInv.reset_index(drop=True, inplace=True)\n",
    "county_annual_NPP_Ra_cattleInv.head(2)"
   ]
  },
  {
   "cell_type": "code",
   "execution_count": null,
   "id": "f049f447",
   "metadata": {},
   "outputs": [],
   "source": [
    "NPP_Ra_cattleInv_2017 = county_annual_NPP_Ra_cattleInv[\n",
    "                                        county_annual_NPP_Ra_cattleInv.year==2017].copy()"
   ]
  },
  {
   "cell_type": "code",
   "execution_count": null,
   "id": "f0546f31",
   "metadata": {},
   "outputs": [],
   "source": [
    "expl_var_2017 = NPP_Ra_cattleInv_2017[[\"modis_npp\", \"rangeland_acre\"]].values\n",
    "y_2017 = NPP_Ra_cattleInv_2017[[\"cattle_cow_beef_inventory\"]].values.reshape(-1)\n",
    "print (f\"{y_2017.shape = }\")\n",
    "y_2017"
   ]
  },
  {
   "cell_type": "code",
   "execution_count": null,
   "id": "e4e3264d",
   "metadata": {},
   "outputs": [],
   "source": [
    "expl_var_interc_2017 = np.hstack([expl_var_2017, np.ones(len(expl_var_2017)).reshape(-1, 1)])\n",
    "print (expl_var_interc_2017.shape)\n",
    "expl_var_interc_2017"
   ]
  },
  {
   "cell_type": "code",
   "execution_count": null,
   "id": "af2fdc16",
   "metadata": {},
   "outputs": [],
   "source": [
    "solution_2017, RSS_2017, rank_2017, singular_vals_2017  = np.linalg.lstsq(expl_var_interc_2017, y_2017)"
   ]
  },
  {
   "cell_type": "code",
   "execution_count": null,
   "id": "78cd40d7",
   "metadata": {},
   "outputs": [],
   "source": [
    "county_annual_NPP_Ra_cattleInv[county_annual_NPP_Ra_cattleInv.year==2017].head(2)"
   ]
  },
  {
   "cell_type": "code",
   "execution_count": null,
   "id": "4c399cc9",
   "metadata": {},
   "outputs": [],
   "source": []
  },
  {
   "cell_type": "code",
   "execution_count": null,
   "id": "a8679c21",
   "metadata": {},
   "outputs": [],
   "source": [
    "NPP_coef_2017 = solution_2017[0]\n",
    "Ra_coef_2017 = solution_2017[1]\n",
    "intercept_2017 = solution_2017[2]"
   ]
  },
  {
   "cell_type": "markdown",
   "id": "6b4389c2",
   "metadata": {},
   "source": [
    "### Apply 2017 model to 2012 data "
   ]
  },
  {
   "cell_type": "code",
   "execution_count": null,
   "id": "78151b48",
   "metadata": {},
   "outputs": [],
   "source": [
    "NPP_Ra_cattleInv_2012 = county_annual_NPP_Ra_cattleInv[\n",
    "                                        county_annual_NPP_Ra_cattleInv.year==2012].copy()\n",
    "\n",
    "y_2012 = NPP_Ra_cattleInv_2012[[\"cattle_cow_beef_inventory\"]].values.reshape(-1)\n",
    "\n",
    "expl_var_2012 = NPP_Ra_cattleInv_2012[[\"modis_npp\", \"rangeland_acre\"]].values\n",
    "expl_var_interc_2012 = np.hstack([expl_var_2012, np.ones(len(expl_var_2012)).reshape(-1, 1)])\n",
    "expl_var_interc_2012"
   ]
  },
  {
   "cell_type": "code",
   "execution_count": null,
   "id": "54116d4b",
   "metadata": {},
   "outputs": [],
   "source": [
    "NPP_Ra_cattleInv_2012.head(2)"
   ]
  },
  {
   "cell_type": "code",
   "execution_count": null,
   "id": "89e05f74",
   "metadata": {},
   "outputs": [],
   "source": [
    "y_hat_2012_Model2017 = NPP_coef_2017 * NPP_Ra_cattleInv_2012[\"modis_npp\"].values + \\\n",
    "                       Ra_coef_2017 * NPP_Ra_cattleInv_2012[\"rangeland_acre\"].values + \\\n",
    "                       intercept_2017 * np.ones(len(expl_var_2012))\n",
    "\n",
    "res_2012_Model2017 = y_2012 - y_hat_2012_Model2017\n",
    "RSS_2012_Model2017 = np.dot(res_2012_Model2017, res_2012_Model2017)\n",
    "RSS_2012_Model2017/len(expl_var_2012)"
   ]
  },
  {
   "cell_type": "code",
   "execution_count": null,
   "id": "461b599e",
   "metadata": {},
   "outputs": [],
   "source": [
    "print (f\"{NPP_Ra_cattleInv_2012.cattle_cow_beef_inventory.min()=}\")\n",
    "print (f\"{NPP_Ra_cattleInv_2012.cattle_cow_beef_inventory.max()=}\")"
   ]
  },
  {
   "cell_type": "code",
   "execution_count": null,
   "id": "11bac06d",
   "metadata": {},
   "outputs": [],
   "source": []
  },
  {
   "cell_type": "code",
   "execution_count": null,
   "id": "81a5365e",
   "metadata": {},
   "outputs": [],
   "source": []
  },
  {
   "cell_type": "code",
   "execution_count": null,
   "id": "e9bd3a20",
   "metadata": {},
   "outputs": [],
   "source": []
  },
  {
   "cell_type": "code",
   "execution_count": null,
   "id": "d33d1dd7",
   "metadata": {},
   "outputs": [],
   "source": []
  }
 ],
 "metadata": {
  "kernelspec": {
   "display_name": "Python 3 (ipykernel)",
   "language": "python",
   "name": "python3"
  },
  "language_info": {
   "codemirror_mode": {
    "name": "ipython",
    "version": 3
   },
   "file_extension": ".py",
   "mimetype": "text/x-python",
   "name": "python",
   "nbconvert_exporter": "python",
   "pygments_lexer": "ipython3",
   "version": "3.11.2"
  }
 },
 "nbformat": 4,
 "nbformat_minor": 5
}
