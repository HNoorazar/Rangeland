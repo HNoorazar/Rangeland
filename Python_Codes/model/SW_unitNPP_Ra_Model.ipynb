{
 "cells": [
  {
   "cell_type": "markdown",
   "id": "92dd920b",
   "metadata": {},
   "source": [
    "## Nov 7.\n",
    "\n",
    "- ```SW```: Seasonal Weather: temp. and precip.\n",
    "\n",
    "On Nov. 6 Mike wanted to model cattle inventory using only ```NPP```/```SW``` and rangeland area for one year.\n",
    "\n",
    "**Min's data are inconsistent:** Let us subset the counties that are in common between ```NPP``` and ```SW```, and cattle inventory.\n",
    "\n",
    "#### Seasons in Tonsor are\n",
    "- S1: Jan - Mar\n",
    "- S2: Apr - Jul\n",
    "- S3: Aug - Sep\n",
    "- S4: Oct - Dec"
   ]
  },
  {
   "cell_type": "code",
   "execution_count": 1,
   "id": "f80507b0",
   "metadata": {},
   "outputs": [],
   "source": [
    "import pandas as pd\n",
    "import numpy as np\n",
    "from datetime import datetime\n",
    "import os, os.path, pickle, sys\n",
    "\n",
    "import matplotlib\n",
    "import matplotlib.pyplot as plt\n",
    "\n",
    "sys.path.append(\"/Users/hn/Documents/00_GitHub/Rangeland/Python_Codes/\")\n",
    "import rangeland_core as rc"
   ]
  },
  {
   "cell_type": "code",
   "execution_count": 2,
   "id": "21d2ee9b",
   "metadata": {},
   "outputs": [],
   "source": [
    "data_dir_base = \"/Users/hn/Documents/01_research_data/RangeLand/Data/\"\n",
    "census_population_dir = data_dir_base + \"census/\"\n",
    "# Shannon_data_dir = data_dir_base + \"Shannon_Data/\"\n",
    "# USDA_data_dir = data_dir_base + \"/NASS_downloads/\"\n",
    "param_dir = data_dir_base + \"parameters/\"\n",
    "Min_data_base = data_dir_base + \"Min_Data/\"\n",
    "reOrganized_dir = data_dir_base + \"reOrganized/\"\n",
    "seasonal_dir = reOrganized_dir + \"seasonal_variables/02_merged_mean_over_county/\""
   ]
  },
  {
   "cell_type": "code",
   "execution_count": null,
   "id": "d1e1e098",
   "metadata": {},
   "outputs": [],
   "source": []
  },
  {
   "cell_type": "code",
   "execution_count": 3,
   "id": "0e29383a",
   "metadata": {},
   "outputs": [
    {
     "name": "stdout",
     "output_type": "stream",
     "text": [
      "len(Bhupi.state.unique()) = 25\n",
      "len(Bhupi.county_fips.unique()) = 2123\n"
     ]
    },
    {
     "data": {
      "text/html": [
       "<div>\n",
       "<style scoped>\n",
       "    .dataframe tbody tr th:only-of-type {\n",
       "        vertical-align: middle;\n",
       "    }\n",
       "\n",
       "    .dataframe tbody tr th {\n",
       "        vertical-align: top;\n",
       "    }\n",
       "\n",
       "    .dataframe thead th {\n",
       "        text-align: right;\n",
       "    }\n",
       "</style>\n",
       "<table border=\"1\" class=\"dataframe\">\n",
       "  <thead>\n",
       "    <tr style=\"text-align: right;\">\n",
       "      <th></th>\n",
       "      <th>grid</th>\n",
       "      <th>state</th>\n",
       "      <th>county</th>\n",
       "      <th>county_fips</th>\n",
       "      <th>AFFGEOID</th>\n",
       "      <th>SC</th>\n",
       "    </tr>\n",
       "  </thead>\n",
       "  <tbody>\n",
       "    <tr>\n",
       "      <th>0</th>\n",
       "      <td>data_25.15625_-80.65625</td>\n",
       "      <td>Florida</td>\n",
       "      <td>Miami-Dade</td>\n",
       "      <td>12086</td>\n",
       "      <td>0500000US12086</td>\n",
       "      <td>Florida-Miami-Dade</td>\n",
       "    </tr>\n",
       "    <tr>\n",
       "      <th>1</th>\n",
       "      <td>data_25.15625_-80.71875</td>\n",
       "      <td>Florida</td>\n",
       "      <td>Miami-Dade</td>\n",
       "      <td>12086</td>\n",
       "      <td>0500000US12086</td>\n",
       "      <td>Florida-Miami-Dade</td>\n",
       "    </tr>\n",
       "  </tbody>\n",
       "</table>\n",
       "</div>"
      ],
      "text/plain": [
       "                      grid    state      county  county_fips        AFFGEOID  \\\n",
       "0  data_25.15625_-80.65625  Florida  Miami-Dade        12086  0500000US12086   \n",
       "1  data_25.15625_-80.71875  Florida  Miami-Dade        12086  0500000US12086   \n",
       "\n",
       "                   SC  \n",
       "0  Florida-Miami-Dade  \n",
       "1  Florida-Miami-Dade  "
      ]
     },
     "execution_count": 3,
     "metadata": {},
     "output_type": "execute_result"
    }
   ],
   "source": [
    "Bhupi = pd.read_csv(param_dir + \"Bhupi_25states_clean.csv\")\n",
    "Bhupi[\"SC\"] = Bhupi.state + \"-\" + Bhupi.county\n",
    "\n",
    "print(f\"{len(Bhupi.state.unique()) = }\")\n",
    "print(f\"{len(Bhupi.county_fips.unique()) = }\")\n",
    "Bhupi.head(2)"
   ]
  },
  {
   "cell_type": "code",
   "execution_count": null,
   "id": "e95af108",
   "metadata": {},
   "outputs": [],
   "source": []
  },
  {
   "cell_type": "code",
   "execution_count": 4,
   "id": "d8a6d391",
   "metadata": {},
   "outputs": [],
   "source": [
    "SoI = [\n",
    "    \"Alabama\",\n",
    "    \"Arkansas\",\n",
    "    \"California\",\n",
    "    \"Colorado\",\n",
    "    \"Florida\",\n",
    "    \"Georgia\",\n",
    "    \"Idaho\",\n",
    "    \"Illinois\",\n",
    "    \"Iowa\",\n",
    "    \"Kansas\",\n",
    "    \"Kentucky\",\n",
    "    \"Louisiana\",\n",
    "    \"Mississippi\",\n",
    "    \"Missouri\",\n",
    "    \"Montana\",\n",
    "    \"Nebraska\",\n",
    "    \"New Mexico\",\n",
    "    \"North Dakota\",\n",
    "    \"Oklahoma\",\n",
    "    \"Oregon\",\n",
    "    \"South Dakota\",\n",
    "    \"Tennessee\",\n",
    "    \"Texas\",\n",
    "    \"Virginia\",\n",
    "    \"Wyoming\",\n",
    "]\n",
    "\n",
    "abb_dict = pd.read_pickle(param_dir + \"state_abbreviations.sav\")\n",
    "\n",
    "SoI_abb = []\n",
    "for x in SoI:\n",
    "    SoI_abb = SoI_abb + [abb_dict[\"full_2_abb\"][x]]"
   ]
  },
  {
   "cell_type": "code",
   "execution_count": 5,
   "id": "82d6ebc6",
   "metadata": {},
   "outputs": [
    {
     "name": "stdout",
     "output_type": "stream",
     "text": [
      "cattle_inventory.data_item.unique() = array(['CATTLE, COWS, BEEF - INVENTORY'], dtype=object)\n",
      "cattle_inventory.commodity.unique() = array(['CATTLE'], dtype=object)\n",
      "cattle_inventory.year.unique() = array([2017, 2012, 2007, 2002, 1997])\n",
      "len(cattle_inventory.county_fips.unique()) = 2052\n"
     ]
    },
    {
     "data": {
      "text/html": [
       "<div>\n",
       "<style scoped>\n",
       "    .dataframe tbody tr th:only-of-type {\n",
       "        vertical-align: middle;\n",
       "    }\n",
       "\n",
       "    .dataframe tbody tr th {\n",
       "        vertical-align: top;\n",
       "    }\n",
       "\n",
       "    .dataframe thead th {\n",
       "        text-align: right;\n",
       "    }\n",
       "</style>\n",
       "<table border=\"1\" class=\"dataframe\">\n",
       "  <thead>\n",
       "    <tr style=\"text-align: right;\">\n",
       "      <th></th>\n",
       "      <th>year</th>\n",
       "      <th>county_fips</th>\n",
       "      <th>cattle_cow_beef_inventory</th>\n",
       "    </tr>\n",
       "  </thead>\n",
       "  <tbody>\n",
       "    <tr>\n",
       "      <th>0</th>\n",
       "      <td>2017</td>\n",
       "      <td>01001</td>\n",
       "      <td>8678.0</td>\n",
       "    </tr>\n",
       "    <tr>\n",
       "      <th>1</th>\n",
       "      <td>2017</td>\n",
       "      <td>01047</td>\n",
       "      <td>14589.0</td>\n",
       "    </tr>\n",
       "  </tbody>\n",
       "</table>\n",
       "</div>"
      ],
      "text/plain": [
       "   year county_fips  cattle_cow_beef_inventory\n",
       "0  2017       01001                     8678.0\n",
       "1  2017       01047                    14589.0"
      ]
     },
     "execution_count": 5,
     "metadata": {},
     "output_type": "execute_result"
    }
   ],
   "source": [
    "USDA_data = pd.read_pickle(reOrganized_dir + \"USDA_data.sav\")\n",
    "\n",
    "cattle_inventory = USDA_data[\"cattle_inventory\"]\n",
    "\n",
    "# pick only 25 states we want\n",
    "cattle_inventory = cattle_inventory[cattle_inventory.state.isin(SoI)].copy()\n",
    "\n",
    "print(f\"{cattle_inventory.data_item.unique() = }\")\n",
    "print(f\"{cattle_inventory.commodity.unique() = }\")\n",
    "print(f\"{cattle_inventory.year.unique() = }\")\n",
    "\n",
    "census_years = list(cattle_inventory.year.unique())\n",
    "# pick only useful columns\n",
    "cattle_inventory = cattle_inventory[\n",
    "    [\"year\", \"county_fips\", \"cattle_cow_beef_inventory\"]\n",
    "]\n",
    "\n",
    "print(f\"{len(cattle_inventory.county_fips.unique()) = }\")\n",
    "cattle_inventory.head(2)"
   ]
  },
  {
   "cell_type": "code",
   "execution_count": 6,
   "id": "402ce1d6",
   "metadata": {},
   "outputs": [
    {
     "name": "stdout",
     "output_type": "stream",
     "text": [
      "(7900, 3)\n",
      "(7900, 3)\n"
     ]
    }
   ],
   "source": [
    "print(cattle_inventory.shape)\n",
    "cattle_inventory = rc.clean_census(\n",
    "    df=cattle_inventory, col_=\"cattle_cow_beef_inventory\"\n",
    ")\n",
    "print(cattle_inventory.shape)\n",
    "\n",
    "# it was 10,382."
   ]
  },
  {
   "cell_type": "markdown",
   "id": "f29aab80",
   "metadata": {},
   "source": [
    "### Min has an extra \"1\" as leading digit in FIPS!!"
   ]
  },
  {
   "cell_type": "code",
   "execution_count": 7,
   "id": "a3062b2e",
   "metadata": {},
   "outputs": [
    {
     "data": {
      "text/html": [
       "<div>\n",
       "<style scoped>\n",
       "    .dataframe tbody tr th:only-of-type {\n",
       "        vertical-align: middle;\n",
       "    }\n",
       "\n",
       "    .dataframe tbody tr th {\n",
       "        vertical-align: top;\n",
       "    }\n",
       "\n",
       "    .dataframe thead th {\n",
       "        text-align: right;\n",
       "    }\n",
       "</style>\n",
       "<table border=\"1\" class=\"dataframe\">\n",
       "  <thead>\n",
       "    <tr style=\"text-align: right;\">\n",
       "      <th></th>\n",
       "      <th>year</th>\n",
       "      <th>county_fips</th>\n",
       "      <th>modis_npp</th>\n",
       "    </tr>\n",
       "  </thead>\n",
       "  <tbody>\n",
       "    <tr>\n",
       "      <th>0</th>\n",
       "      <td>2001</td>\n",
       "      <td>01003</td>\n",
       "      <td>0.926441</td>\n",
       "    </tr>\n",
       "    <tr>\n",
       "      <th>1</th>\n",
       "      <td>2001</td>\n",
       "      <td>01005</td>\n",
       "      <td>0.629133</td>\n",
       "    </tr>\n",
       "  </tbody>\n",
       "</table>\n",
       "</div>"
      ],
      "text/plain": [
       "   year county_fips  modis_npp\n",
       "0  2001       01003   0.926441\n",
       "1  2001       01005   0.629133"
      ]
     },
     "execution_count": 7,
     "metadata": {},
     "output_type": "execute_result"
    }
   ],
   "source": [
    "# county_annual_GPP_NPP_prod = pd.read_csv(reOrganized_dir + \"county_annual_GPP_NPP_productivity.csv\")\n",
    "# county_annual_GPP_NPP_prod.rename(columns=lambda x: x.lower().replace(' ', '_'), inplace=True)\n",
    "\n",
    "# county_annual_GPP_NPP_prod = county_annual_GPP_NPP_prod[[\"year\", \"county\", \"modis_npp\"]].copy()\n",
    "# county_annual_GPP_NPP_prod.dropna(how='any', inplace=True)\n",
    "# county_annual_GPP_NPP_prod.sort_values(by=[\"year\", \"county\"], inplace=True)\n",
    "# county_annual_GPP_NPP_prod.reset_index(drop=True, inplace=True)\n",
    "# county_annual_GPP_NPP_prod.head(2)\n",
    "\n",
    "# NPP = pd.read_csv(reOrganized_dir + \"county_annual_GPP_NPP_productivity.csv\")\n",
    "NPP = pd.read_csv(Min_data_base + \"county_annual_MODIS_NPP.csv\")\n",
    "NPP.rename(columns={\"NPP\": \"modis_npp\"}, inplace=True)\n",
    "\n",
    "NPP = rc.correct_Mins_FIPS(df=NPP, col_=\"county\")\n",
    "NPP.rename(columns={\"county\": \"county_fips\"}, inplace=True)\n",
    "\n",
    "NPP.head(2)"
   ]
  },
  {
   "cell_type": "code",
   "execution_count": null,
   "id": "0d188283",
   "metadata": {},
   "outputs": [],
   "source": []
  },
  {
   "cell_type": "code",
   "execution_count": 8,
   "id": "3372f745",
   "metadata": {},
   "outputs": [
    {
     "name": "stdout",
     "output_type": "stream",
     "text": [
      "seasonal_weather.keys() = dict_keys(['seasonal', 'source_code', 'Author', 'Min_file_used', 'Date'])\n"
     ]
    },
    {
     "data": {
      "text/html": [
       "<div>\n",
       "<style scoped>\n",
       "    .dataframe tbody tr th:only-of-type {\n",
       "        vertical-align: middle;\n",
       "    }\n",
       "\n",
       "    .dataframe tbody tr th {\n",
       "        vertical-align: top;\n",
       "    }\n",
       "\n",
       "    .dataframe thead th {\n",
       "        text-align: right;\n",
       "    }\n",
       "</style>\n",
       "<table border=\"1\" class=\"dataframe\">\n",
       "  <thead>\n",
       "    <tr style=\"text-align: right;\">\n",
       "      <th></th>\n",
       "      <th>county_fips</th>\n",
       "      <th>year</th>\n",
       "      <th>S1_countyMean_total_precip</th>\n",
       "      <th>S2_countyMean_total_precip</th>\n",
       "      <th>S3_countyMean_total_precip</th>\n",
       "      <th>S4_countyMean_total_precip</th>\n",
       "      <th>S1_countyMean_avg_Tavg</th>\n",
       "      <th>S2_countyMean_avg_Tavg</th>\n",
       "      <th>S3_countyMean_avg_Tavg</th>\n",
       "      <th>S4_countyMean_avg_Tavg</th>\n",
       "    </tr>\n",
       "  </thead>\n",
       "  <tbody>\n",
       "    <tr>\n",
       "      <th>0</th>\n",
       "      <td>01003</td>\n",
       "      <td>1979</td>\n",
       "      <td>656.015</td>\n",
       "      <td>678.306</td>\n",
       "      <td>388.477</td>\n",
       "      <td>252.774</td>\n",
       "      <td>11.042778</td>\n",
       "      <td>24.376025</td>\n",
       "      <td>26.330803</td>\n",
       "      <td>15.175087</td>\n",
       "    </tr>\n",
       "    <tr>\n",
       "      <th>1</th>\n",
       "      <td>01005</td>\n",
       "      <td>1979</td>\n",
       "      <td>494.41</td>\n",
       "      <td>470.324</td>\n",
       "      <td>277.067</td>\n",
       "      <td>203.357</td>\n",
       "      <td>9.200633</td>\n",
       "      <td>22.690754</td>\n",
       "      <td>24.926689</td>\n",
       "      <td>13.078413</td>\n",
       "    </tr>\n",
       "  </tbody>\n",
       "</table>\n",
       "</div>"
      ],
      "text/plain": [
       "  county_fips  year S1_countyMean_total_precip S2_countyMean_total_precip  \\\n",
       "0       01003  1979                    656.015                    678.306   \n",
       "1       01005  1979                     494.41                    470.324   \n",
       "\n",
       "  S3_countyMean_total_precip S4_countyMean_total_precip  \\\n",
       "0                    388.477                    252.774   \n",
       "1                    277.067                    203.357   \n",
       "\n",
       "  S1_countyMean_avg_Tavg S2_countyMean_avg_Tavg S3_countyMean_avg_Tavg  \\\n",
       "0              11.042778              24.376025              26.330803   \n",
       "1               9.200633              22.690754              24.926689   \n",
       "\n",
       "  S4_countyMean_avg_Tavg  \n",
       "0              15.175087  \n",
       "1              13.078413  "
      ]
     },
     "execution_count": 8,
     "metadata": {},
     "output_type": "execute_result"
    }
   ],
   "source": [
    "filename = reOrganized_dir + \"county_seasonal_temp_ppt_weighted.sav\"\n",
    "seasonal_weather = pd.read_pickle(filename)\n",
    "print(f\"{seasonal_weather.keys() = }\")\n",
    "seasonal_weather = seasonal_weather[\"seasonal\"]\n",
    "seasonal_weather.head(2)"
   ]
  },
  {
   "cell_type": "code",
   "execution_count": 9,
   "id": "b7ba378c",
   "metadata": {},
   "outputs": [],
   "source": [
    "seasonal_var_cols = seasonal_weather.columns[2:10]\n",
    "for a_col in seasonal_var_cols:\n",
    "    seasonal_weather[a_col] = seasonal_weather[a_col].astype(float)"
   ]
  },
  {
   "cell_type": "code",
   "execution_count": 10,
   "id": "36e5efcc",
   "metadata": {},
   "outputs": [
    {
     "data": {
      "text/html": [
       "<div>\n",
       "<style scoped>\n",
       "    .dataframe tbody tr th:only-of-type {\n",
       "        vertical-align: middle;\n",
       "    }\n",
       "\n",
       "    .dataframe tbody tr th {\n",
       "        vertical-align: top;\n",
       "    }\n",
       "\n",
       "    .dataframe thead th {\n",
       "        text-align: right;\n",
       "    }\n",
       "</style>\n",
       "<table border=\"1\" class=\"dataframe\">\n",
       "  <thead>\n",
       "    <tr style=\"text-align: right;\">\n",
       "      <th></th>\n",
       "      <th>county_fips</th>\n",
       "      <th>year</th>\n",
       "      <th>S1_countyMean_total_precip</th>\n",
       "      <th>S2_countyMean_total_precip</th>\n",
       "      <th>S3_countyMean_total_precip</th>\n",
       "      <th>S4_countyMean_total_precip</th>\n",
       "      <th>S1_countyMean_avg_Tavg</th>\n",
       "      <th>S2_countyMean_avg_Tavg</th>\n",
       "      <th>S3_countyMean_avg_Tavg</th>\n",
       "      <th>S4_countyMean_avg_Tavg</th>\n",
       "    </tr>\n",
       "  </thead>\n",
       "  <tbody>\n",
       "    <tr>\n",
       "      <th>0</th>\n",
       "      <td>01003</td>\n",
       "      <td>1997</td>\n",
       "      <td>406.441</td>\n",
       "      <td>949.277</td>\n",
       "      <td>143.882</td>\n",
       "      <td>422.485</td>\n",
       "      <td>14.095789</td>\n",
       "      <td>23.213754</td>\n",
       "      <td>26.850115</td>\n",
       "      <td>14.651630</td>\n",
       "    </tr>\n",
       "    <tr>\n",
       "      <th>1</th>\n",
       "      <td>01005</td>\n",
       "      <td>1997</td>\n",
       "      <td>374.950</td>\n",
       "      <td>497.590</td>\n",
       "      <td>119.335</td>\n",
       "      <td>537.954</td>\n",
       "      <td>12.495322</td>\n",
       "      <td>21.541057</td>\n",
       "      <td>24.961213</td>\n",
       "      <td>12.270674</td>\n",
       "    </tr>\n",
       "  </tbody>\n",
       "</table>\n",
       "</div>"
      ],
      "text/plain": [
       "  county_fips  year  S1_countyMean_total_precip  S2_countyMean_total_precip  \\\n",
       "0       01003  1997                     406.441                     949.277   \n",
       "1       01005  1997                     374.950                     497.590   \n",
       "\n",
       "   S3_countyMean_total_precip  S4_countyMean_total_precip  \\\n",
       "0                     143.882                     422.485   \n",
       "1                     119.335                     537.954   \n",
       "\n",
       "   S1_countyMean_avg_Tavg  S2_countyMean_avg_Tavg  S3_countyMean_avg_Tavg  \\\n",
       "0               14.095789               23.213754               26.850115   \n",
       "1               12.495322               21.541057               24.961213   \n",
       "\n",
       "   S4_countyMean_avg_Tavg  \n",
       "0               14.651630  \n",
       "1               12.270674  "
      ]
     },
     "execution_count": 10,
     "metadata": {},
     "output_type": "execute_result"
    }
   ],
   "source": [
    "# pick only census years\n",
    "NPP = NPP[NPP.year.isin(census_years)]\n",
    "NPP.reset_index(drop=True, inplace=True)\n",
    "NPP.head(2)\n",
    "\n",
    "# pick only census years\n",
    "seasonal_weather = seasonal_weather[seasonal_weather.year.isin(census_years)]\n",
    "seasonal_weather.reset_index(drop=True, inplace=True)\n",
    "seasonal_weather.head(2)"
   ]
  },
  {
   "cell_type": "code",
   "execution_count": 11,
   "id": "6ae69ec4",
   "metadata": {},
   "outputs": [
    {
     "data": {
      "text/html": [
       "<div>\n",
       "<style scoped>\n",
       "    .dataframe tbody tr th:only-of-type {\n",
       "        vertical-align: middle;\n",
       "    }\n",
       "\n",
       "    .dataframe tbody tr th {\n",
       "        vertical-align: top;\n",
       "    }\n",
       "\n",
       "    .dataframe thead th {\n",
       "        text-align: right;\n",
       "    }\n",
       "</style>\n",
       "<table border=\"1\" class=\"dataframe\">\n",
       "  <thead>\n",
       "    <tr style=\"text-align: right;\">\n",
       "      <th></th>\n",
       "      <th>county_fips</th>\n",
       "      <th>county_name</th>\n",
       "      <th>FIPS</th>\n",
       "      <th>STATE</th>\n",
       "    </tr>\n",
       "  </thead>\n",
       "  <tbody>\n",
       "    <tr>\n",
       "      <th>0</th>\n",
       "      <td>01001</td>\n",
       "      <td>Autauga County</td>\n",
       "      <td>1001</td>\n",
       "      <td>AL</td>\n",
       "    </tr>\n",
       "    <tr>\n",
       "      <th>1</th>\n",
       "      <td>01003</td>\n",
       "      <td>Baldwin County</td>\n",
       "      <td>1003</td>\n",
       "      <td>AL</td>\n",
       "    </tr>\n",
       "  </tbody>\n",
       "</table>\n",
       "</div>"
      ],
      "text/plain": [
       "  county_fips     county_name  FIPS STATE\n",
       "0       01001  Autauga County  1001    AL\n",
       "1       01003  Baldwin County  1003    AL"
      ]
     },
     "execution_count": 11,
     "metadata": {},
     "output_type": "execute_result"
    }
   ],
   "source": [
    "county_id_name_fips = pd.read_csv(Min_data_base + \"county_id_name_fips.csv\")\n",
    "county_id_name_fips = county_id_name_fips[\n",
    "    county_id_name_fips.STATE.isin(SoI_abb)\n",
    "].copy()\n",
    "\n",
    "county_id_name_fips.sort_values(by=[\"STATE\", \"county\"], inplace=True)\n",
    "\n",
    "county_id_name_fips = rc.correct_Mins_FIPS(df=county_id_name_fips, col_=\"county\")\n",
    "county_id_name_fips.rename(columns={\"county\": \"county_fips\"}, inplace=True)\n",
    "\n",
    "county_id_name_fips.reset_index(drop=True, inplace=True)\n",
    "county_id_name_fips.head(2)"
   ]
  },
  {
   "cell_type": "code",
   "execution_count": 12,
   "id": "6869a15f",
   "metadata": {},
   "outputs": [
    {
     "name": "stdout",
     "output_type": "stream",
     "text": [
      "len(NPP.county_fips.unique()) = 2256\n",
      "len(seasonal_weather.county_fips.unique()) = 1648\n"
     ]
    }
   ],
   "source": [
    "print(f\"{len(NPP.county_fips.unique()) = }\")\n",
    "print(f\"{len(seasonal_weather.county_fips.unique()) = }\")"
   ]
  },
  {
   "cell_type": "code",
   "execution_count": 13,
   "id": "d02b59b0",
   "metadata": {},
   "outputs": [
    {
     "name": "stdout",
     "output_type": "stream",
     "text": [
      "NPP.shape = (9024, 3)\n",
      "NPP.shape = (6344, 3)\n"
     ]
    },
    {
     "data": {
      "text/html": [
       "<div>\n",
       "<style scoped>\n",
       "    .dataframe tbody tr th:only-of-type {\n",
       "        vertical-align: middle;\n",
       "    }\n",
       "\n",
       "    .dataframe tbody tr th {\n",
       "        vertical-align: top;\n",
       "    }\n",
       "\n",
       "    .dataframe thead th {\n",
       "        text-align: right;\n",
       "    }\n",
       "</style>\n",
       "<table border=\"1\" class=\"dataframe\">\n",
       "  <thead>\n",
       "    <tr style=\"text-align: right;\">\n",
       "      <th></th>\n",
       "      <th>year</th>\n",
       "      <th>county_fips</th>\n",
       "      <th>modis_npp</th>\n",
       "    </tr>\n",
       "  </thead>\n",
       "  <tbody>\n",
       "    <tr>\n",
       "      <th>0</th>\n",
       "      <td>2002</td>\n",
       "      <td>01003</td>\n",
       "      <td>0.826076</td>\n",
       "    </tr>\n",
       "    <tr>\n",
       "      <th>1</th>\n",
       "      <td>2002</td>\n",
       "      <td>01005</td>\n",
       "      <td>0.484333</td>\n",
       "    </tr>\n",
       "  </tbody>\n",
       "</table>\n",
       "</div>"
      ],
      "text/plain": [
       "   year county_fips  modis_npp\n",
       "0  2002       01003   0.826076\n",
       "1  2002       01005   0.484333"
      ]
     },
     "execution_count": 13,
     "metadata": {},
     "output_type": "execute_result"
    }
   ],
   "source": [
    "print(f\"{NPP.shape = }\")\n",
    "NPP = NPP[NPP.county_fips.isin(list(county_id_name_fips.county_fips.unique()))].copy()\n",
    "print(f\"{NPP.shape = }\")\n",
    "NPP.head(2)"
   ]
  },
  {
   "cell_type": "code",
   "execution_count": 14,
   "id": "cfcf767b",
   "metadata": {},
   "outputs": [
    {
     "name": "stdout",
     "output_type": "stream",
     "text": [
      "seasonal_weather.shape = (8240, 10)\n",
      "seasonal_weather.shape = (8235, 10)\n"
     ]
    }
   ],
   "source": [
    "print(f\"{seasonal_weather.shape = }\")\n",
    "LL = list(county_id_name_fips.county_fips.unique())\n",
    "seasonal_weather = seasonal_weather[seasonal_weather.county_fips.isin(LL)].copy()\n",
    "print(f\"{seasonal_weather.shape = }\")"
   ]
  },
  {
   "cell_type": "code",
   "execution_count": 15,
   "id": "ffe346a1",
   "metadata": {},
   "outputs": [
    {
     "data": {
      "text/html": [
       "<div>\n",
       "<style scoped>\n",
       "    .dataframe tbody tr th:only-of-type {\n",
       "        vertical-align: middle;\n",
       "    }\n",
       "\n",
       "    .dataframe tbody tr th {\n",
       "        vertical-align: top;\n",
       "    }\n",
       "\n",
       "    .dataframe thead th {\n",
       "        text-align: right;\n",
       "    }\n",
       "</style>\n",
       "<table border=\"1\" class=\"dataframe\">\n",
       "  <thead>\n",
       "    <tr style=\"text-align: right;\">\n",
       "      <th></th>\n",
       "      <th>county_fips</th>\n",
       "      <th>county_name</th>\n",
       "      <th>FIPS</th>\n",
       "      <th>STATE</th>\n",
       "    </tr>\n",
       "  </thead>\n",
       "  <tbody>\n",
       "    <tr>\n",
       "      <th>0</th>\n",
       "      <td>01001</td>\n",
       "      <td>Autauga County</td>\n",
       "      <td>1001</td>\n",
       "      <td>AL</td>\n",
       "    </tr>\n",
       "    <tr>\n",
       "      <th>1</th>\n",
       "      <td>01003</td>\n",
       "      <td>Baldwin County</td>\n",
       "      <td>1003</td>\n",
       "      <td>AL</td>\n",
       "    </tr>\n",
       "  </tbody>\n",
       "</table>\n",
       "</div>"
      ],
      "text/plain": [
       "  county_fips     county_name  FIPS STATE\n",
       "0       01001  Autauga County  1001    AL\n",
       "1       01003  Baldwin County  1003    AL"
      ]
     },
     "execution_count": 15,
     "metadata": {},
     "output_type": "execute_result"
    }
   ],
   "source": [
    "county_id_name_fips.head(2)"
   ]
  },
  {
   "cell_type": "code",
   "execution_count": 16,
   "id": "c40cccaf",
   "metadata": {},
   "outputs": [
    {
     "name": "stdout",
     "output_type": "stream",
     "text": [
      "(NPP.year.unique()) = array([2002, 2007, 2012, 2017])\n",
      "len(NPP.county_fips.unique()) = 1586\n",
      "len(cattle_inventory.county_fips.unique()) = 2052\n"
     ]
    }
   ],
   "source": [
    "print(f\"{(NPP.year.unique()) = }\")\n",
    "print(f\"{len(NPP.county_fips.unique()) = }\")\n",
    "\n",
    "# 2,095 when we had \"cattle cow inv\" instead of \"cattle cow beef inv\"\n",
    "print(f\"{len(cattle_inventory.county_fips.unique()) = }\")"
   ]
  },
  {
   "cell_type": "code",
   "execution_count": 17,
   "id": "8951546b",
   "metadata": {},
   "outputs": [
    {
     "name": "stdout",
     "output_type": "stream",
     "text": [
      "len(df.county_fips.unique()) = 1586\n",
      "len(df.county_fips.unique()) = 1586\n",
      "len(df.county_fips.unique()) = 1586\n",
      "len(df.county_fips.unique()) = 1586\n"
     ]
    },
    {
     "data": {
      "text/html": [
       "<div>\n",
       "<style scoped>\n",
       "    .dataframe tbody tr th:only-of-type {\n",
       "        vertical-align: middle;\n",
       "    }\n",
       "\n",
       "    .dataframe tbody tr th {\n",
       "        vertical-align: top;\n",
       "    }\n",
       "\n",
       "    .dataframe thead th {\n",
       "        text-align: right;\n",
       "    }\n",
       "</style>\n",
       "<table border=\"1\" class=\"dataframe\">\n",
       "  <thead>\n",
       "    <tr style=\"text-align: right;\">\n",
       "      <th></th>\n",
       "      <th>year</th>\n",
       "      <th>county_fips</th>\n",
       "      <th>modis_npp</th>\n",
       "    </tr>\n",
       "  </thead>\n",
       "  <tbody>\n",
       "    <tr>\n",
       "      <th>0</th>\n",
       "      <td>2002</td>\n",
       "      <td>01003</td>\n",
       "      <td>0.826076</td>\n",
       "    </tr>\n",
       "    <tr>\n",
       "      <th>1</th>\n",
       "      <td>2002</td>\n",
       "      <td>01005</td>\n",
       "      <td>0.484333</td>\n",
       "    </tr>\n",
       "  </tbody>\n",
       "</table>\n",
       "</div>"
      ],
      "text/plain": [
       "   year county_fips  modis_npp\n",
       "0  2002       01003   0.826076\n",
       "1  2002       01005   0.484333"
      ]
     },
     "execution_count": 17,
     "metadata": {},
     "output_type": "execute_result"
    }
   ],
   "source": [
    "for a_year in NPP.year.unique():\n",
    "    df = NPP[NPP.year == a_year]\n",
    "    print(f\"{len(df.county_fips.unique()) = }\")\n",
    "\n",
    "NPP.head(2)"
   ]
  },
  {
   "cell_type": "code",
   "execution_count": 18,
   "id": "b44d31c9",
   "metadata": {},
   "outputs": [
    {
     "name": "stdout",
     "output_type": "stream",
     "text": [
      "len(df.county_fips.unique()) = 1647\n",
      "len(df.county_fips.unique()) = 1647\n",
      "len(df.county_fips.unique()) = 1647\n",
      "len(df.county_fips.unique()) = 1647\n",
      "len(df.county_fips.unique()) = 1647\n"
     ]
    },
    {
     "data": {
      "text/html": [
       "<div>\n",
       "<style scoped>\n",
       "    .dataframe tbody tr th:only-of-type {\n",
       "        vertical-align: middle;\n",
       "    }\n",
       "\n",
       "    .dataframe tbody tr th {\n",
       "        vertical-align: top;\n",
       "    }\n",
       "\n",
       "    .dataframe thead th {\n",
       "        text-align: right;\n",
       "    }\n",
       "</style>\n",
       "<table border=\"1\" class=\"dataframe\">\n",
       "  <thead>\n",
       "    <tr style=\"text-align: right;\">\n",
       "      <th></th>\n",
       "      <th>county_fips</th>\n",
       "      <th>year</th>\n",
       "      <th>S1_countyMean_total_precip</th>\n",
       "      <th>S2_countyMean_total_precip</th>\n",
       "      <th>S3_countyMean_total_precip</th>\n",
       "      <th>S4_countyMean_total_precip</th>\n",
       "      <th>S1_countyMean_avg_Tavg</th>\n",
       "      <th>S2_countyMean_avg_Tavg</th>\n",
       "      <th>S3_countyMean_avg_Tavg</th>\n",
       "      <th>S4_countyMean_avg_Tavg</th>\n",
       "    </tr>\n",
       "  </thead>\n",
       "  <tbody>\n",
       "    <tr>\n",
       "      <th>0</th>\n",
       "      <td>01003</td>\n",
       "      <td>1997</td>\n",
       "      <td>406.441</td>\n",
       "      <td>949.277</td>\n",
       "      <td>143.882</td>\n",
       "      <td>422.485</td>\n",
       "      <td>14.095789</td>\n",
       "      <td>23.213754</td>\n",
       "      <td>26.850115</td>\n",
       "      <td>14.651630</td>\n",
       "    </tr>\n",
       "    <tr>\n",
       "      <th>1</th>\n",
       "      <td>01005</td>\n",
       "      <td>1997</td>\n",
       "      <td>374.950</td>\n",
       "      <td>497.590</td>\n",
       "      <td>119.335</td>\n",
       "      <td>537.954</td>\n",
       "      <td>12.495322</td>\n",
       "      <td>21.541057</td>\n",
       "      <td>24.961213</td>\n",
       "      <td>12.270674</td>\n",
       "    </tr>\n",
       "  </tbody>\n",
       "</table>\n",
       "</div>"
      ],
      "text/plain": [
       "  county_fips  year  S1_countyMean_total_precip  S2_countyMean_total_precip  \\\n",
       "0       01003  1997                     406.441                     949.277   \n",
       "1       01005  1997                     374.950                     497.590   \n",
       "\n",
       "   S3_countyMean_total_precip  S4_countyMean_total_precip  \\\n",
       "0                     143.882                     422.485   \n",
       "1                     119.335                     537.954   \n",
       "\n",
       "   S1_countyMean_avg_Tavg  S2_countyMean_avg_Tavg  S3_countyMean_avg_Tavg  \\\n",
       "0               14.095789               23.213754               26.850115   \n",
       "1               12.495322               21.541057               24.961213   \n",
       "\n",
       "   S4_countyMean_avg_Tavg  \n",
       "0               14.651630  \n",
       "1               12.270674  "
      ]
     },
     "execution_count": 18,
     "metadata": {},
     "output_type": "execute_result"
    }
   ],
   "source": [
    "for a_year in seasonal_weather.year.unique():\n",
    "    df = seasonal_weather[seasonal_weather.year == a_year]\n",
    "    print(f\"{len(df.county_fips.unique()) = }\")\n",
    "\n",
    "seasonal_weather.head(2)"
   ]
  },
  {
   "cell_type": "code",
   "execution_count": 19,
   "id": "2c64f416",
   "metadata": {},
   "outputs": [
    {
     "name": "stdout",
     "output_type": "stream",
     "text": [
      "(2379, 4)\n"
     ]
    },
    {
     "data": {
      "text/html": [
       "<div>\n",
       "<style scoped>\n",
       "    .dataframe tbody tr th:only-of-type {\n",
       "        vertical-align: middle;\n",
       "    }\n",
       "\n",
       "    .dataframe tbody tr th {\n",
       "        vertical-align: top;\n",
       "    }\n",
       "\n",
       "    .dataframe thead th {\n",
       "        text-align: right;\n",
       "    }\n",
       "</style>\n",
       "<table border=\"1\" class=\"dataframe\">\n",
       "  <thead>\n",
       "    <tr style=\"text-align: right;\">\n",
       "      <th></th>\n",
       "      <th>fips_id</th>\n",
       "      <th>rangeland_acre</th>\n",
       "      <th>county_area_acre</th>\n",
       "      <th>rangeland_fraction</th>\n",
       "    </tr>\n",
       "  </thead>\n",
       "  <tbody>\n",
       "    <tr>\n",
       "      <th>0</th>\n",
       "      <td>101003</td>\n",
       "      <td>13037.43</td>\n",
       "      <td>1060302.72</td>\n",
       "      <td>0.010000</td>\n",
       "    </tr>\n",
       "    <tr>\n",
       "      <th>1</th>\n",
       "      <td>101005</td>\n",
       "      <td>18.23</td>\n",
       "      <td>575781.12</td>\n",
       "      <td>0.000032</td>\n",
       "    </tr>\n",
       "    <tr>\n",
       "      <th>2</th>\n",
       "      <td>101007</td>\n",
       "      <td>2192.36</td>\n",
       "      <td>400639.36</td>\n",
       "      <td>0.005472</td>\n",
       "    </tr>\n",
       "    <tr>\n",
       "      <th>3</th>\n",
       "      <td>101009</td>\n",
       "      <td>0.44</td>\n",
       "      <td>418130.56</td>\n",
       "      <td>0.000001</td>\n",
       "    </tr>\n",
       "    <tr>\n",
       "      <th>4</th>\n",
       "      <td>101015</td>\n",
       "      <td>30.46</td>\n",
       "      <td>393162.24</td>\n",
       "      <td>0.000077</td>\n",
       "    </tr>\n",
       "  </tbody>\n",
       "</table>\n",
       "</div>"
      ],
      "text/plain": [
       "   fips_id  rangeland_acre  county_area_acre  rangeland_fraction\n",
       "0   101003        13037.43        1060302.72            0.010000\n",
       "1   101005           18.23         575781.12            0.000032\n",
       "2   101007         2192.36         400639.36            0.005472\n",
       "3   101009            0.44         418130.56            0.000001\n",
       "4   101015           30.46         393162.24            0.000077"
      ]
     },
     "execution_count": 19,
     "metadata": {},
     "output_type": "execute_result"
    }
   ],
   "source": [
    "# Rangeland area and Total area:\n",
    "county_RA_and_TA_fraction = pd.read_csv(\n",
    "    reOrganized_dir + \"county_rangeland_and_totalarea_fraction.csv\"\n",
    ")\n",
    "print(county_RA_and_TA_fraction.shape)\n",
    "county_RA_and_TA_fraction.head(5)"
   ]
  },
  {
   "cell_type": "code",
   "execution_count": 20,
   "id": "66fd3df2",
   "metadata": {},
   "outputs": [
    {
     "data": {
      "text/html": [
       "<div>\n",
       "<style scoped>\n",
       "    .dataframe tbody tr th:only-of-type {\n",
       "        vertical-align: middle;\n",
       "    }\n",
       "\n",
       "    .dataframe tbody tr th {\n",
       "        vertical-align: top;\n",
       "    }\n",
       "\n",
       "    .dataframe thead th {\n",
       "        text-align: right;\n",
       "    }\n",
       "</style>\n",
       "<table border=\"1\" class=\"dataframe\">\n",
       "  <thead>\n",
       "    <tr style=\"text-align: right;\">\n",
       "      <th></th>\n",
       "      <th>county_fips</th>\n",
       "      <th>rangeland_acre</th>\n",
       "      <th>county_area_acre</th>\n",
       "      <th>rangeland_fraction</th>\n",
       "    </tr>\n",
       "  </thead>\n",
       "  <tbody>\n",
       "    <tr>\n",
       "      <th>0</th>\n",
       "      <td>01003</td>\n",
       "      <td>13037.43</td>\n",
       "      <td>1060302.72</td>\n",
       "      <td>0.010000</td>\n",
       "    </tr>\n",
       "    <tr>\n",
       "      <th>1</th>\n",
       "      <td>01005</td>\n",
       "      <td>18.23</td>\n",
       "      <td>575781.12</td>\n",
       "      <td>0.000032</td>\n",
       "    </tr>\n",
       "  </tbody>\n",
       "</table>\n",
       "</div>"
      ],
      "text/plain": [
       "  county_fips  rangeland_acre  county_area_acre  rangeland_fraction\n",
       "0       01003        13037.43        1060302.72            0.010000\n",
       "1       01005           18.23         575781.12            0.000032"
      ]
     },
     "execution_count": 20,
     "metadata": {},
     "output_type": "execute_result"
    }
   ],
   "source": [
    "county_RA_and_TA_fraction.rename(columns={\"fips_id\": \"county_fips\"}, inplace=True)\n",
    "county_RA_and_TA_fraction = rc.correct_Mins_FIPS(df=county_RA_and_TA_fraction, col_=\"county_fips\")\n",
    "county_RA_and_TA_fraction.head(2)"
   ]
  },
  {
   "cell_type": "code",
   "execution_count": 21,
   "id": "2c39f929",
   "metadata": {},
   "outputs": [
    {
     "data": {
      "text/html": [
       "<div>\n",
       "<style scoped>\n",
       "    .dataframe tbody tr th:only-of-type {\n",
       "        vertical-align: middle;\n",
       "    }\n",
       "\n",
       "    .dataframe tbody tr th {\n",
       "        vertical-align: top;\n",
       "    }\n",
       "\n",
       "    .dataframe thead th {\n",
       "        text-align: right;\n",
       "    }\n",
       "</style>\n",
       "<table border=\"1\" class=\"dataframe\">\n",
       "  <thead>\n",
       "    <tr style=\"text-align: right;\">\n",
       "      <th></th>\n",
       "      <th>year</th>\n",
       "      <th>county_fips</th>\n",
       "      <th>modis_npp</th>\n",
       "      <th>rangeland_acre</th>\n",
       "      <th>county_area_acre</th>\n",
       "      <th>rangeland_fraction</th>\n",
       "    </tr>\n",
       "  </thead>\n",
       "  <tbody>\n",
       "    <tr>\n",
       "      <th>0</th>\n",
       "      <td>2002</td>\n",
       "      <td>01003</td>\n",
       "      <td>0.826076</td>\n",
       "      <td>13037.43</td>\n",
       "      <td>1060302.72</td>\n",
       "      <td>0.010000</td>\n",
       "    </tr>\n",
       "    <tr>\n",
       "      <th>1</th>\n",
       "      <td>2002</td>\n",
       "      <td>01005</td>\n",
       "      <td>0.484333</td>\n",
       "      <td>18.23</td>\n",
       "      <td>575781.12</td>\n",
       "      <td>0.000032</td>\n",
       "    </tr>\n",
       "  </tbody>\n",
       "</table>\n",
       "</div>"
      ],
      "text/plain": [
       "   year county_fips  modis_npp  rangeland_acre  county_area_acre  \\\n",
       "0  2002       01003   0.826076        13037.43        1060302.72   \n",
       "1  2002       01005   0.484333           18.23         575781.12   \n",
       "\n",
       "   rangeland_fraction  \n",
       "0            0.010000  \n",
       "1            0.000032  "
      ]
     },
     "execution_count": 21,
     "metadata": {},
     "output_type": "execute_result"
    }
   ],
   "source": [
    "county_annual_NPP_Ra = pd.merge(\n",
    "    NPP, county_RA_and_TA_fraction, on=[\"county_fips\"], how=\"left\"\n",
    ")\n",
    "county_annual_NPP_Ra.head(2)"
   ]
  },
  {
   "cell_type": "code",
   "execution_count": 22,
   "id": "befd817a",
   "metadata": {},
   "outputs": [
    {
     "data": {
      "text/html": [
       "<div>\n",
       "<style scoped>\n",
       "    .dataframe tbody tr th:only-of-type {\n",
       "        vertical-align: middle;\n",
       "    }\n",
       "\n",
       "    .dataframe tbody tr th {\n",
       "        vertical-align: top;\n",
       "    }\n",
       "\n",
       "    .dataframe thead th {\n",
       "        text-align: right;\n",
       "    }\n",
       "</style>\n",
       "<table border=\"1\" class=\"dataframe\">\n",
       "  <thead>\n",
       "    <tr style=\"text-align: right;\">\n",
       "      <th></th>\n",
       "      <th>county_fips</th>\n",
       "      <th>year</th>\n",
       "      <th>S1_countyMean_total_precip</th>\n",
       "      <th>S2_countyMean_total_precip</th>\n",
       "      <th>S3_countyMean_total_precip</th>\n",
       "      <th>S4_countyMean_total_precip</th>\n",
       "      <th>S1_countyMean_avg_Tavg</th>\n",
       "      <th>S2_countyMean_avg_Tavg</th>\n",
       "      <th>S3_countyMean_avg_Tavg</th>\n",
       "      <th>S4_countyMean_avg_Tavg</th>\n",
       "      <th>rangeland_acre</th>\n",
       "      <th>county_area_acre</th>\n",
       "      <th>rangeland_fraction</th>\n",
       "    </tr>\n",
       "  </thead>\n",
       "  <tbody>\n",
       "    <tr>\n",
       "      <th>0</th>\n",
       "      <td>01003</td>\n",
       "      <td>1997</td>\n",
       "      <td>406.441</td>\n",
       "      <td>949.277</td>\n",
       "      <td>143.882</td>\n",
       "      <td>422.485</td>\n",
       "      <td>14.095789</td>\n",
       "      <td>23.213754</td>\n",
       "      <td>26.850115</td>\n",
       "      <td>14.651630</td>\n",
       "      <td>13037.43</td>\n",
       "      <td>1060302.72</td>\n",
       "      <td>0.010000</td>\n",
       "    </tr>\n",
       "    <tr>\n",
       "      <th>1</th>\n",
       "      <td>01005</td>\n",
       "      <td>1997</td>\n",
       "      <td>374.950</td>\n",
       "      <td>497.590</td>\n",
       "      <td>119.335</td>\n",
       "      <td>537.954</td>\n",
       "      <td>12.495322</td>\n",
       "      <td>21.541057</td>\n",
       "      <td>24.961213</td>\n",
       "      <td>12.270674</td>\n",
       "      <td>18.23</td>\n",
       "      <td>575781.12</td>\n",
       "      <td>0.000032</td>\n",
       "    </tr>\n",
       "  </tbody>\n",
       "</table>\n",
       "</div>"
      ],
      "text/plain": [
       "  county_fips  year  S1_countyMean_total_precip  S2_countyMean_total_precip  \\\n",
       "0       01003  1997                     406.441                     949.277   \n",
       "1       01005  1997                     374.950                     497.590   \n",
       "\n",
       "   S3_countyMean_total_precip  S4_countyMean_total_precip  \\\n",
       "0                     143.882                     422.485   \n",
       "1                     119.335                     537.954   \n",
       "\n",
       "   S1_countyMean_avg_Tavg  S2_countyMean_avg_Tavg  S3_countyMean_avg_Tavg  \\\n",
       "0               14.095789               23.213754               26.850115   \n",
       "1               12.495322               21.541057               24.961213   \n",
       "\n",
       "   S4_countyMean_avg_Tavg  rangeland_acre  county_area_acre  \\\n",
       "0               14.651630        13037.43        1060302.72   \n",
       "1               12.270674           18.23         575781.12   \n",
       "\n",
       "   rangeland_fraction  \n",
       "0            0.010000  \n",
       "1            0.000032  "
      ]
     },
     "execution_count": 22,
     "metadata": {},
     "output_type": "execute_result"
    }
   ],
   "source": [
    "county_annual_SW_Ra = pd.merge(seasonal_weather, county_RA_and_TA_fraction, on=[\"county_fips\"], how=\"left\")\n",
    "county_annual_SW_Ra.head(2)"
   ]
  },
  {
   "cell_type": "code",
   "execution_count": 23,
   "id": "68fd9a53",
   "metadata": {},
   "outputs": [
    {
     "name": "stdout",
     "output_type": "stream",
     "text": [
      "sorted(cattle_inventory.year.unique())     = [1997, 2002, 2007, 2012, 2017]\n",
      "sorted(county_annual_NPP_Ra.year.unique()) = [2002, 2007, 2012, 2017]\n",
      "sorted(county_annual_SW_Ra.year.unique()) = [1997, 2002, 2007, 2012, 2017]\n"
     ]
    }
   ],
   "source": [
    "print(f\"{sorted(cattle_inventory.year.unique())     = }\")\n",
    "print(f\"{sorted(county_annual_NPP_Ra.year.unique()) = }\")\n",
    "print(f\"{sorted(county_annual_SW_Ra.year.unique()) = }\")"
   ]
  },
  {
   "cell_type": "code",
   "execution_count": 24,
   "id": "d775fcfa",
   "metadata": {},
   "outputs": [
    {
     "name": "stdout",
     "output_type": "stream",
     "text": [
      "[2002, 2007, 2012, 2017]\n",
      "[2002, 2007, 2012, 2017]\n",
      "[2002, 2007, 2012, 2017]\n"
     ]
    }
   ],
   "source": [
    "cattle_inventory = cattle_inventory[\n",
    "    cattle_inventory.year.isin(list(county_annual_NPP_Ra.year.unique()))\n",
    "]\n",
    "county_annual_SW_Ra = county_annual_SW_Ra[\n",
    "    county_annual_SW_Ra.year.isin(list(county_annual_NPP_Ra.year.unique()))\n",
    "]\n",
    "print(sorted(cattle_inventory.year.unique()))\n",
    "print(sorted(county_annual_SW_Ra.year.unique()))\n",
    "print(sorted(county_annual_NPP_Ra.year.unique()))"
   ]
  },
  {
   "cell_type": "code",
   "execution_count": 25,
   "id": "9650ae06",
   "metadata": {},
   "outputs": [
    {
     "name": "stdout",
     "output_type": "stream",
     "text": [
      "2000\n",
      "1586\n",
      "1647\n"
     ]
    }
   ],
   "source": [
    "print(len(cattle_inventory.county_fips.unique()))\n",
    "print(len(county_annual_NPP_Ra.county_fips.unique()))\n",
    "print(len(county_annual_SW_Ra.county_fips.unique()))"
   ]
  },
  {
   "cell_type": "code",
   "execution_count": 26,
   "id": "4a271056",
   "metadata": {},
   "outputs": [
    {
     "data": {
      "text/plain": [
       "511"
      ]
     },
     "execution_count": 26,
     "metadata": {},
     "output_type": "execute_result"
    }
   ],
   "source": [
    "cattle_inventory_cnty_missing_from_NPP = [\n",
    "    x\n",
    "    for x in cattle_inventory.county_fips.unique()\n",
    "    if not (x in county_annual_NPP_Ra.county_fips.unique())\n",
    "]\n",
    "len(cattle_inventory_cnty_missing_from_NPP)"
   ]
  },
  {
   "cell_type": "code",
   "execution_count": 27,
   "id": "ba623138",
   "metadata": {},
   "outputs": [
    {
     "data": {
      "text/plain": [
       "97"
      ]
     },
     "execution_count": 27,
     "metadata": {},
     "output_type": "execute_result"
    }
   ],
   "source": [
    "# 19 was missing when we had \"cattle cow inv\" instead of \"cattle cow beef inv\"\n",
    "NPP_cnty_missing_from_cattle = [\n",
    "    x\n",
    "    for x in county_annual_NPP_Ra.county_fips.unique()\n",
    "    if not (x in cattle_inventory.county_fips.unique())\n",
    "]\n",
    "len(NPP_cnty_missing_from_cattle)"
   ]
  },
  {
   "cell_type": "code",
   "execution_count": 28,
   "id": "9167bdbb",
   "metadata": {},
   "outputs": [
    {
     "name": "stdout",
     "output_type": "stream",
     "text": [
      "False\n",
      "True\n"
     ]
    }
   ],
   "source": [
    "print(\"01001\" in list(county_annual_NPP_Ra.county_fips.unique()))\n",
    "print(\"01001\" in list(cattle_inventory.county_fips.unique()))"
   ]
  },
  {
   "cell_type": "markdown",
   "id": "2a932acc",
   "metadata": {},
   "source": [
    "## NPP has a lot of missing counties\n",
    "\n",
    " - Min says he had a threshld about rangeland/pasture.\n",
    " - subset the NPP and Cattle to the intersection of counties present.\n",
    " - It seems there are different number of counties in each year in cattle inventory. Find intersection of those as well."
   ]
  },
  {
   "cell_type": "code",
   "execution_count": 29,
   "id": "9513e9cb",
   "metadata": {
    "lines_to_next_cell": 2
   },
   "outputs": [
    {
     "name": "stdout",
     "output_type": "stream",
     "text": [
      "len(all_cattle_counties) = 2000\n",
      "2002\n",
      "len(all_cattle_counties) = 1627\n",
      "====================================================================\n",
      "2007\n",
      "len(all_cattle_counties) = 1298\n",
      "====================================================================\n",
      "2012\n",
      "len(all_cattle_counties) = 1075\n",
      "====================================================================\n",
      "2017\n",
      "len(all_cattle_counties) = 910\n",
      "====================================================================\n"
     ]
    }
   ],
   "source": [
    "all_cattle_counties = set(cattle_inventory.county_fips.unique())\n",
    "# it was\n",
    "# 2,093, 2076, 2064, 2051, 2045\n",
    "# when we had \"cattle cow inv\" instead of \"cattle cow beef inv\"\n",
    "print(f\"{len(all_cattle_counties) = }\")\n",
    "\n",
    "for a_year in sorted(cattle_inventory.year.unique()):\n",
    "    curr_cow = cattle_inventory[cattle_inventory.year == a_year].copy()\n",
    "    curr_cow_counties = set(curr_cow.county_fips.unique())\n",
    "    all_cattle_counties = all_cattle_counties.intersection(curr_cow_counties)\n",
    "    print(a_year)\n",
    "    print(f\"{len(all_cattle_counties) = }\")\n",
    "    print(\"====================================================================\")"
   ]
  },
  {
   "cell_type": "code",
   "execution_count": 30,
   "id": "61c9f358",
   "metadata": {
    "lines_to_next_cell": 2
   },
   "outputs": [
    {
     "name": "stdout",
     "output_type": "stream",
     "text": [
      "len(all_county_annual_NPP_Ra) = 1586\n",
      "2002\n",
      "len(all_county_annual_NPP_Ra) = 1586\n",
      "====================================================================\n",
      "2007\n",
      "len(all_county_annual_NPP_Ra) = 1586\n",
      "====================================================================\n",
      "2012\n",
      "len(all_county_annual_NPP_Ra) = 1586\n",
      "====================================================================\n",
      "2017\n",
      "len(all_county_annual_NPP_Ra) = 1586\n",
      "====================================================================\n"
     ]
    }
   ],
   "source": [
    "all_county_annual_NPP_Ra = set(county_annual_NPP_Ra.county_fips.unique())\n",
    "print(f\"{len(all_county_annual_NPP_Ra) = }\")\n",
    "\n",
    "for a_year in sorted(county_annual_NPP_Ra.year.unique()):\n",
    "    curr = county_annual_NPP_Ra[county_annual_NPP_Ra.year == a_year].copy()\n",
    "    curr_counties = set(curr.county_fips.unique())\n",
    "    all_county_annual_NPP_Ra = all_county_annual_NPP_Ra.intersection(curr_counties)\n",
    "    print(a_year)\n",
    "    print(f\"{len(all_county_annual_NPP_Ra) = }\")\n",
    "    print(\"====================================================================\")"
   ]
  },
  {
   "cell_type": "code",
   "execution_count": 31,
   "id": "d01574f0",
   "metadata": {},
   "outputs": [
    {
     "name": "stdout",
     "output_type": "stream",
     "text": [
      "len(all_county_annual_SW_Ra) = 1647\n",
      "2002\n",
      "len(all_county_annual_SW_Ra) = 1647\n",
      "====================================================================\n",
      "2007\n",
      "len(all_county_annual_SW_Ra) = 1647\n",
      "====================================================================\n",
      "2012\n",
      "len(all_county_annual_SW_Ra) = 1647\n",
      "====================================================================\n",
      "2017\n",
      "len(all_county_annual_SW_Ra) = 1647\n",
      "====================================================================\n"
     ]
    }
   ],
   "source": [
    "all_county_annual_SW_Ra = set(county_annual_SW_Ra.county_fips.unique())\n",
    "print(f\"{len(all_county_annual_SW_Ra) = }\")\n",
    "\n",
    "for a_year in sorted(county_annual_SW_Ra.year.unique()):\n",
    "    curr = county_annual_SW_Ra[county_annual_SW_Ra.year == a_year].copy()\n",
    "    curr_counties = set(curr.county_fips.unique())\n",
    "    all_county_annual_SW_Ra = all_county_annual_SW_Ra.intersection(curr_counties)\n",
    "    print(a_year)\n",
    "    print(f\"{len(all_county_annual_SW_Ra) = }\")\n",
    "    print(\"====================================================================\")"
   ]
  },
  {
   "cell_type": "code",
   "execution_count": 32,
   "id": "6fb9c4fc",
   "metadata": {},
   "outputs": [],
   "source": [
    "# choose only the counties that are present in all years:\n",
    "cattle_inventory = cattle_inventory[\n",
    "    cattle_inventory.county_fips.isin(list(all_cattle_counties))\n",
    "]"
   ]
  },
  {
   "cell_type": "code",
   "execution_count": 33,
   "id": "11bf841f",
   "metadata": {},
   "outputs": [],
   "source": [
    "SW_counties = set(county_annual_SW_Ra.county_fips.unique())\n",
    "NPP_counties = set(county_annual_NPP_Ra.county_fips.unique())\n",
    "cow_counties = set(cattle_inventory.county_fips.unique())\n",
    "\n",
    "county_intersection = NPP_counties.intersection(cow_counties)\n",
    "county_intersection = county_intersection.intersection(SW_counties)"
   ]
  },
  {
   "cell_type": "code",
   "execution_count": 34,
   "id": "f385106a",
   "metadata": {},
   "outputs": [
    {
     "name": "stdout",
     "output_type": "stream",
     "text": [
      "county_annual_SW_Ra.shape = (2780, 13)\n",
      "county_annual_NPP_Ra.shape = (2780, 6)\n",
      "cattle_inventory.shape     = (2780, 3)\n",
      "\n",
      "len(county_annual_SW_Ra.county_fips.unique())  = 695\n",
      "len(county_annual_NPP_Ra.county_fips.unique()) = 695\n",
      "len(cattle_inventory.county_fips.unique())     = 695\n",
      "\n",
      "sorted(county_annual_SW_Ra.year.unique())  = [2002, 2007, 2012, 2017]\n",
      "sorted(county_annual_NPP_Ra.year.unique()) = [2002, 2007, 2012, 2017]\n",
      "sorted(cattle_inventory.year.unique())     = [2002, 2007, 2012, 2017]\n"
     ]
    }
   ],
   "source": [
    "county_annual_SW_Ra = county_annual_SW_Ra[\n",
    "    county_annual_SW_Ra.county_fips.isin(list(county_intersection))\n",
    "]\n",
    "county_annual_NPP_Ra = county_annual_NPP_Ra[\n",
    "    county_annual_NPP_Ra.county_fips.isin(list(county_intersection))\n",
    "]\n",
    "cattle_inventory = cattle_inventory[\n",
    "    cattle_inventory.county_fips.isin(list(county_intersection))\n",
    "]\n",
    "\n",
    "print(f\"{county_annual_SW_Ra.shape = }\")\n",
    "print(f\"{county_annual_NPP_Ra.shape = }\")\n",
    "print(f\"{cattle_inventory.shape     = }\")\n",
    "print()\n",
    "print(f\"{len(county_annual_SW_Ra.county_fips.unique())  = }\")\n",
    "print(f\"{len(county_annual_NPP_Ra.county_fips.unique()) = }\")\n",
    "print(f\"{len(cattle_inventory.county_fips.unique())     = }\")\n",
    "print()\n",
    "print(f\"{sorted(county_annual_SW_Ra.year.unique())  = }\")\n",
    "print(f\"{sorted(county_annual_NPP_Ra.year.unique()) = }\")\n",
    "print(f\"{sorted(cattle_inventory.year.unique())     = }\")"
   ]
  },
  {
   "cell_type": "code",
   "execution_count": 35,
   "id": "b44f167c",
   "metadata": {},
   "outputs": [
    {
     "name": "stdout",
     "output_type": "stream",
     "text": [
      "True\n",
      "True\n"
     ]
    }
   ],
   "source": [
    "print(\n",
    "    sorted(cattle_inventory.county_fips.unique())\n",
    "    == sorted(county_annual_NPP_Ra.county_fips.unique())\n",
    ")\n",
    "print(\n",
    "    sorted(cattle_inventory.county_fips.unique())\n",
    "    == sorted(county_annual_SW_Ra.county_fips.unique())\n",
    ")"
   ]
  },
  {
   "cell_type": "code",
   "execution_count": 36,
   "id": "f8d17ffc",
   "metadata": {},
   "outputs": [
    {
     "data": {
      "text/plain": [
       "695"
      ]
     },
     "execution_count": 36,
     "metadata": {},
     "output_type": "execute_result"
    }
   ],
   "source": [
    "# 1,534 when we had \"cattle cow inv\" instead of \"cattle cow beef inv\"\n",
    "len(cattle_inventory.county_fips.unique())"
   ]
  },
  {
   "cell_type": "code",
   "execution_count": 37,
   "id": "dbf3a592",
   "metadata": {},
   "outputs": [
    {
     "name": "stdout",
     "output_type": "stream",
     "text": [
      "cattle_inventory.shape = (2780, 3)\n",
      "county_annual_NPP_Ra.shape = (2780, 6)\n",
      "county_annual_NPP_Ra_cattleInv.shape = (2780, 7)\n"
     ]
    },
    {
     "data": {
      "text/html": [
       "<div>\n",
       "<style scoped>\n",
       "    .dataframe tbody tr th:only-of-type {\n",
       "        vertical-align: middle;\n",
       "    }\n",
       "\n",
       "    .dataframe tbody tr th {\n",
       "        vertical-align: top;\n",
       "    }\n",
       "\n",
       "    .dataframe thead th {\n",
       "        text-align: right;\n",
       "    }\n",
       "</style>\n",
       "<table border=\"1\" class=\"dataframe\">\n",
       "  <thead>\n",
       "    <tr style=\"text-align: right;\">\n",
       "      <th></th>\n",
       "      <th>year</th>\n",
       "      <th>county_fips</th>\n",
       "      <th>modis_npp</th>\n",
       "      <th>rangeland_acre</th>\n",
       "      <th>county_area_acre</th>\n",
       "      <th>rangeland_fraction</th>\n",
       "      <th>cattle_cow_beef_inventory</th>\n",
       "    </tr>\n",
       "  </thead>\n",
       "  <tbody>\n",
       "    <tr>\n",
       "      <th>0</th>\n",
       "      <td>2002</td>\n",
       "      <td>01055</td>\n",
       "      <td>0.560410</td>\n",
       "      <td>57.60</td>\n",
       "      <td>352368.00</td>\n",
       "      <td>0.000163</td>\n",
       "      <td>12020.0</td>\n",
       "    </tr>\n",
       "    <tr>\n",
       "      <th>1</th>\n",
       "      <td>2002</td>\n",
       "      <td>01129</td>\n",
       "      <td>0.534686</td>\n",
       "      <td>95.62</td>\n",
       "      <td>697429.12</td>\n",
       "      <td>0.000137</td>\n",
       "      <td>5364.0</td>\n",
       "    </tr>\n",
       "  </tbody>\n",
       "</table>\n",
       "</div>"
      ],
      "text/plain": [
       "   year county_fips  modis_npp  rangeland_acre  county_area_acre  \\\n",
       "0  2002       01055   0.560410           57.60         352368.00   \n",
       "1  2002       01129   0.534686           95.62         697429.12   \n",
       "\n",
       "   rangeland_fraction  cattle_cow_beef_inventory  \n",
       "0            0.000163                    12020.0  \n",
       "1            0.000137                     5364.0  "
      ]
     },
     "execution_count": 37,
     "metadata": {},
     "output_type": "execute_result"
    }
   ],
   "source": [
    "county_annual_NPP_Ra_cattleInv = pd.merge(\n",
    "    county_annual_NPP_Ra, cattle_inventory, on=[\"county_fips\", \"year\"], how=\"left\"\n",
    ")\n",
    "\n",
    "print(f\"{cattle_inventory.shape = }\")\n",
    "print(f\"{county_annual_NPP_Ra.shape = }\")\n",
    "print(f\"{county_annual_NPP_Ra_cattleInv.shape = }\")\n",
    "county_annual_NPP_Ra_cattleInv.head(2)"
   ]
  },
  {
   "cell_type": "code",
   "execution_count": 38,
   "id": "916748b2",
   "metadata": {},
   "outputs": [
    {
     "name": "stdout",
     "output_type": "stream",
     "text": [
      "cattle_inventory.shape = (2780, 3)\n",
      "county_annual_SW_Ra.shape = (2780, 13)\n",
      "county_annual_SW_Ra_cattleInv.shape = (2780, 14)\n"
     ]
    },
    {
     "data": {
      "text/html": [
       "<div>\n",
       "<style scoped>\n",
       "    .dataframe tbody tr th:only-of-type {\n",
       "        vertical-align: middle;\n",
       "    }\n",
       "\n",
       "    .dataframe tbody tr th {\n",
       "        vertical-align: top;\n",
       "    }\n",
       "\n",
       "    .dataframe thead th {\n",
       "        text-align: right;\n",
       "    }\n",
       "</style>\n",
       "<table border=\"1\" class=\"dataframe\">\n",
       "  <thead>\n",
       "    <tr style=\"text-align: right;\">\n",
       "      <th></th>\n",
       "      <th>county_fips</th>\n",
       "      <th>year</th>\n",
       "      <th>S1_countyMean_total_precip</th>\n",
       "      <th>S2_countyMean_total_precip</th>\n",
       "      <th>S3_countyMean_total_precip</th>\n",
       "      <th>S4_countyMean_total_precip</th>\n",
       "      <th>S1_countyMean_avg_Tavg</th>\n",
       "      <th>S2_countyMean_avg_Tavg</th>\n",
       "      <th>S3_countyMean_avg_Tavg</th>\n",
       "      <th>S4_countyMean_avg_Tavg</th>\n",
       "      <th>rangeland_acre</th>\n",
       "      <th>county_area_acre</th>\n",
       "      <th>rangeland_fraction</th>\n",
       "      <th>cattle_cow_beef_inventory</th>\n",
       "    </tr>\n",
       "  </thead>\n",
       "  <tbody>\n",
       "    <tr>\n",
       "      <th>0</th>\n",
       "      <td>01055</td>\n",
       "      <td>2002</td>\n",
       "      <td>384.081</td>\n",
       "      <td>381.902</td>\n",
       "      <td>297.505</td>\n",
       "      <td>444.936</td>\n",
       "      <td>8.504456</td>\n",
       "      <td>22.419525</td>\n",
       "      <td>25.522639</td>\n",
       "      <td>11.011326</td>\n",
       "      <td>57.60</td>\n",
       "      <td>352368.00</td>\n",
       "      <td>0.000163</td>\n",
       "      <td>12020.0</td>\n",
       "    </tr>\n",
       "    <tr>\n",
       "      <th>1</th>\n",
       "      <td>01129</td>\n",
       "      <td>2002</td>\n",
       "      <td>363.117</td>\n",
       "      <td>419.090</td>\n",
       "      <td>391.772</td>\n",
       "      <td>572.797</td>\n",
       "      <td>11.222078</td>\n",
       "      <td>24.012369</td>\n",
       "      <td>26.272246</td>\n",
       "      <td>14.197446</td>\n",
       "      <td>95.62</td>\n",
       "      <td>697429.12</td>\n",
       "      <td>0.000137</td>\n",
       "      <td>5364.0</td>\n",
       "    </tr>\n",
       "  </tbody>\n",
       "</table>\n",
       "</div>"
      ],
      "text/plain": [
       "  county_fips  year  S1_countyMean_total_precip  S2_countyMean_total_precip  \\\n",
       "0       01055  2002                     384.081                     381.902   \n",
       "1       01129  2002                     363.117                     419.090   \n",
       "\n",
       "   S3_countyMean_total_precip  S4_countyMean_total_precip  \\\n",
       "0                     297.505                     444.936   \n",
       "1                     391.772                     572.797   \n",
       "\n",
       "   S1_countyMean_avg_Tavg  S2_countyMean_avg_Tavg  S3_countyMean_avg_Tavg  \\\n",
       "0                8.504456               22.419525               25.522639   \n",
       "1               11.222078               24.012369               26.272246   \n",
       "\n",
       "   S4_countyMean_avg_Tavg  rangeland_acre  county_area_acre  \\\n",
       "0               11.011326           57.60         352368.00   \n",
       "1               14.197446           95.62         697429.12   \n",
       "\n",
       "   rangeland_fraction  cattle_cow_beef_inventory  \n",
       "0            0.000163                    12020.0  \n",
       "1            0.000137                     5364.0  "
      ]
     },
     "execution_count": 38,
     "metadata": {},
     "output_type": "execute_result"
    }
   ],
   "source": [
    "county_annual_SW_Ra_cattleInv = pd.merge(\n",
    "    county_annual_SW_Ra, cattle_inventory, on=[\"county_fips\", \"year\"], how=\"left\"\n",
    ")\n",
    "\n",
    "print(f\"{cattle_inventory.shape = }\")\n",
    "print(f\"{county_annual_SW_Ra.shape = }\")\n",
    "print(f\"{county_annual_SW_Ra_cattleInv.shape = }\")\n",
    "county_annual_SW_Ra_cattleInv.head(2)"
   ]
  },
  {
   "cell_type": "code",
   "execution_count": null,
   "id": "ed7a0939",
   "metadata": {},
   "outputs": [],
   "source": []
  },
  {
   "cell_type": "code",
   "execution_count": 39,
   "id": "49bcb6d6",
   "metadata": {},
   "outputs": [
    {
     "data": {
      "text/html": [
       "<div>\n",
       "<style scoped>\n",
       "    .dataframe tbody tr th:only-of-type {\n",
       "        vertical-align: middle;\n",
       "    }\n",
       "\n",
       "    .dataframe tbody tr th {\n",
       "        vertical-align: top;\n",
       "    }\n",
       "\n",
       "    .dataframe thead th {\n",
       "        text-align: right;\n",
       "    }\n",
       "</style>\n",
       "<table border=\"1\" class=\"dataframe\">\n",
       "  <thead>\n",
       "    <tr style=\"text-align: right;\">\n",
       "      <th></th>\n",
       "      <th>year</th>\n",
       "      <th>county_fips</th>\n",
       "      <th>modis_npp</th>\n",
       "      <th>rangeland_acre</th>\n",
       "      <th>county_area_acre</th>\n",
       "      <th>rangeland_fraction</th>\n",
       "      <th>cattle_cow_beef_inventory</th>\n",
       "    </tr>\n",
       "  </thead>\n",
       "  <tbody>\n",
       "    <tr>\n",
       "      <th>0</th>\n",
       "      <td>2002</td>\n",
       "      <td>01055</td>\n",
       "      <td>0.560410</td>\n",
       "      <td>57.60</td>\n",
       "      <td>352368.00</td>\n",
       "      <td>0.000163</td>\n",
       "      <td>12020.0</td>\n",
       "    </tr>\n",
       "    <tr>\n",
       "      <th>1</th>\n",
       "      <td>2002</td>\n",
       "      <td>01129</td>\n",
       "      <td>0.534686</td>\n",
       "      <td>95.62</td>\n",
       "      <td>697429.12</td>\n",
       "      <td>0.000137</td>\n",
       "      <td>5364.0</td>\n",
       "    </tr>\n",
       "  </tbody>\n",
       "</table>\n",
       "</div>"
      ],
      "text/plain": [
       "   year county_fips  modis_npp  rangeland_acre  county_area_acre  \\\n",
       "0  2002       01055   0.560410           57.60         352368.00   \n",
       "1  2002       01129   0.534686           95.62         697429.12   \n",
       "\n",
       "   rangeland_fraction  cattle_cow_beef_inventory  \n",
       "0            0.000163                    12020.0  \n",
       "1            0.000137                     5364.0  "
      ]
     },
     "execution_count": 39,
     "metadata": {},
     "output_type": "execute_result"
    }
   ],
   "source": [
    "county_annual_NPP_Ra_cattleInv.sort_values(by=[\"year\", \"county_fips\"], inplace=True)\n",
    "county_annual_NPP_Ra_cattleInv.reset_index(drop=True, inplace=True)\n",
    "county_annual_NPP_Ra_cattleInv.head(2)"
   ]
  },
  {
   "cell_type": "code",
   "execution_count": 40,
   "id": "bd0e9893",
   "metadata": {},
   "outputs": [
    {
     "data": {
      "text/html": [
       "<div>\n",
       "<style scoped>\n",
       "    .dataframe tbody tr th:only-of-type {\n",
       "        vertical-align: middle;\n",
       "    }\n",
       "\n",
       "    .dataframe tbody tr th {\n",
       "        vertical-align: top;\n",
       "    }\n",
       "\n",
       "    .dataframe thead th {\n",
       "        text-align: right;\n",
       "    }\n",
       "</style>\n",
       "<table border=\"1\" class=\"dataframe\">\n",
       "  <thead>\n",
       "    <tr style=\"text-align: right;\">\n",
       "      <th></th>\n",
       "      <th>county_fips</th>\n",
       "      <th>year</th>\n",
       "      <th>S1_countyMean_total_precip</th>\n",
       "      <th>S2_countyMean_total_precip</th>\n",
       "      <th>S3_countyMean_total_precip</th>\n",
       "      <th>S4_countyMean_total_precip</th>\n",
       "      <th>S1_countyMean_avg_Tavg</th>\n",
       "      <th>S2_countyMean_avg_Tavg</th>\n",
       "      <th>S3_countyMean_avg_Tavg</th>\n",
       "      <th>S4_countyMean_avg_Tavg</th>\n",
       "      <th>rangeland_acre</th>\n",
       "      <th>county_area_acre</th>\n",
       "      <th>rangeland_fraction</th>\n",
       "      <th>cattle_cow_beef_inventory</th>\n",
       "    </tr>\n",
       "  </thead>\n",
       "  <tbody>\n",
       "    <tr>\n",
       "      <th>0</th>\n",
       "      <td>01055</td>\n",
       "      <td>2002</td>\n",
       "      <td>384.081</td>\n",
       "      <td>381.902</td>\n",
       "      <td>297.505</td>\n",
       "      <td>444.936</td>\n",
       "      <td>8.504456</td>\n",
       "      <td>22.419525</td>\n",
       "      <td>25.522639</td>\n",
       "      <td>11.011326</td>\n",
       "      <td>57.60</td>\n",
       "      <td>352368.00</td>\n",
       "      <td>0.000163</td>\n",
       "      <td>12020.0</td>\n",
       "    </tr>\n",
       "    <tr>\n",
       "      <th>1</th>\n",
       "      <td>01129</td>\n",
       "      <td>2002</td>\n",
       "      <td>363.117</td>\n",
       "      <td>419.090</td>\n",
       "      <td>391.772</td>\n",
       "      <td>572.797</td>\n",
       "      <td>11.222078</td>\n",
       "      <td>24.012369</td>\n",
       "      <td>26.272246</td>\n",
       "      <td>14.197446</td>\n",
       "      <td>95.62</td>\n",
       "      <td>697429.12</td>\n",
       "      <td>0.000137</td>\n",
       "      <td>5364.0</td>\n",
       "    </tr>\n",
       "  </tbody>\n",
       "</table>\n",
       "</div>"
      ],
      "text/plain": [
       "  county_fips  year  S1_countyMean_total_precip  S2_countyMean_total_precip  \\\n",
       "0       01055  2002                     384.081                     381.902   \n",
       "1       01129  2002                     363.117                     419.090   \n",
       "\n",
       "   S3_countyMean_total_precip  S4_countyMean_total_precip  \\\n",
       "0                     297.505                     444.936   \n",
       "1                     391.772                     572.797   \n",
       "\n",
       "   S1_countyMean_avg_Tavg  S2_countyMean_avg_Tavg  S3_countyMean_avg_Tavg  \\\n",
       "0                8.504456               22.419525               25.522639   \n",
       "1               11.222078               24.012369               26.272246   \n",
       "\n",
       "   S4_countyMean_avg_Tavg  rangeland_acre  county_area_acre  \\\n",
       "0               11.011326           57.60         352368.00   \n",
       "1               14.197446           95.62         697429.12   \n",
       "\n",
       "   rangeland_fraction  cattle_cow_beef_inventory  \n",
       "0            0.000163                    12020.0  \n",
       "1            0.000137                     5364.0  "
      ]
     },
     "execution_count": 40,
     "metadata": {},
     "output_type": "execute_result"
    }
   ],
   "source": [
    "county_annual_SW_Ra_cattleInv.sort_values(by=[\"year\", \"county_fips\"], inplace=True)\n",
    "county_annual_SW_Ra_cattleInv.reset_index(drop=True, inplace=True)\n",
    "county_annual_SW_Ra_cattleInv.head(2)"
   ]
  },
  {
   "cell_type": "markdown",
   "id": "1f6d91a9",
   "metadata": {},
   "source": [
    "## Least Squares based on 2017 ```NPP```"
   ]
  },
  {
   "cell_type": "code",
   "execution_count": 41,
   "id": "deb54ba5",
   "metadata": {},
   "outputs": [],
   "source": [
    "NPP_Ra_cattleInv_2017 = county_annual_NPP_Ra_cattleInv[county_annual_NPP_Ra_cattleInv.year == 2017].copy()"
   ]
  },
  {
   "cell_type": "code",
   "execution_count": 42,
   "id": "fb727dbb",
   "metadata": {
    "scrolled": true
   },
   "outputs": [
    {
     "name": "stdout",
     "output_type": "stream",
     "text": [
      "y_2017.shape = (695,)\n"
     ]
    },
    {
     "data": {
      "text/plain": [
       "array([8.8720e+03, 6.8840e+03, 1.9549e+04, 2.4172e+04, 2.1810e+03,\n",
       "       1.4578e+04, 1.5283e+04, 6.3270e+03, 1.1249e+04, 1.2918e+04,\n",
       "       2.6303e+04, 1.0801e+04, 7.9300e+02, 3.1390e+03, 1.6301e+04,\n",
       "       1.5531e+04, 1.7412e+04, 4.1537e+04, 4.2360e+03, 2.0510e+03,\n",
       "       2.2521e+04, 1.2701e+04, 8.3130e+03, 3.3199e+04, 2.1830e+03,\n",
       "       1.5040e+03, 1.3934e+04, 3.6790e+03, 3.9510e+03, 1.7183e+04,\n",
       "       1.0430e+03, 3.9000e+02, 1.6342e+04, 2.6188e+04, 1.0974e+04,\n",
       "       2.6213e+04, 2.7018e+04, 1.7070e+03, 7.2778e+04, 3.5440e+03,\n",
       "       4.3250e+03, 1.5738e+04, 7.9190e+03, 1.8993e+04, 3.9100e+02,\n",
       "       1.2657e+04, 1.6048e+04, 2.8174e+04, 2.6726e+04, 2.3712e+04,\n",
       "       1.4461e+04, 1.9909e+04, 1.5575e+04, 4.0380e+03, 1.5831e+04,\n",
       "       1.4374e+04, 1.0260e+03, 5.7847e+04, 2.6087e+04, 9.0600e+03,\n",
       "       1.4218e+04, 3.3990e+03, 5.6660e+03, 3.9689e+04, 4.5254e+04,\n",
       "       2.3474e+04, 1.0005e+04, 1.3029e+04, 2.1125e+04, 7.7040e+03,\n",
       "       1.7867e+04, 7.6570e+03, 1.7588e+04, 3.1823e+04, 2.9990e+03,\n",
       "       2.0650e+03, 5.0487e+04, 6.6395e+04, 2.1054e+04, 1.7200e+03,\n",
       "       4.5050e+03, 1.5986e+04, 7.8530e+03, 1.0570e+03, 3.4350e+03,\n",
       "       1.7730e+03, 3.4090e+03, 2.9200e+02, 3.7720e+03, 7.3230e+03,\n",
       "       1.7300e+03, 1.5700e+02, 1.1720e+03, 8.4000e+01, 2.3310e+03,\n",
       "       3.5980e+03, 1.0560e+03, 1.8900e+02, 4.1250e+03, 1.4630e+03,\n",
       "       3.4080e+03, 4.0490e+03, 3.6300e+02, 1.3590e+03, 1.2560e+03,\n",
       "       5.9600e+02, 3.1150e+03, 5.4300e+02, 1.2490e+03, 5.3000e+02,\n",
       "       7.8200e+02, 1.2360e+03, 7.4030e+03, 1.2713e+04, 1.8911e+04,\n",
       "       4.1571e+04, 2.4070e+03, 1.5234e+04, 4.2190e+03, 1.6858e+04,\n",
       "       1.3695e+04, 2.8245e+04, 4.6470e+03, 1.6564e+04, 1.0050e+04,\n",
       "       8.7010e+03, 9.3930e+03, 1.6314e+04, 1.7332e+04, 9.2300e+03,\n",
       "       2.2872e+04, 6.8410e+03, 5.6220e+03, 4.4443e+04, 1.0213e+04,\n",
       "       1.3500e+02, 4.2870e+03, 2.7319e+04, 1.7558e+04, 5.8800e+02,\n",
       "       2.5850e+03, 1.1410e+03, 3.2300e+03, 3.1710e+03, 5.4620e+03,\n",
       "       2.6190e+03, 3.2770e+03, 2.0830e+03, 1.4620e+03, 1.7290e+03,\n",
       "       2.5700e+02, 1.7230e+03, 4.8360e+03, 4.9400e+03, 3.3170e+03,\n",
       "       1.4100e+03, 3.3320e+03, 5.1550e+03, 2.8660e+03, 7.8520e+03,\n",
       "       2.0432e+04, 8.9900e+02, 4.0600e+03, 2.9460e+03, 2.0030e+03,\n",
       "       2.8890e+03, 8.5100e+03, 5.0130e+03, 1.9840e+03, 3.4890e+03,\n",
       "       4.4540e+03, 1.2990e+03, 6.5720e+03, 4.7850e+03, 4.4400e+03,\n",
       "       1.9380e+03, 5.7410e+03, 5.7150e+03, 3.5790e+03, 2.2830e+03,\n",
       "       7.3180e+03, 2.9510e+03, 2.4300e+03, 6.3600e+02, 1.7300e+03,\n",
       "       1.9311e+04, 1.5546e+04, 1.1916e+04, 3.7520e+03, 4.2300e+03,\n",
       "       4.7320e+03, 7.5650e+03, 8.4080e+03, 5.9860e+03, 1.8827e+04,\n",
       "       1.5730e+04, 1.4993e+04, 1.3320e+04, 1.4634e+04, 9.5540e+03,\n",
       "       4.1100e+03, 3.6340e+03, 4.0080e+03, 4.9490e+03, 1.3799e+04,\n",
       "       2.4067e+04, 9.0420e+03, 1.1313e+04, 1.6294e+04, 8.5500e+03,\n",
       "       1.2750e+04, 1.7974e+04, 1.3688e+04, 1.5758e+04, 9.2420e+03,\n",
       "       1.1370e+04, 5.1900e+03, 5.7290e+03, 7.0640e+03, 4.0150e+03,\n",
       "       2.6700e+03, 1.7760e+03, 2.9260e+03, 2.6646e+04, 4.3810e+03,\n",
       "       1.5459e+04, 1.5624e+04, 1.1711e+04, 9.8740e+03, 1.4576e+04,\n",
       "       1.2530e+04, 2.5630e+03, 2.3630e+03, 1.8214e+04, 1.1497e+04,\n",
       "       8.6420e+03, 1.7676e+04, 1.4560e+04, 2.8610e+04, 2.4032e+04,\n",
       "       1.1180e+04, 1.4047e+04, 1.8004e+04, 1.4018e+04, 7.1540e+03,\n",
       "       8.5410e+03, 2.8610e+03, 2.2862e+04, 4.8090e+03, 3.1448e+04,\n",
       "       1.3757e+04, 2.0800e+04, 1.4192e+04, 2.2980e+04, 1.6145e+04,\n",
       "       2.2694e+04, 2.3686e+04, 1.6840e+04, 2.0945e+04, 1.9635e+04,\n",
       "       2.5982e+04, 2.6107e+04, 1.3679e+04, 2.7131e+04, 1.3838e+04,\n",
       "       5.6900e+02, 2.0956e+04, 3.7087e+04, 2.3584e+04, 8.9390e+03,\n",
       "       7.9060e+03, 1.6952e+04, 1.8869e+04, 1.0005e+04, 5.6210e+03,\n",
       "       2.0017e+04, 1.3662e+04, 2.2405e+04, 1.2613e+04, 1.7068e+04,\n",
       "       1.3748e+04, 1.7747e+04, 3.1266e+04, 8.2360e+03, 6.1800e+03,\n",
       "       2.3147e+04, 7.0140e+03, 3.7300e+02, 2.4739e+04, 1.4305e+04,\n",
       "       2.3050e+03, 3.7900e+03, 2.0340e+03, 4.2170e+03, 5.7300e+02,\n",
       "       1.2125e+04, 1.0180e+04, 4.3330e+03, 8.6540e+03, 5.4220e+03,\n",
       "       1.8700e+02, 1.7011e+04, 1.9604e+04, 2.9740e+03, 2.4250e+04,\n",
       "       1.0539e+04, 1.0670e+03, 2.1170e+03, 8.7880e+03, 4.7900e+03,\n",
       "       2.0390e+03, 4.1460e+03, 7.2870e+03, 1.0273e+04, 5.1910e+03,\n",
       "       8.3260e+03, 4.6960e+03, 2.2987e+04, 9.0580e+03, 3.8980e+03,\n",
       "       1.1843e+04, 2.5193e+04, 4.6277e+04, 2.7353e+04, 1.6828e+04,\n",
       "       1.9200e+04, 1.1173e+04, 1.3667e+04, 2.2811e+04, 2.9096e+04,\n",
       "       2.2436e+04, 7.8820e+03, 2.6447e+04, 2.0587e+04, 1.6132e+04,\n",
       "       3.7105e+04, 2.8859e+04, 1.4691e+04, 1.6613e+04, 1.9593e+04,\n",
       "       3.3103e+04, 2.0721e+04, 1.6835e+04, 3.7691e+04, 1.2120e+04,\n",
       "       2.2906e+04, 2.2120e+04, 1.3998e+04, 3.1705e+04, 5.4110e+03,\n",
       "       3.7410e+04, 1.4558e+04, 4.0002e+04, 5.2362e+04, 1.0032e+04,\n",
       "       2.6712e+04, 8.6910e+03, 2.5297e+04, 7.9970e+03, 7.8530e+03,\n",
       "       3.6398e+04, 3.0822e+04, 1.4567e+04, 2.9073e+04, 4.7865e+04,\n",
       "       2.5710e+04, 3.9026e+04, 1.7069e+04, 3.0586e+04, 1.7305e+04,\n",
       "       5.6448e+04, 2.2971e+04, 1.2376e+04, 1.4142e+04, 2.8099e+04,\n",
       "       1.1900e+04, 1.0100e+02, 9.3490e+03, 4.8991e+04, 3.8181e+04,\n",
       "       3.7810e+04, 7.1880e+04, 5.2726e+04, 3.3793e+04, 5.4394e+04,\n",
       "       3.9410e+04, 2.4574e+04, 7.9847e+04, 1.6201e+04, 4.7305e+04,\n",
       "       3.1320e+04, 2.6927e+04, 7.5370e+03, 5.2285e+04, 3.7170e+03,\n",
       "       2.5113e+04, 2.4704e+04, 1.3377e+04, 5.1568e+04, 1.5332e+04,\n",
       "       4.9046e+04, 2.3698e+04, 1.5242e+04, 1.0176e+04, 2.4276e+04,\n",
       "       1.2008e+04, 2.7651e+04, 2.4107e+04, 1.9380e+04, 1.0928e+04,\n",
       "       1.0571e+04, 3.2343e+04, 5.7900e+03, 1.0046e+04, 2.9352e+04,\n",
       "       1.4911e+04, 9.6467e+04, 1.7869e+04, 1.1082e+04, 5.1039e+04,\n",
       "       1.0215e+04, 2.2905e+04, 1.2682e+04, 3.4753e+04, 1.0263e+04,\n",
       "       2.0053e+04, 9.0930e+03, 7.6490e+03, 1.7378e+04, 9.2930e+03,\n",
       "       5.5484e+04, 3.4321e+04, 5.5350e+03, 9.6980e+03, 2.2419e+04,\n",
       "       1.6555e+04, 3.6585e+04, 1.6565e+04, 1.2181e+04, 7.8000e+03,\n",
       "       1.6701e+04, 1.9432e+04, 2.4259e+04, 1.2402e+04, 1.1320e+04,\n",
       "       2.2952e+04, 2.4196e+04, 9.6030e+03, 1.4663e+04, 6.3050e+03,\n",
       "       2.2682e+04, 4.4000e+04, 4.2723e+04, 1.5159e+04, 3.5339e+04,\n",
       "       3.9196e+04, 9.2240e+03, 4.0290e+04, 3.3607e+04, 1.9001e+04,\n",
       "       2.5297e+04, 5.4371e+04, 2.6437e+04, 1.1219e+04, 1.6085e+04,\n",
       "       3.5240e+03, 3.1623e+04, 3.1242e+04, 2.8889e+04, 3.4370e+04,\n",
       "       4.3648e+04, 5.1265e+04, 2.7832e+04, 2.4154e+04, 3.4510e+04,\n",
       "       2.1584e+04, 4.6453e+04, 2.3985e+04, 4.0606e+04, 3.7520e+04,\n",
       "       2.2408e+04, 1.7128e+04, 3.4519e+04, 2.3660e+04, 1.7123e+04,\n",
       "       4.0638e+04, 4.1105e+04, 2.4717e+04, 2.8807e+04, 3.0626e+04,\n",
       "       1.3531e+04, 3.7104e+04, 4.5312e+04, 2.5646e+04, 2.6467e+04,\n",
       "       5.7999e+04, 2.7026e+04, 2.9645e+04, 2.6723e+04, 1.8121e+04,\n",
       "       3.5686e+04, 1.9733e+04, 3.6871e+04, 1.6633e+04, 6.7810e+03,\n",
       "       1.8604e+04, 1.4176e+04, 3.4575e+04, 2.9690e+03, 6.9010e+03,\n",
       "       2.5290e+03, 7.6670e+03, 2.6954e+04, 2.1085e+04, 6.8865e+04,\n",
       "       1.2477e+04, 2.8448e+04, 8.7170e+03, 1.7130e+03, 7.7990e+03,\n",
       "       7.5551e+04, 3.8450e+03, 2.3530e+03, 2.3690e+03, 1.0010e+03,\n",
       "       1.6511e+04, 2.1363e+04, 1.3819e+04, 1.7330e+03, 2.9270e+03,\n",
       "       3.1582e+04, 1.9353e+04, 2.8206e+04, 3.8738e+04, 1.8938e+04,\n",
       "       4.5920e+04, 1.6731e+04, 1.2202e+04, 1.7390e+04, 2.0218e+04,\n",
       "       1.5449e+04, 4.9386e+04, 1.8718e+04, 3.8647e+04, 4.8747e+04,\n",
       "       1.1475e+04, 1.3108e+04, 4.9265e+04, 3.0221e+04, 2.1616e+04,\n",
       "       4.2937e+04, 1.0176e+04, 4.9550e+03, 1.6035e+04, 7.9459e+04,\n",
       "       2.0798e+04, 1.4369e+04, 3.5043e+04, 6.3816e+04, 1.5241e+04,\n",
       "       9.4690e+03, 1.3985e+04, 6.0210e+03, 1.6265e+04, 3.6929e+04,\n",
       "       3.9210e+03, 1.1505e+04, 2.8254e+04, 1.2543e+04, 3.0040e+03,\n",
       "       7.5470e+03, 8.5660e+03, 1.2530e+04, 9.4040e+03, 1.4020e+04,\n",
       "       2.4586e+04, 6.8490e+03, 2.3253e+04, 6.3320e+03, 2.3870e+03,\n",
       "       4.5660e+03, 1.4239e+04, 1.5117e+04, 1.7961e+04, 1.6624e+04,\n",
       "       1.3644e+04, 2.1042e+04, 7.6880e+03, 9.4300e+02, 2.1477e+04,\n",
       "       4.1163e+04, 6.4750e+03, 5.5740e+03, 3.6749e+04, 1.1303e+04,\n",
       "       1.1405e+04, 3.8880e+04, 1.1423e+04, 1.2268e+04, 2.2406e+04,\n",
       "       8.4620e+03, 1.6451e+04, 8.2700e+03, 3.5058e+04, 2.9320e+03,\n",
       "       9.3300e+03, 2.0520e+04, 1.0591e+04, 4.4987e+04, 7.7790e+03,\n",
       "       3.9747e+04, 1.2231e+04, 2.6279e+04, 1.0550e+04, 1.8620e+03,\n",
       "       1.0287e+04, 6.4400e+03, 8.5800e+03, 3.6770e+03, 3.4630e+03,\n",
       "       1.8272e+04, 1.3068e+04, 1.5046e+04, 4.1400e+03, 9.6080e+03,\n",
       "       4.2250e+04, 3.9849e+04, 2.0912e+04, 3.7208e+04, 1.8389e+04,\n",
       "       7.3940e+03, 2.9855e+04, 1.3169e+04, 2.6686e+04, 9.3560e+03,\n",
       "       1.4291e+04, 4.8574e+04, 6.0890e+03, 1.6112e+04, 1.2393e+04,\n",
       "       2.8786e+04, 1.1553e+04, 2.2159e+04, 1.0448e+04, 7.0230e+03,\n",
       "       1.3989e+04, 9.3620e+03, 7.8000e+03, 3.7435e+04, 2.1577e+04,\n",
       "       2.0364e+04, 1.5420e+03, 3.6934e+04, 8.1140e+03, 3.3923e+04,\n",
       "       6.1100e+03, 1.0375e+04, 8.7210e+03, 3.6126e+04, 6.2270e+03,\n",
       "       2.1998e+04, 7.5600e+03, 6.6180e+03, 1.7782e+04, 7.1260e+03,\n",
       "       2.7030e+03, 6.4990e+03, 1.5949e+04, 4.0570e+03, 7.5700e+03,\n",
       "       1.1018e+04, 1.7954e+04, 1.1825e+04, 3.1644e+04, 2.4517e+04,\n",
       "       4.1730e+04, 1.1966e+04, 4.7600e+02, 1.5300e+02, 2.2220e+03,\n",
       "       1.2224e+04, 4.8600e+02, 2.5900e+02, 2.2057e+04, 1.2588e+04,\n",
       "       4.0410e+03, 1.1083e+04, 2.3896e+04, 5.0609e+04, 3.6803e+04,\n",
       "       4.1282e+04, 5.5924e+04, 2.9822e+04, 3.8218e+04, 3.6716e+04])"
      ]
     },
     "execution_count": 42,
     "metadata": {},
     "output_type": "execute_result"
    }
   ],
   "source": [
    "NPP_A_2017 = NPP_Ra_cattleInv_2017[[\"modis_npp\", \"rangeland_acre\"]].values\n",
    "y_2017 = NPP_Ra_cattleInv_2017[[\"cattle_cow_beef_inventory\"]].values.reshape(-1)\n",
    "print(f\"{y_2017.shape = }\")\n",
    "y_2017"
   ]
  },
  {
   "cell_type": "code",
   "execution_count": 43,
   "id": "c05f3396",
   "metadata": {},
   "outputs": [
    {
     "name": "stdout",
     "output_type": "stream",
     "text": [
      "(695, 3)\n"
     ]
    },
    {
     "data": {
      "text/plain": [
       "array([[8.81980008e-01, 5.76000000e+01, 1.00000000e+00],\n",
       "       [8.75621425e-01, 9.56200000e+01, 1.00000000e+00],\n",
       "       [7.05776388e-01, 3.87180000e+02, 1.00000000e+00],\n",
       "       ...,\n",
       "       [2.40463006e-01, 1.49066429e+06, 1.00000000e+00],\n",
       "       [1.97135233e-01, 3.12539797e+06, 1.00000000e+00],\n",
       "       [3.19563048e-01, 1.07932698e+06, 1.00000000e+00]])"
      ]
     },
     "execution_count": 43,
     "metadata": {},
     "output_type": "execute_result"
    }
   ],
   "source": [
    "NPP_A_2017 = np.hstack([NPP_A_2017, np.ones(len(NPP_A_2017)).reshape(-1, 1)])\n",
    "print(NPP_A_2017.shape)\n",
    "NPP_A_2017"
   ]
  },
  {
   "cell_type": "code",
   "execution_count": 44,
   "id": "4c6fdd96",
   "metadata": {},
   "outputs": [
    {
     "name": "stderr",
     "output_type": "stream",
     "text": [
      "/var/folders/52/7m74slcx71g28m0l4w9jrjg80000gn/T/ipykernel_13727/2319658865.py:1: FutureWarning: `rcond` parameter will change to the default of machine precision times ``max(M, N)`` where M and N are the input matrix dimensions.\n",
      "To use the future default and silence this warning we advise to pass `rcond=None`, to keep using the old, explicitly pass `rcond=-1`.\n",
      "  NPP_sol_2017, NPP_RSS_2017, NPP_rank_2017, NPP_singular_vals_2017 = np.linalg.lstsq(\n"
     ]
    }
   ],
   "source": [
    "NPP_sol_2017, NPP_RSS_2017, NPP_rank_2017, NPP_singular_vals_2017 = np.linalg.lstsq(NPP_A_2017, y_2017)"
   ]
  },
  {
   "cell_type": "code",
   "execution_count": 45,
   "id": "9a48f4c8",
   "metadata": {},
   "outputs": [
    {
     "data": {
      "text/html": [
       "<div>\n",
       "<style scoped>\n",
       "    .dataframe tbody tr th:only-of-type {\n",
       "        vertical-align: middle;\n",
       "    }\n",
       "\n",
       "    .dataframe tbody tr th {\n",
       "        vertical-align: top;\n",
       "    }\n",
       "\n",
       "    .dataframe thead th {\n",
       "        text-align: right;\n",
       "    }\n",
       "</style>\n",
       "<table border=\"1\" class=\"dataframe\">\n",
       "  <thead>\n",
       "    <tr style=\"text-align: right;\">\n",
       "      <th></th>\n",
       "      <th>year</th>\n",
       "      <th>county_fips</th>\n",
       "      <th>modis_npp</th>\n",
       "      <th>rangeland_acre</th>\n",
       "      <th>county_area_acre</th>\n",
       "      <th>rangeland_fraction</th>\n",
       "      <th>cattle_cow_beef_inventory</th>\n",
       "    </tr>\n",
       "  </thead>\n",
       "  <tbody>\n",
       "    <tr>\n",
       "      <th>2085</th>\n",
       "      <td>2017</td>\n",
       "      <td>01055</td>\n",
       "      <td>0.881980</td>\n",
       "      <td>57.60</td>\n",
       "      <td>352368.00</td>\n",
       "      <td>0.000163</td>\n",
       "      <td>8872.0</td>\n",
       "    </tr>\n",
       "    <tr>\n",
       "      <th>2086</th>\n",
       "      <td>2017</td>\n",
       "      <td>01129</td>\n",
       "      <td>0.875621</td>\n",
       "      <td>95.62</td>\n",
       "      <td>697429.12</td>\n",
       "      <td>0.000137</td>\n",
       "      <td>6884.0</td>\n",
       "    </tr>\n",
       "  </tbody>\n",
       "</table>\n",
       "</div>"
      ],
      "text/plain": [
       "      year county_fips  modis_npp  rangeland_acre  county_area_acre  \\\n",
       "2085  2017       01055   0.881980           57.60         352368.00   \n",
       "2086  2017       01129   0.875621           95.62         697429.12   \n",
       "\n",
       "      rangeland_fraction  cattle_cow_beef_inventory  \n",
       "2085            0.000163                     8872.0  \n",
       "2086            0.000137                     6884.0  "
      ]
     },
     "execution_count": 45,
     "metadata": {},
     "output_type": "execute_result"
    }
   ],
   "source": [
    "county_annual_NPP_Ra_cattleInv[county_annual_NPP_Ra_cattleInv.year == 2017].head(2)"
   ]
  },
  {
   "cell_type": "code",
   "execution_count": 46,
   "id": "bce93597",
   "metadata": {},
   "outputs": [],
   "source": [
    "NPP_coef_2017 = NPP_sol_2017[0]\n",
    "Ra_coef_2017 = NPP_sol_2017[1]\n",
    "intercept_2017 = NPP_sol_2017[2]"
   ]
  },
  {
   "cell_type": "code",
   "execution_count": null,
   "id": "dd7ac856",
   "metadata": {},
   "outputs": [],
   "source": []
  },
  {
   "cell_type": "markdown",
   "id": "987d748f",
   "metadata": {},
   "source": [
    "### Apply ```NPP``` 2017 model to 2012 data"
   ]
  },
  {
   "cell_type": "code",
   "execution_count": 47,
   "id": "8c99aa1b",
   "metadata": {},
   "outputs": [
    {
     "data": {
      "text/html": [
       "<div>\n",
       "<style scoped>\n",
       "    .dataframe tbody tr th:only-of-type {\n",
       "        vertical-align: middle;\n",
       "    }\n",
       "\n",
       "    .dataframe tbody tr th {\n",
       "        vertical-align: top;\n",
       "    }\n",
       "\n",
       "    .dataframe thead th {\n",
       "        text-align: right;\n",
       "    }\n",
       "</style>\n",
       "<table border=\"1\" class=\"dataframe\">\n",
       "  <thead>\n",
       "    <tr style=\"text-align: right;\">\n",
       "      <th></th>\n",
       "      <th>year</th>\n",
       "      <th>county_fips</th>\n",
       "      <th>modis_npp</th>\n",
       "      <th>rangeland_acre</th>\n",
       "      <th>county_area_acre</th>\n",
       "      <th>rangeland_fraction</th>\n",
       "      <th>cattle_cow_beef_inventory</th>\n",
       "    </tr>\n",
       "  </thead>\n",
       "  <tbody>\n",
       "    <tr>\n",
       "      <th>1390</th>\n",
       "      <td>2012</td>\n",
       "      <td>01055</td>\n",
       "      <td>0.707610</td>\n",
       "      <td>57.60</td>\n",
       "      <td>352368.00</td>\n",
       "      <td>0.000163</td>\n",
       "      <td>10647.0</td>\n",
       "    </tr>\n",
       "    <tr>\n",
       "      <th>1391</th>\n",
       "      <td>2012</td>\n",
       "      <td>01129</td>\n",
       "      <td>0.688421</td>\n",
       "      <td>95.62</td>\n",
       "      <td>697429.12</td>\n",
       "      <td>0.000137</td>\n",
       "      <td>4815.0</td>\n",
       "    </tr>\n",
       "  </tbody>\n",
       "</table>\n",
       "</div>"
      ],
      "text/plain": [
       "      year county_fips  modis_npp  rangeland_acre  county_area_acre  \\\n",
       "1390  2012       01055   0.707610           57.60         352368.00   \n",
       "1391  2012       01129   0.688421           95.62         697429.12   \n",
       "\n",
       "      rangeland_fraction  cattle_cow_beef_inventory  \n",
       "1390            0.000163                    10647.0  \n",
       "1391            0.000137                     4815.0  "
      ]
     },
     "execution_count": 47,
     "metadata": {},
     "output_type": "execute_result"
    }
   ],
   "source": [
    "NPP_Ra_cattleInv_2012 = county_annual_NPP_Ra_cattleInv[\n",
    "    county_annual_NPP_Ra_cattleInv.year == 2012\n",
    "].copy()\n",
    "\n",
    "y_2012 = NPP_Ra_cattleInv_2012[[\"cattle_cow_beef_inventory\"]].values.reshape(-1)\n",
    "\n",
    "NPP_Ra_cattleInv_2012.head(2)\n",
    "# NP_A_2012 = NPP_Ra_cattleInv_2012[[\"modis_npp\", \"rangeland_acre\"]].values\n",
    "# NP_A_2012 = np.hstack([NP_A_2012, np.ones(len(NP_A_2012)).reshape(-1, 1)])"
   ]
  },
  {
   "cell_type": "code",
   "execution_count": 48,
   "id": "534533a0",
   "metadata": {},
   "outputs": [
    {
     "data": {
      "text/plain": [
       "155392583.51940742"
      ]
     },
     "execution_count": 48,
     "metadata": {},
     "output_type": "execute_result"
    }
   ],
   "source": [
    "NPP_yhat2012_Model2017 = (\n",
    "    NPP_coef_2017 * NPP_Ra_cattleInv_2012[\"modis_npp\"].values\n",
    "    + Ra_coef_2017 * NPP_Ra_cattleInv_2012[\"rangeland_acre\"].values\n",
    "    + intercept_2017 * np.ones(len(y_2012))\n",
    ")\n",
    "\n",
    "NPP_res2012_Model2017 = y_2012 - NPP_yhat2012_Model2017\n",
    "NPP_RSS2012_Model2017 = np.dot(NPP_res2012_Model2017, NPP_res2012_Model2017)\n",
    "NPP_RSS2012_Model2017 / len(y_2012)"
   ]
  },
  {
   "cell_type": "code",
   "execution_count": 49,
   "id": "6d432464",
   "metadata": {},
   "outputs": [
    {
     "name": "stdout",
     "output_type": "stream",
     "text": [
      "NPP_Ra_cattleInv_2012.cattle_cow_beef_inventory.min()=115.0\n",
      "NPP_Ra_cattleInv_2012.cattle_cow_beef_inventory.max()=88046.0\n"
     ]
    }
   ],
   "source": [
    "print(f\"{NPP_Ra_cattleInv_2012.cattle_cow_beef_inventory.min()=}\")\n",
    "print(f\"{NPP_Ra_cattleInv_2012.cattle_cow_beef_inventory.max()=}\")"
   ]
  },
  {
   "cell_type": "markdown",
   "id": "aa15391a",
   "metadata": {},
   "source": [
    "## Least Squares based on 2017 ```Weather```"
   ]
  },
  {
   "cell_type": "code",
   "execution_count": 50,
   "id": "21dbd805",
   "metadata": {},
   "outputs": [
    {
     "name": "stdout",
     "output_type": "stream",
     "text": [
      "Index(['S1_countyMean_total_precip', 'S2_countyMean_total_precip',\n",
      "       'S3_countyMean_total_precip', 'S4_countyMean_total_precip',\n",
      "       'S1_countyMean_avg_Tavg', 'S2_countyMean_avg_Tavg',\n",
      "       'S3_countyMean_avg_Tavg', 'S4_countyMean_avg_Tavg', 'rangeland_acre'],\n",
      "      dtype='object')\n",
      "y_2017.shape = (695,)\n"
     ]
    },
    {
     "data": {
      "text/plain": [
       "array([8.8720e+03, 6.8840e+03, 1.9549e+04, 2.4172e+04, 2.1810e+03,\n",
       "       1.4578e+04, 1.5283e+04, 6.3270e+03, 1.1249e+04, 1.2918e+04,\n",
       "       2.6303e+04, 1.0801e+04, 7.9300e+02, 3.1390e+03, 1.6301e+04,\n",
       "       1.5531e+04, 1.7412e+04, 4.1537e+04, 4.2360e+03, 2.0510e+03,\n",
       "       2.2521e+04, 1.2701e+04, 8.3130e+03, 3.3199e+04, 2.1830e+03,\n",
       "       1.5040e+03, 1.3934e+04, 3.6790e+03, 3.9510e+03, 1.7183e+04,\n",
       "       1.0430e+03, 3.9000e+02, 1.6342e+04, 2.6188e+04, 1.0974e+04,\n",
       "       2.6213e+04, 2.7018e+04, 1.7070e+03, 7.2778e+04, 3.5440e+03,\n",
       "       4.3250e+03, 1.5738e+04, 7.9190e+03, 1.8993e+04, 3.9100e+02,\n",
       "       1.2657e+04, 1.6048e+04, 2.8174e+04, 2.6726e+04, 2.3712e+04,\n",
       "       1.4461e+04, 1.9909e+04, 1.5575e+04, 4.0380e+03, 1.5831e+04,\n",
       "       1.4374e+04, 1.0260e+03, 5.7847e+04, 2.6087e+04, 9.0600e+03,\n",
       "       1.4218e+04, 3.3990e+03, 5.6660e+03, 3.9689e+04, 4.5254e+04,\n",
       "       2.3474e+04, 1.0005e+04, 1.3029e+04, 2.1125e+04, 7.7040e+03,\n",
       "       1.7867e+04, 7.6570e+03, 1.7588e+04, 3.1823e+04, 2.9990e+03,\n",
       "       2.0650e+03, 5.0487e+04, 6.6395e+04, 2.1054e+04, 1.7200e+03,\n",
       "       4.5050e+03, 1.5986e+04, 7.8530e+03, 1.0570e+03, 3.4350e+03,\n",
       "       1.7730e+03, 3.4090e+03, 2.9200e+02, 3.7720e+03, 7.3230e+03,\n",
       "       1.7300e+03, 1.5700e+02, 1.1720e+03, 8.4000e+01, 2.3310e+03,\n",
       "       3.5980e+03, 1.0560e+03, 1.8900e+02, 4.1250e+03, 1.4630e+03,\n",
       "       3.4080e+03, 4.0490e+03, 3.6300e+02, 1.3590e+03, 1.2560e+03,\n",
       "       5.9600e+02, 3.1150e+03, 5.4300e+02, 1.2490e+03, 5.3000e+02,\n",
       "       7.8200e+02, 1.2360e+03, 7.4030e+03, 1.2713e+04, 1.8911e+04,\n",
       "       4.1571e+04, 2.4070e+03, 1.5234e+04, 4.2190e+03, 1.6858e+04,\n",
       "       1.3695e+04, 2.8245e+04, 4.6470e+03, 1.6564e+04, 1.0050e+04,\n",
       "       8.7010e+03, 9.3930e+03, 1.6314e+04, 1.7332e+04, 9.2300e+03,\n",
       "       2.2872e+04, 6.8410e+03, 5.6220e+03, 4.4443e+04, 1.0213e+04,\n",
       "       1.3500e+02, 4.2870e+03, 2.7319e+04, 1.7558e+04, 5.8800e+02,\n",
       "       2.5850e+03, 1.1410e+03, 3.2300e+03, 3.1710e+03, 5.4620e+03,\n",
       "       2.6190e+03, 3.2770e+03, 2.0830e+03, 1.4620e+03, 1.7290e+03,\n",
       "       2.5700e+02, 1.7230e+03, 4.8360e+03, 4.9400e+03, 3.3170e+03,\n",
       "       1.4100e+03, 3.3320e+03, 5.1550e+03, 2.8660e+03, 7.8520e+03,\n",
       "       2.0432e+04, 8.9900e+02, 4.0600e+03, 2.9460e+03, 2.0030e+03,\n",
       "       2.8890e+03, 8.5100e+03, 5.0130e+03, 1.9840e+03, 3.4890e+03,\n",
       "       4.4540e+03, 1.2990e+03, 6.5720e+03, 4.7850e+03, 4.4400e+03,\n",
       "       1.9380e+03, 5.7410e+03, 5.7150e+03, 3.5790e+03, 2.2830e+03,\n",
       "       7.3180e+03, 2.9510e+03, 2.4300e+03, 6.3600e+02, 1.7300e+03,\n",
       "       1.9311e+04, 1.5546e+04, 1.1916e+04, 3.7520e+03, 4.2300e+03,\n",
       "       4.7320e+03, 7.5650e+03, 8.4080e+03, 5.9860e+03, 1.8827e+04,\n",
       "       1.5730e+04, 1.4993e+04, 1.3320e+04, 1.4634e+04, 9.5540e+03,\n",
       "       4.1100e+03, 3.6340e+03, 4.0080e+03, 4.9490e+03, 1.3799e+04,\n",
       "       2.4067e+04, 9.0420e+03, 1.1313e+04, 1.6294e+04, 8.5500e+03,\n",
       "       1.2750e+04, 1.7974e+04, 1.3688e+04, 1.5758e+04, 9.2420e+03,\n",
       "       1.1370e+04, 5.1900e+03, 5.7290e+03, 7.0640e+03, 4.0150e+03,\n",
       "       2.6700e+03, 1.7760e+03, 2.9260e+03, 2.6646e+04, 4.3810e+03,\n",
       "       1.5459e+04, 1.5624e+04, 1.1711e+04, 9.8740e+03, 1.4576e+04,\n",
       "       1.2530e+04, 2.5630e+03, 2.3630e+03, 1.8214e+04, 1.1497e+04,\n",
       "       8.6420e+03, 1.7676e+04, 1.4560e+04, 2.8610e+04, 2.4032e+04,\n",
       "       1.1180e+04, 1.4047e+04, 1.8004e+04, 1.4018e+04, 7.1540e+03,\n",
       "       8.5410e+03, 2.8610e+03, 2.2862e+04, 4.8090e+03, 3.1448e+04,\n",
       "       1.3757e+04, 2.0800e+04, 1.4192e+04, 2.2980e+04, 1.6145e+04,\n",
       "       2.2694e+04, 2.3686e+04, 1.6840e+04, 2.0945e+04, 1.9635e+04,\n",
       "       2.5982e+04, 2.6107e+04, 1.3679e+04, 2.7131e+04, 1.3838e+04,\n",
       "       5.6900e+02, 2.0956e+04, 3.7087e+04, 2.3584e+04, 8.9390e+03,\n",
       "       7.9060e+03, 1.6952e+04, 1.8869e+04, 1.0005e+04, 5.6210e+03,\n",
       "       2.0017e+04, 1.3662e+04, 2.2405e+04, 1.2613e+04, 1.7068e+04,\n",
       "       1.3748e+04, 1.7747e+04, 3.1266e+04, 8.2360e+03, 6.1800e+03,\n",
       "       2.3147e+04, 7.0140e+03, 3.7300e+02, 2.4739e+04, 1.4305e+04,\n",
       "       2.3050e+03, 3.7900e+03, 2.0340e+03, 4.2170e+03, 5.7300e+02,\n",
       "       1.2125e+04, 1.0180e+04, 4.3330e+03, 8.6540e+03, 5.4220e+03,\n",
       "       1.8700e+02, 1.7011e+04, 1.9604e+04, 2.9740e+03, 2.4250e+04,\n",
       "       1.0539e+04, 1.0670e+03, 2.1170e+03, 8.7880e+03, 4.7900e+03,\n",
       "       2.0390e+03, 4.1460e+03, 7.2870e+03, 1.0273e+04, 5.1910e+03,\n",
       "       8.3260e+03, 4.6960e+03, 2.2987e+04, 9.0580e+03, 3.8980e+03,\n",
       "       1.1843e+04, 2.5193e+04, 4.6277e+04, 2.7353e+04, 1.6828e+04,\n",
       "       1.9200e+04, 1.1173e+04, 1.3667e+04, 2.2811e+04, 2.9096e+04,\n",
       "       2.2436e+04, 7.8820e+03, 2.6447e+04, 2.0587e+04, 1.6132e+04,\n",
       "       3.7105e+04, 2.8859e+04, 1.4691e+04, 1.6613e+04, 1.9593e+04,\n",
       "       3.3103e+04, 2.0721e+04, 1.6835e+04, 3.7691e+04, 1.2120e+04,\n",
       "       2.2906e+04, 2.2120e+04, 1.3998e+04, 3.1705e+04, 5.4110e+03,\n",
       "       3.7410e+04, 1.4558e+04, 4.0002e+04, 5.2362e+04, 1.0032e+04,\n",
       "       2.6712e+04, 8.6910e+03, 2.5297e+04, 7.9970e+03, 7.8530e+03,\n",
       "       3.6398e+04, 3.0822e+04, 1.4567e+04, 2.9073e+04, 4.7865e+04,\n",
       "       2.5710e+04, 3.9026e+04, 1.7069e+04, 3.0586e+04, 1.7305e+04,\n",
       "       5.6448e+04, 2.2971e+04, 1.2376e+04, 1.4142e+04, 2.8099e+04,\n",
       "       1.1900e+04, 1.0100e+02, 9.3490e+03, 4.8991e+04, 3.8181e+04,\n",
       "       3.7810e+04, 7.1880e+04, 5.2726e+04, 3.3793e+04, 5.4394e+04,\n",
       "       3.9410e+04, 2.4574e+04, 7.9847e+04, 1.6201e+04, 4.7305e+04,\n",
       "       3.1320e+04, 2.6927e+04, 7.5370e+03, 5.2285e+04, 3.7170e+03,\n",
       "       2.5113e+04, 2.4704e+04, 1.3377e+04, 5.1568e+04, 1.5332e+04,\n",
       "       4.9046e+04, 2.3698e+04, 1.5242e+04, 1.0176e+04, 2.4276e+04,\n",
       "       1.2008e+04, 2.7651e+04, 2.4107e+04, 1.9380e+04, 1.0928e+04,\n",
       "       1.0571e+04, 3.2343e+04, 5.7900e+03, 1.0046e+04, 2.9352e+04,\n",
       "       1.4911e+04, 9.6467e+04, 1.7869e+04, 1.1082e+04, 5.1039e+04,\n",
       "       1.0215e+04, 2.2905e+04, 1.2682e+04, 3.4753e+04, 1.0263e+04,\n",
       "       2.0053e+04, 9.0930e+03, 7.6490e+03, 1.7378e+04, 9.2930e+03,\n",
       "       5.5484e+04, 3.4321e+04, 5.5350e+03, 9.6980e+03, 2.2419e+04,\n",
       "       1.6555e+04, 3.6585e+04, 1.6565e+04, 1.2181e+04, 7.8000e+03,\n",
       "       1.6701e+04, 1.9432e+04, 2.4259e+04, 1.2402e+04, 1.1320e+04,\n",
       "       2.2952e+04, 2.4196e+04, 9.6030e+03, 1.4663e+04, 6.3050e+03,\n",
       "       2.2682e+04, 4.4000e+04, 4.2723e+04, 1.5159e+04, 3.5339e+04,\n",
       "       3.9196e+04, 9.2240e+03, 4.0290e+04, 3.3607e+04, 1.9001e+04,\n",
       "       2.5297e+04, 5.4371e+04, 2.6437e+04, 1.1219e+04, 1.6085e+04,\n",
       "       3.5240e+03, 3.1623e+04, 3.1242e+04, 2.8889e+04, 3.4370e+04,\n",
       "       4.3648e+04, 5.1265e+04, 2.7832e+04, 2.4154e+04, 3.4510e+04,\n",
       "       2.1584e+04, 4.6453e+04, 2.3985e+04, 4.0606e+04, 3.7520e+04,\n",
       "       2.2408e+04, 1.7128e+04, 3.4519e+04, 2.3660e+04, 1.7123e+04,\n",
       "       4.0638e+04, 4.1105e+04, 2.4717e+04, 2.8807e+04, 3.0626e+04,\n",
       "       1.3531e+04, 3.7104e+04, 4.5312e+04, 2.5646e+04, 2.6467e+04,\n",
       "       5.7999e+04, 2.7026e+04, 2.9645e+04, 2.6723e+04, 1.8121e+04,\n",
       "       3.5686e+04, 1.9733e+04, 3.6871e+04, 1.6633e+04, 6.7810e+03,\n",
       "       1.8604e+04, 1.4176e+04, 3.4575e+04, 2.9690e+03, 6.9010e+03,\n",
       "       2.5290e+03, 7.6670e+03, 2.6954e+04, 2.1085e+04, 6.8865e+04,\n",
       "       1.2477e+04, 2.8448e+04, 8.7170e+03, 1.7130e+03, 7.7990e+03,\n",
       "       7.5551e+04, 3.8450e+03, 2.3530e+03, 2.3690e+03, 1.0010e+03,\n",
       "       1.6511e+04, 2.1363e+04, 1.3819e+04, 1.7330e+03, 2.9270e+03,\n",
       "       3.1582e+04, 1.9353e+04, 2.8206e+04, 3.8738e+04, 1.8938e+04,\n",
       "       4.5920e+04, 1.6731e+04, 1.2202e+04, 1.7390e+04, 2.0218e+04,\n",
       "       1.5449e+04, 4.9386e+04, 1.8718e+04, 3.8647e+04, 4.8747e+04,\n",
       "       1.1475e+04, 1.3108e+04, 4.9265e+04, 3.0221e+04, 2.1616e+04,\n",
       "       4.2937e+04, 1.0176e+04, 4.9550e+03, 1.6035e+04, 7.9459e+04,\n",
       "       2.0798e+04, 1.4369e+04, 3.5043e+04, 6.3816e+04, 1.5241e+04,\n",
       "       9.4690e+03, 1.3985e+04, 6.0210e+03, 1.6265e+04, 3.6929e+04,\n",
       "       3.9210e+03, 1.1505e+04, 2.8254e+04, 1.2543e+04, 3.0040e+03,\n",
       "       7.5470e+03, 8.5660e+03, 1.2530e+04, 9.4040e+03, 1.4020e+04,\n",
       "       2.4586e+04, 6.8490e+03, 2.3253e+04, 6.3320e+03, 2.3870e+03,\n",
       "       4.5660e+03, 1.4239e+04, 1.5117e+04, 1.7961e+04, 1.6624e+04,\n",
       "       1.3644e+04, 2.1042e+04, 7.6880e+03, 9.4300e+02, 2.1477e+04,\n",
       "       4.1163e+04, 6.4750e+03, 5.5740e+03, 3.6749e+04, 1.1303e+04,\n",
       "       1.1405e+04, 3.8880e+04, 1.1423e+04, 1.2268e+04, 2.2406e+04,\n",
       "       8.4620e+03, 1.6451e+04, 8.2700e+03, 3.5058e+04, 2.9320e+03,\n",
       "       9.3300e+03, 2.0520e+04, 1.0591e+04, 4.4987e+04, 7.7790e+03,\n",
       "       3.9747e+04, 1.2231e+04, 2.6279e+04, 1.0550e+04, 1.8620e+03,\n",
       "       1.0287e+04, 6.4400e+03, 8.5800e+03, 3.6770e+03, 3.4630e+03,\n",
       "       1.8272e+04, 1.3068e+04, 1.5046e+04, 4.1400e+03, 9.6080e+03,\n",
       "       4.2250e+04, 3.9849e+04, 2.0912e+04, 3.7208e+04, 1.8389e+04,\n",
       "       7.3940e+03, 2.9855e+04, 1.3169e+04, 2.6686e+04, 9.3560e+03,\n",
       "       1.4291e+04, 4.8574e+04, 6.0890e+03, 1.6112e+04, 1.2393e+04,\n",
       "       2.8786e+04, 1.1553e+04, 2.2159e+04, 1.0448e+04, 7.0230e+03,\n",
       "       1.3989e+04, 9.3620e+03, 7.8000e+03, 3.7435e+04, 2.1577e+04,\n",
       "       2.0364e+04, 1.5420e+03, 3.6934e+04, 8.1140e+03, 3.3923e+04,\n",
       "       6.1100e+03, 1.0375e+04, 8.7210e+03, 3.6126e+04, 6.2270e+03,\n",
       "       2.1998e+04, 7.5600e+03, 6.6180e+03, 1.7782e+04, 7.1260e+03,\n",
       "       2.7030e+03, 6.4990e+03, 1.5949e+04, 4.0570e+03, 7.5700e+03,\n",
       "       1.1018e+04, 1.7954e+04, 1.1825e+04, 3.1644e+04, 2.4517e+04,\n",
       "       4.1730e+04, 1.1966e+04, 4.7600e+02, 1.5300e+02, 2.2220e+03,\n",
       "       1.2224e+04, 4.8600e+02, 2.5900e+02, 2.2057e+04, 1.2588e+04,\n",
       "       4.0410e+03, 1.1083e+04, 2.3896e+04, 5.0609e+04, 3.6803e+04,\n",
       "       4.1282e+04, 5.5924e+04, 2.9822e+04, 3.8218e+04, 3.6716e+04])"
      ]
     },
     "execution_count": 50,
     "metadata": {},
     "output_type": "execute_result"
    }
   ],
   "source": [
    "SW_Ra_cattleInv_2017 = county_annual_SW_Ra_cattleInv[\n",
    "    county_annual_SW_Ra_cattleInv.year == 2017\n",
    "].copy()\n",
    "\n",
    "needed_cols = SW_Ra_cattleInv_2017.columns[2:11]\n",
    "print(needed_cols)\n",
    "SW_A_2017 = SW_Ra_cattleInv_2017[needed_cols].values\n",
    "y_2017 = SW_Ra_cattleInv_2017[[\"cattle_cow_beef_inventory\"]].values.reshape(-1)\n",
    "print(f\"{y_2017.shape = }\")\n",
    "y_2017"
   ]
  },
  {
   "cell_type": "code",
   "execution_count": 51,
   "id": "f22b8260",
   "metadata": {},
   "outputs": [
    {
     "name": "stdout",
     "output_type": "stream",
     "text": [
      "(695, 10)\n"
     ]
    },
    {
     "data": {
      "text/plain": [
       "array([[ 3.88345000e+02,  6.62278000e+02,  2.29808000e+02, ...,\n",
       "         1.21567717e+01,  5.76000000e+01,  1.00000000e+00],\n",
       "       [ 5.21272000e+02,  1.03455500e+03,  2.80714000e+02, ...,\n",
       "         1.43813587e+01,  9.56200000e+01,  1.00000000e+00],\n",
       "       [ 2.74111000e+02,  6.78770000e+02,  1.68017000e+02, ...,\n",
       "         1.10962826e+01,  3.87180000e+02,  1.00000000e+00],\n",
       "       ...,\n",
       "       [ 2.27731000e+02,  1.03953000e+02,  9.60140000e+01, ...,\n",
       "        -6.02184783e-01,  1.49066429e+06,  1.00000000e+00],\n",
       "       [ 8.34600000e+01,  1.76866000e+02,  7.01340000e+01, ...,\n",
       "         9.50347826e-01,  3.12539797e+06,  1.00000000e+00],\n",
       "       [ 1.08031000e+02,  2.51372000e+02,  7.17780000e+01, ...,\n",
       "         8.93760870e-01,  1.07932698e+06,  1.00000000e+00]])"
      ]
     },
     "execution_count": 51,
     "metadata": {},
     "output_type": "execute_result"
    }
   ],
   "source": [
    "SW_A_2017 = np.hstack([SW_A_2017, np.ones(len(SW_A_2017)).reshape(-1, 1)])\n",
    "print(SW_A_2017.shape)\n",
    "SW_A_2017"
   ]
  },
  {
   "cell_type": "code",
   "execution_count": 52,
   "id": "d3761098",
   "metadata": {},
   "outputs": [
    {
     "data": {
      "text/plain": [
       "array([388.345     , 662.278     , 229.808     , 240.635     ,\n",
       "        11.22488889,  22.78883607,  24.00270492,  12.15677174,\n",
       "        57.6       ,   1.        ])"
      ]
     },
     "execution_count": 52,
     "metadata": {},
     "output_type": "execute_result"
    }
   ],
   "source": [
    "SW_A_2017[0]"
   ]
  },
  {
   "cell_type": "code",
   "execution_count": 53,
   "id": "e17dc355",
   "metadata": {},
   "outputs": [
    {
     "name": "stderr",
     "output_type": "stream",
     "text": [
      "/var/folders/52/7m74slcx71g28m0l4w9jrjg80000gn/T/ipykernel_13727/4069790559.py:1: FutureWarning: `rcond` parameter will change to the default of machine precision times ``max(M, N)`` where M and N are the input matrix dimensions.\n",
      "To use the future default and silence this warning we advise to pass `rcond=None`, to keep using the old, explicitly pass `rcond=-1`.\n",
      "  SW_sol_2017, SW_RSS_2017, SW_rank_2017, SW_singular_vals_2017 = np.linalg.lstsq(\n"
     ]
    },
    {
     "data": {
      "text/plain": [
       "array([ 4.60579440e+00,  1.07236633e+01,  2.47828402e+01, -3.35432271e+01,\n",
       "        6.55967277e+02, -1.73626339e+03,  2.18229845e+03, -1.74193703e+03,\n",
       "        7.22493075e-03,  7.21848606e+03])"
      ]
     },
     "execution_count": 53,
     "metadata": {},
     "output_type": "execute_result"
    }
   ],
   "source": [
    "SW_sol_2017, SW_RSS_2017, SW_rank_2017, SW_singular_vals_2017 = np.linalg.lstsq(\n",
    "    SW_A_2017, y_2017\n",
    ")\n",
    "SW_sol_2017"
   ]
  },
  {
   "cell_type": "code",
   "execution_count": 54,
   "id": "8ee71ac1",
   "metadata": {},
   "outputs": [
    {
     "data": {
      "text/plain": [
       "116010145504.4356"
      ]
     },
     "execution_count": 54,
     "metadata": {},
     "output_type": "execute_result"
    }
   ],
   "source": [
    "# SW_yhat_2017 = SW_A_2017 @ SW_sol_2017\n",
    "# SW_res = y_2017 - SW_yhat_2017\n",
    "# SW_RSS = np.dot(SW_res, SW_res)\n",
    "# SW_RSS\n",
    "\n",
    "SW_RSS_2017[0]"
   ]
  },
  {
   "cell_type": "markdown",
   "id": "d2093bce",
   "metadata": {},
   "source": [
    "### Apply 2017 model to 2012 data"
   ]
  },
  {
   "cell_type": "code",
   "execution_count": 55,
   "id": "464032d1",
   "metadata": {},
   "outputs": [],
   "source": [
    "SW_var_cols = [\n",
    "    \"S1_countyMean_total_precip\",\n",
    "    \"S2_countyMean_total_precip\",\n",
    "    \"S3_countyMean_total_precip\",\n",
    "    \"S4_countyMean_total_precip\",\n",
    "    \"S1_countyMean_avg_Tavg\",\n",
    "    \"S2_countyMean_avg_Tavg\",\n",
    "    \"S3_countyMean_avg_Tavg\",\n",
    "    \"S4_countyMean_avg_Tavg\",\n",
    "    \"rangeland_acre\",\n",
    "]"
   ]
  },
  {
   "cell_type": "code",
   "execution_count": 56,
   "id": "0f55d429",
   "metadata": {},
   "outputs": [
    {
     "data": {
      "text/plain": [
       "array([[3.64742000e+02, 3.14627000e+02, 2.60331000e+02, ...,\n",
       "        2.17173913e+01, 5.76000000e+01, 1.00000000e+00],\n",
       "       [5.38694000e+02, 5.55111000e+02, 5.32011000e+02, ...,\n",
       "        2.17173913e+01, 9.56200000e+01, 1.00000000e+00],\n",
       "       [4.00334000e+02, 1.24457000e+02, 2.76837000e+02, ...,\n",
       "        2.17173913e+01, 3.87180000e+02, 1.00000000e+00],\n",
       "       ...,\n",
       "       [8.68330000e+01, 7.53990000e+01, 2.17180000e+01, ...,\n",
       "        2.17173913e+01, 1.49066429e+06, 1.00000000e+00],\n",
       "       [4.28770000e+01, 8.25550000e+01, 1.01320000e+01, ...,\n",
       "        2.17173913e+01, 3.12539797e+06, 1.00000000e+00],\n",
       "       [5.12900000e+01, 1.54712000e+02, 7.53500000e+00, ...,\n",
       "        2.17173913e+01, 1.07932698e+06, 1.00000000e+00]])"
      ]
     },
     "execution_count": 56,
     "metadata": {},
     "output_type": "execute_result"
    }
   ],
   "source": [
    "SW_Ra_cattleInv_2012 = county_annual_SW_Ra_cattleInv[\n",
    "    county_annual_SW_Ra_cattleInv.year == 2012\n",
    "].copy()\n",
    "\n",
    "y_2012 = SW_Ra_cattleInv_2012[[\"cattle_cow_beef_inventory\"]].values.reshape(-1)\n",
    "\n",
    "SW_A_2012 = SW_Ra_cattleInv_2012[SW_var_cols].values\n",
    "SW_A_2012 = np.hstack([SW_A_2012, np.ones(len(y_2012)).reshape(-1, 1)])\n",
    "SW_A_2012"
   ]
  },
  {
   "cell_type": "code",
   "execution_count": 57,
   "id": "d4db0674",
   "metadata": {},
   "outputs": [
    {
     "data": {
      "text/plain": [
       "621806386.4290149"
      ]
     },
     "execution_count": 57,
     "metadata": {},
     "output_type": "execute_result"
    }
   ],
   "source": [
    "SW_yhat2012_Model2017 = SW_A_2012 @ SW_sol_2017\n",
    "\n",
    "SW_res2012_Model2017 = y_2012 - SW_yhat2012_Model2017\n",
    "SW_RSS2012_Model2017 = np.dot(SW_res2012_Model2017, SW_res2012_Model2017)\n",
    "SW_RSS2012_Model2017 / len(y_2012)"
   ]
  },
  {
   "cell_type": "code",
   "execution_count": 58,
   "id": "9ed9e5a8",
   "metadata": {},
   "outputs": [
    {
     "name": "stdout",
     "output_type": "stream",
     "text": [
      "RSS from NPP is 107997845546.\n",
      "MSE from NPP is 155392584.\n",
      "RSE from NPP is 12466.\n"
     ]
    }
   ],
   "source": [
    "print(\"RSS from NPP is {0:.0f}.\".format(NPP_RSS2012_Model2017))\n",
    "print(\"MSE from NPP is {0:.0f}.\".format(NPP_RSS2012_Model2017 / len(y_2012)))\n",
    "print(\"RSE from NPP is {0:.0f}.\".format(np.sqrt(NPP_RSS2012_Model2017 / len(y_2012))))"
   ]
  },
  {
   "cell_type": "code",
   "execution_count": 59,
   "id": "56e0891f",
   "metadata": {},
   "outputs": [
    {
     "name": "stdout",
     "output_type": "stream",
     "text": [
      "RSS from SW is 432155438568.\n",
      "MSE from SW is 621806386.\n",
      "RSE from SW is 24936.\n"
     ]
    }
   ],
   "source": [
    "print(\"RSS from SW is {0:.0f}.\".format(SW_RSS2012_Model2017))\n",
    "print(\"MSE from SW is {0:.0f}.\".format(SW_RSS2012_Model2017 / len(y_2012)))\n",
    "print(\"RSE from SW is {0:.0f}.\".format(np.sqrt(SW_RSS2012_Model2017 / len(y_2012))))"
   ]
  },
  {
   "cell_type": "code",
   "execution_count": 60,
   "id": "546bd53d",
   "metadata": {},
   "outputs": [
    {
     "data": {
      "text/plain": [
       "array([ 4.60579440e+00,  1.07236633e+01,  2.47828402e+01, -3.35432271e+01,\n",
       "        6.55967277e+02, -1.73626339e+03,  2.18229845e+03, -1.74193703e+03,\n",
       "        7.22493075e-03,  7.21848606e+03])"
      ]
     },
     "execution_count": 60,
     "metadata": {},
     "output_type": "execute_result"
    }
   ],
   "source": [
    "SW_sol_2017"
   ]
  },
  {
   "cell_type": "code",
   "execution_count": 61,
   "id": "43ca9661",
   "metadata": {},
   "outputs": [
    {
     "data": {
      "text/html": [
       "<div>\n",
       "<style scoped>\n",
       "    .dataframe tbody tr th:only-of-type {\n",
       "        vertical-align: middle;\n",
       "    }\n",
       "\n",
       "    .dataframe tbody tr th {\n",
       "        vertical-align: top;\n",
       "    }\n",
       "\n",
       "    .dataframe thead th {\n",
       "        text-align: right;\n",
       "    }\n",
       "</style>\n",
       "<table border=\"1\" class=\"dataframe\">\n",
       "  <thead>\n",
       "    <tr style=\"text-align: right;\">\n",
       "      <th></th>\n",
       "      <th>county_fips</th>\n",
       "      <th>year</th>\n",
       "      <th>S1_countyMean_total_precip</th>\n",
       "      <th>S2_countyMean_total_precip</th>\n",
       "      <th>S3_countyMean_total_precip</th>\n",
       "      <th>S4_countyMean_total_precip</th>\n",
       "      <th>S1_countyMean_avg_Tavg</th>\n",
       "      <th>S2_countyMean_avg_Tavg</th>\n",
       "      <th>S3_countyMean_avg_Tavg</th>\n",
       "      <th>S4_countyMean_avg_Tavg</th>\n",
       "      <th>rangeland_acre</th>\n",
       "      <th>county_area_acre</th>\n",
       "      <th>rangeland_fraction</th>\n",
       "      <th>cattle_cow_beef_inventory</th>\n",
       "    </tr>\n",
       "  </thead>\n",
       "  <tbody>\n",
       "    <tr>\n",
       "      <th>0</th>\n",
       "      <td>01055</td>\n",
       "      <td>2002</td>\n",
       "      <td>384.081</td>\n",
       "      <td>381.902</td>\n",
       "      <td>297.505</td>\n",
       "      <td>444.936</td>\n",
       "      <td>8.504456</td>\n",
       "      <td>22.419525</td>\n",
       "      <td>25.522639</td>\n",
       "      <td>11.011326</td>\n",
       "      <td>57.60</td>\n",
       "      <td>352368.00</td>\n",
       "      <td>0.000163</td>\n",
       "      <td>12020.0</td>\n",
       "    </tr>\n",
       "    <tr>\n",
       "      <th>1</th>\n",
       "      <td>01129</td>\n",
       "      <td>2002</td>\n",
       "      <td>363.117</td>\n",
       "      <td>419.090</td>\n",
       "      <td>391.772</td>\n",
       "      <td>572.797</td>\n",
       "      <td>11.222078</td>\n",
       "      <td>24.012369</td>\n",
       "      <td>26.272246</td>\n",
       "      <td>14.197446</td>\n",
       "      <td>95.62</td>\n",
       "      <td>697429.12</td>\n",
       "      <td>0.000137</td>\n",
       "      <td>5364.0</td>\n",
       "    </tr>\n",
       "  </tbody>\n",
       "</table>\n",
       "</div>"
      ],
      "text/plain": [
       "  county_fips  year  S1_countyMean_total_precip  S2_countyMean_total_precip  \\\n",
       "0       01055  2002                     384.081                     381.902   \n",
       "1       01129  2002                     363.117                     419.090   \n",
       "\n",
       "   S3_countyMean_total_precip  S4_countyMean_total_precip  \\\n",
       "0                     297.505                     444.936   \n",
       "1                     391.772                     572.797   \n",
       "\n",
       "   S1_countyMean_avg_Tavg  S2_countyMean_avg_Tavg  S3_countyMean_avg_Tavg  \\\n",
       "0                8.504456               22.419525               25.522639   \n",
       "1               11.222078               24.012369               26.272246   \n",
       "\n",
       "   S4_countyMean_avg_Tavg  rangeland_acre  county_area_acre  \\\n",
       "0               11.011326           57.60         352368.00   \n",
       "1               14.197446           95.62         697429.12   \n",
       "\n",
       "   rangeland_fraction  cattle_cow_beef_inventory  \n",
       "0            0.000163                    12020.0  \n",
       "1            0.000137                     5364.0  "
      ]
     },
     "execution_count": 61,
     "metadata": {},
     "output_type": "execute_result"
    }
   ],
   "source": [
    "county_annual_SW_Ra_cattleInv.head(2)"
   ]
  },
  {
   "cell_type": "code",
   "execution_count": 62,
   "id": "7d80bf16",
   "metadata": {},
   "outputs": [
    {
     "data": {
      "text/html": [
       "<div>\n",
       "<style scoped>\n",
       "    .dataframe tbody tr th:only-of-type {\n",
       "        vertical-align: middle;\n",
       "    }\n",
       "\n",
       "    .dataframe tbody tr th {\n",
       "        vertical-align: top;\n",
       "    }\n",
       "\n",
       "    .dataframe thead th {\n",
       "        text-align: right;\n",
       "    }\n",
       "</style>\n",
       "<table border=\"1\" class=\"dataframe\">\n",
       "  <thead>\n",
       "    <tr style=\"text-align: right;\">\n",
       "      <th></th>\n",
       "      <th>year</th>\n",
       "      <th>county_fips</th>\n",
       "      <th>modis_npp</th>\n",
       "      <th>rangeland_acre</th>\n",
       "      <th>county_area_acre</th>\n",
       "      <th>rangeland_fraction</th>\n",
       "      <th>cattle_cow_beef_inventory</th>\n",
       "    </tr>\n",
       "  </thead>\n",
       "  <tbody>\n",
       "    <tr>\n",
       "      <th>0</th>\n",
       "      <td>2002</td>\n",
       "      <td>01055</td>\n",
       "      <td>0.560410</td>\n",
       "      <td>57.60</td>\n",
       "      <td>352368.00</td>\n",
       "      <td>0.000163</td>\n",
       "      <td>12020.0</td>\n",
       "    </tr>\n",
       "    <tr>\n",
       "      <th>1</th>\n",
       "      <td>2002</td>\n",
       "      <td>01129</td>\n",
       "      <td>0.534686</td>\n",
       "      <td>95.62</td>\n",
       "      <td>697429.12</td>\n",
       "      <td>0.000137</td>\n",
       "      <td>5364.0</td>\n",
       "    </tr>\n",
       "  </tbody>\n",
       "</table>\n",
       "</div>"
      ],
      "text/plain": [
       "   year county_fips  modis_npp  rangeland_acre  county_area_acre  \\\n",
       "0  2002       01055   0.560410           57.60         352368.00   \n",
       "1  2002       01129   0.534686           95.62         697429.12   \n",
       "\n",
       "   rangeland_fraction  cattle_cow_beef_inventory  \n",
       "0            0.000163                    12020.0  \n",
       "1            0.000137                     5364.0  "
      ]
     },
     "execution_count": 62,
     "metadata": {},
     "output_type": "execute_result"
    }
   ],
   "source": [
    "county_annual_NPP_Ra_cattleInv.head(2)"
   ]
  },
  {
   "cell_type": "code",
   "execution_count": 63,
   "id": "f7f1a6ed",
   "metadata": {},
   "outputs": [
    {
     "name": "stdout",
     "output_type": "stream",
     "text": [
      "(2780, 7)\n",
      "(2780, 14)\n"
     ]
    }
   ],
   "source": [
    "print(county_annual_NPP_Ra_cattleInv.shape)\n",
    "print(county_annual_SW_Ra_cattleInv.shape)"
   ]
  },
  {
   "cell_type": "code",
   "execution_count": 64,
   "id": "e3b22ddb",
   "metadata": {},
   "outputs": [
    {
     "data": {
      "text/plain": [
       "Index(['year', 'county_fips', 'modis_npp', 'rangeland_acre',\n",
       "       'county_area_acre', 'rangeland_fraction', 'cattle_cow_beef_inventory'],\n",
       "      dtype='object')"
      ]
     },
     "execution_count": 64,
     "metadata": {},
     "output_type": "execute_result"
    }
   ],
   "source": [
    "county_annual_NPP_Ra_cattleInv.columns"
   ]
  },
  {
   "cell_type": "code",
   "execution_count": 65,
   "id": "f077fb91",
   "metadata": {},
   "outputs": [
    {
     "data": {
      "text/plain": [
       "Index(['county_fips', 'year', 'S1_countyMean_total_precip',\n",
       "       'S2_countyMean_total_precip', 'S3_countyMean_total_precip',\n",
       "       'S4_countyMean_total_precip', 'S1_countyMean_avg_Tavg',\n",
       "       'S2_countyMean_avg_Tavg', 'S3_countyMean_avg_Tavg',\n",
       "       'S4_countyMean_avg_Tavg', 'rangeland_acre', 'county_area_acre',\n",
       "       'rangeland_fraction', 'cattle_cow_beef_inventory'],\n",
       "      dtype='object')"
      ]
     },
     "execution_count": 65,
     "metadata": {},
     "output_type": "execute_result"
    }
   ],
   "source": [
    "county_annual_SW_Ra_cattleInv.columns"
   ]
  },
  {
   "cell_type": "code",
   "execution_count": 66,
   "id": "c80f40d3",
   "metadata": {},
   "outputs": [],
   "source": [
    "NPP_needed_cols = [\n",
    "    \"year\",\n",
    "    \"county_fips\",\n",
    "    \"modis_npp\",\n",
    "    \"rangeland_acre\",\n",
    "    \"county_area_acre\",\n",
    "    \"rangeland_fraction\",\n",
    "    \"cattle_cow_beef_inventory\",\n",
    "]\n",
    "\n",
    "SW_needed_cols = [\n",
    "    \"year\",\n",
    "    \"county_fips\",\n",
    "    \"S1_countyMean_total_precip\",\n",
    "    \"S2_countyMean_total_precip\",\n",
    "    \"S3_countyMean_total_precip\",\n",
    "    \"S4_countyMean_total_precip\",\n",
    "    \"S1_countyMean_avg_Tavg\",\n",
    "    \"S2_countyMean_avg_Tavg\",\n",
    "    \"S3_countyMean_avg_Tavg\",\n",
    "    \"S4_countyMean_avg_Tavg\",\n",
    "]"
   ]
  },
  {
   "cell_type": "code",
   "execution_count": 67,
   "id": "dc2b6222",
   "metadata": {},
   "outputs": [
    {
     "data": {
      "text/html": [
       "<div>\n",
       "<style scoped>\n",
       "    .dataframe tbody tr th:only-of-type {\n",
       "        vertical-align: middle;\n",
       "    }\n",
       "\n",
       "    .dataframe tbody tr th {\n",
       "        vertical-align: top;\n",
       "    }\n",
       "\n",
       "    .dataframe thead th {\n",
       "        text-align: right;\n",
       "    }\n",
       "</style>\n",
       "<table border=\"1\" class=\"dataframe\">\n",
       "  <thead>\n",
       "    <tr style=\"text-align: right;\">\n",
       "      <th></th>\n",
       "      <th>year</th>\n",
       "      <th>county_fips</th>\n",
       "      <th>S1_countyMean_total_precip</th>\n",
       "      <th>S2_countyMean_total_precip</th>\n",
       "      <th>S3_countyMean_total_precip</th>\n",
       "      <th>S4_countyMean_total_precip</th>\n",
       "      <th>S1_countyMean_avg_Tavg</th>\n",
       "      <th>S2_countyMean_avg_Tavg</th>\n",
       "      <th>S3_countyMean_avg_Tavg</th>\n",
       "      <th>S4_countyMean_avg_Tavg</th>\n",
       "    </tr>\n",
       "  </thead>\n",
       "  <tbody>\n",
       "    <tr>\n",
       "      <th>0</th>\n",
       "      <td>2002</td>\n",
       "      <td>01055</td>\n",
       "      <td>384.081</td>\n",
       "      <td>381.902</td>\n",
       "      <td>297.505</td>\n",
       "      <td>444.936</td>\n",
       "      <td>8.504456</td>\n",
       "      <td>22.419525</td>\n",
       "      <td>25.522639</td>\n",
       "      <td>11.011326</td>\n",
       "    </tr>\n",
       "    <tr>\n",
       "      <th>1</th>\n",
       "      <td>2002</td>\n",
       "      <td>01129</td>\n",
       "      <td>363.117</td>\n",
       "      <td>419.090</td>\n",
       "      <td>391.772</td>\n",
       "      <td>572.797</td>\n",
       "      <td>11.222078</td>\n",
       "      <td>24.012369</td>\n",
       "      <td>26.272246</td>\n",
       "      <td>14.197446</td>\n",
       "    </tr>\n",
       "  </tbody>\n",
       "</table>\n",
       "</div>"
      ],
      "text/plain": [
       "   year county_fips  S1_countyMean_total_precip  S2_countyMean_total_precip  \\\n",
       "0  2002       01055                     384.081                     381.902   \n",
       "1  2002       01129                     363.117                     419.090   \n",
       "\n",
       "   S3_countyMean_total_precip  S4_countyMean_total_precip  \\\n",
       "0                     297.505                     444.936   \n",
       "1                     391.772                     572.797   \n",
       "\n",
       "   S1_countyMean_avg_Tavg  S2_countyMean_avg_Tavg  S3_countyMean_avg_Tavg  \\\n",
       "0                8.504456               22.419525               25.522639   \n",
       "1               11.222078               24.012369               26.272246   \n",
       "\n",
       "   S4_countyMean_avg_Tavg  \n",
       "0               11.011326  \n",
       "1               14.197446  "
      ]
     },
     "execution_count": 67,
     "metadata": {},
     "output_type": "execute_result"
    }
   ],
   "source": [
    "county_annual_SW_Ra_cattleInv[SW_needed_cols].head(2)"
   ]
  },
  {
   "cell_type": "code",
   "execution_count": 68,
   "id": "3bdb5e7b",
   "metadata": {},
   "outputs": [
    {
     "data": {
      "text/html": [
       "<div>\n",
       "<style scoped>\n",
       "    .dataframe tbody tr th:only-of-type {\n",
       "        vertical-align: middle;\n",
       "    }\n",
       "\n",
       "    .dataframe tbody tr th {\n",
       "        vertical-align: top;\n",
       "    }\n",
       "\n",
       "    .dataframe thead th {\n",
       "        text-align: right;\n",
       "    }\n",
       "</style>\n",
       "<table border=\"1\" class=\"dataframe\">\n",
       "  <thead>\n",
       "    <tr style=\"text-align: right;\">\n",
       "      <th></th>\n",
       "      <th>year</th>\n",
       "      <th>county_fips</th>\n",
       "      <th>modis_npp</th>\n",
       "      <th>rangeland_acre</th>\n",
       "      <th>county_area_acre</th>\n",
       "      <th>rangeland_fraction</th>\n",
       "      <th>cattle_cow_beef_inventory</th>\n",
       "    </tr>\n",
       "  </thead>\n",
       "  <tbody>\n",
       "    <tr>\n",
       "      <th>0</th>\n",
       "      <td>2002</td>\n",
       "      <td>01055</td>\n",
       "      <td>0.560410</td>\n",
       "      <td>57.60</td>\n",
       "      <td>352368.00</td>\n",
       "      <td>0.000163</td>\n",
       "      <td>12020.0</td>\n",
       "    </tr>\n",
       "    <tr>\n",
       "      <th>1</th>\n",
       "      <td>2002</td>\n",
       "      <td>01129</td>\n",
       "      <td>0.534686</td>\n",
       "      <td>95.62</td>\n",
       "      <td>697429.12</td>\n",
       "      <td>0.000137</td>\n",
       "      <td>5364.0</td>\n",
       "    </tr>\n",
       "  </tbody>\n",
       "</table>\n",
       "</div>"
      ],
      "text/plain": [
       "   year county_fips  modis_npp  rangeland_acre  county_area_acre  \\\n",
       "0  2002       01055   0.560410           57.60         352368.00   \n",
       "1  2002       01129   0.534686           95.62         697429.12   \n",
       "\n",
       "   rangeland_fraction  cattle_cow_beef_inventory  \n",
       "0            0.000163                    12020.0  \n",
       "1            0.000137                     5364.0  "
      ]
     },
     "execution_count": 68,
     "metadata": {},
     "output_type": "execute_result"
    }
   ],
   "source": [
    "county_annual_NPP_Ra_cattleInv[NPP_needed_cols].head(2)"
   ]
  },
  {
   "cell_type": "code",
   "execution_count": 69,
   "id": "16bb21d1",
   "metadata": {},
   "outputs": [
    {
     "data": {
      "text/html": [
       "<div>\n",
       "<style scoped>\n",
       "    .dataframe tbody tr th:only-of-type {\n",
       "        vertical-align: middle;\n",
       "    }\n",
       "\n",
       "    .dataframe tbody tr th {\n",
       "        vertical-align: top;\n",
       "    }\n",
       "\n",
       "    .dataframe thead th {\n",
       "        text-align: right;\n",
       "    }\n",
       "</style>\n",
       "<table border=\"1\" class=\"dataframe\">\n",
       "  <thead>\n",
       "    <tr style=\"text-align: right;\">\n",
       "      <th></th>\n",
       "      <th>year</th>\n",
       "      <th>county_fips</th>\n",
       "      <th>modis_npp</th>\n",
       "      <th>rangeland_acre</th>\n",
       "      <th>county_area_acre</th>\n",
       "      <th>rangeland_fraction</th>\n",
       "      <th>cattle_cow_beef_inventory</th>\n",
       "      <th>S1_countyMean_total_precip</th>\n",
       "      <th>S2_countyMean_total_precip</th>\n",
       "      <th>S3_countyMean_total_precip</th>\n",
       "      <th>S4_countyMean_total_precip</th>\n",
       "      <th>S1_countyMean_avg_Tavg</th>\n",
       "      <th>S2_countyMean_avg_Tavg</th>\n",
       "      <th>S3_countyMean_avg_Tavg</th>\n",
       "      <th>S4_countyMean_avg_Tavg</th>\n",
       "    </tr>\n",
       "  </thead>\n",
       "  <tbody>\n",
       "    <tr>\n",
       "      <th>0</th>\n",
       "      <td>2002</td>\n",
       "      <td>01055</td>\n",
       "      <td>0.560410</td>\n",
       "      <td>57.60</td>\n",
       "      <td>352368.00</td>\n",
       "      <td>0.000163</td>\n",
       "      <td>12020.0</td>\n",
       "      <td>384.081</td>\n",
       "      <td>381.902</td>\n",
       "      <td>297.505</td>\n",
       "      <td>444.936</td>\n",
       "      <td>8.504456</td>\n",
       "      <td>22.419525</td>\n",
       "      <td>25.522639</td>\n",
       "      <td>11.011326</td>\n",
       "    </tr>\n",
       "    <tr>\n",
       "      <th>1</th>\n",
       "      <td>2002</td>\n",
       "      <td>01129</td>\n",
       "      <td>0.534686</td>\n",
       "      <td>95.62</td>\n",
       "      <td>697429.12</td>\n",
       "      <td>0.000137</td>\n",
       "      <td>5364.0</td>\n",
       "      <td>363.117</td>\n",
       "      <td>419.090</td>\n",
       "      <td>391.772</td>\n",
       "      <td>572.797</td>\n",
       "      <td>11.222078</td>\n",
       "      <td>24.012369</td>\n",
       "      <td>26.272246</td>\n",
       "      <td>14.197446</td>\n",
       "    </tr>\n",
       "  </tbody>\n",
       "</table>\n",
       "</div>"
      ],
      "text/plain": [
       "   year county_fips  modis_npp  rangeland_acre  county_area_acre  \\\n",
       "0  2002       01055   0.560410           57.60         352368.00   \n",
       "1  2002       01129   0.534686           95.62         697429.12   \n",
       "\n",
       "   rangeland_fraction  cattle_cow_beef_inventory  S1_countyMean_total_precip  \\\n",
       "0            0.000163                    12020.0                     384.081   \n",
       "1            0.000137                     5364.0                     363.117   \n",
       "\n",
       "   S2_countyMean_total_precip  S3_countyMean_total_precip  \\\n",
       "0                     381.902                     297.505   \n",
       "1                     419.090                     391.772   \n",
       "\n",
       "   S4_countyMean_total_precip  S1_countyMean_avg_Tavg  S2_countyMean_avg_Tavg  \\\n",
       "0                     444.936                8.504456               22.419525   \n",
       "1                     572.797               11.222078               24.012369   \n",
       "\n",
       "   S3_countyMean_avg_Tavg  S4_countyMean_avg_Tavg  \n",
       "0               25.522639               11.011326  \n",
       "1               26.272246               14.197446  "
      ]
     },
     "execution_count": 69,
     "metadata": {},
     "output_type": "execute_result"
    }
   ],
   "source": [
    "cnty_ann_SW_NPP_Ra = pd.merge(\n",
    "    county_annual_NPP_Ra_cattleInv[NPP_needed_cols],\n",
    "    county_annual_SW_Ra_cattleInv[SW_needed_cols],\n",
    "    on=[\"year\", \"county_fips\"],\n",
    "    how=\"left\",\n",
    ")\n",
    "\n",
    "cnty_ann_SW_NPP_Ra.head(2)"
   ]
  },
  {
   "cell_type": "code",
   "execution_count": 70,
   "id": "195e8e17",
   "metadata": {},
   "outputs": [],
   "source": [
    "import pickle\n",
    "from datetime import datetime\n",
    "\n",
    "filename = reOrganized_dir + \"unitNPP_SW_CommonCntyYear.sav\"\n",
    "\n",
    "export_ = {\n",
    "    \"cnty_ann_SW_NPP_Ra\": cnty_ann_SW_NPP_Ra,\n",
    "    \"source_code\": \"SW_unitNPP_Ra_Model\",\n",
    "    \"Author\": \"HN\",\n",
    "    \"Date\": datetime.now().strftime(\"%Y-%m-%d %H:%M:%S\"),\n",
    "}\n",
    "\n",
    "pickle.dump(export_, open(filename, \"wb\"))"
   ]
  },
  {
   "cell_type": "code",
   "execution_count": 71,
   "id": "748e30f7",
   "metadata": {},
   "outputs": [],
   "source": [
    "# cnty_ann_SW_NPP_Ra.modis_npp.plot(kind='density');"
   ]
  },
  {
   "cell_type": "code",
   "execution_count": 72,
   "id": "c7fff966",
   "metadata": {},
   "outputs": [],
   "source": [
    "# plt.hist(cnty_ann_SW_NPP_Ra.modis_npp, bins=200);"
   ]
  },
  {
   "cell_type": "code",
   "execution_count": 73,
   "id": "af187dbf",
   "metadata": {},
   "outputs": [
    {
     "name": "stderr",
     "output_type": "stream",
     "text": [
      "/Users/hn/anaconda3/lib/python3.11/site-packages/seaborn/axisgrid.py:118: UserWarning: The figure layout has changed to tight\n",
      "  self._figure.tight_layout(*args, **kwargs)\n"
     ]
    },
    {
     "data": {
      "text/plain": [
       "<seaborn.axisgrid.FacetGrid at 0x1455e0550>"
      ]
     },
     "execution_count": 73,
     "metadata": {},
     "output_type": "execute_result"
    },
    {
     "data": {
      "image/png": "[encoded data removed]",
      "text/plain": [
       "<Figure size 500x500 with 1 Axes>"
      ]
     },
     "metadata": {},
     "output_type": "display_data"
    }
   ],
   "source": [
    "import seaborn as sns\n",
    "\n",
    "sns.displot(\n",
    "    cnty_ann_SW_NPP_Ra.modis_npp, kde=True, kind=\"hist\", bins=200, color=\"darkblue\"\n",
    ")"
   ]
  },
  {
   "cell_type": "code",
   "execution_count": 74,
   "id": "0d0073f7",
   "metadata": {},
   "outputs": [
    {
     "name": "stderr",
     "output_type": "stream",
     "text": [
      "/Users/hn/anaconda3/lib/python3.11/site-packages/seaborn/axisgrid.py:118: UserWarning: The figure layout has changed to tight\n",
      "  self._figure.tight_layout(*args, **kwargs)\n"
     ]
    },
    {
     "data": {
      "text/plain": [
       "<seaborn.axisgrid.FacetGrid at 0x144a5fd10>"
      ]
     },
     "execution_count": 74,
     "metadata": {},
     "output_type": "execute_result"
    },
    {
     "data": {
      "image/png": "[encoded data removed]",
      "text/plain": [
       "<Figure size 500x500 with 1 Axes>"
      ]
     },
     "metadata": {},
     "output_type": "display_data"
    }
   ],
   "source": [
    "import seaborn as sns\n",
    "\n",
    "sns.displot(\n",
    "    cnty_ann_SW_NPP_Ra.cattle_cow_beef_inventory,\n",
    "    kde=True,\n",
    "    kind=\"hist\",\n",
    "    bins=200,\n",
    "    color=\"darkblue\",\n",
    ")"
   ]
  },
  {
   "cell_type": "code",
   "execution_count": null,
   "id": "0d817ab4",
   "metadata": {},
   "outputs": [],
   "source": []
  },
  {
   "cell_type": "code",
   "execution_count": 75,
   "id": "649242af",
   "metadata": {},
   "outputs": [
    {
     "name": "stderr",
     "output_type": "stream",
     "text": [
      "/Users/hn/anaconda3/lib/python3.11/site-packages/seaborn/axisgrid.py:118: UserWarning: The figure layout has changed to tight\n",
      "  self._figure.tight_layout(*args, **kwargs)\n"
     ]
    },
    {
     "data": {
      "text/plain": [
       "<seaborn.axisgrid.FacetGrid at 0x144ba0b50>"
      ]
     },
     "execution_count": 75,
     "metadata": {},
     "output_type": "execute_result"
    },
    {
     "data": {
      "image/png": "[encoded data removed]",
      "text/plain": [
       "<Figure size 500x500 with 1 Axes>"
      ]
     },
     "metadata": {},
     "output_type": "display_data"
    }
   ],
   "source": [
    "sns.displot(\n",
    "    data=cnty_ann_SW_NPP_Ra,\n",
    "    x=\"modis_npp\",\n",
    "    y=\"cattle_cow_beef_inventory\",\n",
    "    kind=\"kde\",\n",
    "    height=5,\n",
    ")"
   ]
  },
  {
   "cell_type": "code",
   "execution_count": 76,
   "id": "5cc7f601",
   "metadata": {},
   "outputs": [],
   "source": [
    "# plt.pcolormesh(, ,)"
   ]
  },
  {
   "cell_type": "code",
   "execution_count": 77,
   "id": "8f56bae2",
   "metadata": {},
   "outputs": [],
   "source": [
    "# hist, xedges, yedges = np.histogram2d(cnty_ann_SW_NPP_Ra.modis_npp,\n",
    "#                                       cnty_ann_SW_NPP_Ra.cattle_cow_inventory,\n",
    "#                                       bins=200)\n",
    "\n",
    "# # Construct arrays for the anchor positions of the 16 bars.\n",
    "# xpos, ypos = np.meshgrid(xedges[:-1] + 0.25, yedges[:-1] + 0.25, indexing=\"ij\")\n",
    "# xpos = xpos.ravel()\n",
    "# ypos = ypos.ravel()\n",
    "# zpos = 0\n",
    "\n",
    "# # Construct arrays with the dimensions for the 16 bars.\n",
    "# dx = dy = 0.5 * np.ones_like(zpos)\n",
    "# dz = hist.ravel()\n",
    "\n",
    "# fig = plt.figure()\n",
    "# ax = fig.add_subplot(projection='3d')\n",
    "\n",
    "# ax.bar3d(xpos, ypos, zpos, dx, dy, dz, zsort='average')\n",
    "# plt.show()"
   ]
  },
  {
   "cell_type": "code",
   "execution_count": 78,
   "id": "25d80d93",
   "metadata": {},
   "outputs": [],
   "source": [
    "# data_array = np.array(cnty_ann_SW_NPP_Ra[[\"modis_npp\", \"cattle_cow_inventory\"]])\n",
    "# data_array"
   ]
  },
  {
   "cell_type": "code",
   "execution_count": 79,
   "id": "eb9c6704",
   "metadata": {
    "lines_to_next_cell": 2
   },
   "outputs": [],
   "source": [
    "# data_array = np.array(cnty_ann_SW_NPP_Ra[[\"modis_npp\", \"cattle_cow_inventory\"]])\n",
    "# data_array.shape\n",
    "\n",
    "# #\n",
    "# # Create an X-Y mesh of the same dimension as the 2D data. You can\n",
    "# # think of this as the floor of the plot.\n",
    "# #\n",
    "# x_data, y_data = np.meshgrid( np.arange(data_array.shape[1]),\n",
    "#                               np.arange(data_array.shape[0]) )\n",
    "\n",
    "\n",
    "# x_data, y_data, z_data = x_data.flatten(), y_data.flatten(), data_array.flatten()\n",
    "\n",
    "# fig = plt.figure()\n",
    "# ax = fig.add_subplot(111, projection='3d')\n",
    "\n",
    "# ax.bar3d(x_data, y_data,\n",
    "#          np.zeros(len(z_data)),\n",
    "#          1, 1, z_data )\n",
    "# plt.show()"
   ]
  },
  {
   "cell_type": "code",
   "execution_count": null,
   "id": "44d7eabf",
   "metadata": {},
   "outputs": [],
   "source": []
  },
  {
   "cell_type": "code",
   "execution_count": null,
   "id": "d6a84767",
   "metadata": {},
   "outputs": [],
   "source": []
  },
  {
   "cell_type": "code",
   "execution_count": 80,
   "id": "fc4a302b",
   "metadata": {},
   "outputs": [],
   "source": [
    "tick_legend_FontSize = 10\n",
    "\n",
    "params = {\n",
    "    \"legend.fontsize\": tick_legend_FontSize,  # medium, large\n",
    "    # 'figure.figsize': (6, 4),\n",
    "    \"axes.labelsize\": tick_legend_FontSize * 1.5,\n",
    "    \"axes.titlesize\": tick_legend_FontSize * 1.3,\n",
    "    \"xtick.labelsize\": tick_legend_FontSize * 1.1,  #  * 0.75\n",
    "    \"ytick.labelsize\": tick_legend_FontSize * 1.1,  #  * 0.75\n",
    "    \"axes.titlepad\": 10,\n",
    "}\n",
    "\n",
    "plt.rc(\"font\", family=\"Palatino\")\n",
    "plt.rcParams[\"xtick.bottom\"] = True\n",
    "plt.rcParams[\"ytick.left\"] = True\n",
    "plt.rcParams[\"xtick.labelbottom\"] = True\n",
    "plt.rcParams[\"ytick.labelleft\"] = True\n",
    "plt.rcParams.update(params)"
   ]
  },
  {
   "cell_type": "code",
   "execution_count": 81,
   "id": "756e8bbc",
   "metadata": {},
   "outputs": [
    {
     "data": {
      "image/png": "[encoded data removed]",
      "text/plain": [
       "<Figure size 500x500 with 1 Axes>"
      ]
     },
     "metadata": {},
     "output_type": "display_data"
    }
   ],
   "source": [
    "fig, axes = plt.subplots(1, 1, figsize=(5, 5), sharey=True)\n",
    "axes.grid(axis=\"y\", which=\"both\")\n",
    "axes.scatter(\n",
    "    cnty_ann_SW_NPP_Ra.modis_npp, cnty_ann_SW_NPP_Ra.cattle_cow_beef_inventory, s=5\n",
    ")\n",
    "axes.set_xlabel(\"NPP\")\n",
    "axes.set_ylabel(\"cow inventory\")\n",
    "plt.show()"
   ]
  },
  {
   "cell_type": "code",
   "execution_count": 82,
   "id": "28a396dc",
   "metadata": {},
   "outputs": [
    {
     "data": {
      "text/html": [
       "<div>\n",
       "<style scoped>\n",
       "    .dataframe tbody tr th:only-of-type {\n",
       "        vertical-align: middle;\n",
       "    }\n",
       "\n",
       "    .dataframe tbody tr th {\n",
       "        vertical-align: top;\n",
       "    }\n",
       "\n",
       "    .dataframe thead th {\n",
       "        text-align: right;\n",
       "    }\n",
       "</style>\n",
       "<table border=\"1\" class=\"dataframe\">\n",
       "  <thead>\n",
       "    <tr style=\"text-align: right;\">\n",
       "      <th></th>\n",
       "      <th>year</th>\n",
       "      <th>county_fips</th>\n",
       "      <th>modis_npp</th>\n",
       "      <th>rangeland_acre</th>\n",
       "      <th>county_area_acre</th>\n",
       "      <th>rangeland_fraction</th>\n",
       "      <th>cattle_cow_beef_inventory</th>\n",
       "      <th>S1_countyMean_total_precip</th>\n",
       "      <th>S2_countyMean_total_precip</th>\n",
       "      <th>S3_countyMean_total_precip</th>\n",
       "      <th>S4_countyMean_total_precip</th>\n",
       "      <th>S1_countyMean_avg_Tavg</th>\n",
       "      <th>S2_countyMean_avg_Tavg</th>\n",
       "      <th>S3_countyMean_avg_Tavg</th>\n",
       "      <th>S4_countyMean_avg_Tavg</th>\n",
       "    </tr>\n",
       "  </thead>\n",
       "  <tbody>\n",
       "    <tr>\n",
       "      <th>416</th>\n",
       "      <td>2002</td>\n",
       "      <td>31089</td>\n",
       "      <td>0.259076</td>\n",
       "      <td>1098674.42</td>\n",
       "      <td>1544536.32</td>\n",
       "      <td>0.71</td>\n",
       "      <td>99490.0</td>\n",
       "      <td>33.208</td>\n",
       "      <td>163.734</td>\n",
       "      <td>151.861</td>\n",
       "      <td>92.950</td>\n",
       "      <td>-1.606911</td>\n",
       "      <td>18.219664</td>\n",
       "      <td>20.184721</td>\n",
       "      <td>2.298228</td>\n",
       "    </tr>\n",
       "    <tr>\n",
       "      <th>1111</th>\n",
       "      <td>2007</td>\n",
       "      <td>31089</td>\n",
       "      <td>0.470371</td>\n",
       "      <td>1098674.42</td>\n",
       "      <td>1544536.32</td>\n",
       "      <td>0.71</td>\n",
       "      <td>99550.0</td>\n",
       "      <td>120.544</td>\n",
       "      <td>377.730</td>\n",
       "      <td>173.316</td>\n",
       "      <td>165.076</td>\n",
       "      <td>-2.329789</td>\n",
       "      <td>17.501016</td>\n",
       "      <td>20.265311</td>\n",
       "      <td>2.670750</td>\n",
       "    </tr>\n",
       "    <tr>\n",
       "      <th>2501</th>\n",
       "      <td>2017</td>\n",
       "      <td>31089</td>\n",
       "      <td>0.421685</td>\n",
       "      <td>1098674.42</td>\n",
       "      <td>1544536.32</td>\n",
       "      <td>0.71</td>\n",
       "      <td>96467.0</td>\n",
       "      <td>96.003</td>\n",
       "      <td>356.662</td>\n",
       "      <td>274.268</td>\n",
       "      <td>136.267</td>\n",
       "      <td>-0.340378</td>\n",
       "      <td>17.243344</td>\n",
       "      <td>18.767000</td>\n",
       "      <td>2.787989</td>\n",
       "    </tr>\n",
       "  </tbody>\n",
       "</table>\n",
       "</div>"
      ],
      "text/plain": [
       "      year county_fips  modis_npp  rangeland_acre  county_area_acre  \\\n",
       "416   2002       31089   0.259076      1098674.42        1544536.32   \n",
       "1111  2007       31089   0.470371      1098674.42        1544536.32   \n",
       "2501  2017       31089   0.421685      1098674.42        1544536.32   \n",
       "\n",
       "      rangeland_fraction  cattle_cow_beef_inventory  \\\n",
       "416                 0.71                    99490.0   \n",
       "1111                0.71                    99550.0   \n",
       "2501                0.71                    96467.0   \n",
       "\n",
       "      S1_countyMean_total_precip  S2_countyMean_total_precip  \\\n",
       "416                       33.208                     163.734   \n",
       "1111                     120.544                     377.730   \n",
       "2501                      96.003                     356.662   \n",
       "\n",
       "      S3_countyMean_total_precip  S4_countyMean_total_precip  \\\n",
       "416                      151.861                      92.950   \n",
       "1111                     173.316                     165.076   \n",
       "2501                     274.268                     136.267   \n",
       "\n",
       "      S1_countyMean_avg_Tavg  S2_countyMean_avg_Tavg  S3_countyMean_avg_Tavg  \\\n",
       "416                -1.606911               18.219664               20.184721   \n",
       "1111               -2.329789               17.501016               20.265311   \n",
       "2501               -0.340378               17.243344               18.767000   \n",
       "\n",
       "      S4_countyMean_avg_Tavg  \n",
       "416                 2.298228  \n",
       "1111                2.670750  \n",
       "2501                2.787989  "
      ]
     },
     "execution_count": 82,
     "metadata": {},
     "output_type": "execute_result"
    }
   ],
   "source": [
    "cnty_ann_SW_NPP_Ra[cnty_ann_SW_NPP_Ra.cattle_cow_beef_inventory > 90000]"
   ]
  },
  {
   "cell_type": "code",
   "execution_count": 83,
   "id": "5825a890",
   "metadata": {},
   "outputs": [
    {
     "data": {
      "text/html": [
       "<div>\n",
       "<style scoped>\n",
       "    .dataframe tbody tr th:only-of-type {\n",
       "        vertical-align: middle;\n",
       "    }\n",
       "\n",
       "    .dataframe tbody tr th {\n",
       "        vertical-align: top;\n",
       "    }\n",
       "\n",
       "    .dataframe thead th {\n",
       "        text-align: right;\n",
       "    }\n",
       "</style>\n",
       "<table border=\"1\" class=\"dataframe\">\n",
       "  <thead>\n",
       "    <tr style=\"text-align: right;\">\n",
       "      <th></th>\n",
       "      <th>county_fips</th>\n",
       "      <th>county_name</th>\n",
       "      <th>FIPS</th>\n",
       "      <th>STATE</th>\n",
       "    </tr>\n",
       "  </thead>\n",
       "  <tbody>\n",
       "    <tr>\n",
       "      <th>195</th>\n",
       "      <td>06107</td>\n",
       "      <td>Tulare County</td>\n",
       "      <td>6107</td>\n",
       "      <td>CA</td>\n",
       "    </tr>\n",
       "  </tbody>\n",
       "</table>\n",
       "</div>"
      ],
      "text/plain": [
       "    county_fips    county_name  FIPS STATE\n",
       "195       06107  Tulare County  6107    CA"
      ]
     },
     "execution_count": 83,
     "metadata": {},
     "output_type": "execute_result"
    }
   ],
   "source": [
    "county_id_name_fips[county_id_name_fips.county_fips == \"06107\"]"
   ]
  },
  {
   "cell_type": "code",
   "execution_count": 84,
   "id": "d3d59bd2",
   "metadata": {},
   "outputs": [
    {
     "data": {
      "text/html": [
       "<div>\n",
       "<style scoped>\n",
       "    .dataframe tbody tr th:only-of-type {\n",
       "        vertical-align: middle;\n",
       "    }\n",
       "\n",
       "    .dataframe tbody tr th {\n",
       "        vertical-align: top;\n",
       "    }\n",
       "\n",
       "    .dataframe thead th {\n",
       "        text-align: right;\n",
       "    }\n",
       "</style>\n",
       "<table border=\"1\" class=\"dataframe\">\n",
       "  <thead>\n",
       "    <tr style=\"text-align: right;\">\n",
       "      <th></th>\n",
       "      <th>county_fips</th>\n",
       "      <th>county_name</th>\n",
       "      <th>FIPS</th>\n",
       "      <th>STATE</th>\n",
       "    </tr>\n",
       "  </thead>\n",
       "  <tbody>\n",
       "  </tbody>\n",
       "</table>\n",
       "</div>"
      ],
      "text/plain": [
       "Empty DataFrame\n",
       "Columns: [county_fips, county_name, FIPS, STATE]\n",
       "Index: []"
      ]
     },
     "execution_count": 84,
     "metadata": {},
     "output_type": "execute_result"
    }
   ],
   "source": [
    "large_cows_fips = list(\n",
    "    cnty_ann_SW_NPP_Ra[\n",
    "        cnty_ann_SW_NPP_Ra.cattle_cow_beef_inventory > 200000\n",
    "    ].county_fips\n",
    ")\n",
    "county_id_name_fips[county_id_name_fips.county_fips.isin(large_cows_fips)]"
   ]
  },
  {
   "cell_type": "code",
   "execution_count": 85,
   "id": "798a97ee",
   "metadata": {},
   "outputs": [
    {
     "data": {
      "text/plain": [
       "[1.2998233341947487,\n",
       " 1.3393699621307962,\n",
       " 1.347741960604502,\n",
       " 1.3508312293917517,\n",
       " 1.368399977684021,\n",
       " 1.4016276532292922,\n",
       " 1.4624181145238564,\n",
       " 1.465055531683674,\n",
       " 1.4743251856214257,\n",
       " 1.490733130140138]"
      ]
     },
     "execution_count": 85,
     "metadata": {},
     "output_type": "execute_result"
    }
   ],
   "source": [
    "sorted(cnty_ann_SW_NPP_Ra.modis_npp)[-10:]"
   ]
  },
  {
   "cell_type": "code",
   "execution_count": 86,
   "id": "0704665d",
   "metadata": {},
   "outputs": [
    {
     "data": {
      "image/png": "[encoded data removed]",
      "text/plain": [
       "<Figure size 500x500 with 1 Axes>"
      ]
     },
     "metadata": {},
     "output_type": "display_data"
    }
   ],
   "source": [
    "fig, axes = plt.subplots(1, 1, figsize=(5, 5), sharey=True)\n",
    "axes.grid(axis=\"y\", which=\"both\")\n",
    "axes.scatter(cnty_ann_SW_NPP_Ra.rangeland_acre, cnty_ann_SW_NPP_Ra.modis_npp, s=5)\n",
    "axes.set_xlabel(\"rangeland_acre\")\n",
    "axes.set_ylabel(\"modis_npp\")\n",
    "plt.show()"
   ]
  },
  {
   "cell_type": "code",
   "execution_count": 87,
   "id": "3a831eeb",
   "metadata": {},
   "outputs": [
    {
     "data": {
      "text/html": [
       "<div>\n",
       "<style scoped>\n",
       "    .dataframe tbody tr th:only-of-type {\n",
       "        vertical-align: middle;\n",
       "    }\n",
       "\n",
       "    .dataframe tbody tr th {\n",
       "        vertical-align: top;\n",
       "    }\n",
       "\n",
       "    .dataframe thead th {\n",
       "        text-align: right;\n",
       "    }\n",
       "</style>\n",
       "<table border=\"1\" class=\"dataframe\">\n",
       "  <thead>\n",
       "    <tr style=\"text-align: right;\">\n",
       "      <th></th>\n",
       "      <th>year</th>\n",
       "      <th>county_fips</th>\n",
       "      <th>NPP</th>\n",
       "      <th>rangeland_acre</th>\n",
       "      <th>county_area_acre</th>\n",
       "      <th>rangeland_fraction</th>\n",
       "    </tr>\n",
       "  </thead>\n",
       "  <tbody>\n",
       "    <tr>\n",
       "      <th>0</th>\n",
       "      <td>2001</td>\n",
       "      <td>101003</td>\n",
       "      <td>0.926441</td>\n",
       "      <td>13037.43</td>\n",
       "      <td>1060302.72</td>\n",
       "      <td>0.010000</td>\n",
       "    </tr>\n",
       "    <tr>\n",
       "      <th>1</th>\n",
       "      <td>2001</td>\n",
       "      <td>101005</td>\n",
       "      <td>0.629133</td>\n",
       "      <td>18.23</td>\n",
       "      <td>575781.12</td>\n",
       "      <td>0.000032</td>\n",
       "    </tr>\n",
       "  </tbody>\n",
       "</table>\n",
       "</div>"
      ],
      "text/plain": [
       "   year  county_fips       NPP  rangeland_acre  county_area_acre  \\\n",
       "0  2001       101003  0.926441        13037.43        1060302.72   \n",
       "1  2001       101005  0.629133           18.23         575781.12   \n",
       "\n",
       "   rangeland_fraction  \n",
       "0            0.010000  \n",
       "1            0.000032  "
      ]
     },
     "execution_count": 87,
     "metadata": {},
     "output_type": "execute_result"
    }
   ],
   "source": [
    "NPP = pd.read_csv(Min_data_base + \"county_annual_MODIS_NPP.csv\")\n",
    "RA = pd.read_csv(reOrganized_dir + \"county_rangeland_and_totalarea_fraction.csv\")\n",
    "\n",
    "RA.rename(columns={\"fips_id\": \"county_fips\"}, inplace=True)\n",
    "NPP.rename(columns={\"county\": \"county_fips\"}, inplace=True)\n",
    "\n",
    "NPP_RA = pd.merge(NPP, RA, on=[\"county_fips\"], how=\"left\")\n",
    "NPP_RA.head(2)"
   ]
  },
  {
   "cell_type": "code",
   "execution_count": 88,
   "id": "ba1ee8a6",
   "metadata": {},
   "outputs": [
    {
     "data": {
      "image/png": "[encoded data removed]",
      "text/plain": [
       "<Figure size 500x500 with 1 Axes>"
      ]
     },
     "metadata": {},
     "output_type": "display_data"
    }
   ],
   "source": [
    "fig, axes = plt.subplots(1, 1, figsize=(5, 5), sharey=True)\n",
    "axes.grid(axis=\"y\", which=\"both\")\n",
    "axes.scatter(NPP_RA.rangeland_acre, NPP_RA.NPP, s=5)\n",
    "axes.set_xlabel(\"Acres\")\n",
    "axes.set_ylabel(\"NPP\")\n",
    "plt.show()"
   ]
  },
  {
   "cell_type": "code",
   "execution_count": 89,
   "id": "67fb5ba8",
   "metadata": {},
   "outputs": [
    {
     "data": {
      "image/png": "[encoded data removed]",
      "text/plain": [
       "<Figure size 500x500 with 1 Axes>"
      ]
     },
     "metadata": {},
     "output_type": "display_data"
    }
   ],
   "source": [
    "fig, axes = plt.subplots(1, 1, figsize=(5, 5), sharey=True)\n",
    "axes.grid(axis=\"y\", which=\"both\")\n",
    "axes.scatter(\n",
    "    cnty_ann_SW_NPP_Ra.rangeland_acre, cnty_ann_SW_NPP_Ra.cattle_cow_beef_inventory, s=5\n",
    ")\n",
    "\n",
    "axes.set_xlabel(\"rangeland acres\")\n",
    "axes.set_ylabel(\"cow count\")\n",
    "\n",
    "plt.show()"
   ]
  },
  {
   "cell_type": "markdown",
   "id": "da1f8138",
   "metadata": {},
   "source": [
    "# Residual Plots"
   ]
  },
  {
   "cell_type": "code",
   "execution_count": null,
   "id": "b3552c43",
   "metadata": {},
   "outputs": [],
   "source": []
  },
  {
   "cell_type": "code",
   "execution_count": 90,
   "id": "d42688ab",
   "metadata": {},
   "outputs": [
    {
     "data": {
      "image/png": "[encoded data removed]",
      "text/plain": [
       "<Figure size 1000x400 with 2 Axes>"
      ]
     },
     "metadata": {},
     "output_type": "display_data"
    }
   ],
   "source": [
    "fig, axes = plt.subplots(1, 2, figsize=(10, 4), sharey=True)\n",
    "(ax1, ax2) = axes\n",
    "ax1.grid(axis=\"y\", which=\"both\")\n",
    "ax2.grid(axis=\"y\", which=\"both\")\n",
    "##################################################\n",
    "ax1.scatter(y_2012, NPP_res2012_Model2017, s=5)\n",
    "ax1.set_xlabel(\"y_2012\")\n",
    "ax1.set_ylabel(\"NPP_res2012_Model2017\")\n",
    "##################################################\n",
    "ax2.scatter(y_2012, SW_res2012_Model2017, s=5)\n",
    "ax2.set_xlabel(\"y_2012\")\n",
    "ax2.set_ylabel(\"SW_res2012_Model2017\")\n",
    "plt.show()"
   ]
  },
  {
   "cell_type": "code",
   "execution_count": 91,
   "id": "3b170947",
   "metadata": {},
   "outputs": [
    {
     "data": {
      "image/png": "[encoded data removed]",
      "text/plain": [
       "<Figure size 1000x400 with 2 Axes>"
      ]
     },
     "metadata": {},
     "output_type": "display_data"
    }
   ],
   "source": [
    "fig, axes = plt.subplots(1, 2, figsize=(10, 4), sharey=True)\n",
    "(ax1, ax2) = axes\n",
    "ax1.grid(axis=\"y\", which=\"both\")\n",
    "ax2.grid(axis=\"y\", which=\"both\")\n",
    "##################################################\n",
    "ax1.scatter(NPP_yhat2012_Model2017, NPP_res2012_Model2017, s=5)\n",
    "ax1.set_xlabel(\"NPP_yhat2012_Model2017\")\n",
    "ax1.set_ylabel(\"NPP_res2012_Model2017\")\n",
    "##################################################\n",
    "ax2.scatter(SW_yhat2012_Model2017, SW_res2012_Model2017, s=5)\n",
    "ax2.set_xlabel(\"SW_yhat2012_Model2017\")\n",
    "ax2.set_ylabel(\"SW_res2012_Model2017\")\n",
    "plt.show()"
   ]
  },
  {
   "cell_type": "code",
   "execution_count": null,
   "id": "ad69cfaf",
   "metadata": {},
   "outputs": [],
   "source": []
  },
  {
   "cell_type": "code",
   "execution_count": 92,
   "id": "c72021d3",
   "metadata": {},
   "outputs": [
    {
     "data": {
      "image/png": "[encoded data removed]",
      "text/plain": [
       "<Figure size 1000x400 with 2 Axes>"
      ]
     },
     "metadata": {},
     "output_type": "display_data"
    }
   ],
   "source": [
    "fig, axes = plt.subplots(1, 2, figsize=(10, 4), sharey=True)\n",
    "(ax1, ax2) = axes\n",
    "ax1.grid(axis=\"y\", which=\"both\")\n",
    "ax2.grid(axis=\"y\", which=\"both\")\n",
    "##################################################\n",
    "ax1.scatter(SW_Ra_cattleInv_2012.rangeland_acre, NPP_res2012_Model2017, s=5)\n",
    "ax1.set_xlabel(\"acre\")\n",
    "ax1.set_ylabel(\"NPP_res2012_Model2017\")\n",
    "##################################################\n",
    "ax2.scatter(NPP_Ra_cattleInv_2012.rangeland_acre, SW_res2012_Model2017, s=5)\n",
    "ax2.set_xlabel(\"acre\")\n",
    "ax2.set_ylabel(\"SW_res2012_Model2017\")\n",
    "\n",
    "plt.show()"
   ]
  },
  {
   "cell_type": "code",
   "execution_count": 93,
   "id": "71966438",
   "metadata": {},
   "outputs": [
    {
     "data": {
      "image/png": "[encoded data removed]",
      "text/plain": [
       "<Figure size 1000x400 with 2 Axes>"
      ]
     },
     "metadata": {},
     "output_type": "display_data"
    }
   ],
   "source": [
    "fig, axes = plt.subplots(1, 2, figsize=(10, 4), sharey=True)\n",
    "(ax1, ax2) = axes\n",
    "ax1.grid(axis=\"y\", which=\"both\")\n",
    "ax2.grid(axis=\"y\", which=\"both\")\n",
    "##################################################\n",
    "ax1.scatter(SW_Ra_cattleInv_2012.rangeland_acre, NPP_res2012_Model2017, s=5)\n",
    "ax1.set_xlabel(\"acre\")\n",
    "ax1.set_ylabel(\"NPP_res2012_Model2017\")\n",
    "##################################################\n",
    "ax2.scatter(NPP_Ra_cattleInv_2012.rangeland_acre, SW_res2012_Model2017, s=5)\n",
    "ax2.set_xlabel(\"acre\")\n",
    "ax2.set_ylabel(\"SW_res2012_Model2017\")\n",
    "plt.show()"
   ]
  },
  {
   "cell_type": "code",
   "execution_count": null,
   "id": "f0dc80a4",
   "metadata": {},
   "outputs": [],
   "source": []
  },
  {
   "cell_type": "code",
   "execution_count": null,
   "id": "8a458a61",
   "metadata": {},
   "outputs": [],
   "source": []
  },
  {
   "cell_type": "code",
   "execution_count": null,
   "id": "a1caaf3b",
   "metadata": {},
   "outputs": [],
   "source": []
  },
  {
   "cell_type": "code",
   "execution_count": null,
   "id": "49797904",
   "metadata": {},
   "outputs": [],
   "source": []
  },
  {
   "cell_type": "code",
   "execution_count": null,
   "id": "88d55726",
   "metadata": {},
   "outputs": [],
   "source": []
  },
  {
   "cell_type": "code",
   "execution_count": null,
   "id": "9bb601f1",
   "metadata": {},
   "outputs": [],
   "source": []
  }
 ],
 "metadata": {
  "kernelspec": {
   "display_name": "Python 3 (ipykernel)",
   "language": "python",
   "name": "python3"
  },
  "language_info": {
   "codemirror_mode": {
    "name": "ipython",
    "version": 3
   },
   "file_extension": ".py",
   "mimetype": "text/x-python",
   "name": "python",
   "nbconvert_exporter": "python",
   "pygments_lexer": "ipython3",
   "version": "3.11.5"
  }
 },
 "nbformat": 4,
 "nbformat_minor": 5
}
