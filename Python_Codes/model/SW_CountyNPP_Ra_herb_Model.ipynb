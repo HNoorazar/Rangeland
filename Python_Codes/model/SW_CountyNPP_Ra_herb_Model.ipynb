{
 "cells": [
  {
   "cell_type": "markdown",
   "id": "300ab146",
   "metadata": {},
   "source": [
    "## Dec 1.\n",
    "\n",
    "This is copy of \"SW_CountyNPP_Ra_Model.ipynb\" with addition of herb ratio. Herb ratio came in late.\n",
    "So, lets see if we can do it now.\n",
    "\n",
    "- ```SW```: Seasonal Weather: temp. and precip.\n",
    "- On Nov. 6 Mike wanted to model cattle inventory using only ```NPP```/```SW``` and rangeland area for one year.\n",
    "- On Nov. 13 we had a meeting and they wanted to model using ```NPP``` on county level total, not unit ```NPP```.\n",
    "\n",
    "**Min's data are inconsistent:** Let us subset the counties that are in common between ```NPP``` and ```SW```, and cattle inventory.\n",
    "\n",
    "#### Seasons in Tonsor are\n",
    "- S1: Jan - Mar\n",
    "- S2: Apr - Jul\n",
    "- S3: Aug - Sep\n",
    "- S4: Oct - Dec"
   ]
  },
  {
   "cell_type": "code",
   "execution_count": 1,
   "id": "ae9e2cee",
   "metadata": {},
   "outputs": [],
   "source": [
    "import shutup\n",
    "shutup.please()\n",
    "\n",
    "import pandas as pd\n",
    "import numpy as np\n",
    "from datetime import datetime\n",
    "import os, os.path, pickle, sys\n",
    "import seaborn as sns\n",
    "\n",
    "import matplotlib\n",
    "import matplotlib.pyplot as plt\n",
    "\n",
    "sys.path.append(\"/Users/hn/Documents/00_GitHub/Rangeland/Python_Codes/\")\n",
    "import rangeland_core as rc"
   ]
  },
  {
   "cell_type": "markdown",
   "id": "efe9f08d",
   "metadata": {},
   "source": [
    "## Directories"
   ]
  },
  {
   "cell_type": "code",
   "execution_count": 2,
   "id": "0daece63",
   "metadata": {},
   "outputs": [],
   "source": [
    "data_dir_base = \"/Users/hn/Documents/01_research_data/RangeLand/Data/\"\n",
    "census_population_dir = data_dir_base + \"census/\"\n",
    "# Shannon_data_dir = data_dir_base + \"Shannon_Data/\"\n",
    "# USDA_data_dir = data_dir_base + \"/NASS_downloads/\"\n",
    "param_dir = data_dir_base + \"parameters/\"\n",
    "Min_data_base = data_dir_base + \"Min_Data/\"\n",
    "reOrganized_dir = data_dir_base + \"reOrganized/\""
   ]
  },
  {
   "cell_type": "markdown",
   "id": "f0710662",
   "metadata": {},
   "source": [
    "## Read data"
   ]
  },
  {
   "cell_type": "code",
   "execution_count": 3,
   "id": "e483f415",
   "metadata": {},
   "outputs": [],
   "source": [
    "# Bhupi = pd.read_csv(param_dir + \"Bhupi_25states_clean.csv\")\n",
    "# Bhupi[\"SC\"] = Bhupi.state + \"-\" + Bhupi.county\n",
    "\n",
    "# print (f\"{len(Bhupi.state.unique()) = }\")\n",
    "# print (f\"{len(Bhupi.county_fips.unique()) = }\")\n",
    "# Bhupi.head(2)"
   ]
  },
  {
   "cell_type": "code",
   "execution_count": 4,
   "id": "71aefbd7",
   "metadata": {},
   "outputs": [],
   "source": [
    "SoI = [\"Alabama\", \"Arkansas\", \"California\", \n",
    "       \"Colorado\", \"Florida\", \"Georgia\", \n",
    "       \"Idaho\", \"Illinois\", \"Iowa\", \n",
    "       \"Kansas\", \"Kentucky\", \"Louisiana\", \n",
    "       \"Mississippi\", \"Missouri\", \"Montana\", \n",
    "       \"Nebraska\", \"New Mexico\", \"North Dakota\", \n",
    "       \"Oklahoma\", \"Oregon\", \"South Dakota\", \n",
    "       \"Tennessee\", \"Texas\", \"Virginia\", \n",
    "       \"Wyoming\"]\n",
    "\n",
    "abb_dict = pd.read_pickle(param_dir + \"state_abbreviations.sav\")\n",
    "SoI_abb = []\n",
    "for x in SoI:\n",
    "    SoI_abb = SoI_abb + [abb_dict[\"full_2_abb\"][x]]"
   ]
  },
  {
   "cell_type": "markdown",
   "id": "a1a9b6a0",
   "metadata": {},
   "source": [
    "#### List of county names and FIPs"
   ]
  },
  {
   "cell_type": "code",
   "execution_count": 5,
   "id": "2275bf8b",
   "metadata": {},
   "outputs": [
    {
     "data": {
      "text/html": [
       "<div>\n",
       "<style scoped>\n",
       "    .dataframe tbody tr th:only-of-type {\n",
       "        vertical-align: middle;\n",
       "    }\n",
       "\n",
       "    .dataframe tbody tr th {\n",
       "        vertical-align: top;\n",
       "    }\n",
       "\n",
       "    .dataframe thead th {\n",
       "        text-align: right;\n",
       "    }\n",
       "</style>\n",
       "<table border=\"1\" class=\"dataframe\">\n",
       "  <thead>\n",
       "    <tr style=\"text-align: right;\">\n",
       "      <th></th>\n",
       "      <th>county_fips</th>\n",
       "      <th>county_name</th>\n",
       "      <th>FIPS</th>\n",
       "      <th>STATE</th>\n",
       "    </tr>\n",
       "  </thead>\n",
       "  <tbody>\n",
       "    <tr>\n",
       "      <th>0</th>\n",
       "      <td>01001</td>\n",
       "      <td>Autauga County</td>\n",
       "      <td>1001</td>\n",
       "      <td>AL</td>\n",
       "    </tr>\n",
       "    <tr>\n",
       "      <th>1</th>\n",
       "      <td>01003</td>\n",
       "      <td>Baldwin County</td>\n",
       "      <td>1003</td>\n",
       "      <td>AL</td>\n",
       "    </tr>\n",
       "  </tbody>\n",
       "</table>\n",
       "</div>"
      ],
      "text/plain": [
       "  county_fips     county_name  FIPS STATE\n",
       "0       01001  Autauga County  1001    AL\n",
       "1       01003  Baldwin County  1003    AL"
      ]
     },
     "execution_count": 5,
     "metadata": {},
     "output_type": "execute_result"
    }
   ],
   "source": [
    "county_id_name_fips = pd.read_csv(Min_data_base + \"county_id_name_fips.csv\")\n",
    "county_id_name_fips = county_id_name_fips[county_id_name_fips.STATE.isin(SoI_abb)].copy()\n",
    "\n",
    "county_id_name_fips.sort_values(by=[\"STATE\", \"county\"], inplace=True)\n",
    "\n",
    "county_id_name_fips = rc.correct_Mins_FIPS(df=county_id_name_fips, col_=\"county\")\n",
    "county_id_name_fips.rename(columns={\"county\": \"county_fips\"}, inplace=True)\n",
    "\n",
    "county_id_name_fips.reset_index(drop=True, inplace=True)\n",
    "county_id_name_fips.head(2)"
   ]
  },
  {
   "cell_type": "markdown",
   "id": "0d06f7a4",
   "metadata": {},
   "source": [
    "### Herb Ratios"
   ]
  },
  {
   "cell_type": "code",
   "execution_count": 6,
   "id": "7928d341",
   "metadata": {},
   "outputs": [
    {
     "data": {
      "text/html": [
       "<div>\n",
       "<style scoped>\n",
       "    .dataframe tbody tr th:only-of-type {\n",
       "        vertical-align: middle;\n",
       "    }\n",
       "\n",
       "    .dataframe tbody tr th {\n",
       "        vertical-align: top;\n",
       "    }\n",
       "\n",
       "    .dataframe thead th {\n",
       "        text-align: right;\n",
       "    }\n",
       "</style>\n",
       "<table border=\"1\" class=\"dataframe\">\n",
       "  <thead>\n",
       "    <tr style=\"text-align: right;\">\n",
       "      <th></th>\n",
       "      <th>county_fips</th>\n",
       "      <th>herb_avg</th>\n",
       "      <th>herb_std</th>\n",
       "      <th>pixel_count</th>\n",
       "    </tr>\n",
       "  </thead>\n",
       "  <tbody>\n",
       "    <tr>\n",
       "      <th>0</th>\n",
       "      <td>21007</td>\n",
       "      <td>28.000000</td>\n",
       "      <td>15.000000</td>\n",
       "      <td>2.0</td>\n",
       "    </tr>\n",
       "    <tr>\n",
       "      <th>2</th>\n",
       "      <td>21031</td>\n",
       "      <td>19.666667</td>\n",
       "      <td>11.440668</td>\n",
       "      <td>3.0</td>\n",
       "    </tr>\n",
       "  </tbody>\n",
       "</table>\n",
       "</div>"
      ],
      "text/plain": [
       "  county_fips   herb_avg   herb_std  pixel_count\n",
       "0       21007  28.000000  15.000000          2.0\n",
       "2       21031  19.666667  11.440668          3.0"
      ]
     },
     "execution_count": 6,
     "metadata": {},
     "output_type": "execute_result"
    }
   ],
   "source": [
    "herbRatio = pd.read_csv(data_dir_base + \"Supriya/Nov30_HerbRatio/herbRatio.csv\")\n",
    "herbRatio.dropna(how=\"any\", inplace=True)\n",
    "herbRatio = rc.correct_4digitFips(df=herbRatio, col_=\"county_fips\")\n",
    "herbRatio.head(2)"
   ]
  },
  {
   "cell_type": "code",
   "execution_count": 7,
   "id": "a656e894",
   "metadata": {},
   "outputs": [
    {
     "name": "stdout",
     "output_type": "stream",
     "text": [
      "2387\n",
      "2387\n"
     ]
    }
   ],
   "source": [
    "print (f\"{len(herbRatio.county_fips)}\")\n",
    "print (f\"{len(herbRatio.county_fips.unique())}\")"
   ]
  },
  {
   "cell_type": "code",
   "execution_count": 8,
   "id": "4fe2cc19",
   "metadata": {},
   "outputs": [
    {
     "name": "stdout",
     "output_type": "stream",
     "text": [
      "cattle_inventory.data_item.unique() = array(['CATTLE, COWS, BEEF - INVENTORY'], dtype=object)\n",
      "cattle_inventory.commodity.unique() = array(['CATTLE'], dtype=object)\n",
      "\n",
      "len(cattle_inventory.state.unique()) = 25\n",
      "census_years = [1997, 2002, 2007, 2012, 2017]\n",
      "len(cattle_inventory.county_fips.unique()) = 2052\n"
     ]
    },
    {
     "data": {
      "text/html": [
       "<div>\n",
       "<style scoped>\n",
       "    .dataframe tbody tr th:only-of-type {\n",
       "        vertical-align: middle;\n",
       "    }\n",
       "\n",
       "    .dataframe tbody tr th {\n",
       "        vertical-align: top;\n",
       "    }\n",
       "\n",
       "    .dataframe thead th {\n",
       "        text-align: right;\n",
       "    }\n",
       "</style>\n",
       "<table border=\"1\" class=\"dataframe\">\n",
       "  <thead>\n",
       "    <tr style=\"text-align: right;\">\n",
       "      <th></th>\n",
       "      <th>year</th>\n",
       "      <th>county_fips</th>\n",
       "      <th>cattle_cow_beef_inventory</th>\n",
       "    </tr>\n",
       "  </thead>\n",
       "  <tbody>\n",
       "    <tr>\n",
       "      <th>0</th>\n",
       "      <td>2017</td>\n",
       "      <td>01001</td>\n",
       "      <td>8678.0</td>\n",
       "    </tr>\n",
       "    <tr>\n",
       "      <th>1</th>\n",
       "      <td>2017</td>\n",
       "      <td>01047</td>\n",
       "      <td>14589.0</td>\n",
       "    </tr>\n",
       "  </tbody>\n",
       "</table>\n",
       "</div>"
      ],
      "text/plain": [
       "   year county_fips  cattle_cow_beef_inventory\n",
       "0  2017       01001                     8678.0\n",
       "1  2017       01047                    14589.0"
      ]
     },
     "execution_count": 8,
     "metadata": {},
     "output_type": "execute_result"
    }
   ],
   "source": [
    "USDA_data = pd.read_pickle(reOrganized_dir + \"USDA_data.sav\")\n",
    "cattle_inventory = USDA_data[\"cattle_inventory\"]\n",
    "#\n",
    "# pick only 25 states we want\n",
    "cattle_inventory = cattle_inventory[cattle_inventory.state.isin(SoI)].copy()\n",
    "\n",
    "print (f\"{cattle_inventory.data_item.unique() = }\")\n",
    "print (f\"{cattle_inventory.commodity.unique() = }\")\n",
    "print ()\n",
    "print (f\"{len(cattle_inventory.state.unique()) = }\")\n",
    "\n",
    "census_years = sorted(list(cattle_inventory.year.unique()))\n",
    "print (f\"{census_years = }\")\n",
    "\n",
    "# pick only useful columns\n",
    "inv_col_ = \"cattle_cow_beef_inventory\"\n",
    "cattle_inventory = cattle_inventory[[\"year\", \"county_fips\", inv_col_]]\n",
    "\n",
    "print (f\"{len(cattle_inventory.county_fips.unique()) = }\")\n",
    "cattle_inventory.head(2)"
   ]
  },
  {
   "cell_type": "code",
   "execution_count": 9,
   "id": "c89d1a6c",
   "metadata": {},
   "outputs": [
    {
     "data": {
      "text/html": [
       "<div>\n",
       "<style scoped>\n",
       "    .dataframe tbody tr th:only-of-type {\n",
       "        vertical-align: middle;\n",
       "    }\n",
       "\n",
       "    .dataframe tbody tr th {\n",
       "        vertical-align: top;\n",
       "    }\n",
       "\n",
       "    .dataframe thead th {\n",
       "        text-align: right;\n",
       "    }\n",
       "</style>\n",
       "<table border=\"1\" class=\"dataframe\">\n",
       "  <thead>\n",
       "    <tr style=\"text-align: right;\">\n",
       "      <th></th>\n",
       "      <th>year</th>\n",
       "      <th>county_fips</th>\n",
       "      <th>cattle_cow_beef_inventory</th>\n",
       "    </tr>\n",
       "  </thead>\n",
       "  <tbody>\n",
       "    <tr>\n",
       "      <th>122</th>\n",
       "      <td>2017</td>\n",
       "      <td>06107</td>\n",
       "      <td>72778.0</td>\n",
       "    </tr>\n",
       "    <tr>\n",
       "      <th>1662</th>\n",
       "      <td>2012</td>\n",
       "      <td>06107</td>\n",
       "      <td>24382.0</td>\n",
       "    </tr>\n",
       "    <tr>\n",
       "      <th>3157</th>\n",
       "      <td>2007</td>\n",
       "      <td>06107</td>\n",
       "      <td>27829.0</td>\n",
       "    </tr>\n",
       "    <tr>\n",
       "      <th>4676</th>\n",
       "      <td>2002</td>\n",
       "      <td>06107</td>\n",
       "      <td>31171.0</td>\n",
       "    </tr>\n",
       "    <tr>\n",
       "      <th>6324</th>\n",
       "      <td>1997</td>\n",
       "      <td>06107</td>\n",
       "      <td>43167.0</td>\n",
       "    </tr>\n",
       "  </tbody>\n",
       "</table>\n",
       "</div>"
      ],
      "text/plain": [
       "      year county_fips  cattle_cow_beef_inventory\n",
       "122   2017       06107                    72778.0\n",
       "1662  2012       06107                    24382.0\n",
       "3157  2007       06107                    27829.0\n",
       "4676  2002       06107                    31171.0\n",
       "6324  1997       06107                    43167.0"
      ]
     },
     "execution_count": 9,
     "metadata": {},
     "output_type": "execute_result"
    }
   ],
   "source": [
    "cattle_inventory[cattle_inventory.county_fips == \"06107\"]"
   ]
  },
  {
   "cell_type": "code",
   "execution_count": null,
   "id": "568f7cc8",
   "metadata": {},
   "outputs": [],
   "source": []
  },
  {
   "cell_type": "code",
   "execution_count": 10,
   "id": "e78ba8a4",
   "metadata": {},
   "outputs": [
    {
     "name": "stdout",
     "output_type": "stream",
     "text": [
      "(7900, 3)\n",
      "(7900, 3)\n"
     ]
    }
   ],
   "source": [
    "print (cattle_inventory.shape)\n",
    "cattle_inventory = rc.clean_census(df=cattle_inventory, col_=inv_col_)\n",
    "print (cattle_inventory.shape)"
   ]
  },
  {
   "cell_type": "markdown",
   "id": "c73308a8",
   "metadata": {},
   "source": [
    "## Read ```NPP``` and ```SW```\n",
    "\n",
    "**Min has an extra \"1\" as leading digit in FIPS!!**"
   ]
  },
  {
   "cell_type": "code",
   "execution_count": 11,
   "id": "ad5acd78",
   "metadata": {},
   "outputs": [
    {
     "data": {
      "text/html": [
       "<div>\n",
       "<style scoped>\n",
       "    .dataframe tbody tr th:only-of-type {\n",
       "        vertical-align: middle;\n",
       "    }\n",
       "\n",
       "    .dataframe tbody tr th {\n",
       "        vertical-align: top;\n",
       "    }\n",
       "\n",
       "    .dataframe thead th {\n",
       "        text-align: right;\n",
       "    }\n",
       "</style>\n",
       "<table border=\"1\" class=\"dataframe\">\n",
       "  <thead>\n",
       "    <tr style=\"text-align: right;\">\n",
       "      <th></th>\n",
       "      <th>year</th>\n",
       "      <th>county_fips</th>\n",
       "      <th>modis_npp</th>\n",
       "    </tr>\n",
       "  </thead>\n",
       "  <tbody>\n",
       "    <tr>\n",
       "      <th>0</th>\n",
       "      <td>2001</td>\n",
       "      <td>01003</td>\n",
       "      <td>0.926441</td>\n",
       "    </tr>\n",
       "    <tr>\n",
       "      <th>1</th>\n",
       "      <td>2001</td>\n",
       "      <td>01005</td>\n",
       "      <td>0.629133</td>\n",
       "    </tr>\n",
       "  </tbody>\n",
       "</table>\n",
       "</div>"
      ],
      "text/plain": [
       "   year county_fips  modis_npp\n",
       "0  2001       01003   0.926441\n",
       "1  2001       01005   0.629133"
      ]
     },
     "execution_count": 11,
     "metadata": {},
     "output_type": "execute_result"
    }
   ],
   "source": [
    "# county_annual_GPP_NPP_prod = pd.read_csv(reOrganized_dir + \"county_annual_GPP_NPP_productivity.csv\")\n",
    "# county_annual_GPP_NPP_prod.rename(columns=lambda x: x.lower().replace(' ', '_'), inplace=True)\n",
    "\n",
    "# county_annual_GPP_NPP_prod = county_annual_GPP_NPP_prod[[\"year\", \"county\", \"modis_npp\"]].copy()\n",
    "# county_annual_GPP_NPP_prod.dropna(how='any', inplace=True)\n",
    "# county_annual_GPP_NPP_prod.sort_values(by=[\"year\", \"county\"], inplace=True)\n",
    "# county_annual_GPP_NPP_prod.reset_index(drop=True, inplace=True)\n",
    "# county_annual_GPP_NPP_prod.head(2)\n",
    "\n",
    "# NPP = pd.read_csv(reOrganized_dir + \"county_annual_GPP_NPP_productivity.csv\")\n",
    "NPP = pd.read_csv(Min_data_base + \"county_annual_MODIS_NPP.csv\")\n",
    "NPP.rename(columns={\"NPP\": \"modis_npp\"}, inplace=True)\n",
    "\n",
    "NPP = rc.correct_Mins_FIPS(df=NPP, col_=\"county\")\n",
    "NPP.rename(columns={\"county\": \"county_fips\"}, inplace=True)\n",
    "\n",
    "NPP.head(2)"
   ]
  },
  {
   "cell_type": "code",
   "execution_count": 12,
   "id": "4dcc42b5",
   "metadata": {},
   "outputs": [
    {
     "name": "stdout",
     "output_type": "stream",
     "text": [
      "seasonal_weather.keys() = dict_keys(['seasonal', 'source_code', 'Author', 'Min_file_used', 'Date'])\n"
     ]
    },
    {
     "data": {
      "text/html": [
       "<div>\n",
       "<style scoped>\n",
       "    .dataframe tbody tr th:only-of-type {\n",
       "        vertical-align: middle;\n",
       "    }\n",
       "\n",
       "    .dataframe tbody tr th {\n",
       "        vertical-align: top;\n",
       "    }\n",
       "\n",
       "    .dataframe thead th {\n",
       "        text-align: right;\n",
       "    }\n",
       "</style>\n",
       "<table border=\"1\" class=\"dataframe\">\n",
       "  <thead>\n",
       "    <tr style=\"text-align: right;\">\n",
       "      <th></th>\n",
       "      <th>county_fips</th>\n",
       "      <th>year</th>\n",
       "      <th>S1_countyMean_total_precip</th>\n",
       "      <th>S2_countyMean_total_precip</th>\n",
       "      <th>S3_countyMean_total_precip</th>\n",
       "      <th>S4_countyMean_total_precip</th>\n",
       "      <th>S1_countyMean_avg_Tavg</th>\n",
       "      <th>S2_countyMean_avg_Tavg</th>\n",
       "      <th>S3_countyMean_avg_Tavg</th>\n",
       "      <th>S4_countyMean_avg_Tavg</th>\n",
       "    </tr>\n",
       "  </thead>\n",
       "  <tbody>\n",
       "    <tr>\n",
       "      <th>0</th>\n",
       "      <td>01003</td>\n",
       "      <td>1979</td>\n",
       "      <td>656.015</td>\n",
       "      <td>678.306</td>\n",
       "      <td>388.477</td>\n",
       "      <td>252.774</td>\n",
       "      <td>11.042778</td>\n",
       "      <td>24.376025</td>\n",
       "      <td>26.330803</td>\n",
       "      <td>15.175087</td>\n",
       "    </tr>\n",
       "    <tr>\n",
       "      <th>1</th>\n",
       "      <td>01005</td>\n",
       "      <td>1979</td>\n",
       "      <td>494.41</td>\n",
       "      <td>470.324</td>\n",
       "      <td>277.067</td>\n",
       "      <td>203.357</td>\n",
       "      <td>9.200633</td>\n",
       "      <td>22.690754</td>\n",
       "      <td>24.926689</td>\n",
       "      <td>13.078413</td>\n",
       "    </tr>\n",
       "  </tbody>\n",
       "</table>\n",
       "</div>"
      ],
      "text/plain": [
       "  county_fips  year S1_countyMean_total_precip S2_countyMean_total_precip   \n",
       "0       01003  1979                    656.015                    678.306  \\\n",
       "1       01005  1979                     494.41                    470.324   \n",
       "\n",
       "  S3_countyMean_total_precip S4_countyMean_total_precip   \n",
       "0                    388.477                    252.774  \\\n",
       "1                    277.067                    203.357   \n",
       "\n",
       "  S1_countyMean_avg_Tavg S2_countyMean_avg_Tavg S3_countyMean_avg_Tavg   \n",
       "0              11.042778              24.376025              26.330803  \\\n",
       "1               9.200633              22.690754              24.926689   \n",
       "\n",
       "  S4_countyMean_avg_Tavg  \n",
       "0              15.175087  \n",
       "1              13.078413  "
      ]
     },
     "execution_count": 12,
     "metadata": {},
     "output_type": "execute_result"
    }
   ],
   "source": [
    "filename = reOrganized_dir + \"county_seasonal_temp_ppt_weighted.sav\"\n",
    "seasonal_weather = pd.read_pickle(filename)\n",
    "print (f\"{seasonal_weather.keys() = }\")\n",
    "seasonal_weather = seasonal_weather[\"seasonal\"]\n",
    "seasonal_weather.head(2)"
   ]
  },
  {
   "cell_type": "code",
   "execution_count": 13,
   "id": "4b37e94c",
   "metadata": {},
   "outputs": [],
   "source": [
    "seasonal_var_cols = seasonal_weather.columns[2:10]\n",
    "for a_col in seasonal_var_cols:\n",
    "    seasonal_weather[a_col] = seasonal_weather[a_col].astype(float)"
   ]
  },
  {
   "cell_type": "code",
   "execution_count": 14,
   "id": "303eb4c5",
   "metadata": {},
   "outputs": [
    {
     "data": {
      "text/html": [
       "<div>\n",
       "<style scoped>\n",
       "    .dataframe tbody tr th:only-of-type {\n",
       "        vertical-align: middle;\n",
       "    }\n",
       "\n",
       "    .dataframe tbody tr th {\n",
       "        vertical-align: top;\n",
       "    }\n",
       "\n",
       "    .dataframe thead th {\n",
       "        text-align: right;\n",
       "    }\n",
       "</style>\n",
       "<table border=\"1\" class=\"dataframe\">\n",
       "  <thead>\n",
       "    <tr style=\"text-align: right;\">\n",
       "      <th></th>\n",
       "      <th>county_fips</th>\n",
       "      <th>year</th>\n",
       "      <th>S1_countyMean_total_precip</th>\n",
       "      <th>S2_countyMean_total_precip</th>\n",
       "      <th>S3_countyMean_total_precip</th>\n",
       "      <th>S4_countyMean_total_precip</th>\n",
       "      <th>S1_countyMean_avg_Tavg</th>\n",
       "      <th>S2_countyMean_avg_Tavg</th>\n",
       "      <th>S3_countyMean_avg_Tavg</th>\n",
       "      <th>S4_countyMean_avg_Tavg</th>\n",
       "    </tr>\n",
       "  </thead>\n",
       "  <tbody>\n",
       "    <tr>\n",
       "      <th>0</th>\n",
       "      <td>01003</td>\n",
       "      <td>1997</td>\n",
       "      <td>406.441</td>\n",
       "      <td>949.277</td>\n",
       "      <td>143.882</td>\n",
       "      <td>422.485</td>\n",
       "      <td>14.095789</td>\n",
       "      <td>23.213754</td>\n",
       "      <td>26.850115</td>\n",
       "      <td>14.651630</td>\n",
       "    </tr>\n",
       "    <tr>\n",
       "      <th>1</th>\n",
       "      <td>01005</td>\n",
       "      <td>1997</td>\n",
       "      <td>374.950</td>\n",
       "      <td>497.590</td>\n",
       "      <td>119.335</td>\n",
       "      <td>537.954</td>\n",
       "      <td>12.495322</td>\n",
       "      <td>21.541057</td>\n",
       "      <td>24.961213</td>\n",
       "      <td>12.270674</td>\n",
       "    </tr>\n",
       "  </tbody>\n",
       "</table>\n",
       "</div>"
      ],
      "text/plain": [
       "  county_fips  year  S1_countyMean_total_precip  S2_countyMean_total_precip   \n",
       "0       01003  1997                     406.441                     949.277  \\\n",
       "1       01005  1997                     374.950                     497.590   \n",
       "\n",
       "   S3_countyMean_total_precip  S4_countyMean_total_precip   \n",
       "0                     143.882                     422.485  \\\n",
       "1                     119.335                     537.954   \n",
       "\n",
       "   S1_countyMean_avg_Tavg  S2_countyMean_avg_Tavg  S3_countyMean_avg_Tavg   \n",
       "0               14.095789               23.213754               26.850115  \\\n",
       "1               12.495322               21.541057               24.961213   \n",
       "\n",
       "   S4_countyMean_avg_Tavg  \n",
       "0               14.651630  \n",
       "1               12.270674  "
      ]
     },
     "execution_count": 14,
     "metadata": {},
     "output_type": "execute_result"
    }
   ],
   "source": [
    "# pick only census years\n",
    "NPP = NPP[NPP.year.isin(census_years)]\n",
    "NPP.reset_index(drop=True, inplace=True)\n",
    "NPP.head(2)\n",
    "\n",
    "# pick only census years\n",
    "seasonal_weather = seasonal_weather[seasonal_weather.year.isin(census_years)]\n",
    "seasonal_weather.reset_index(drop=True, inplace=True)\n",
    "seasonal_weather.head(2)"
   ]
  },
  {
   "cell_type": "code",
   "execution_count": 15,
   "id": "cde2f33c",
   "metadata": {},
   "outputs": [
    {
     "name": "stdout",
     "output_type": "stream",
     "text": [
      "len(NPP.county_fips.unique()) = 2256\n",
      "len(seasonal_weather.county_fips.unique()) = 1648\n"
     ]
    }
   ],
   "source": [
    "print (f\"{len(NPP.county_fips.unique()) = }\")\n",
    "print (f\"{len(seasonal_weather.county_fips.unique()) = }\")"
   ]
  },
  {
   "cell_type": "code",
   "execution_count": 16,
   "id": "c33b729f",
   "metadata": {},
   "outputs": [
    {
     "name": "stdout",
     "output_type": "stream",
     "text": [
      "NPP.shape = (9024, 3)\n",
      "len(NPP.county_fips.unique()) = 2256\n",
      "NPP.shape = (6344, 3)\n",
      "len(NPP.county_fips.unique()) = 1586\n"
     ]
    },
    {
     "data": {
      "text/html": [
       "<div>\n",
       "<style scoped>\n",
       "    .dataframe tbody tr th:only-of-type {\n",
       "        vertical-align: middle;\n",
       "    }\n",
       "\n",
       "    .dataframe tbody tr th {\n",
       "        vertical-align: top;\n",
       "    }\n",
       "\n",
       "    .dataframe thead th {\n",
       "        text-align: right;\n",
       "    }\n",
       "</style>\n",
       "<table border=\"1\" class=\"dataframe\">\n",
       "  <thead>\n",
       "    <tr style=\"text-align: right;\">\n",
       "      <th></th>\n",
       "      <th>year</th>\n",
       "      <th>county_fips</th>\n",
       "      <th>modis_npp</th>\n",
       "    </tr>\n",
       "  </thead>\n",
       "  <tbody>\n",
       "    <tr>\n",
       "      <th>0</th>\n",
       "      <td>2002</td>\n",
       "      <td>01003</td>\n",
       "      <td>0.826076</td>\n",
       "    </tr>\n",
       "    <tr>\n",
       "      <th>1</th>\n",
       "      <td>2002</td>\n",
       "      <td>01005</td>\n",
       "      <td>0.484333</td>\n",
       "    </tr>\n",
       "  </tbody>\n",
       "</table>\n",
       "</div>"
      ],
      "text/plain": [
       "   year county_fips  modis_npp\n",
       "0  2002       01003   0.826076\n",
       "1  2002       01005   0.484333"
      ]
     },
     "execution_count": 16,
     "metadata": {},
     "output_type": "execute_result"
    }
   ],
   "source": [
    "print (f\"{NPP.shape = }\")\n",
    "print (f\"{len(NPP.county_fips.unique()) = }\")\n",
    "NPP = NPP[NPP.county_fips.isin(list(county_id_name_fips.county_fips.unique()))].copy()\n",
    "print (f\"{NPP.shape = }\")\n",
    "print (f\"{len(NPP.county_fips.unique()) = }\")\n",
    "NPP.head(2)"
   ]
  },
  {
   "cell_type": "code",
   "execution_count": 17,
   "id": "3c2f6205",
   "metadata": {},
   "outputs": [
    {
     "name": "stdout",
     "output_type": "stream",
     "text": [
      "seasonal_weather.shape = (8240, 10)\n",
      "len(seasonal_weather.county_fips.unique()) = 1648\n",
      "len(seasonal_weather.county_fips.unique()) = 1647\n",
      "seasonal_weather.shape = (8235, 10)\n"
     ]
    }
   ],
   "source": [
    "print (f\"{seasonal_weather.shape = }\")\n",
    "print (f\"{len(seasonal_weather.county_fips.unique()) = }\")\n",
    "LL = list(county_id_name_fips.county_fips.unique())\n",
    "seasonal_weather = seasonal_weather[seasonal_weather.county_fips.isin(LL)].copy()\n",
    "print (f\"{len(seasonal_weather.county_fips.unique()) = }\")\n",
    "print (f\"{seasonal_weather.shape = }\")"
   ]
  },
  {
   "cell_type": "code",
   "execution_count": 18,
   "id": "0a9dea41",
   "metadata": {},
   "outputs": [
    {
     "data": {
      "text/html": [
       "<div>\n",
       "<style scoped>\n",
       "    .dataframe tbody tr th:only-of-type {\n",
       "        vertical-align: middle;\n",
       "    }\n",
       "\n",
       "    .dataframe tbody tr th {\n",
       "        vertical-align: top;\n",
       "    }\n",
       "\n",
       "    .dataframe thead th {\n",
       "        text-align: right;\n",
       "    }\n",
       "</style>\n",
       "<table border=\"1\" class=\"dataframe\">\n",
       "  <thead>\n",
       "    <tr style=\"text-align: right;\">\n",
       "      <th></th>\n",
       "      <th>county_fips</th>\n",
       "      <th>county_name</th>\n",
       "      <th>FIPS</th>\n",
       "      <th>STATE</th>\n",
       "    </tr>\n",
       "  </thead>\n",
       "  <tbody>\n",
       "    <tr>\n",
       "      <th>0</th>\n",
       "      <td>01001</td>\n",
       "      <td>Autauga County</td>\n",
       "      <td>1001</td>\n",
       "      <td>AL</td>\n",
       "    </tr>\n",
       "    <tr>\n",
       "      <th>1</th>\n",
       "      <td>01003</td>\n",
       "      <td>Baldwin County</td>\n",
       "      <td>1003</td>\n",
       "      <td>AL</td>\n",
       "    </tr>\n",
       "  </tbody>\n",
       "</table>\n",
       "</div>"
      ],
      "text/plain": [
       "  county_fips     county_name  FIPS STATE\n",
       "0       01001  Autauga County  1001    AL\n",
       "1       01003  Baldwin County  1003    AL"
      ]
     },
     "execution_count": 18,
     "metadata": {},
     "output_type": "execute_result"
    }
   ],
   "source": [
    "county_id_name_fips.head(2)"
   ]
  },
  {
   "cell_type": "code",
   "execution_count": 19,
   "id": "7de6c9ad",
   "metadata": {},
   "outputs": [
    {
     "name": "stdout",
     "output_type": "stream",
     "text": [
      "(NPP.year.unique()) = array([2002, 2007, 2012, 2017])\n",
      "len(NPP.county_fips.unique()) = 1586\n",
      "len(cattle_inventory.county_fips.unique()) = 2052\n"
     ]
    }
   ],
   "source": [
    "print (f\"{(NPP.year.unique()) = }\")\n",
    "print (f\"{len(NPP.county_fips.unique()) = }\")\n",
    "print (f\"{len(cattle_inventory.county_fips.unique()) = }\")"
   ]
  },
  {
   "cell_type": "code",
   "execution_count": 20,
   "id": "ea53a089",
   "metadata": {},
   "outputs": [
    {
     "name": "stdout",
     "output_type": "stream",
     "text": [
      "len(df.county_fips.unique()) = 1586\n",
      "len(df.county_fips.unique()) = 1586\n",
      "len(df.county_fips.unique()) = 1586\n",
      "len(df.county_fips.unique()) = 1586\n"
     ]
    },
    {
     "data": {
      "text/html": [
       "<div>\n",
       "<style scoped>\n",
       "    .dataframe tbody tr th:only-of-type {\n",
       "        vertical-align: middle;\n",
       "    }\n",
       "\n",
       "    .dataframe tbody tr th {\n",
       "        vertical-align: top;\n",
       "    }\n",
       "\n",
       "    .dataframe thead th {\n",
       "        text-align: right;\n",
       "    }\n",
       "</style>\n",
       "<table border=\"1\" class=\"dataframe\">\n",
       "  <thead>\n",
       "    <tr style=\"text-align: right;\">\n",
       "      <th></th>\n",
       "      <th>year</th>\n",
       "      <th>county_fips</th>\n",
       "      <th>modis_npp</th>\n",
       "    </tr>\n",
       "  </thead>\n",
       "  <tbody>\n",
       "    <tr>\n",
       "      <th>0</th>\n",
       "      <td>2002</td>\n",
       "      <td>01003</td>\n",
       "      <td>0.826076</td>\n",
       "    </tr>\n",
       "    <tr>\n",
       "      <th>1</th>\n",
       "      <td>2002</td>\n",
       "      <td>01005</td>\n",
       "      <td>0.484333</td>\n",
       "    </tr>\n",
       "  </tbody>\n",
       "</table>\n",
       "</div>"
      ],
      "text/plain": [
       "   year county_fips  modis_npp\n",
       "0  2002       01003   0.826076\n",
       "1  2002       01005   0.484333"
      ]
     },
     "execution_count": 20,
     "metadata": {},
     "output_type": "execute_result"
    }
   ],
   "source": [
    "for a_year in NPP.year.unique():\n",
    "    df = NPP[NPP.year == a_year]\n",
    "    print (f\"{len(df.county_fips.unique()) = }\")\n",
    "    \n",
    "NPP.head(2)"
   ]
  },
  {
   "cell_type": "code",
   "execution_count": 21,
   "id": "c97c0d72",
   "metadata": {},
   "outputs": [
    {
     "name": "stdout",
     "output_type": "stream",
     "text": [
      "len(df.county_fips.unique()) = 1647\n",
      "len(df.county_fips.unique()) = 1647\n",
      "len(df.county_fips.unique()) = 1647\n",
      "len(df.county_fips.unique()) = 1647\n",
      "len(df.county_fips.unique()) = 1647\n"
     ]
    },
    {
     "data": {
      "text/html": [
       "<div>\n",
       "<style scoped>\n",
       "    .dataframe tbody tr th:only-of-type {\n",
       "        vertical-align: middle;\n",
       "    }\n",
       "\n",
       "    .dataframe tbody tr th {\n",
       "        vertical-align: top;\n",
       "    }\n",
       "\n",
       "    .dataframe thead th {\n",
       "        text-align: right;\n",
       "    }\n",
       "</style>\n",
       "<table border=\"1\" class=\"dataframe\">\n",
       "  <thead>\n",
       "    <tr style=\"text-align: right;\">\n",
       "      <th></th>\n",
       "      <th>county_fips</th>\n",
       "      <th>year</th>\n",
       "      <th>S1_countyMean_total_precip</th>\n",
       "      <th>S2_countyMean_total_precip</th>\n",
       "      <th>S3_countyMean_total_precip</th>\n",
       "      <th>S4_countyMean_total_precip</th>\n",
       "      <th>S1_countyMean_avg_Tavg</th>\n",
       "      <th>S2_countyMean_avg_Tavg</th>\n",
       "      <th>S3_countyMean_avg_Tavg</th>\n",
       "      <th>S4_countyMean_avg_Tavg</th>\n",
       "    </tr>\n",
       "  </thead>\n",
       "  <tbody>\n",
       "    <tr>\n",
       "      <th>0</th>\n",
       "      <td>01003</td>\n",
       "      <td>1997</td>\n",
       "      <td>406.441</td>\n",
       "      <td>949.277</td>\n",
       "      <td>143.882</td>\n",
       "      <td>422.485</td>\n",
       "      <td>14.095789</td>\n",
       "      <td>23.213754</td>\n",
       "      <td>26.850115</td>\n",
       "      <td>14.651630</td>\n",
       "    </tr>\n",
       "    <tr>\n",
       "      <th>1</th>\n",
       "      <td>01005</td>\n",
       "      <td>1997</td>\n",
       "      <td>374.950</td>\n",
       "      <td>497.590</td>\n",
       "      <td>119.335</td>\n",
       "      <td>537.954</td>\n",
       "      <td>12.495322</td>\n",
       "      <td>21.541057</td>\n",
       "      <td>24.961213</td>\n",
       "      <td>12.270674</td>\n",
       "    </tr>\n",
       "  </tbody>\n",
       "</table>\n",
       "</div>"
      ],
      "text/plain": [
       "  county_fips  year  S1_countyMean_total_precip  S2_countyMean_total_precip   \n",
       "0       01003  1997                     406.441                     949.277  \\\n",
       "1       01005  1997                     374.950                     497.590   \n",
       "\n",
       "   S3_countyMean_total_precip  S4_countyMean_total_precip   \n",
       "0                     143.882                     422.485  \\\n",
       "1                     119.335                     537.954   \n",
       "\n",
       "   S1_countyMean_avg_Tavg  S2_countyMean_avg_Tavg  S3_countyMean_avg_Tavg   \n",
       "0               14.095789               23.213754               26.850115  \\\n",
       "1               12.495322               21.541057               24.961213   \n",
       "\n",
       "   S4_countyMean_avg_Tavg  \n",
       "0               14.651630  \n",
       "1               12.270674  "
      ]
     },
     "execution_count": 21,
     "metadata": {},
     "output_type": "execute_result"
    }
   ],
   "source": [
    "for a_year in seasonal_weather.year.unique():\n",
    "    df = seasonal_weather[seasonal_weather.year == a_year]\n",
    "    print (f\"{len(df.county_fips.unique()) = }\")\n",
    "    \n",
    "seasonal_weather.head(2)"
   ]
  },
  {
   "cell_type": "markdown",
   "id": "2a7c763a",
   "metadata": {},
   "source": [
    "### Rangeland area"
   ]
  },
  {
   "cell_type": "code",
   "execution_count": 22,
   "id": "b20bc22e",
   "metadata": {},
   "outputs": [
    {
     "name": "stdout",
     "output_type": "stream",
     "text": [
      "number of counties are 2379.\n",
      "(2379, 4)\n"
     ]
    },
    {
     "data": {
      "text/html": [
       "<div>\n",
       "<style scoped>\n",
       "    .dataframe tbody tr th:only-of-type {\n",
       "        vertical-align: middle;\n",
       "    }\n",
       "\n",
       "    .dataframe tbody tr th {\n",
       "        vertical-align: top;\n",
       "    }\n",
       "\n",
       "    .dataframe thead th {\n",
       "        text-align: right;\n",
       "    }\n",
       "</style>\n",
       "<table border=\"1\" class=\"dataframe\">\n",
       "  <thead>\n",
       "    <tr style=\"text-align: right;\">\n",
       "      <th></th>\n",
       "      <th>county_fips</th>\n",
       "      <th>rangeland_acre</th>\n",
       "      <th>county_area_acre</th>\n",
       "      <th>rangeland_fraction</th>\n",
       "    </tr>\n",
       "  </thead>\n",
       "  <tbody>\n",
       "    <tr>\n",
       "      <th>0</th>\n",
       "      <td>01003</td>\n",
       "      <td>13037.43</td>\n",
       "      <td>1060302.72</td>\n",
       "      <td>0.010000</td>\n",
       "    </tr>\n",
       "    <tr>\n",
       "      <th>1</th>\n",
       "      <td>01005</td>\n",
       "      <td>18.23</td>\n",
       "      <td>575781.12</td>\n",
       "      <td>0.000032</td>\n",
       "    </tr>\n",
       "  </tbody>\n",
       "</table>\n",
       "</div>"
      ],
      "text/plain": [
       "  county_fips  rangeland_acre  county_area_acre  rangeland_fraction\n",
       "0       01003        13037.43        1060302.72            0.010000\n",
       "1       01005           18.23         575781.12            0.000032"
      ]
     },
     "execution_count": 22,
     "metadata": {},
     "output_type": "execute_result"
    }
   ],
   "source": [
    "# Rangeland area and Total area:\n",
    "county_RA_and_TA_fraction = pd.read_csv(reOrganized_dir + \"county_rangeland_and_totalarea_fraction.csv\")\n",
    "county_RA_and_TA_fraction.rename(columns={\"fips_id\": \"county_fips\"}, inplace=True)\n",
    "\n",
    "county_RA_and_TA_fraction = rc.correct_Mins_FIPS(df=county_RA_and_TA_fraction, col_=\"county_fips\")\n",
    "L = len(county_RA_and_TA_fraction.county_fips.unique())\n",
    "print (\"number of counties are {}.\".format(L))\n",
    "print (county_RA_and_TA_fraction.shape)\n",
    "county_RA_and_TA_fraction.head(2)"
   ]
  },
  {
   "cell_type": "markdown",
   "id": "de6fd13b",
   "metadata": {},
   "source": [
    "### Convert unit ```NPP``` to total county-level ```NPP```\n",
    "\n",
    "Units are $\\frac{\\text{Kg}~\\times~C}{m^2}$, whatever the hell ```C``` is.\n",
    "\n",
    "1 $m^2 = 0.000247105$ acres."
   ]
  },
  {
   "cell_type": "code",
   "execution_count": 23,
   "id": "5b155c0c",
   "metadata": {},
   "outputs": [
    {
     "data": {
      "text/html": [
       "<div>\n",
       "<style scoped>\n",
       "    .dataframe tbody tr th:only-of-type {\n",
       "        vertical-align: middle;\n",
       "    }\n",
       "\n",
       "    .dataframe tbody tr th {\n",
       "        vertical-align: top;\n",
       "    }\n",
       "\n",
       "    .dataframe thead th {\n",
       "        text-align: right;\n",
       "    }\n",
       "</style>\n",
       "<table border=\"1\" class=\"dataframe\">\n",
       "  <thead>\n",
       "    <tr style=\"text-align: right;\">\n",
       "      <th></th>\n",
       "      <th>year</th>\n",
       "      <th>county_fips</th>\n",
       "      <th>modis_npp</th>\n",
       "      <th>rangeland_acre</th>\n",
       "      <th>county_area_acre</th>\n",
       "      <th>rangeland_fraction</th>\n",
       "    </tr>\n",
       "  </thead>\n",
       "  <tbody>\n",
       "    <tr>\n",
       "      <th>0</th>\n",
       "      <td>2002</td>\n",
       "      <td>01003</td>\n",
       "      <td>0.826076</td>\n",
       "      <td>13037.43</td>\n",
       "      <td>1060302.72</td>\n",
       "      <td>0.010000</td>\n",
       "    </tr>\n",
       "    <tr>\n",
       "      <th>1</th>\n",
       "      <td>2002</td>\n",
       "      <td>01005</td>\n",
       "      <td>0.484333</td>\n",
       "      <td>18.23</td>\n",
       "      <td>575781.12</td>\n",
       "      <td>0.000032</td>\n",
       "    </tr>\n",
       "  </tbody>\n",
       "</table>\n",
       "</div>"
      ],
      "text/plain": [
       "   year county_fips  modis_npp  rangeland_acre  county_area_acre   \n",
       "0  2002       01003   0.826076        13037.43        1060302.72  \\\n",
       "1  2002       01005   0.484333           18.23         575781.12   \n",
       "\n",
       "   rangeland_fraction  \n",
       "0            0.010000  \n",
       "1            0.000032  "
      ]
     },
     "execution_count": 23,
     "metadata": {},
     "output_type": "execute_result"
    }
   ],
   "source": [
    "county_annual_NPP_Ra = pd.merge(NPP, county_RA_and_TA_fraction, on = [\"county_fips\"], how = \"left\")\n",
    "county_annual_NPP_Ra.head(2)"
   ]
  },
  {
   "cell_type": "code",
   "execution_count": 24,
   "id": "b3f85798",
   "metadata": {},
   "outputs": [
    {
     "data": {
      "text/html": [
       "<div>\n",
       "<style scoped>\n",
       "    .dataframe tbody tr th:only-of-type {\n",
       "        vertical-align: middle;\n",
       "    }\n",
       "\n",
       "    .dataframe tbody tr th {\n",
       "        vertical-align: top;\n",
       "    }\n",
       "\n",
       "    .dataframe thead th {\n",
       "        text-align: right;\n",
       "    }\n",
       "</style>\n",
       "<table border=\"1\" class=\"dataframe\">\n",
       "  <thead>\n",
       "    <tr style=\"text-align: right;\">\n",
       "      <th></th>\n",
       "      <th>year</th>\n",
       "      <th>county_fips</th>\n",
       "      <th>rangeland_acre</th>\n",
       "      <th>county_area_acre</th>\n",
       "      <th>rangeland_fraction</th>\n",
       "      <th>county_rangeland_npp</th>\n",
       "    </tr>\n",
       "  </thead>\n",
       "  <tbody>\n",
       "    <tr>\n",
       "      <th>0</th>\n",
       "      <td>2002</td>\n",
       "      <td>01003</td>\n",
       "      <td>13037.43</td>\n",
       "      <td>1060302.72</td>\n",
       "      <td>0.010000</td>\n",
       "      <td>4.358434e+07</td>\n",
       "    </tr>\n",
       "    <tr>\n",
       "      <th>1</th>\n",
       "      <td>2002</td>\n",
       "      <td>01005</td>\n",
       "      <td>18.23</td>\n",
       "      <td>575781.12</td>\n",
       "      <td>0.000032</td>\n",
       "      <td>3.573136e+04</td>\n",
       "    </tr>\n",
       "  </tbody>\n",
       "</table>\n",
       "</div>"
      ],
      "text/plain": [
       "   year county_fips  rangeland_acre  county_area_acre  rangeland_fraction   \n",
       "0  2002       01003        13037.43        1060302.72            0.010000  \\\n",
       "1  2002       01005           18.23         575781.12            0.000032   \n",
       "\n",
       "   county_rangeland_npp  \n",
       "0          4.358434e+07  \n",
       "1          3.573136e+04  "
      ]
     },
     "execution_count": 24,
     "metadata": {},
     "output_type": "execute_result"
    }
   ],
   "source": [
    "county_annual_NPP_Ra = rc.covert_unitNPP_2_toal(NPP_df=county_annual_NPP_Ra, \n",
    "                                                npp_col_= \"modis_npp\", \n",
    "                                                area_col_= \"rangeland_acre\",\n",
    "                                                new_col_ = \"county_rangeland_npp\")\n",
    "### Security check to not make mistake later:\n",
    "county_annual_NPP_Ra.drop(columns=['modis_npp'], inplace=True)\n",
    "county_annual_NPP_Ra.head(2)"
   ]
  },
  {
   "cell_type": "code",
   "execution_count": null,
   "id": "13a8f1f9",
   "metadata": {},
   "outputs": [],
   "source": []
  },
  {
   "cell_type": "code",
   "execution_count": 25,
   "id": "3923b0bc",
   "metadata": {},
   "outputs": [
    {
     "data": {
      "text/html": [
       "<div>\n",
       "<style scoped>\n",
       "    .dataframe tbody tr th:only-of-type {\n",
       "        vertical-align: middle;\n",
       "    }\n",
       "\n",
       "    .dataframe tbody tr th {\n",
       "        vertical-align: top;\n",
       "    }\n",
       "\n",
       "    .dataframe thead th {\n",
       "        text-align: right;\n",
       "    }\n",
       "</style>\n",
       "<table border=\"1\" class=\"dataframe\">\n",
       "  <thead>\n",
       "    <tr style=\"text-align: right;\">\n",
       "      <th></th>\n",
       "      <th>county_fips</th>\n",
       "      <th>year</th>\n",
       "      <th>S1_countyMean_total_precip</th>\n",
       "      <th>S2_countyMean_total_precip</th>\n",
       "      <th>S3_countyMean_total_precip</th>\n",
       "      <th>S4_countyMean_total_precip</th>\n",
       "      <th>S1_countyMean_avg_Tavg</th>\n",
       "      <th>S2_countyMean_avg_Tavg</th>\n",
       "      <th>S3_countyMean_avg_Tavg</th>\n",
       "      <th>S4_countyMean_avg_Tavg</th>\n",
       "      <th>rangeland_acre</th>\n",
       "      <th>county_area_acre</th>\n",
       "      <th>rangeland_fraction</th>\n",
       "    </tr>\n",
       "  </thead>\n",
       "  <tbody>\n",
       "    <tr>\n",
       "      <th>0</th>\n",
       "      <td>01003</td>\n",
       "      <td>1997</td>\n",
       "      <td>406.441</td>\n",
       "      <td>949.277</td>\n",
       "      <td>143.882</td>\n",
       "      <td>422.485</td>\n",
       "      <td>14.095789</td>\n",
       "      <td>23.213754</td>\n",
       "      <td>26.850115</td>\n",
       "      <td>14.651630</td>\n",
       "      <td>13037.43</td>\n",
       "      <td>1060302.72</td>\n",
       "      <td>0.010000</td>\n",
       "    </tr>\n",
       "    <tr>\n",
       "      <th>1</th>\n",
       "      <td>01005</td>\n",
       "      <td>1997</td>\n",
       "      <td>374.950</td>\n",
       "      <td>497.590</td>\n",
       "      <td>119.335</td>\n",
       "      <td>537.954</td>\n",
       "      <td>12.495322</td>\n",
       "      <td>21.541057</td>\n",
       "      <td>24.961213</td>\n",
       "      <td>12.270674</td>\n",
       "      <td>18.23</td>\n",
       "      <td>575781.12</td>\n",
       "      <td>0.000032</td>\n",
       "    </tr>\n",
       "  </tbody>\n",
       "</table>\n",
       "</div>"
      ],
      "text/plain": [
       "  county_fips  year  S1_countyMean_total_precip  S2_countyMean_total_precip   \n",
       "0       01003  1997                     406.441                     949.277  \\\n",
       "1       01005  1997                     374.950                     497.590   \n",
       "\n",
       "   S3_countyMean_total_precip  S4_countyMean_total_precip   \n",
       "0                     143.882                     422.485  \\\n",
       "1                     119.335                     537.954   \n",
       "\n",
       "   S1_countyMean_avg_Tavg  S2_countyMean_avg_Tavg  S3_countyMean_avg_Tavg   \n",
       "0               14.095789               23.213754               26.850115  \\\n",
       "1               12.495322               21.541057               24.961213   \n",
       "\n",
       "   S4_countyMean_avg_Tavg  rangeland_acre  county_area_acre   \n",
       "0               14.651630        13037.43        1060302.72  \\\n",
       "1               12.270674           18.23         575781.12   \n",
       "\n",
       "   rangeland_fraction  \n",
       "0            0.010000  \n",
       "1            0.000032  "
      ]
     },
     "execution_count": 25,
     "metadata": {},
     "output_type": "execute_result"
    }
   ],
   "source": [
    "county_annual_SW_Ra = pd.merge(seasonal_weather, county_RA_and_TA_fraction, on=[\"county_fips\"], how=\"left\")\n",
    "county_annual_SW_Ra.head(2)"
   ]
  },
  {
   "cell_type": "code",
   "execution_count": 26,
   "id": "778ce4a6",
   "metadata": {},
   "outputs": [
    {
     "name": "stdout",
     "output_type": "stream",
     "text": [
      "sorted(cattle_inventory.year.unique())     = [1997, 2002, 2007, 2012, 2017]\n",
      "sorted(county_annual_NPP_Ra.year.unique()) = [2002, 2007, 2012, 2017]\n",
      "sorted(county_annual_SW_Ra.year.unique()) = [1997, 2002, 2007, 2012, 2017]\n"
     ]
    }
   ],
   "source": [
    "print (f\"{sorted(cattle_inventory.year.unique())     = }\")\n",
    "print (f\"{sorted(county_annual_NPP_Ra.year.unique()) = }\")\n",
    "print (f\"{sorted(county_annual_SW_Ra.year.unique()) = }\")"
   ]
  },
  {
   "cell_type": "code",
   "execution_count": 27,
   "id": "696e12e6",
   "metadata": {},
   "outputs": [
    {
     "data": {
      "text/plain": [
       "{2002, 2007, 2012, 2017}"
      ]
     },
     "execution_count": 27,
     "metadata": {},
     "output_type": "execute_result"
    }
   ],
   "source": [
    "common_years = set(cattle_inventory.year.unique()).\\\n",
    "  intersection(set(county_annual_NPP_Ra.year.unique())).\\\n",
    "  intersection(set(county_annual_SW_Ra.year.unique()))\n",
    "common_years"
   ]
  },
  {
   "cell_type": "code",
   "execution_count": 28,
   "id": "801c1913",
   "metadata": {},
   "outputs": [],
   "source": [
    "cattle_inventory = cattle_inventory[cattle_inventory.year.isin(list(common_years))]\n",
    "county_annual_SW_Ra = county_annual_SW_Ra[county_annual_SW_Ra.year.isin(common_years)]"
   ]
  },
  {
   "cell_type": "code",
   "execution_count": 29,
   "id": "c56eedd3",
   "metadata": {},
   "outputs": [
    {
     "name": "stdout",
     "output_type": "stream",
     "text": [
      "2000\n",
      "1586\n",
      "1647\n"
     ]
    }
   ],
   "source": [
    "print (len(cattle_inventory.county_fips.unique()))\n",
    "print (len(county_annual_NPP_Ra.county_fips.unique()))\n",
    "print (len(county_annual_SW_Ra.county_fips.unique()))"
   ]
  },
  {
   "cell_type": "code",
   "execution_count": 30,
   "id": "041be4c4",
   "metadata": {},
   "outputs": [
    {
     "data": {
      "text/plain": [
       "511"
      ]
     },
     "execution_count": 30,
     "metadata": {},
     "output_type": "execute_result"
    }
   ],
   "source": [
    "cattle_inventory_cnty_missing_from_NPP = [x for x in cattle_inventory.county_fips.unique()\\\n",
    "                                          if not(x in county_annual_NPP_Ra.county_fips.unique())]\n",
    "len(cattle_inventory_cnty_missing_from_NPP)"
   ]
  },
  {
   "cell_type": "code",
   "execution_count": 31,
   "id": "73976e5a",
   "metadata": {},
   "outputs": [
    {
     "data": {
      "text/plain": [
       "97"
      ]
     },
     "execution_count": 31,
     "metadata": {},
     "output_type": "execute_result"
    }
   ],
   "source": [
    "NPP_cnty_missing_from_cattle = [x for x in county_annual_NPP_Ra.county_fips.unique()\\\n",
    "                                if not(x in cattle_inventory.county_fips.unique())]\n",
    "len(NPP_cnty_missing_from_cattle)"
   ]
  },
  {
   "cell_type": "markdown",
   "id": "ba5220a6",
   "metadata": {},
   "source": [
    "## NPP has a lot of missing counties\n",
    "\n",
    " - Min says he had a threshld about rangeland/pasture.\n",
    " - subset the ```NPP``` and ```Cattle``` to the intersection of counties present.\n",
    " - It seems there are different number of counties in each year in cattle inventory. Find intersection of those as well."
   ]
  },
  {
   "cell_type": "code",
   "execution_count": 32,
   "id": "cf201c6d",
   "metadata": {
    "lines_to_next_cell": 2
   },
   "outputs": [
    {
     "name": "stdout",
     "output_type": "stream",
     "text": [
      "len(all_cattle_counties) = 2000\n",
      "2002\n",
      "len(all_cattle_counties) = 1627\n",
      "====================================================================\n",
      "2007\n",
      "len(all_cattle_counties) = 1298\n",
      "====================================================================\n",
      "2012\n",
      "len(all_cattle_counties) = 1075\n",
      "====================================================================\n",
      "2017\n",
      "len(all_cattle_counties) = 910\n",
      "====================================================================\n"
     ]
    }
   ],
   "source": [
    "all_cattle_counties = set(cattle_inventory.county_fips.unique())\n",
    "print (f\"{len(all_cattle_counties) = }\")\n",
    "\n",
    "for a_year in sorted(cattle_inventory.year.unique()):\n",
    "    curr_cow = cattle_inventory[cattle_inventory.year == a_year].copy()\n",
    "    curr_cow_counties = set(curr_cow.county_fips.unique())\n",
    "    all_cattle_counties = all_cattle_counties.intersection(curr_cow_counties)\n",
    "    print (a_year)\n",
    "    print (f\"{len(all_cattle_counties) = }\")\n",
    "    print(\"====================================================================\")"
   ]
  },
  {
   "cell_type": "code",
   "execution_count": 33,
   "id": "27863b52",
   "metadata": {
    "lines_to_next_cell": 2
   },
   "outputs": [
    {
     "name": "stdout",
     "output_type": "stream",
     "text": [
      "len(all_county_annual_NPP_Ra) = 1586\n",
      "2002\n",
      "len(all_county_annual_NPP_Ra) = 1586\n",
      "====================================================================\n",
      "2007\n",
      "len(all_county_annual_NPP_Ra) = 1586\n",
      "====================================================================\n",
      "2012\n",
      "len(all_county_annual_NPP_Ra) = 1586\n",
      "====================================================================\n",
      "2017\n",
      "len(all_county_annual_NPP_Ra) = 1586\n",
      "====================================================================\n"
     ]
    }
   ],
   "source": [
    "all_county_annual_NPP_Ra = set(county_annual_NPP_Ra.county_fips.unique())\n",
    "print (f\"{len(all_county_annual_NPP_Ra) = }\")\n",
    "\n",
    "for a_year in sorted(county_annual_NPP_Ra.year.unique()):\n",
    "    curr = county_annual_NPP_Ra[county_annual_NPP_Ra.year == a_year].copy()\n",
    "    curr_counties = set(curr.county_fips.unique())\n",
    "    all_county_annual_NPP_Ra = all_county_annual_NPP_Ra.intersection(curr_counties)\n",
    "    print (a_year)\n",
    "    print (f\"{len(all_county_annual_NPP_Ra) = }\")\n",
    "    print(\"====================================================================\")"
   ]
  },
  {
   "cell_type": "code",
   "execution_count": 34,
   "id": "6631a4a7",
   "metadata": {},
   "outputs": [
    {
     "name": "stdout",
     "output_type": "stream",
     "text": [
      "len(all_county_annual_SW_Ra) = 1647\n",
      "2002\n",
      "len(all_county_annual_SW_Ra) = 1647\n",
      "====================================================================\n",
      "2007\n",
      "len(all_county_annual_SW_Ra) = 1647\n",
      "====================================================================\n",
      "2012\n",
      "len(all_county_annual_SW_Ra) = 1647\n",
      "====================================================================\n",
      "2017\n",
      "len(all_county_annual_SW_Ra) = 1647\n",
      "====================================================================\n"
     ]
    }
   ],
   "source": [
    "all_county_annual_SW_Ra = set(county_annual_SW_Ra.county_fips.unique())\n",
    "print (f\"{len(all_county_annual_SW_Ra) = }\")\n",
    "\n",
    "for a_year in sorted(county_annual_SW_Ra.year.unique()):\n",
    "    curr = county_annual_SW_Ra[county_annual_SW_Ra.year == a_year].copy()\n",
    "    curr_counties = set(curr.county_fips.unique())\n",
    "    all_county_annual_SW_Ra = all_county_annual_SW_Ra.intersection(curr_counties)\n",
    "    print (a_year)\n",
    "    print (f\"{len(all_county_annual_SW_Ra) = }\")\n",
    "    print(\"====================================================================\")"
   ]
  },
  {
   "cell_type": "code",
   "execution_count": 35,
   "id": "4cf3e8db",
   "metadata": {},
   "outputs": [],
   "source": [
    "# choose only the counties that are present in all years:\n",
    "cattle_inventory = cattle_inventory[cattle_inventory.county_fips.isin(list(all_cattle_counties))]"
   ]
  },
  {
   "cell_type": "code",
   "execution_count": 36,
   "id": "041fffdd",
   "metadata": {},
   "outputs": [],
   "source": [
    "SW_counties = set(county_annual_SW_Ra.county_fips.unique())\n",
    "NPP_counties = set(county_annual_NPP_Ra.county_fips.unique())\n",
    "cow_counties = set(cattle_inventory.county_fips.unique())\n",
    "\n",
    "county_intersection = NPP_counties.intersection(cow_counties)\n",
    "county_intersection = county_intersection.intersection(SW_counties)"
   ]
  },
  {
   "cell_type": "code",
   "execution_count": 37,
   "id": "b5295da1",
   "metadata": {},
   "outputs": [
    {
     "name": "stdout",
     "output_type": "stream",
     "text": [
      "county_annual_SW_Ra.shape = (2780, 13)\n",
      "county_annual_NPP_Ra.shape = (2780, 6)\n",
      "cattle_inventory.shape     = (2780, 3)\n",
      "\n",
      "len(county_annual_SW_Ra.county_fips.unique())  = 695\n",
      "len(county_annual_NPP_Ra.county_fips.unique()) = 695\n",
      "len(cattle_inventory.county_fips.unique())     = 695\n",
      "\n",
      "sorted(county_annual_SW_Ra.year.unique())  = [2002, 2007, 2012, 2017]\n",
      "sorted(county_annual_NPP_Ra.year.unique()) = [2002, 2007, 2012, 2017]\n",
      "sorted(cattle_inventory.year.unique())     = [2002, 2007, 2012, 2017]\n"
     ]
    }
   ],
   "source": [
    "county_annual_SW_Ra = county_annual_SW_Ra[county_annual_SW_Ra.county_fips.isin(list(county_intersection))]\n",
    "county_annual_NPP_Ra = county_annual_NPP_Ra[county_annual_NPP_Ra.county_fips.isin(list(county_intersection))]\n",
    "cattle_inventory = cattle_inventory[cattle_inventory.county_fips.isin(list(county_intersection))]\n",
    "\n",
    "print (f\"{county_annual_SW_Ra.shape = }\")\n",
    "print (f\"{county_annual_NPP_Ra.shape = }\")\n",
    "print (f\"{cattle_inventory.shape     = }\")\n",
    "print ()\n",
    "print (f\"{len(county_annual_SW_Ra.county_fips.unique())  = }\")\n",
    "print (f\"{len(county_annual_NPP_Ra.county_fips.unique()) = }\")\n",
    "print (f\"{len(cattle_inventory.county_fips.unique())     = }\")\n",
    "print ()\n",
    "print (f\"{sorted(county_annual_SW_Ra.year.unique())  = }\")\n",
    "print (f\"{sorted(county_annual_NPP_Ra.year.unique()) = }\")\n",
    "print (f\"{sorted(cattle_inventory.year.unique())     = }\")"
   ]
  },
  {
   "cell_type": "code",
   "execution_count": 38,
   "id": "e6645908",
   "metadata": {},
   "outputs": [
    {
     "name": "stdout",
     "output_type": "stream",
     "text": [
      "True\n",
      "True\n"
     ]
    },
    {
     "data": {
      "text/plain": [
       "695"
      ]
     },
     "execution_count": 38,
     "metadata": {},
     "output_type": "execute_result"
    }
   ],
   "source": [
    "print (sorted(cattle_inventory.county_fips.unique()) == sorted(county_annual_NPP_Ra.county_fips.unique()))\n",
    "print (sorted(cattle_inventory.county_fips.unique()) == sorted(county_annual_SW_Ra.county_fips.unique()))\n",
    "\n",
    "len(cattle_inventory.county_fips.unique())"
   ]
  },
  {
   "cell_type": "code",
   "execution_count": 39,
   "id": "45fcd408",
   "metadata": {},
   "outputs": [
    {
     "name": "stdout",
     "output_type": "stream",
     "text": [
      "cattle_inventory.shape = (2780, 3)\n",
      "county_annual_NPP_Ra.shape = (2780, 6)\n",
      "county_annual_NPP_Ra_cattleInv.shape = (2780, 7)\n"
     ]
    },
    {
     "data": {
      "text/html": [
       "<div>\n",
       "<style scoped>\n",
       "    .dataframe tbody tr th:only-of-type {\n",
       "        vertical-align: middle;\n",
       "    }\n",
       "\n",
       "    .dataframe tbody tr th {\n",
       "        vertical-align: top;\n",
       "    }\n",
       "\n",
       "    .dataframe thead th {\n",
       "        text-align: right;\n",
       "    }\n",
       "</style>\n",
       "<table border=\"1\" class=\"dataframe\">\n",
       "  <thead>\n",
       "    <tr style=\"text-align: right;\">\n",
       "      <th></th>\n",
       "      <th>year</th>\n",
       "      <th>county_fips</th>\n",
       "      <th>rangeland_acre</th>\n",
       "      <th>county_area_acre</th>\n",
       "      <th>rangeland_fraction</th>\n",
       "      <th>county_rangeland_npp</th>\n",
       "      <th>cattle_cow_beef_inventory</th>\n",
       "    </tr>\n",
       "  </thead>\n",
       "  <tbody>\n",
       "    <tr>\n",
       "      <th>0</th>\n",
       "      <td>2002</td>\n",
       "      <td>01055</td>\n",
       "      <td>57.60</td>\n",
       "      <td>352368.00</td>\n",
       "      <td>0.000163</td>\n",
       "      <td>130631.174115</td>\n",
       "      <td>12020.0</td>\n",
       "    </tr>\n",
       "    <tr>\n",
       "      <th>1</th>\n",
       "      <td>2002</td>\n",
       "      <td>01129</td>\n",
       "      <td>95.62</td>\n",
       "      <td>697429.12</td>\n",
       "      <td>0.000137</td>\n",
       "      <td>206902.523895</td>\n",
       "      <td>5364.0</td>\n",
       "    </tr>\n",
       "  </tbody>\n",
       "</table>\n",
       "</div>"
      ],
      "text/plain": [
       "   year county_fips  rangeland_acre  county_area_acre  rangeland_fraction   \n",
       "0  2002       01055           57.60         352368.00            0.000163  \\\n",
       "1  2002       01129           95.62         697429.12            0.000137   \n",
       "\n",
       "   county_rangeland_npp  cattle_cow_beef_inventory  \n",
       "0         130631.174115                    12020.0  \n",
       "1         206902.523895                     5364.0  "
      ]
     },
     "execution_count": 39,
     "metadata": {},
     "output_type": "execute_result"
    }
   ],
   "source": [
    "county_annual_NPP_Ra_cattleInv = pd.merge(county_annual_NPP_Ra, cattle_inventory, \n",
    "                                          on=[\"county_fips\", \"year\"],\n",
    "                                          how=\"left\")\n",
    "\n",
    "print (f\"{cattle_inventory.shape = }\")\n",
    "print (f\"{county_annual_NPP_Ra.shape = }\")\n",
    "print (f\"{county_annual_NPP_Ra_cattleInv.shape = }\")\n",
    "county_annual_NPP_Ra_cattleInv.head(2)"
   ]
  },
  {
   "cell_type": "code",
   "execution_count": 40,
   "id": "42cd500e",
   "metadata": {},
   "outputs": [
    {
     "name": "stdout",
     "output_type": "stream",
     "text": [
      "cattle_inventory.shape = (2780, 3)\n",
      "county_annual_SW_Ra.shape = (2780, 13)\n",
      "county_annual_SW_Ra_cattleInv.shape = (2780, 14)\n"
     ]
    },
    {
     "data": {
      "text/html": [
       "<div>\n",
       "<style scoped>\n",
       "    .dataframe tbody tr th:only-of-type {\n",
       "        vertical-align: middle;\n",
       "    }\n",
       "\n",
       "    .dataframe tbody tr th {\n",
       "        vertical-align: top;\n",
       "    }\n",
       "\n",
       "    .dataframe thead th {\n",
       "        text-align: right;\n",
       "    }\n",
       "</style>\n",
       "<table border=\"1\" class=\"dataframe\">\n",
       "  <thead>\n",
       "    <tr style=\"text-align: right;\">\n",
       "      <th></th>\n",
       "      <th>county_fips</th>\n",
       "      <th>year</th>\n",
       "      <th>S1_countyMean_total_precip</th>\n",
       "      <th>S2_countyMean_total_precip</th>\n",
       "      <th>S3_countyMean_total_precip</th>\n",
       "      <th>S4_countyMean_total_precip</th>\n",
       "      <th>S1_countyMean_avg_Tavg</th>\n",
       "      <th>S2_countyMean_avg_Tavg</th>\n",
       "      <th>S3_countyMean_avg_Tavg</th>\n",
       "      <th>S4_countyMean_avg_Tavg</th>\n",
       "      <th>rangeland_acre</th>\n",
       "      <th>county_area_acre</th>\n",
       "      <th>rangeland_fraction</th>\n",
       "      <th>cattle_cow_beef_inventory</th>\n",
       "    </tr>\n",
       "  </thead>\n",
       "  <tbody>\n",
       "    <tr>\n",
       "      <th>0</th>\n",
       "      <td>01055</td>\n",
       "      <td>2002</td>\n",
       "      <td>384.081</td>\n",
       "      <td>381.902</td>\n",
       "      <td>297.505</td>\n",
       "      <td>444.936</td>\n",
       "      <td>8.504456</td>\n",
       "      <td>22.419525</td>\n",
       "      <td>25.522639</td>\n",
       "      <td>11.011326</td>\n",
       "      <td>57.60</td>\n",
       "      <td>352368.00</td>\n",
       "      <td>0.000163</td>\n",
       "      <td>12020.0</td>\n",
       "    </tr>\n",
       "    <tr>\n",
       "      <th>1</th>\n",
       "      <td>01129</td>\n",
       "      <td>2002</td>\n",
       "      <td>363.117</td>\n",
       "      <td>419.090</td>\n",
       "      <td>391.772</td>\n",
       "      <td>572.797</td>\n",
       "      <td>11.222078</td>\n",
       "      <td>24.012369</td>\n",
       "      <td>26.272246</td>\n",
       "      <td>14.197446</td>\n",
       "      <td>95.62</td>\n",
       "      <td>697429.12</td>\n",
       "      <td>0.000137</td>\n",
       "      <td>5364.0</td>\n",
       "    </tr>\n",
       "  </tbody>\n",
       "</table>\n",
       "</div>"
      ],
      "text/plain": [
       "  county_fips  year  S1_countyMean_total_precip  S2_countyMean_total_precip   \n",
       "0       01055  2002                     384.081                     381.902  \\\n",
       "1       01129  2002                     363.117                     419.090   \n",
       "\n",
       "   S3_countyMean_total_precip  S4_countyMean_total_precip   \n",
       "0                     297.505                     444.936  \\\n",
       "1                     391.772                     572.797   \n",
       "\n",
       "   S1_countyMean_avg_Tavg  S2_countyMean_avg_Tavg  S3_countyMean_avg_Tavg   \n",
       "0                8.504456               22.419525               25.522639  \\\n",
       "1               11.222078               24.012369               26.272246   \n",
       "\n",
       "   S4_countyMean_avg_Tavg  rangeland_acre  county_area_acre   \n",
       "0               11.011326           57.60         352368.00  \\\n",
       "1               14.197446           95.62         697429.12   \n",
       "\n",
       "   rangeland_fraction  cattle_cow_beef_inventory  \n",
       "0            0.000163                    12020.0  \n",
       "1            0.000137                     5364.0  "
      ]
     },
     "execution_count": 40,
     "metadata": {},
     "output_type": "execute_result"
    }
   ],
   "source": [
    "county_annual_SW_Ra_cattleInv = pd.merge(county_annual_SW_Ra, cattle_inventory,\n",
    "                                          on=[\"county_fips\", \"year\"],\n",
    "                                          how=\"left\")\n",
    "\n",
    "print (f\"{cattle_inventory.shape = }\")\n",
    "print (f\"{county_annual_SW_Ra.shape = }\")\n",
    "print (f\"{county_annual_SW_Ra_cattleInv.shape = }\")\n",
    "county_annual_SW_Ra_cattleInv.head(2)"
   ]
  },
  {
   "cell_type": "code",
   "execution_count": null,
   "id": "77baf81c",
   "metadata": {},
   "outputs": [],
   "source": []
  },
  {
   "cell_type": "code",
   "execution_count": 41,
   "id": "ab4f2519",
   "metadata": {},
   "outputs": [
    {
     "data": {
      "text/html": [
       "<div>\n",
       "<style scoped>\n",
       "    .dataframe tbody tr th:only-of-type {\n",
       "        vertical-align: middle;\n",
       "    }\n",
       "\n",
       "    .dataframe tbody tr th {\n",
       "        vertical-align: top;\n",
       "    }\n",
       "\n",
       "    .dataframe thead th {\n",
       "        text-align: right;\n",
       "    }\n",
       "</style>\n",
       "<table border=\"1\" class=\"dataframe\">\n",
       "  <thead>\n",
       "    <tr style=\"text-align: right;\">\n",
       "      <th></th>\n",
       "      <th>year</th>\n",
       "      <th>county_fips</th>\n",
       "      <th>rangeland_acre</th>\n",
       "      <th>county_area_acre</th>\n",
       "      <th>rangeland_fraction</th>\n",
       "      <th>county_rangeland_npp</th>\n",
       "      <th>cattle_cow_beef_inventory</th>\n",
       "    </tr>\n",
       "  </thead>\n",
       "  <tbody>\n",
       "    <tr>\n",
       "      <th>0</th>\n",
       "      <td>2002</td>\n",
       "      <td>01055</td>\n",
       "      <td>57.60</td>\n",
       "      <td>352368.00</td>\n",
       "      <td>0.000163</td>\n",
       "      <td>130631.174115</td>\n",
       "      <td>12020.0</td>\n",
       "    </tr>\n",
       "    <tr>\n",
       "      <th>1</th>\n",
       "      <td>2002</td>\n",
       "      <td>01129</td>\n",
       "      <td>95.62</td>\n",
       "      <td>697429.12</td>\n",
       "      <td>0.000137</td>\n",
       "      <td>206902.523895</td>\n",
       "      <td>5364.0</td>\n",
       "    </tr>\n",
       "  </tbody>\n",
       "</table>\n",
       "</div>"
      ],
      "text/plain": [
       "   year county_fips  rangeland_acre  county_area_acre  rangeland_fraction   \n",
       "0  2002       01055           57.60         352368.00            0.000163  \\\n",
       "1  2002       01129           95.62         697429.12            0.000137   \n",
       "\n",
       "   county_rangeland_npp  cattle_cow_beef_inventory  \n",
       "0         130631.174115                    12020.0  \n",
       "1         206902.523895                     5364.0  "
      ]
     },
     "execution_count": 41,
     "metadata": {},
     "output_type": "execute_result"
    }
   ],
   "source": [
    "county_annual_NPP_Ra_cattleInv.sort_values(by=[\"year\", \"county_fips\"], inplace=True)\n",
    "county_annual_NPP_Ra_cattleInv.reset_index(drop=True, inplace=True)\n",
    "county_annual_NPP_Ra_cattleInv.head(2)"
   ]
  },
  {
   "cell_type": "code",
   "execution_count": 42,
   "id": "ec2eee8d",
   "metadata": {},
   "outputs": [
    {
     "data": {
      "text/html": [
       "<div>\n",
       "<style scoped>\n",
       "    .dataframe tbody tr th:only-of-type {\n",
       "        vertical-align: middle;\n",
       "    }\n",
       "\n",
       "    .dataframe tbody tr th {\n",
       "        vertical-align: top;\n",
       "    }\n",
       "\n",
       "    .dataframe thead th {\n",
       "        text-align: right;\n",
       "    }\n",
       "</style>\n",
       "<table border=\"1\" class=\"dataframe\">\n",
       "  <thead>\n",
       "    <tr style=\"text-align: right;\">\n",
       "      <th></th>\n",
       "      <th>county_fips</th>\n",
       "      <th>year</th>\n",
       "      <th>S1_countyMean_total_precip</th>\n",
       "      <th>S2_countyMean_total_precip</th>\n",
       "      <th>S3_countyMean_total_precip</th>\n",
       "      <th>S4_countyMean_total_precip</th>\n",
       "      <th>S1_countyMean_avg_Tavg</th>\n",
       "      <th>S2_countyMean_avg_Tavg</th>\n",
       "      <th>S3_countyMean_avg_Tavg</th>\n",
       "      <th>S4_countyMean_avg_Tavg</th>\n",
       "      <th>rangeland_acre</th>\n",
       "      <th>county_area_acre</th>\n",
       "      <th>rangeland_fraction</th>\n",
       "      <th>cattle_cow_beef_inventory</th>\n",
       "    </tr>\n",
       "  </thead>\n",
       "  <tbody>\n",
       "    <tr>\n",
       "      <th>0</th>\n",
       "      <td>01055</td>\n",
       "      <td>2002</td>\n",
       "      <td>384.081</td>\n",
       "      <td>381.902</td>\n",
       "      <td>297.505</td>\n",
       "      <td>444.936</td>\n",
       "      <td>8.504456</td>\n",
       "      <td>22.419525</td>\n",
       "      <td>25.522639</td>\n",
       "      <td>11.011326</td>\n",
       "      <td>57.60</td>\n",
       "      <td>352368.00</td>\n",
       "      <td>0.000163</td>\n",
       "      <td>12020.0</td>\n",
       "    </tr>\n",
       "    <tr>\n",
       "      <th>1</th>\n",
       "      <td>01129</td>\n",
       "      <td>2002</td>\n",
       "      <td>363.117</td>\n",
       "      <td>419.090</td>\n",
       "      <td>391.772</td>\n",
       "      <td>572.797</td>\n",
       "      <td>11.222078</td>\n",
       "      <td>24.012369</td>\n",
       "      <td>26.272246</td>\n",
       "      <td>14.197446</td>\n",
       "      <td>95.62</td>\n",
       "      <td>697429.12</td>\n",
       "      <td>0.000137</td>\n",
       "      <td>5364.0</td>\n",
       "    </tr>\n",
       "  </tbody>\n",
       "</table>\n",
       "</div>"
      ],
      "text/plain": [
       "  county_fips  year  S1_countyMean_total_precip  S2_countyMean_total_precip   \n",
       "0       01055  2002                     384.081                     381.902  \\\n",
       "1       01129  2002                     363.117                     419.090   \n",
       "\n",
       "   S3_countyMean_total_precip  S4_countyMean_total_precip   \n",
       "0                     297.505                     444.936  \\\n",
       "1                     391.772                     572.797   \n",
       "\n",
       "   S1_countyMean_avg_Tavg  S2_countyMean_avg_Tavg  S3_countyMean_avg_Tavg   \n",
       "0                8.504456               22.419525               25.522639  \\\n",
       "1               11.222078               24.012369               26.272246   \n",
       "\n",
       "   S4_countyMean_avg_Tavg  rangeland_acre  county_area_acre   \n",
       "0               11.011326           57.60         352368.00  \\\n",
       "1               14.197446           95.62         697429.12   \n",
       "\n",
       "   rangeland_fraction  cattle_cow_beef_inventory  \n",
       "0            0.000163                    12020.0  \n",
       "1            0.000137                     5364.0  "
      ]
     },
     "execution_count": 42,
     "metadata": {},
     "output_type": "execute_result"
    }
   ],
   "source": [
    "county_annual_SW_Ra_cattleInv.sort_values(by=[\"year\", \"county_fips\"], inplace=True)\n",
    "county_annual_SW_Ra_cattleInv.reset_index(drop=True, inplace=True)\n",
    "county_annual_SW_Ra_cattleInv.head(2)"
   ]
  },
  {
   "cell_type": "markdown",
   "id": "5a90edfa",
   "metadata": {},
   "source": [
    "# add Herb Ratio \n",
    "and see if we have counties for which we have missing ratios."
   ]
  },
  {
   "cell_type": "code",
   "execution_count": 43,
   "id": "2c28ba3c",
   "metadata": {},
   "outputs": [
    {
     "data": {
      "text/html": [
       "<div>\n",
       "<style scoped>\n",
       "    .dataframe tbody tr th:only-of-type {\n",
       "        vertical-align: middle;\n",
       "    }\n",
       "\n",
       "    .dataframe tbody tr th {\n",
       "        vertical-align: top;\n",
       "    }\n",
       "\n",
       "    .dataframe thead th {\n",
       "        text-align: right;\n",
       "    }\n",
       "</style>\n",
       "<table border=\"1\" class=\"dataframe\">\n",
       "  <thead>\n",
       "    <tr style=\"text-align: right;\">\n",
       "      <th></th>\n",
       "      <th>county_fips</th>\n",
       "      <th>herb_avg</th>\n",
       "      <th>herb_std</th>\n",
       "      <th>pixel_count</th>\n",
       "    </tr>\n",
       "  </thead>\n",
       "  <tbody>\n",
       "    <tr>\n",
       "      <th>0</th>\n",
       "      <td>21007</td>\n",
       "      <td>28.000000</td>\n",
       "      <td>15.000000</td>\n",
       "      <td>2.0</td>\n",
       "    </tr>\n",
       "    <tr>\n",
       "      <th>2</th>\n",
       "      <td>21031</td>\n",
       "      <td>19.666667</td>\n",
       "      <td>11.440668</td>\n",
       "      <td>3.0</td>\n",
       "    </tr>\n",
       "  </tbody>\n",
       "</table>\n",
       "</div>"
      ],
      "text/plain": [
       "  county_fips   herb_avg   herb_std  pixel_count\n",
       "0       21007  28.000000  15.000000          2.0\n",
       "2       21031  19.666667  11.440668          3.0"
      ]
     },
     "execution_count": 43,
     "metadata": {},
     "output_type": "execute_result"
    }
   ],
   "source": [
    "herbRatio.head(2)"
   ]
  },
  {
   "cell_type": "code",
   "execution_count": 44,
   "id": "56026892",
   "metadata": {},
   "outputs": [
    {
     "name": "stdout",
     "output_type": "stream",
     "text": [
      "72\n",
      "['05067', '13249', '13307', '21027', '21135', '21137', '21155', '21173', '21179', '21199', '21203', '22029', '22117', '28001', '40021', '47063', '47089', '51177', '05067', '13249', '13307', '21027', '21135', '21137', '21155', '21173', '21179', '21199', '21203', '22029', '22117', '28001', '40021', '47063', '47089', '51177', '05067', '13249', '13307', '21027', '21135', '21137', '21155', '21173', '21179', '21199', '21203', '22029', '22117', '28001', '40021', '47063', '47089', '51177', '05067', '13249', '13307', '21027', '21135', '21137', '21155', '21173', '21179', '21199', '21203', '22029', '22117', '28001', '40021', '47063', '47089', '51177']\n"
     ]
    }
   ],
   "source": [
    "ratioFipsNotInData = [x for x in list(herbRatio.county_fips) if \\\n",
    "                      x not in list(county_annual_SW_Ra_cattleInv.county_fips)]\n",
    "\n",
    "SWDataFipsNotinRatio = [x for x in list(county_annual_SW_Ra_cattleInv.county_fips) if \\\n",
    "                        x not in list(herbRatio.county_fips)]\n",
    "print (len(SWDataFipsNotinRatio))\n",
    "print (SWDataFipsNotinRatio)"
   ]
  },
  {
   "cell_type": "code",
   "execution_count": 45,
   "id": "36f1eea8",
   "metadata": {},
   "outputs": [
    {
     "name": "stdout",
     "output_type": "stream",
     "text": [
      "72\n",
      "['05067', '13249', '13307', '21027', '21135', '21137', '21155', '21173', '21179', '21199', '21203', '22029', '22117', '28001', '40021', '47063', '47089', '51177', '05067', '13249', '13307', '21027', '21135', '21137', '21155', '21173', '21179', '21199', '21203', '22029', '22117', '28001', '40021', '47063', '47089', '51177', '05067', '13249', '13307', '21027', '21135', '21137', '21155', '21173', '21179', '21199', '21203', '22029', '22117', '28001', '40021', '47063', '47089', '51177', '05067', '13249', '13307', '21027', '21135', '21137', '21155', '21173', '21179', '21199', '21203', '22029', '22117', '28001', '40021', '47063', '47089', '51177']\n"
     ]
    }
   ],
   "source": [
    "ratioFipsNotInData = [x for x in list(herbRatio.county_fips) if \\\n",
    "                      x not in list(county_annual_NPP_Ra_cattleInv.county_fips)]\n",
    "\n",
    "DataFipsNotinRatio = [x for x in list(county_annual_NPP_Ra_cattleInv.county_fips) if \\\n",
    "                      x not in list(herbRatio.county_fips)]\n",
    "print (len(DataFipsNotinRatio))\n",
    "print (DataFipsNotinRatio)"
   ]
  },
  {
   "cell_type": "code",
   "execution_count": 46,
   "id": "193e5680",
   "metadata": {},
   "outputs": [
    {
     "data": {
      "text/plain": [
       "True"
      ]
     },
     "execution_count": 46,
     "metadata": {},
     "output_type": "execute_result"
    }
   ],
   "source": [
    "DataFipsNotinRatio == SWDataFipsNotinRatio"
   ]
  },
  {
   "cell_type": "code",
   "execution_count": 47,
   "id": "75a6b768",
   "metadata": {},
   "outputs": [
    {
     "name": "stdout",
     "output_type": "stream",
     "text": [
      "695\n",
      "4\n"
     ]
    }
   ],
   "source": [
    "print (len(county_annual_NPP_Ra_cattleInv.county_fips.unique()))\n",
    "print (len(county_annual_NPP_Ra_cattleInv.year.unique()))"
   ]
  },
  {
   "cell_type": "code",
   "execution_count": null,
   "id": "5c23a6fe",
   "metadata": {},
   "outputs": [],
   "source": []
  },
  {
   "cell_type": "code",
   "execution_count": 48,
   "id": "a9b42861",
   "metadata": {},
   "outputs": [
    {
     "data": {
      "text/plain": [
       "[]"
      ]
     },
     "execution_count": 48,
     "metadata": {},
     "output_type": "execute_result"
    }
   ],
   "source": [
    "### Check if all counties have all years of data\n",
    "counties_w_missingYears = []\n",
    "all_availale_years = len(county_annual_SW_Ra_cattleInv.year.unique())\n",
    "\n",
    "for a_county in county_annual_SW_Ra_cattleInv.county_fips.unique():\n",
    "    df = county_annual_SW_Ra_cattleInv[county_annual_SW_Ra_cattleInv.county_fips==a_county]\n",
    "    if len(df.year.unique()) < all_availale_years:\n",
    "        counties_w_missingYears = counties_w_missingYears + [a_county]\n",
    "        \n",
    "counties_w_missingYears"
   ]
  },
  {
   "cell_type": "code",
   "execution_count": 49,
   "id": "8e909210",
   "metadata": {},
   "outputs": [
    {
     "name": "stdout",
     "output_type": "stream",
     "text": [
      "(2780, 17)\n",
      "(2708, 17)\n"
     ]
    },
    {
     "data": {
      "text/html": [
       "<div>\n",
       "<style scoped>\n",
       "    .dataframe tbody tr th:only-of-type {\n",
       "        vertical-align: middle;\n",
       "    }\n",
       "\n",
       "    .dataframe tbody tr th {\n",
       "        vertical-align: top;\n",
       "    }\n",
       "\n",
       "    .dataframe thead th {\n",
       "        text-align: right;\n",
       "    }\n",
       "</style>\n",
       "<table border=\"1\" class=\"dataframe\">\n",
       "  <thead>\n",
       "    <tr style=\"text-align: right;\">\n",
       "      <th></th>\n",
       "      <th>county_fips</th>\n",
       "      <th>year</th>\n",
       "      <th>S1_countyMean_total_precip</th>\n",
       "      <th>S2_countyMean_total_precip</th>\n",
       "      <th>S3_countyMean_total_precip</th>\n",
       "      <th>S4_countyMean_total_precip</th>\n",
       "      <th>S1_countyMean_avg_Tavg</th>\n",
       "      <th>S2_countyMean_avg_Tavg</th>\n",
       "      <th>S3_countyMean_avg_Tavg</th>\n",
       "      <th>S4_countyMean_avg_Tavg</th>\n",
       "      <th>rangeland_acre</th>\n",
       "      <th>county_area_acre</th>\n",
       "      <th>rangeland_fraction</th>\n",
       "      <th>cattle_cow_beef_inventory</th>\n",
       "      <th>herb_avg</th>\n",
       "      <th>herb_std</th>\n",
       "      <th>pixel_count</th>\n",
       "    </tr>\n",
       "  </thead>\n",
       "  <tbody>\n",
       "    <tr>\n",
       "      <th>0</th>\n",
       "      <td>01055</td>\n",
       "      <td>2002</td>\n",
       "      <td>384.081</td>\n",
       "      <td>381.902</td>\n",
       "      <td>297.505</td>\n",
       "      <td>444.936</td>\n",
       "      <td>8.504456</td>\n",
       "      <td>22.419525</td>\n",
       "      <td>25.522639</td>\n",
       "      <td>11.011326</td>\n",
       "      <td>57.60</td>\n",
       "      <td>352368.00</td>\n",
       "      <td>0.000163</td>\n",
       "      <td>12020.0</td>\n",
       "      <td>29.333333</td>\n",
       "      <td>32.293790</td>\n",
       "      <td>3.0</td>\n",
       "    </tr>\n",
       "    <tr>\n",
       "      <th>1</th>\n",
       "      <td>01129</td>\n",
       "      <td>2002</td>\n",
       "      <td>363.117</td>\n",
       "      <td>419.090</td>\n",
       "      <td>391.772</td>\n",
       "      <td>572.797</td>\n",
       "      <td>11.222078</td>\n",
       "      <td>24.012369</td>\n",
       "      <td>26.272246</td>\n",
       "      <td>14.197446</td>\n",
       "      <td>95.62</td>\n",
       "      <td>697429.12</td>\n",
       "      <td>0.000137</td>\n",
       "      <td>5364.0</td>\n",
       "      <td>13.133851</td>\n",
       "      <td>15.783407</td>\n",
       "      <td>1158.0</td>\n",
       "    </tr>\n",
       "  </tbody>\n",
       "</table>\n",
       "</div>"
      ],
      "text/plain": [
       "  county_fips  year  S1_countyMean_total_precip  S2_countyMean_total_precip   \n",
       "0       01055  2002                     384.081                     381.902  \\\n",
       "1       01129  2002                     363.117                     419.090   \n",
       "\n",
       "   S3_countyMean_total_precip  S4_countyMean_total_precip   \n",
       "0                     297.505                     444.936  \\\n",
       "1                     391.772                     572.797   \n",
       "\n",
       "   S1_countyMean_avg_Tavg  S2_countyMean_avg_Tavg  S3_countyMean_avg_Tavg   \n",
       "0                8.504456               22.419525               25.522639  \\\n",
       "1               11.222078               24.012369               26.272246   \n",
       "\n",
       "   S4_countyMean_avg_Tavg  rangeland_acre  county_area_acre   \n",
       "0               11.011326           57.60         352368.00  \\\n",
       "1               14.197446           95.62         697429.12   \n",
       "\n",
       "   rangeland_fraction  cattle_cow_beef_inventory   herb_avg   herb_std   \n",
       "0            0.000163                    12020.0  29.333333  32.293790  \\\n",
       "1            0.000137                     5364.0  13.133851  15.783407   \n",
       "\n",
       "   pixel_count  \n",
       "0          3.0  \n",
       "1       1158.0  "
      ]
     },
     "execution_count": 49,
     "metadata": {},
     "output_type": "execute_result"
    }
   ],
   "source": [
    "county_annual_SW_Ra_cattleInv = pd.merge(county_annual_SW_Ra_cattleInv, herbRatio, \n",
    "                                         on=[\"county_fips\"], how=\"left\")\n",
    "\n",
    "print (county_annual_SW_Ra_cattleInv.shape)\n",
    "county_annual_SW_Ra_cattleInv.dropna(how=\"any\", inplace=True)\n",
    "print (county_annual_SW_Ra_cattleInv.shape)\n",
    "\n",
    "county_annual_SW_Ra_cattleInv.sort_values(by=[\"year\", \"county_fips\"], inplace=True)\n",
    "county_annual_SW_Ra_cattleInv.reset_index(drop=True, inplace=True)\n",
    "county_annual_SW_Ra_cattleInv.head(2)\n",
    "\n",
    "county_annual_SW_Ra_cattleInv.head(2)"
   ]
  },
  {
   "cell_type": "code",
   "execution_count": 50,
   "id": "20fee244",
   "metadata": {},
   "outputs": [
    {
     "name": "stdout",
     "output_type": "stream",
     "text": [
      "(2780, 10)\n",
      "(2708, 10)\n"
     ]
    },
    {
     "data": {
      "text/html": [
       "<div>\n",
       "<style scoped>\n",
       "    .dataframe tbody tr th:only-of-type {\n",
       "        vertical-align: middle;\n",
       "    }\n",
       "\n",
       "    .dataframe tbody tr th {\n",
       "        vertical-align: top;\n",
       "    }\n",
       "\n",
       "    .dataframe thead th {\n",
       "        text-align: right;\n",
       "    }\n",
       "</style>\n",
       "<table border=\"1\" class=\"dataframe\">\n",
       "  <thead>\n",
       "    <tr style=\"text-align: right;\">\n",
       "      <th></th>\n",
       "      <th>year</th>\n",
       "      <th>county_fips</th>\n",
       "      <th>rangeland_acre</th>\n",
       "      <th>county_area_acre</th>\n",
       "      <th>rangeland_fraction</th>\n",
       "      <th>county_rangeland_npp</th>\n",
       "      <th>cattle_cow_beef_inventory</th>\n",
       "      <th>herb_avg</th>\n",
       "      <th>herb_std</th>\n",
       "      <th>pixel_count</th>\n",
       "    </tr>\n",
       "  </thead>\n",
       "  <tbody>\n",
       "    <tr>\n",
       "      <th>0</th>\n",
       "      <td>2002</td>\n",
       "      <td>01055</td>\n",
       "      <td>57.60</td>\n",
       "      <td>352368.00</td>\n",
       "      <td>0.000163</td>\n",
       "      <td>130631.174115</td>\n",
       "      <td>12020.0</td>\n",
       "      <td>29.333333</td>\n",
       "      <td>32.293790</td>\n",
       "      <td>3.0</td>\n",
       "    </tr>\n",
       "    <tr>\n",
       "      <th>1</th>\n",
       "      <td>2002</td>\n",
       "      <td>01129</td>\n",
       "      <td>95.62</td>\n",
       "      <td>697429.12</td>\n",
       "      <td>0.000137</td>\n",
       "      <td>206902.523895</td>\n",
       "      <td>5364.0</td>\n",
       "      <td>13.133851</td>\n",
       "      <td>15.783407</td>\n",
       "      <td>1158.0</td>\n",
       "    </tr>\n",
       "  </tbody>\n",
       "</table>\n",
       "</div>"
      ],
      "text/plain": [
       "   year county_fips  rangeland_acre  county_area_acre  rangeland_fraction   \n",
       "0  2002       01055           57.60         352368.00            0.000163  \\\n",
       "1  2002       01129           95.62         697429.12            0.000137   \n",
       "\n",
       "   county_rangeland_npp  cattle_cow_beef_inventory   herb_avg   herb_std   \n",
       "0         130631.174115                    12020.0  29.333333  32.293790  \\\n",
       "1         206902.523895                     5364.0  13.133851  15.783407   \n",
       "\n",
       "   pixel_count  \n",
       "0          3.0  \n",
       "1       1158.0  "
      ]
     },
     "execution_count": 50,
     "metadata": {},
     "output_type": "execute_result"
    }
   ],
   "source": [
    "county_annual_NPP_Ra_cattleInv = pd.merge(county_annual_NPP_Ra_cattleInv, herbRatio, \n",
    "                                         on=[\"county_fips\"], how=\"left\")\n",
    "\n",
    "print (county_annual_NPP_Ra_cattleInv.shape)\n",
    "county_annual_NPP_Ra_cattleInv.dropna(how=\"any\", inplace=True)\n",
    "print (county_annual_NPP_Ra_cattleInv.shape)\n",
    "\n",
    "county_annual_NPP_Ra_cattleInv.sort_values(by=[\"year\", \"county_fips\"], inplace=True)\n",
    "county_annual_NPP_Ra_cattleInv.reset_index(drop=True, inplace=True)\n",
    "county_annual_NPP_Ra_cattleInv.head(2)"
   ]
  },
  {
   "cell_type": "code",
   "execution_count": 51,
   "id": "cf18d387",
   "metadata": {},
   "outputs": [
    {
     "data": {
      "text/plain": [
       "[]"
      ]
     },
     "execution_count": 51,
     "metadata": {},
     "output_type": "execute_result"
    }
   ],
   "source": [
    "### Check if all counties have all years of data\n",
    "counties_w_missingYears = []\n",
    "all_availale_years = len(county_annual_SW_Ra_cattleInv.year.unique())\n",
    "\n",
    "for a_county in county_annual_SW_Ra_cattleInv.county_fips.unique():\n",
    "    df = county_annual_SW_Ra_cattleInv[county_annual_SW_Ra_cattleInv.county_fips==a_county]\n",
    "    if len(df.year.unique()) < all_availale_years:\n",
    "        counties_w_missingYears = counties_w_missingYears + [a_county]\n",
    "        \n",
    "counties_w_missingYears"
   ]
  },
  {
   "cell_type": "markdown",
   "id": "8018d2f9",
   "metadata": {},
   "source": [
    "## OLS 2017 ```NPP``` (Model)"
   ]
  },
  {
   "cell_type": "code",
   "execution_count": null,
   "id": "d7304b7c",
   "metadata": {},
   "outputs": [],
   "source": []
  },
  {
   "cell_type": "code",
   "execution_count": 52,
   "id": "2017381c",
   "metadata": {},
   "outputs": [
    {
     "name": "stdout",
     "output_type": "stream",
     "text": [
      "(677, 4)\n",
      "y_2017.shape = (677,)\n"
     ]
    }
   ],
   "source": [
    "NPP_Ra_cattleInv_2017 = county_annual_NPP_Ra_cattleInv[\n",
    "                                        county_annual_NPP_Ra_cattleInv.year==2017].copy()\n",
    "\n",
    "NPP_A_2017 = NPP_Ra_cattleInv_2017[[\"county_rangeland_npp\", \"rangeland_acre\", \"herb_avg\"]].values\n",
    "NPP_A_2017 = np.hstack([NPP_A_2017, np.ones(len(NPP_A_2017)).reshape(-1, 1)])\n",
    "print (NPP_A_2017.shape)\n",
    "\n",
    "y_2017 = NPP_Ra_cattleInv_2017[[inv_col_]].values.reshape(-1)\n",
    "print (f\"{y_2017.shape = }\")"
   ]
  },
  {
   "cell_type": "code",
   "execution_count": 53,
   "id": "9798dcc5",
   "metadata": {},
   "outputs": [],
   "source": [
    "NPP_sol_2017, NPP_RSS_2017, NPP_rank_2017, NPP_singular_vals_2017  = np.linalg.lstsq(NPP_A_2017, y_2017)"
   ]
  },
  {
   "cell_type": "code",
   "execution_count": 54,
   "id": "94a48a86",
   "metadata": {},
   "outputs": [
    {
     "data": {
      "text/html": [
       "<div>\n",
       "<style scoped>\n",
       "    .dataframe tbody tr th:only-of-type {\n",
       "        vertical-align: middle;\n",
       "    }\n",
       "\n",
       "    .dataframe tbody tr th {\n",
       "        vertical-align: top;\n",
       "    }\n",
       "\n",
       "    .dataframe thead th {\n",
       "        text-align: right;\n",
       "    }\n",
       "</style>\n",
       "<table border=\"1\" class=\"dataframe\">\n",
       "  <thead>\n",
       "    <tr style=\"text-align: right;\">\n",
       "      <th></th>\n",
       "      <th>year</th>\n",
       "      <th>county_fips</th>\n",
       "      <th>rangeland_acre</th>\n",
       "      <th>county_area_acre</th>\n",
       "      <th>rangeland_fraction</th>\n",
       "      <th>county_rangeland_npp</th>\n",
       "      <th>cattle_cow_beef_inventory</th>\n",
       "      <th>herb_avg</th>\n",
       "      <th>herb_std</th>\n",
       "      <th>pixel_count</th>\n",
       "    </tr>\n",
       "  </thead>\n",
       "  <tbody>\n",
       "    <tr>\n",
       "      <th>2031</th>\n",
       "      <td>2017</td>\n",
       "      <td>01055</td>\n",
       "      <td>57.60</td>\n",
       "      <td>352368.00</td>\n",
       "      <td>0.000163</td>\n",
       "      <td>205588.913435</td>\n",
       "      <td>8872.0</td>\n",
       "      <td>29.333333</td>\n",
       "      <td>32.293790</td>\n",
       "      <td>3.0</td>\n",
       "    </tr>\n",
       "    <tr>\n",
       "      <th>2032</th>\n",
       "      <td>2017</td>\n",
       "      <td>01129</td>\n",
       "      <td>95.62</td>\n",
       "      <td>697429.12</td>\n",
       "      <td>0.000137</td>\n",
       "      <td>338831.349761</td>\n",
       "      <td>6884.0</td>\n",
       "      <td>13.133851</td>\n",
       "      <td>15.783407</td>\n",
       "      <td>1158.0</td>\n",
       "    </tr>\n",
       "  </tbody>\n",
       "</table>\n",
       "</div>"
      ],
      "text/plain": [
       "      year county_fips  rangeland_acre  county_area_acre  rangeland_fraction   \n",
       "2031  2017       01055           57.60         352368.00            0.000163  \\\n",
       "2032  2017       01129           95.62         697429.12            0.000137   \n",
       "\n",
       "      county_rangeland_npp  cattle_cow_beef_inventory   herb_avg   herb_std   \n",
       "2031         205588.913435                     8872.0  29.333333  32.293790  \\\n",
       "2032         338831.349761                     6884.0  13.133851  15.783407   \n",
       "\n",
       "      pixel_count  \n",
       "2031          3.0  \n",
       "2032       1158.0  "
      ]
     },
     "execution_count": 54,
     "metadata": {},
     "output_type": "execute_result"
    }
   ],
   "source": [
    "county_annual_NPP_Ra_cattleInv[county_annual_NPP_Ra_cattleInv.year==2017].head(2)"
   ]
  },
  {
   "cell_type": "code",
   "execution_count": 55,
   "id": "463f229f",
   "metadata": {},
   "outputs": [
    {
     "data": {
      "text/plain": [
       "array([ 1.36513074e-05, -4.02876873e-03,  1.37601972e+02,  5.75687614e+03])"
      ]
     },
     "execution_count": 55,
     "metadata": {},
     "output_type": "execute_result"
    }
   ],
   "source": [
    "NPP_sol_2017"
   ]
  },
  {
   "cell_type": "code",
   "execution_count": 56,
   "id": "cc0e7923",
   "metadata": {},
   "outputs": [],
   "source": [
    "NPP_coef_2017, Ra_coef_2017, herb_coef_2017, intercept_2017 = \\\n",
    "NPP_sol_2017[0], NPP_sol_2017[1], NPP_sol_2017[2], NPP_sol_2017[3]"
   ]
  },
  {
   "cell_type": "markdown",
   "id": "9a050734",
   "metadata": {},
   "source": [
    "### Apply ```NPP``` 2017 model to 2012 data "
   ]
  },
  {
   "cell_type": "code",
   "execution_count": 57,
   "id": "2e67d204",
   "metadata": {},
   "outputs": [
    {
     "data": {
      "text/html": [
       "<div>\n",
       "<style scoped>\n",
       "    .dataframe tbody tr th:only-of-type {\n",
       "        vertical-align: middle;\n",
       "    }\n",
       "\n",
       "    .dataframe tbody tr th {\n",
       "        vertical-align: top;\n",
       "    }\n",
       "\n",
       "    .dataframe thead th {\n",
       "        text-align: right;\n",
       "    }\n",
       "</style>\n",
       "<table border=\"1\" class=\"dataframe\">\n",
       "  <thead>\n",
       "    <tr style=\"text-align: right;\">\n",
       "      <th></th>\n",
       "      <th>year</th>\n",
       "      <th>county_fips</th>\n",
       "      <th>rangeland_acre</th>\n",
       "      <th>county_area_acre</th>\n",
       "      <th>rangeland_fraction</th>\n",
       "      <th>county_rangeland_npp</th>\n",
       "      <th>cattle_cow_beef_inventory</th>\n",
       "      <th>herb_avg</th>\n",
       "      <th>herb_std</th>\n",
       "      <th>pixel_count</th>\n",
       "    </tr>\n",
       "  </thead>\n",
       "  <tbody>\n",
       "    <tr>\n",
       "      <th>1354</th>\n",
       "      <td>2012</td>\n",
       "      <td>01055</td>\n",
       "      <td>57.60</td>\n",
       "      <td>352368.00</td>\n",
       "      <td>0.000163</td>\n",
       "      <td>164943.388247</td>\n",
       "      <td>10647.0</td>\n",
       "      <td>29.333333</td>\n",
       "      <td>32.293790</td>\n",
       "      <td>3.0</td>\n",
       "    </tr>\n",
       "    <tr>\n",
       "      <th>1355</th>\n",
       "      <td>2012</td>\n",
       "      <td>01129</td>\n",
       "      <td>95.62</td>\n",
       "      <td>697429.12</td>\n",
       "      <td>0.000137</td>\n",
       "      <td>266392.249292</td>\n",
       "      <td>4815.0</td>\n",
       "      <td>13.133851</td>\n",
       "      <td>15.783407</td>\n",
       "      <td>1158.0</td>\n",
       "    </tr>\n",
       "  </tbody>\n",
       "</table>\n",
       "</div>"
      ],
      "text/plain": [
       "      year county_fips  rangeland_acre  county_area_acre  rangeland_fraction   \n",
       "1354  2012       01055           57.60         352368.00            0.000163  \\\n",
       "1355  2012       01129           95.62         697429.12            0.000137   \n",
       "\n",
       "      county_rangeland_npp  cattle_cow_beef_inventory   herb_avg   herb_std   \n",
       "1354         164943.388247                    10647.0  29.333333  32.293790  \\\n",
       "1355         266392.249292                     4815.0  13.133851  15.783407   \n",
       "\n",
       "      pixel_count  \n",
       "1354          3.0  \n",
       "1355       1158.0  "
      ]
     },
     "execution_count": 57,
     "metadata": {},
     "output_type": "execute_result"
    }
   ],
   "source": [
    "NPP_Ra_cattleInv_2012 = county_annual_NPP_Ra_cattleInv[county_annual_NPP_Ra_cattleInv.year==2012].copy()\n",
    "y_2012 = NPP_Ra_cattleInv_2012[[inv_col_]].values.reshape(-1)\n",
    "NPP_Ra_cattleInv_2012.head(2)"
   ]
  },
  {
   "cell_type": "code",
   "execution_count": 58,
   "id": "b83dd0e7",
   "metadata": {},
   "outputs": [
    {
     "data": {
      "text/plain": [
       "130987653.40616684"
      ]
     },
     "execution_count": 58,
     "metadata": {},
     "output_type": "execute_result"
    }
   ],
   "source": [
    "NPP_yhat2012_Model2017 = NPP_coef_2017 * NPP_Ra_cattleInv_2012[\"county_rangeland_npp\"].values + \\\n",
    "                         Ra_coef_2017 * NPP_Ra_cattleInv_2012[\"rangeland_acre\"].values + \\\n",
    "                         herb_coef_2017 * NPP_Ra_cattleInv_2012[\"herb_avg\"].values + \\\n",
    "                         intercept_2017 * np.ones(len(y_2012))\n",
    "\n",
    "NPP_res2012_Model2017 = y_2012 - NPP_yhat2012_Model2017\n",
    "NPP_RSS2012_Model2017 = np.dot(NPP_res2012_Model2017, NPP_res2012_Model2017)\n",
    "NPP_RSS2012_Model2017/len(y_2012)"
   ]
  },
  {
   "cell_type": "code",
   "execution_count": 59,
   "id": "f168e49f",
   "metadata": {},
   "outputs": [
    {
     "name": "stdout",
     "output_type": "stream",
     "text": [
      "NPP_Ra_cattleInv_2012[inv_col_].min()=115.0\n",
      "NPP_Ra_cattleInv_2012[inv_col_].max()=88046.0\n"
     ]
    }
   ],
   "source": [
    "print (f\"{NPP_Ra_cattleInv_2012[inv_col_].min()=}\")\n",
    "print (f\"{NPP_Ra_cattleInv_2012[inv_col_].max()=}\")"
   ]
  },
  {
   "cell_type": "markdown",
   "id": "fcaab2a0",
   "metadata": {},
   "source": [
    "## Least Squares based on 2017 ```Weather```"
   ]
  },
  {
   "cell_type": "code",
   "execution_count": 60,
   "id": "5fb09223",
   "metadata": {},
   "outputs": [
    {
     "data": {
      "text/html": [
       "<div>\n",
       "<style scoped>\n",
       "    .dataframe tbody tr th:only-of-type {\n",
       "        vertical-align: middle;\n",
       "    }\n",
       "\n",
       "    .dataframe tbody tr th {\n",
       "        vertical-align: top;\n",
       "    }\n",
       "\n",
       "    .dataframe thead th {\n",
       "        text-align: right;\n",
       "    }\n",
       "</style>\n",
       "<table border=\"1\" class=\"dataframe\">\n",
       "  <thead>\n",
       "    <tr style=\"text-align: right;\">\n",
       "      <th></th>\n",
       "      <th>county_fips</th>\n",
       "      <th>year</th>\n",
       "      <th>S1_countyMean_total_precip</th>\n",
       "      <th>S2_countyMean_total_precip</th>\n",
       "      <th>S3_countyMean_total_precip</th>\n",
       "      <th>S4_countyMean_total_precip</th>\n",
       "      <th>S1_countyMean_avg_Tavg</th>\n",
       "      <th>S2_countyMean_avg_Tavg</th>\n",
       "      <th>S3_countyMean_avg_Tavg</th>\n",
       "      <th>S4_countyMean_avg_Tavg</th>\n",
       "      <th>rangeland_acre</th>\n",
       "      <th>county_area_acre</th>\n",
       "      <th>rangeland_fraction</th>\n",
       "      <th>cattle_cow_beef_inventory</th>\n",
       "      <th>herb_avg</th>\n",
       "      <th>herb_std</th>\n",
       "      <th>pixel_count</th>\n",
       "    </tr>\n",
       "  </thead>\n",
       "  <tbody>\n",
       "    <tr>\n",
       "      <th>0</th>\n",
       "      <td>01055</td>\n",
       "      <td>2002</td>\n",
       "      <td>384.081</td>\n",
       "      <td>381.902</td>\n",
       "      <td>297.505</td>\n",
       "      <td>444.936</td>\n",
       "      <td>8.504456</td>\n",
       "      <td>22.419525</td>\n",
       "      <td>25.522639</td>\n",
       "      <td>11.011326</td>\n",
       "      <td>57.60</td>\n",
       "      <td>352368.00</td>\n",
       "      <td>0.000163</td>\n",
       "      <td>12020.0</td>\n",
       "      <td>29.333333</td>\n",
       "      <td>32.293790</td>\n",
       "      <td>3.0</td>\n",
       "    </tr>\n",
       "    <tr>\n",
       "      <th>1</th>\n",
       "      <td>01129</td>\n",
       "      <td>2002</td>\n",
       "      <td>363.117</td>\n",
       "      <td>419.090</td>\n",
       "      <td>391.772</td>\n",
       "      <td>572.797</td>\n",
       "      <td>11.222078</td>\n",
       "      <td>24.012369</td>\n",
       "      <td>26.272246</td>\n",
       "      <td>14.197446</td>\n",
       "      <td>95.62</td>\n",
       "      <td>697429.12</td>\n",
       "      <td>0.000137</td>\n",
       "      <td>5364.0</td>\n",
       "      <td>13.133851</td>\n",
       "      <td>15.783407</td>\n",
       "      <td>1158.0</td>\n",
       "    </tr>\n",
       "  </tbody>\n",
       "</table>\n",
       "</div>"
      ],
      "text/plain": [
       "  county_fips  year  S1_countyMean_total_precip  S2_countyMean_total_precip   \n",
       "0       01055  2002                     384.081                     381.902  \\\n",
       "1       01129  2002                     363.117                     419.090   \n",
       "\n",
       "   S3_countyMean_total_precip  S4_countyMean_total_precip   \n",
       "0                     297.505                     444.936  \\\n",
       "1                     391.772                     572.797   \n",
       "\n",
       "   S1_countyMean_avg_Tavg  S2_countyMean_avg_Tavg  S3_countyMean_avg_Tavg   \n",
       "0                8.504456               22.419525               25.522639  \\\n",
       "1               11.222078               24.012369               26.272246   \n",
       "\n",
       "   S4_countyMean_avg_Tavg  rangeland_acre  county_area_acre   \n",
       "0               11.011326           57.60         352368.00  \\\n",
       "1               14.197446           95.62         697429.12   \n",
       "\n",
       "   rangeland_fraction  cattle_cow_beef_inventory   herb_avg   herb_std   \n",
       "0            0.000163                    12020.0  29.333333  32.293790  \\\n",
       "1            0.000137                     5364.0  13.133851  15.783407   \n",
       "\n",
       "   pixel_count  \n",
       "0          3.0  \n",
       "1       1158.0  "
      ]
     },
     "execution_count": 60,
     "metadata": {},
     "output_type": "execute_result"
    }
   ],
   "source": [
    "county_annual_SW_Ra_cattleInv.head(2)"
   ]
  },
  {
   "cell_type": "code",
   "execution_count": null,
   "id": "fc41f419",
   "metadata": {},
   "outputs": [],
   "source": []
  },
  {
   "cell_type": "code",
   "execution_count": 61,
   "id": "667c0224",
   "metadata": {},
   "outputs": [
    {
     "name": "stdout",
     "output_type": "stream",
     "text": [
      "['S1_countyMean_total_precip', 'S2_countyMean_total_precip', 'S3_countyMean_total_precip', 'S4_countyMean_total_precip', 'S1_countyMean_avg_Tavg', 'S2_countyMean_avg_Tavg', 'S3_countyMean_avg_Tavg', 'S4_countyMean_avg_Tavg', 'rangeland_acre', 'herb_avg']\n",
      "y_2017.shape = (677,)\n"
     ]
    }
   ],
   "source": [
    "SW_Ra_cattleInv_2017 = county_annual_SW_Ra_cattleInv[\n",
    "                                        county_annual_SW_Ra_cattleInv.year==2017].copy()\n",
    "\n",
    "needed_cols = list(SW_Ra_cattleInv_2017.columns[2:11]) + [\"herb_avg\"]\n",
    "print (needed_cols)\n",
    "SW_A_2017 = SW_Ra_cattleInv_2017[needed_cols].values\n",
    "y_2017 = SW_Ra_cattleInv_2017[[inv_col_]].values.reshape(-1)\n",
    "print (f\"{y_2017.shape = }\")"
   ]
  },
  {
   "cell_type": "code",
   "execution_count": 62,
   "id": "0edddb89",
   "metadata": {},
   "outputs": [
    {
     "name": "stdout",
     "output_type": "stream",
     "text": [
      "(677, 11)\n"
     ]
    },
    {
     "data": {
      "text/plain": [
       "array([[3.88345000e+02, 6.62278000e+02, 2.29808000e+02, ...,\n",
       "        5.76000000e+01, 2.93333333e+01, 1.00000000e+00],\n",
       "       [5.21272000e+02, 1.03455500e+03, 2.80714000e+02, ...,\n",
       "        9.56200000e+01, 1.31338515e+01, 1.00000000e+00],\n",
       "       [2.74111000e+02, 6.78770000e+02, 1.68017000e+02, ...,\n",
       "        3.87180000e+02, 3.38812950e+01, 1.00000000e+00],\n",
       "       ...,\n",
       "       [2.27731000e+02, 1.03953000e+02, 9.60140000e+01, ...,\n",
       "        1.49066429e+06, 4.47202044e+01, 1.00000000e+00],\n",
       "       [8.34600000e+01, 1.76866000e+02, 7.01340000e+01, ...,\n",
       "        3.12539797e+06, 7.23255155e+01, 1.00000000e+00],\n",
       "       [1.08031000e+02, 2.51372000e+02, 7.17780000e+01, ...,\n",
       "        1.07932698e+06, 8.25702852e+01, 1.00000000e+00]])"
      ]
     },
     "execution_count": 62,
     "metadata": {},
     "output_type": "execute_result"
    }
   ],
   "source": [
    "SW_A_2017 = np.hstack([SW_A_2017, np.ones(len(SW_A_2017)).reshape(-1, 1)])\n",
    "print (SW_A_2017.shape)\n",
    "SW_A_2017"
   ]
  },
  {
   "cell_type": "code",
   "execution_count": 63,
   "id": "b7efe8c7",
   "metadata": {},
   "outputs": [
    {
     "data": {
      "text/plain": [
       "array([388.345     , 662.278     , 229.808     , 240.635     ,\n",
       "        11.22488889,  22.78883607,  24.00270492,  12.15677174,\n",
       "        57.6       ,  29.33333333,   1.        ])"
      ]
     },
     "execution_count": 63,
     "metadata": {},
     "output_type": "execute_result"
    }
   ],
   "source": [
    "SW_A_2017[0]"
   ]
  },
  {
   "cell_type": "code",
   "execution_count": 64,
   "id": "339371ea",
   "metadata": {},
   "outputs": [
    {
     "data": {
      "text/plain": [
       "array([ 6.29656842e+00,  1.91620684e+01,  1.21303862e+01, -2.26083327e+01,\n",
       "        6.34096258e+02, -1.23303074e+03,  1.11064160e+03, -9.89392672e+02,\n",
       "        7.13078496e-03,  2.08738774e+02, -1.68208664e+02])"
      ]
     },
     "execution_count": 64,
     "metadata": {},
     "output_type": "execute_result"
    }
   ],
   "source": [
    "SW_sol_2017, SW_RSS_2017, SW_rank_2017, SW_singular_vals_2017  = np.linalg.lstsq(SW_A_2017, y_2017)\n",
    "SW_sol_2017"
   ]
  },
  {
   "cell_type": "code",
   "execution_count": 65,
   "id": "dee15fa4",
   "metadata": {},
   "outputs": [
    {
     "data": {
      "text/plain": [
       "106235662168.13718"
      ]
     },
     "execution_count": 65,
     "metadata": {},
     "output_type": "execute_result"
    }
   ],
   "source": [
    "# SW_yhat_2017 = SW_A_2017 @ SW_sol_2017\n",
    "# SW_res = y_2017 - SW_yhat_2017\n",
    "# SW_RSS = np.dot(SW_res, SW_res)\n",
    "# SW_RSS\n",
    "SW_RSS_2017[0]"
   ]
  },
  {
   "cell_type": "markdown",
   "id": "548a2327",
   "metadata": {},
   "source": [
    "### Apply 2017 model to 2012 data "
   ]
  },
  {
   "cell_type": "code",
   "execution_count": 66,
   "id": "c11f77d3",
   "metadata": {},
   "outputs": [],
   "source": [
    "SW_var_cols = ['S1_countyMean_total_precip', 'S2_countyMean_total_precip',\n",
    "               'S3_countyMean_total_precip', 'S4_countyMean_total_precip',\n",
    "               \n",
    "               'S1_countyMean_avg_Tavg', 'S2_countyMean_avg_Tavg',\n",
    "               'S3_countyMean_avg_Tavg', 'S4_countyMean_avg_Tavg', \n",
    "               \n",
    "               'rangeland_acre', 'herb_avg']"
   ]
  },
  {
   "cell_type": "code",
   "execution_count": 67,
   "id": "ac71732f",
   "metadata": {},
   "outputs": [],
   "source": [
    "SW_Ra_cattleInv_2012 = county_annual_SW_Ra_cattleInv[\n",
    "                                        county_annual_SW_Ra_cattleInv.year==2012].copy()\n",
    "\n",
    "y_2012 = SW_Ra_cattleInv_2012[[inv_col_]].values.reshape(-1)\n",
    "\n",
    "SW_A_2012 = SW_Ra_cattleInv_2012[SW_var_cols].values\n",
    "SW_A_2012 = np.hstack([SW_A_2012, np.ones(len(y_2012)).reshape(-1, 1)])"
   ]
  },
  {
   "cell_type": "code",
   "execution_count": 68,
   "id": "bd16b63c",
   "metadata": {},
   "outputs": [
    {
     "data": {
      "text/plain": [
       "269312678.43863916"
      ]
     },
     "execution_count": 68,
     "metadata": {},
     "output_type": "execute_result"
    }
   ],
   "source": [
    "SW_yhat2012_Model2017 = SW_A_2012 @ SW_sol_2017\n",
    "\n",
    "SW_res2012_Model2017 = y_2012 - SW_yhat2012_Model2017\n",
    "SW_RSS2012_Model2017 = np.dot(SW_res2012_Model2017, SW_res2012_Model2017)\n",
    "SW_RSS2012_Model2017/len(y_2012)"
   ]
  },
  {
   "cell_type": "markdown",
   "id": "341a2cc6",
   "metadata": {},
   "source": [
    "### unit ```NPP``` results were:\n",
    "\n",
    "- $\\text{RSS}_\\text{NPP} = 107,997,845,546$\n",
    "- $\\text{MSE}_\\text{NPP} = 155,392,584$\n",
    "- $\\text{RSE}_\\text{NPP} = 12,466$"
   ]
  },
  {
   "cell_type": "code",
   "execution_count": 69,
   "id": "36845742",
   "metadata": {},
   "outputs": [
    {
     "name": "stdout",
     "output_type": "stream",
     "text": [
      "NPP residual stats are:\n",
      "    RSS = 88678641356.\n",
      "    MSE = 130987653.\n",
      "    RSE = 11445.\n",
      "\n",
      "Weather residual stats are:\n",
      "    RSS = 182324683303.\n",
      "    MSE = 269312678.\n",
      "    RSE =  16411.\n"
     ]
    }
   ],
   "source": [
    "print (\"NPP residual stats are:\")\n",
    "print('    RSS = {0:.0f}.'.format(NPP_RSS2012_Model2017))\n",
    "print('    MSE = {0:.0f}.'.format(NPP_RSS2012_Model2017/len(y_2012)))\n",
    "print('    RSE = {0:.0f}.'.format(np.sqrt(NPP_RSS2012_Model2017/len(y_2012))))\n",
    "print ()\n",
    "print (\"Weather residual stats are:\")\n",
    "print('    RSS = {0:.0f}.'.format(SW_RSS2012_Model2017))\n",
    "print('    MSE = {0:.0f}.'.format(SW_RSS2012_Model2017/len(y_2012)))\n",
    "print('    RSE =  {0:.0f}.'.format(np.sqrt(SW_RSS2012_Model2017/len(y_2012))))"
   ]
  },
  {
   "cell_type": "code",
   "execution_count": 70,
   "id": "4d5e3bc7",
   "metadata": {},
   "outputs": [
    {
     "name": "stdout",
     "output_type": "stream",
     "text": [
      "npp coeff  = 0.0000137\n",
      "area coeff = -0.00\n",
      "intercept  = 5756.88\n"
     ]
    }
   ],
   "source": [
    "# npp, area, intercept\n",
    "NPP_sol_2017\n",
    "print (\"npp coeff  = {0:.7f}\".format(NPP_coef_2017))\n",
    "print (\"area coeff = {0:.2f}\".format(Ra_coef_2017))\n",
    "print (\"intercept  = {0:.2f}\".format(intercept_2017))"
   ]
  },
  {
   "cell_type": "code",
   "execution_count": 71,
   "id": "630167a3",
   "metadata": {},
   "outputs": [
    {
     "data": {
      "text/plain": [
       "array([ 6.29656842e+00,  1.91620684e+01,  1.21303862e+01, -2.26083327e+01,\n",
       "        6.34096258e+02, -1.23303074e+03,  1.11064160e+03, -9.89392672e+02,\n",
       "        7.13078496e-03,  2.08738774e+02, -1.68208664e+02])"
      ]
     },
     "execution_count": 71,
     "metadata": {},
     "output_type": "execute_result"
    }
   ],
   "source": [
    "SW_sol_2017"
   ]
  },
  {
   "cell_type": "code",
   "execution_count": 72,
   "id": "4c0cfc6b",
   "metadata": {},
   "outputs": [
    {
     "data": {
      "text/plain": [
       "['S1_countyMean_total_precip',\n",
       " 'S2_countyMean_total_precip',\n",
       " 'S3_countyMean_total_precip',\n",
       " 'S4_countyMean_total_precip',\n",
       " 'S1_countyMean_avg_Tavg',\n",
       " 'S2_countyMean_avg_Tavg',\n",
       " 'S3_countyMean_avg_Tavg',\n",
       " 'S4_countyMean_avg_Tavg',\n",
       " 'rangeland_acre',\n",
       " 'herb_avg']"
      ]
     },
     "execution_count": 72,
     "metadata": {},
     "output_type": "execute_result"
    }
   ],
   "source": [
    "SW_var_cols"
   ]
  },
  {
   "cell_type": "code",
   "execution_count": 73,
   "id": "13178413",
   "metadata": {},
   "outputs": [
    {
     "data": {
      "text/html": [
       "<div>\n",
       "<style scoped>\n",
       "    .dataframe tbody tr th:only-of-type {\n",
       "        vertical-align: middle;\n",
       "    }\n",
       "\n",
       "    .dataframe tbody tr th {\n",
       "        vertical-align: top;\n",
       "    }\n",
       "\n",
       "    .dataframe thead th {\n",
       "        text-align: right;\n",
       "    }\n",
       "</style>\n",
       "<table border=\"1\" class=\"dataframe\">\n",
       "  <thead>\n",
       "    <tr style=\"text-align: right;\">\n",
       "      <th></th>\n",
       "      <th>county_fips</th>\n",
       "      <th>year</th>\n",
       "      <th>S1_countyMean_total_precip</th>\n",
       "      <th>S2_countyMean_total_precip</th>\n",
       "      <th>S3_countyMean_total_precip</th>\n",
       "      <th>S4_countyMean_total_precip</th>\n",
       "      <th>S1_countyMean_avg_Tavg</th>\n",
       "      <th>S2_countyMean_avg_Tavg</th>\n",
       "      <th>S3_countyMean_avg_Tavg</th>\n",
       "      <th>S4_countyMean_avg_Tavg</th>\n",
       "      <th>rangeland_acre</th>\n",
       "      <th>county_area_acre</th>\n",
       "      <th>rangeland_fraction</th>\n",
       "      <th>cattle_cow_beef_inventory</th>\n",
       "      <th>herb_avg</th>\n",
       "      <th>herb_std</th>\n",
       "      <th>pixel_count</th>\n",
       "    </tr>\n",
       "  </thead>\n",
       "  <tbody>\n",
       "    <tr>\n",
       "      <th>0</th>\n",
       "      <td>01055</td>\n",
       "      <td>2002</td>\n",
       "      <td>384.081</td>\n",
       "      <td>381.902</td>\n",
       "      <td>297.505</td>\n",
       "      <td>444.936</td>\n",
       "      <td>8.504456</td>\n",
       "      <td>22.419525</td>\n",
       "      <td>25.522639</td>\n",
       "      <td>11.011326</td>\n",
       "      <td>57.60</td>\n",
       "      <td>352368.00</td>\n",
       "      <td>0.000163</td>\n",
       "      <td>12020.0</td>\n",
       "      <td>29.333333</td>\n",
       "      <td>32.293790</td>\n",
       "      <td>3.0</td>\n",
       "    </tr>\n",
       "    <tr>\n",
       "      <th>1</th>\n",
       "      <td>01129</td>\n",
       "      <td>2002</td>\n",
       "      <td>363.117</td>\n",
       "      <td>419.090</td>\n",
       "      <td>391.772</td>\n",
       "      <td>572.797</td>\n",
       "      <td>11.222078</td>\n",
       "      <td>24.012369</td>\n",
       "      <td>26.272246</td>\n",
       "      <td>14.197446</td>\n",
       "      <td>95.62</td>\n",
       "      <td>697429.12</td>\n",
       "      <td>0.000137</td>\n",
       "      <td>5364.0</td>\n",
       "      <td>13.133851</td>\n",
       "      <td>15.783407</td>\n",
       "      <td>1158.0</td>\n",
       "    </tr>\n",
       "  </tbody>\n",
       "</table>\n",
       "</div>"
      ],
      "text/plain": [
       "  county_fips  year  S1_countyMean_total_precip  S2_countyMean_total_precip   \n",
       "0       01055  2002                     384.081                     381.902  \\\n",
       "1       01129  2002                     363.117                     419.090   \n",
       "\n",
       "   S3_countyMean_total_precip  S4_countyMean_total_precip   \n",
       "0                     297.505                     444.936  \\\n",
       "1                     391.772                     572.797   \n",
       "\n",
       "   S1_countyMean_avg_Tavg  S2_countyMean_avg_Tavg  S3_countyMean_avg_Tavg   \n",
       "0                8.504456               22.419525               25.522639  \\\n",
       "1               11.222078               24.012369               26.272246   \n",
       "\n",
       "   S4_countyMean_avg_Tavg  rangeland_acre  county_area_acre   \n",
       "0               11.011326           57.60         352368.00  \\\n",
       "1               14.197446           95.62         697429.12   \n",
       "\n",
       "   rangeland_fraction  cattle_cow_beef_inventory   herb_avg   herb_std   \n",
       "0            0.000163                    12020.0  29.333333  32.293790  \\\n",
       "1            0.000137                     5364.0  13.133851  15.783407   \n",
       "\n",
       "   pixel_count  \n",
       "0          3.0  \n",
       "1       1158.0  "
      ]
     },
     "execution_count": 73,
     "metadata": {},
     "output_type": "execute_result"
    }
   ],
   "source": [
    "county_annual_SW_Ra_cattleInv.head(2)"
   ]
  },
  {
   "cell_type": "code",
   "execution_count": 74,
   "id": "c1286920",
   "metadata": {},
   "outputs": [
    {
     "data": {
      "text/html": [
       "<div>\n",
       "<style scoped>\n",
       "    .dataframe tbody tr th:only-of-type {\n",
       "        vertical-align: middle;\n",
       "    }\n",
       "\n",
       "    .dataframe tbody tr th {\n",
       "        vertical-align: top;\n",
       "    }\n",
       "\n",
       "    .dataframe thead th {\n",
       "        text-align: right;\n",
       "    }\n",
       "</style>\n",
       "<table border=\"1\" class=\"dataframe\">\n",
       "  <thead>\n",
       "    <tr style=\"text-align: right;\">\n",
       "      <th></th>\n",
       "      <th>year</th>\n",
       "      <th>county_fips</th>\n",
       "      <th>rangeland_acre</th>\n",
       "      <th>county_area_acre</th>\n",
       "      <th>rangeland_fraction</th>\n",
       "      <th>county_rangeland_npp</th>\n",
       "      <th>cattle_cow_beef_inventory</th>\n",
       "      <th>herb_avg</th>\n",
       "      <th>herb_std</th>\n",
       "      <th>pixel_count</th>\n",
       "    </tr>\n",
       "  </thead>\n",
       "  <tbody>\n",
       "    <tr>\n",
       "      <th>0</th>\n",
       "      <td>2002</td>\n",
       "      <td>01055</td>\n",
       "      <td>57.60</td>\n",
       "      <td>352368.00</td>\n",
       "      <td>0.000163</td>\n",
       "      <td>130631.174115</td>\n",
       "      <td>12020.0</td>\n",
       "      <td>29.333333</td>\n",
       "      <td>32.293790</td>\n",
       "      <td>3.0</td>\n",
       "    </tr>\n",
       "    <tr>\n",
       "      <th>1</th>\n",
       "      <td>2002</td>\n",
       "      <td>01129</td>\n",
       "      <td>95.62</td>\n",
       "      <td>697429.12</td>\n",
       "      <td>0.000137</td>\n",
       "      <td>206902.523895</td>\n",
       "      <td>5364.0</td>\n",
       "      <td>13.133851</td>\n",
       "      <td>15.783407</td>\n",
       "      <td>1158.0</td>\n",
       "    </tr>\n",
       "  </tbody>\n",
       "</table>\n",
       "</div>"
      ],
      "text/plain": [
       "   year county_fips  rangeland_acre  county_area_acre  rangeland_fraction   \n",
       "0  2002       01055           57.60         352368.00            0.000163  \\\n",
       "1  2002       01129           95.62         697429.12            0.000137   \n",
       "\n",
       "   county_rangeland_npp  cattle_cow_beef_inventory   herb_avg   herb_std   \n",
       "0         130631.174115                    12020.0  29.333333  32.293790  \\\n",
       "1         206902.523895                     5364.0  13.133851  15.783407   \n",
       "\n",
       "   pixel_count  \n",
       "0          3.0  \n",
       "1       1158.0  "
      ]
     },
     "execution_count": 74,
     "metadata": {},
     "output_type": "execute_result"
    }
   ],
   "source": [
    "county_annual_NPP_Ra_cattleInv.head(2)"
   ]
  },
  {
   "cell_type": "code",
   "execution_count": 75,
   "id": "757b7174",
   "metadata": {},
   "outputs": [
    {
     "name": "stdout",
     "output_type": "stream",
     "text": [
      "(2708, 10)\n",
      "(2708, 17)\n"
     ]
    }
   ],
   "source": [
    "print (county_annual_NPP_Ra_cattleInv.shape)\n",
    "print (county_annual_SW_Ra_cattleInv.shape)"
   ]
  },
  {
   "cell_type": "code",
   "execution_count": 76,
   "id": "c0605bf5",
   "metadata": {},
   "outputs": [
    {
     "data": {
      "text/plain": [
       "Index(['year', 'county_fips', 'rangeland_acre', 'county_area_acre',\n",
       "       'rangeland_fraction', 'county_rangeland_npp',\n",
       "       'cattle_cow_beef_inventory', 'herb_avg', 'herb_std', 'pixel_count'],\n",
       "      dtype='object')"
      ]
     },
     "execution_count": 76,
     "metadata": {},
     "output_type": "execute_result"
    }
   ],
   "source": [
    "county_annual_NPP_Ra_cattleInv.columns"
   ]
  },
  {
   "cell_type": "code",
   "execution_count": 77,
   "id": "1c2d1518",
   "metadata": {},
   "outputs": [
    {
     "data": {
      "text/plain": [
       "Index(['county_fips', 'year', 'S1_countyMean_total_precip',\n",
       "       'S2_countyMean_total_precip', 'S3_countyMean_total_precip',\n",
       "       'S4_countyMean_total_precip', 'S1_countyMean_avg_Tavg',\n",
       "       'S2_countyMean_avg_Tavg', 'S3_countyMean_avg_Tavg',\n",
       "       'S4_countyMean_avg_Tavg', 'rangeland_acre', 'county_area_acre',\n",
       "       'rangeland_fraction', 'cattle_cow_beef_inventory', 'herb_avg',\n",
       "       'herb_std', 'pixel_count'],\n",
       "      dtype='object')"
      ]
     },
     "execution_count": 77,
     "metadata": {},
     "output_type": "execute_result"
    }
   ],
   "source": [
    "county_annual_SW_Ra_cattleInv.columns"
   ]
  },
  {
   "cell_type": "code",
   "execution_count": 78,
   "id": "e8ea3e15",
   "metadata": {},
   "outputs": [],
   "source": [
    "NPP_needed_cols = ['year', 'county_fips', \"county_rangeland_npp\", 'rangeland_acre',\n",
    "                   'county_area_acre', 'rangeland_fraction', inv_col_]\n",
    "\n",
    "SW_needed_cols = ['year', 'county_fips',\n",
    "                  'S1_countyMean_total_precip', 'S2_countyMean_total_precip', \n",
    "                  'S3_countyMean_total_precip', 'S4_countyMean_total_precip', \n",
    "                  \n",
    "                  'S1_countyMean_avg_Tavg', 'S2_countyMean_avg_Tavg', \n",
    "                  'S3_countyMean_avg_Tavg', 'S4_countyMean_avg_Tavg']"
   ]
  },
  {
   "cell_type": "code",
   "execution_count": 79,
   "id": "73dc31cf",
   "metadata": {},
   "outputs": [
    {
     "data": {
      "text/html": [
       "<div>\n",
       "<style scoped>\n",
       "    .dataframe tbody tr th:only-of-type {\n",
       "        vertical-align: middle;\n",
       "    }\n",
       "\n",
       "    .dataframe tbody tr th {\n",
       "        vertical-align: top;\n",
       "    }\n",
       "\n",
       "    .dataframe thead th {\n",
       "        text-align: right;\n",
       "    }\n",
       "</style>\n",
       "<table border=\"1\" class=\"dataframe\">\n",
       "  <thead>\n",
       "    <tr style=\"text-align: right;\">\n",
       "      <th></th>\n",
       "      <th>year</th>\n",
       "      <th>county_fips</th>\n",
       "      <th>S1_countyMean_total_precip</th>\n",
       "      <th>S2_countyMean_total_precip</th>\n",
       "      <th>S3_countyMean_total_precip</th>\n",
       "      <th>S4_countyMean_total_precip</th>\n",
       "      <th>S1_countyMean_avg_Tavg</th>\n",
       "      <th>S2_countyMean_avg_Tavg</th>\n",
       "      <th>S3_countyMean_avg_Tavg</th>\n",
       "      <th>S4_countyMean_avg_Tavg</th>\n",
       "    </tr>\n",
       "  </thead>\n",
       "  <tbody>\n",
       "    <tr>\n",
       "      <th>0</th>\n",
       "      <td>2002</td>\n",
       "      <td>01055</td>\n",
       "      <td>384.081</td>\n",
       "      <td>381.902</td>\n",
       "      <td>297.505</td>\n",
       "      <td>444.936</td>\n",
       "      <td>8.504456</td>\n",
       "      <td>22.419525</td>\n",
       "      <td>25.522639</td>\n",
       "      <td>11.011326</td>\n",
       "    </tr>\n",
       "    <tr>\n",
       "      <th>1</th>\n",
       "      <td>2002</td>\n",
       "      <td>01129</td>\n",
       "      <td>363.117</td>\n",
       "      <td>419.090</td>\n",
       "      <td>391.772</td>\n",
       "      <td>572.797</td>\n",
       "      <td>11.222078</td>\n",
       "      <td>24.012369</td>\n",
       "      <td>26.272246</td>\n",
       "      <td>14.197446</td>\n",
       "    </tr>\n",
       "  </tbody>\n",
       "</table>\n",
       "</div>"
      ],
      "text/plain": [
       "   year county_fips  S1_countyMean_total_precip  S2_countyMean_total_precip   \n",
       "0  2002       01055                     384.081                     381.902  \\\n",
       "1  2002       01129                     363.117                     419.090   \n",
       "\n",
       "   S3_countyMean_total_precip  S4_countyMean_total_precip   \n",
       "0                     297.505                     444.936  \\\n",
       "1                     391.772                     572.797   \n",
       "\n",
       "   S1_countyMean_avg_Tavg  S2_countyMean_avg_Tavg  S3_countyMean_avg_Tavg   \n",
       "0                8.504456               22.419525               25.522639  \\\n",
       "1               11.222078               24.012369               26.272246   \n",
       "\n",
       "   S4_countyMean_avg_Tavg  \n",
       "0               11.011326  \n",
       "1               14.197446  "
      ]
     },
     "execution_count": 79,
     "metadata": {},
     "output_type": "execute_result"
    }
   ],
   "source": [
    "county_annual_SW_Ra_cattleInv[SW_needed_cols].head(2)"
   ]
  },
  {
   "cell_type": "code",
   "execution_count": 80,
   "id": "03b20aa3",
   "metadata": {},
   "outputs": [
    {
     "data": {
      "text/html": [
       "<div>\n",
       "<style scoped>\n",
       "    .dataframe tbody tr th:only-of-type {\n",
       "        vertical-align: middle;\n",
       "    }\n",
       "\n",
       "    .dataframe tbody tr th {\n",
       "        vertical-align: top;\n",
       "    }\n",
       "\n",
       "    .dataframe thead th {\n",
       "        text-align: right;\n",
       "    }\n",
       "</style>\n",
       "<table border=\"1\" class=\"dataframe\">\n",
       "  <thead>\n",
       "    <tr style=\"text-align: right;\">\n",
       "      <th></th>\n",
       "      <th>year</th>\n",
       "      <th>county_fips</th>\n",
       "      <th>county_rangeland_npp</th>\n",
       "      <th>rangeland_acre</th>\n",
       "      <th>county_area_acre</th>\n",
       "      <th>rangeland_fraction</th>\n",
       "      <th>cattle_cow_beef_inventory</th>\n",
       "    </tr>\n",
       "  </thead>\n",
       "  <tbody>\n",
       "    <tr>\n",
       "      <th>0</th>\n",
       "      <td>2002</td>\n",
       "      <td>01055</td>\n",
       "      <td>130631.174115</td>\n",
       "      <td>57.60</td>\n",
       "      <td>352368.00</td>\n",
       "      <td>0.000163</td>\n",
       "      <td>12020.0</td>\n",
       "    </tr>\n",
       "    <tr>\n",
       "      <th>1</th>\n",
       "      <td>2002</td>\n",
       "      <td>01129</td>\n",
       "      <td>206902.523895</td>\n",
       "      <td>95.62</td>\n",
       "      <td>697429.12</td>\n",
       "      <td>0.000137</td>\n",
       "      <td>5364.0</td>\n",
       "    </tr>\n",
       "  </tbody>\n",
       "</table>\n",
       "</div>"
      ],
      "text/plain": [
       "   year county_fips  county_rangeland_npp  rangeland_acre  county_area_acre   \n",
       "0  2002       01055         130631.174115           57.60         352368.00  \\\n",
       "1  2002       01129         206902.523895           95.62         697429.12   \n",
       "\n",
       "   rangeland_fraction  cattle_cow_beef_inventory  \n",
       "0            0.000163                    12020.0  \n",
       "1            0.000137                     5364.0  "
      ]
     },
     "execution_count": 80,
     "metadata": {},
     "output_type": "execute_result"
    }
   ],
   "source": [
    "county_annual_NPP_Ra_cattleInv[NPP_needed_cols].head(2)"
   ]
  },
  {
   "cell_type": "code",
   "execution_count": 81,
   "id": "3d6de9f5",
   "metadata": {},
   "outputs": [
    {
     "data": {
      "text/html": [
       "<div>\n",
       "<style scoped>\n",
       "    .dataframe tbody tr th:only-of-type {\n",
       "        vertical-align: middle;\n",
       "    }\n",
       "\n",
       "    .dataframe tbody tr th {\n",
       "        vertical-align: top;\n",
       "    }\n",
       "\n",
       "    .dataframe thead th {\n",
       "        text-align: right;\n",
       "    }\n",
       "</style>\n",
       "<table border=\"1\" class=\"dataframe\">\n",
       "  <thead>\n",
       "    <tr style=\"text-align: right;\">\n",
       "      <th></th>\n",
       "      <th>year</th>\n",
       "      <th>county_fips</th>\n",
       "      <th>county_rangeland_npp</th>\n",
       "      <th>rangeland_acre</th>\n",
       "      <th>county_area_acre</th>\n",
       "      <th>rangeland_fraction</th>\n",
       "      <th>cattle_cow_beef_inventory</th>\n",
       "      <th>S1_countyMean_total_precip</th>\n",
       "      <th>S2_countyMean_total_precip</th>\n",
       "      <th>S3_countyMean_total_precip</th>\n",
       "      <th>S4_countyMean_total_precip</th>\n",
       "      <th>S1_countyMean_avg_Tavg</th>\n",
       "      <th>S2_countyMean_avg_Tavg</th>\n",
       "      <th>S3_countyMean_avg_Tavg</th>\n",
       "      <th>S4_countyMean_avg_Tavg</th>\n",
       "      <th>herb_avg</th>\n",
       "      <th>herb_std</th>\n",
       "      <th>pixel_count</th>\n",
       "    </tr>\n",
       "  </thead>\n",
       "  <tbody>\n",
       "    <tr>\n",
       "      <th>0</th>\n",
       "      <td>2002</td>\n",
       "      <td>01055</td>\n",
       "      <td>130631.174115</td>\n",
       "      <td>57.60</td>\n",
       "      <td>352368.00</td>\n",
       "      <td>0.000163</td>\n",
       "      <td>12020.0</td>\n",
       "      <td>384.081</td>\n",
       "      <td>381.902</td>\n",
       "      <td>297.505</td>\n",
       "      <td>444.936</td>\n",
       "      <td>8.504456</td>\n",
       "      <td>22.419525</td>\n",
       "      <td>25.522639</td>\n",
       "      <td>11.011326</td>\n",
       "      <td>29.333333</td>\n",
       "      <td>32.293790</td>\n",
       "      <td>3.0</td>\n",
       "    </tr>\n",
       "    <tr>\n",
       "      <th>1</th>\n",
       "      <td>2002</td>\n",
       "      <td>01129</td>\n",
       "      <td>206902.523895</td>\n",
       "      <td>95.62</td>\n",
       "      <td>697429.12</td>\n",
       "      <td>0.000137</td>\n",
       "      <td>5364.0</td>\n",
       "      <td>363.117</td>\n",
       "      <td>419.090</td>\n",
       "      <td>391.772</td>\n",
       "      <td>572.797</td>\n",
       "      <td>11.222078</td>\n",
       "      <td>24.012369</td>\n",
       "      <td>26.272246</td>\n",
       "      <td>14.197446</td>\n",
       "      <td>13.133851</td>\n",
       "      <td>15.783407</td>\n",
       "      <td>1158.0</td>\n",
       "    </tr>\n",
       "  </tbody>\n",
       "</table>\n",
       "</div>"
      ],
      "text/plain": [
       "   year county_fips  county_rangeland_npp  rangeland_acre  county_area_acre   \n",
       "0  2002       01055         130631.174115           57.60         352368.00  \\\n",
       "1  2002       01129         206902.523895           95.62         697429.12   \n",
       "\n",
       "   rangeland_fraction  cattle_cow_beef_inventory  S1_countyMean_total_precip   \n",
       "0            0.000163                    12020.0                     384.081  \\\n",
       "1            0.000137                     5364.0                     363.117   \n",
       "\n",
       "   S2_countyMean_total_precip  S3_countyMean_total_precip   \n",
       "0                     381.902                     297.505  \\\n",
       "1                     419.090                     391.772   \n",
       "\n",
       "   S4_countyMean_total_precip  S1_countyMean_avg_Tavg  S2_countyMean_avg_Tavg   \n",
       "0                     444.936                8.504456               22.419525  \\\n",
       "1                     572.797               11.222078               24.012369   \n",
       "\n",
       "   S3_countyMean_avg_Tavg  S4_countyMean_avg_Tavg   herb_avg   herb_std   \n",
       "0               25.522639               11.011326  29.333333  32.293790  \\\n",
       "1               26.272246               14.197446  13.133851  15.783407   \n",
       "\n",
       "   pixel_count  \n",
       "0          3.0  \n",
       "1       1158.0  "
      ]
     },
     "execution_count": 81,
     "metadata": {},
     "output_type": "execute_result"
    }
   ],
   "source": [
    "cnty_ann_SW_NPP_Ra = pd.merge(county_annual_NPP_Ra_cattleInv[NPP_needed_cols], \n",
    "                              county_annual_SW_Ra_cattleInv[SW_needed_cols],\n",
    "                              on=[\"year\", \"county_fips\"], how=\"left\")\n",
    "\n",
    "cnty_ann_SW_NPP_Ra = pd.merge(cnty_ann_SW_NPP_Ra, herbRatio,\n",
    "                              on=[\"county_fips\"], how=\"left\")\n",
    "cnty_ann_SW_NPP_Ra.head(2)"
   ]
  },
  {
   "cell_type": "markdown",
   "id": "6e20f404",
   "metadata": {},
   "source": [
    "### we had dropped modis_npp column to avoid mistake. Let's add it back in, before saving data:"
   ]
  },
  {
   "cell_type": "code",
   "execution_count": 82,
   "id": "4b03e266",
   "metadata": {},
   "outputs": [
    {
     "data": {
      "text/html": [
       "<div>\n",
       "<style scoped>\n",
       "    .dataframe tbody tr th:only-of-type {\n",
       "        vertical-align: middle;\n",
       "    }\n",
       "\n",
       "    .dataframe tbody tr th {\n",
       "        vertical-align: top;\n",
       "    }\n",
       "\n",
       "    .dataframe thead th {\n",
       "        text-align: right;\n",
       "    }\n",
       "</style>\n",
       "<table border=\"1\" class=\"dataframe\">\n",
       "  <thead>\n",
       "    <tr style=\"text-align: right;\">\n",
       "      <th></th>\n",
       "      <th>year</th>\n",
       "      <th>county_fips</th>\n",
       "      <th>county_rangeland_npp</th>\n",
       "      <th>rangeland_acre</th>\n",
       "      <th>county_area_acre</th>\n",
       "      <th>rangeland_fraction</th>\n",
       "      <th>cattle_cow_beef_inventory</th>\n",
       "      <th>S1_countyMean_total_precip</th>\n",
       "      <th>S2_countyMean_total_precip</th>\n",
       "      <th>S3_countyMean_total_precip</th>\n",
       "      <th>S4_countyMean_total_precip</th>\n",
       "      <th>S1_countyMean_avg_Tavg</th>\n",
       "      <th>S2_countyMean_avg_Tavg</th>\n",
       "      <th>S3_countyMean_avg_Tavg</th>\n",
       "      <th>S4_countyMean_avg_Tavg</th>\n",
       "      <th>herb_avg</th>\n",
       "      <th>herb_std</th>\n",
       "      <th>pixel_count</th>\n",
       "      <th>modis_npp</th>\n",
       "    </tr>\n",
       "  </thead>\n",
       "  <tbody>\n",
       "    <tr>\n",
       "      <th>0</th>\n",
       "      <td>2002</td>\n",
       "      <td>01055</td>\n",
       "      <td>130631.174115</td>\n",
       "      <td>57.60</td>\n",
       "      <td>352368.00</td>\n",
       "      <td>0.000163</td>\n",
       "      <td>12020.0</td>\n",
       "      <td>384.081</td>\n",
       "      <td>381.902</td>\n",
       "      <td>297.505</td>\n",
       "      <td>444.936</td>\n",
       "      <td>8.504456</td>\n",
       "      <td>22.419525</td>\n",
       "      <td>25.522639</td>\n",
       "      <td>11.011326</td>\n",
       "      <td>29.333333</td>\n",
       "      <td>32.293790</td>\n",
       "      <td>3.0</td>\n",
       "      <td>0.560410</td>\n",
       "    </tr>\n",
       "    <tr>\n",
       "      <th>1</th>\n",
       "      <td>2002</td>\n",
       "      <td>01129</td>\n",
       "      <td>206902.523895</td>\n",
       "      <td>95.62</td>\n",
       "      <td>697429.12</td>\n",
       "      <td>0.000137</td>\n",
       "      <td>5364.0</td>\n",
       "      <td>363.117</td>\n",
       "      <td>419.090</td>\n",
       "      <td>391.772</td>\n",
       "      <td>572.797</td>\n",
       "      <td>11.222078</td>\n",
       "      <td>24.012369</td>\n",
       "      <td>26.272246</td>\n",
       "      <td>14.197446</td>\n",
       "      <td>13.133851</td>\n",
       "      <td>15.783407</td>\n",
       "      <td>1158.0</td>\n",
       "      <td>0.534686</td>\n",
       "    </tr>\n",
       "  </tbody>\n",
       "</table>\n",
       "</div>"
      ],
      "text/plain": [
       "   year county_fips  county_rangeland_npp  rangeland_acre  county_area_acre   \n",
       "0  2002       01055         130631.174115           57.60         352368.00  \\\n",
       "1  2002       01129         206902.523895           95.62         697429.12   \n",
       "\n",
       "   rangeland_fraction  cattle_cow_beef_inventory  S1_countyMean_total_precip   \n",
       "0            0.000163                    12020.0                     384.081  \\\n",
       "1            0.000137                     5364.0                     363.117   \n",
       "\n",
       "   S2_countyMean_total_precip  S3_countyMean_total_precip   \n",
       "0                     381.902                     297.505  \\\n",
       "1                     419.090                     391.772   \n",
       "\n",
       "   S4_countyMean_total_precip  S1_countyMean_avg_Tavg  S2_countyMean_avg_Tavg   \n",
       "0                     444.936                8.504456               22.419525  \\\n",
       "1                     572.797               11.222078               24.012369   \n",
       "\n",
       "   S3_countyMean_avg_Tavg  S4_countyMean_avg_Tavg   herb_avg   herb_std   \n",
       "0               25.522639               11.011326  29.333333  32.293790  \\\n",
       "1               26.272246               14.197446  13.133851  15.783407   \n",
       "\n",
       "   pixel_count  modis_npp  \n",
       "0          3.0   0.560410  \n",
       "1       1158.0   0.534686  "
      ]
     },
     "execution_count": 82,
     "metadata": {},
     "output_type": "execute_result"
    }
   ],
   "source": [
    "A = pd.read_csv(Min_data_base + \"county_annual_MODIS_NPP.csv\")\n",
    "A.rename(columns={\"NPP\": \"modis_npp\"}, inplace=True)\n",
    "\n",
    "A = rc.correct_Mins_FIPS(df=A, col_=\"county\")\n",
    "A.rename(columns={\"county\": \"county_fips\"}, inplace=True)\n",
    "\n",
    "cnty_ann_SW_NPP_Ra = pd.merge(cnty_ann_SW_NPP_Ra, A, on=[\"county_fips\", \"year\"], how=\"left\")\n",
    "cnty_ann_SW_NPP_Ra.head(2)"
   ]
  },
  {
   "cell_type": "code",
   "execution_count": 83,
   "id": "a94511f0",
   "metadata": {},
   "outputs": [],
   "source": [
    "filename = reOrganized_dir + \"cntyNPP_SW_herb_catt_cowBeefInvt_CommonCntyYear.sav\"\n",
    "\n",
    "export_ = {\"cnty_ann_SW_NPP_Ra\": cnty_ann_SW_NPP_Ra, \n",
    "           \"source_code\" : \"SW_CountyNPP_Ra_herb_Model\",\n",
    "           \"Author\": \"HN\",\n",
    "           \"Date\" : datetime.now().strftime('%Y-%m-%d %H:%M:%S')}\n",
    "\n",
    "pickle.dump(export_, open(filename, 'wb'))"
   ]
  },
  {
   "cell_type": "code",
   "execution_count": 84,
   "id": "4767fbc1",
   "metadata": {},
   "outputs": [],
   "source": [
    "# cnty_ann_SW_NPP_Ra.modis_npp.plot(kind='density');"
   ]
  },
  {
   "cell_type": "code",
   "execution_count": 85,
   "id": "ee174f9b",
   "metadata": {},
   "outputs": [],
   "source": [
    "# plt.hist(cnty_ann_SW_NPP_Ra.modis_npp, bins=200);"
   ]
  },
  {
   "cell_type": "code",
   "execution_count": 86,
   "id": "5fd60a80",
   "metadata": {},
   "outputs": [
    {
     "data": {
      "text/html": [
       "<div>\n",
       "<style scoped>\n",
       "    .dataframe tbody tr th:only-of-type {\n",
       "        vertical-align: middle;\n",
       "    }\n",
       "\n",
       "    .dataframe tbody tr th {\n",
       "        vertical-align: top;\n",
       "    }\n",
       "\n",
       "    .dataframe thead th {\n",
       "        text-align: right;\n",
       "    }\n",
       "</style>\n",
       "<table border=\"1\" class=\"dataframe\">\n",
       "  <thead>\n",
       "    <tr style=\"text-align: right;\">\n",
       "      <th></th>\n",
       "      <th>year</th>\n",
       "      <th>county_fips</th>\n",
       "      <th>county_rangeland_npp</th>\n",
       "      <th>rangeland_acre</th>\n",
       "      <th>county_area_acre</th>\n",
       "      <th>rangeland_fraction</th>\n",
       "      <th>cattle_cow_beef_inventory</th>\n",
       "      <th>S1_countyMean_total_precip</th>\n",
       "      <th>S2_countyMean_total_precip</th>\n",
       "      <th>S3_countyMean_total_precip</th>\n",
       "      <th>S4_countyMean_total_precip</th>\n",
       "      <th>S1_countyMean_avg_Tavg</th>\n",
       "      <th>S2_countyMean_avg_Tavg</th>\n",
       "      <th>S3_countyMean_avg_Tavg</th>\n",
       "      <th>S4_countyMean_avg_Tavg</th>\n",
       "      <th>herb_avg</th>\n",
       "      <th>herb_std</th>\n",
       "      <th>pixel_count</th>\n",
       "      <th>modis_npp</th>\n",
       "    </tr>\n",
       "  </thead>\n",
       "  <tbody>\n",
       "    <tr>\n",
       "      <th>0</th>\n",
       "      <td>2002</td>\n",
       "      <td>01055</td>\n",
       "      <td>130631.174115</td>\n",
       "      <td>57.60</td>\n",
       "      <td>352368.00</td>\n",
       "      <td>0.000163</td>\n",
       "      <td>12020.0</td>\n",
       "      <td>384.081</td>\n",
       "      <td>381.902</td>\n",
       "      <td>297.505</td>\n",
       "      <td>444.936</td>\n",
       "      <td>8.504456</td>\n",
       "      <td>22.419525</td>\n",
       "      <td>25.522639</td>\n",
       "      <td>11.011326</td>\n",
       "      <td>29.333333</td>\n",
       "      <td>32.293790</td>\n",
       "      <td>3.0</td>\n",
       "      <td>0.560410</td>\n",
       "    </tr>\n",
       "    <tr>\n",
       "      <th>1</th>\n",
       "      <td>2002</td>\n",
       "      <td>01129</td>\n",
       "      <td>206902.523895</td>\n",
       "      <td>95.62</td>\n",
       "      <td>697429.12</td>\n",
       "      <td>0.000137</td>\n",
       "      <td>5364.0</td>\n",
       "      <td>363.117</td>\n",
       "      <td>419.090</td>\n",
       "      <td>391.772</td>\n",
       "      <td>572.797</td>\n",
       "      <td>11.222078</td>\n",
       "      <td>24.012369</td>\n",
       "      <td>26.272246</td>\n",
       "      <td>14.197446</td>\n",
       "      <td>13.133851</td>\n",
       "      <td>15.783407</td>\n",
       "      <td>1158.0</td>\n",
       "      <td>0.534686</td>\n",
       "    </tr>\n",
       "  </tbody>\n",
       "</table>\n",
       "</div>"
      ],
      "text/plain": [
       "   year county_fips  county_rangeland_npp  rangeland_acre  county_area_acre   \n",
       "0  2002       01055         130631.174115           57.60         352368.00  \\\n",
       "1  2002       01129         206902.523895           95.62         697429.12   \n",
       "\n",
       "   rangeland_fraction  cattle_cow_beef_inventory  S1_countyMean_total_precip   \n",
       "0            0.000163                    12020.0                     384.081  \\\n",
       "1            0.000137                     5364.0                     363.117   \n",
       "\n",
       "   S2_countyMean_total_precip  S3_countyMean_total_precip   \n",
       "0                     381.902                     297.505  \\\n",
       "1                     419.090                     391.772   \n",
       "\n",
       "   S4_countyMean_total_precip  S1_countyMean_avg_Tavg  S2_countyMean_avg_Tavg   \n",
       "0                     444.936                8.504456               22.419525  \\\n",
       "1                     572.797               11.222078               24.012369   \n",
       "\n",
       "   S3_countyMean_avg_Tavg  S4_countyMean_avg_Tavg   herb_avg   herb_std   \n",
       "0               25.522639               11.011326  29.333333  32.293790  \\\n",
       "1               26.272246               14.197446  13.133851  15.783407   \n",
       "\n",
       "   pixel_count  modis_npp  \n",
       "0          3.0   0.560410  \n",
       "1       1158.0   0.534686  "
      ]
     },
     "execution_count": 86,
     "metadata": {},
     "output_type": "execute_result"
    }
   ],
   "source": [
    "cnty_ann_SW_NPP_Ra.head(2)"
   ]
  },
  {
   "cell_type": "code",
   "execution_count": 87,
   "id": "03ade66e",
   "metadata": {},
   "outputs": [
    {
     "data": {
      "image/png": "[encoded data removed]",
      "text/plain": [
       "<Figure size 1000x300 with 1 Axes>"
      ]
     },
     "metadata": {},
     "output_type": "display_data"
    }
   ],
   "source": [
    "fig, axes = plt.subplots(1, 1, figsize=(10, 3), sharey=False, sharex=False)\n",
    "axes.grid(axis='y', which='both');\n",
    "sns.histplot(data=cnty_ann_SW_NPP_Ra.rangeland_acre, kde=True, bins=200, color = 'darkblue', ax=axes);"
   ]
  },
  {
   "cell_type": "code",
   "execution_count": 88,
   "id": "aa26ccab",
   "metadata": {},
   "outputs": [
    {
     "data": {
      "image/png": "[encoded data removed]",
      "text/plain": [
       "<Figure size 1000x700 with 2 Axes>"
      ]
     },
     "metadata": {},
     "output_type": "display_data"
    }
   ],
   "source": [
    "fig, axes = plt.subplots(2, 1, figsize=(10, 7), sharey=False, sharex=False)\n",
    "(ax1, ax2) = axes;\n",
    "ax1.grid(axis='y', which='both'); ax2.grid(axis='y', which='both')\n",
    "\n",
    "sns.histplot(data=cnty_ann_SW_NPP_Ra.county_rangeland_npp, kde=True, bins=200, color = 'darkblue', ax=ax1);\n",
    "\n",
    "A = cnty_ann_SW_NPP_Ra[cnty_ann_SW_NPP_Ra.county_rangeland_npp < 200000]\n",
    "sns.histplot(data=A.county_rangeland_npp, kde=True, bins=200, color = 'darkblue', ax=ax2);\n",
    "\n",
    "ax1.set_xlabel(\"\");"
   ]
  },
  {
   "cell_type": "code",
   "execution_count": 89,
   "id": "07909db3",
   "metadata": {},
   "outputs": [
    {
     "data": {
      "image/png": "[encoded data removed]",
      "text/plain": [
       "<Figure size 1000x200 with 1 Axes>"
      ]
     },
     "metadata": {},
     "output_type": "display_data"
    }
   ],
   "source": [
    "fig, axes = plt.subplots(1, 1, figsize=(10, 2), sharey=False, sharex=False)\n",
    "axes.grid(axis='y', which='both'); ax2.grid(axis='y', which='both')\n",
    "sns.histplot(data=cnty_ann_SW_NPP_Ra[inv_col_], kde=True, bins=200, color = 'darkblue', ax=axes);"
   ]
  },
  {
   "cell_type": "code",
   "execution_count": 90,
   "id": "3c9a1571",
   "metadata": {},
   "outputs": [],
   "source": [
    "tick_legend_FontSize = 8\n",
    "\n",
    "params = {'legend.fontsize': tick_legend_FontSize, # medium, large\n",
    "          # 'figure.figsize': (6, 4),\n",
    "          'axes.labelsize': tick_legend_FontSize*1.5,\n",
    "          'axes.titlesize': tick_legend_FontSize*1.3,\n",
    "          'xtick.labelsize': tick_legend_FontSize*1.1, #  * 0.75\n",
    "          'ytick.labelsize': tick_legend_FontSize*1.1, #  * 0.75\n",
    "          'axes.titlepad': 10}\n",
    "\n",
    "plt.rc('font', family = 'Palatino')\n",
    "plt.rcParams['xtick.bottom'] = True\n",
    "plt.rcParams['ytick.left'] = True\n",
    "plt.rcParams['xtick.labelbottom'] = True\n",
    "plt.rcParams['ytick.labelleft'] = True\n",
    "plt.rcParams.update(params)"
   ]
  },
  {
   "cell_type": "code",
   "execution_count": 91,
   "id": "351d12bd",
   "metadata": {},
   "outputs": [
    {
     "data": {
      "image/png": "[encoded data removed]",
      "text/plain": [
       "<Figure size 400x400 with 1 Axes>"
      ]
     },
     "metadata": {},
     "output_type": "display_data"
    }
   ],
   "source": [
    "fig, axes = plt.subplots(1, 1, figsize=(4, 4), sharey=True)\n",
    "axes.grid(axis='y', which='both');\n",
    "axes.scatter(cnty_ann_SW_NPP_Ra.county_rangeland_npp, cnty_ann_SW_NPP_Ra[inv_col_], s = 5)\n",
    "\n",
    "axes.set_xlabel(\"NPP\");\n",
    "axes.set_ylabel(\"cow inventory\");\n",
    "plt.show()"
   ]
  },
  {
   "cell_type": "code",
   "execution_count": 92,
   "id": "73f118e4",
   "metadata": {},
   "outputs": [
    {
     "data": {
      "image/png": "[encoded data removed]",
      "text/plain": [
       "<Figure size 800x400 with 2 Axes>"
      ]
     },
     "metadata": {},
     "output_type": "display_data"
    }
   ],
   "source": [
    "fig, axes = plt.subplots(1, 2, figsize=(8, 4), sharey=False)\n",
    "(ax1, ax2) = axes;\n",
    "ax1.grid(axis='y', which='both'); \n",
    "ax2.grid(axis='y', which='both');\n",
    "#############\n",
    "ax1.scatter(cnty_ann_SW_NPP_Ra.rangeland_acre, cnty_ann_SW_NPP_Ra.county_rangeland_npp, s = 5)\n",
    "ax1.set_xlabel(\"rangeland_acre\");\n",
    "ax1.set_ylabel(\"county_rangeland_npp\");\n",
    "#############\n",
    "ax2.scatter(cnty_ann_SW_NPP_Ra.rangeland_acre, cnty_ann_SW_NPP_Ra.cattle_cow_beef_inventory, s = 5)\n",
    "ax2.set_xlabel(\"rangeland acres\");\n",
    "ax2.set_ylabel(\"cow count\");\n",
    "#############\n",
    "fig.tight_layout()\n",
    "plt.show()"
   ]
  },
  {
   "cell_type": "code",
   "execution_count": 93,
   "id": "9356445a",
   "metadata": {},
   "outputs": [],
   "source": [
    "# NPP = pd.read_csv(Min_data_base + \"county_annual_MODIS_NPP.csv\")\n",
    "# RA = pd.read_csv(reOrganized_dir + \"county_rangeland_and_totalarea_fraction.csv\")\n",
    "# RA.rename(columns={\"fips_id\": \"county_fips\"}, inplace=True)\n",
    "# NPP.rename(columns={\"county\": \"county_fips\"}, inplace=True)\n",
    "# NPP_RA = pd.merge(NPP, RA, on=[\"county_fips\"], how=\"left\")\n",
    "# fig, axes = plt.subplots(1, 1, figsize=(5, 5), sharey=True)\n",
    "# axes.grid(axis='y', which='both');\n",
    "# axes.scatter(NPP_RA.rangeland_acre, NPP_RA.NPP, s = 5)\n",
    "# axes.set_xlabel(\"Acres\");\n",
    "# axes.set_ylabel(\"NPP\");\n",
    "# plt.show()"
   ]
  },
  {
   "cell_type": "code",
   "execution_count": 94,
   "id": "94d360d4",
   "metadata": {},
   "outputs": [
    {
     "data": {
      "text/html": [
       "<div>\n",
       "<style scoped>\n",
       "    .dataframe tbody tr th:only-of-type {\n",
       "        vertical-align: middle;\n",
       "    }\n",
       "\n",
       "    .dataframe tbody tr th {\n",
       "        vertical-align: top;\n",
       "    }\n",
       "\n",
       "    .dataframe thead th {\n",
       "        text-align: right;\n",
       "    }\n",
       "</style>\n",
       "<table border=\"1\" class=\"dataframe\">\n",
       "  <thead>\n",
       "    <tr style=\"text-align: right;\">\n",
       "      <th></th>\n",
       "      <th>year</th>\n",
       "      <th>county_fips</th>\n",
       "      <th>county_rangeland_npp</th>\n",
       "      <th>rangeland_acre</th>\n",
       "      <th>county_area_acre</th>\n",
       "      <th>rangeland_fraction</th>\n",
       "      <th>cattle_cow_beef_inventory</th>\n",
       "      <th>S1_countyMean_total_precip</th>\n",
       "      <th>S2_countyMean_total_precip</th>\n",
       "      <th>S3_countyMean_total_precip</th>\n",
       "      <th>S4_countyMean_total_precip</th>\n",
       "      <th>S1_countyMean_avg_Tavg</th>\n",
       "      <th>S2_countyMean_avg_Tavg</th>\n",
       "      <th>S3_countyMean_avg_Tavg</th>\n",
       "      <th>S4_countyMean_avg_Tavg</th>\n",
       "      <th>herb_avg</th>\n",
       "      <th>herb_std</th>\n",
       "      <th>pixel_count</th>\n",
       "      <th>modis_npp</th>\n",
       "    </tr>\n",
       "  </thead>\n",
       "  <tbody>\n",
       "    <tr>\n",
       "      <th>0</th>\n",
       "      <td>2002</td>\n",
       "      <td>01055</td>\n",
       "      <td>130631.174115</td>\n",
       "      <td>57.60</td>\n",
       "      <td>352368.00</td>\n",
       "      <td>0.000163</td>\n",
       "      <td>12020.0</td>\n",
       "      <td>384.081</td>\n",
       "      <td>381.902</td>\n",
       "      <td>297.505</td>\n",
       "      <td>444.936</td>\n",
       "      <td>8.504456</td>\n",
       "      <td>22.419525</td>\n",
       "      <td>25.522639</td>\n",
       "      <td>11.011326</td>\n",
       "      <td>29.333333</td>\n",
       "      <td>32.293790</td>\n",
       "      <td>3.0</td>\n",
       "      <td>0.560410</td>\n",
       "    </tr>\n",
       "    <tr>\n",
       "      <th>1</th>\n",
       "      <td>2002</td>\n",
       "      <td>01129</td>\n",
       "      <td>206902.523895</td>\n",
       "      <td>95.62</td>\n",
       "      <td>697429.12</td>\n",
       "      <td>0.000137</td>\n",
       "      <td>5364.0</td>\n",
       "      <td>363.117</td>\n",
       "      <td>419.090</td>\n",
       "      <td>391.772</td>\n",
       "      <td>572.797</td>\n",
       "      <td>11.222078</td>\n",
       "      <td>24.012369</td>\n",
       "      <td>26.272246</td>\n",
       "      <td>14.197446</td>\n",
       "      <td>13.133851</td>\n",
       "      <td>15.783407</td>\n",
       "      <td>1158.0</td>\n",
       "      <td>0.534686</td>\n",
       "    </tr>\n",
       "  </tbody>\n",
       "</table>\n",
       "</div>"
      ],
      "text/plain": [
       "   year county_fips  county_rangeland_npp  rangeland_acre  county_area_acre   \n",
       "0  2002       01055         130631.174115           57.60         352368.00  \\\n",
       "1  2002       01129         206902.523895           95.62         697429.12   \n",
       "\n",
       "   rangeland_fraction  cattle_cow_beef_inventory  S1_countyMean_total_precip   \n",
       "0            0.000163                    12020.0                     384.081  \\\n",
       "1            0.000137                     5364.0                     363.117   \n",
       "\n",
       "   S2_countyMean_total_precip  S3_countyMean_total_precip   \n",
       "0                     381.902                     297.505  \\\n",
       "1                     419.090                     391.772   \n",
       "\n",
       "   S4_countyMean_total_precip  S1_countyMean_avg_Tavg  S2_countyMean_avg_Tavg   \n",
       "0                     444.936                8.504456               22.419525  \\\n",
       "1                     572.797               11.222078               24.012369   \n",
       "\n",
       "   S3_countyMean_avg_Tavg  S4_countyMean_avg_Tavg   herb_avg   herb_std   \n",
       "0               25.522639               11.011326  29.333333  32.293790  \\\n",
       "1               26.272246               14.197446  13.133851  15.783407   \n",
       "\n",
       "   pixel_count  modis_npp  \n",
       "0          3.0   0.560410  \n",
       "1       1158.0   0.534686  "
      ]
     },
     "execution_count": 94,
     "metadata": {},
     "output_type": "execute_result"
    }
   ],
   "source": [
    "cnty_ann_SW_NPP_Ra.head(2)"
   ]
  },
  {
   "cell_type": "markdown",
   "id": "87d5c69b",
   "metadata": {},
   "source": [
    "# Residual Plots"
   ]
  },
  {
   "cell_type": "code",
   "execution_count": 95,
   "id": "59de3619",
   "metadata": {},
   "outputs": [
    {
     "data": {
      "image/png": "[encoded data removed]",
      "text/plain": [
       "<Figure size 800x400 with 2 Axes>"
      ]
     },
     "metadata": {},
     "output_type": "display_data"
    }
   ],
   "source": [
    "fig, axes = plt.subplots(1, 2, figsize=(8, 4), sharey=True)\n",
    "(ax1, ax2) = axes;\n",
    "ax1.grid(axis='y', which='both'); ax2.grid(axis='y', which='both');\n",
    "##################################################\n",
    "ax1.scatter(y_2012, NPP_res2012_Model2017, s = 5)\n",
    "ax1.set_xlabel(\"y_2012\");\n",
    "ax1.set_ylabel(\"NPP_res2012_Model2017\");\n",
    "##################################################\n",
    "ax2.scatter(y_2012, SW_res2012_Model2017, s = 5)\n",
    "ax2.set_xlabel(\"y_2012\");\n",
    "ax2.set_ylabel(\"SW_res2012_Model2017\");\n",
    "plt.show()"
   ]
  },
  {
   "cell_type": "code",
   "execution_count": 96,
   "id": "6539f0f9",
   "metadata": {},
   "outputs": [
    {
     "data": {
      "image/png": "[encoded data removed]",
      "text/plain": [
       "<Figure size 800x400 with 2 Axes>"
      ]
     },
     "metadata": {},
     "output_type": "display_data"
    }
   ],
   "source": [
    "fig, axes = plt.subplots(1, 2, figsize=(8, 4), sharey=True)\n",
    "(ax1, ax2) = axes;\n",
    "ax1.grid(axis='y', which='both'); \n",
    "ax2.grid(axis='y', which='both');\n",
    "##################################################\n",
    "ax1.scatter(NPP_yhat2012_Model2017, NPP_res2012_Model2017, s = 5)\n",
    "ax1.set_xlabel(\"NPP_yhat2012_Model2017\");\n",
    "ax1.set_ylabel(\"NPP_res2012_Model2017\");\n",
    "##################################################\n",
    "ax2.scatter(SW_yhat2012_Model2017, SW_res2012_Model2017, s = 5)\n",
    "ax2.set_xlabel(\"SW_yhat2012_Model2017\");\n",
    "ax2.set_ylabel(\"SW_res2012_Model2017\");\n",
    "plt.show()"
   ]
  },
  {
   "cell_type": "code",
   "execution_count": null,
   "id": "ef15a140",
   "metadata": {},
   "outputs": [],
   "source": []
  },
  {
   "cell_type": "code",
   "execution_count": 97,
   "id": "28af267c",
   "metadata": {},
   "outputs": [
    {
     "data": {
      "image/png": "[encoded data removed]",
      "text/plain": [
       "<Figure size 800x400 with 2 Axes>"
      ]
     },
     "metadata": {},
     "output_type": "display_data"
    }
   ],
   "source": [
    "fig, axes = plt.subplots(1, 2, figsize=(8, 4), sharey=True)\n",
    "(ax1, ax2) = axes;\n",
    "ax1.grid(axis='y', which='both'); \n",
    "ax2.grid(axis='y', which='both');\n",
    "##################################################\n",
    "ax1.scatter(SW_Ra_cattleInv_2012.rangeland_acre, NPP_res2012_Model2017, s = 5)\n",
    "ax1.set_xlabel(\"acre\");\n",
    "ax1.set_ylabel(\"NPP_res2012_Model2017\");\n",
    "##################################################\n",
    "ax2.scatter(NPP_Ra_cattleInv_2012.rangeland_acre, SW_res2012_Model2017, s = 5)\n",
    "ax2.set_xlabel(\"acre\");\n",
    "ax2.set_ylabel(\"SW_res2012_Model2017\");\n",
    "##################################################\n",
    "plt.show()"
   ]
  },
  {
   "cell_type": "code",
   "execution_count": 98,
   "id": "fc5c59ed",
   "metadata": {},
   "outputs": [
    {
     "data": {
      "image/png": "[encoded data removed]",
      "text/plain": [
       "<Figure size 800x400 with 2 Axes>"
      ]
     },
     "metadata": {},
     "output_type": "display_data"
    }
   ],
   "source": [
    "fig, axes = plt.subplots(1, 2, figsize=(8, 4), sharey=True)\n",
    "(ax1, ax2) = axes;\n",
    "ax1.grid(axis='y', which='both'); \n",
    "ax2.grid(axis='y', which='both');\n",
    "##################################################\n",
    "ax1.scatter(SW_Ra_cattleInv_2012.rangeland_acre, NPP_res2012_Model2017, s = 5)\n",
    "ax1.set_xlabel(\"acre\");\n",
    "ax1.set_ylabel(\"NPP: res2012, Model2017\");\n",
    "##################################################\n",
    "ax2.scatter(NPP_Ra_cattleInv_2012.rangeland_acre, SW_res2012_Model2017, s = 5)\n",
    "ax2.set_xlabel(\"acre\");\n",
    "ax2.set_ylabel(\"SW: res2012, Model2017\");\n",
    "plt.show()"
   ]
  },
  {
   "cell_type": "markdown",
   "id": "708d4ab7",
   "metadata": {},
   "source": [
    "## Model with ```log```\n",
    "\n",
    "#### Plot logs first."
   ]
  },
  {
   "cell_type": "code",
   "execution_count": 99,
   "id": "06211890",
   "metadata": {},
   "outputs": [],
   "source": [
    "# ax1.set_title(r'$d_n$')\n",
    "# ax1.set_title('2nd root');\n",
    "# ax2.set_title('log10');\n",
    "# ax3.set_title('log10');"
   ]
  },
  {
   "cell_type": "code",
   "execution_count": 100,
   "id": "b475c42e",
   "metadata": {
    "lines_to_next_cell": 2
   },
   "outputs": [
    {
     "data": {
      "image/png": "[encoded data removed]",
      "text/plain": [
       "<Figure size 1000x600 with 3 Axes>"
      ]
     },
     "metadata": {},
     "output_type": "display_data"
    }
   ],
   "source": [
    "fig, axes = plt.subplots(3, 1, figsize=(10, 6), sharey=False, sharex=False)\n",
    "(ax1, ax2, ax3) = axes;\n",
    "ax1.grid(axis='y', which='both'); ax2.grid(axis='y', which='both'); ax3.grid(axis='y', which='both');\n",
    "\n",
    "text_size, text_color = \"large\", \"r\"\n",
    "\n",
    "data_ = cnty_ann_SW_NPP_Ra.county_rangeland_npp\n",
    "sns.histplot(data = np.sqrt(data_), kde = True, bins=200, color = 'darkblue', ax=ax1);\n",
    "ax1.text(x=np.sqrt(data_).min()+500, y=200, s='2nd root', fontsize=text_size, color=text_color)\n",
    "###########################################\n",
    "sns.histplot(data = np.log10(data_) , kde = True, bins=200, color = 'darkblue', ax=ax2);\n",
    "ax2.text(x = np.log10(data_).min(), y=40, s='log10', fontsize=text_size, color=text_color)\n",
    "###########################################\n",
    "# sns.histplot(data = 1/data_, kde = True, bins=200, color = 'darkblue', ax=ax3);\n",
    "# ax3.text(x = (1/data_).min(), y=2000, s='inverse', fontsize=text_size, color=text_color)\n",
    "sns.histplot(data = data_, kde = True, bins=200, color = 'darkblue', ax=ax3);\n",
    "ax3.text(x = data_.min()+30000000, y=800, s='original', fontsize=text_size, color=text_color)\n",
    "\n",
    "\n",
    "ax1.set_xlabel(\"\"); ax2.set_xlabel(\"\"); ax3.set_xlabel(\"transformed county-rangeland-level NPP\");"
   ]
  },
  {
   "cell_type": "code",
   "execution_count": 101,
   "id": "fc9fc2a3",
   "metadata": {
    "lines_to_next_cell": 2
   },
   "outputs": [
    {
     "data": {
      "image/png": "[encoded data removed]",
      "text/plain": [
       "<Figure size 1000x600 with 3 Axes>"
      ]
     },
     "metadata": {},
     "output_type": "display_data"
    }
   ],
   "source": [
    "fig, axes = plt.subplots(3, 1, figsize=(10, 6), sharey=False, sharex=False)\n",
    "(ax1, ax2, ax3) = axes;\n",
    "ax1.grid(axis='y', which='both'); ax2.grid(axis='y', which='both'); ax3.grid(axis='y', which='both');\n",
    "\n",
    "text_size, text_color = \"large\", \"r\"\n",
    "\n",
    "data_ = cnty_ann_SW_NPP_Ra.rangeland_acre\n",
    "sns.histplot(data = np.sqrt(data_), kde = True, bins=200, color = 'darkblue', ax=ax1);\n",
    "ax1.text(x=np.sqrt(data_).min(), y=250, s='2nd root', fontsize=text_size, color=text_color)\n",
    "###########################################\n",
    "sns.histplot(data = np.log10(data_) , kde = True, bins=200, color = 'darkblue', ax=ax2);\n",
    "ax2.text(x = np.log10(data_).min(), y=40, s='log10', fontsize=text_size, color=text_color);\n",
    "###########################################\n",
    "sns.histplot(data = data_ , kde = True, bins=200, color = 'darkblue', ax=ax3);\n",
    "ax3.text(x = data_.min()+1, y=1000, s='original', fontsize=text_size, color=text_color);"
   ]
  },
  {
   "cell_type": "code",
   "execution_count": 102,
   "id": "cad1cb23",
   "metadata": {
    "lines_to_next_cell": 2
   },
   "outputs": [
    {
     "data": {
      "image/png": "[encoded data removed]",
      "text/plain": [
       "<Figure size 1000x600 with 3 Axes>"
      ]
     },
     "metadata": {},
     "output_type": "display_data"
    }
   ],
   "source": [
    "fig, axes = plt.subplots(3, 1, figsize=(10, 6), sharey=False, sharex=False)\n",
    "(ax1, ax2, ax3) = axes;\n",
    "ax1.grid(axis='y', which='both'); ax2.grid(axis='y', which='both'); ax3.grid(axis='y', which='both');\n",
    "\n",
    "text_size, text_color = \"large\", \"r\"\n",
    "\n",
    "data_ = cnty_ann_SW_NPP_Ra[inv_col_]\n",
    "\n",
    "sns.histplot(data=np.sqrt(data_), kde = True, bins=200, color = 'darkblue', ax=ax1);\n",
    "ax1.text(x = np.sqrt(data_).min(), y = 40, s='2nd root', fontsize = text_size, color = text_color)\n",
    "###########################################\n",
    "\n",
    "sns.histplot(data=np.log10(data_) , kde = True, bins=200, color = 'darkblue', ax=ax2);\n",
    "ax2.text(x=np.log10(data_).min(), y=40, s='log10', fontsize=text_size, color=text_color)\n",
    "###########################################\n",
    "sns.histplot(data=data_, kde = True, bins=200, color = 'darkblue', ax=ax3);\n",
    "ax3.text(x=data_.max()-10000, y=40, s='original', fontsize=text_size, color=text_color);\n",
    "\n",
    "ax1.set_xlabel(\"\"); ax2.set_xlabel(\"\"); ax3.set_xlabel(\"transformed inventory\");"
   ]
  },
  {
   "cell_type": "code",
   "execution_count": 103,
   "id": "34e61975",
   "metadata": {
    "lines_to_next_cell": 2
   },
   "outputs": [
    {
     "name": "stderr",
     "output_type": "stream",
     "text": [
      "/opt/homebrew/lib/python3.11/site-packages/pandas/core/arraylike.py:396: RuntimeWarning: divide by zero encountered in log\n",
      "  result = getattr(ufunc, method)(*inputs, **kwargs)\n",
      "/opt/homebrew/lib/python3.11/site-packages/pandas/core/arraylike.py:396: RuntimeWarning: divide by zero encountered in log\n",
      "  result = getattr(ufunc, method)(*inputs, **kwargs)\n"
     ]
    },
    {
     "data": {
      "image/png": "[encoded data removed]",
      "text/plain": [
       "<Figure size 1000x600 with 3 Axes>"
      ]
     },
     "metadata": {},
     "output_type": "display_data"
    }
   ],
   "source": [
    "fig, axes = plt.subplots(3, 1, figsize=(10, 6), sharey=False, sharex=False)\n",
    "(ax1, ax2, ax3) = axes;\n",
    "ax1.grid(axis='y', which='both'); ax2.grid(axis='y', which='both'); ax3.grid(axis='y', which='both');\n",
    "\n",
    "text_size, text_color = \"large\", \"r\"\n",
    "\n",
    "herb_col = \"herb_avg\"\n",
    "data_ = cnty_ann_SW_NPP_Ra[herb_col]\n",
    "\n",
    "sns.histplot(data=np.sqrt(data_), kde = True, bins=200, color = 'darkblue', ax=ax1);\n",
    "ax1.text(x = np.sqrt(data_).min(), y = 40, s='2nd root', fontsize = text_size, color = text_color)\n",
    "###########################################\n",
    "\n",
    "sns.histplot(data=np.log(data_), kde = True, bins=200, color = 'darkblue', ax=ax2);\n",
    "ax2.text(x=np.log(data_).max()/3, y=40, s='log', fontsize=text_size, color=text_color)\n",
    "\n",
    "# ###########################################\n",
    "sns.histplot(data=data_, kde = True, bins=200, color = 'darkblue', ax=ax3);\n",
    "ax3.text(x=data_.min(), y=40, s='original', fontsize=text_size, color=text_color);\n",
    "\n",
    "ax1.set_xlabel(\"\"); ax2.set_xlabel(\"\"); ax3.set_xlabel(\"transformed herb ratio\");"
   ]
  },
  {
   "cell_type": "markdown",
   "id": "8be78535",
   "metadata": {},
   "source": [
    "## OLS w/ 2nd root of inventory and log of NPP, and log of rangeland acre"
   ]
  },
  {
   "cell_type": "code",
   "execution_count": 104,
   "id": "c7bd8d34",
   "metadata": {},
   "outputs": [
    {
     "data": {
      "text/html": [
       "<div>\n",
       "<style scoped>\n",
       "    .dataframe tbody tr th:only-of-type {\n",
       "        vertical-align: middle;\n",
       "    }\n",
       "\n",
       "    .dataframe tbody tr th {\n",
       "        vertical-align: top;\n",
       "    }\n",
       "\n",
       "    .dataframe thead th {\n",
       "        text-align: right;\n",
       "    }\n",
       "</style>\n",
       "<table border=\"1\" class=\"dataframe\">\n",
       "  <thead>\n",
       "    <tr style=\"text-align: right;\">\n",
       "      <th></th>\n",
       "      <th>year</th>\n",
       "      <th>county_fips</th>\n",
       "      <th>rangeland_acre</th>\n",
       "      <th>county_area_acre</th>\n",
       "      <th>rangeland_fraction</th>\n",
       "      <th>county_rangeland_npp</th>\n",
       "      <th>cattle_cow_beef_inventory</th>\n",
       "      <th>herb_avg</th>\n",
       "      <th>herb_std</th>\n",
       "      <th>pixel_count</th>\n",
       "    </tr>\n",
       "  </thead>\n",
       "  <tbody>\n",
       "    <tr>\n",
       "      <th>0</th>\n",
       "      <td>2002</td>\n",
       "      <td>01055</td>\n",
       "      <td>57.60</td>\n",
       "      <td>352368.00</td>\n",
       "      <td>0.000163</td>\n",
       "      <td>130631.174115</td>\n",
       "      <td>12020.0</td>\n",
       "      <td>29.333333</td>\n",
       "      <td>32.293790</td>\n",
       "      <td>3.0</td>\n",
       "    </tr>\n",
       "    <tr>\n",
       "      <th>1</th>\n",
       "      <td>2002</td>\n",
       "      <td>01129</td>\n",
       "      <td>95.62</td>\n",
       "      <td>697429.12</td>\n",
       "      <td>0.000137</td>\n",
       "      <td>206902.523895</td>\n",
       "      <td>5364.0</td>\n",
       "      <td>13.133851</td>\n",
       "      <td>15.783407</td>\n",
       "      <td>1158.0</td>\n",
       "    </tr>\n",
       "  </tbody>\n",
       "</table>\n",
       "</div>"
      ],
      "text/plain": [
       "   year county_fips  rangeland_acre  county_area_acre  rangeland_fraction   \n",
       "0  2002       01055           57.60         352368.00            0.000163  \\\n",
       "1  2002       01129           95.62         697429.12            0.000137   \n",
       "\n",
       "   county_rangeland_npp  cattle_cow_beef_inventory   herb_avg   herb_std   \n",
       "0         130631.174115                    12020.0  29.333333  32.293790  \\\n",
       "1         206902.523895                     5364.0  13.133851  15.783407   \n",
       "\n",
       "   pixel_count  \n",
       "0          3.0  \n",
       "1       1158.0  "
      ]
     },
     "execution_count": 104,
     "metadata": {},
     "output_type": "execute_result"
    }
   ],
   "source": [
    "county_annual_NPP_Ra_cattleInv.head(2)"
   ]
  },
  {
   "cell_type": "code",
   "execution_count": 105,
   "id": "ea8ca6d2",
   "metadata": {},
   "outputs": [],
   "source": [
    "county_annual_NPP_Ra_cattleInv[\"sqrt_cattle_cow_beef_inventory\"] = \\\n",
    "              np.sqrt(county_annual_NPP_Ra_cattleInv[\"cattle_cow_beef_inventory\"])\n",
    "    \n",
    "county_annual_NPP_Ra_cattleInv[\"log_county_rangeland_npp\"] = \\\n",
    "                             np.log10(county_annual_NPP_Ra_cattleInv[\"county_rangeland_npp\"])\n",
    "    \n",
    "county_annual_NPP_Ra_cattleInv[\"log_rangeland_acre\"] = np.log10(county_annual_NPP_Ra_cattleInv[\"rangeland_acre\"])"
   ]
  },
  {
   "cell_type": "code",
   "execution_count": 106,
   "id": "a56b44c4",
   "metadata": {},
   "outputs": [
    {
     "data": {
      "text/html": [
       "<div>\n",
       "<style scoped>\n",
       "    .dataframe tbody tr th:only-of-type {\n",
       "        vertical-align: middle;\n",
       "    }\n",
       "\n",
       "    .dataframe tbody tr th {\n",
       "        vertical-align: top;\n",
       "    }\n",
       "\n",
       "    .dataframe thead th {\n",
       "        text-align: right;\n",
       "    }\n",
       "</style>\n",
       "<table border=\"1\" class=\"dataframe\">\n",
       "  <thead>\n",
       "    <tr style=\"text-align: right;\">\n",
       "      <th></th>\n",
       "      <th>year</th>\n",
       "      <th>county_fips</th>\n",
       "      <th>rangeland_acre</th>\n",
       "      <th>county_area_acre</th>\n",
       "      <th>rangeland_fraction</th>\n",
       "      <th>county_rangeland_npp</th>\n",
       "      <th>cattle_cow_beef_inventory</th>\n",
       "      <th>herb_avg</th>\n",
       "      <th>herb_std</th>\n",
       "      <th>pixel_count</th>\n",
       "      <th>sqrt_cattle_cow_beef_inventory</th>\n",
       "      <th>log_county_rangeland_npp</th>\n",
       "      <th>log_rangeland_acre</th>\n",
       "    </tr>\n",
       "  </thead>\n",
       "  <tbody>\n",
       "    <tr>\n",
       "      <th>2031</th>\n",
       "      <td>2017</td>\n",
       "      <td>01055</td>\n",
       "      <td>57.60</td>\n",
       "      <td>352368.00</td>\n",
       "      <td>0.000163</td>\n",
       "      <td>205588.913435</td>\n",
       "      <td>8872.0</td>\n",
       "      <td>29.333333</td>\n",
       "      <td>32.293790</td>\n",
       "      <td>3.0</td>\n",
       "      <td>94.191295</td>\n",
       "      <td>5.313000</td>\n",
       "      <td>1.760422</td>\n",
       "    </tr>\n",
       "    <tr>\n",
       "      <th>2032</th>\n",
       "      <td>2017</td>\n",
       "      <td>01129</td>\n",
       "      <td>95.62</td>\n",
       "      <td>697429.12</td>\n",
       "      <td>0.000137</td>\n",
       "      <td>338831.349761</td>\n",
       "      <td>6884.0</td>\n",
       "      <td>13.133851</td>\n",
       "      <td>15.783407</td>\n",
       "      <td>1158.0</td>\n",
       "      <td>82.969874</td>\n",
       "      <td>5.529984</td>\n",
       "      <td>1.980549</td>\n",
       "    </tr>\n",
       "  </tbody>\n",
       "</table>\n",
       "</div>"
      ],
      "text/plain": [
       "      year county_fips  rangeland_acre  county_area_acre  rangeland_fraction   \n",
       "2031  2017       01055           57.60         352368.00            0.000163  \\\n",
       "2032  2017       01129           95.62         697429.12            0.000137   \n",
       "\n",
       "      county_rangeland_npp  cattle_cow_beef_inventory   herb_avg   herb_std   \n",
       "2031         205588.913435                     8872.0  29.333333  32.293790  \\\n",
       "2032         338831.349761                     6884.0  13.133851  15.783407   \n",
       "\n",
       "      pixel_count  sqrt_cattle_cow_beef_inventory  log_county_rangeland_npp   \n",
       "2031          3.0                       94.191295                  5.313000  \\\n",
       "2032       1158.0                       82.969874                  5.529984   \n",
       "\n",
       "      log_rangeland_acre  \n",
       "2031            1.760422  \n",
       "2032            1.980549  "
      ]
     },
     "execution_count": 106,
     "metadata": {},
     "output_type": "execute_result"
    }
   ],
   "source": [
    "NPP_Ra_cattleInv_2017 = county_annual_NPP_Ra_cattleInv[\n",
    "                                        county_annual_NPP_Ra_cattleInv.year==2017].copy()\n",
    "# NPP_Ra_cattleInv_2017 = NPP_Ra_cattleInv_2017.round(decimals=2)\n",
    "NPP_Ra_cattleInv_2017.head(2)"
   ]
  },
  {
   "cell_type": "code",
   "execution_count": 107,
   "id": "dde16459",
   "metadata": {},
   "outputs": [],
   "source": [
    "inv_col_ = \"sqrt_cattle_cow_beef_inventory\""
   ]
  },
  {
   "cell_type": "code",
   "execution_count": 108,
   "id": "2f329135",
   "metadata": {},
   "outputs": [
    {
     "data": {
      "text/html": [
       "<div>\n",
       "<style scoped>\n",
       "    .dataframe tbody tr th:only-of-type {\n",
       "        vertical-align: middle;\n",
       "    }\n",
       "\n",
       "    .dataframe tbody tr th {\n",
       "        vertical-align: top;\n",
       "    }\n",
       "\n",
       "    .dataframe thead th {\n",
       "        text-align: right;\n",
       "    }\n",
       "</style>\n",
       "<table border=\"1\" class=\"dataframe\">\n",
       "  <thead>\n",
       "    <tr style=\"text-align: right;\">\n",
       "      <th></th>\n",
       "      <th>year</th>\n",
       "      <th>county_fips</th>\n",
       "      <th>rangeland_acre</th>\n",
       "      <th>county_area_acre</th>\n",
       "      <th>rangeland_fraction</th>\n",
       "      <th>county_rangeland_npp</th>\n",
       "      <th>cattle_cow_beef_inventory</th>\n",
       "      <th>herb_avg</th>\n",
       "      <th>herb_std</th>\n",
       "      <th>pixel_count</th>\n",
       "      <th>sqrt_cattle_cow_beef_inventory</th>\n",
       "      <th>log_county_rangeland_npp</th>\n",
       "      <th>log_rangeland_acre</th>\n",
       "    </tr>\n",
       "  </thead>\n",
       "  <tbody>\n",
       "    <tr>\n",
       "      <th>2031</th>\n",
       "      <td>2017</td>\n",
       "      <td>01055</td>\n",
       "      <td>57.60</td>\n",
       "      <td>352368.00</td>\n",
       "      <td>0.000163</td>\n",
       "      <td>205588.913435</td>\n",
       "      <td>8872.0</td>\n",
       "      <td>29.333333</td>\n",
       "      <td>32.293790</td>\n",
       "      <td>3.0</td>\n",
       "      <td>94.191295</td>\n",
       "      <td>5.313000</td>\n",
       "      <td>1.760422</td>\n",
       "    </tr>\n",
       "    <tr>\n",
       "      <th>2032</th>\n",
       "      <td>2017</td>\n",
       "      <td>01129</td>\n",
       "      <td>95.62</td>\n",
       "      <td>697429.12</td>\n",
       "      <td>0.000137</td>\n",
       "      <td>338831.349761</td>\n",
       "      <td>6884.0</td>\n",
       "      <td>13.133851</td>\n",
       "      <td>15.783407</td>\n",
       "      <td>1158.0</td>\n",
       "      <td>82.969874</td>\n",
       "      <td>5.529984</td>\n",
       "      <td>1.980549</td>\n",
       "    </tr>\n",
       "  </tbody>\n",
       "</table>\n",
       "</div>"
      ],
      "text/plain": [
       "      year county_fips  rangeland_acre  county_area_acre  rangeland_fraction   \n",
       "2031  2017       01055           57.60         352368.00            0.000163  \\\n",
       "2032  2017       01129           95.62         697429.12            0.000137   \n",
       "\n",
       "      county_rangeland_npp  cattle_cow_beef_inventory   herb_avg   herb_std   \n",
       "2031         205588.913435                     8872.0  29.333333  32.293790  \\\n",
       "2032         338831.349761                     6884.0  13.133851  15.783407   \n",
       "\n",
       "      pixel_count  sqrt_cattle_cow_beef_inventory  log_county_rangeland_npp   \n",
       "2031          3.0                       94.191295                  5.313000  \\\n",
       "2032       1158.0                       82.969874                  5.529984   \n",
       "\n",
       "      log_rangeland_acre  \n",
       "2031            1.760422  \n",
       "2032            1.980549  "
      ]
     },
     "execution_count": 108,
     "metadata": {},
     "output_type": "execute_result"
    }
   ],
   "source": [
    "NPP_Ra_cattleInv_2017.head(2)"
   ]
  },
  {
   "cell_type": "code",
   "execution_count": 109,
   "id": "be3ea2a1",
   "metadata": {},
   "outputs": [
    {
     "name": "stdout",
     "output_type": "stream",
     "text": [
      "(677, 4)\n",
      "y_2017.shape = (677,)\n"
     ]
    }
   ],
   "source": [
    "NPP_A_2017 = NPP_Ra_cattleInv_2017[[\"county_rangeland_npp\", \"log_rangeland_acre\", \"herb_avg\"]].values\n",
    "NPP_A_2017 = np.hstack([NPP_A_2017, np.ones(len(NPP_A_2017)).reshape(-1, 1)])\n",
    "print (NPP_A_2017.shape)\n",
    "\n",
    "y_2017 = NPP_Ra_cattleInv_2017[[inv_col_]].values.reshape(-1)\n",
    "print (f\"{y_2017.shape = }\")"
   ]
  },
  {
   "cell_type": "code",
   "execution_count": 110,
   "id": "526e46cb",
   "metadata": {},
   "outputs": [
    {
     "data": {
      "text/plain": [
       "array([ 3.63010586e-08, -6.48542882e+00,  9.24617542e-01,  8.15652234e+01])"
      ]
     },
     "execution_count": 110,
     "metadata": {},
     "output_type": "execute_result"
    }
   ],
   "source": [
    "NPP_sol_2017, NPP_RSS_2017, NPP_rank_2017, NPP_singular_vals_2017  = np.linalg.lstsq(NPP_A_2017, y_2017)\n",
    "NPP_sol_2017"
   ]
  },
  {
   "cell_type": "code",
   "execution_count": 111,
   "id": "f8ec4fcf",
   "metadata": {},
   "outputs": [],
   "source": [
    "NPP_Ra_cattleInv_2012 = county_annual_NPP_Ra_cattleInv[\n",
    "                                        county_annual_NPP_Ra_cattleInv.year==2012].copy()\n",
    "\n",
    "y_2012 = NPP_Ra_cattleInv_2012[[inv_col_]].values.reshape(-1)"
   ]
  },
  {
   "cell_type": "code",
   "execution_count": 112,
   "id": "ecb2681e",
   "metadata": {},
   "outputs": [
    {
     "data": {
      "text/html": [
       "<div>\n",
       "<style scoped>\n",
       "    .dataframe tbody tr th:only-of-type {\n",
       "        vertical-align: middle;\n",
       "    }\n",
       "\n",
       "    .dataframe tbody tr th {\n",
       "        vertical-align: top;\n",
       "    }\n",
       "\n",
       "    .dataframe thead th {\n",
       "        text-align: right;\n",
       "    }\n",
       "</style>\n",
       "<table border=\"1\" class=\"dataframe\">\n",
       "  <thead>\n",
       "    <tr style=\"text-align: right;\">\n",
       "      <th></th>\n",
       "      <th>year</th>\n",
       "      <th>county_fips</th>\n",
       "      <th>rangeland_acre</th>\n",
       "      <th>county_area_acre</th>\n",
       "      <th>rangeland_fraction</th>\n",
       "      <th>county_rangeland_npp</th>\n",
       "      <th>cattle_cow_beef_inventory</th>\n",
       "      <th>herb_avg</th>\n",
       "      <th>herb_std</th>\n",
       "      <th>pixel_count</th>\n",
       "      <th>sqrt_cattle_cow_beef_inventory</th>\n",
       "      <th>log_county_rangeland_npp</th>\n",
       "      <th>log_rangeland_acre</th>\n",
       "    </tr>\n",
       "  </thead>\n",
       "  <tbody>\n",
       "    <tr>\n",
       "      <th>1354</th>\n",
       "      <td>2012</td>\n",
       "      <td>01055</td>\n",
       "      <td>57.60</td>\n",
       "      <td>352368.00</td>\n",
       "      <td>0.000163</td>\n",
       "      <td>164943.388247</td>\n",
       "      <td>10647.0</td>\n",
       "      <td>29.333333</td>\n",
       "      <td>32.293790</td>\n",
       "      <td>3.0</td>\n",
       "      <td>103.184301</td>\n",
       "      <td>5.217335</td>\n",
       "      <td>1.760422</td>\n",
       "    </tr>\n",
       "    <tr>\n",
       "      <th>1355</th>\n",
       "      <td>2012</td>\n",
       "      <td>01129</td>\n",
       "      <td>95.62</td>\n",
       "      <td>697429.12</td>\n",
       "      <td>0.000137</td>\n",
       "      <td>266392.249292</td>\n",
       "      <td>4815.0</td>\n",
       "      <td>13.133851</td>\n",
       "      <td>15.783407</td>\n",
       "      <td>1158.0</td>\n",
       "      <td>69.390201</td>\n",
       "      <td>5.425522</td>\n",
       "      <td>1.980549</td>\n",
       "    </tr>\n",
       "  </tbody>\n",
       "</table>\n",
       "</div>"
      ],
      "text/plain": [
       "      year county_fips  rangeland_acre  county_area_acre  rangeland_fraction   \n",
       "1354  2012       01055           57.60         352368.00            0.000163  \\\n",
       "1355  2012       01129           95.62         697429.12            0.000137   \n",
       "\n",
       "      county_rangeland_npp  cattle_cow_beef_inventory   herb_avg   herb_std   \n",
       "1354         164943.388247                    10647.0  29.333333  32.293790  \\\n",
       "1355         266392.249292                     4815.0  13.133851  15.783407   \n",
       "\n",
       "      pixel_count  sqrt_cattle_cow_beef_inventory  log_county_rangeland_npp   \n",
       "1354          3.0                      103.184301                  5.217335  \\\n",
       "1355       1158.0                       69.390201                  5.425522   \n",
       "\n",
       "      log_rangeland_acre  \n",
       "1354            1.760422  \n",
       "1355            1.980549  "
      ]
     },
     "execution_count": 112,
     "metadata": {},
     "output_type": "execute_result"
    }
   ],
   "source": [
    "NPP_Ra_cattleInv_2012.head(2)"
   ]
  },
  {
   "cell_type": "code",
   "execution_count": 113,
   "id": "1e56966a",
   "metadata": {},
   "outputs": [],
   "source": [
    "NPP_A_2012 = NPP_Ra_cattleInv_2012[[\"log_county_rangeland_npp\", \"log_rangeland_acre\", \"herb_avg\"]].copy()\n",
    "NPP_A_2012 = NPP_A_2012.values\n",
    "\n",
    "NPP_A_2012 = np.hstack([NPP_A_2012, np.ones(len(NPP_A_2012)).reshape(-1, 1)])\n",
    "\n",
    "NPP_logyhat2012_Model2017 = NPP_A_2012 @ NPP_sol_2017"
   ]
  },
  {
   "cell_type": "code",
   "execution_count": 114,
   "id": "efa891e7",
   "metadata": {},
   "outputs": [],
   "source": [
    "## inverse of log10 to get actual prediction (as opposed to log of predictions)\n",
    "NPP_yhat2012_Model2017 = (NPP_logyhat2012_Model2017)**2"
   ]
  },
  {
   "cell_type": "code",
   "execution_count": 115,
   "id": "d12a5548",
   "metadata": {},
   "outputs": [],
   "source": [
    "NPP_res2012_transModel2017 = y_2012 - NPP_yhat2012_Model2017\n",
    "NPP_RSS2012_transModel2017 = np.dot(NPP_res2012_transModel2017, NPP_res2012_transModel2017)"
   ]
  },
  {
   "cell_type": "code",
   "execution_count": null,
   "id": "e84e9667",
   "metadata": {},
   "outputs": [],
   "source": []
  },
  {
   "cell_type": "markdown",
   "id": "5a1c0fb3",
   "metadata": {},
   "source": [
    "### unit ```NPP``` results were:\n",
    "\n",
    "- $\\text{RSS}_\\text{unit-NPP} = 107,997,845,546$\n",
    "- $\\text{MSE}_\\text{unit-NPP} = 155,392,584$\n",
    "- $\\text{RSE}_\\text{unit-NPP} = 12,466$"
   ]
  },
  {
   "cell_type": "code",
   "execution_count": 116,
   "id": "d9576219",
   "metadata": {},
   "outputs": [
    {
     "name": "stdout",
     "output_type": "stream",
     "text": [
      "NPP residual stats:\n",
      "    RSS = 88678641356.\n",
      "    MSE = 130987653.\n",
      "    RSE = 11445.\n",
      "\n",
      "NPP residual stats for transformed model:\n",
      "    RSS = 96261587730.\n",
      "    MSE = 142188460.\n",
      "    RSE = 11924.\n"
     ]
    }
   ],
   "source": [
    "print (\"NPP residual stats:\")\n",
    "print('    RSS = {0:.0f}.'.format(NPP_RSS2012_Model2017))\n",
    "print('    MSE = {0:.0f}.'.format(NPP_RSS2012_Model2017/len(y_2012)))\n",
    "print('    RSE = {0:.0f}.'.format(np.sqrt(NPP_RSS2012_Model2017/len(y_2012))))\n",
    "print ()\n",
    "print (\"NPP residual stats for transformed model:\")\n",
    "print('    RSS = {0:.0f}.'.format(NPP_RSS2012_transModel2017))\n",
    "print('    MSE = {0:.0f}.'.format(NPP_RSS2012_transModel2017/len(y_2012)))\n",
    "print('    RSE = {0:.0f}.'.format(np.sqrt(NPP_RSS2012_transModel2017/len(y_2012))))"
   ]
  },
  {
   "cell_type": "code",
   "execution_count": null,
   "id": "5884320a",
   "metadata": {},
   "outputs": [],
   "source": []
  },
  {
   "cell_type": "code",
   "execution_count": 119,
   "id": "65a0044f",
   "metadata": {},
   "outputs": [
    {
     "data": {
      "text/html": [
       "<div>\n",
       "<style scoped>\n",
       "    .dataframe tbody tr th:only-of-type {\n",
       "        vertical-align: middle;\n",
       "    }\n",
       "\n",
       "    .dataframe tbody tr th {\n",
       "        vertical-align: top;\n",
       "    }\n",
       "\n",
       "    .dataframe thead th {\n",
       "        text-align: right;\n",
       "    }\n",
       "</style>\n",
       "<table border=\"1\" class=\"dataframe\">\n",
       "  <thead>\n",
       "    <tr style=\"text-align: right;\">\n",
       "      <th></th>\n",
       "      <th>county_fips</th>\n",
       "      <th>year</th>\n",
       "      <th>S1_countyMean_total_precip</th>\n",
       "      <th>S2_countyMean_total_precip</th>\n",
       "      <th>S3_countyMean_total_precip</th>\n",
       "      <th>S4_countyMean_total_precip</th>\n",
       "      <th>S1_countyMean_avg_Tavg</th>\n",
       "      <th>S2_countyMean_avg_Tavg</th>\n",
       "      <th>S3_countyMean_avg_Tavg</th>\n",
       "      <th>S4_countyMean_avg_Tavg</th>\n",
       "      <th>rangeland_acre</th>\n",
       "      <th>county_area_acre</th>\n",
       "      <th>rangeland_fraction</th>\n",
       "      <th>cattle_cow_beef_inventory</th>\n",
       "      <th>herb_avg</th>\n",
       "      <th>herb_std</th>\n",
       "      <th>pixel_count</th>\n",
       "    </tr>\n",
       "  </thead>\n",
       "  <tbody>\n",
       "    <tr>\n",
       "      <th>0</th>\n",
       "      <td>01055</td>\n",
       "      <td>2002</td>\n",
       "      <td>384.081</td>\n",
       "      <td>381.902</td>\n",
       "      <td>297.505</td>\n",
       "      <td>444.936</td>\n",
       "      <td>8.504456</td>\n",
       "      <td>22.419525</td>\n",
       "      <td>25.522639</td>\n",
       "      <td>11.011326</td>\n",
       "      <td>57.60</td>\n",
       "      <td>352368.00</td>\n",
       "      <td>0.000163</td>\n",
       "      <td>12020.0</td>\n",
       "      <td>29.333333</td>\n",
       "      <td>32.293790</td>\n",
       "      <td>3.0</td>\n",
       "    </tr>\n",
       "    <tr>\n",
       "      <th>1</th>\n",
       "      <td>01129</td>\n",
       "      <td>2002</td>\n",
       "      <td>363.117</td>\n",
       "      <td>419.090</td>\n",
       "      <td>391.772</td>\n",
       "      <td>572.797</td>\n",
       "      <td>11.222078</td>\n",
       "      <td>24.012369</td>\n",
       "      <td>26.272246</td>\n",
       "      <td>14.197446</td>\n",
       "      <td>95.62</td>\n",
       "      <td>697429.12</td>\n",
       "      <td>0.000137</td>\n",
       "      <td>5364.0</td>\n",
       "      <td>13.133851</td>\n",
       "      <td>15.783407</td>\n",
       "      <td>1158.0</td>\n",
       "    </tr>\n",
       "    <tr>\n",
       "      <th>2</th>\n",
       "      <td>05045</td>\n",
       "      <td>2002</td>\n",
       "      <td>422.827</td>\n",
       "      <td>338.654</td>\n",
       "      <td>135.608</td>\n",
       "      <td>349.133</td>\n",
       "      <td>6.935567</td>\n",
       "      <td>22.680533</td>\n",
       "      <td>25.807393</td>\n",
       "      <td>10.087902</td>\n",
       "      <td>387.18</td>\n",
       "      <td>424472.96</td>\n",
       "      <td>0.000912</td>\n",
       "      <td>23495.0</td>\n",
       "      <td>33.881295</td>\n",
       "      <td>29.723249</td>\n",
       "      <td>834.0</td>\n",
       "    </tr>\n",
       "    <tr>\n",
       "      <th>3</th>\n",
       "      <td>05061</td>\n",
       "      <td>2002</td>\n",
       "      <td>372.685</td>\n",
       "      <td>360.113</td>\n",
       "      <td>84.730</td>\n",
       "      <td>400.327</td>\n",
       "      <td>7.929289</td>\n",
       "      <td>23.007746</td>\n",
       "      <td>26.363984</td>\n",
       "      <td>11.133174</td>\n",
       "      <td>459.68</td>\n",
       "      <td>381027.84</td>\n",
       "      <td>0.001206</td>\n",
       "      <td>21317.0</td>\n",
       "      <td>32.777778</td>\n",
       "      <td>32.531872</td>\n",
       "      <td>387.0</td>\n",
       "    </tr>\n",
       "  </tbody>\n",
       "</table>\n",
       "</div>"
      ],
      "text/plain": [
       "  county_fips  year  S1_countyMean_total_precip  S2_countyMean_total_precip   \n",
       "0       01055  2002                     384.081                     381.902  \\\n",
       "1       01129  2002                     363.117                     419.090   \n",
       "2       05045  2002                     422.827                     338.654   \n",
       "3       05061  2002                     372.685                     360.113   \n",
       "\n",
       "   S3_countyMean_total_precip  S4_countyMean_total_precip   \n",
       "0                     297.505                     444.936  \\\n",
       "1                     391.772                     572.797   \n",
       "2                     135.608                     349.133   \n",
       "3                      84.730                     400.327   \n",
       "\n",
       "   S1_countyMean_avg_Tavg  S2_countyMean_avg_Tavg  S3_countyMean_avg_Tavg   \n",
       "0                8.504456               22.419525               25.522639  \\\n",
       "1               11.222078               24.012369               26.272246   \n",
       "2                6.935567               22.680533               25.807393   \n",
       "3                7.929289               23.007746               26.363984   \n",
       "\n",
       "   S4_countyMean_avg_Tavg  rangeland_acre  county_area_acre   \n",
       "0               11.011326           57.60         352368.00  \\\n",
       "1               14.197446           95.62         697429.12   \n",
       "2               10.087902          387.18         424472.96   \n",
       "3               11.133174          459.68         381027.84   \n",
       "\n",
       "   rangeland_fraction  cattle_cow_beef_inventory   herb_avg   herb_std   \n",
       "0            0.000163                    12020.0  29.333333  32.293790  \\\n",
       "1            0.000137                     5364.0  13.133851  15.783407   \n",
       "2            0.000912                    23495.0  33.881295  29.723249   \n",
       "3            0.001206                    21317.0  32.777778  32.531872   \n",
       "\n",
       "   pixel_count  \n",
       "0          3.0  \n",
       "1       1158.0  \n",
       "2        834.0  \n",
       "3        387.0  "
      ]
     },
     "execution_count": 119,
     "metadata": {},
     "output_type": "execute_result"
    }
   ],
   "source": [
    "county_annual_SW_Ra_cattleInv.head(4)"
   ]
  },
  {
   "cell_type": "code",
   "execution_count": null,
   "id": "92200300",
   "metadata": {},
   "outputs": [],
   "source": []
  },
  {
   "cell_type": "code",
   "execution_count": null,
   "id": "605f1197",
   "metadata": {},
   "outputs": [],
   "source": []
  }
 ],
 "metadata": {
  "kernelspec": {
   "display_name": "Python 3 (ipykernel)",
   "language": "python",
   "name": "python3"
  },
  "language_info": {
   "codemirror_mode": {
    "name": "ipython",
    "version": 3
   },
   "file_extension": ".py",
   "mimetype": "text/x-python",
   "name": "python",
   "nbconvert_exporter": "python",
   "pygments_lexer": "ipython3",
   "version": "3.11.2"
  }
 },
 "nbformat": 4,
 "nbformat_minor": 5
}
